{
 "cells": [
  {
   "cell_type": "markdown",
   "metadata": {},
   "source": [
    "# <font color=blue>Natural Language Processing Fundamentals in Python</font> \n",
    "\n",
    "In this course, you'll learn Natural Language Processing (NLP) basics, such as how to identify and separate words, how to extract topics in a text, and how to build your own fake news classifier. You'll also learn how to use basic libraries such as NLTK, alongside libraries which utilize deep learning to solve common NLP problems. This course will give you the foundation to process and parse text as you move forward in your Python learning."
   ]
  },
  {
   "cell_type": "markdown",
   "metadata": {},
   "source": [
    "## <font color=red>01 -  Regular expressions & word tokenization </font> \n",
    "\n",
    " This chapter will introduce some basic NLP concepts, such as word tokenization and regular expressions to help parse text. You'll also learn how to handle non-English text and more difficult tokenization you might find as you explore the wide world of NLP. "
   ]
  },
  {
   "cell_type": "markdown",
   "metadata": {},
   "source": [
    "<div class=\"exercise--assignment exercise--typography\"><h1 class=\"exercise--title\">Which pattern?</h1><div class=\"\"><p><p>Which of the following Regex patterns results in the following text? </p>\n",
    "<pre><code>&gt;&gt;&gt; my_string = \"Let's write RegEx!\"\n",
    "&gt;&gt;&gt; re.findall(PATTERN, my_string)\n",
    "['Let', 's', 'write', 'RegEx']\n",
    "</code></pre>\n",
    "<p>In the IPython Shell, try replacing <code>PATTERN</code> with one of the below options and observe the resulting output. The <code>re</code> module has been pre-imported for you and <code>my_string</code> is available in your namespace.</p></div></div>"
   ]
  },
  {
   "cell_type": "code",
   "execution_count": 14,
   "metadata": {},
   "outputs": [],
   "source": [
    "import re\n",
    "my_string = \"Let's write RegEx!\"\n",
    "PATTERN1 = r\"\\s+\"\n",
    "PATTERN2 = r\"\\w+\"\n",
    "PATTERN3 = r\"[a-z]\"\n",
    "PATTERN4 = r\"\\w\""
   ]
  },
  {
   "cell_type": "code",
   "execution_count": 13,
   "metadata": {},
   "outputs": [
    {
     "name": "stdout",
     "output_type": "stream",
     "text": [
      "[' ', ' ']\n",
      "['Let', 's', 'write', 'RegEx']\n",
      "['e', 't', 's', 'w', 'r', 'i', 't', 'e', 'e', 'g', 'x']\n",
      "['L', 'e', 't', 's', 'w', 'r', 'i', 't', 'e', 'R', 'e', 'g', 'E', 'x']\n"
     ]
    }
   ],
   "source": [
    "print(re.findall(PATTERN1, my_string))\n",
    "print(re.findall(PATTERN2, my_string))\n",
    "print(re.findall(PATTERN3, my_string))\n",
    "print(re.findall(PATTERN4, my_string))"
   ]
  },
  {
   "cell_type": "markdown",
   "metadata": {},
   "source": [
    "<div class=\"exercise--assignment exercise--typography\"><h1 class=\"exercise--title\">Practicing regular expressions: re.split() and re.findall()</h1><div class=\"\"><p><p>Now you'll get a chance to write some regular expressions to match digits, strings and non-alphanumeric characters. Take a look at <code>my_string</code> first by printing it in the IPython Shell, to determine how you might best match the different steps.</p>\n",
    "<p>Note: It's important to prefix your regex patterns with <code>r</code> to ensure that your patterns are interpreted in the way you want them to. Else, you may encounter problems to do with escape sequences in strings. For example, <code>\"\\n\"</code> in Python is used to indicate a new line, but if you use the <code>r</code> prefix, it will be interpreted as the raw string <code>\"\\n\"</code> - that is, the character <code>\"\\\"</code> followed by the character <code>\"n\"</code> - and not as a new line.</p></div></div>"
   ]
  },
  {
   "cell_type": "code",
   "execution_count": 15,
   "metadata": {},
   "outputs": [],
   "source": [
    "my_string = \"Let's write RegEx!  Won't that be fun?  I sure think so.  Can you find 4 sentences?  Or perhaps, all 19 words?\""
   ]
  },
  {
   "cell_type": "code",
   "execution_count": 16,
   "metadata": {},
   "outputs": [
    {
     "name": "stdout",
     "output_type": "stream",
     "text": [
      "[\"Let's write RegEx\", \"  Won't that be fun\", '  I sure think so', '  Can you find 4 sentences', '  Or perhaps, all 19 words', '']\n",
      "['Let', 'RegEx', 'Won', 'Can', 'Or']\n",
      "[\"Let's\", 'write', 'RegEx!', \"Won't\", 'that', 'be', 'fun?', 'I', 'sure', 'think', 'so.', 'Can', 'you', 'find', '4', 'sentences?', 'Or', 'perhaps,', 'all', '19', 'words?']\n",
      "['4', '19']\n"
     ]
    }
   ],
   "source": [
    "# Import the regex module\n",
    "import re\n",
    "\n",
    "# Write a pattern to match sentence endings: sentence_endings\n",
    "sentence_endings = r\"[.?!]\"\n",
    "\n",
    "# Split my_string on sentence endings and print the result\n",
    "print(re.split(sentence_endings, my_string))\n",
    "\n",
    "# Find all capitalized words in my_string and print the result\n",
    "capitalized_words = r\"[A-Z]\\w+\"\n",
    "print(re.findall(capitalized_words, my_string))\n",
    "\n",
    "# Split my_string on spaces and print the result\n",
    "spaces = r\"\\s+\"\n",
    "print(re.split(spaces, my_string))\n",
    "\n",
    "# Find all digits in my_string and print the result\n",
    "digits = r\"\\d+\"\n",
    "print(re.findall(digits, my_string))"
   ]
  },
  {
   "cell_type": "markdown",
   "metadata": {},
   "source": [
    "<div class=\"exercise--assignment exercise--typography\"><h1 class=\"exercise--title\">Word tokenization with NLTK</h1><div class=\"\"><p><p>Here, you'll be using the first scene of Monty Python's Holy Grail, which has been pre-loaded as <code>scene_one</code>. Feel free to check it out in the IPython Shell!</p>\n",
    "<p>Your job in this exercise is to utilize <code>word_tokenize</code> and <code>sent_tokenize</code> from <code>nltk.tokenize</code> to tokenize both words and sentences from Python strings - in this case, the first scene of Monty Python's Holy Grail.</p></div></div>"
   ]
  },
  {
   "cell_type": "code",
   "execution_count": 17,
   "metadata": {},
   "outputs": [],
   "source": [
    "scene_one = \"SCENE 1: [wind] [clop clop clop] \\nKING ARTHUR: Whoa there!  [clop clop clop] \\nSOLDIER #1: Halt!  Who goes there?\\nARTHUR: It is I, Arthur, son of Uther Pendragon, from the castle of Camelot.  King of the Britons, defeator of the Saxons, sovereign of all England!\\nSOLDIER #1: Pull the other one!\\nARTHUR: I am, ...  and this is my trusty servant Patsy.  We have ridden the length and breadth of the land in search of knights who will join me in my court at Camelot.  I must speak with your lord and master.\\nSOLDIER #1: What?  Ridden on a horse?\\nARTHUR: Yes!\\nSOLDIER #1: You're using coconuts!\\nARTHUR: What?\\nSOLDIER #1: You've got two empty halves of coconut and you're bangin' 'em together.\\nARTHUR: So?  We have ridden since the snows of winter covered this land, through the kingdom of Mercea, through--\\nSOLDIER #1: Where'd you get the coconuts?\\nARTHUR: We found them.\\nSOLDIER #1: Found them?  In Mercea?  The coconut's tropical!\\nARTHUR: What do you mean?\\nSOLDIER #1: Well, this is a temperate zone.\\nARTHUR: The swallow may fly south with the sun or the house martin or the plover may seek warmer climes in winter, yet these are not strangers to our land?\\nSOLDIER #1: Are you suggesting coconuts migrate?\\nARTHUR: Not at all.  They could be carried.\\nSOLDIER #1: What?  A swallow carrying a coconut?\\nARTHUR: It could grip it by the husk!\\nSOLDIER #1: It's not a question of where he grips it!  It's a simple question of weight ratios!  A five ounce bird could not carry a one pound coconut.\\nARTHUR: Well, it doesn't matter.  Will you go and tell your master that Arthur from the Court of Camelot is here.\\nSOLDIER #1: Listen.  In order to maintain air-speed velocity, a swallow needs to beat its wings forty-three times every second, right?\\nARTHUR: Please!\\nSOLDIER #1: Am I right?\\nARTHUR: I'm not interested!\\nSOLDIER #2: It could be carried by an African swallow!\\nSOLDIER #1: Oh, yeah, an African swallow maybe, but not a European swallow.  That's my point.\\nSOLDIER #2: Oh, yeah, I agree with that.\\nARTHUR: Will you ask your master if he wants to join my court at Camelot?!\\nSOLDIER #1: But then of course a-- African swallows are non-migratory.\\nSOLDIER #2: Oh, yeah...\\nSOLDIER #1: So they couldn't bring a coconut back anyway...  [clop clop clop] \\nSOLDIER #2: Wait a minute!  Supposing two swallows carried it together?\\nSOLDIER #1: No, they'd have to have it on a line.\\nSOLDIER #2: Well, simple!  They'd just use a strand of creeper!\\nSOLDIER #1: What, held under the dorsal guiding feathers?\\nSOLDIER #2: Well, why not?\\n\""
   ]
  },
  {
   "cell_type": "code",
   "execution_count": 18,
   "metadata": {},
   "outputs": [
    {
     "name": "stdout",
     "output_type": "stream",
     "text": [
      "{'So', 'other', 'two', 'could', 'found', \"'s\", 'climes', 'mean', 'grips', 'pound', 'a', 'back', 'SOLDIER', \"'re\", 'you', 'by', 'them', 'We', 'forty-three', 'line', 'where', 'not', '1', ',', \"n't\", \"'m\", 'warmer', 'bird', 'Halt', 'trusty', 'Where', 'be', 'carrying', 'an', 'Who', 'swallow', 'it', 'wants', 'Wait', 'our', 'and', 'every', 'England', 'using', '[', 'lord', 'search', \"'\", 'empty', 'together', 'Saxons', 'he', '...', 'that', 'SCENE', '!', 'fly', 'In', 'just', 'of', 'interested', 'strangers', 'have', 'who', 'Court', 'Supposing', 'Arthur', ':', 'needs', 'Uther', 'matter', '#', '2', 'Yes', 'point', 'must', 'there', 'to', 'ounce', 'grip', 'bring', 'I', 'wind', 'through', 'Well', 'They', 'carried', 'go', 'clop', 'does', 'here', 'course', 'right', 'sovereign', 'migrate', 'yeah', \"'em\", 'five', ']', 'land', 'But', 'order', 'if', 'me', 'Pendragon', 'Not', 'dorsal', 'feathers', 'Whoa', '--', 'or', 'join', 'agree', 'maybe', 'but', 'then', 'on', 'ridden', 'covered', 'question', 'its', 'from', 'court', 'Ridden', 'held', 'No', 'King', 'KING', 'get', 'with', 'weight', 'halves', 'It', '.', 'minute', 'house', \"'ve\", 'castle', 'African', 'Camelot', 'plover', 'length', 'carry', 'sun', 'master', 'in', 'zone', 'am', 'maintain', 'yet', 'may', 'Oh', 'You', 'martin', 'tell', 'your', 'Please', 'second', 'south', 'ARTHUR', 'use', 'defeator', 'Britons', 'Mercea', 'ask', 'one', 'non-migratory', 'son', 'ratios', 'tropical', 'air-speed', 'are', 'Listen', 'this', 'winter', 'kingdom', 'suggesting', 'guiding', 'all', 'A', 'they', 'times', 'That', 'coconuts', 'seek', 'these', 'anyway', 'Patsy', 'speak', 'strand', 'temperate', 'why', 'my', 'swallows', 'creeper', 'What', 'breadth', 'bangin', 'coconut', 'The', 'under', '?', 'is', 'Pull', 'goes', 'do', \"'d\", 'beat', 'since', 'Found', 'will', 'knights', 'horse', 'wings', 'snows', 'husk', 'Am', 'got', 'at', 'servant', 'Will', 'Are', 'European', 'the', 'velocity', 'simple'}\n"
     ]
    }
   ],
   "source": [
    "# Import necessary modules\n",
    "from nltk.tokenize import sent_tokenize\n",
    "from nltk.tokenize import word_tokenize\n",
    "\n",
    "# Split scene_one into sentences: sentences\n",
    "sentences = sent_tokenize(scene_one)\n",
    "\n",
    "# Use word_tokenize to tokenize the fourth sentence: tokenized_sent\n",
    "tokenized_sent = word_tokenize(sentences[3])\n",
    "\n",
    "# Make a set of unique tokens in the entire scene: unique_tokens\n",
    "unique_tokens = set(word_tokenize(scene_one))\n",
    "\n",
    "# Print the unique tokens result\n",
    "print(unique_tokens)"
   ]
  },
  {
   "cell_type": "markdown",
   "metadata": {},
   "source": [
    "<div class=\"exercise--assignment exercise--typography\"><h1 class=\"exercise--title\">More regex with re.search()</h1><div class=\"\"><p><p>In this exercise, you'll utilize <code>re.search()</code> and <code>re.match()</code> to find specific tokens. Both <code>search</code> and <code>match</code> expect regex patterns, similar to those you defined in an earlier exercise. You'll apply these regex library methods to the same Monty Python text from the <code>nltk</code> corpora.</p>\n",
    "<p>You have both <code>scene_one</code> and <code>sentences</code> available from the last exercise; now you can use them with <code>re.search()</code> and <code>re.match()</code> to extract and match more text.</p></div></div>"
   ]
  },
  {
   "cell_type": "code",
   "execution_count": 19,
   "metadata": {},
   "outputs": [
    {
     "name": "stdout",
     "output_type": "stream",
     "text": [
      "580 588\n",
      "<_sre.SRE_Match object; span=(9, 32), match='[wind] [clop clop clop]'>\n",
      "<_sre.SRE_Match object; span=(0, 7), match='ARTHUR:'>\n"
     ]
    }
   ],
   "source": [
    "# Search for the first occurrence of \"coconuts\" in scene_one: match\n",
    "match = re.search(\"coconuts\", scene_one)\n",
    "\n",
    "# Print the start and end indexes of match\n",
    "print(match.start(), match.end())\n",
    "\n",
    "# Write a regular expression to search for anything in square brackets: pattern1\n",
    "pattern1 = r\"\\[.+]\"\n",
    "\n",
    "# Use re.search to find the first text in square brackets\n",
    "print(re.search(pattern1, scene_one))\n",
    "\n",
    "# Find the script notation at the beginning of the fourth sentence and print it\n",
    "pattern2 = r\"[\\w\\s]+:\"\n",
    "print(re.match(pattern2, sentences[3]))"
   ]
  },
  {
   "cell_type": "markdown",
   "metadata": {},
   "source": [
    "<div class=\"exercise--assignment exercise--typography\"><h1 class=\"exercise--title\">Choosing a tokenizer</h1><div class=\"\"><p><p>Given the following string, which of the below patterns is the best tokenizer? If possible, you want to retain sentence punctuation as separate tokens, but have <code>'#1'</code> remain a single token.</p>\n",
    "<pre><code>my_string = \"SOLDIER #1: Found them? In Mercea? The coconut's tropical!\"\n",
    "</code></pre>\n",
    "<p>The string is available in your workspace as <code>my_string</code>, and the patterns have been pre-loaded as <code>pattern1</code>, <code>pattern2</code>, <code>pattern3</code>, and <code>pattern4</code>, respectively. </p>\n",
    "<p>Additionally, <code>regexp_tokenize</code> has been imported from <code>nltk.tokenize</code>. You can use <code>regexp_tokenize()</code> with <code>my_string</code> and one of the patterns as arguments to experiment for yourself and see which is the best tokenizer.</p></div></div>"
   ]
  },
  {
   "cell_type": "code",
   "execution_count": 22,
   "metadata": {},
   "outputs": [],
   "source": [
    "import nltk\n",
    "from nltk.tokenize import regexp_tokenize"
   ]
  },
  {
   "cell_type": "code",
   "execution_count": 23,
   "metadata": {},
   "outputs": [],
   "source": [
    "my_string = \"SOLDIER #1: Found them? In Mercea? The coconut's tropical!\""
   ]
  },
  {
   "cell_type": "code",
   "execution_count": 24,
   "metadata": {},
   "outputs": [],
   "source": [
    "pattern1 = r\"\\w+(\\?!)\"\n",
    "pattern2 = r\"(\\w+|#\\d|\\?|!)\"\n",
    "pattern3 = r\"(#\\d\\w+\\?!)\"\n",
    "pattern4 = r\"\\s+\""
   ]
  },
  {
   "cell_type": "code",
   "execution_count": 27,
   "metadata": {},
   "outputs": [
    {
     "name": "stdout",
     "output_type": "stream",
     "text": [
      "[]\n",
      "['SOLDIER', '#1', 'Found', 'them', '?', 'In', 'Mercea', '?', 'The', 'coconut', 's', 'tropical', '!']\n",
      "[]\n",
      "[' ', ' ', ' ', ' ', ' ', ' ', ' ', ' ']\n"
     ]
    }
   ],
   "source": [
    "print(regexp_tokenize(my_string,pattern1))\n",
    "print(regexp_tokenize(my_string,pattern2))\n",
    "print(regexp_tokenize(my_string,pattern3))\n",
    "print(regexp_tokenize(my_string,pattern4))"
   ]
  },
  {
   "cell_type": "markdown",
   "metadata": {},
   "source": [
    "<div class=\"listview__content\"><div class=\"exercise--assignment exercise--typography\"><h1 class=\"exercise--title\">Regex with NLTK tokenization</h1><div class=\"\"><p><p>Twitter is a frequently used source for NLP text and tasks. In this exercise, you'll build a more complex tokenizer for tweets with hashtags and mentions using <code>nltk</code> and regex. The <code>nltk.tokenize.TweetTokenizer</code> class gives you some extra methods and attributes for parsing tweets. </p>\n",
    "<p>Here, you're given some example tweets to parse using both <code>TweetTokenizer</code> and <code>regexp_tokenize</code> from the <code>nltk.tokenize</code> module. These example tweets have been pre-loaded into the variable <code>tweets</code>. Feel free to explore it in the IPython Shell!</p></div></div></div>"
   ]
  },
  {
   "cell_type": "code",
   "execution_count": 28,
   "metadata": {},
   "outputs": [],
   "source": [
    "tweets = ['This is the best #nlp exercise ive found online! #python',\n",
    " '#NLP is super fun! <3 #learning',\n",
    " 'Thanks @datacamp :) #nlp #python']"
   ]
  },
  {
   "cell_type": "code",
   "execution_count": 29,
   "metadata": {},
   "outputs": [
    {
     "name": "stdout",
     "output_type": "stream",
     "text": [
      "[['This', 'is', 'the', 'best', '#nlp', 'exercise', 'ive', 'found', 'online', '!', '#python'], ['#NLP', 'is', 'super', 'fun', '!', '<3', '#learning'], ['Thanks', '@datacamp', ':)', '#nlp', '#python']]\n"
     ]
    }
   ],
   "source": [
    "# Import the necessary modules\n",
    "from nltk.tokenize import regexp_tokenize\n",
    "from nltk.tokenize import TweetTokenizer\n",
    "\n",
    "# Define a regex pattern to find hashtags: pattern1\n",
    "pattern1 = r\"#\\w+\"\n",
    "\n",
    "# Use the pattern on the first tweet in the tweets list\n",
    "regexp_tokenize(tweets[0], pattern1)\n",
    "\n",
    "# Write a pattern that matches both mentions and hashtags\n",
    "pattern2 = r\"([@]\\w+)\"\n",
    "\n",
    "# Use the pattern on the last tweet in the tweets list\n",
    "regexp_tokenize(tweets[-1], pattern2)\n",
    "\n",
    "# Use the TweetTokenizer to tokenize all tweets into one list\n",
    "tknzr = TweetTokenizer()\n",
    "all_tokens = [tknzr.tokenize(t) for t in tweets]\n",
    "print(all_tokens)"
   ]
  },
  {
   "cell_type": "code",
   "execution_count": 32,
   "metadata": {},
   "outputs": [
    {
     "name": "stdout",
     "output_type": "stream",
     "text": [
      "['#nlp', '#python']\n",
      "['@datacamp']\n"
     ]
    }
   ],
   "source": [
    "print(regexp_tokenize(tweets[0], pattern1))\n",
    "print(regexp_tokenize(tweets[-1], pattern2))"
   ]
  },
  {
   "cell_type": "markdown",
   "metadata": {},
   "source": [
    "<div class=\"exercise--assignment exercise--typography\"><h1 class=\"exercise--title\">Non-ascii tokenization</h1><div class=\"\"><p><p>In this exercise, you'll practice advanced tokenization by tokenizing some non-ascii based text. You'll be using German with emoji!</p>\n",
    "<p>Here, you have access to a string called <code>german_text</code>, which has been printed for you in the Shell. Notice the emoji and the German characters!</p>\n",
    "<p>The following modules have been pre-imported from <code>nltk.tokenize</code>: <code>regexp_tokenize</code> and <code>word_tokenize</code>. </p>\n",
    "<p>Unicode ranges for emoji are:</p>\n",
    "<p><code>('\\U0001F300'-'\\U0001F5FF')</code>, <code>('\\U0001F600-\\U0001F64F')</code>, <code>('\\U0001F680-\\U0001F6FF')</code>, and <code>('\\u2600'-\\u26FF-\\u2700-\\u27BF')</code>.</p></div></div>"
   ]
  },
  {
   "cell_type": "code",
   "execution_count": 33,
   "metadata": {},
   "outputs": [],
   "source": [
    "german_text = 'Wann gehen wir Pizza essen? 🍕 Und fährst du mit Über? 🚕'"
   ]
  },
  {
   "cell_type": "code",
   "execution_count": 34,
   "metadata": {},
   "outputs": [
    {
     "name": "stdout",
     "output_type": "stream",
     "text": [
      "['Wann', 'gehen', 'wir', 'Pizza', 'essen', '?', '🍕', 'Und', 'fährst', 'du', 'mit', 'Über', '?', '🚕']\n"
     ]
    }
   ],
   "source": [
    "# Tokenize and print all words in german_text\n",
    "all_words = word_tokenize(german_text)\n",
    "print(all_words)"
   ]
  },
  {
   "cell_type": "code",
   "execution_count": 35,
   "metadata": {},
   "outputs": [
    {
     "name": "stdout",
     "output_type": "stream",
     "text": [
      "['Wann', 'Pizza', 'Und', 'Über']\n"
     ]
    }
   ],
   "source": [
    "# Tokenize and print only capital words\n",
    "capital_words = r\"[A-ZÜ]\\w+\"\n",
    "print(regexp_tokenize(german_text, capital_words))"
   ]
  },
  {
   "cell_type": "code",
   "execution_count": 36,
   "metadata": {},
   "outputs": [
    {
     "name": "stdout",
     "output_type": "stream",
     "text": [
      "['🍕', '🚕']\n"
     ]
    }
   ],
   "source": [
    "# Tokenize and print only emoji\n",
    "emoji = \"['\\U0001F300-\\U0001F5FF'|'\\U0001F600-\\U0001F64F'|'\\U0001F680-\\U0001F6FF'|'\\u2600-\\u26FF\\u2700-\\u27BF']\"\n",
    "print(regexp_tokenize(german_text, emoji))"
   ]
  },
  {
   "cell_type": "markdown",
   "metadata": {},
   "source": [
    "<div class=\"exercise--assignment exercise--typography\"><h1 class=\"exercise--title\">Charting practice</h1><div class=\"\"><p><p>Try using your new skills to find and chart the number of words per line in the script using <code>matplotlib</code>. The Holy Grail script is loaded for you, and you need to use regex to find the words per line. </p>\n",
    "<p>Using list comprehensions here will speed up your computations. For example: <code>my_lines = [tokenize(l) for l in lines]</code> will call a function <code>tokenize</code> on each line in the list <code>lines</code>. The new transformed list will be saved in the <code>my_lines</code> variable.</p>\n",
    "<p>You have access to the entire script in the variable <code>holy_grail</code>. Go for it!</p></div></div>"
   ]
  },
  {
   "cell_type": "code",
   "execution_count": 37,
   "metadata": {},
   "outputs": [],
   "source": [
    "holy_grail = \"SCENE 1: [wind] [clop clop clop] \\nKING ARTHUR: Whoa there!  [clop clop clop] \\nSOLDIER #1: Halt!  Who goes there?\\nARTHUR: It is I, Arthur, son of Uther Pendragon, from the castle of Camelot.  King of the Britons, defeator of the Saxons, sovereign of all England!\\nSOLDIER #1: Pull the other one!\\nARTHUR: I am, ...  and this is my trusty servant Patsy.  We have ridden the length and breadth of the land in search of knights who will join me in my court at Camelot.  I must speak with your lord and master.\\nSOLDIER #1: What?  Ridden on a horse?\\nARTHUR: Yes!\\nSOLDIER #1: You're using coconuts!\\nARTHUR: What?\\nSOLDIER #1: You've got two empty halves of coconut and you're bangin' 'em together.\\nARTHUR: So?  We have ridden since the snows of winter covered this land, through the kingdom of Mercea, through--\\nSOLDIER #1: Where'd you get the coconuts?\\nARTHUR: We found them.\\nSOLDIER #1: Found them?  In Mercea?  The coconut's tropical!\\nARTHUR: What do you mean?\\nSOLDIER #1: Well, this is a temperate zone.\\nARTHUR: The swallow may fly south with the sun or the house martin or the plover may seek warmer climes in winter, yet these are not strangers to our land?\\nSOLDIER #1: Are you suggesting coconuts migrate?\\nARTHUR: Not at all.  They could be carried.\\nSOLDIER #1: What?  A swallow carrying a coconut?\\nARTHUR: It could grip it by the husk!\\nSOLDIER #1: It's not a question of where he grips it!  It's a simple question of weight ratios!  A five ounce bird could not carry a one pound coconut.\\nARTHUR: Well, it doesn't matter.  Will you go and tell your master that Arthur from the Court of Camelot is here.\\nSOLDIER #1: Listen.  In order to maintain air-speed velocity, a swallow needs to beat its wings forty-three times every second, right?\\nARTHUR: Please!\\nSOLDIER #1: Am I right?\\nARTHUR: I'm not interested!\\nSOLDIER #2: It could be carried by an African swallow!\\nSOLDIER #1: Oh, yeah, an African swallow maybe, but not a European swallow.  That's my point.\\nSOLDIER #2: Oh, yeah, I agree with that.\\nARTHUR: Will you ask your master if he wants to join my court at Camelot?!\\nSOLDIER #1: But then of course a-- African swallows are non-migratory.\\nSOLDIER #2: Oh, yeah...\\nSOLDIER #1: So they couldn't bring a coconut back anyway...  [clop clop clop] \\nSOLDIER #2: Wait a minute!  Supposing two swallows carried it together?\\nSOLDIER #1: No, they'd have to have it on a line.\\nSOLDIER #2: Well, simple!  They'd just use a strand of creeper!\\nSOLDIER #1: What, held under the dorsal guiding feathers?\\nSOLDIER #2: Well, why not?\\nSCENE 2: [thud] [clang] \\nCART-MASTER: Bring out your dead!  [clang] Bring out your dead!  [clang] Bring out your dead!  [clang] Bring out your dead!  [clang] Bring out your dead!  [cough cough...] [clang] [... cough cough] Bring out your dead!  [clang] Bring out your dead!  [clang] Bring out your dead!  Ninepence.  [clang] Bring out your dead!  [clang] Bring out your dead!  [clang] Bring out...  [rewr!] ... your dead!  [rewr!] [clang] Bring out your dead!\\nCUSTOMER: Here's one.\\nCART-MASTER: Ninepence.\\nDEAD PERSON: I'm not dead!\\nCART-MASTER: What?\\nCUSTOMER: Nothing.  Here's your ninepence.\\nDEAD PERSON: I'm not dead!\\nCART-MASTER: 'Ere.  He says he's not dead!\\nCUSTOMER: Yes he is.\\nDEAD PERSON: I'm not!\\nCART-MASTER: He isn't?\\nCUSTOMER: Well, he will be soon.  He's very ill.\\nDEAD PERSON: I'm getting better!  \\nCUSTOMER: No you're not.  You'll be stone dead in a moment.\\nCART-MASTER: Oh, I can't take him like that.  It's against regulations.\\nDEAD PERSON: I don't want to go on the cart!\\nCUSTOMER: Oh, don't be such a baby.\\nCART-MASTER: I can't take him.\\nDEAD PERSON: I feel fine!\\nCUSTOMER: Well, do us a favor.\\nCART-MASTER: I can't.\\nCUSTOMER: Well, can you hang around a couple of minutes?  He won't be long.\\nCART-MASTER: No, I've got to go to the Robinson's.  They've lost nine today.\\nCUSTOMER: Well, when's your next round?\\nCART-MASTER: Thursday.\\nDEAD PERSON: I think I'll go for a walk.\\nCUSTOMER: You're not fooling anyone you know.  Look, isn't there something you can do?\\nDEAD PERSON: [singing] I feel happy...  I feel happy.  [whop] \\nCUSTOMER: Ah, thanks very much.\\nCART-MASTER: Not at all.  See you on Thursday.\\nCUSTOMER: Right.  All right.  [howl] [clop clop clop] Who's that then?\\nCART-MASTER: I dunno.  Must be a king.\\nCUSTOMER: Why?\\nCART-MASTER: He hasn't got shit all over him.\\nSCENE 3: [thud] [King Arthur music] [thud thud thud] [King Arthur music stops] \\nARTHUR: Old woman!\\nDENNIS: Man!\\nARTHUR: Man.  Sorry.  What knight live in that castle over there?\\nDENNIS: I'm thirty-seven.\\nARTHUR: I-- what?\\nDENNIS: I'm thirty-seven.  I'm not old.\\nARTHUR: Well, I can't just call you 'Man'.\\nDENNIS: Well, you could say 'Dennis'.\\nARTHUR: Well, I didn't know you were called 'Dennis'.\\nDENNIS: Well, you didn't bother to find out, did you?\\nARTHUR: I did say 'sorry' about the 'old woman', but from the behind you looked--\\nDENNIS: What I object to is that you automatically treat me like an inferior!\\nARTHUR: Well, I am king!\\nDENNIS: Oh king, eh, very nice.  And how d'you get that, eh?  By exploiting the workers!  By 'anging on to outdated imperialist dogma which perpetuates the economic and social differences in our society.  If there's ever going to be any progress with the--\\nWOMAN: Dennis, there's some lovely filth down here.  Oh!  How d'you do?\\nARTHUR: How do you do, good lady.  I am Arthur, King of the Britons.  Who's castle is that?\\nWOMAN: King of the who?\\nARTHUR: The Britons.\\nWOMAN: Who are the Britons?\\nARTHUR: Well, we all are.  We are all Britons, and I am your king.\\nWOMAN: I didn't know we had a king.  I thought we were an autonomous collective.\\nDENNIS: You're fooling yourself.  We're living in a dictatorship.  A self-perpetuating autocracy in which the working classes--\\nWOMAN: Oh, there you go, bringing class into it again.\\nDENNIS: That's what it's all about.  If only people would hear of--\\nARTHUR: Please, please good people.  I am in haste.  Who lives in that castle?\\nWOMAN: No one live there.\\nARTHUR: Then who is your lord?\\nWOMAN: We don't have a lord.\\nARTHUR: What?\\nDENNIS: I told you.  We're an anarcho-syndicalist commune.  We take it in turns to act as a sort of executive officer for the week.\\nARTHUR: Yes.\\nDENNIS: But all the decision of that officer have to be ratified at a special bi-weekly meeting--\\nARTHUR: Yes, I see.\\nDENNIS: By a simple majority in the case of purely internal affairs,--\\nARTHUR: Be quiet!\\nDENNIS: But by a two-thirds majority in the case of more major--\\nARTHUR: Be quiet!  I order you to be quiet!\\nWOMAN: Order, eh?  Who does he think he is?  Heh.\\nARTHUR: I am your king!\\nWOMAN: Well, I didn't vote for you.\\nARTHUR: You don't vote for kings.\\nWOMAN: Well, how did you become king then?\\nARTHUR: The Lady of the Lake, ... [angels sing] ... her arm clad in the purest shimmering samite, held aloft Excalibur from the bosom of the water signifying by Divine Providence that I, Arthur, was to carry Excalibur. [singing stops] That is why I am your king!\\nDENNIS: Listen, strange women lying in ponds distributing swords is no basis for a system of government.  Supreme executive power derives from a mandate from the masses, not from some farcical aquatic ceremony.\\nARTHUR: Be quiet!\\nDENNIS: Well, but you can't expect to wield supreme executive power just 'cause some watery tart threw a sword at you!\\nARTHUR: Shut up!\\nDENNIS: I mean, if I went 'round saying I was an emperor just because some moistened bint had lobbed a scimitar at me, they'd put me away!\\nARTHUR: Shut up, will you.  Shut up!\\nDENNIS: Ah, now we see the violence inherent in the system.\\nARTHUR: Shut up!\\nDENNIS: Oh!  Come and see the violence inherent in the system!  Help, help!  I'm being repressed!\\nARTHUR: Bloody peasant!\\nDENNIS: Oh, what a give-away.  Did you hear that?  Did you hear that, eh?  That's what I'm on about.  Did you see him repressing me?  You saw it, didn't you\\nSCENE 4: [King Arthur music] [music stops] \\nBLACK KNIGHT: Aaagh!  [King Arthur music] [music stops] \\nBLACK KNIGHT: Aaagh!\\nGREEN KNIGHT: Ooh! [King Arthur music] [music stops] [stab] \\nBLACK KNIGHT: Aagh!\\nGREEN KNIGHT: Oh! [King Arthur music] Ooh! [music stops] \\nBLACK KNIGHT: Aaagh! [clang] \\nBLACK KNIGHT and GREEN KNIGHT: Agh!, oh!, etc.\\nGREEN KNIGHT: Aaaaaah!  Aaaaaaaaah! [woosh] [BLACK KNIGHT kills GREEN KNIGHT] [thud] [scrape] \\nBLACK KNIGHT: Umm! [clop clop clop] \\nARTHUR: You fight with the strength of many men, Sir Knight. [pause] I am Arthur, King of the Britons. [pause] I seek the finest and the bravest knights in the land to join me in my court at Camelot. [pause] You have proved yourself worthy.  Will you join me? [pause] You make me sad.  So be it.  Come, Patsy.\\nBLACK KNIGHT: None shall pass.\\nARTHUR: What?\\nBLACK KNIGHT: None shall pass.\\nARTHUR: I have no quarrel with you, good Sir Knight, but I must cross this bridge.\\nBLACK KNIGHT: Then you shall die.\\nARTHUR: I command you, as King of the Britons, to stand aside!\\nBLACK KNIGHT: I move for no man.\\nARTHUR: So be it!\\nARTHUR and BLACK KNIGHT: Aaah!, hiyaah!, etc. [ARTHUR chops the BLACK KNIGHT's left arm off] \\nARTHUR: Now stand aside, worthy adversary.\\nBLACK KNIGHT: 'Tis but a scratch.\\nARTHUR: A scratch?  Your arm's off!\\nBLACK KNIGHT: No, it isn't.\\nARTHUR: Well, what's that then?\\nBLACK KNIGHT: I've had worse.\\nARTHUR: You liar!\\nBLACK KNIGHT: Come on, you pansy! [clang] Huyah! [clang] Hiyaah! [clang] Aaaaaaaah! [ARTHUR chops the BLACK KNIGHT's right arm off] \\nARTHUR: Victory is mine! [kneeling] We thank Thee Lord, that in Thy mer--\\nBLACK KNIGHT: Hah! [clunk] Come on then.\\nARTHUR: What?\\nBLACK KNIGHT: Have at you! [kick] \\nARTHUR: Eh.  You are indeed brave, Sir Knight, but the fight is mine.\\nBLACK KNIGHT: Oh, had enough, eh?\\nARTHUR: Look, you stupid bastard.  You've got no arms left.\\nBLACK KNIGHT: Yes I have.\\nARTHUR: Look!\\nBLACK KNIGHT: Just a flesh wound. [kick] \\nARTHUR: Look, stop that.\\nBLACK KNIGHT: Chicken! [kick] Chickennn!\\nARTHUR: Look, I'll have your leg. [kick] Right! [whop] [ARTHUR chops the BLACK KNIGHT's right leg off] \\nBLACK KNIGHT: Right.  I'll do you for that!\\nARTHUR: You'll what?\\nBLACK KNIGHT: Come here!\\nARTHUR: What are you going to do, bleed on me?\\nBLACK KNIGHT: I'm invincible!\\nARTHUR: You're a looney.\\nBLACK KNIGHT: The Black Knight always triumphs!  Have at you!  Come on then. [whop] [ARTHUR chops the BLACK KNIGHT's last leg off] \\nBLACK KNIGHT: Ooh.  All right, we'll call it a draw.\\nARTHUR: Come, Patsy.\\nBLACK KNIGHT: Oh.  Oh, I see.  Running away, eh?  You yellow bastards!  Come back here and take what's coming to you.  I'll bite your legs off\\nSCENE 5:\\nMONKS: [chanting] Pie Iesu domine, dona eis requiem. [bonk] Pie Iesu domine, ... [bonk] ... dona eis requiem. [bonk] Pie Iesu domine, ... [bonk] ... dona eis requiem.\\nCROWD: A witch!  A witch! [bonk] A witch!  A witch!\\nMONKS: [chanting] Pie Iesu domine...\\nCROWD: A witch!  A witch!  A witch!  A witch!  We've found a witch!  A witch!  A witch!  A witch!  A witch!  We've got a witch!  A witch!  A witch!  Burn her!  Burn her!  Burn her!  We've found a witch!  We've found a witch!  A witch!  A witch!  A witch!\\nVILLAGER #1: We have found a witch.  May we burn her?\\nCROWD: Burn her!  Burn!  Burn her!  Burn her!\\nBEDEVERE: How do you know she is a witch?\\nVILLAGER #2: She looks like one.\\nCROWD: Right!  Yeah!  Yeah!\\nBEDEVERE: Bring her forward.\\nWITCH: I'm not a witch.  I'm not a witch.\\nBEDEVERE: Uh, but you are dressed as one.\\nWITCH: They dressed me up like this.\\nCROWD: Augh, we didn't!  We didn't...\\nWITCH: And this isn't my nose.  It's a false one.\\nBEDEVERE: Well?\\nVILLAGER #1: Well, we did do the nose.\\nBEDEVERE: The nose?\\nVILLAGER #1: And the hat, but she is a witch!\\nVILLAGER #2: Yeah!\\nCROWD: We burn her!  Right!  Yeaaah!  Yeaah!\\nBEDEVERE: Did you dress her up like this?\\nVILLAGER #1: No!\\nVILLAGER #2 and 3: No.  No.\\nVILLAGER #2: No.\\nVILLAGER #1: No.\\nVILLAGERS #2 and #3: No.\\nVILLAGER #1: Yes.\\nVILLAGER #2: Yes.\\nVILLAGER #1: Yes.  Yeah, a bit.\\nVILLAGER #3: A bit.\\nVILLAGERS #1 and #2: A bit.\\nVILLAGER #3: A bit.\\nVILLAGER #1: She has got a wart.\\nRANDOM: [cough] \\nBEDEVERE: What makes you think she is a witch?\\nVILLAGER #3: Well, she turned me into a newt.\\nBEDEVERE: A newt?\\nVILLAGER #3: I got better.\\nVILLAGER #2: Burn her anyway!\\nVILLAGER #1: Burn!\\nCROWD: Burn her!  Burn!  Burn her! ...\\nBEDEVERE: Quiet!  Quiet!  Quiet!  Quiet!  There are ways of telling whether she is a witch.\\nVILLAGER #1: Are there?\\nVILLAGER #2: Ah?\\nVILLAGER #1: What are they?\\nCROWD: Tell us!  Tell us! ...\\nBEDEVERE: Tell me, what do you do with witches?\\nVILLAGER #2: Burn!\\nVILLAGER #1: Burn!\\nCROWD: Burn!  Burn them up!  Burn! ...\\nBEDEVERE: And what do you burn apart from witches?\\nVILLAGER #1: More witches!\\nVILLAGER #3: Shh!\\nVILLAGER #2: Wood!\\nBEDEVERE: So, why do witches burn? [pause] \\nVILLAGER #3: B--...  'cause they're made of...  wood?\\nBEDEVERE: Good!  Heh heh.\\nCROWD: Oh yeah.  Oh.\\nBEDEVERE: So, how do we tell whether she is made of wood?\\nVILLAGER #1: Build a bridge out of her.\\nBEDEVERE: Ah, but can you not also make bridges out of stone?\\nVILLAGER #1: Oh, yeah.\\nRANDOM: Oh, yeah.  True.  Uhh...\\nBEDEVERE: Does wood sink in water?\\nVILLAGER #1: No.  No.\\nVILLAGER #2: No, it floats!  It floats!\\nVILLAGER #1: Throw her into the pond!\\nCROWD: The pond!  Throw her into the pond!\\nBEDEVERE: What also floats in water?\\nVILLAGER #1: Bread!\\nVILLAGER #2: Apples!\\nVILLAGER #3: Uh, very small rocks!\\nVILLAGER #1: Cider!\\nVILLAGER #2: Uh, gra-- gravy!\\nVILLAGER #1: Cherries!\\nVILLAGER #2: Mud!\\nVILLAGER #3: Churches!  Churches!\\nVILLAGER #2: Lead!  Lead!\\nARTHUR: A duck!\\nCROWD: Oooh.\\nBEDEVERE: Exactly.  So, logically...\\nVILLAGER #1: If...  she...  weighs...  the same as a duck, ...  she's made of wood.\\nBEDEVERE: And therefore?\\nVILLAGER #2: A witch!\\nVILLAGER #1: A witch!\\nCROWD: A witch!  A witch! ...\\nVILLAGER #4: Here is a duck.  Use this duck. [quack quack quack] \\nBEDEVERE: We shall use my largest scales.\\nCROWD: Ohh!  Ohh!  Burn the witch!  Burn the witch!  Burn her!  Burn her!  Burn her!  Burn her!  Burn her!  Burn her!  Burn her!  Ahh!  Ahh...\\nBEDEVERE: Right.  Remove the supports! [whop] [clunk] [creak] \\nCROWD: A witch!  A witch!  A witch!\\nWITCH: It's a fair cop.\\nVILLAGER #3: Burn her!\\nCROWD: Burn her!  Burn her!  Burn her!  Burn!  Burn! ...\\nBEDEVERE: Who are you who are so wise in the ways of science?\\nARTHUR: I am Arthur, King of the Britons.\\nBEDEVERE: My liege!\\nARTHUR: Good Sir Knight, will you come with me to Camelot, and join us at the Round Table?\\nBEDEVERE: My liege!  I would be honored.\\nARTHUR: What is your name?\\nBEDEVERE: Bedevere, my liege.\\nARTHUR: Then I dub you Sir Bedevere, Knight of the Round Table\\nNARRATOR: The wise Sir Bedevere was the first to join King Arthur's knights, but other illustrious names were soon to follow: Sir Lancelot the Brave; Sir Gallahad the Pure; and Sir Robin the-not-quite-so-brave-as-Sir-Lancelot, who had nearly fought the Dragon of Angnor, who had nearly stood up to the vicious Chicken of Bristol, and who had personally wet himself at the Battle of Badon Hill; and the aptly named Sir Not-appearing-in-this-film.  Together they formed a band whose names and deeds were to be retold throughout the centuries: the Knights of the Round Table\\nSCENE 6: [clop clop clop] \\nSIR BEDEVERE: And that, my liege, is how we know the earth to be banana-shaped.\\nARTHUR: This new learning amazes me, Sir Bedevere.  Explain again how sheep's bladders may be employed to prevent earthquakes.\\nBEDEVERE: Oh, certainly, sir.\\nSIR LAUNCELOT: Look, my liege! [trumpets] \\nARTHUR: Camelot!\\nSIR GALAHAD: Camelot!\\nLAUNCELOT: Camelot!\\nPATSY: It's only a model.\\nARTHUR: Shh!  Knights, I bid you welcome to your new home.  Let us ride... to...  Camelot! [in medieval hall] \\nKNIGHTS: [singing] We're knights of the round table.  We dance when e'er we're able.  We do routines and chorus scenes With footwork impeccable.  We dine well here in Camelot.  We eat ham and jam and spam a lot [dancing] We're knights of the Round Table. Our shows are formidable, But many times we're given rhymes That are quite unsingable. We're opera mad in Camelot. We sing from the diaphragm a lot [in dungeon] \\nPRISONER: [clap clap clap clap] [in medieval hall] \\nKNIGHTS: [tap-dancing] In war we're tough and able, Quite indefatigable.  Between our quests we sequin vests and impersonate Clark Gable.  It's a busy life in Camelot.\\nMAN: I have to push the pram a lot [outdoors] \\nARTHUR: Well, on second thought, let's not go to Camelot.  It is a silly place.\\nKNIGHTS: Right.  Right\\nSCENE 7: [clop clop clop] [boom boom] [angels sing] \\nGOD: Arthur!  Arthur, King of the Britons!  Oh, don't grovel! [singing stops] One thing I can't stand, it's people groveling.\\nARTHUR: Sorry. [boom] \\nGOD: And don't apologise.  Every time I try to talk to someone it's 'sorry this' and 'forgive me that' and 'I'm not worthy'. [boom] What are you doing now?!\\nARTHUR: I'm averting my eyes, O Lord.\\nGOD: Well, don't.  It's like those miserable Psalms-- they're so depressing. Now knock it off!\\nARTHUR: Yes, Lord.\\nGOD: Right!  Arthur, King of the Britons, your Knights of the Round Table shall have a task to make them an example in these dark times.\\nARTHUR: Good idea, O Lord!\\nGOD: 'Course it's a good idea!  Behold! [angels sing] Arthur, this is the Holy Grail.  Look well, Arthur, for it is your sacred task to seek this grail.  That is your purpose, Arthur...  the quest for the Holy Grail. [boom] [singing stops] \\nLAUNCELOT: A blessing!  A blessing from the Lord!\\nGALAHAD: God be praised\\nSCENE 8: [King Arthur music] [clop clop clop] \\nARTHUR: Halt! [horn] Hallo! [pause] Hallo!\\nFRENCH GUARD: Allo!  Who is eet?\\nARTHUR: It is King Arthur, and these are my Knights of the Round Table.  Who's castle is this?\\nFRENCH GUARD: This is the castle of my master Guy de Loimbard.\\nARTHUR: Go and tell your master that we have been charged by God with a sacred quest.  If he will give us food and shelter for the night he can join us in our quest for the Holy Grail.\\nFRENCH GUARD: Well, I'll ask him, but I don't think he'll be very keen.  Uh, he's already got one, you see?\\nARTHUR: What?\\nGALAHAD: He says they've already got one!\\nARTHUR: Are you sure he's got one?\\nFRENCH GUARD: Oh, yes, it's very nice-a.  (I told him we already got one.)\\nARTHUR: Well, u-- um, can we come up and have a look?\\nFRENCH GUARD: Of course not!  You are English types-a!\\nARTHUR: Well, what are you then?\\nFRENCH GUARD: I'm French!  Why do think I have this outrageous accent, you silly king-a?!\\nGALAHAD: What are you doing in England?\\nFRENCH GUARD: Mind your own business!\\nARTHUR: If you will not show us the Grail, we shall take your castle by force!\\nFRENCH GUARD: You don't frighten us, English pig-dogs!  Go and boil your bottom, sons of a silly person.  I blow my nose at you, so-called Arthur King, you and all your silly English k-nnnnniggets.  Thpppppt!  Thppt! Thppt!\\nGALAHAD: What a strange person.\\nARTHUR: Now look here, my good man--\\nFRENCH GUARD: I don't wanna talk to you no more, you empty headed animal food trough wiper!  I fart in your general direction!  You mother was a hamster and your father smelt of elderberries!\\nGALAHAD: Is there someone else up there we could talk to?\\nFRENCH GUARD: No, now go away or I shall taunt you a second time-a! [sniff] \\nARTHUR: Now, this is your last chance.  I've been more than reasonable.\\nFRENCH GUARD: (Fetchez la vache.)\\nOTHER FRENCH GUARD: Quoi?\\nFRENCH GUARD: (Fetchez la vache!) [mooo] \\nARTHUR: If you do not agree to my commands, then I shall-- [twong] [mooooooo] Jesus Christ!\\nKNIGHTS: Christ! [thud] Ah!  Ohh!\\nARTHUR: Right!  Charge!\\nKNIGHTS: Charge! [mayhem] \\nFRENCH GUARD: Hey, this one is for your mother!  There you go. [mayhem] \\nFRENCH GUARD: And this one's for your dad!\\nARTHUR: Run away!\\nKNIGHTS: Run away!\\nFRENCH GUARD: Thppppt!\\nFRENCH GUARDS: [taunting] \\nLAUNCELOT: Fiends!  I'll tear them apart!\\nARTHUR: No, no.  No, no.\\nBEDEVERE: Sir!  I have a plan, sir. [later] [wind] [saw saw saw saw saw saw saw saw saw saw saw saw saw saw saw saw] [clunk] [bang] [rewr!] [squeak squeak squeak squeak squeak squeak squeak squeak squeak squeak] [rrrr rrrr rrrr] [drilllll] [sawwwww] [clunk] [crash] [clang] [squeak squeak squeak squeak squeak...] [creak] \\nFRENCH GUARDS: [whispering] C'est un lapin, lapin de bois.  Quoi?  Un cadeau.  What?  A present.  Oh, un cadeau.  Oui, oui.  Hurry.  What?  Let's go.  Oh. On y va.  Bon magne.  Over here... [squeak squeak squeak squeak squeak...] [clllank] \\nARTHUR: What happens now?\\nBEDEVERE: Well, now, uh, Launcelot, Galahad, and I, uh, wait until nightfall, and then leap out of the rabbit, taking the French, uh, by surprise.  Not only by surprise, but totally unarmed!\\nARTHUR: Who leaps out?\\nBEDEVERE: U-- u-- uh, Launcelot, Galahad, and I.  Uh, leap out of the rabbit, uh, and uh...\\nARTHUR: Ohh.\\nBEDEVERE: Oh.  Um, l-- look, i-- i-- if we built this large wooden badger-- [clank] [twong] \\nARTHUR: Run away!\\nKNIGHTS: Run away!  Run away!  Run away!  Run away!  Run away!  Run away!  Run away! [CRASH] \\nFRENCH GUARDS: Oh, haw haw haw haw!  Haw!  Haw haw heh..\\nSCENE 9: [clack] \\nVOICE: Picture for Schools, take eight.\\nDIRECTOR: Action!\\nHISTORIAN: Defeat at the castle seems to have utterly disheartened King Arthur.  The ferocity of the French taunting took him completely by surprise, and Arthur became convinced that a new strategy was required if the quest for the Holy Grail were to be brought to a successful conclusion.  Arthur, having consulted his closest knights, decided that they should separate, and search for the Grail individually. [clop clop clop] Now, this is what they did: Launcelot--\\nKNIGHT: Aaaah! [slash] [KNIGHT kills HISTORIAN] \\nHISTORIAN'S WIFE: Frank\\nSCENE 10: [trumpets] \\nNARRATOR: The Tale of Sir Robin.  So each of the knights went their separate ways.  Sir Robin rode north, through the dark forest of Ewing, accompanied by his favorite minstrels.\\nMINSTREL: [singing] Bravely bold Sir Robin, rode forth from Camelot.  He was not afraid to die, O brave Sir Robin.  He was not at all afraid to be killed in nasty ways.  Brave, brave, brave, brave Sir Robin!  He was not in the least bit scared to be mashed into a pulp, Or to have his eyes gouged out, and his elbows broken.  To have his kneecaps split, and his body burned away, And his limbs all hacked and mangled, brave Sir Robin!\\nHis head smashed in and his heart cut out, And his liver removed and his bowels unplugged, And his nostrils raped and his bottom burned off, And his pen--\\nSIR ROBIN: That's-- that's, uh-- that's enough music for now, lads.  Heh.  Looks like there's dirty work afoot.\\nDENNIS: Anarcho-syndicalism is a way of preserving freedom.\\nWOMAN: Oh, Dennis, forget about freedom.  We haven't got enough mud.\\nALL HEADS: Halt!  Who art thou?\\nMINSTREL: [singing] He is brave Sir Robin, brave Sir Robin, who--\\nROBIN: Shut up!  Um, n-- n-- n-- nobody really, I'm j-- j-- j-- ju-- just um, just passing through.\\nALL HEADS: What do you want?\\nMINSTREL: [singing] To fight and--\\nROBIN: Shut up!  Um, oo, a-- nothing, nothing really.  I, uh, j-- j-- just--just to um, just to p-- pass through, good Sir Knight.\\nALL HEADS: I'm afraid not!\\nROBIN: Ah.  W-- well, actually I-- I am a Knight of the Round Table.\\nALL HEADS: You're a Knight of the Round Table?\\nROBIN: I am.\\nLEFT HEAD: In that case I shall have to kill you.\\nMIDDLE HEAD: Shall I?\\nRIGHT HEAD: Oh, I don't think so.\\nMIDDLE HEAD: Well, what do I think?\\nLEFT HEAD: I think kill him.\\nRIGHT HEAD: Oh, let's be nice to him.\\nLEFT HEAD: Oh shut up.\\nROBIN: Perhaps I could--\\nLEFT HEAD: And you.  Oh, quick!  Get the sword out.  I want to cut his headoff!\\nRIGHT HEAD: Oh, cut your own head off!\\nMIDDLE HEAD: Yes, do us all a favor!\\nLEFT HEAD: What?\\nRIGHT HEAD: Yapping on all the time.\\nMIDDLE HEAD: You're lucky.  You're not next to him.\\nLEFT HEAD: What do you mean?\\nMIDDLE HEAD: You snore!\\nLEFT HEAD: Oh, I don't.  Anyway, you've got bad breath.\\nMIDDLE HEAD: Well it's only because you don't brush my teeth.\\nRIGHT HEAD: Oh stop bitching and let's go have tea.\\nLEFT HEAD: Oh, all right.  All right.  All right.  We'll kill him first and then have tea and biscuits.\\nMIDDLE HEAD: Yes.\\nRIGHT HEAD: Oh, not biscuits.\\nLEFT HEAD: All right.  All right, not biscuits, but let's kill him anyway.\\nALL HEADS: Right!\\nMIDDLE HEAD: He buggered off.\\nRIGHT HEAD: So he has.  He's scarper\\nMINSTREL: [singing] Brave Sir Robin ran away.\\nROBIN: No!\\nMINSTREL: [singing] Bravely ran away away.\\nROBIN: I didn't!\\nMINSTREL: [singing] When danger reared its ugly head, he bravely turned his tail and fled.\\nROBIN: No!\\nMINSTREL: [singing] Yes, brave Sir Robin turned about\\nROBIN: I didn't!\\nMINSTREL: [singing] And gallantly he chickened out, bravely taking to his feet.\\nROBIN: I never did!\\nMINSTREL: [singing] He beat a very brave retreat.\\nROBIN: All lies!\\nMINSTREL: [singing] Bravest of the brave, Sir Robin.\\nROBIN: I never\\nCARTOON MONKS: [chanting] Pie Iesu domine, dona eis requiem.\\nCARTOON CHARACTER: Heh heh heeh ooh... [twang] \\nCARTOON MONKS: [chanting] Pie Iesu domine, ...\\nCARTOON CHARACTERS: Wayy! [splash] Ho ho.  Woa, wayy! [twang] [splash] Heh heh heh heh ho!  Heh heh heh!\\nCARTOON MONKS: [chanting] ... dona eis requiem.\\nCARTOON CHARACTER: Wayy! [twang] Wayy! [twang] \\nVOICE: [whispering] Forgive me for asking.\\nCARTOON CHARACTER: Oh!  Oooo\\nSCENE 11: [trumpets] \\nNARRATOR: The Tale of Sir Galahad. [boom] [wind] [howl] [howl] [boom] [angels singing] [howl] [boom] [howl] [boom] [pound pound pound] \\nGALAHAD: Open the door!  Open the door! [pound pound pound] In the name of King Arthur, open the door! [squeak] [thump] [squeak] [boom] \\nGIRLS: Hello!\\nZOOT: Welcome gentle Sir Knight.  Welcome to the Castle Anthrax.\\nGALAHAD: The Castle Anthrax?\\nZOOT: Yes.  Oh, it's not a very good name is it?  Oh, but we are nice and we will attend to your every, every need!\\nGALAHAD: You are the keepers of the Holy Grail?\\nZOOT: The what?\\nGALAHAD: The Grail.  It is here.\\nZOOT: Oh, but you are tired, and you must rest awhile.  Midget!  Crapper!\\nMIDGET and CRAPPER: Yes, O Zoot?\\nZOOT: Prepare a bed for our guest.\\nMIDGET and CRAPPER: Oh thank you!  Thank you!  Thank you!  Thank you!  Thank you!  Thank you! ...\\nZOOT: Away, away varletesses.  The beds here are warm and soft, and very, very big.\\nGALAHAD: Well, look, I-- I-- uh--\\nZOOT: What is your name, handsome knight?\\nGALAHAD: Sir Galahad...  the Chaste.\\nZOOT: Mine is Zoot.  Just Zoot.  Oh, but come.\\nGALAHAD: Look, please!  In God's name, show me the Grail!\\nZOOT: Oh, you have suffered much.  You are delirious.\\nGALAHAD: No, look.  I have seen it!  It is here, in this--\\nZOOT: Sir Galahad!  You would not be so ungallant as to refuse our hospitality.\\nGALAHAD: Well, I-- I-- uh--\\nZOOT: Oh, I am afraid our life must seem very dull and quiet compared to yours.  We are but eight score young blondes and brunettes, all between sixteen and nineteen-and-a-half, cut off in this castle with no one to protect us.  Oooh.  It is a lonely life: bathing, dressing, undressing, making exciting underwear.  We are just not used to handsome knights.  Nay.  Nay.  Come.  Come.  You may lie here.  Oh, but you are wounded!\\nGALAHAD: No, no-- it's-- it's nothing.\\nZOOT: Oh, you must see the doctors immediately!  No, no, please!  Lie down. [clap clap] \\nPIGLET: Well, what seems to be the trouble?\\nGALAHAD: They're doctors?!\\nZOOT: Uh, they have a basic medical training, yes.\\nGALAHAD: B-- but--\\nZOOT: Oh, come, come.  You must try to rest.  Doctor Piglet!  Doctor Winston!  Practice your art.\\nWINSTON: Try to relax.\\nGALAHAD: Are you sure that's absolutely necessary?\\nPIGLET: We must examine you.\\nGALAHAD: There's nothing wrong with that!\\nPIGLET: Please.  We are doctors.\\nGALAHAD: Look!  This cannot be.  I am sworn to chastity.\\nPIGLET: Back to your bed!  At once!\\nGALAHAD: Torment me no longer.  I have seen the Grail!\\nPIGLET: There's no grail here.\\nGALAHAD: I have seen it!  I have seen it! [clank] I have seen--\\nGIRLS: Hello.\\nGALAHAD: Oh.\\nGIRLS: Hello.  Hello.  Hello.  Hello.  Hello.  Hello.  Hello.  Hello.  Hello.  Hello.  Hello.  Hello.  Hello.  Hello.  Hello.  Hello.  Hello.  Hello.  Hello.  Hello.  Hello.  Hello.  Hello.\\nGALAHAD: Zoot!\\nDINGO: No, I am Zoot's identical twin sister, Dingo.\\nGALAHAD: Oh, well, excuse me, I--\\nDINGO: Where are you going?\\nGALAHAD: I seek the Grail!  I have seen it, here in this castle!\\nDINGO: Oh no.  Oh, no!  Bad, bad Zoot!\\nGALAHAD: Well, what is it?\\nDINGO: Oh, wicked, bad, naughty Zoot!  She has been setting alight to our beacon, which, I have just remembered, is grail-shaped.  It's not the first time we've had this problem.\\nGALAHAD: It's not the real Grail?\\nDINGO: Oh, wicked, bad, naughty, evil Zoot!  She is a bad person and must pay the penalty.  Do you think this scene should have been cut?  We were so worried when the boys were writing it, but now, we're glad.  It's better than some of the previous scenes, I think.\\nLEFT HEAD: At least ours was better visually.\\nDENNIS: Well, at least ours was committed.  It wasn't just a string of pussy jokes.\\nOLD MAN: Get on with it.\\nTIM THE ENCHANTER: Yes, get on with it!\\nARMY OF KNIGHTS: Yes, get on with it!\\nDINGO: Oh, I am enjoying this scene.\\nGOD: Get on with it!\\nDINGO: [sigh] Oh, wicked, wicked Zoot.  Oh, she is a naughty person, and she must pay the penalty.  And here in Castle Anthrax, we have but one punishment for setting alight the grail-shaped beacon.  You must tie her down on a bed and spank her.\\nGIRLS: A spanking!  A spanking!\\nDINGO: You must spank her well.  And after you have spanked her, you may deal with her as you like.  And then, spank me.\\nAMAZING: And spank me.\\nSTUNNER: And me.\\nLOVELY: And me.\\nDINGO: Yes, yes, you must give us all a good spanking!\\nGIRLS: A spanking!  A spanking!  There is going to be a spanking tonight!\\nDINGO: And after the spanking, the oral sex.\\nGIRLS: The oral sex!  The oral sex!\\nGALAHAD: Well, I could stay a bit longer.\\nLAUNCELOT: Sir Galahad!\\nGALAHAD: Oh, hello.\\nLAUNCELOT: Quick!\\nGALAHAD: What?\\nLAUNCELOT: Quick!\\nGALAHAD: Why?\\nLAUNCELOT: You are in great peril!\\nDINGO: No he isn't.\\nLAUNCELOT: Silence, foul temptress!\\nGALAHAD: You know, she's got a point.\\nLAUNCELOT: Come on!  We will cover your escape!\\nGALAHAD: Look, I'm fine!\\nLAUNCELOT: Come on!\\nGIRLS: Sir Galahad!\\nGALAHAD: No.  Look, I can tackle this lot single-handed!\\nDINGO: Yes!  Let him tackle us single-handed!\\nGIRLS: Yes!  Let him tackle us single-handed!\\nLAUNCELOT: No, Sir Galahad.  Come on!\\nGALAHAD: No!  Really!  Honestly, I can cope.  I can handle this lot easily.\\nDINGO: Oh, yes.  Let him handle us easily.\\nGIRLS: Yes.  Let him handle us easily.\\nLAUNCELOT: No.  Quick!  Quick!\\nGALAHAD: Please!  I can defeat them!  There's only a hundred-and-fifty of them!\\nDINGO: Yes, yes!  He will beat us easily!  We haven't a chance.\\nGIRLS: We haven't a chance.  He will beat us easily... [boom] \\nDINGO: Oh, shit.\\nLAUNCELOT: We were in the nick of time.  You were in great peril.\\nGALAHAD: I don't think I was.\\nLAUNCELOT: Yes you were.  You were in terrible peril.\\nGALAHAD: Look, let me go back in there and face the peril.\\nLAUNCELOT: No, it's too perilous.\\nGALAHAD: Look, it's my duty as a knight to sample as much peril as I can.\\nLAUNCELOT: No, we've got to find the Holy Grail.  Come on!\\nGALAHAD: Oh, let me have just a little bit of peril?\\nLAUNCELOT: No.  It's unhealthy.\\nGALAHAD: I bet you're gay.\\nLAUNCELOT: No I'm not\\nNARRATOR: Sir Launcelot had saved Sir Galahad from almost certain temptation, but they were still no nearer the Grail.  Meanwhile, King Arthur and Sir Bedevere, not more than a swallow's flight away, had discovered something.  Oh, that's an unladen swallow's flight, obviously.  I mean, they were more than two laden swallows' flights away-- four, really, if they had a coconut on a line between them.  I mean, if the birds were walking and dragging--\\nCROWD: Get on with it!\\nNARRATOR: Oh, anyway.  On to scene twenty-four, which is a smashing scene with some lovely acting, in which Arthur discovers a vital clue, and in which there aren't any swallows, although I think you can hear a starling-- oooh\\nSCENE 12:\\nOLD MAN: Heh, hee ha ha hee hee!  Hee hee hee ha ha ha...\\nARTHUR: And this enchanter of whom you speak, he has seen the Grail?\\nOLD MAN: ... Ha ha ha ha!  Heh, hee ha ha hee!  Ha hee ha!  Ha ha ha ha...\\nARTHUR: Where does he live?\\nOLD MAN: ... Heh heh heh heh...\\nARTHUR: Old man, where does he live?\\nOLD MAN: ... Hee ha ha ha.  He knows of a cave, a cave which no man has entered.\\nARTHUR: And the Grail.  The Grail is there?\\nOLD MAN: There is much danger, for beyond the cave lies the Gorge of Eternal Peril, which no man has ever crossed.\\nARTHUR: But the Grail!  Where is the Grail?!\\nOLD MAN: Seek you the Bridge of Death.\\nARTHUR: The Bridge of Death, which leads to the Grail?\\nOLD MAN: Heh, hee hee hee hee!  Ha ha ha ha ha!  Hee ha ha..\\nSCENE 13: [spooky music] [music stops] \\nHEAD KNIGHT OF NI: Ni!\\nKNIGHTS OF NI: Ni!  Ni!  Ni!  Ni!  Ni!\\nARTHUR: Who are you?\\nHEAD KNIGHT: We are the Knights Who Say...  'Ni'!\\nRANDOM: Ni!\\nARTHUR: No!  Not the Knights Who Say 'Ni'!\\nHEAD KNIGHT: The same!\\nBEDEVERE: Who are they?\\nHEAD KNIGHT: We are the keepers of the sacred words: Ni, Peng, and Neee-wom!\\nRANDOM: Neee-wom!\\nARTHUR: Those who hear them seldom live to tell the tale!\\nHEAD KNIGHT: The Knights Who Say 'Ni' demand a sacrifice!\\nARTHUR: Knights of Ni, we are but simple travellers who seek the enchanter who lives beyond these woods.\\nHEAD KNIGHT: Ni!\\nKNIGHTS OF NI: Ni!  Ni!  Ni!  Ni!  Ni! ...\\nARTHUR: Ow!  Ow!  Ow!  Agh!\\nHEAD KNIGHT: We shall say 'ni' again to you if you do not appease us.\\nARTHUR: Well, what is it you want?\\nHEAD KNIGHT: We want...  a shrubbery! [dramatic chord] \\nARTHUR: A what?\\nKNIGHTS OF NI: Ni!  Ni!  Ni!  Ni!\\nARTHUR and PARTY: Ow!  Oh!\\nARTHUR: Please, please!  No more!  We will find you a shrubbery.\\nHEAD KNIGHT: You must return here with a shrubbery or else you will never pass through this wood alive!\\nARTHUR: O Knights of Ni, you are just and fair, and we will return with a shrubbery.\\nHEAD KNIGHT: One that looks nice.\\nARTHUR: Of course.\\nHEAD KNIGHT: And not too expensive.\\nARTHUR: Yes.\\nHEAD KNIGHT: Now...  go [trumpets] \\nCARTOON CHARACTER: Hmm hmm-- [boom] Oh!  Great scott!  Hm.  Hmm. [boom] Hm!  Hmm.  [mumble mumble mumble] [boom] [mumble mumble mumble] [boom] [mumble mumble mumble] [boom] [mumble mumble mumble] [boom] [mumble mumble mumble] [boom] [mumble mumble mumble] [boom] [mumble mumble mumble] [boom] [mumble mumble mumble] [boom] Ohh! [crash] [mumble mumble mumble] [boom] \\nSUN: Ay, up!  Thsss. [boom] Ayy, up! [boom] Thsss. [boom] Ayy, up!\\nCARTOON CHARACTER: Stop that!  Stop that! [boom] \\nSUN: Ay, up!\\nCARTOON CHARACTER: Stop that! [boom] Look on!  Clear off!  Go on!  Go away!  Go away!  Go away!  And you!  Clear off!  [sniff] \\nSUN: [mumble mumble mumble] [bells] \\nCARTOON CHARACTER: Hah.  Bloody weather\\nSCENE 14:\\nNARRATOR: The Tale of Sir Launcelot.\\nFATHER: One day, lad, all this will be yours!\\nPRINCE HERBERT: What, the curtains?\\nFATHER: No.  Not the curtains, lad.  All that you can see, stretched out over the hills and valleys of this land!  This'll be your kingdom, lad.\\nHERBERT: But Mother--\\nFATHER: Father, lad.  Father.\\nHERBERT: B-- b-- but Father, I don't want any of that.\\nFATHER: Listen, lad.  I built this kingdom up from nothing.  When I started here, all there was was swamp.  Other kings said I was daft to build a castle on a swamp, but I built it all the same, just to show 'em.  It sank into the swamp.  So, I built a second one.  That sank into the swamp.  So I built a third one.  That burned down, fell over, then sank into the swamp.  But the fourth one...  stayed up!  And that's what you're gonna get, lad: the strongest castle in these islands.\\nHERBERT: But I don't want any of that.  I'd rather--\\nFATHER: Rather what?!\\nHERBERT: I'd rather... [music] ... just...  sing!\\nFATHER: Stop that!  Stop that!  You're not going into a song while I'm here.  Now listen, lad.  In twenty minutes you're getting married to a girl whose father owns the biggest tracts of open land in Britain.\\nHERBERT: B-- but I don't want land.\\nFATHER: Listen, Alice,--\\nHERBERT: Herbert.\\nFATHER: 'Erbert.  We live in a bloody swamp.  We need all the land we can get.\\nHERBERT: But-- but I don't like her.\\nFATHER: Don't like her?!  What's wrong with her?!  She's beautiful.  She's rich.  She's got huge...  tracts o' land.\\nHERBERT: I know, but I want the-- the girl that I marry to have...  [music] ... a certain...  special...  something!\\nFATHER: Cut that out!  Cut that out!  Look, you're marrying Princess Lucky, so you'd better get used to the idea! [smack] Guards!  Make sure the Prince doesn't leave this room until I come and get him.\\nGUARD #1: Not to leave the room even if you come and get him.\\nGUARD #2: Hic!\\nFATHER: No, no.  Until I come and get him.\\nGUARD #1: Until you come and get him, we're not to enter the room.\\nFATHER: No, no.  No.  You stay in the room and make sure he doesn't leave.\\nGUARD #1: And you'll come and get him.\\nGUARD #2: Hic!\\nFATHER: Right.\\nGUARD #1: We don't need to do anything, apart from just stop him entering the room.\\nFATHER: No, no.  Leaving the room.\\nGUARD #1: Leaving the room.  Yes. [sniff] \\nFATHER: All right?\\nGUARD #1: Right.\\nGUARD #2: Hic!\\nFATHER: Right.\\nGUARD #1: Oh, if-- if-- if-- uhh-- if-- if-- w-- ehh-- i-- if-- if we--\\nFATHER: Yes?  What is it?\\nGUARD #1: Oh, i-- if-- i-- oh--\\nFATHER: Look, it's quite simple.\\nGUARD #1: Uh...\\nFATHER: You just stay here, and make sure 'e doesn't leave the room.  Alright?\\nGUARD #2: Hic!\\nFATHER: Right.\\nGUARD #1: Oh, I remember.  Uhh, can he leave the room with us?\\nFATHER: N-- no no.  No.  You just keep him in here, and make sure he--\\nGUARD #1: Oh, yes.  We'll keep him in here, obviously.  But if he had to leave and we were with him--\\nFATHER: No, no, no, no.  Just keep him in here--\\nGUARD #1: Until you, or anyone else--\\nFATHER: No, not anyone else.  Just me.\\nGUARD #1: Just you.\\nGUARD #2: Hic!\\nFATHER: Get back.\\nGUARD #1: Get back.\\nFATHER: All right?\\nGUARD #1: Right.  We'll stay here until you get back.\\nGUARD #2: Hic!\\nFATHER: And, uh, make sure he doesn't leave.\\nGUARD #1: What?\\nFATHER: Make sure 'e doesn't leave.\\nGUARD #1: The Prince?\\nFATHER: Yes.  Make sure 'e doesn't leave.\\nGUARD #1: Oh, yes, of course.  \\nGUARD #2: Hic!\\nGUARD #1: Ah.  I thought you meant him.  You know, it seemed a bit daft me havin' to guard him when he's a guard.\\nFATHER: Is that clear?\\nGUARD #2: Hic!\\nGUARD #1: Oh, quite clear.  No problems.\\nFATHER: Right.  Where are you going?\\nGUARD #1: We're coming with you.\\nFATHER: No, no.  I want you to stay here and make sure 'e doesn't leave.\\nGUARD #1: Oh, I see.  Right.\\nHERBERT: But Father!\\nFATHER: Shut your noise, you!  And get that suit on! [music] And no singing!\\nGUARD #2: Hic!\\nFATHER: Oh, go and get a glass of water. [clank] [scribble scribble scribble fold fold] [twong]\\nSCENE 15:\\nLAUNCELOT: Well taken, Concorde!\\nCONCORDE: Thank you, sir!  Most kind.\\nLAUNCELOT: And again!  Over we go!  Good.  Steady!  And now, the big one!  Uuh!  Come on, Concorde! [thwonk] \\nCONCORDE: Message for you, sir. [fwump] \\nLAUNCELOT: Concorde!  Concorde!  Speak to me!  'To whoever finds this note: I have been imprisoned by my father, who wishes me to marry against my will.  Please, please, please come and rescue me.  I am in the Tall Tower of Swamp Castle.' At last!  A call!  A cry of distress!  This could be the sign that leads us to the Holy Grail!  Brave, brave Concorde, you shall not have died in vain!\\nCONCORDE: Uh, I'm-- I'm not quite dead, sir.\\nLAUNCELOT: Well, you shall not have been mortally wounded in vain!\\nCONCORDE: I-- I-- I think I c-- I could pull through, sir.\\nLAUNCELOT: Oh, I see.\\nCONCORDE: Actually, I think I'm all right to come with you, sir--\\nLAUNCELOT: No, no, sweet Concorde!  Stay here!  I will send help as soon as I have accomplished a daring and heroic rescue in my own particular...  [sigh] \\nCONCORDE: Idiom, sir?\\nLAUNCELOT: Idiom!\\nCONCORDE: No, I feel fine, actually, sir.\\nLAUNCELOT: Farewell, sweet Concorde!\\nCONCORDE: I'll, um, I'll just stay here then.  Shall I, sir?  Yeah\\nSCENE 16: [inside castle] \\nPRINCESS LUCKY and GIRLS: [giggle giggle giggle] [outside castle] \\nGUEST: 'Morning!\\nSENTRY #1: 'Morning.\\nSENTRY #2: Oooh.\\nSENTRY #1: [ptoo] \\nLAUNCELOT: Ha ha!  Hiyya!\\nSENTRY #2: Hey!\\nLAUNCELOT: Hiyya!, Ha!, etc.\\nPRINCESS LUCKY and GIRLS: [giggle giggle giggle] \\nLAUNCELOT: Ha ha!  Huy!\\nGUESTS: Uuh!  Aaah!\\nLAUNCELOT: Ha ha!  And take this!  Aah!  Hiyah!  Aah!  Aaah!  Hyy!  Hya!  Hiyya!  Ha! ...\\nGUARD #1: Now, you're not allowed to enter the room-- aaugh!\\nLAUNCELOT: O fair one, behold your humble servant Sir Launcelot of Camelot.  I have come to take y-- Oh, I'm terribly sorry.\\nHERBERT: You got my note!\\nLAUNCELOT: Uh, well, I-- I got a-- a note.\\nHERBERT: You've come to rescue me!\\nLAUNCELOT: Uh, well, no.  You see, I hadn't--\\nHERBERT: I knew someone would.  I knew that somewhere out there...  [music] \\nLAUNCELOT: Well, I--\\nHERBERT: ... there must be...  someone...\\nFATHER: Stop that!  Stop that!  Stop it!  Stop it!  Who are you?\\nHERBERT: I'm your son!\\nFATHER: No, not you.\\nLAUNCELOT: Uh, I am Sir Launcelot, sir.\\nHERBERT: He's come to rescue me, Father.\\nLAUNCELOT: Well, let's not jump to conclusions.\\nFATHER: Did you kill all those guards?\\nLAUNCELOT: Uh...  Oh, yes.  Sorry.\\nFATHER: They cost fifty pounds each!\\nLAUNCELOT: Well, I'm awfully sorry.  Um, I really can explain everything.\\nHERBERT: Don't be afraid of him, Sir Launcelot.  I've got a rope all ready.\\nFATHER: You killed eight wedding guests in all!\\nLAUNCELOT: Well, uh, you see, the thing is, I thought your son was a lady.\\nFATHER: I can understand that.\\nHERBERT: Hurry, Sir Launcelot!  Hurry!\\nFATHER: Shut up!  You only killed the bride's father, that's all!\\nLAUNCELOT: Well, I really didn't mean to...\\nFATHER: Didn't mean to?!  You put your sword right through his head!\\nLAUNCELOT: Oh, dear.  Is he all right?\\nFATHER: You even kicked the bride in the chest!  This is going to cost me a fortune!\\nLAUNCELOT: Well, I can explain.  I was in the forest, um, riding north from Camelot, when I got this note, you see--\\nFATHER: Camelot?  Are you from, uh, Camelot?\\nHERBERT: Hurry, Sir Launcelot!\\nLAUNCELOT: Uh, I am a Knight of King Arthur, sir.\\nFATHER: Very nice castle, Camelot.  Uh, very good pig country...\\nLAUNCELOT: Is it?\\nHERBERT: Hurry!  I'm ready!\\nFATHER: Would you, uh, like to come and have a drink?\\nLAUNCELOT: Well, that-- that's, uh, awfully nice of you, ...\\nHERBERT: I am ready!\\nLAUNCELOT: ... um, I mean to be so understanding. [thonk] Um, ... [woosh] \\nHERBERT: Oooh!\\nLAUNCELOT: ... I'm afraid when I'm in this idiom, I sometimes get a bit, uh, sort of carried away.\\nFATHER: Oh, don't worry about that.\\nHERBERT: Oooh! [splat] \\nSCENE 17:\\nGUESTS: [crying] \\nFATHER: Well, this is the main hall.  We're going to have all this knocked through, and made into one big, uh, living room.\\nGUEST: There he is!\\nFATHER: Oh, bloody hell.\\nLAUNCELOT: Ha ha ha!  Hey!  Ha ha!\\nFATHER: Hold it!  Stop it!  Hold it!  Hold it!  Hold it!  Hold it!  Hold it!  Please!\\nLAUNCELOT: Sorry.  Sorry.  You see what I mean?  I just get carried away.  I'm really most awfully sorry.  Sorry!  Sorry, everyone.\\nGUEST #1: He's killed the best man!\\nGUESTS: [yelling] \\nFATHER: Hold it!  Hold it!  Please!  Hold it!  This is Sir Launcelot from the Court of Camelot, a very brave and influential knight, and my special guest here today.\\nLAUNCELOT: Hello.\\nGUEST: He killed my auntie!\\nGUESTS: [yelling] \\nFATHER: Please!  Please!  This is supposed to be a happy occasion!  Let's not bicker and argue about who killed who.  We are here today to witness the union of two young people in the joyful bond of the holy wedlock.  Unfortunately, one of them, my son Herbert, has just fallen to his death.\\nGUESTS: Oh!  Oh no!\\nFATHER: But I don't want to think I've not lost a son, so much as...  gained a daughter! [clap clap clap] For, since the tragic death of her father--\\nGUEST #2: He's not quite dead!\\nFATHER: Since the near fatal wounding of her father--\\nGUEST #2: He's getting better!\\nFATHER: For, since her own father, who, when he seemed about to recover, suddenly felt the icy hand of death upon him.\\nBRIDE'S FATHER: Uugh!\\nGUEST #2: Oh, he's died!\\nFATHER: And I want his only daughter to look upon me as her old dad, in a very real, and legally binding sense. [clap clap clap] And I feel sure that the merger-- er, the union between the Princess and the brave, but dangerous, Sir Launcelot of Camelot--\\nLAUNCELOT: What?\\nGUEST #2: Look!  The dead Prince!\\nGUESTS: Oooh!  The dead Prince!\\nCONCORDE: He's not quite dead.\\nHERBERT: No, I feel much better.\\nFATHER: You fell out of the Tall Tower, you creep!\\nHERBERT: No, I was saved at the last minute.\\nFATHER: How?!\\nHERBERT: Well, I'll tell you. [music] \\nFATHER: Not like that!  Not like that!  No!  Stop it!\\nGUESTS: [singing] He's going to tell!  He's going to tell! ...\\nFATHER: Shut uuup!\\nGUESTS: [singing] He's going to tell! ...\\nFATHER: Shut up!\\nGUESTS: [singing] He's going to tell! ...\\nFATHER: Shut up!\\nGUESTS: [singing] He's going to tell! ...\\nFATHER: Not like that!\\nGUESTS: [singing] He's going to tell!  He's going to tell!  He's going to tell!  He's going to tell! ...\\nCONCORDE: Quickly, sir!\\nGUESTS: [singing] He's going to tell! ...\\nCONCORDE: Come this way!\\nGUESTS: [singing] He's going to tell!  He's going to tell! ...\\nLAUNCELOT: No!  It's not right for my idiom!\\nGUESTS: [singing] He's going to tell about his great escape...\\nLAUNCELOT: I must escape more...  [sigh] \\nGUESTS: [singing] Oh, he fell a long, long way...\\nCONCORDE: Dramatically, sir?\\nLAUNCELOT: Dramatically!\\nGUESTS: [singing] But he's here with us today...\\nLAUNCELOT: Heee!  Hoa! [crash] Hoo!\\nGUESTS: [singing] What a wonderful escape!\\nLAUNCELOT: Excuse me.  Could, uh-- could somebody give me a push, please\\nSCENE 18: [King Arthur music] [clop clop clop] [rewr!  rewr!  rewr!  rewr!  rewr!  rewr!] \\nARTHUR: Old crone! [rewr!] [music stops] Is there anywhere in this town where we could buy a shrubbery? [dramatic chord] \\nOLD CRONE: Who sent you?\\nARTHUR: The Knights Who Say 'Ni'.\\nCRONE: Aggh!  No!  Never!  We have no shrubberies here.\\nARTHUR: If you do not tell us where we can buy a shrubbery, my friend and I will say...  we will say...  'ni'.\\nCRONE: Agh!  Do your worst!\\nARTHUR: Very well!  If you will not assist us voluntarily, ...  ni!\\nCRONE: No!  Never!  No shrubberies!\\nARTHUR: Ni!\\nCRONE: [cough] \\nBEDEVERE: Nu!\\nARTHUR: No, no, no, no...\\nBEDEVERE: Nu!\\nARTHUR: No, it's not that, it's 'ni'.\\nBEDEVERE: Nu!\\nARTHUR: No, no-- 'ni'.  You're not doing it properly.  No.\\nBEDEVERE: Ni!\\nARTHUR and BEDEVERE: Ni!\\nARTHUR: That's it.  That's it.  You've got it.\\nARTHUR and BEDEVERE: Ni!\\nCRONE: Ohh!\\nBEDEVERE: Ni!\\nARTHUR: Ni!\\nCRONE: Agh!\\nBEDEVERE: Ni!\\nARTHUR: Ni!\\nBEDEVERE: Ni!\\nARTHUR: Ni!\\nBEDEVERE: Ni!\\nROGER THE SHRUBBER: Are you saying 'ni' to that old woman?\\nARTHUR: Erm, yes.\\nROGER: Oh, what sad times are these when passing ruffians can 'ni' at will to old ladies.  There is a pestilence upon this land.  Nothing is sacred. Even those who arrange and design shrubberies are under considerable economic stress at this period in history.\\nARTHUR: Did you say 'shrubberies'?\\nROGER: Yes.  Shrubberies are my trade.  I am a shrubber.  My name is Roger the Shrubber.  I arrange, design, and sell shrubberies.\\nBEDEVERE: Ni!\\nARTHUR: No!  No, no, no!  No\\nSCENE 19:\\nARTHUR: O Knights of Ni, we have brought you your shrubbery.  May we go now?\\nHEAD KNIGHT: It is a good shrubbery.  I like the laurels particularly.  But there is one small problem.\\nARTHUR: What is that?\\nHEAD KNIGHT: We are now...  no longer the Knights Who Say 'Ni'.\\nKNIGHTS OF NI: Ni!  Shh!\\nHEAD KNIGHT: Shh!  We are now the Knights Who Say 'Ecky-ecky-ecky-ecky-pikang-zoop-boing-goodem-zoo-owli-zhiv'.\\nRANDOM: Ni!\\nHEAD KNIGHT: Therefore, we must give you a test.\\nARTHUR: What is this test, O Knights of-- Knights Who 'Til Recently Said 'Ni'?\\nHEAD KNIGHT: Firstly, you must find...  another shrubbery! [dramatic chord] \\nARTHUR: Not another shrubbery!\\nRANDOM: Ni!\\nHEAD KNIGHT: Then, when you have found the shrubbery, you must place it here beside this shrubbery, only slightly higher so you get the two-level effect with a little path running down the middle.\\nKNIGHTS OF NI: A path!  A path!  A path!  Ni!  Shh!  Ni!  Ni!  Ni!  Shh!  Shh! ...\\nHEAD KNIGHT: Then, when you have found the shrubbery, you must cut down the mightiest tree in the forest...  with...  a herring! [dramatic chord] \\nARTHUR: We shall do no such thing!\\nHEAD KNIGHT: Oh, please!\\nARTHUR: Cut down a tree with a herring?  It can't be done.\\nKNIGHTS OF NI: Aaaugh!  Aaaugh!\\nHEAD KNIGHT: Augh!  Ohh!  Don't say that word.\\nARTHUR: What word?\\nHEAD KNIGHT: I cannot tell, suffice to say is one of the words the Knights of Ni cannot hear.\\nARTHUR: How can we not say the word if you don't tell us what it is?\\nKNIGHTS OF NI: Aaaaugh!\\nHEAD KNIGHT: You said it again!\\nARTHUR: What, 'is'?\\nKNIGHTS OF NI: Agh!  No, not 'is'.\\nHEAD KNIGHT: No, not 'is'.  You wouldn't get vary far in life not saying 'is'.\\nKNIGHTS OF NI: No, not 'is'.  Not 'is'.\\nBEDEVERE: My liege, it's Sir Robin!\\nMINSTREL: [singing] Packing it in and packing it up, And sneaking away and buggering up, And chickening out and pissing off home, Yes, bravely he is throwing in the sponge.\\nARTHUR: Sir Robin!\\nROBIN: My liege!  It's good to see you.\\nHEAD KNIGHT: Now he's said the word!  \\nARTHUR: Surely you've not given up your quest for the Holy Grail?\\nMINSTREL: [singing] He is sneaking away and buggering up--\\nROBIN: Shut up!  No, no.  No.  Far from it.\\nHEAD KNIGHT: He said the word again!\\nKNIGHTS OF NI: Aaaaugh!\\nROBIN: I was looking for it.\\nKNIGHTS OF NI: Aaaaugh!\\nROBIN: Uh, here-- here in this forest.\\nARTHUR: No, it is far from this place.\\nKNIGHTS OF NI: Aaaaugh!\\nHEAD KNIGHT: Aaaaugh!  Stop saying the word!  The word...\\nARTHUR: Oh, stop it!\\nKNIGHTS OF NI: ... we cannot hear!\\nHEAD KNIGHT: Ow!  He said it again!\\nARTHUR: Patsy!\\nHEAD KNIGHT: Wait!  I said it!  I said it! [clop clop clop] Ooh!  I said it again!  And there again!  That's three 'it's!  Ohh!\\nKNIGHTS OF NI: Aaaaugh\\nNARRATOR: And so, Arthur and Bedevere and Sir Robin set out on their search to find the enchanter of whom the old man had spoken in scene twenty-four.  Beyond the forest they met Launcelot and Galahad, and there was much rejoicing.\\nKNIGHTS: Yay!  Yay! [woosh] \\nNARRATOR: In the frozen land of Nador, they were forced to eat Robin's minstrels.\\nMINSTREL: [high-pitched] Get back!  Eee!\\nNARRATOR: And there was much rejoicing.\\nKNIGHTS: Yay!\\nNARRATOR: A year passed.\\nCARTOON CHARACTER: [shivering] \\nNARRATOR: Winter changed into Spring.\\nCARTOON CHARACTER: Mmm, nice.\\nNARRATOR: Spring changed into Summer.\\nCARTOON CHARACTER: Oh.  Ahh.\\nNARRATOR: Summer changed back into Winter.\\nCARTOON CHARACTER: Oh?\\nNARRATOR: And Winter gave Spring and Summer a miss and went straight on into Autumn.\\nCARTOON CHARACTER: Aah. [snap] Oh!  Waa!\\nNARRATOR: Until one day..\\nSCENE 20: [King Arthur music] [clop clop clop] [music stops] [boom] \\nKNIGHTS: Eh.  Oh.  See it?  Oh.  Oh.\\nARTHUR: Knights!  Forward! [boom boom boom boom boom] [squeak] [boom boom boom boom] What manner of man are you that can summon up fire without flint or tinder?\\nTIM THE ENCHANTER: I...  am an enchanter.\\nARTHUR: By what name are you known?\\nTIM: There are some who call me...  Tim?\\nARTHUR: Greetings, Tim the Enchanter.\\nTIM: Greetings, King Arthur!\\nARTHUR: You know my name?\\nTIM: I do. [zoosh] You seek the Holy Grail!\\nARTHUR: That is our quest.  You know much that is hidden, O Tim.\\nTIM: Quite. [pweeng boom] [clap clap clap] \\nROBIN: Oh.\\nARTHUR: Yes, we're-- we're looking for the Holy Grail.  Our quest is to find the Holy Grail.\\nKNIGHTS: Yeah.  Yes.  It is.  It is.  Yeah.  Yup.  Yup.  Hm.\\nARTHUR: And so we're-- we're-- we're-- we're looking for it.\\nBEDEVERE: Yes, we are.\\nGALAHAD: Yeah.  \\nROBIN: We are.  We are.\\nBEDEVERE: We have been for some time.\\nROBIN: Ages.\\nBEDEVERE: Umhm.\\nARTHUR: Uh-- uh, so, uh, anything that you could do to, uh-- to help, would be...  very...  helpful.\\nGALAHAD: Look, can you tell us where-- [boom] \\nARTHUR: Fine.  Um, I don't want to waste any more of your time, but, uh, I don't suppose you could, uh, tell us where we might find a, um-- find a, uh-- a, um-- a, uh--\\nTIM: A what...?\\nARTHUR: A g-- a-- a g-- a g-- a-- a g--\\nTIM: A grail?!\\nARTHUR: Yes, I think so.\\nROBIN: Y-- y-- yes.\\nARTHUR: Yes.\\nGALAHAD: Yup.\\nKNIGHTS: That's it...\\nTIM: Yes!\\nROBIN: Oh.\\nARTHUR: Oh.  Thank you.\\nROBIN: Ahh.\\nGALAHAD: Oh.  Fine.\\nARTHUR: Thank you.\\nROBIN: Splendid.\\nKNIGHTS: Aah... [boom pweeng boom boom] \\nARTHUR: Look, um, you're a busy man, uh--\\nTIM: Yes, I can help you find the Holy Grail.\\nKNIGHTS: Oh, thank you.  Oh...\\nTIM: To the north there lies a cave-- the cave of Caerbannog-- wherein, carved in mystic runes upon the very living rock, the last words of Olfin Bedwere of Rheged... [boom] ... make plain the last resting place of the most Holy Grail.\\nARTHUR: Where could we find this cave, O Tim?\\nTIM: Follow.  But!  Follow only if ye be men of valor, for the entrance to this cave is guarded by a creature so foul, so cruel that no man yet has fought with it and lived!  Bones of full fifty men lie strewn about its lair.  So, brave knights, if you do doubt your courage or your strength, come no further, for death awaits you all with nasty, big, pointy teeth.\\nARTHUR: What an eccentric performance\\nSCENE 21: [clop clop clop] [whinny whinny] \\nGALAHAD: They're nervous, sire.\\nARTHUR: Then we'd best leave them here and carry on on foot.  Dis-mount!\\nTIM: Behold the cave of Caerbannog!\\nARTHUR: Right!  Keep me covered.\\nGALAHAD: What with?\\nARTHUR: W-- just keep me covered.\\nTIM: Too late! [dramatic chord] \\nARTHUR: What?\\nTIM: There he is!\\nARTHUR: Where?\\nTIM: There!\\nARTHUR: What, behind the rabbit?\\nTIM: It is the rabbit!\\nARTHUR: You silly sod!\\nTIM: What?\\nARTHUR: You got us all worked up!\\nTIM: Well, that's no ordinary rabbit.\\nARTHUR: Ohh.\\nTIM: That's the most foul, cruel, and bad-tempered rodent you ever set eyes on.\\nROBIN: You tit!  I soiled my armor I was so scared!\\nTIM: Look, that rabbit's got a vicious streak a mile wide; it's a killer!\\nGALAHAD: Get stuffed!\\nTIM: He'll do you up a treat mate!\\nGALAHAD: Oh, yeah?\\nROBIN: You mangy scots git!\\nTIM: I'm warning you!\\nROBIN: What's he do, nibble your bum?\\nTIM: He's got huge, sharp-- eh-- he can leap about-- look at the bones!\\nARTHUR: Go on, Bors.  Chop his head off!\\nBORS: Right!  Silly little bleeder.  One rabbit stew comin' right up!\\nTIM: Look! [squeak] \\nBORS: Aaaugh! [dramatic chord] [clunk] \\nARTHUR: Jesus Christ!\\nTIM: I warned you!\\nROBIN: I done it again!\\nTIM: I warned you, but did you listen to me?  Oh, no, you knew it all, didn't you?  Oh, it's just a harmless little bunny, isn't it?  Well, it's always the same.  I always tell them--\\nARTHUR: Oh, shut up!\\nTIM: Do they listen to me?\\nARTHUR: Right!\\nTIM: Oh, no...\\nKNIGHTS: Charge! [squeak squeak squeak] \\nKNIGHTS: Aaaaugh!, Aaaugh!, etc.\\nARTHUR: Run away!  Run away!\\nKNIGHTS: Run away!  Run away! ...\\nTIM: Ha ha ha ha!  Ha haw haw!  Ha!  Ha ha!\\nARTHUR: Right.  How many did we lose?\\nLAUNCELOT: Gawain.\\nGALAHAD: Ector.\\nARTHUR: And Bors.  That's five.\\nGALAHAD: Three, sir.\\nARTHUR: Three.  Three.  And we'd better not risk another frontal assault.  That rabbit's dynamite.\\nROBIN: Would it help to confuse it if we run away more?\\nARTHUR: Oh, shut up and go and change your armor.\\nGALAHAD: Let us taunt it!  It may become so cross that it will make a mistake.\\nARTHUR: Like what?\\nGALAHAD: Well...  ooh.\\nLAUNCELOT: Have we got bows?\\nARTHUR: No.\\nLAUNCELOT: We have the Holy Hand Grenade.\\nARTHUR: Yes, of course!  The Holy Hand Grenade of Antioch!  'Tis one of the sacred relics Brother Maynard carries with him!  Brother Maynard!  Bring up the Holy Hand Grenade!\\nMONKS: [chanting] Pie Iesu domine, dona eis requiem.  Pie Iesu domine, donaeis requiem.  Pie Iesu domine, dona eis requiem.  Pie Iesu domine, dona eisrequiem.\\nARTHUR: How does it, um-- how does it work?\\nLAUNCELOT: I know not, my liege.\\nARTHUR: Consult the Book of Armaments!\\nBROTHER MAYNARD: Armaments, Chapter Two, verses Nine to Twenty-one.\\nSECOND BROTHER: And Saint Attila raised the hand grenade up on high, saying,'O Lord, bless this thy hand grenade that with it thou mayest blow thine enemies to tiny bits, in thy mercy.' And the Lord did grin, and the people did feast upon the lambs and sloths and carp and anchovies and orangutans and breakfast cereals and fruit bats and large chu--\\nMAYNARD: Skip a bit, Brother.\\nSECOND BROTHER: And the Lord spake, saying, 'First shalt thou take out the Holy Pin.  Then, shalt thou count to three, no more, no less.  Three shalt be the number thou shalt count, and the number of the counting shall be three.  Four shalt thou not count, nor either count thou two, excepting that thou then proceed to three.  Five is right out.  Once the number three, being the third number, be reached, then lobbest thou thy Holy Hand Grenade of Antioch towards thy foe, who, being naughty in my sight, shall snuff it.'\\nMAYNARD: Amen.\\nKNIGHTS: Amen.\\nARTHUR: Right!  One...  two...  five!\\nGALAHAD: Three, sir!\\nARTHUR: Three! [angels sing] [boom] \\nSCENE 22:\\nARTHUR: There!  Look!\\nLAUNCELOT: What does it say?\\nGALAHAD: What language is that?\\nARTHUR: Brother Maynard!  You are a scholar.\\nMAYNARD: It's Aramaic!\\nGALAHAD: Of course!  Joseph of Arimathea!\\nLAUNCELOT: 'Course!\\nARTHUR: What does it say?\\nMAYNARD: It reads, 'Here may be found the last words of Joseph of Arimathea.  He who is valiant and pure of spirit may find the Holy Grail in the Castle of uuggggggh'.\\nARTHUR: What?\\nMAYNARD: '...  the Castle of uuggggggh'.\\nBEDEVERE: What is that?\\nMAYNARD: He must have died while carving it.\\nLAUNCELOT: Oh, come on!\\nMAYNARD: Well, that's what it says.\\nARTHUR: Look, if he was dying, he wouldn't bother to carve 'aaggggh'.  He'd just say it!\\nMAYNARD: Well, that's what's carved in the rock!\\nGALAHAD: Perhaps he was dictating.\\nARTHUR: Oh, shut up.  Well, does it say anything else?\\nMAYNARD: No.  Just, 'uuggggggh'.\\nLAUNCELOT: Aauuggghhh.\\nARTHUR: Aaauggh.\\nBEDEVERE: Do you suppose he meant the Camaaaaaargue?\\nGALAHAD: Where's that?\\nBEDEVERE: France, I think.\\nLAUNCELOT: Isn't there a Saint Aauuuves in Cornwall?\\nARTHUR: No, that's Saint Ives.\\nLAUNCELOT: Oh, yes.  Saint Iiiives.\\nKNIGHTS: Iiiiives.\\nBEDEVERE: Oooohoohohooo!\\nLAUNCELOT: No, no.  'Aauuuuugh', at the back of the throat.  Aauuugh.\\nBEDEVERE: N-- no.  No, no, no, no.  'Oooooooh', in surprise and alarm.\\nLAUNCELOT: Oh, you mean sort of a 'aaaah'!\\nBEDEVERE: Yes, but I-- aaaaaah!\\nARTHUR: Oooh!\\nGALAHAD: My God! [dramatic chord] [roar] \\nMAYNARD: It's the legendary Black Beast of Aaauugh! [Black Beast of Aaauugh eats BROTHER MAYNARD] \\nBEDEVERE: That's it!  That's it!\\nARTHUR: Run away!\\nKNIGHTS: Run away! [roar] Run away!  Run awaaay!  Run awaaaaay! [roar] Keep running! [boom] [roar] Shh!  Shh!  Shh!  Shh!  Shh!  Shh!  Shh!  Shh! ...\\nBEDEVERE: We've lost him. [roar] \\nKNIGHTS: Aagh!\\nNARRATOR: As the horrendous Black Beast lunged forward, escape for Arthur and his knights seemed hopeless, when suddenly, the animator suffered a fatal heart attack.\\nANIMATOR: Ulk! [thump] \\nNARRATOR: The cartoon peril was no more.  The quest for Holy Grail could continue.\\nSCENE 23: [gurgle] \\nGALAHAD: There it is!\\nARTHUR: The Bridge of Death!\\nROBIN: Oh, great.\\nARTHUR: Look!  There's the old man from scene twenty-four!\\nBEDEVERE: What is he doing here?\\nARTHUR: He is the keeper of the Bridge of Death.  He asks each traveller five questions--\\nGALAHAD: Three questions.\\nARTHUR: Three questions.  He who answers the five questions--\\nGALAHAD: Three questions.\\nARTHUR: Three questions may cross in safety.\\nROBIN: What if you get a question wrong?\\nARTHUR: Then you are cast into the Gorge of Eternal Peril.\\nROBIN: Oh, I won't go.\\nGALAHAD: Who's going to answer the questions?\\nARTHUR: Sir Robin!\\nROBIN: Yes?\\nARTHUR: Brave Sir Robin, you go.\\nROBIN: Hey!  I've got a great idea.  Why doesn't Launcelot go?\\nLAUNCELOT: Yes.  Let me go, my liege.  I will take him single-handed.  I shall make a feint to the north-east that s--\\nARTHUR: No, no.  No.  Hang on!  Hang on!  Hang on!  Just answer the five questions--\\nGALAHAD: Three questions.\\nARTHUR: Three questions as best you can.  And we shall watch...  and pray.\\nLAUNCELOT: I understand, my liege.\\nARTHUR: Good luck, brave Sir Launcelot.  God be with you.\\nBRIDGEKEEPER: Stop!  Who would cross the Bridge of Death must answer me these questions three, ere the other side he see.\\nLAUNCELOT: Ask me the questions, bridgekeeper.  I am not afraid.\\nBRIDGEKEEPER: What is your name?\\nLAUNCELOT: My name is Sir Launcelot of Camelot.\\nBRIDGEKEEPER: What is your quest?\\nLAUNCELOT: To seek the Holy Grail.\\nBRIDGEKEEPER: What is your favorite color?\\nLAUNCELOT: Blue.\\nBRIDGEKEEPER: Right.  Off you go.\\nLAUNCELOT: Oh, thank you.  Thank you very much.\\nROBIN: That's easy!\\nBRIDGEKEEPER: Stop!  Who approacheth the Bridge of Death must answer me these questions three, ere the other side he see.\\nROBIN: Ask me the questions, bridgekeeper.  I'm not afraid.\\nBRIDGEKEEPER: What is your name?\\nROBIN: Sir Robin of Camelot.\\nBRIDGEKEEPER: What is your quest?\\nROBIN: To seek the Holy Grail.\\nBRIDGEKEEPER: What is the capital of Assyria?\\nROBIN: I don't know that!  Auuuuuuuugh!\\nBRIDGEKEEPER: Stop!  What is your name?\\nGALAHAD: Sir Galahad of Camelot.\\nBRIDGEKEEPER: What is your quest?\\nGALAHAD: I seek the Grail.\\nBRIDGEKEEPER: What is your favorite color?\\nGALAHAD: Blue.  No yel-- auuuuuuuugh!\\nBRIDGEKEEPER: Hee hee heh.  Stop!  What is your name?\\nARTHUR: It is Arthur, King of the Britons.\\nBRIDGEKEEPER: What is your quest?\\nARTHUR: To seek the Holy Grail.\\nBRIDGEKEEPER: What is the air-speed velocity of an unladen swallow?\\nARTHUR: What do you mean?  An African or European swallow?\\nBRIDGEKEEPER: Huh?  I-- I don't know that!  Auuuuuuuugh!\\nBEDEVERE: How do know so much about swallows?\\nARTHUR: Well, you have to know these things when you're a king, you know. [suspenseful music] [music suddenly stops] [intermission] [suspenseful music resumes]\\nSCENE 24:\\nARTHUR: Launcelot!  Launcelot!  Launcelot!\\nBEDEVERE: Launcelot!  Launcelot!\\nARTHUR: Launcelot! [police radio] Launcelot!\\nBEDEVERE: Launcelot!  Launcelot! [angels sing] [singing stops] [ethereal music] \\nARTHUR: The Castle Aaagh.  Our quest is at an end!  God be praised!  Almighty God, we thank Thee that Thou hast vouchsafed to us the most holy-- [twong] [baaaa] Jesus Christ! [thud] \\nFRENCH GUARD: Allo, dappy English k-niggets and Monsieur Arthur King, who has the brain of a duck, you know.  So, we French fellows outwit you a second time!\\nARTHUR: How dare you profane this place with your presence!  I command you, in the name of the Knights of Camelot, to open the doors of this sacred castle, to which God Himself has guided us!\\nFRENCH GUARD: How you English say, 'I one more time, mac, unclog my nose in your direction', sons of a window-dresser!  So, you think you could out-clever us French folk with your silly knees-bent running about advancing behaviour?!  I wave my private parts at your aunties, you cheesy lot of second hand electric donkey-bottom biters.\\nARTHUR: In the name of the Lord, we demand entrance to this sacred castle!\\nFRENCH GUARD: No chance, English bed-wetting types.  I burst my pimples at you and call your door-opening request a silly thing, you tiny-brained wipers of other people's bottoms!\\nARTHUR: If you do not open this door, we shall take this castle by force! [splat] In the name of God and the glory of our-- [splat] \\nFRENCH GUARDS: [laughing] \\nARTHUR: Agh.  Right!  That settles it!\\nFRENCH GUARD: Yes, depart a lot at this time, and cut the approaching any more or we fire arrows at the tops of your heads and make castanets out of your testicles already!  Ha ha haaa ha!\\nARTHUR: Walk away.  Just ignore them.\\nFRENCH GUARD: And now, remain gone, illegitimate-faced bugger-folk!  And, if you think you got a nasty taunting this time, you ain't heard nothing yet, dappy English k-nnniggets!  Thpppt!\\nFRENCH GUARDS: [taunting] \\nARTHUR: We shall attack at once!\\nBEDEVERE: Yes, my liege!\\nARTHUR: Stand by for attack! [exciting music] [music stops] [silence] French persons!\\nFRENCH GUARDS: [taunting] ... Dappy! ...\\nARTHUR: Today the blood of many a valiant knight shall be avenged.  In the name of God, ...\\nFRENCH GUARDS: Hoo hoo!  Ohh, ha ha ha ha ha! ...\\nARTHUR: ... we shall not stop our fight 'til each one of you lies dead, and the Holy Grail returns to those whom God has chosen!\\nFRENCH GUARDS: ... Ha ha ha! ...\\nARTHUR: Charge!\\nARMY OF KNIGHTS: Hooray! [police siren] \\nHISTORIAN'S WIFE: Yes.  They're the ones.  I'm sure.\\nINSPECTOR: Come on.  Anybody armed must go too.\\nOFFICER #1: All right.  Come on.  Back.\\nHISTORIAN'S WIFE: Get that one.\\nOFFICER #1: Back.  Right away.  Just...  pull it off.  Come on.  Come along.\\nINSPECTOR: Put this man in the van.\\nOFFICER #1: Clear off.  Come on.\\nBEDEVERE: With whom?\\nINSPECTOR: Which one?\\nOFFICER #1: Oh-- this one.\\nINSPECTOR: Come on.  Put him in the van.\\nOFFICER #2: Get a blanket.\\nOFFICER #1: We have no hospital.\\nRANDOM: Ahh. [squeak] \\nRANDOM: Ooh.\\nOFFICER #1: Come on.  Back.  Riiight back.  Come on!\\nOFFICER #2: Run along!  Run along!\\nOFFICER #1: Pull that off.  My, that's an offensive weapon, that is.\\nOFFICER #2: Come on.  Back with 'em.  Back.  Right.  Come along.\\nINSPECTOR: Everything? [squeak] \\nOFFICER #1: All right, sonny.  That's enough.  Just pack that in. [crash] \\nCAMERAMAN: Christ!\\n\""
   ]
  },
  {
   "cell_type": "code",
   "execution_count": 38,
   "metadata": {},
   "outputs": [],
   "source": [
    "from matplotlib import pyplot as plt\n",
    "%matplotlib inline"
   ]
  },
  {
   "cell_type": "code",
   "execution_count": 39,
   "metadata": {},
   "outputs": [
    {
     "data": {
      "image/png": "[encoded data removed]",
      "text/plain": [
       "<Figure size 432x288 with 1 Axes>"
      ]
     },
     "metadata": {},
     "output_type": "display_data"
    }
   ],
   "source": [
    "# Split the script into lines: lines\n",
    "lines = holy_grail.split('\\n')\n",
    "\n",
    "# Replace all script lines for speaker\n",
    "pattern = \"[A-Z]{2,}(\\s)?(#\\d)?([A-Z]{2,})?:\"\n",
    "lines = [re.sub(pattern, '', l) for l in lines]\n",
    "\n",
    "# Tokenize each line: tokenized_lines\n",
    "tokenized_lines = [regexp_tokenize(s, \"\\w+\") for s in lines]\n",
    "\n",
    "# Make a frequency list of lengths: line_num_words\n",
    "line_num_words = [len(t_line) for t_line in tokenized_lines]\n",
    "\n",
    "# Plot a histogram of the line lengths\n",
    "plt.hist(line_num_words)\n",
    "\n",
    "# Show the plot\n",
    "plt.show()"
   ]
  },
  {
   "cell_type": "markdown",
   "metadata": {},
   "source": [
    "## <font color=red>02 -  Simple topic identification</font> \n",
    "\n",
    " This chapter will introduce you to topic identification, which you can apply to any text you encounter in the wild. Using basic NLP models, you will identify topics from texts based on term frequencies. You'll experiment and compare two simple methods - bag-of-words and Tf-idf using NLTK and a new library - Gensim. "
   ]
  },
  {
   "cell_type": "markdown",
   "metadata": {},
   "source": [
    "## Building a Counter with bag-of-words\n",
    "\n",
    "In this exercise, you'll build your first (in this course) bag-of-words counter using a Wikipedia article, which has been pre-loaded as article. Try doing the bag-of-words without looking at the full article text, and guessing what the topic is! If you'd like to peek at the title at the end, we've included it as article_title. Note that this article text has had very little preprocessing from the raw Wikipedia database entry.\n",
    "\n",
    "word_tokenize has been imported for you."
   ]
  },
  {
   "cell_type": "code",
   "execution_count": 8,
   "metadata": {},
   "outputs": [],
   "source": [
    "article ='\\'\\'\\'Debugging\\'\\'\\' is the process of finding and resolving of defects that prevent correct operation of computer software or a system.  \\n\\nNumerous books have been written about debugging (see below: #Further reading|Further reading), as it involves numerous aspects, including interactive debugging, control flow, integration testing, Logfile|log files, monitoring (Application monitoring|application, System Monitoring|system), memory dumps, Profiling (computer programming)|profiling, Statistical Process Control, and special design tactics to improve detection while simplifying changes.\\n\\nOrigin\\nA computer log entry from the Mark&nbsp;II, with a moth taped to the page\\n\\nThe terms \"bug\" and \"debugging\" are popularly attributed to Admiral Grace Hopper in the 1940s.[http://foldoc.org/Grace+Hopper Grace Hopper]  from FOLDOC While she was working on a Harvard Mark II|Mark II Computer at Harvard University, her associates discovered a moth stuck in a relay and thereby impeding operation, whereupon she remarked that they were \"debugging\" the system. However the term \"bug\" in the meaning of technical error dates back at least to 1878 and Thomas Edison (see software bug for a full discussion), and \"debugging\" seems to have been used as a term in aeronautics before entering the world of computers. Indeed, in an interview Grace Hopper remarked that she was not coining the term{{Citation needed|date=July 2015}}. The moth fit the already existing terminology, so it was saved.  A letter from J. Robert Oppenheimer (director of the WWII atomic bomb \"Manhattan\" project at Los Alamos, NM) used the term in a letter to Dr. Ernest Lawrence at UC Berkeley, dated October 27, 1944,http://bancroft.berkeley.edu/Exhibits/physics/images/bigscience25.jpg regarding the recruitment of additional technical staff.\\n\\nThe Oxford English Dictionary entry for \"debug\" quotes the term \"debugging\" used in reference to airplane engine testing in a 1945 article in the Journal of the Royal Aeronautical Society. An article in \"Airforce\" (June 1945 p.&nbsp;50) also refers to debugging, this time of aircraft cameras.  Hopper\\'s computer bug|bug was found on September 9, 1947. The term was not adopted by computer programmers until the early 1950s.\\nThe seminal article by GillS. Gill, [http://www.jstor.org/stable/98663 The Diagnosis of Mistakes in Programmes on the EDSAC], Proceedings of the Royal Society of London. Series A, Mathematical and Physical Sciences, Vol. 206, No. 1087 (May 22, 1951), pp. 538-554 in 1951 is the earliest in-depth discussion of programming errors, but it does not use the term \"bug\" or \"debugging\".\\nIn the Association for Computing Machinery|ACM\\'s digital library, the term \"debugging\" is first used in three papers from 1952 ACM National Meetings.Robert V. D. Campbell, [http://portal.acm.org/citation.cfm?id=609784.609786 Evolution of automatic computation], Proceedings of the 1952 ACM national meeting (Pittsburgh), p 29-32, 1952.Alex Orden, [http://portal.acm.org/citation.cfm?id=609784.609793 Solution of systems of linear inequalities on a digital computer], Proceedings of the 1952 ACM national meeting (Pittsburgh), p. 91-95, 1952.Howard B. Demuth, John B. Jackson, Edmund Klein, N. Metropolis, Walter Orvedahl, James H. Richardson, [http://portal.acm.org/citation.cfm?id=800259.808982 MANIAC], Proceedings of the 1952 ACM national meeting (Toronto), p. 13-16 Two of the three use the term in quotation marks.\\nBy 1963 \"debugging\" was a common enough term to be mentioned in passing without explanation on page 1 of the Compatible Time-Sharing System|CTSS manual.[http://www.bitsavers.org/pdf/mit/ctss/CTSS_ProgrammersGuide.pdf The Compatible Time-Sharing System], M.I.T. Press, 1963\\n\\nKidwell\\'s article \\'\\'Stalking the Elusive Computer Bug\\'\\'Peggy Aldrich Kidwell, [http://ieeexplore.ieee.org/xpl/freeabs_all.jsp?tp=&arnumber=728224&isnumber=15706 Stalking the Elusive Computer Bug], IEEE Annals of the History of Computing, 1998. discusses the etymology of \"bug\" and \"debug\" in greater detail.\\n\\nScope\\nAs software and electronic systems have become generally more complex, the various common debugging techniques have expanded with more methods to detect anomalies, assess impact, and schedule software patches or full updates to a system. The words \"anomaly\" and \"discrepancy\" can be used, as being more neutral terms, to avoid the words \"error\" and \"defect\" or \"bug\" where there might be an implication that all so-called \\'\\'errors\\'\\', \\'\\'defects\\'\\' or \\'\\'bugs\\'\\' must be fixed (at all costs). Instead, an impact assessment can be made to determine if changes to remove an \\'\\'anomaly\\'\\' (or \\'\\'discrepancy\\'\\') would be cost-effective for the system, or perhaps a scheduled new release might render the change(s) unnecessary. Not all issues are life-critical or mission-critical in a system. Also, it is important to avoid the situation where a change might be more upsetting to users, long-term, than living with the known problem(s) (where the \"cure would be worse than the disease\"). Basing decisions of the acceptability of some anomalies can avoid a culture of a \"zero-defects\" mandate, where people might be tempted to deny the existence of problems so that the result would appear as zero \\'\\'defects\\'\\'. Considering the collateral issues, such as the cost-versus-benefit impact assessment, then broader debugging techniques will expand to determine the frequency of anomalies (how often the same \"bugs\" occur) to help assess their impact to the overall system.\\n\\nTools\\nDebugging on video game consoles is usually done with special hardware such as this Xbox (console)|Xbox debug unit intended for developers.\\n\\nDebugging ranges in complexity from fixing simple errors to performing lengthy and tiresome tasks of data collection, analysis, and scheduling updates.  The debugging skill of the programmer can be a major factor in the ability to debug a problem, but the difficulty of software debugging varies greatly with the complexity of the system, and also depends, to some extent, on the programming language(s) used and the available tools, such as \\'\\'debuggers\\'\\'. Debuggers are software tools which enable the programmer to monitor the execution (computers)|execution of a program, stop it, restart it, set breakpoints, and change values in memory. The term \\'\\'debugger\\'\\' can also refer to the person who is doing the debugging.\\n\\nGenerally, high-level programming languages, such as Java (programming language)|Java, make debugging easier, because they have features such as exception handling that make real sources of erratic behaviour easier to spot. In programming languages such as C (programming language)|C or assembly language|assembly, bugs may cause silent problems such as memory corruption, and it is often difficult to see where the initial problem happened. In those cases, memory debugging|memory debugger tools may be needed.\\n\\nIn certain situations, general purpose software tools that are language specific in nature can be very useful.  These take the form of \\'\\'List of tools for static code analysis|static code analysis tools\\'\\'.  These tools look for a very specific set of known problems, some common and some rare, within the source code.  All such issues detected by these tools would rarely be picked up by a compiler or interpreter, thus they are not syntax checkers, but more semantic checkers.  Some tools claim to be able to detect 300+ unique problems. Both commercial and free tools exist in various languages.  These tools can be extremely useful when checking very large source trees, where it is impractical to do code walkthroughs.  A typical example of a problem detected would be a variable dereference that occurs \\'\\'before\\'\\' the variable is assigned a value.  Another example would be to perform strong type checking when the language does not require such.  Thus, they are better at locating likely errors, versus actual errors.  As a result, these tools have a reputation of false positives.  The old Unix \\'\\'Lint programming tool|lint\\'\\' program is an early example.\\n\\nFor debugging electronic hardware (e.g., computer hardware) as well as low-level software (e.g., BIOSes, device drivers) and firmware, instruments such as oscilloscopes, logic analyzers or in-circuit emulator|in-circuit emulators (ICEs) are often used, alone or in combination.  An ICE may perform many of the typical software debugger\\'s tasks on low-level software and firmware.\\n\\nDebugging process \\nNormally the first step in debugging is to attempt to reproduce the problem. This can be a non-trivial task, for example as with Parallel computing|parallel processes or some unusual software bugs. Also, specific user environment and usage history can make it difficult to reproduce the problem.\\n\\nAfter the bug is reproduced, the input of the program may need to be simplified to make it easier to debug. For example, a bug in a compiler can make it Crash (computing)|crash when parsing some large source file. However, after simplification of the test case, only few lines from the original source file can be sufficient to reproduce the same crash. Such simplification can be made manually, using a Divide and conquer algorithm|divide-and-conquer approach. The programmer will try to remove some parts of original test case and check if the problem still exists. When debugging the problem in a Graphical user interface|GUI, the programmer can try to skip some user interaction from the original problem description and check if remaining actions are sufficient for bugs to appear.\\n\\nAfter the test case is sufficiently simplified, a programmer can use a debugger tool to examine program states (values of variables, plus the call stack) and track down the origin of the problem(s). Alternatively, Tracing (software)|tracing can be used. In simple cases, tracing is just a few print statements, which output the values of variables at certain points of program execution.{{citation needed|date=February 2016}}\\n\\n Techniques \\n \\'\\'Interactive debugging\\'\\'\\n \\'\\'{{visible anchor|Print debugging}}\\'\\' (or tracing) is the act of watching (live or recorded) trace statements, or print statements, that indicate the flow of execution of a process. This is sometimes called \\'\\'{{visible anchor|printf debugging}}\\'\\', due to the use of the printf function in C. This kind of debugging was turned on by the command TRON in the original versions of the novice-oriented BASIC programming language. TRON stood for, \"Trace On.\" TRON caused the line numbers of each BASIC command line to print as the program ran.\\n \\'\\'Remote debugging\\'\\' is the process of debugging a program running on a system different from the debugger. To start remote debugging, a debugger connects to a remote system over a network. The debugger can then control the execution of the program on the remote system and retrieve information about its state.\\n \\'\\'Post-mortem debugging\\'\\' is debugging of the program after it has already Crash (computing)|crashed. Related techniques often include various tracing techniques (for example,[http://www.drdobbs.com/tools/185300443 Postmortem Debugging, Stephen Wormuller, Dr. Dobbs Journal, 2006]) and/or analysis of memory dump (or core dump) of the crashed process. The dump of the process could be obtained automatically by the system (for example, when process has terminated due to an unhandled exception), or by a programmer-inserted instruction, or manually by the interactive user.\\n \\'\\'\"Wolf fence\" algorithm:\\'\\' Edward Gauss described this simple but very useful and now famous algorithm in a 1982 article for communications of the ACM as follows: \"There\\'s one wolf in Alaska; how do you find it? First build a fence down the middle of the state, wait for the wolf to howl, determine which side of the fence it is on. Repeat process on that side only, until you get to the point where you can see the wolf.\"<ref name=\"communications of the ACM\">{{cite journal | title=\"Pracniques: The \"Wolf Fence\" Algorithm for Debugging\", | author=E. J. Gauss | year=1982}} This is implemented e.g. in the Git (software)|Git version control system as the command \\'\\'git bisect\\'\\', which uses the above algorithm to determine which Commit (data management)|commit introduced a particular bug.\\n \\'\\'Delta Debugging\\'\\'{{snd}} a technique of automating test case simplification.Andreas Zeller: <cite>Why Programs Fail: A Guide to Systematic Debugging</cite>, Morgan Kaufmann, 2005. ISBN 1-55860-866-4{{rp|p.123}}<!-- for redirect from \\'Saff Squeeze\\' -->\\n \\'\\'Saff Squeeze\\'\\'{{snd}} a technique of isolating failure within the test using progressive inlining of parts of the failing test.[http://www.threeriversinstitute.org/HitEmHighHitEmLow.html Kent Beck, Hit \\'em High, Hit \\'em Low: Regression Testing and the Saff Squeeze]\\n\\nDebugging for embedded systems\\nIn contrast to the general purpose computer software design environment, a primary characteristic of embedded environments is the sheer number of different platforms available to the developers (CPU architectures, vendors, operating systems and their variants). Embedded systems are, by definition, not general-purpose designs: they are typically developed for a single task (or small range of tasks), and the platform is chosen specifically to optimize that application. Not only does this fact make life tough for embedded system developers, it also makes debugging and testing of these systems harder as well, since different debugging tools are needed in different platforms.\\n\\nto identify and fix bugs in the system (e.g. logical or synchronization problems in the code, or a design error in the hardware);\\nto collect information about the operating states of the system that may then be used to analyze the system: to find ways to boost its performance or to optimize other important characteristics (e.g. energy consumption, reliability, real-time response etc.).\\n\\nAnti-debugging\\nAnti-debugging is \"the implementation of one or more techniques within computer code that hinders attempts at reverse engineering or debugging a target process\".<ref name=\"veracode-antidebugging\">{{cite web |url=http://www.veracode.com/blog/2008/12/anti-debugging-series-part-i/ |title=Anti-Debugging Series - Part I |last=Shields |first=Tyler |date=2008-12-02 |work=Veracode |accessdate=2009-03-17}} It is actively used by recognized publishers in copy protection|copy-protection schemas, but is also used by malware to complicate its detection and elimination.<ref name=\"soft-prot\">[http://people.seas.harvard.edu/~mgagnon/software_protection_through_anti_debugging.pdf Software Protection through Anti-Debugging Michael N Gagnon, Stephen Taylor, Anup Ghosh] Techniques used in anti-debugging include:\\nAPI-based: check for the existence of a debugger using system information\\nException-based: check to see if exceptions are interfered with\\nProcess and thread blocks: check whether process and thread blocks have been manipulated\\nModified code: check for code modifications made by a debugger handling software breakpoints\\nHardware- and register-based: check for hardware breakpoints and CPU registers\\nTiming and latency: check the time taken for the execution of instructions\\nDetecting and penalizing debugger<ref name=\"soft-prot\" /><!-- reference does not exist -->\\n\\nAn early example of anti-debugging existed in early versions of Microsoft Word which, if a debugger was detected, produced a message that said: \"The tree of evil bears bitter fruit. Now trashing program disk.\", after which it caused the floppy disk drive to emit alarming noises with the intent of scaring the user away from attempting it again.<ref name=\"SecurityEngineeringRA\">{{cite book | url=http://www.cl.cam.ac.uk/~rja14/book.html | author=Ross J. Anderson | title=Security Engineering | isbn = 0-471-38922-6 | page=684 }}<ref name=\"toastytech\">{{cite web | url=http://toastytech.com/guis/word1153.html | title=Microsoft Word for DOS 1.15}}\\n'"
   ]
  },
  {
   "cell_type": "code",
   "execution_count": 9,
   "metadata": {},
   "outputs": [],
   "source": [
    "article_title = 'Debugging'"
   ]
  },
  {
   "cell_type": "code",
   "execution_count": 10,
   "metadata": {},
   "outputs": [],
   "source": [
    "# Import Counter\n",
    "from collections import Counter"
   ]
  },
  {
   "cell_type": "code",
   "execution_count": 11,
   "metadata": {},
   "outputs": [],
   "source": [
    "# Tokenize the article: tokens\n",
    "tokens = word_tokenize(article)"
   ]
  },
  {
   "cell_type": "code",
   "execution_count": 12,
   "metadata": {},
   "outputs": [],
   "source": [
    "# Convert the tokens into lowercase: lower_tokens\n",
    "lower_tokens = [t.lower() for t in tokens]"
   ]
  },
  {
   "cell_type": "code",
   "execution_count": 13,
   "metadata": {},
   "outputs": [],
   "source": [
    "# Create a Counter with the lowercase tokens: bow_simple\n",
    "bow_simple = Counter(lower_tokens)"
   ]
  },
  {
   "cell_type": "code",
   "execution_count": 14,
   "metadata": {},
   "outputs": [
    {
     "name": "stdout",
     "output_type": "stream",
     "text": [
      "[(',', 151), ('the', 150), ('.', 89), ('of', 81), (\"''\", 66), ('to', 63), ('a', 60), ('``', 47), ('in', 44), ('and', 41)]\n"
     ]
    }
   ],
   "source": [
    "# Print the 10 most common tokens\n",
    "print(bow_simple.most_common(10))"
   ]
  },
  {
   "cell_type": "markdown",
   "metadata": {},
   "source": [
    "## Text preprocessing practice\n",
    "\n",
    "Now, it's your turn to apply the techniques you've learned to help clean up text for better NLP results. You'll need to remove stop words and non-alphabetic characters, lemmatize, and perform a new bag-of-words on your cleaned text.\n",
    "\n",
    "You start with the same tokens you created in the last exercise: lower_tokens. You also have the Counter class imported."
   ]
  },
  {
   "cell_type": "code",
   "execution_count": 15,
   "metadata": {},
   "outputs": [],
   "source": [
    "# Import WordNetLemmatizer\n",
    "from nltk.stem import WordNetLemmatizer"
   ]
  },
  {
   "cell_type": "code",
   "execution_count": 16,
   "metadata": {},
   "outputs": [],
   "source": [
    "from nltk.corpus import stopwords"
   ]
  },
  {
   "cell_type": "code",
   "execution_count": 17,
   "metadata": {},
   "outputs": [],
   "source": [
    "# Retain alphabetic words: alpha_only\n",
    "alpha_only = [t for t in lower_tokens if t.isalpha()]"
   ]
  },
  {
   "cell_type": "code",
   "execution_count": 49,
   "metadata": {},
   "outputs": [
    {
     "name": "stdout",
     "output_type": "stream",
     "text": [
      "True\n",
      "False\n"
     ]
    }
   ],
   "source": [
    "print(\"abcç\".isalpha())\n",
    "print(\"abcç1\".isalpha())"
   ]
  },
  {
   "cell_type": "code",
   "execution_count": 19,
   "metadata": {},
   "outputs": [],
   "source": [
    "# Remove all stop words: no_stops\n",
    "no_stops = [t for t in alpha_only if t not in stopwords.words('english')]"
   ]
  },
  {
   "cell_type": "code",
   "execution_count": 20,
   "metadata": {},
   "outputs": [],
   "source": [
    "# Instantiate the WordNetLemmatizer\n",
    "wordnet_lemmatizer = WordNetLemmatizer()\n",
    "\n",
    "# Lemmatize all tokens into a new list: lemmatized\n",
    "lemmatized = [wordnet_lemmatizer.lemmatize(t) for t in no_stops]"
   ]
  },
  {
   "cell_type": "code",
   "execution_count": 23,
   "metadata": {},
   "outputs": [],
   "source": [
    "# Create the bag-of-words: bow\n",
    "bow = Counter(lemmatized)"
   ]
  },
  {
   "cell_type": "code",
   "execution_count": 24,
   "metadata": {
    "scrolled": true
   },
   "outputs": [
    {
     "name": "stdout",
     "output_type": "stream",
     "text": [
      "[('debugging', 40), ('system', 25), ('bug', 17), ('software', 16), ('problem', 15), ('tool', 15), ('computer', 14), ('process', 13), ('term', 13), ('debugger', 13)]\n"
     ]
    }
   ],
   "source": [
    "# Print the 10 most common tokens\n",
    "print(bow.most_common(10))"
   ]
  },
  {
   "cell_type": "markdown",
   "metadata": {},
   "source": [
    "## Creating and querying a corpus with gensim\n",
    "\n",
    "It's time to apply the methods you learned in the previous video to create your first gensim dictionary and corpus!\n",
    "\n",
    "You'll use these data structures to investigate word trends and potential interesting topics in your document set. To get started, we have imported a few additional messy articles from Wikipedia, which were preprocessed by lowercasing all words, tokenizing them, and removing stop words and punctuation. These were then stored in a list of document tokens called articles. You'll need to do some light preprocessing and then generate the gensim dictionary and corpus."
   ]
  },
  {
   "cell_type": "code",
   "execution_count": 25,
   "metadata": {},
   "outputs": [],
   "source": [
    "articles = [['uses', 'file', 'operating', 'system', 'placement', 'software', '.svg|thumb|upright|a', 'diagram', 'showing', 'user', 'computing', '|user', 'interacts', 'application', 'software', 'typical', 'desktop', 'computer.the', 'application', 'software', 'layer', 'interfaces', 'operating', 'system', 'turn', 'communicates', 'personal', 'computer', 'hardware|hardware', 'arrows', 'indicate', 'information', 'flow', \"''\", 'computer', 'software', \"''\", 'simply', \"''\", 'software', \"''\", 'part', 'computer', 'system', 'consists', 'data', 'computing', '|data', 'computer', 'instructions', 'contrast', 'computer', 'hardware|physical', 'hardware', 'system', 'built', 'computer', 'science', 'software', 'engineering', 'computer', 'software', 'information', 'processed', 'computer', 'systems', 'computer', 'program|programs', 'data', 'computer', 'software', 'includes', 'computer', 'programs', 'library', 'computing', '|libraries', 'related', 'non-executable', 'data', 'computing', '|data', 'software', 'documentation|online', 'documentation', 'digital', 'media', 'computer', 'hardware', 'software', 'require', 'neither', 'realistically', 'used', 'lowest', 'level', 'executable', 'code', 'consists', 'machine', 'code|machine', 'language', 'instructions', 'specific', 'individual', 'microprocessor|processor—typically', 'central', 'processing', 'unit', 'cpu', 'machine', 'language', 'consists', 'groups', 'binary', 'numbers|binary', 'values', 'signifying', 'processor', 'instructions', 'change', 'state', 'computer', 'preceding', 'state', 'example', 'instruction', 'may', 'change', 'value', 'stored', 'particular', 'storage', 'location', 'computer—an', 'effect', 'directly', 'observable', 'user', 'instruction', 'may', 'also', 'indirectly', 'cause', 'something', 'appear', 'display', 'computer', 'system—a', 'state', 'change', 'visible', 'user', 'processor', 'carries', 'instructions', 'order', 'provided', 'unless', 'instructed', 'branch', 'instruction|', \"''\", 'jump', \"''\", 'different', 'instruction', 'interrupted', 'multi-core', 'processors', 'dominant', 'core', 'run', 'instructions', 'order', 'however', 'application', 'software', 'runs', 'one', 'core', 'default', 'software', 'made', 'run', 'many', 'majority', 'software', 'written', 'high-level', 'programming', 'languages', 'easier', 'efficient', 'programmers', 'meaning', 'closer', 'natural', 'language', 'cite', 'web|title=compiler', 'construction|url=http', '//www.cs.uu.nl/education/vak.php', 'vak=infomcco', 'high-level', 'languages', 'translated', 'machine', 'language', 'using', 'compiler', 'interpreter', 'computing', '|interpreter', 'combination', 'two', 'software', 'may', 'also', 'written', 'low-level', 'assembly', 'language', 'essentially', 'vaguely', 'mnemonic', 'representation', 'machine', 'language', 'using', 'natural', 'language', 'alphabet', 'translated', 'machine', 'language', 'using', 'assembly', 'language|assembler', 'history', 'main', 'article|history', 'software', 'outline', 'algorithm', 'would', 'first', 'piece', 'software', 'written', 'ada', 'lovelace', '19th', 'century', 'planned', 'analytical', 'engine', 'however', 'neither', 'analytical', 'engine', 'software', 'ever', 'created', 'first', 'theory', 'software—prior', 'creation', 'computers', 'know', 'today—was', 'proposed', 'alan', 'turing', '1935', 'essay', \"''computable\", 'numbers', 'application', 'entscheidungsproblem', \"''\", 'decision', 'problem', 'eventually', 'led', 'creation', 'twin', 'academic', 'fields', 'computer', 'science', 'software', 'engineering', 'study', 'software', 'creation', 'computer', 'science', 'theoretical', 'turing', \"'s\", 'essay', 'example', 'computer', 'science', 'software', 'engineering', 'focuses', 'practical', 'concerns', 'however', 'prior', '1946', 'software', 'understand', 'it—programs', 'stored', 'memory', 'stored-program', 'digital', 'computers—did', 'yet', 'exist', 'first', 'electronic', 'computing', 'devices', 'instead', 'rewired', 'order', '``', 'reprogram', \"''\", 'types', 'software', 'see', 'also|list', 'software', 'categories', 'virtually', 'computer', 'platforms', 'software', 'grouped', 'broad', 'categories', '=purpose', 'domain', 'use=', 'based', 'goal', 'computer', 'software', 'divided', \"''application\", 'software', \"''\", 'software', 'uses', 'computer', 'system', 'perform', 'special', 'functions', 'provide', 'video', 'game|entertainment', 'functions', 'beyond', 'basic', 'operation', 'computer', 'many', 'different', 'types', 'application', 'software', 'range', 'tasks', 'performed', 'modern', 'computer', 'large—see', 'list', 'software', \"''system\", 'software', \"''\", 'software', 'directly', 'operates', 'computer', 'hardware', 'provide', 'basic', 'functionality', 'needed', 'users', 'software', 'provide', 'platform', 'running', 'application', 'software', 'cite', 'web|title=system', 'software|url=http', '//home.olemiss.edu/~misbook/sfsysfm.htm|archive-url=https', '//web.archive.org/web/20010530092843/http', '//home.olemiss.edu:80/~misbook/sfsysfm.htm|dead-url=yes|archive-date=2001-05-30|publisher=the', 'university', 'mississippi', 'system', 'software', 'includes', \"''operating\", 'systems', \"''\", 'essential', 'collections', 'software', 'manage', 'resources', 'provides', 'common', 'services', 'software', 'runs', '``', 'top', \"''\", 'supervisory', 'programs', 'boot', 'loaders', 'shell', 'computing', '|shells', 'window', 'systems', 'core', 'parts', 'operating', 'systems', 'practice', 'operating', 'system', 'comes', 'bundled', 'additional', 'software', 'including', 'application', 'software', 'user', 'potentially', 'work', 'computer', 'operating', 'system', \"''device\", 'drivers', \"''\", 'operate', 'control', 'particular', 'type', 'device', 'attached', 'computer', 'device', 'needs', 'least', 'one', 'corresponding', 'device', 'driver', 'computer', 'typically', 'minimum', 'least', 'one', 'input', 'device', 'least', 'one', 'output', 'device', 'computer', 'typically', 'needs', 'one', 'device', 'driver', \"''software\", 'utility|utilities', \"''\", 'computer', 'programs', 'designed', 'assist', 'users', 'maintenance', 'care', 'computers', \"''malicious\", 'software', \"''\", \"''malware\", \"''\", 'software', 'developed', 'harm', 'disrupt', 'computers', 'malware', 'undesirable', 'malware', 'closely', 'associated', 'computer-related', 'crimes', 'though', 'malicious', 'programs', 'may', 'designed', 'practical', 'jokes', '=nature', 'domain', 'execution=', 'desktop', 'applications', 'web', 'browsers', 'microsoft', 'office', 'well', 'smartphone', 'tablet', 'computer|tablet', 'applications', 'called', '``', 'mobile', 'app|apps', \"''\", 'push', 'parts', 'software', 'industry', 'merge', 'desktop', 'applications', 'mobile', 'apps', 'extent', 'windows', '8', 'later', 'ubuntu', 'touch', 'tried', 'allow', 'style', 'application', 'user', 'interface', 'used', 'desktops', 'laptops', 'mobiles', 'javascript', 'scripts', 'pieces', 'software', 'traditionally', 'embedded', 'web', 'pages', 'run', 'directly', 'inside', 'web', 'browser', 'web', 'page', 'loaded', 'without', 'need', 'web', 'browser', 'plugin', 'software', 'written', 'programming', 'languages', 'also', 'run', 'within', 'web', 'browser', 'software', 'either', 'translated', 'javascript', 'web', 'browser', 'plugin', 'supports', 'language', 'installed', 'common', 'example', 'latter', 'actionscript', 'scripts', 'supported', 'adobe', 'flash', 'plugin', 'server', 'software', 'including', 'web', 'applications', 'usually', 'run', 'web', 'server', 'output', 'dynamically', 'generated', 'web', 'pages', 'web', 'browsers', 'using', 'e.g', 'php', 'java', 'programming', 'language', '|java', 'asp.net', 'even', 'node.js|javascript', 'runs', 'server', 'modern', 'times', 'commonly', 'include', 'javascript', 'run', 'web', 'browser', 'well', 'case', 'typically', 'run', 'partly', 'server', 'partly', 'web', 'browser', 'plug-in', 'computing', '|plugins', 'extensions', 'software', 'extends', 'modifies', 'functionality', 'another', 'piece', 'software', 'require', 'software', 'used', 'order', 'function', 'embedded', 'software', 'resides', 'firmware', 'within', 'embedded', 'systems', 'devices', 'dedicated', 'single', 'use', 'uses', 'cars', 'televisions', 'although', 'embedded', 'devices', 'wireless', 'chipsets', \"''themselves\", \"''\", 'part', 'ordinary', 'non-embedded', 'computer', 'system', 'pc', 'smartphone', 'cite', 'web|title=embedded', 'software—technologies', 'trends|url=http', '//www.computer.org/csdl/mags/so/2009/03/mso2009030014.html|publisher=ieee', 'computer', 'society|date=may–june', '2009|accessdate=6', 'november', '2013', 'embedded', 'system', 'context', 'sometimes', 'clear', 'distinction', 'system', 'software', 'application', 'software', 'however', 'embedded', 'systems', 'run', 'embedded', 'operating', 'systems', 'systems', 'retain', 'distinction', 'system', 'software', 'application', 'software', 'although', 'typically', 'one', 'fixed', 'application', 'always', 'run', 'microcode', 'special', 'relatively', 'obscure', 'type', 'embedded', 'software', 'tells', 'processor', \"''itself\", \"''\", 'execute', 'machine', 'code', 'actually', 'lower', 'level', 'machine', 'code', 'typically', 'proprietary', 'processor', 'manufacturer', 'necessary', 'correctional', 'microcode', 'software', 'updates', 'supplied', 'users', 'much', 'cheaper', 'shipping', 'replacement', 'processor', 'hardware', 'thus', 'ordinary', 'programmer', 'would', 'expect', 'ever', 'deal', '=programming', 'tools=', 'main', 'article|programming', 'tool', 'programming', 'tools', 'also', 'software', 'form', 'programs', 'applications', 'software', 'developers', 'also', 'known', \"''programmers\", 'coders', 'hackers', \"''\", \"''software\", 'engineers', \"''\", 'use', 'create', 'debugging|debug', 'software', 'maintenance|maintain', 'i.e', 'improve', 'fix', 'otherwise', 'technical', 'support|support', 'software', 'software', 'written', 'one', 'programming', 'languages', 'many', 'programming', 'languages', 'existence', 'least', 'one', 'implementation', 'consists', 'set', 'programming', 'tools', 'tools', 'may', 'relatively', 'self-contained', 'programs', 'compilers', 'debuggers', 'interpreter', 'computing', '|interpreters', 'linker', 'computing', '|linkers', 'text', 'editors', 'combined', 'together', 'accomplish', 'task', 'may', 'form', 'integrated', 'development', 'environment', 'ide', 'combines', 'much', 'functionality', 'self-contained', 'tools', 'ides', 'may', 'either', 'invoking', 'relevant', 'individual', 'tools', 're-implementing', 'functionality', 'new', 'way', 'ide', 'make', 'easier', 'specific', 'tasks', 'searching', 'files', 'particular', 'project', 'many', 'programming', 'language', 'implementations', 'provide', 'option', 'using', 'individual', 'tools', 'ide', 'software', 'topics', '=architecture=', 'see', 'also|software', 'architecture', 'users', 'often', 'see', 'things', 'differently', 'programmers', 'people', 'use', 'modern', 'general', 'purpose', 'computers', 'opposed', 'embedded', 'systems', 'analog', 'computers', 'supercomputers', 'usually', 'see', 'three', 'layers', 'software', 'performing', 'variety', 'tasks', 'platform', 'application', 'user', 'software', 'platform', 'software', 'platform', 'computing', '|platform', 'includes', 'firmware', 'device', 'drivers', 'operating', 'system', 'typically', 'graphical', 'user', 'interface', 'total', 'allow', 'user', 'interact', 'computer', 'peripherals', 'associated', 'equipment', 'platform', 'software', 'often', 'comes', 'bundled', 'computer', 'personal', 'computer|pc', 'one', 'usually', 'ability', 'change', 'platform', 'software', 'application', 'software', 'application', 'software', 'applications', 'people', 'think', 'think', 'software', 'typical', 'examples', 'include', 'office', 'suites', 'video', 'games', 'application', 'software', 'often', 'purchased', 'separately', 'computer', 'hardware', 'sometimes', 'applications', 'bundled', 'computer', 'change', 'fact', 'run', 'independent', 'applications', 'applications', 'usually', 'independent', 'programs', 'operating', 'system', 'though', 'often', 'tailored', 'specific', 'platforms', 'users', 'think', 'compilers', 'databases', '``', 'system', 'software', \"''\", 'applications', 'user-written', 'software', 'end-user', 'development', 'tailors', 'systems', 'meet', 'users', 'specific', 'needs', 'user', 'software', 'include', 'spreadsheet', 'templates', 'word', 'processor', 'templates', 'even', 'email', 'filters', 'kind', 'user', 'software', 'users', 'create', 'software', 'often', 'overlook', 'important', 'depending', 'competently', 'user-written', 'software', 'integrated', 'default', 'application', 'packages', 'many', 'users', 'may', 'aware', 'distinction', 'original', 'packages', 'added', 'co-workers', '=execution=', 'main', 'article|execution', 'computing', 'computer', 'software', '``', 'loaded', \"''\", 'computer', 'storage|computer', \"'s\", 'storage', 'hard', 'drive', 'computer', 'memory|memory', 'software', 'loaded', 'computer', 'able', \"''execute\", \"''\", 'software', 'involves', 'passing', 'instruction', 'computer', 'science', '|instructions', 'application', 'software', 'system', 'software', 'hardware', 'ultimately', 'receives', 'instruction', 'machine', 'language|machine', 'code', 'instruction', 'causes', 'computer', 'carry', 'operation—moving', 'data', 'computing', '|data', 'carrying', 'computation', 'altering', 'control', 'flow', 'instructions', 'data', 'movement', 'typically', 'one', 'place', 'memory', 'another', 'sometimes', 'involves', 'moving', 'data', 'memory', 'registers', 'enable', 'high-speed', 'data', 'access', 'cpu', 'moving', 'data', 'especially', 'large', 'amounts', 'costly', 'sometimes', 'avoided', 'using', '``', 'pointers', \"''\", 'data', 'instead', 'computations', 'include', 'simple', 'operations', 'incrementing', 'value', 'variable', 'data', 'element', 'complex', 'computations', 'may', 'involve', 'many', 'operations', 'data', 'elements', 'together', '--', 'section', 'simply', 'long', 'article', 'needs', 'compressed', 'intro', 'moved', 'article', 'instructions', 'may', 'performed', 'sequentially', 'conditionally', 'iteratively', 'sequential', 'instructions', 'operations', 'performed', 'one', 'another', 'conditional', 'instructions', 'performed', 'different', 'sets', 'instructions', 'execute', 'depending', 'value', 'data', 'languages', 'known', '``', \"''\", 'statement', 'iterative', 'instructions', 'performed', 'repetitively', 'may', 'depend', 'data', 'value', 'sometimes', 'called', '``', 'loop', \"''\", 'often', 'one', 'instruction', 'may', '``', 'call', \"''\", 'another', 'set', 'instructions', 'defined', 'program', 'module', 'programming', '|module', 'one', 'computer', 'processor', 'used', 'instructions', 'may', 'executed', 'simultaneously', 'simple', 'example', 'way', 'software', 'operates', 'happens', 'user', 'selects', 'entry', '``', 'copy', \"''\", 'menu', 'case', 'conditional', 'instruction', 'executed', 'copy', 'text', 'data', \"'document\", 'area', 'residing', 'memory', 'perhaps', 'intermediate', 'storage', 'area', 'known', \"'clipboard\", 'data', 'area', 'different', 'menu', 'entry', '``', 'paste', \"''\", 'chosen', 'software', 'may', 'execute', 'instructions', 'copy', 'text', 'clipboard', 'data', 'area', 'specific', 'location', 'another', 'document', 'memory', 'depending', 'application', 'even', 'example', 'could', 'become', 'complicated', 'field', 'software', 'engineering', 'endeavors', 'manage', 'complexity', 'software', 'operates', 'especially', 'true', 'software', 'operates', 'context', 'large', 'powerful', 'computer', 'system', 'currently', 'almost', 'limitations', 'use', 'computer', 'software', 'applications', 'ingenuity', 'designer/programmer', 'consequently', 'large', 'areas', 'activities', 'playing', 'grand', 'master', 'level', 'chess', 'formerly', 'assumed', 'incapable', 'software', 'simulation', 'routinely', 'programmed', 'area', 'far', 'proved', 'reasonably', 'secure', 'software', 'simulation', 'realm', 'human', 'art—', 'especially', 'pleasing', 'music', 'literature', 'citation', 'needed|date=june', '2007', 'kinds', 'software', 'operation', 'computer', 'program', 'executable', 'source', 'code', 'script', 'computer', 'programming', '|script', 'computer', 'configuration|configuration.', '--', '=quality', 'reliability=', 'main', 'article|software', 'quality|software', 'testing|software', 'reliability', 'software', 'quality', 'important', 'especially', 'commercial', 'software|commercial', 'system', 'software', 'like', 'microsoft', 'office', 'microsoft', 'windows', 'linux', 'software', 'faulty', 'buggy', 'delete', 'person', \"'s\", 'work', 'crash', 'computer', 'unexpected', 'things', 'faults', 'errors', 'called', '``', 'software', 'bug|bugs', \"''\", 'often', 'discovered', 'alpha', 'beta', 'testing', 'software', 'often', 'also', 'victim', 'known', 'software', 'aging', 'progressive', 'performance', 'degradation', 'resulting', 'combination', 'unseen', 'bugs', 'many', 'bugs', 'discovered', 'eliminated', 'debugged', 'software', 'testing', 'however', 'software', 'testing', 'rarely—if', 'ever—eliminates', 'every', 'bug', 'programmers', 'say', '``', 'every', 'program', 'least', 'one', 'bug', \"''\", 'lubarsky', \"'s\", 'law', 'ref', 'name=', \"''\", 'github', \"''\", 'cite', 'web|', 'url=https', '//github.com/mark-watson/scripting-intelligence-book-examples/blob/master/part1/wikipedia_text/software.txt', 'title=scripting', 'intelligence', 'book', 'examples', 'waterfall', 'model|waterfall', 'method', 'software', 'development', 'separate', 'testing', 'teams', 'typically', 'employed', 'newer', 'approaches', 'collectively', 'termed', 'agile', 'software', 'development', 'developers', 'often', 'testing', 'demonstrate', 'software', 'users/clients', 'regularly', 'obtain', 'feedback', 'software', 'tested', 'unit', 'testing', 'regression', 'testing', 'methods', 'done', 'manually', 'commonly', 'automatically', 'since', 'amount', 'code', 'tested', 'quite', 'large', 'instance', 'nasa', 'extremely', 'rigorous', 'software', 'testing', 'procedures', 'many', 'operating', 'systems', 'communication', 'functions', 'many', 'nasa-based', 'operations', 'interact', 'identify', 'command', 'programs', 'enables', 'many', 'people', 'work', 'nasa', 'check', 'evaluate', 'functional', 'systems', 'overall', 'programs', 'containing', 'command', 'software', 'enable', 'hardware', 'engineering', 'system', 'operations', 'function', 'much', 'easier', 'together', '=license=', 'main', 'article|software', 'license', 'software', \"'s\", 'license', 'gives', 'user', 'right', 'use', 'software', 'licensed', 'environment', 'case', 'free', 'software', 'licenses', 'also', 'grants', 'rights', 'right', 'make', 'copies', 'proprietary', 'software', 'divided', 'two', 'types', 'freeware', 'includes', 'category', '``', 'free', 'trial', \"''\", 'software', '``', 'freemium', \"''\", 'software', 'past', 'term', 'shareware', 'often', 'used', 'free', 'trial/freemium', 'software', 'name', 'suggests', 'freeware', 'used', 'free', 'although', 'case', 'free', 'trials', 'freemium', 'software', 'sometimes', 'true', 'limited', 'period', 'time', 'limited', 'functionality', 'software', 'available', 'fee', 'often', 'inaccurately', 'termed', '``', 'commercial', 'software', \"''\", 'legally', 'used', 'purchase', 'license', 'open', 'source', 'software', 'hand', 'comes', 'free', 'software', 'license', 'granting', 'recipient', 'rights', 'modify', 'redistribute', 'software', '=patents=', 'main', 'article|software', 'patent|software', 'patent', 'debate', 'software', 'patents', 'like', 'types', 'patents', 'theoretically', 'supposed', 'give', 'inventor', 'exclusive', 'time-limited', 'license', \"''detailed\", 'idea', 'e.g', 'algorithm', 'implement', \"''\", 'piece', 'software', 'component', 'piece', 'software', 'ideas', 'useful', 'things', 'software', 'could', \"''do\", \"''\", 'user', \"''requirements\", \"''\", 'supposed', 'patentable', 'concrete', 'implementations', 'i.e', 'actual', 'software', 'packages', 'implementing', 'patent', 'supposed', 'patentable', 'either—the', 'latter', 'already', 'covered', 'copyright', 'generally', 'automatically', 'software', 'patents', 'supposed', 'cover', 'middle', 'area', 'requirements', 'concrete', 'implementation', 'countries', 'requirement', 'claimed', 'invention', 'effect', 'physical', 'world', 'may', 'also', 'part', 'requirements', 'software', 'patent', 'held', 'valid—although', 'since', \"''all\", \"''\", 'useful', 'software', 'effects', 'physical', 'world', 'requirement', 'may', 'open', 'debate', 'software', 'patents', 'controversial', 'software', 'industry', 'many', 'people', 'holding', 'different', 'views', 'one', 'sources', 'controversy', 'aforementioned', 'split', 'initial', 'ideas', 'patent', 'seem', 'honored', 'practice', 'patent', 'lawyers—for', 'example', 'patent', 'aspect-oriented', 'programming', 'aop', 'purported', 'claim', 'rights', \"''any\", \"''\", 'programming', 'tool', 'implementing', 'idea', 'aop', 'howsoever', 'implemented', 'another', 'source', 'controversy', 'effect', 'innovation', 'many', 'distinguished', 'experts', 'companies', 'arguing', 'software', 'fast-moving', 'field', 'software', 'patents', 'merely', 'create', 'vast', 'additional', 'litigation', 'costs', 'risks', 'actually', 'retard', 'innovation', 'case', 'debates', 'software', 'patents', 'outside', 'united', 'states', 'argument', 'made', 'large', 'american', 'corporations', 'patent', 'lawyers', 'likely', 'primary', 'beneficiaries', 'allowing', 'continue', 'allow', 'software', 'patents', 'design', 'implementation', 'main', 'article|software', 'development|computer', 'programming|software', 'engineering', 'design', 'implementation', 'software', 'varies', 'depending', 'complexity', 'software', 'instance', 'design', 'creation', 'microsoft', 'word', 'took', 'much', 'time', 'designing', 'developing', 'microsoft', 'notepad', 'latter', 'much', 'basic', 'functionality', 'software', 'usually', 'designed', 'created', 'aka', 'coded/written/programmed', 'integrated', 'development', 'environments', 'ide', 'like', 'eclipse', 'software', '|eclipse', 'intellij', 'idea|intellij', 'microsoft', 'visual', 'studio', 'simplify', 'process', 'compiler|compile', 'software', 'applicable', 'noted', 'different', 'section', 'software', 'usually', 'created', 'top', 'existing', 'software', 'application', 'programming', 'interface', 'api', 'underlying', 'software', 'provides', 'like', 'gtk+', 'javabeans', 'swing', 'java', '|swing', 'libraries', 'apis', 'categorized', 'purpose', 'instance', 'spring', 'framework|spring', 'framework', 'used', 'implementing', 'enterprise', 'applications', 'windows', 'forms', 'library', 'used', 'designing', 'graphical', 'user', 'interface', 'gui', 'applications', 'like', 'microsoft', 'word', 'windows', 'communication', 'foundation', 'used', 'designing', 'web', 'services', 'program', 'designed', 'relies', 'upon', 'api', 'instance', 'user', 'designing', 'microsoft', 'windows', 'desktop', 'application', 'might', 'use', '.net', 'framework|.net', 'windows', 'forms', 'library', 'design', 'desktop', 'application', 'call', 'apis', 'like', \"''form1.close\", \"''\", \"''form1.show\", \"''\", 'cite', 'web', '|url=http', '//msdn.microsoft.com/en-us/library/default.aspx', 'title=msdn', 'library|accessdate=2010-06-14', 'close', 'open', 'application', 'write', 'additional', 'operations', 'him/herself', 'needs', 'without', 'apis', 'programmer', 'needs', 'write', 'apis', 'him/herself', 'companies', 'like', 'oracle', 'corporation|oracle', 'microsoft', 'provide', 'apis', 'many', 'applications', 'written', 'using', 'library', 'computing', '|software', 'libraries', 'usually', 'numerous', 'apis', 'data', 'structures', 'hash', 'tables', 'array', 'data', 'type|arrays', 'binary', 'trees', 'algorithms', 'quicksort', 'useful', 'creating', 'software', 'computer', 'software', 'special', 'economic', 'characteristics', 'make', 'design', 'creation', 'distribution', 'different', 'economic', 'goods', 'specify|which', 'characteristics', '|date=may', '2012', 'cite', 'journal|author=v', 'engelhardt', 'sebastian', '|year=2008|url=https', '//ideas.repec.org/p/jrp/jrpwrp/2008-045.html', '|title=the', 'economic', 'properties', 'software|journal=', 'jena', 'economic', 'research', 'papers|', 'volume=', '2|', 'issue=', '2008–045', 'cite', 'web|url=http', '//dankaminsky.com/1999/03/02/69/', '|title=why', 'open', 'source', 'optimum', 'economic', 'paradigm', 'software|first=', 'dan', '|last=kaminsky', '|year=1999', 'person', 'creates', 'software', 'called', 'programmer', 'software', 'engineer', 'software', 'developer', 'terms', 'similar', 'meaning', 'informal', 'terms', 'programmer', 'also', 'exist', '``', 'coder', \"''\", '``', 'hacker', 'expert', \"''\", \"'hacker\", \"''\", \"''\", 'spaced', 'ndash', 'although', 'use', 'latter', 'word', 'may', 'cause', 'confusion', 'often', 'used', 'mean', 'hacker', 'computer', 'security', '|someone', 'illegally', 'breaks', 'computer', 'systems', 'industry', 'organizations', 'main', 'article|software', 'industry', 'great', 'variety', 'software', 'companies', 'programmers', 'world', 'comprise', 'software', 'industry', 'software', 'quite', 'profitable', 'industry', 'bill', 'gates', 'co-founder', 'microsoft', 'richest', 'person', 'world', '2009', 'largely', 'due', 'ownership', 'significant', 'number', 'shares', 'microsoft', 'company', 'responsible', 'microsoft', 'windows', 'microsoft', 'office', 'software', 'products', 'non-profit', 'software', 'organizations', 'include', 'free', 'software', 'foundation', 'gnu', 'project', 'mozilla', 'foundation', 'software', 'standard', 'organizations', 'like', 'w3c', 'ietf', 'develop', 'recommended', 'software', 'standards', 'xml', 'http', 'html', 'software', 'interoperate', 'standards', 'well-known', 'large', 'software', 'companies', 'include', 'oracle', 'corporation|oracle', 'novell', 'sap', 'ag|sap', 'symantec', 'adobe', 'systems', 'corel', 'small', 'companies', 'often', 'provide', 'innovation', 'see', 'also', 'software', 'release', 'life', 'cycle', 'independent', 'software', 'vendor', 'list', 'software', 'software', 'asset', 'management', 'portal', 'bar|software|free', 'software|information', 'technology', 'references', 'reflist', 'external', 'links', 'sister', 'project', 'links', 'wikt=software', 'commons=special', 'search/software', 'b=', 'n=', 's=', 'v=computer', 'software', 'voy=', '|q=no', 'dmoz|computers/software', '--', 'ref', 'name=', \"''\", 'github', \"''\", '--', 'software', 'digital', 'distribution', 'platforms|state=collapsed', 'authority', 'control', 'category', 'computing', 'category', 'computer', 'science', 'category', 'software|'], [\"''\", 'debugging', \"''\", 'process', 'finding', 'resolving', 'defects', 'prevent', 'correct', 'operation', 'computer', 'software', 'system', 'numerous', 'books', 'written', 'debugging', 'see', 'reading|further', 'reading', 'involves', 'numerous', 'aspects', 'including', 'interactive', 'debugging', 'control', 'flow', 'integration', 'testing', 'logfile|log', 'files', 'monitoring', 'application', 'monitoring|application', 'system', 'monitoring|system', 'memory', 'dumps', 'profiling', 'computer', 'programming', '|profiling', 'statistical', 'process', 'control', 'special', 'design', 'tactics', 'improve', 'detection', 'simplifying', 'changes', 'origin', 'computer', 'log', 'entry', 'mark', 'nbsp', 'ii', 'moth', 'taped', 'page', 'terms', '``', 'bug', \"''\", '``', 'debugging', \"''\", 'popularly', 'attributed', 'admiral', 'grace', 'hopper', '1940s', 'http', '//foldoc.org/grace+hopper', 'grace', 'hopper', 'foldoc', 'working', 'harvard', 'mark', 'ii|mark', 'ii', 'computer', 'harvard', 'university', 'associates', 'discovered', 'moth', 'stuck', 'relay', 'thereby', 'impeding', 'operation', 'whereupon', 'remarked', '``', 'debugging', \"''\", 'system', 'however', 'term', '``', 'bug', \"''\", 'meaning', 'technical', 'error', 'dates', 'back', 'least', '1878', 'thomas', 'edison', 'see', 'software', 'bug', 'full', 'discussion', '``', 'debugging', \"''\", 'seems', 'used', 'term', 'aeronautics', 'entering', 'world', 'computers', 'indeed', 'interview', 'grace', 'hopper', 'remarked', 'coining', 'term', 'citation', 'needed|date=july', '2015', 'moth', 'fit', 'already', 'existing', 'terminology', 'saved', 'letter', 'j.', 'robert', 'oppenheimer', 'director', 'wwii', 'atomic', 'bomb', '``', 'manhattan', \"''\", 'project', 'los', 'alamos', 'nm', 'used', 'term', 'letter', 'dr.', 'ernest', 'lawrence', 'uc', 'berkeley', 'dated', 'october', '27', '1944', 'http', '//bancroft.berkeley.edu/exhibits/physics/images/bigscience25.jpg', 'regarding', 'recruitment', 'additional', 'technical', 'staff', 'oxford', 'english', 'dictionary', 'entry', '``', 'debug', \"''\", 'quotes', 'term', '``', 'debugging', \"''\", 'used', 'reference', 'airplane', 'engine', 'testing', '1945', 'article', 'journal', 'royal', 'aeronautical', 'society', 'article', '``', 'airforce', \"''\", 'june', '1945', 'p.', 'nbsp', '50', 'also', 'refers', 'debugging', 'time', 'aircraft', 'cameras', 'hopper', \"'s\", 'computer', 'bug|bug', 'found', 'september', '9', '1947.', 'term', 'adopted', 'computer', 'programmers', 'early', '1950s', 'seminal', 'article', 'gills', 'gill', 'http', '//www.jstor.org/stable/98663', 'diagnosis', 'mistakes', 'programmes', 'edsac', 'proceedings', 'royal', 'society', 'london', 'series', 'mathematical', 'physical', 'sciences', 'vol', '206', '1087', 'may', '22', '1951', 'pp', '538-554', '1951', 'earliest', 'in-depth', 'discussion', 'programming', 'errors', 'use', 'term', '``', 'bug', \"''\", '``', 'debugging', \"''\", 'association', 'computing', 'machinery|acm', \"'s\", 'digital', 'library', 'term', '``', 'debugging', \"''\", 'first', 'used', 'three', 'papers', '1952', 'acm', 'national', 'meetings.robert', 'v.', 'd.', 'campbell', 'http', '//portal.acm.org/citation.cfm', 'id=609784.609786', 'evolution', 'automatic', 'computation', 'proceedings', '1952', 'acm', 'national', 'meeting', 'pittsburgh', 'p', '29-32', '1952.alex', 'orden', 'http', '//portal.acm.org/citation.cfm', 'id=609784.609793', 'solution', 'systems', 'linear', 'inequalities', 'digital', 'computer', 'proceedings', '1952', 'acm', 'national', 'meeting', 'pittsburgh', 'p.', '91-95', '1952.howard', 'b.', 'demuth', 'john', 'b.', 'jackson', 'edmund', 'klein', 'n.', 'metropolis', 'walter', 'orvedahl', 'james', 'h.', 'richardson', 'http', '//portal.acm.org/citation.cfm', 'id=800259.808982', 'maniac', 'proceedings', '1952', 'acm', 'national', 'meeting', 'toronto', 'p.', '13-16', 'two', 'three', 'use', 'term', 'quotation', 'marks', '1963', '``', 'debugging', \"''\", 'common', 'enough', 'term', 'mentioned', 'passing', 'without', 'explanation', 'page', '1', 'compatible', 'time-sharing', 'system|ctss', 'manual', 'http', '//www.bitsavers.org/pdf/mit/ctss/ctss_programmersguide.pdf', 'compatible', 'time-sharing', 'system', 'm.i.t', 'press', '1963', 'kidwell', \"'s\", 'article', \"''stalking\", 'elusive', 'computer', 'bug', \"''\", 'peggy', 'aldrich', 'kidwell', 'http', '//ieeexplore.ieee.org/xpl/freeabs_all.jsp', 'tp=', 'arnumber=728224', 'isnumber=15706', 'stalking', 'elusive', 'computer', 'bug', 'ieee', 'annals', 'history', 'computing', '1998.', 'discusses', 'etymology', '``', 'bug', \"''\", '``', 'debug', \"''\", 'greater', 'detail', 'scope', 'software', 'electronic', 'systems', 'become', 'generally', 'complex', 'various', 'common', 'debugging', 'techniques', 'expanded', 'methods', 'detect', 'anomalies', 'assess', 'impact', 'schedule', 'software', 'patches', 'full', 'updates', 'system', 'words', '``', 'anomaly', \"''\", '``', 'discrepancy', \"''\", 'used', 'neutral', 'terms', 'avoid', 'words', '``', 'error', \"''\", '``', 'defect', \"''\", '``', 'bug', \"''\", 'might', 'implication', 'so-called', \"''errors\", \"''\", \"''defects\", \"''\", \"''bugs\", \"''\", 'must', 'fixed', 'costs', 'instead', 'impact', 'assessment', 'made', 'determine', 'changes', 'remove', \"''anomaly\", \"''\", \"''discrepancy\", \"''\", 'would', 'cost-effective', 'system', 'perhaps', 'scheduled', 'new', 'release', 'might', 'render', 'change', 'unnecessary', 'issues', 'life-critical', 'mission-critical', 'system', 'also', 'important', 'avoid', 'situation', 'change', 'might', 'upsetting', 'users', 'long-term', 'living', 'known', 'problem', '``', 'cure', 'would', 'worse', 'disease', \"''\", 'basing', 'decisions', 'acceptability', 'anomalies', 'avoid', 'culture', '``', 'zero-defects', \"''\", 'mandate', 'people', 'might', 'tempted', 'deny', 'existence', 'problems', 'result', 'would', 'appear', 'zero', \"''defects\", \"''\", 'considering', 'collateral', 'issues', 'cost-versus-benefit', 'impact', 'assessment', 'broader', 'debugging', 'techniques', 'expand', 'determine', 'frequency', 'anomalies', 'often', '``', 'bugs', \"''\", 'occur', 'help', 'assess', 'impact', 'overall', 'system', 'tools', 'debugging', 'video', 'game', 'consoles', 'usually', 'done', 'special', 'hardware', 'xbox', 'console', '|xbox', 'debug', 'unit', 'intended', 'developers', 'debugging', 'ranges', 'complexity', 'fixing', 'simple', 'errors', 'performing', 'lengthy', 'tiresome', 'tasks', 'data', 'collection', 'analysis', 'scheduling', 'updates', 'debugging', 'skill', 'programmer', 'major', 'factor', 'ability', 'debug', 'problem', 'difficulty', 'software', 'debugging', 'varies', 'greatly', 'complexity', 'system', 'also', 'depends', 'extent', 'programming', 'language', 'used', 'available', 'tools', \"''debuggers\", \"''\", 'debuggers', 'software', 'tools', 'enable', 'programmer', 'monitor', 'execution', 'computers', '|execution', 'program', 'stop', 'restart', 'set', 'breakpoints', 'change', 'values', 'memory', 'term', \"''debugger\", \"''\", 'also', 'refer', 'person', 'debugging', 'generally', 'high-level', 'programming', 'languages', 'java', 'programming', 'language', '|java', 'make', 'debugging', 'easier', 'features', 'exception', 'handling', 'make', 'real', 'sources', 'erratic', 'behaviour', 'easier', 'spot', 'programming', 'languages', 'c', 'programming', 'language', '|c', 'assembly', 'language|assembly', 'bugs', 'may', 'cause', 'silent', 'problems', 'memory', 'corruption', 'often', 'difficult', 'see', 'initial', 'problem', 'happened', 'cases', 'memory', 'debugging|memory', 'debugger', 'tools', 'may', 'needed', 'certain', 'situations', 'general', 'purpose', 'software', 'tools', 'language', 'specific', 'nature', 'useful', 'take', 'form', \"''list\", 'tools', 'static', 'code', 'analysis|static', 'code', 'analysis', 'tools', \"''\", 'tools', 'look', 'specific', 'set', 'known', 'problems', 'common', 'rare', 'within', 'source', 'code', 'issues', 'detected', 'tools', 'would', 'rarely', 'picked', 'compiler', 'interpreter', 'thus', 'syntax', 'checkers', 'semantic', 'checkers', 'tools', 'claim', 'able', 'detect', '300+', 'unique', 'problems', 'commercial', 'free', 'tools', 'exist', 'various', 'languages', 'tools', 'extremely', 'useful', 'checking', 'large', 'source', 'trees', 'impractical', 'code', 'walkthroughs', 'typical', 'example', 'problem', 'detected', 'would', 'variable', 'dereference', 'occurs', \"''before\", \"''\", 'variable', 'assigned', 'value', 'another', 'example', 'would', 'perform', 'strong', 'type', 'checking', 'language', 'require', 'thus', 'better', 'locating', 'likely', 'errors', 'versus', 'actual', 'errors', 'result', 'tools', 'reputation', 'false', 'positives', 'old', 'unix', \"''lint\", 'programming', 'tool|lint', \"''\", 'program', 'early', 'example', 'debugging', 'electronic', 'hardware', 'e.g.', 'computer', 'hardware', 'well', 'low-level', 'software', 'e.g.', 'bioses', 'device', 'drivers', 'firmware', 'instruments', 'oscilloscopes', 'logic', 'analyzers', 'in-circuit', 'emulator|in-circuit', 'emulators', 'ices', 'often', 'used', 'alone', 'combination', 'ice', 'may', 'perform', 'many', 'typical', 'software', 'debugger', \"'s\", 'tasks', 'low-level', 'software', 'firmware', 'debugging', 'process', 'normally', 'first', 'step', 'debugging', 'attempt', 'reproduce', 'problem', 'non-trivial', 'task', 'example', 'parallel', 'computing|parallel', 'processes', 'unusual', 'software', 'bugs', 'also', 'specific', 'user', 'environment', 'usage', 'history', 'make', 'difficult', 'reproduce', 'problem', 'bug', 'reproduced', 'input', 'program', 'may', 'need', 'simplified', 'make', 'easier', 'debug', 'example', 'bug', 'compiler', 'make', 'crash', 'computing', '|crash', 'parsing', 'large', 'source', 'file', 'however', 'simplification', 'test', 'case', 'lines', 'original', 'source', 'file', 'sufficient', 'reproduce', 'crash', 'simplification', 'made', 'manually', 'using', 'divide', 'conquer', 'algorithm|divide-and-conquer', 'approach', 'programmer', 'try', 'remove', 'parts', 'original', 'test', 'case', 'check', 'problem', 'still', 'exists', 'debugging', 'problem', 'graphical', 'user', 'interface|gui', 'programmer', 'try', 'skip', 'user', 'interaction', 'original', 'problem', 'description', 'check', 'remaining', 'actions', 'sufficient', 'bugs', 'appear', 'test', 'case', 'sufficiently', 'simplified', 'programmer', 'use', 'debugger', 'tool', 'examine', 'program', 'states', 'values', 'variables', 'plus', 'call', 'stack', 'track', 'origin', 'problem', 'alternatively', 'tracing', 'software', '|tracing', 'used', 'simple', 'cases', 'tracing', 'print', 'statements', 'output', 'values', 'variables', 'certain', 'points', 'program', 'execution', 'citation', 'needed|date=february', '2016', 'techniques', \"''interactive\", 'debugging', \"''\", \"''\", 'visible', 'anchor|print', 'debugging', \"''\", 'tracing', 'act', 'watching', 'live', 'recorded', 'trace', 'statements', 'print', 'statements', 'indicate', 'flow', 'execution', 'process', 'sometimes', 'called', \"''\", 'visible', 'anchor|printf', 'debugging', \"''\", 'due', 'use', 'printf', 'function', 'c.', 'kind', 'debugging', 'turned', 'command', 'tron', 'original', 'versions', 'novice-oriented', 'basic', 'programming', 'language', 'tron', 'stood', '``', 'trace', \"''\", 'tron', 'caused', 'line', 'numbers', 'basic', 'command', 'line', 'print', 'program', 'ran', \"''remote\", 'debugging', \"''\", 'process', 'debugging', 'program', 'running', 'system', 'different', 'debugger', 'start', 'remote', 'debugging', 'debugger', 'connects', 'remote', 'system', 'network', 'debugger', 'control', 'execution', 'program', 'remote', 'system', 'retrieve', 'information', 'state', \"''post-mortem\", 'debugging', \"''\", 'debugging', 'program', 'already', 'crash', 'computing', '|crashed', 'related', 'techniques', 'often', 'include', 'various', 'tracing', 'techniques', 'example', 'http', '//www.drdobbs.com/tools/185300443', 'postmortem', 'debugging', 'stephen', 'wormuller', 'dr.', 'dobbs', 'journal', '2006', 'and/or', 'analysis', 'memory', 'dump', 'core', 'dump', 'crashed', 'process', 'dump', 'process', 'could', 'obtained', 'automatically', 'system', 'example', 'process', 'terminated', 'due', 'unhandled', 'exception', 'programmer-inserted', 'instruction', 'manually', 'interactive', 'user', \"''\", \"''\", 'wolf', 'fence', \"''\", 'algorithm', \"''\", 'edward', 'gauss', 'described', 'simple', 'useful', 'famous', 'algorithm', '1982', 'article', 'communications', 'acm', 'follows', '``', \"'s\", 'one', 'wolf', 'alaska', 'find', 'first', 'build', 'fence', 'middle', 'state', 'wait', 'wolf', 'howl', 'determine', 'side', 'fence', 'repeat', 'process', 'side', 'get', 'point', 'see', 'wolf', '``', 'ref', 'name=', \"''\", 'communications', 'acm', \"''\", 'cite', 'journal', 'title=', \"''\", 'pracniques', '``', 'wolf', 'fence', \"''\", 'algorithm', 'debugging', \"''\", 'author=e', 'j.', 'gauss', 'year=1982', 'implemented', 'e.g', 'git', 'software', '|git', 'version', 'control', 'system', 'command', \"''git\", 'bisect', \"''\", 'uses', 'algorithm', 'determine', 'commit', 'data', 'management', '|commit', 'introduced', 'particular', 'bug', \"''delta\", 'debugging', \"''\", 'snd', 'technique', 'automating', 'test', 'case', 'simplification.andreas', 'zeller', 'cite', 'programs', 'fail', 'guide', 'systematic', 'debugging', '/cite', 'morgan', 'kaufmann', '2005.', 'isbn', '1-55860-866-4', 'rp|p.123', '--', 'redirect', \"'saff\", 'squeeze', '--', \"''saff\", 'squeeze', \"''\", 'snd', 'technique', 'isolating', 'failure', 'within', 'test', 'using', 'progressive', 'inlining', 'parts', 'failing', 'test', 'http', '//www.threeriversinstitute.org/hitemhighhitemlow.html', 'kent', 'beck', 'hit', \"'em\", 'high', 'hit', \"'em\", 'low', 'regression', 'testing', 'saff', 'squeeze', 'debugging', 'embedded', 'systems', 'contrast', 'general', 'purpose', 'computer', 'software', 'design', 'environment', 'primary', 'characteristic', 'embedded', 'environments', 'sheer', 'number', 'different', 'platforms', 'available', 'developers', 'cpu', 'architectures', 'vendors', 'operating', 'systems', 'variants', 'embedded', 'systems', 'definition', 'general-purpose', 'designs', 'typically', 'developed', 'single', 'task', 'small', 'range', 'tasks', 'platform', 'chosen', 'specifically', 'optimize', 'application', 'fact', 'make', 'life', 'tough', 'embedded', 'system', 'developers', 'also', 'makes', 'debugging', 'testing', 'systems', 'harder', 'well', 'since', 'different', 'debugging', 'tools', 'needed', 'different', 'platforms', 'identify', 'fix', 'bugs', 'system', 'e.g', 'logical', 'synchronization', 'problems', 'code', 'design', 'error', 'hardware', 'collect', 'information', 'operating', 'states', 'system', 'may', 'used', 'analyze', 'system', 'find', 'ways', 'boost', 'performance', 'optimize', 'important', 'characteristics', 'e.g', 'energy', 'consumption', 'reliability', 'real-time', 'response', 'etc.', 'anti-debugging', 'anti-debugging', '``', 'implementation', 'one', 'techniques', 'within', 'computer', 'code', 'hinders', 'attempts', 'reverse', 'engineering', 'debugging', 'target', 'process', \"''\", 'ref', 'name=', \"''\", 'veracode-antidebugging', \"''\", 'cite', 'web', '|url=http', '//www.veracode.com/blog/2008/12/anti-debugging-series-part-i/', '|title=anti-debugging', 'series', 'part', '|last=shields', '|first=tyler', '|date=2008-12-02', '|work=veracode', '|accessdate=2009-03-17', 'actively', 'used', 'recognized', 'publishers', 'copy', 'protection|copy-protection', 'schemas', 'also', 'used', 'malware', 'complicate', 'detection', 'elimination.', 'ref', 'name=', \"''\", 'soft-prot', \"''\", 'http', '//people.seas.harvard.edu/~mgagnon/software_protection_through_anti_debugging.pdf', 'software', 'protection', 'anti-debugging', 'michael', 'n', 'gagnon', 'stephen', 'taylor', 'anup', 'ghosh', 'techniques', 'used', 'anti-debugging', 'include', 'api-based', 'check', 'existence', 'debugger', 'using', 'system', 'information', 'exception-based', 'check', 'see', 'exceptions', 'interfered', 'process', 'thread', 'blocks', 'check', 'whether', 'process', 'thread', 'blocks', 'manipulated', 'modified', 'code', 'check', 'code', 'modifications', 'made', 'debugger', 'handling', 'software', 'breakpoints', 'hardware-', 'register-based', 'check', 'hardware', 'breakpoints', 'cpu', 'registers', 'timing', 'latency', 'check', 'time', 'taken', 'execution', 'instructions', 'detecting', 'penalizing', 'debugger', 'ref', 'name=', \"''\", 'soft-prot', \"''\", '--', 'reference', 'exist', '--', 'early', 'example', 'anti-debugging', 'existed', 'early', 'versions', 'microsoft', 'word', 'debugger', 'detected', 'produced', 'message', 'said', '``', 'tree', 'evil', 'bears', 'bitter', 'fruit', 'trashing', 'program', 'disk', '``', 'caused', 'floppy', 'disk', 'drive', 'emit', 'alarming', 'noises', 'intent', 'scaring', 'user', 'away', 'attempting', 'again.', 'ref', 'name=', \"''\", 'securityengineeringra', \"''\", 'cite', 'book', 'url=http', '//www.cl.cam.ac.uk/~rja14/book.html', 'author=ross', 'j.', 'anderson', 'title=security', 'engineering', 'isbn', '0-471-38922-6', 'page=684', 'ref', 'name=', \"''\", 'toastytech', \"''\", 'cite', 'web', 'url=http', '//toastytech.com/guis/word1153.html', 'title=microsoft', 'word', 'dos', '1.15'], ['use', 'dmy', 'dates|date=september', '2013', 'refimprove|date=december', '2013', 'file', 'crashed', 'computer.jpg|thumb|a', 'crashed', 'imac', 'computing', \"''\", 'crash', \"''\", \"''\", 'system', 'crash', \"''\", 'occurs', 'computer', 'program', 'software', 'application', 'operating', 'system', 'stops', 'functioning', 'properly', 'exit', 'system', 'call', '|exits', 'program', 'responsible', 'may', 'appear', 'hang', 'computing', '|hang', 'crash', 'reporter|crash', 'reporting', 'service', 'reports', 'crash', 'details', 'relating', 'program', 'critical', 'part', 'operating', 'system', 'entire', 'system', 'may', 'crash', 'hang', 'computing', '|hang', 'often', 'resulting', 'kernel', 'panic', 'fatal', 'system', 'error', 'crashes', 'result', 'executing', 'invalid', 'instruction', 'set|machine', 'instructions', 'typical', 'causes', 'include', 'incorrect', 'address', 'space|address', 'values', 'program', 'counter', 'buffer', 'overflow', 'overwriting', 'portion', 'affected', 'program', 'code', 'due', 'earlier', 'computer', 'bug|bug', 'accessing', 'invalid', 'memory', 'addresses', 'using', 'illegal', 'opcode', 'triggering', 'unhandled', 'exception', 'handling|exception', 'original', 'software', 'bug', 'started', 'chain', 'events', 'typically', 'considered', 'cause', 'crash', 'discovered', 'process', 'debugging', 'original', 'bug', 'far', 'removed', 'source', 'code|code', 'actually', 'crashed', 'earlier', 'personal', 'computers', 'attempting', 'write', 'data', 'hardware', 'addresses', 'outside', 'system', \"'s\", 'main', 'memory', 'could', 'cause', 'hardware', 'damage', 'crashes', 'exploit', 'computer', 'security', '|exploitable', 'allow', 'malicious', 'program', 'hacker', 'execute', 'arbitrary', 'code', 'execution|arbitrary', 'code', 'allowing', 'replication', 'computer', 'virus|viruses', 'acquisition', 'data', 'would', 'normally', 'inaccessible', 'application', 'crashes', 'image', 'computer', 'crash', 'airport.jpg|thumb|a', 'display', 'frankfurt', 'airport', 'running', 'program', 'windows', 'xp', 'crashed', 'due', 'segmentation', 'fault|memory', 'read', 'access', 'violation', 'software', 'application|application', 'typically', 'crashes', 'performs', 'operation', 'allowed', 'operating', 'system', 'operating', 'system', 'triggers', 'exception', 'handling|exception', 'signal', 'computing', '|signal', 'application', 'unix', 'applications', 'traditionally', 'responded', 'signal', 'core', 'dump|dumping', 'core', 'windows', 'unix', 'graphical', 'user', 'interface|gui', 'applications', 'respond', 'displaying', 'dialogue', 'box', 'one', 'shown', 'right', 'option', 'attach', 'debugger', 'one', 'installed', 'applications', 'attempt', 'recover', 'error', 'continue', 'running', 'instead', 'exit', 'system', 'call', '|exiting', 'typical', 'errors', 'result', 'application', 'crashes', 'include', 'attempting', 'read', 'write', 'memory', 'allocated', 'reading', 'writing', 'application', 'segmentation', 'fault', 'x86', 'specific', 'general', 'protection', 'fault', 'attempting', 'execute', 'privileged', 'invalid', 'instructions', 'attempting', 'perform', 'i/o', 'operations', 'computer', 'hardware|hardware', 'devices', 'permission', 'access', 'passing', 'invalid', 'arguments', 'system', 'calls', 'attempting', 'access', 'system', 'resources', 'application', 'permission', 'access', 'attempting', 'execute', 'machine', 'instructions', 'bad', 'arguments', 'depending', 'cpu', 'architecture', 'division', 'zero|divide', 'zero', 'operations', 'denormal', 'number|denorms', 'nan', 'values', 'memory', 'access', 'bus', 'error|unaligned', 'addresses', 'etc', 'web', 'server', 'crashes', 'software', 'running', 'web', 'server', 'behind', 'website', 'may', 'crash', 'rendering', 'inaccessible', 'entirely', 'providing', 'error', 'message', 'instead', 'normal', 'content', 'example', 'site', 'using', 'sql', 'database', 'mysql', 'script', 'php', 'sql', 'database', 'server', 'crashes', 'php', 'display', 'connection', 'error', 'operating', 'system', 'crashes', 'operating', 'system', 'crash', 'commonly', 'occurs', 'exception', 'handling', 'exception', 'handling', 'hardware|hardware', 'exception', 'occurs', 'exception', 'handling|handled', 'operating', 'system', 'crashes', 'also', 'occur', 'internal', 'sanity', 'check|sanity-checking', 'logic', 'within', 'operating', 'system', 'detects', 'operating', 'system', 'lost', 'internal', 'self-consistency', 'modern', 'multi-tasking', 'operating', 'systems', 'windows', 'nt', 'linux', 'macos', 'usually', 'remain', 'unharmed', 'application', 'program', 'crashes', 'security', 'implications', 'crashes', 'many', 'software', 'bugs', 'cause', 'crashes', 'also', 'exploit', 'computer', 'security', '|exploitable', 'arbitrary', 'code', 'execution', 'types', 'privilege', 'escalation.', 'ref', 'cite', 'web|url=http', '//msdn.microsoft.com/en-us/magazine/cc163311.aspx', '|title=analyze', 'crashes', 'find', 'security', 'vulnerabilities', 'apps', '|publisher=msdn.microsoft.com', '|date=2007-04-26', '|accessdate=2014-06-26', 'ref', 'cite', 'web|url=http', '//www.squarefree.com/2006/11/01/memory-safety-bugs-in-c-code/', '|title=jesse', 'ruderman', '»', 'memory', 'safety', 'bugs', 'c++', 'code', '|publisher=squarefree.com', '|date=2006-11-01', '|accessdate=2014-06-26', 'example', 'stack', 'buffer', 'overflow', 'overwrite', 'return', 'address', 'subroutine', 'invalid', 'value', 'cause', 'segmentation', 'fault', 'subroutine', 'returns', 'however', 'exploit', 'overwrites', 'return', 'address', 'valid', 'value', 'code', 'address', 'executed', 'see', 'also', 'blue', 'screen', 'death', 'crash-only', 'software', 'crash', 'reporter', 'crash', 'desktop', 'data', 'loss', 'debugging', 'guru', 'meditation', 'kernel', 'panic', 'memory', 'corruption', 'reboot', 'computing', '|reboot', 'safe', 'mode', 'segmentation', 'fault', 'systemrescuecd', 'undefined', 'behaviour', 'references', 'reflist', 'external', 'links', 'commons', 'category|computer', 'errors', 'http', '//windows.microsoft.com/en-us/windows-vista/picking-up-the-pieces-after-a-computer-crash', 'picking', 'pieces', 'computer', 'crash', 'http', '//www.scientificamerican.com/article.cfm', 'id=why-do-computers-crash', 'computers', 'crash', 'defaultsort', 'crash', 'computing', 'category', 'computer', 'jargon', 'category', 'computer', 'errors', 'category', 'software', 'anomalies'], ['use', 'dmy', 'dates|date=march', '2014', 'information', 'security', 'refimprove|date=july', '2013', \"''\", 'malware', \"''\", 'short', \"''\", 'malicious', 'software', \"''\", 'software', 'used', 'disrupt', 'computer', 'mobile', 'operations', 'gather', 'sensitive', 'information', 'gain', 'access', 'private', 'computer', 'systems', 'display', 'unwanted', 'advertising.', 'ref', 'cite', 'web|url=http', '//techterms.com/definition/malware|', 'title=malware', 'definition|', 'publisher=techterms.com', '|accessdate=27', 'september', '2015', 'term', 'malware', 'coined', 'yisrael', 'radai', '1990', 'malicious', 'software', 'referred', 'computer', 'viruses.', 'ref', 'name=', \"''\", 'elisan2012', \"''\", 'cite', 'book|author=christopher', 'elisan|title=malware', 'rootkits', 'botnets', 'beginner', \"'s\", 'guide|url=https', '//books.google.com/books', 'id=josfllpg1kkc', 'pg=pa10|date=5', 'september', '2012|publisher=mcgraw', 'hill', 'professional|isbn=978-0-07-179205-9|pages=10–', 'first', 'category', 'malware', 'propagation', 'concerns', 'parasitic', 'software', 'fragments', 'attach', 'existing', 'executable', 'content', 'fragment', 'may', 'machine', 'code', 'infects', 'existing', 'application', 'utility', 'system', 'program', 'even', 'code', 'used', 'boot', 'computer', 'system.', 'ref', 'name=', \"''\", 'stallings', '2012', 'p.182', '``', 'cite', 'book', 'last=stallings', 'first=william', 'title=computer', 'security', 'principles', 'practice', 'publisher=pearson', 'location=boston', 'year=2012', 'isbn=978-0-13-277506-9', 'page=182', 'malware', 'defined', 'malicious', 'intent', 'acting', 'requirements', 'computer', 'user', 'include', 'software', 'causes', 'unintentional', 'harm', 'due', 'deficiency', 'malware', 'may', 'stealthy', 'intended', 'steal', 'information', 'spy', 'computer', 'users', 'extended', 'period', 'without', 'knowledge', 'example', 'regin', 'malware', '|regin', 'may', 'designed', 'cause', 'harm', 'often', 'sabotage', 'e.g.', 'stuxnet', 'extort', 'payment', 'cryptolocker', \"'malware\", 'umbrella', 'term', 'used', 'refer', 'variety', 'forms', 'hostile', 'intrusive', 'software', 'ref', 'cite', 'web|url=http', '//technet.microsoft.com/en-us/library/dd632948.aspx|title=defining', 'malware', 'faq|publisher=technet.microsoft.com|accessdate=10', 'september', '2009', 'including', 'computer', 'viruses', 'computer', 'worm|worms', 'trojan', 'horse', 'computing', '|trojan', 'horses', 'ransomware', 'malware', '|ransomware', 'spyware', 'adware', 'scareware', 'malicious', 'programs', '--', 'rootkits', 'keyloggers', 'dialers', 'bhos', 'types', 'malware', 'function', 'groups', 'necessarily', 'even', 'typically', 'malware', 'would', 'incorrect', 'assert', 'malware', 'includes', 'say', 'drivers', 'macros.', '--', 'take', 'form', 'executable', 'code', 'script', 'computing', '|scripts', 'active', 'content', 'software.', 'ref', 'cite', 'web|url=https', '//ics-cert.us-cert.gov/sites/default/files/recommended_practices/casestudy-002.pdf', '|title=an', 'undirected', 'attack', 'critical', 'infrastructure', '|publisher=united', 'states', 'computer', 'emergency', 'readiness', 'team', 'us-cert.gov', '|date=', 'format=pdf|', 'accessdate=28', 'september', '2014', 'malware', 'often', 'disguised', 'embedded', 'non-malicious', 'files', 'of|2011', 'majority', 'active', 'malware', 'threats', 'worms', 'trojans', 'rather', 'viruses.', 'ref', 'cite', 'web|url=http', '//www.microsoft.com/security/sir/story/default.aspx', '10year_malware', '|title=evolution', 'malware-malware', 'trends', '|publisher=microsoft.com', '|date=', 'work=microsoft', 'security', 'intelligence', 'report-featured', 'articles', '|accessdate=28', 'april', '2013', 'law', 'malware', 'sometimes', 'known', \"''\", 'computer', 'contaminant', \"''\", 'legal', 'codes', 'several', 'united', 'states|u.s', 'states.', 'ref', 'cite', 'web|', 'publisher=national', 'conference', 'state', 'legislatures', '|url=http', '//www.ncsl.org/issues-research/telecom/state-virus-and-computer-contaminant-laws.aspx|', 'title=virus/contaminant/destructive', 'transmission', 'statutes', 'state|', 'date=2012-02-14|', 'accessdate=26', 'august', '2013', 'ref', 'cite', 'web|url=http', '//jcots.state.va.us/2005', '20content/pdf/computer', '20contamination', '20bill.pdf|title=§', 'nbsp', '18.2-152.4:1', 'penalty', 'computer', 'contamination|format=pdf|publisher=joint', 'commission', 'technology', 'science|accessdate=17', 'september', '2010', 'spyware', 'malware', 'sometimes', 'found', 'embedded', 'programs', 'supplied', 'officially', 'companies', 'e.g.', 'downloadable', 'websites', 'appear', 'useful', 'attractive', 'may', 'example', 'additional', 'hidden', 'tracking', 'functionality', 'gathers', 'marketing', 'statistics', 'example', 'software', 'described', 'illegitimate', 'sony', 'rootkit', 'trojan', 'embedded', 'compact', 'disc|cds', 'sold', 'sony', 'silently', 'installed', 'concealed', 'purchasers', 'computers', 'intention', 'preventing', 'illicit', 'copying', 'also', 'reported', 'users', 'listening', 'habits', 'unintentionally', 'created', 'vulnerabilities', 'exploited', 'unrelated', 'malware.', 'ref', 'cite', 'web', '|last=russinovich', '|first=mark', '|url=http', '//blogs.technet.com/markrussinovich/archive/2005/10/31/sony-rootkits-and-digital-rights-management-gone-too-far.aspx', '|title=sony', 'rootkits', 'digital', 'rights', 'management', 'gone', 'far', '|work=mark', \"'s\", 'blog', '|publisher=microsoft', 'msdn', '|date=2005-10-31', '|accessdate=2009-07-29', 'software', 'anti-virus', 'firewall', 'computing', '|firewalls', 'used', 'protect', 'activity', 'identified', 'malicious', 'recover', 'attacks.', 'ref', 'cite', 'web|title=protect', 'computer', 'malware|url=http', '//www.onguardonline.gov/media/video-0056-protect-your-computer-malware|publisher=onguardonline.gov', '|accessdate=26', 'august', '2013', 'purposes', 'file', 'malware', 'statics', '2011-03-16-en.svg|thumb|alt=this', 'pie', 'chart', 'shows', '2011', '70', 'percent', 'malware', 'infections', 'trojan', 'horses', '17', 'percent', 'viruses', '8', 'percent', 'worms', 'remaining', 'percentages', 'divided', 'among', 'adware', 'backdoor', 'spyware', 'exploits.|300px|malware', 'categories', '16', 'march', '2011.', 'many', 'early', 'infectious', 'programs', 'including', 'morris', 'worm|first', 'internet', 'worm', 'written', 'experiments', 'pranks', 'today', 'malware', 'used', 'black-hat', 'hacking|black', 'hat', 'hackers', 'governments', 'steal', 'personal', 'financial', 'business', 'information.', 'ref', 'cite', 'web|title=malware|url=http', '//www.consumer.ftc.gov/articles/0011-malware|publisher=federal', 'trade', 'commission-', 'consumer', 'information|accessdate=27', 'march', '2014', 'ref', 'cite', 'web|last=hernandez|first=pedro|title=microsoft', 'vows', 'combat', 'government', 'cyber-spying|url=http', '//www.eweek.com/security/microsoft-vows-to-combat-government-cyber-spying.html|publisher=eweek|accessdate=15', 'december', '2013', 'malware', 'sometimes', 'used', 'broadly', 'government', 'corporate', 'websites', 'gather', 'guarded', 'information', 'ref', 'cite', 'web', '|last=kovacs', '|first=eduard', '|title=miniduke', 'malware', 'used', 'european', 'government', 'organizations|url=http', '//news.softpedia.com/news/miniduke-malware-used-against-european-government-organizations-333006.shtml|publisher=softpedia|accessdate=27', 'february', '2013', 'disrupt', 'operation', 'general', 'however', 'malware', 'often', 'used', 'individuals', 'gain', 'information', 'personal', 'identification', 'numbers', 'details', 'bank', 'credit', 'card', 'numbers', 'passwords', 'left', 'unguarded', 'personal', 'computer', 'network|networked', 'computers', 'considerable', 'risk', 'threats', 'frequently', 'defended', 'various', 'types', 'firewall', 'computing', '|firewall', 'anti-virus', 'software', 'network', 'switch|network', 'hardware', 'ref', 'cite', 'news|title=south', 'korea', 'network', 'attack', \"'a\", 'computer', \"virus'\", '|url=http', '//www.bbc.co.uk/news/world-asia-21855051|newspaper=bbc|accessdate=20', 'march', '2013', 'since', 'rise', 'widespread', 'broadband', 'internet', 'access', 'malicious', 'software', 'frequently', 'designed', 'profit', 'since', '2003', 'majority', 'widespread', 'computer', 'virus|viruses', 'worms', 'designed', 'take', 'control', 'users', 'computers', 'illicit', 'purposes.', 'ref', 'cite', 'web|title=malware', 'revolution', 'change', 'target|url=http', '//technet.microsoft.com/en-us/library/cc512596.aspx|date=march', '2007', 'infected', '``', 'zombie', 'computers', \"''\", 'used', 'send', 'email', 'spam', 'host', 'contraband', 'data', 'child', 'pornography', 'ref', 'cite', 'web|title=child', 'porn', 'malware', \"'s\", 'ultimate', 'evil|url=http', '//www.itworld.com/security/84077/child-porn-malwares-ultimate-evil|date=november', '2009', 'engage', 'distributed', 'denial-of-service', 'attack', 'computing', '|attacks', 'form', 'extortion.', 'ref', 'http', '//www.pcworld.com/article/id,116841-page,1/article.html', 'pc', 'world', '–', 'zombie', 'pcs', 'silent', 'growing', 'threat', '--', 'bot', 'generated', 'title', '--', 'programs', 'designed', 'monitor', 'users', 'web', 'browsing', 'display', 'unsolicited', 'advertisements', 'redirect', 'affiliate', 'marketing', 'revenues', 'called', 'spyware', 'spyware', 'programs', 'spread', 'like', 'computer', 'virus|viruses', 'instead', 'generally', 'installed', 'exploiting', 'security', 'holes', 'also', 'hidden', 'packaged', 'together', 'unrelated', 'user-installed', 'software.', 'ref', 'cite', 'web|title=peer', 'peer', 'information|url=http', '//oit.ncsu.edu/resnet/p2p|publisher=north', 'carolina', 'state', 'university|accessdate=25', 'march', '2011', 'ransomware', 'affects', 'infected', 'computer', 'way', 'demands', 'payment', 'reverse', 'damage', 'example', 'programs', 'cryptolocker', 'encryption|encrypt', 'files', 'securely', 'decrypt', 'payment', 'substantial', 'sum', 'money', 'malware', 'used', 'generate', 'money', 'click', 'fraud', 'making', 'appear', 'computer', 'user', 'clicked', 'advertising', 'link', 'site', 'generating', 'payment', 'advertiser', 'estimated', '2012', '60', '70', 'active', 'malware', 'used', 'kind', 'click', 'fraud', '22', 'ad-clicks', 'fraudulent.', 'ref', 'cite', 'web|url=http', '//blogs.technet.com/b/mmpc/archive/2012/11/29/another-way-microsoft-is-disrupting-the-malware-ecosystem.aspx|title=another', 'way', 'microsoft', 'disrupting', 'malware', 'ecosystem|publisher=|accessdate=18', 'february', '2015', 'malware', 'usually', 'used', 'criminal', 'purposes', 'used', 'sabotage', 'often', 'without', 'direct', 'benefit', 'perpetrators', 'one', 'example', 'sabotage', 'stuxnet', 'used', 'destroy', 'specific', 'industrial', 'equipment', 'politically', 'motivated', 'attacks', 'spread', 'shut', 'large', 'computer', 'networks', 'including', 'massive', 'deletion', 'files', 'corruption', 'master', 'boot', 'records', 'described', '``', 'computer', 'killing', \"''\", 'attacks', 'made', 'sony', 'pictures', 'entertainment', '25', 'november', '2014', 'using', 'malware', 'known', 'shamoon', 'w32.disttrack', 'saudi', 'aramco', 'august', '2012', 'ref', 'cite', 'web|url=http', '//www.computerweekly.com/news/2240161674/shamoon-is-latest-malware-to-target-energy-sector|title=shamoon', 'latest', 'malware', 'target', 'energy', 'sector|publisher=|accessdate=18', 'february', '2015', 'ref', 'cite', 'web|url=http', '//www.computerweekly.com/news/2240235919/computer-killing-malware-used-in-sony-attack-a-wake-up-call-to-business', 'asrc=em_mdn_37122786', 'utm_medium=em', 'utm_source=mdn', 'utm_campaign=20141203_computer-killing', '20malware', '20used', '20in', '20sony', '20attack', '20a', '20wake-up', '20call_|title=computer-killing', 'malware', 'used', 'sony', 'attack', 'wake-up', 'call|publisher=|accessdate=18', 'february', '2015', 'proliferation', 'preliminary', 'results', 'symantec', 'published', '2008', 'suggested', '``', 'release', 'rate', 'malicious', 'executable|code', 'unwanted', 'programs', 'may', 'exceeding', 'legitimate', 'software', 'applications', '``', 'ref', 'cite', 'journal|title=symantec', 'internet', 'security', 'threat', 'report', 'trends', 'july–december', '2007', 'executive', 'summary', '|publisher=symantec', 'corp.|volume=xiii|page=29|date=april', '2008|url=http', '//eval.symantec.com/mktginfo/enterprise/white_papers/b-whitepaper_exec_summary_internet_security_threat_report_xiii_04-2008.en-us.pdf', '|format=pdf|accessdate=11', 'may', '2008', 'according', 'f-secure', '``', 'much', 'malware', 'produced', '2007', 'previous', '20', 'years', 'altogether', '``', 'ref', 'cite', 'press', 'release|title=f-secure', 'reports', 'amount', 'malware', 'grew', '100', '2007|url=http', '//www.f-secure.com/f-secure/pressroom/news/fs_news_20071204_1_eng.html|date=4', 'december', '2007|publisher=f-secure', 'corporation|accessdate=11', 'december', '2007', 'malware', \"'s\", 'common', 'pathway', 'criminals', 'users', 'internet', 'primarily', 'e-mail', 'world', 'wide', 'web.', 'ref', 'cite', 'web|title=', 'f-secure', 'quarterly', 'security', 'wrap-up', 'first', 'quarter', '2008|url=http', '//www.f-secure.com/f-secure/pressroom/news/fsnews_20080331_1_eng.html|publisher=f-secure|date=31', 'march', '2008|accessdate=25', 'april', '2008', 'prevalence', 'malware', 'vehicle', 'internet', 'crime', 'along', 'challenge', 'anti-malware', 'software', 'keep', 'continuous', 'stream', 'new', 'malware', 'seen', 'adoption', 'new', 'mindset', 'individuals', 'businesses', 'using', 'internet', 'amount', 'malware', 'currently', 'distributed', 'percentage', 'computers', 'currently', 'assumed', 'infected', 'businesses', 'especially', 'sell', 'mainly', 'internet', 'means', 'need', 'find', 'way', 'operate', 'despite', 'security', 'concerns', 'result', 'greater', 'emphasis', 'back-office', 'protection', 'designed', 'protect', 'advanced', 'malware', 'operating', 'customers', 'computers.', 'ref', 'cite', 'web|title=', 'continuing', 'business', 'malware', 'infected', 'customers|url=http', '//www.technicalinfo.net/papers/malwareinfectedcustomers.html|publisher=gunter', 'ollmann|date=october', '2008', '2013', 'webroot', 'study', 'shows', '64', 'companies', 'allow', 'remote', 'access', 'servers', '25', '100', 'workforce', 'companies', '25', 'employees', 'accessing', 'servers', 'remotely', 'higher', 'rates', 'malware', 'threats.', 'ref', 'cite', 'web|title=', 'new', 'research', 'shows', 'remote', 'users', 'expose', 'companies', 'cybercrime|url=http', '//www.webroot.com/en_us/pr/web-security/ent/new-research-shows-remote-users-expose-companies-to-cybercrime-042313.html|publisher=webroot|date=april', '2013', '29', 'march', '2010', 'symantec', 'corporation', 'named', 'shaoxing', 'china', 'world', \"'s\", 'malware', 'capital.', 'ref', 'cite', 'web|url=http', '//www.engadget.com/2010/03/29/symantec-names-shaoxing-china-worlds-malware-capital', '|title=symantec', 'names', 'shaoxing', 'china', 'world', \"'s\", 'malware', 'capital', '|publisher=engadget', '|date=', '|accessdate=15', 'april', '2010', '2011', 'study', 'university', 'california', 'berkeley', 'madrid', 'institute', 'advanced', 'studies', 'published', 'article', \"''software\", 'development', 'technologies', \"''\", 'examining', 'entrepreneurial', 'hacker', 'computer', 'security', '|hackers', 'helping', 'enable', 'spread', 'malware', 'offering', 'access', 'computers', 'price', 'microsoft', 'reported', 'may', '2011', 'one', 'every', '14', 'downloads', 'internet', 'may', 'contain', 'malware', 'code', 'social', 'media', 'facebook', 'particular', 'seeing', 'rise', 'number', 'tactics', 'used', 'spread', 'malware', 'computers.', 'ref', 'cite', 'news|url', 'https', '//online.wsj.com/article/sb10001424052748704904604576332812592346714.html', '|title', 'malware', 'posing', 'increasing', 'danger', '|publisher', 'wall', 'street', 'journal', 'first=ben', '|last=rooney', '|date=2011-05-23', '2014', 'study', 'found', 'malware', 'increasingly', 'aimed', 'mobile', 'devices', 'smartphones', 'increase', 'popularity.', 'ref', 'cite', 'journal', '|last1=suarez-tangil|first1=guillermo|author2=juan', 'e.', 'tapiador', 'pedro', 'peris-lopez', 'arturo', 'ribagorda|title=evolution', 'detection', 'analysis', 'malware', 'smart', 'devices|journal=ieee', 'communications', 'surveys', 'tutorials|year=2014', '|url=http', '//www.seg.inf.uc3m.es/~guillermo-suarez-tangil/papers/2013cst-ieee.pdf', 'infectious', 'malware', 'main', 'article|computer', 'virus|computer', 'worm', 'best-known', 'types', 'malware', 'computer', 'virus|viruses', 'worms', 'known', 'manner', 'spread', 'rather', 'specific', 'types', 'behavior', 'term', \"''computer\", 'virus', \"''\", 'used', 'program', 'embeds', 'executable', 'software', 'including', 'operating', 'system', 'target', 'system', 'without', 'user', \"'s\", 'consent', 'run', 'causes', 'virus', 'spread', 'executables', 'hand', \"''computer\", 'worm|worm', \"''\", 'stand-alone', 'malware', 'program', \"''actively\", \"''\", 'transmits', 'computer', 'network|network', 'infect', 'computers', 'definitions', 'lead', 'observation', 'computer', 'virus|virus', 'requires', 'user', 'run', 'infected', 'program', 'operating', 'system', 'virus', 'spread', 'whereas', 'worm', 'spreads', 'itself.', 'ref', 'cite', 'web|url=http', '//www.britannica.com/ebchecked/topic/130688/computer-virus', '|title=computer', 'virus', '–', 'encyclopædia', 'britannica', '|publisher=britannica.com', '|date=', '|accessdate=28', 'april', '2013', 'concealment', 'categories', 'mutually', 'exclusive', 'malware', 'may', 'use', 'multiple', 'techniques.', 'ref', 'http', '//techacute.com/malware-information-privacy/', 'malware', 'information', 'privacy', 'section', 'applies', 'malware', 'designed', 'operate', 'undetected', 'sabotage', 'ransomware', 'see', 'also|polymorphic', 'packer', 'viruses', 'main', 'article|computer', 'virus', 'computer', 'program', 'usually', 'hidden', 'within', 'another', 'seemingly', 'innocuous', 'program', 'produces', 'copies', 'inserts', 'programs', 'files', 'usually', 'performs', 'malicious', 'action', 'destroying', 'data', 'ref', 'cite', 'web|title=what', 'viruses', 'worms', 'trojan', 'horses', '|url=https', '//kb.iu.edu/d/aehm|website=indiana', 'university|publisher=the', 'trustees', 'indiana', 'university|accessdate=23', 'february', '2015', 'trojan', 'horses', 'main', 'article|trojan', 'horse', 'computing', 'computing', 'trojan', 'horse', \"''\", 'trojan', \"''\", 'malicious', 'computer', 'program', 'misrepresents', 'appear', 'useful', 'routine', 'interesting', 'order', 'persuade', 'victim', 'install', 'term', 'derived', 'ancient', 'greek', 'story', 'trojan', 'horse|wooden', 'horse', 'used', 'help', 'greek', 'troops', 'invade', 'city', 'troy', 'stealth.', 'ref', 'cite', 'conference', 'publisher', 'dtic', 'document', 'last', 'landwehr', 'first', 'c.', 'e', 'author2=a', 'r', 'bull', '|author3=j', 'p', 'mcdermott', '|author4=w', 'choi', 'title', 'taxonomy', 'computer', 'program', 'security', 'flaws', 'examples', 'url', 'http', '//www.dtic.mil/cgi-bin/gettrdoc', 'ad=ada465587', 'year', '1993', 'accessdate', '2012-04-05', 'ref', 'cite', 'web', 'title', 'trojan', 'horse', 'definition', 'accessdate', '2012-04-05', 'url', 'http', '//www.techterms.com/definition/trojanhorse', 'ref', 'cite', 'news', 'title', 'trojan', 'horse', 'work', 'webopedia', 'accessdate', '2012-04-05', 'url', 'http', '//www.webopedia.com/term/t/trojan_horse.html', 'ref', 'cite', 'web', 'title', 'trojan', 'horse', '–', 'definition', 'whatis.com', 'accessdate', '2012-04-05', 'url', 'http', '//searchsecurity.techtarget.com/definition/trojan-horse', 'ref', 'cite', 'web', 'title', 'trojan', 'horse', 'coined', 'mit-hacker-turned-nsa-spook', 'dan', 'edwards', 'n.', 'accessdate', '2012-04-05', 'url', 'http', '//www.anvari.org/fortune/miscellaneous_collections/291162_trojan-horse-coined-by-mit-hacker-turned-nsa-spook-dan-edwards-n.html', 'trojans', 'generally', 'spread', 'form', 'social', 'engineering', 'security', '|social', 'engineering', 'example', 'user', 'duped', 'executing', 'e-mail', 'attachment', 'disguised', 'unsuspicious', 'e.g.', 'routine', 'form', 'filled', 'drive-by', 'download', 'although', 'payload', 'anything', 'many', 'modern', 'forms', 'act', 'backdoor', 'computing', '|backdoor', 'contacting', 'controller', 'unauthorized', 'access', 'affected', 'computer.', 'ref', 'cite', 'web|title=what', 'difference', 'viruses', 'worms', 'trojans', '|url=http', '//www.symantec.com/business/support/index', 'page=content', 'id=tech98539|publisher=symantec', 'corporation|accessdate=2009-01-10', 'trojans', 'backdoors', 'easily', 'detectable', 'computers', 'may', 'appear', 'run', 'slower', 'due', 'heavy', 'processor', 'network', 'usage', 'unlike', 'computer', 'viruses', 'computer', 'worm|worms', 'trojans', 'generally', 'attempt', 'inject', 'files', 'otherwise', 'propagate', 'themselves.', 'ref', 'cite', 'web', 'title', 'virus-l/comp.virus', 'frequently', 'asked', 'questions', 'faq', 'v2.00', 'question', 'b3', 'trojan', 'horse', 'date', '9', 'october', '1995', 'accessdate', '2012-09-13', 'url', 'http', '//www.faqs.org/faqs/computer-virus/faq/', 'rootkits', 'main', 'article|rootkit', 'malicious', 'program', 'installed', 'system', 'essential', 'stays', 'concealed', 'avoid', 'detection', 'software', 'packages', 'known', \"''rootkits\", \"''\", 'allow', 'concealment', 'modifying', 'host', \"'s\", 'operating', 'system', 'malware', 'hidden', 'user', 'rootkits', 'prevent', 'malicious', 'process', 'computing', '|process', 'visible', 'system', \"'s\", 'list', 'process', 'computing', '|processes', 'keep', 'files', 'read.', 'ref', 'cite', 'web|last=mcdowell|first=mindi|title=understanding', 'hidden', 'threats', 'rootkits', 'botnets|url=http', '//www.us-cert.gov/ncas/tips/st06-001|publisher=us-cert|accessdate=6', 'february', '2013', 'malicious', 'programs', 'contain', 'routines', 'defend', 'removal', 'merely', 'hide', 'early', 'example', 'behavior', 'recorded', 'jargon', 'file', 'tale', 'pair', 'programs', 'infesting', 'xerox', 'cp-v', 'operating', 'system|cp-v', 'time', 'sharing', 'system', 'ghost-job', 'would', 'detect', 'fact', 'killed', 'would', 'start', 'new', 'copy', 'recently', 'stopped', 'program', 'within', 'milliseconds', 'way', 'kill', 'ghosts', 'kill', 'simultaneously', 'difficult', 'deliberately', 'crash', 'system.', 'ref', 'cite', 'web|url=http', '//catb.org/jargon/html/meaning-of-hack.html', '|title=catb.org', '|publisher=catb.org', '|date=', '|accessdate=15', 'april', '2010', 'backdoors', 'main', 'article|backdoor', 'computing', 'backdoor', 'computing', '|backdoor', 'method', 'bypassing', 'normal', 'authentication', 'procedures', 'usually', 'connection', 'network', 'internet', 'system', 'compromised', 'one', 'backdoors', 'may', 'installed', 'order', 'allow', 'access', 'future', 'ref', 'name=aaa', 'cite', 'news', '|url=http', '//www.spywareloop.com/news/malware|title=malware', 'spywareloop.com|author=', 'vincentas', '|newspaper=', \"''\", 'spyware', 'loop', \"''\", '|date=11', 'july', '2013', '|accessdate=28', 'july', '2013', 'invisibly', 'user', 'idea', 'often', 'suggested', 'computer', 'manufacturers', 'preinstall', 'backdoors', 'systems', 'provide', 'technical', 'support', 'customers', 'never', 'reliably', 'verified', 'reported', '2014', 'us', 'government', 'agencies', 'diverting', 'computers', 'purchased', 'considered', '``', 'targets', \"''\", 'secret', 'workshops', 'software', 'hardware', 'permitting', 'remote', 'access', 'agency', 'installed', 'considered', 'among', 'productive', 'operations', 'obtain', 'access', 'networks', 'around', 'world.', 'ref', 'cite', 'web|last=staff|first=spiegel|title=inside', 'tao', 'documents', 'reveal', 'top', 'nsa', 'hacking', 'unit|url=http', '//www.spiegel.de/international/world/the-nsa-uses-powerful-toolbox-in-effort-to-spy-on-global-networks-a-940969-3.html|publisher=spiegel|accessdate=23', 'january', '2014', 'backdoors', 'may', 'installed', 'trojan', 'horses', 'computer', 'worm|worms', 'nsa', 'ant', 'catalog|implants', 'methods.', 'ref', 'cite', 'web|last=edwards|first=john|title=top', 'zombie', 'trojan', 'horse', 'bot', 'threats|url=http', '//www.itsecurity.com/features/top-zombie-trojan-bots-092507|publisher=it', 'security|accessdate=25', 'september', '2007', 'ref', 'cite', 'web|last=appelbaum|first=jacob|title=shopping', 'spy', 'gear', 'catalog', 'advertises', 'nsa', 'toolbox|url=http', '//www.spiegel.de/international/world/catalog-reveals-nsa-has-back-doors-for-numerous-devices-a-940994.html|publisher=spiegel|accessdate=29', 'december', '2013', 'evasion', 'since', 'beginning', '2015', 'sizable', 'portion', 'malware', 'utilizes', 'combination', 'many', 'techniques', 'designed', 'avoid', 'detection', 'analysis.', 'ref', 'http', '//www.net-security.org/malware_news.php', 'id=3022', 'evasive', 'malware', 'common', 'evasion', 'technique', 'malware', 'evades', 'analysis', 'detection', 'fingerprint', 'computing', '|fingerprinting', 'environment', 'executed.', 'ref', 'cite', 'conference', '|title=', 'barecloud', 'bare-metal', 'analysis-based', 'evasive', 'malware', 'detection|last1=', 'kirat', '|first1=', 'dhilung|', 'last2=', 'vigna|first2=', 'giovanni|', 'last3', 'kruegel|', 'first3', 'christopher', '|date=2014', '|publisher=', 'acm|book-title=', 'pages', '287–301|', 'isbn', '978-1-931971-15-7', 'second', 'common', 'evasion', 'technique', 'confusing', 'automated', 'tools', 'detection', 'methods', 'allows', 'malware', 'avoid', 'detection', 'technologies', 'signature-based', 'antivirus', 'software', 'changing', 'server', 'used', 'malware.', 'ref', 'http', '//www.tripwire.com/state-of-security/security-data-protection/the-four-most-common-evasive-techniques-used-by-malware/', 'four', 'common', 'evasive', 'techniques', 'used', 'malware', 'april', '27', '2015.', 'third', 'common', 'evasion', 'technique', 'timing-based', 'evasion', 'malware', 'runs', 'certain', 'times', 'following', 'certain', 'actions', 'taken', 'user', 'executes', 'certain', 'vulnerable', 'periods', 'boot', 'process', 'remaining', 'dormant', 'rest', 'time', 'fourth', 'common', 'evasion', 'technique', 'done', 'obfuscating', 'internal', 'data', 'automated', 'tools', 'detect', 'malware.', 'ref', 'cite', 'conference', '|title=', 'deniable', 'password', 'snatching', 'possibility', 'evasive', 'electronic', 'espionage|last1=', 'young', '|first1=', 'adam|last2=', 'yung|first2=', 'moti|date=1997|publisher=', 'ieee|book-title=symp', 'security', 'privacy', 'pages', '224–235|', 'isbn', '0-8186-7828-3', 'increasingly', 'common', 'technique', 'adware', 'uses', 'stolen', 'certificates', 'disable', 'anti-malware', 'virus', 'protection', 'technical', 'remedies', 'available', 'deal', 'adware.', 'ref', 'name=', \"''\", 'casey', \"''\", 'cite', 'web', '|url=https', '//www.yahoo.com/tech/s/latest-adware-disables-antivirus-software-152920421.html', '|title=latest', 'adware', 'disables', 'antivirus', 'software', '|work=tom', \"'s\", 'guide', '|first1=henry', 't.', '|last1=casey', '|authorlink1=henry', 't.', 'casey', '|publisher=yahoo.com', '|date=25', 'november', '2015', '|accessdate=25', 'november', '2015', 'nowadays', 'one', 'sophisticated', 'stealthy', 'ways', 'evasion', 'use', 'information', 'hiding', 'techniques', 'namely', 'stegomalware', 'vulnerability', 'main', 'article|vulnerability', 'computing', 'context', 'throughout', 'called', '``', 'system', \"''\", 'attack', 'may', 'anything', 'single', 'application', 'complete', 'computer', 'operating', 'system', 'large', 'computer', 'network|network', 'various', 'factors', 'make', 'system', 'vulnerable', 'malware', 'anchor|security', 'defect', 'security', 'defects', 'software', 'malware', 'exploits', 'security', 'defects', 'security', 'bugs', 'software', 'vulnerability|vulnerabilities', 'design', 'operating', 'system', 'applications', 'browsers', 'e.g', 'older', 'versions', 'microsoft', 'internet', 'explorer', 'supported', 'windows', 'xp', 'ref', 'cite', 'web|title=global', 'web', 'browser', '...', 'security', 'trends|publisher=kaspersky', 'lab|date=november', '2012|url=http', '//www.kaspersky.com/images/kaspersky_report_browser_usage_eng_final.pdf', 'vulnerable', 'versions', 'browser', 'plugins', 'adobe', 'flash', 'player', 'security|adobe', 'flash', 'player', 'adobe', 'acrobat', 'security|adobe', 'acrobat', 'reader', 'java', 'se', 'critical', 'security', 'issues', 'java', 'se', 'plugin|java', 'se.', 'ref', 'cite', 'web|last=rashid|first=fahmida', 'y.|title=updated', 'browsers', 'still', 'vulnerable', 'attack', 'plugins', 'outdated|publisher=pcmag.com|date=27', 'november', '2012|url=http', '//securitywatch.pcmag.com/none/305385-updated-browsers-still-vulnerable-to-attack-if-plugins-are-outdated', 'ref', 'cite', 'web|last=danchev|first=dancho|title=kaspersky', '12', 'different', 'vulnerabilities', 'detected', 'every', 'pc|publisher=pcmag.com|date=18', 'august', '2011|url=http', '//www.zdnet.com/blog/security/kaspersky-12-different-vulnerabilities-detected-on-every-pc/9283', 'sometimes', 'even', 'installing', 'new', 'versions', 'plugins', 'automatically', 'uninstall', 'old', 'versions', 'security', 'advisories', 'plug-in', 'computing', '|plug-in', 'providers', 'announce', 'security-related', 'updates.', 'ref', 'cite', 'web|url=https', '//www.adobe.com/support/security/', '|title=adobe', 'security', 'bulletins', 'advisories', '|publisher=adobe.com', '|date=', '|accessdate=19', 'january', '2013', 'common', 'vulnerabilities', 'assigned', 'common', 'vulnerabilities', 'exposures|cve', 'ids', 'listed', 'us', 'national', 'vulnerability', 'database', 'secunia', 'psi|secunia', 'psi', 'ref', 'cite', 'web|last=rubenking', '|first=neil', 'j', '|url=http', '//www.pcmag.com/article2/0,2817,2406767,00.asp', '|title=secunia', 'personal', 'software', 'inspector', '3.0', 'review', 'rating', '|publisher=pcmag.com', '|date=', '|accessdate=19', 'january', '2013', 'example', 'software', 'free', 'personal', 'use', 'check', 'pc', 'vulnerable', 'out-of-date', 'software', 'attempt', 'update', 'malware', 'authors', 'target', 'software', 'bug|bugs', 'loopholes', 'exploit', 'common', 'method', 'exploitation', 'buffer', 'overrun', 'vulnerability', 'software', 'designed', 'store', 'data', 'specified', 'region', 'memory', 'prevent', 'data', 'buffer', 'accommodate', 'supplied', 'malware', 'may', 'provide', 'data', 'overflows', 'buffer', 'malicious', 'executable', 'code', 'data', 'end', 'payload', 'accessed', 'attacker', 'legitimate', 'software', 'determines', 'insecure', 'design', 'user', 'error', 'early', 'pcs', 'booted', 'floppy', 'disks', 'built-in', 'hard', 'drives', 'became', 'common', 'operating', 'system', 'normally', 'started', 'possible', 'boot', 'another', 'booting', 'boot', 'devices', 'ibm', 'pc', '|boot', 'device', 'available', 'floppy', 'disk', 'cd-rom', 'dvd-rom', 'usb', 'flash', 'drive', 'network', 'common', 'configure', 'computer', 'boot', 'one', 'devices', 'available', 'normally', 'none', 'would', 'available', 'user', 'would', 'intentionally', 'insert', 'say', 'cd', 'optical', 'drive', 'boot', 'computer', 'special', 'way', 'example', 'install', 'operating', 'system', 'even', 'without', 'booting', 'computers', 'configured', 'execute', 'software', 'media', 'soon', 'become', 'available', 'e.g', 'autorun', 'cd', 'usb', 'device', 'inserted', 'malicious', 'software', 'distributors', 'would', 'trick', 'user', 'booting', 'running', 'infected', 'device', 'medium', 'example', 'virus', 'could', 'make', 'infected', 'computer', 'add', 'autorunnable', 'code', 'usb', 'stick', 'plugged', 'anyone', 'attached', 'stick', 'another', 'computer', 'set', 'autorun', 'usb', 'would', 'turn', 'become', 'infected', 'also', 'pass', 'infection', 'way.', 'ref', 'name=dodusb', 'cite', 'web|url=http', '//www.cnet.com/uk/news/usb-devices-spreading-viruses/|title=usb', 'devices', 'spreading', 'viruses|publisher=cbs', 'interactive|work=cnet|accessdate=18', 'february', '2015', 'generally', 'device', 'plugs', 'usb', 'port', 'even', 'lights', 'fans', 'speakers', 'toys', 'peripherals', 'digital', 'microscope', 'used', 'spread', 'malware', 'devices', 'infected', 'manufacturing', 'supply', 'quality', 'control', 'inadequate.', 'ref', 'name=dodusb', 'form', 'infection', 'largely', 'avoided', 'setting', 'computers', 'default', 'boot', 'internal', 'hard', 'drive', 'available', 'autorun', 'devices.', 'ref', 'name=dodusb', 'intentional', 'booting', 'another', 'device', 'always', 'possible', 'pressing', 'certain', 'keys', 'boot', 'older', 'email', 'software', 'would', 'automatically', 'open', 'html', 'email', 'containing', 'potentially', 'malicious', 'javascript', 'code', 'users', 'may', 'also', 'execute', 'disguised', 'malicious', 'email', 'attachments', 'infected', 'executable', 'files', 'supplied', 'ways', 'citation', 'needed|date=july', '2013', 'over-privileged', 'users', 'over-privileged', 'code', 'main', 'article|principle', 'least', 'privilege', 'computing', 'privilege', 'computing', '|privilege', 'refers', 'much', 'user', 'program', 'allowed', 'modify', 'system', 'poorly', 'designed', 'computer', 'systems', 'users', 'programs', 'assigned', 'privileges', 'malware', 'take', 'advantage', 'two', 'ways', 'malware', 'overprivileged', 'users', 'overprivileged', 'code', 'systems', 'allow', 'users', 'modify', 'internal', 'structures', 'users', 'today', 'would', 'considered', 'administrative', 'privileges|over-privileged', 'users', 'standard', 'operating', 'procedure', 'early', 'microcomputer', 'home', 'computer', 'systems', 'distinction', \"''administrator\", \"''\", \"''root\", \"''\", 'regular', 'user', 'system', 'systems', 'system', 'administrator|non-administrator', 'users', 'over-privileged', 'design', 'sense', 'allowed', 'modify', 'internal', 'structures', 'system', 'environments', 'users', 'over-privileged', 'inappropriately', 'granted', 'administrator', 'equivalent', 'status', 'systems', 'allow', 'code', 'executed', 'user', 'access', 'rights', 'user', 'known', 'over-privileged', 'code', 'also', 'standard', 'operating', 'procedure', 'early', 'microcomputer', 'home', 'computer', 'systems', 'malware', 'running', 'over-privileged', 'code', 'use', 'privilege', 'subvert', 'system', 'almost', 'currently', 'popular', 'operating', 'systems', 'also', 'many', 'script', 'computing', '|scripting', 'applications', 'allow', 'code', 'many', 'privileges', 'usually', 'sense', 'user', 'executable|executes', 'code', 'system', 'allows', 'code', 'rights', 'user', 'makes', 'users', 'vulnerable', 'malware', 'form', 'e-mail', 'attachments', 'may', 'may', 'disguised', 'use', 'operating', 'system', 'homogeneity', 'vulnerability', 'example', 'computers', 'computer', 'network|network', 'run', 'operating', 'system', 'upon', 'exploiting', 'one', 'one', 'computer', 'worm|worm', 'exploit', 'ref', 'name=', \"''\", 'ukan', \"''\", \"''\", 'lncs', '3786', '–', 'key', 'factors', 'influencing', 'worm', 'infection', \"''\", 'u.', 'kanlayasiri', '2006', 'web', 'pdf', 'http', '//www.springerlink.com/index/3x8582h43ww06440.pdf', 'sl40-pdf', 'particular', 'microsoft', 'windows', 'mac', 'os', 'x', 'large', 'share', 'market', 'exploited', 'vulnerability', 'concentrating', 'either', 'operating', 'system', 'could', 'subvert', 'large', 'number', 'systems', 'introducing', 'diversity', 'purely', 'sake', 'robustness', 'adding', 'linux', 'computers', 'could', 'increase', 'short-term', 'costs', 'training', 'maintenance', 'however', 'long', 'nodes', 'part', 'directory', 'service', 'authentication', 'diverse', 'nodes', 'could', 'deter', 'total', 'shutdown', 'computer', 'network|network', 'allow', 'nodes', 'help', 'recovery', 'infected', 'nodes', 'separate', 'functional', 'redundancy', 'could', 'avoid', 'cost', 'total', 'shutdown', 'cost', 'increased', 'complexity', 'reduced', 'usability', 'terms', 'single', 'sign-on', 'authentication', 'anti-malware', 'strategies', 'main', 'article|antivirus', 'software', 'malware', 'attacks', 'become', 'frequent', 'attention', 'begun', 'shift', 'computer', 'virus|viruses', 'spyware', 'protection', 'malware', 'protection', 'programs', 'specifically', 'developed', 'combat', 'malware', 'preventive', 'recovery', 'measures', 'backup', 'recovery', 'methods', 'mentioned', 'computer', 'virus', 'antivirus', 'software', 'preventive', 'measures|computer', 'virus', 'article', 'anti-virus', 'anti-malware', 'software', 'specific', 'component', 'anti-virus', 'anti-malware', 'software', 'commonly', 'referred', 'on-access', 'real-time', 'scanner', 'hooks', 'deep', 'operating', 'system', \"'s\", 'core', 'operating', 'system', 'kernel|kernel', 'functions', 'manner', 'similar', 'certain', 'malware', 'would', 'attempt', 'operate', 'though', 'user', \"'s\", 'informed', 'permission', 'protecting', 'system', 'time', 'operating', 'system', 'accesses', 'file', 'on-access', 'scanner', 'checks', 'file', \"'legitimate\", 'file', 'file', 'identified', 'malware', 'scanner', 'access', 'operation', 'stopped', 'file', 'dealt', 'scanner', 'pre-defined', 'way', 'anti-virus', 'program', 'configured', 'during/post', 'installation', 'user', 'notified', 'citation', 'needed|date=march', '2013', 'may', 'considerable', 'performance', 'impact', 'operating', 'system', 'though', 'degree', 'impact', 'dependent', 'well', 'scanner', 'programmed', 'goal', 'stop', 'operations', 'malware', 'may', 'attempt', 'system', 'occur', 'including', 'activities', 'might', 'exploit', 'software', 'bug|bugs', 'trigger', 'unexpected', 'operating', 'system', 'behavior', 'anti-malware', 'programs', 'combat', 'malware', 'two', 'ways', 'provide', 'real', 'time', 'protection', 'installation', 'malware', 'software', 'computer', 'type', 'malware', 'protection', 'works', 'way', 'antivirus', 'protection', 'anti-malware', 'software', 'scans', 'incoming', 'computer', 'network|network', 'data', 'malware', 'blocks', 'threat', 'computer', '|threats', 'comes', 'across', 'anti-malware', 'software', 'programs', 'used', 'solely', 'detection', 'removal', 'malware', 'software', 'already', 'installed', 'onto', 'computer', 'type', 'anti-malware', 'software', 'scans', 'contents', 'windows', 'registry', 'operating', 'system', 'files', 'installed', 'programs', 'computer', 'provide', 'list', 'threats', 'found', 'allowing', 'user', 'choose', 'files', 'delete', 'keep', 'compare', 'list', 'list', 'known', 'malware', 'components', 'removing', 'files', 'match.', 'ref', 'cite', 'web|url=https', '//antivirus.comodo.com/how-antivirus-software-works.php', '|title=how', 'antivirus', 'software', 'works', '|accessdate=2015-10-16', 'real-time', 'protection', 'malware', 'works', 'identically', 'real-time', 'antivirus', 'protection', 'software', 'scans', 'disk', 'files', 'download', 'time', 'blocks', 'activity', 'components', 'known', 'represent', 'malware', 'cases', 'may', 'also', 'intercept', 'attempts', 'install', 'start-up', 'items', 'modify', 'browser', 'settings', 'many', 'malware', 'components', 'installed', 'result', 'browser', 'exploits', 'user', 'error', 'using', 'security', 'software', 'anti-malware', 'though', 'many', '``', 'sandbox', \"''\", 'browsers', 'essentially', 'isolate', 'browser', 'computer', 'hence', 'malware', 'induced', 'change', 'also', 'effective', 'helping', 'restrict', 'damage', 'done', 'citation', 'needed|date=march', '2013', 'examples', 'microsoft', 'windows', 'anti-virus|antivirus', 'anti-malware', 'software', 'include', 'optional', 'microsoft', 'security', 'essentials', 'ref', 'cite', 'web', 'title=microsoft', 'security', 'essentials', 'url=http', '//windows.microsoft.com/en-us/windows/products/security-essentials', 'publisher=microsoft', '|accessdate=21', 'june', '2012', 'windows', 'xp', 'vista', 'windows', '7', 'real-time', 'protection', 'windows', 'malicious', 'software', 'removal', 'tool', 'ref', 'cite', 'web', 'title=malicious', 'software', 'removal', 'tool', 'url=http', '//www.microsoft.com/security/pc-security/malware-removal.aspx', '|publisher=microsoft', '|accessdate=21', 'june', '2012', 'included', 'windows', 'update|windows', 'security', 'updates', '``', 'patch', 'tuesday', \"''\", 'second', 'tuesday', 'month', 'windows', 'defender', 'optional', 'download', 'case', 'windows', 'xp', 'incorporating', 'mse', 'functionality', 'case', 'windows', '8', 'later', 'ref', 'cite', 'web', 'title=windows', 'defender', 'url=http', '//www.microsoft.com/en-us/download/details.aspx', 'id=17', '|publisher=microsoft', '|accessdate=21', 'june', '2012', 'additionally', 'several', 'capable', 'antivirus', 'software', 'programs', 'available', 'free', 'download', 'internet', 'usually', 'restricted', 'non-commercial', 'use', 'ref', 'name=', \"''\", 'pcmag', \"''\", 'cite', 'web|last=rubenking|first=neil', 'j.|title=the', 'best', 'free', 'antivirus', '2014|publisher=pcmag.com|date=8', 'january', '2014|url=http', '//www.pcmag.com/article2/0,2817,2388652,00.asp', 'tests', 'found', 'free', 'programs', 'competitive', 'commercial', 'ones.', 'ref', 'name=', \"''\", 'pcmag', \"''\", 'microsoft', \"'s\", 'system', 'file', 'checker', 'used', 'check', 'repair', 'corrupted', 'system', 'files', 'viruses', 'disable', 'system', 'restore', 'important', 'windows', 'tools', 'task', 'manager', 'command', 'prompt', 'windows', '|command', 'prompt', 'many', 'viruses', 'removed', 'booting|rebooting', 'computer', 'entering', 'windows', 'safe', 'mode', 'networking', 'ref', 'cite', 'web|title=how', 'remove', 'computer', 'virus', 'url=http', '//windows.microsoft.com/en-us/windows7/how-do-i-remove-a-computer-virus', '|publisher=microsoft', '|accessdate=26', 'august', '2013', 'using', 'system', 'tools', 'microsoft', 'safety', 'scanner.', 'ref', 'cite', 'web|', 'title=microsoft', 'safety', 'scanner|', 'url=http', '//www.microsoft.com/security/scanner/en-us/default.aspx', '|publisher=microsoft', '|accessdate=26', 'august', '2013', 'hardware', 'nsa', 'ant', 'catalog|implants', 'type', 'general', 'way', 'detect', 'website', 'security', 'scans', 'malware', 'also', 'harms', 'compromised', 'websites', 'breaking', 'reputation', 'blacklisting', 'search', 'engines', 'etc', 'websites', 'offer', 'vulnerability', 'scanning.', 'ref', 'cite', 'web', '|url=http', '//www.unmaskparasites.com/', '|title=an', 'example', 'website', 'vulnerability', 'scanner', '|publisher=unmaskparasites.com', '|date=', '|accessdate=19', 'january', '2013', 'ref', 'cite', 'web|url=http', '//aw-snap.info/file-viewer/', '|title=redleg', \"'s\", 'file', 'viewer', 'used', 'check', 'webpage', 'malicious', 'redirects', 'malicious', 'html', 'coding', '|publisher=aw-snap.info', '|date=', '|accessdate=19', 'january', '2013', 'ref', 'cite', 'web|url=http', '//www.google.com/safebrowsing/diagnostic', 'site=http', '//google.com/', '|title=example', 'google.com', 'safe', 'browsing', 'diagnostic', 'page', '|publisher=google.com', '|date=', '|accessdate=19', 'january', '2013', 'ref', 'name=google', 'cite', 'web', 'title=', 'safe', 'browsing', 'google', 'online', 'security', 'blog', 'url=http', '//googleonlinesecurity.blogspot.jp/2012/06/safe-browsing-protecting-web-users-for.html', '|accessdate=21', 'june', '2012', 'scans', 'check', 'website', 'detect', 'malware', 'may', 'note', 'outdated', 'software', 'may', 'report', 'known', 'security', 'issues', '``', 'air', 'gap', \"''\", 'isolation', '``', 'parallel', 'network', \"''\", 'last', 'resort', 'computers', 'protected', 'malware', 'infected', 'computers', 'prevented', 'disseminating', 'trusted', 'information', 'imposing', 'air', 'gap', 'networking', \"''\", 'air', 'gap', \"''\", 'i.e', 'completely', 'disconnecting', 'networks', 'however', 'malware', 'still', 'cross', 'air', 'gap', 'situations', 'example', 'removable', 'media', 'carry', 'malware', 'across', 'gap', 'december', '2013', 'researchers', 'germany', 'showed', 'one', 'way', 'apparent', 'air', 'gap', 'air', 'gap', 'malware|can', 'defeated.', 'ref', 'cite', 'journal|title=on', 'covert', 'acoustical', 'mesh', 'networks', 'air|first1=michael|last1=hanspach|first2=michael|last2=goetz|date=november', '2013|journal=journal', 'communications|doi=10.12720/jcm.8.11.758-767', '``', 'airhopper', \"''\", 'ref', 'guri', 'g.', 'kedma', 'a.', 'kachlon', 'y.', 'elovici', '``', 'airhopper', 'bridging', 'air-gap', 'isolated', 'networks', 'mobile', 'phones', 'using', 'radio', 'frequencies', \"''\", \"''malicious\", 'unwanted', 'software', 'americas', 'malware', '2014', '9th', 'international', 'conference', \"''\", 'fajardo', 'pr', '2014', 'pp', '58-67', '``', 'bitwhisper', \"''\", 'ref', 'guri', 'm.', 'monitz', 'y.', 'mirski', 'y.', 'elovici', '``', 'bitwhisper', 'covert', 'signaling', 'channel', 'air-gapped', 'computers', 'using', 'thermal', 'manipulations', \"''\", \"''2015\", 'ieee', '28th', 'computer', 'security', 'foundations', 'symposium', \"''\", 'verona', '2015', 'pp', '276-289', '``', 'gsmem', \"''\", 'ref', 'gsmem', 'data', 'exfiltration', 'air-gapped', 'computers', 'gsm', 'frequencies', 'mordechai', 'guri', 'assaf', 'kachlon', 'ofer', 'hasson', 'gabi', 'kedma', 'yisroel', 'mirsky', 'yuval', 'elovici', \"''ben-gurion\", 'university', 'negev', 'usenix', 'security', 'symposium', '2015', \"''\", '``', 'fansmitter', \"''\", 'ref', 'https', '//arxiv.org/ftp/arxiv/papers/1606/1606.05915.pdf', 'four', 'techniques', 'introduced', 'researchers', 'leak', 'data', 'air-gapped', 'computers', 'using', 'electromagnetic', 'thermal', 'acoustic', 'emissions', 'grayware', 'see', 'also|privacy-invasive', 'software|potentially', 'unwanted', 'program', 'grayware', 'term', 'applied', 'unwanted', 'applications', 'files', 'classified', 'malware', 'worsen', 'performance', 'computers', 'may', 'cause', 'security', 'risks.', 'ref', 'name=autogenerated1', 'cite', 'news', '|url=http', '//www.spywareloop.com/news/grayware|title=grayware', 'spywareloop.com|author=', 'vincentas', '|newspaper=', \"''\", 'spyware', 'loop', \"''\", '|date=11', 'july', '2013', '|accessdate=28', 'july', '2013', 'describes', 'applications', 'behave', 'annoying', 'undesirable', 'manner', 'yet', 'less', 'serious', 'troublesome', 'malware', 'grayware', 'encompasses', 'spyware', 'adware', 'dialer', 'fraudulent', 'dialer|fraudulent', 'dialers', 'joke', 'programs', 'remote', 'desktop', 'software|remote', 'access', 'tools', 'unwanted', 'programs', 'harm', 'performance', 'computers', 'cause', 'inconvenience', 'term', 'came', 'use', 'around', '2004.', 'ref', 'cite', 'web|title=threat', 'encyclopedia', '–', 'generic', 'grayware|url=http', '//about-threats.trendmicro.com/us/archive/grayware/generic_grayware|publisher=trend', 'micro|accessdate=27', 'november', '2012', 'another', 'term', 'potentially', 'unwanted', 'program', 'pup', 'potentially', 'unwanted', 'application', 'pua', 'ref', 'cite', 'web|title=rating', 'best', 'anti-malware', 'solutions|url=http', '//arstechnica.com/security/2009/12/av-comparatives-picks-eight-antipua-winners/|publisher=arstechnica|accessdate=28', 'january', '2014', 'refers', 'applications', 'would', 'considered', 'unwanted', 'despite', 'often', 'downloaded', 'user', 'possibly', 'failing', 'read', 'download', 'agreement', 'pups', 'include', 'spyware', 'adware', 'fraudulent', 'dialers', 'many', 'security', 'products', 'classify', 'unauthorised', 'key', 'generators', 'grayware', 'although', 'frequently', 'carry', 'true', 'malware', 'addition', 'ostensible', 'purpose', 'software', 'maker', 'malwarebytes', 'lists', 'several', 'criteria', 'classifying', 'program', 'pup.', 'ref', 'name=', \"''\", 'pup', 'criteria', \"''\", 'cite', 'web|title=pup', 'criteria', '|url=https', '//www.malwarebytes.org/pup/|publisher=malwarebytes.org|accessdate=13', 'february', '2015', 'adware', 'using', 'stolen', 'certificates', 'disables', 'anti-malware', 'virus', 'protection', 'technical', 'remedies', 'available.', 'ref', 'name=', \"''\", 'casey', \"''\", 'history', 'viruses', 'worms', 'internet', 'access', 'became', 'widespread', 'viruses', 'spread', 'personal', 'computers', 'infecting', 'executable', 'boot', 'sectors', 'floppy', 'disks', 'inserting', 'copy', 'machine', 'code', 'instructions', 'executables', 'virus', 'causes', 'run', 'whenever', 'program', 'run', 'disk', 'booted', 'early', 'computer', 'viruses', 'written', 'apple', 'ii', 'apple', 'macintosh|macintosh', 'became', 'widespread', 'dominance', 'ibm', 'pc', 'ms-dos', 'system', 'executable-infecting', 'viruses', 'dependent', 'users', 'exchanging', 'software', 'boot-able', 'floppies', 'thumb', 'drives', 'spread', 'rapidly', 'computer', 'hobbyist', 'circles', 'citation', 'needed|date=march', '2013', 'first', 'worms', 'computer', 'network|network-borne', 'infectious', 'programs', 'originated', 'personal', 'computers', 'multitasking', 'unix', 'systems', 'first', 'well-known', 'worm', 'morris', 'worm|internet', 'worm', '1988', 'infected', 'sunos', 'vax', 'bsd', 'systems', 'unlike', 'virus', 'worm', 'insert', 'programs', 'instead', 'exploited', 'security', 'holes', 'vulnerability', 'computing', '|vulnerabilities', 'network', 'server', 'computing', '|server', 'programs', 'started', 'running', 'separate', 'process', 'computing', '|process.', 'ref', 'cite', 'web', '|url=https', '//antivirus.comodo.com/blog/computer-safety/short-history-computer-viruses/', '|title=', 'computer', 'virus', 'history', '|author=', 'william', 'hendric', '|date=', '4', 'september', '2014', '|work=', 'register|accessdate=29', 'march', '2015', 'behavior', 'used', 'today', \"'s\", 'worms', 'well', 'citation', 'needed|date=march', '2013', 'ref', 'cite', 'web|url=https', '//www.easytechguides.com/malware.html', 'worm|title=malware', 'types', 'protection', 'prevention', 'detection', 'removal', 'ultimate', 'guide|last=|first=|date=|website=easytechguides|archive-url=|archive-date=|dead-url=|access-date=', 'rise', 'microsoft', 'windows', 'platform', '1990s', 'flexible', 'macro', 'computer', 'science', '|macros', 'applications', 'became', 'possible', 'write', 'infectious', 'code', 'macro', 'language', 'microsoft', 'office', 'word|microsoft', 'word', 'similar', 'programs', \"''macro\", 'virus', 'computing', '|macro', 'viruses', \"''\", 'infect', 'documents', 'templates', 'rather', 'applications', 'executables', 'rely', 'fact', 'macros', 'word', 'document', 'form', 'executable', 'code', 'citation', 'needed', '|date=march', '2013', 'academic', 'research', 'main', 'article|malware', 'research', 'notion', 'self-reproducing', 'computer', 'program', 'traced', 'back', 'initial', 'theories', 'operation', 'complex', 'automata.', 'ref', 'john', 'von', 'neumann', '``', 'theory', 'self-reproducing', 'automata', \"''\", 'part', '1', 'transcripts', 'lectures', 'given', 'university', 'illinois', 'december', '1949', 'editor', 'a.', 'w.', 'burks', 'university', 'illinois', 'usa', '1966.', 'john', 'von', 'neumann', 'showed', 'theory', 'program', 'could', 'reproduce', 'constituted', 'plausibility', 'result', 'computability', 'theory', 'computer', 'science', '|computability', 'theory', 'fred', 'cohen', 'experimented', 'computer', 'viruses', 'confirmed', 'neumann', \"'s\", 'postulate', 'investigated', 'properties', 'malware', 'detectability', 'self-obfuscation', 'using', 'rudimentary', 'encryption', 'doctoral', 'dissertation', 'subject', 'computer', 'viruses.', 'ref', 'fred', 'cohen', '``', 'computer', 'viruses', \"''\", 'phd', 'thesis', 'university', 'southern', 'california', 'asp', 'press', '1988.', 'combination', 'cryptographic', 'technology', 'part', 'payload', 'virus', 'exploiting', 'attack', 'purposes', 'initialized', 'investigated', 'mid', '1990s', 'includes', 'initial', 'ransomware', 'evasion', 'ideas.', 'ref', 'cite', 'book', '|title=', 'malicious', 'cryptography', 'exposing', 'cryptovirology|', 'last1=', 'young', '|first1=', 'adam|last2=', 'yung|first2=', 'moti|date=2004|publisher=', 'wiley|pages', '1–392|', 'isbn', '978-0-7645-4975-5', 'see', 'also', 'columns-list|colwidth=20em|', 'browser', 'hijacking', 'command', 'control', 'malware', 'comparison', 'antivirus', 'software', 'computer', 'security', 'cyber', 'spying', 'file', 'binder', 'identity', 'theft', 'industrial', 'espionage', 'linux', 'malware', 'malvertising', 'phishing', 'riskware', 'web', 'application', 'development|security', 'web', 'apps', 'social', 'engineering', 'security', 'targeted', 'threat', 'typosquatting', 'category', 'web', 'security', 'exploits', 'web', 'server', 'overload', 'causes|web', 'server', 'overload', 'causes', 'zombie', 'computer', 'science', 'references', 'reflist|30em', 'external', 'links', 'wiktionary|malware', 'commons', 'category', 'dmoz|computers/security/malicious_software|malicious', 'software', 'http', '//www.idmarch.org/document/malware', 'reading', 'research', 'papers', 'documents', 'malware', 'idmarch', 'int', 'digital', 'media', 'archive', 'http', '//technet.microsoft.com/en-us/sysinternals/video/gg618529', 'advanced', 'malware', 'cleaning', '–', 'microsoft', 'video', 'malware', 'software', 'distribution', 'portal', 'bar|information', 'technology|internet|computer', 'security', 'authority', 'control', 'category', 'malware|', 'category', 'computer', 'security', 'exploits'], [\"''\", 'reverse', 'engineering', \"''\", 'also', 'called', \"''\", 'back', 'engineering', \"''\", 'process', 'engineering', '|processes', 'extracting', 'knowledge', 'design', 'information', 'anything', 'man-made', 're-producing', 're-producing', 'anything', 'based', 'extracted', 'information.', 'ref', 'name=', \"''\", 'eilam', \"''\", 'cite', 'book|authors=eilam', 'eldad', '|title=reversing', 'secrets', 'reverse', 'engineering|publisher=john', 'wiley', 'sons|year=2005|isbn=978-0-7645-7481-8', 'rp|3', 'process', 'often', 'involves', 'disassembling', 'something', 'machine|mechanical', 'device', 'electronic', 'component', 'computer', 'program', 'biological', 'chemical', 'organic', 'matter', 'analyzing', 'components', 'workings', 'detail', 'reasons', 'goals', 'obtaining', 'information', 'vary', 'widely', 'everyday', 'socially', 'beneficial', 'actions', 'criminal', 'actions', 'depending', 'upon', 'situation', 'often', 'intellectual', 'property', 'rights', 'breached', 'person', 'business', 'recollect', 'something', 'done', 'something', 'needs', 'reverse', 'engineer', 'work', 'reverse', 'engineering', 'also', 'beneficial', 'crime', 'prevention', 'suspected', 'malware', 'reverse', 'engineered', 'understand', 'anti-virus|how', 'detect', 'remove', 'allow', 'computers', 'devices', 'work', 'together', '``', 'interoperate', \"''\", 'allow', 'saved', 'files', 'obsolete', 'systems', 'used', 'newer', 'systems', 'contrast', 'reverse', 'engineering', 'also', 'used', 'software', 'cracking|', \"''\", 'crack', \"''\", 'software', 'media', 'remove', 'copy', 'protection', 'ref', 'name=', \"''\", 'eilam', \"''\", 'rp|5', 'create', 'possibly', 'improved', 'copying|copy', 'even', 'knockoff', 'usually', 'goal', 'competitor.', 'ref', 'name=', \"''\", 'eilam', \"''\", 'rp|4', 'reverse', 'engineering', 'origins', 'analysis', 'hardware', 'commercial', 'military', 'advantage.', 'ref', 'name=', \"''\", 'chikofsky', \"''\", 'cite', 'journal', '|doi=10.1109/52.43044', '|first=e', 'j', '|last=chikofsky', '|lastauthoramp=yes', '|first2=j', 'h.', 'ii', '|last2=cross', '|title=reverse', 'engineering', 'design', 'recovery', 'taxonomy', '|journal=ieee', 'software', '|volume=7', '|issue=1', '|pages=13–17', '|year=1990', 'rp|13', 'however', 'reverse', 'engineering', 'process', 'concerned', 'creating', 'copy', 'changing', 'artifact', 'way', 'analysis', 'order', 'deductive', 'reasoning|deduce', 'design', 'features', 'products', 'little', 'additional', 'knowledge', 'procedures', 'involved', 'original', 'production.', 'ref', 'name=', \"''\", 'chikofsky', \"''\", 'rp|15', 'cases', 'goal', 'reverse', 'engineering', 'process', 'simply', 'documentation|redocumentation', 'legacy', 'systems.', 'ref', 'name=', \"''\", 'chikofsky', \"''\", 'rp|15', 'ref', 'name=', \"''\", 'nelson96', \"''\", 'survey', 'reverse', 'engineering', 'program', 'comprehension', 'michael', 'l.', 'nelson', 'april', '19', '1996', 'odu', 'cs', '551', 'nbsp', '–', 'software', 'engineering', 'survey', 'arxiv|cs/0503068v1', 'even', 'product', 'reverse', 'engineered', 'competitor', 'goal', 'may', 'copy', 'perform', 'competitor', 'analysis.', 'ref', 'name=', \"''\", 'rajafernandes2007', \"''\", 'cite', 'book|author1=vinesh', 'raja|author2=kiran', 'j.', 'fernandes|title=reverse', 'engineering', 'industrial', 'perspective|year=2007|publisher=springer', 'science', 'business', 'media|isbn=978-1-84628-856-2|page=3', 'reverse', 'engineering', 'may', 'also', 'used', 'create', 'interoperability|interoperable', 'products', 'despite', 'narrowly', 'tailored', 'us', 'eu', 'legislation', 'legality', 'using', 'specific', 'reverse', 'engineering', 'techniques', 'purpose', 'hotly', 'contested', 'courts', 'worldwide', 'two', 'decades.', 'ref', 'name=', \"''\", 'bandkatoh2011', \"''\", 'cite', 'book|author1=jonathan', 'band|author2=masanobu', 'katoh|title=interfaces', 'trial', '2.0|year=2011|publisher=mit', 'press|isbn=978-0-262-29446-1|page=136', 'motivation', 'refimprove', 'section|date=july', '2014', 'reasons', 'reverse', 'engineering', \"''\", 'interfacing', \"''\", 'reverse', 'engineering', 'used', 'system', 'required', 'interface', 'another', 'system', 'systems', 'would', 'negotiate', 'established', 'requirements', 'typically', 'exist', 'interoperability', \"''\", 'military', 'commercial', 'espionage', \"''\", 'learning', 'enemy', \"'s\", 'competitor', \"'s\", 'latest', 'research', 'stealing', 'capturing', 'prototype', 'dismantling', 'may', 'result', 'development', 'similar', 'product', 'better', 'countermeasures', \"''\", 'improve', 'documentation', 'shortcomings', \"''\", 'reverse', 'engineering', 'done', 'documentation', 'system', 'design', 'production', 'operation', 'maintenance', 'shortcomings', 'original', 'designers', 'available', 'improve', 'reverse', 'engineering', 'software', 'provide', 'current', 'documentation', 'necessary', 'understanding', 'current', 'state', 'software', 'system', \"''\", 'obsolescence', \"''\", 'integrated', 'circuits', 'often', 'designed', 'proprietary', 'systems', 'built', 'production', 'lines', 'become', 'obsolete', 'years', 'systems', 'using', 'parts', 'longer', 'maintained', 'since', 'parts', 'longer', 'made', 'way', 'incorporate', 'functionality', 'new', 'technology', 'reverse-engineer', 'existing', 'chip', 'remake', 'computing', '|re-design', 'using', 'newer', 'tools', 'using', 'understanding', 'gained', 'guide', 'another', 'obsolescence', 'originated', 'problem', 'solved', 'reverse', 'engineering', 'need', 'support', 'maintenance', 'supply', 'continuous', 'operation', 'existing', 'legacy', 'devices', 'longer', 'supported', 'original', 'equipment', 'manufacturer', 'oem', 'problem', 'particularly', 'critical', 'military', 'operations', \"''\", 'software', 'modernization', \"''\", 'often', 'knowledge', 'lost', 'time', 'prevent', 'updates', 'improvements', 'reverse', 'engineering', 'generally', 'needed', 'order', 'understand', \"'as\", 'state', 'existing', 'legacy', 'software', 'order', 'properly', 'estimate', 'effort', 'required', 'migrate', 'system', 'knowledge', \"'to\", 'state', 'much', 'may', 'driven', 'changing', 'functional', 'compliance', 'security', 'requirements', \"''\", 'product', 'security', 'analysis', \"''\", 'examine', 'product', 'works', 'specifications', 'components', 'estimate', 'costs', 'identify', 'potential', 'patent', 'infringement', 'acquiring', 'sensitive', 'data', 'disassembling', 'analysing', 'design', 'system', 'component.', 'ref', 'name=rfc2828', 'internet', 'engineering', 'task', 'force', 'rfc', '2828', 'internet', 'security', 'glossary', 'another', 'intent', 'may', 'remove', 'copy', 'protection', 'circumvention', 'access', 'restrictions', \"''\", 'bug', 'fixing', \"''\", 'unofficial', 'patch|fix', 'sometimes', 'enhance', 'legacy', 'software', 'longer', 'supported', 'creators', 'e.g', 'abandonware', \"''\", 'creation', 'unlicensed/unapproved', 'duplicates', \"''\", 'duplicates', 'sometimes', 'called', 'clone', 'computing', '|clones', 'computing', 'domain', \"''\", 'academic/learning', 'purposes', \"''\", 'reverse', 'engineering', 'learning', 'purposes', 'may', 'understand', 'key', 'issues', 'unsuccessful', 'design', 'subsequently', 'improve', 'design', \"''\", 'competitive', 'technical', 'intelligence', \"''\", 'understand', 'one', \"'s\", 'competitor', 'actually', 'versus', 'say', \"''\", 'saving', 'money', \"''\", 'one', 'finds', 'piece', 'electronics', 'capable', 'spare', 'user', 'purchase', 'separate', 'product', \"''\", 'repurposing', \"''\", 'opportunities', 'repurpose', 'stuff', 'otherwise', 'obsolete', 'incorporated', 'bigger', 'body', 'utility', 'common', 'situations', '=reverse', 'engineering', 'machines=', 'computer-aided', 'design', 'cad', 'become', 'popular', 'reverse', 'engineering', 'become', 'viable', 'method', 'create', '3d', 'virtual', 'model', 'existing', 'physical', 'part', 'use', '3d', 'cad', 'computer-aided', 'manufacturing|cam', 'computer-aided', 'engineering|cae', 'software', 'cite', 'journal|doi=10.1016/s0010-4485', '96', '00054-1|url=http', '//ralph.cs.cf.ac.uk/papers/geometry/re.pdf|title=reverse', 'engineering', 'geometric', 'models–an', 'introduction|year=1997|last1=varady|first1=t|last2=martin|first2=r|last3=cox|first3=j|journal=computer-aided', 'design|volume=29|issue=4|pages=255–268', 'reverse-engineering', 'process', 'involves', 'measuring', 'object', 'reconstructing', '3d', 'model', 'physical', 'object', 'measured', 'using', '3d', 'scanner|3d', 'scanning', 'technologies', 'like', 'coordinate-measuring', 'machine|cmms', '3d', 'scanner', 'triangulation|laser', 'scanners', '3d', 'scanner', 'structured', 'light|structured', 'light', 'digitizers', 'industrial', 'ct', 'scanning', 'computed', 'tomography', 'measured', 'data', 'alone', 'usually', 'represented', 'point', 'cloud', 'lacks', 'topological', 'information', 'therefore', 'often', 'processed', 'modeled', 'usable', 'format', 'triangular-faced', 'mesh', 'set', 'nonuniform', 'rational', 'b-spline|nurbs', 'surfaces', 'computer', 'assisted', 'design|cad', 'model', 'cite', 'web|url', 'http', '//haman-co.com|title', 'haman', 'engineering', 'solutions|date', '|accessdate', '|website', '|publisher', '|last', '|first', 'hybrid', 'modelling', 'commonly', 'used', 'term', 'nurbs', 'solid', 'modeling|parametric', 'modelling', 'implemented', 'together', 'using', 'combination', 'geometric', 'freeform', 'surfaces', 'provide', 'powerful', 'method', '3d', 'modelling', 'areas', 'freeform', 'data', 'combined', 'exact', 'geometric', 'surfaces', 'create', 'hybrid', 'model', 'typical', 'example', 'would', 'reverse', 'engineering', 'cylinder', 'head', 'includes', 'freeform', 'cast', 'features', 'water', 'jackets', 'high', 'tolerance', 'machined', 'areas', 'cite', 'web|url=http', '//www.physicaldigital.com/services/reverse-engineering/|title=reverse', 'engineering|last=|first=|date=|website=|publisher=|access-date=', 'reverse', 'engineering', 'also', 'used', 'businesses', 'bring', 'existing', 'physical', 'geometry', 'digital', 'product', 'development', 'environments', 'make', 'digital', '3d', 'record', 'products', 'assess', 'competitors', 'products', 'used', 'analyse', 'instance', 'product', 'works', 'components', 'consists', 'estimate', 'costs', 'identify', 'potential', 'patent', 'infringement', 'etc', 'value', 'engineering', 'related', 'activity', 'also', 'used', 'businesses', 'involves', 'de-constructing', 'analysing', 'products', 'objective', 'find', 'opportunities', 'cost', 'cutting', '=reverse', 'engineering', 'software=', 'term', \"''reverse\", 'engineering', \"''\", 'applied', 'software', 'means', 'different', 'things', 'different', 'people', 'prompting', 'chikofsky', 'cross', 'write', 'paper', 'researching', 'various', 'uses', 'defining', 'taxonomy', 'general', '|taxonomy', 'paper', 'state', '``', 'reverse', 'engineering', 'process', 'analyzing', 'subject', 'system', 'create', 'representations', 'system', 'higher', 'level', 'abstraction', '``', 'cite', 'journal', 'last1', 'chikofsky', 'first1', 'e.', 'j', 'last2', 'cross', 'first2', 'j.', 'h.', 'doi', '10.1109/52.43044', 'title', 'reverse', 'engineering', 'design', 'recovery', 'taxonomy', 'journal', 'ieee', 'software', 'volume', '7', 'pages', '13–17', '|date=january', '1990', 'url', 'http', '//win.ua.ac.be/~lore/research/chikofsky1990-taxonomy.pdf', 'also', 'seen', '``', 'going', 'backwards', 'development', 'cycle', \"''\", 'cite', 'book', 'last=warden', 'first=r', 'title=software', 'reuse', 'reverse', 'engineering', 'practice', 'year=1992', 'publisher=chapman', 'hall', 'location=london', 'england', 'pages=283–305', 'model', 'output', 'implementation', 'phase', 'source', 'code', 'form', 'reverse-engineered', 'back', 'analysis', 'phase', 'inversion', 'traditional', 'waterfall', 'model', 'another', 'term', 'technique', 'program', 'comprehension.', 'ref', 'name=', \"''\", 'nelson96', \"''\", 'reverse', 'engineering', 'process', 'examination', 'software', 'system', 'consideration', 'modified', 'would', 'make', 'reengineering', 'software', '|re-engineering', 'software', 'anti-tamper', 'technology', 'like', 'obfuscation', 'software', '|obfuscation', 'used', 'deter', 'reverse', 'engineering', 're-engineering', 'proprietary', 'software', 'software-powered', 'systems', 'practice', 'two', 'main', 'types', 'reverse', 'engineering', 'emerge', 'first', 'case', 'source', 'code', 'already', 'available', 'software', 'higher-level', 'aspects', 'program', 'perhaps', 'poorly', 'documented', 'documented', 'longer', 'valid', 'discovered', 'second', 'case', 'source', 'code', 'available', 'software', 'efforts', 'towards', 'discovering', 'one', 'possible', 'source', 'code', 'software', 'regarded', 'reverse', 'engineering', 'second', 'usage', 'term', 'one', 'people', 'familiar', 'reverse', 'engineering', 'software', 'make', 'use', 'clean', 'room', 'design', 'technique', 'avoid', 'copyright', 'infringement', 'related', 'note', 'black', 'box', 'testing', 'software', 'engineering', 'lot', 'common', 'reverse', 'engineering', 'tester', 'usually', 'application', 'programming', 'interface|api', 'goals', 'find', 'bugs', 'undocumented', 'features', 'bashing', 'product', 'outside', 'cite', 'book', 'url=http', '//www.amazon.co.uk/dp/3659140732', 'title=reverse', 'engineering', 'testing', 'black-box', 'software', 'components', 'grammatical', 'inference', 'techniques', 'publisher=lap', 'lambert', 'academic', 'publishing', 'author=shahbaz', 'muzammil', 'year=2012', 'isbn=978-3659140730', 'purposes', 'reverse', 'engineering', 'include', 'security', 'auditing', 'removal', 'copy', 'protection', '``', 'software', 'cracking|cracking', \"''\", 'circumvention', 'access', 'restrictions', 'often', 'present', 'consumer', 'electronics', 'customization', 'embedded', 'systems', 'engine', 'management', 'systems', 'in-house', 'repairs', 'retrofits', 'enabling', 'additional', 'features', 'low-cost', '``', 'crippled', \"''\", 'hardware', 'graphics', 'card', 'chip-sets', 'even', 'mere', 'satisfaction', 'curiosity', 'binary', 'software', 'process', 'sometimes', 'termed', \"''reverse\", 'code', 'engineering', \"''\", 'rce', 'cite', 'book', 'last=chuvakin', 'first=anton', '|author2=cyrus', 'peikari', 'edition=1st', 'title=security', 'warrior', \"publisher=o'reilly\", '|date=january', '2004', 'example', 'decompilation', 'binaries', 'java', 'platform', 'accomplished', 'using', 'jad', 'one', 'famous', 'case', 'reverse', 'engineering', 'first', 'non-international', 'business', 'machines|ibm', 'implementation', 'ibm', 'pc|pc', 'bios', 'launched', 'historic', 'ibm', 'pc', 'compatible', 'industry', 'overwhelmingly', 'dominant', 'computer', 'hardware', 'platform', 'many', 'years', 'reverse', 'engineering', 'software', 'protected', 'u.s.', 'fair', 'use', 'exception', 'copyright|copyright', 'law', 'cite', 'journal', '|doi=10.2307/797533', '|authorlink=pamela', 'samuelson', '|first=pamela', '|last=samuelson', '|lastauthoramp=yes', '|first2=suzanne', '|last2=scotchmer', '|title=the', 'law', 'economics', 'reverse', 'engineering', '|volume=111', '|journal=yale', 'law', 'journal', '|issue=', '7|pages=1575–1663', '|year=2002', '|url=http', '//www.yalelawjournal.org/the-yale-law-journal/content-pages/the-law-and-economics-of-reverse-engineering/|jstor=797533', 'samba', 'software', 'allows', 'systems', 'running', 'microsoft', 'windows', 'systems', 'share', 'files', 'systems', 'classic', 'example', 'software', 'reverse', 'engineering', 'cite', 'web', 'title=samba', 'introduction', 'url=http', '//www.samba.org/samba/docs/sambaintro.html', 'date=2001-11-27', 'accessdate=2009-05-07', 'since', 'samba', 'project', 'reverse-engineer', 'unpublished', 'information', 'windows', 'file', 'sharing', 'worked', 'non-windows', 'computers', 'could', 'emulate', 'wine', 'software', '|wine', 'project', 'thing', 'windows', 'api', 'openoffice.org', 'one', 'party', 'microsoft', 'office', 'file', 'formats', 'reactos', 'project', 'even', 'ambitious', 'goals', 'strives', 'provide', 'binary', 'abi', 'api', 'compatibility', 'current', 'windows', 'oses', 'nt', 'branch', 'allowing', 'software', 'drivers', 'written', 'windows', 'run', 'clean-room', 'reverse-engineered', 'free', 'software', 'gpl', 'counterpart', 'windowsscope', 'allows', 'reverse-engineering', 'full', 'contents', 'windows', 'system', \"'s\", 'live', 'memory', 'including', 'binary-level', 'graphical', 'reverse', 'engineering', 'running', 'processes', 'another', 'classic', 'well-known', 'example', '1987', 'bell', 'laboratories', 'reverse-engineered', 'mac', 'os', 'system', '4.1', 'originally', 'running', 'apple', 'macintosh', 'se', 'could', 'run', 'risc', 'machines', 'own.', 'ref', 'name=', \"''\", 'lee2013', \"''\", 'cite', 'book|first=newton|last=lee|title=counterterrorism', 'cybersecurity', 'total', 'information', 'awareness', '2nd', 'edition', '|url=http', '//www.amazon.com/counterterrorism-cybersecurity-total-information-awareness/dp/1461472040/|publisher=springer', 'science+business', 'media|date=2013|page=110', '=binary', 'software', 'techniques=', 'reverse', 'engineering', 'software', 'accomplished', 'various', 'methods', 'three', 'main', 'groups', 'software', 'reverse', 'engineering', 'analysis', 'observation', 'information', 'exchange', 'prevalent', 'protocol', 'reverse', 'engineering', 'involves', 'using', 'bus', 'analyzers', 'packet', 'sniffers', 'example', 'accessing', 'computer', 'bus', 'computer', 'network', 'connection', 'revealing', 'traffic', 'data', 'thereon', 'bus', 'network', 'behavior', 'analyzed', 'produce', 'stand-alone', 'implementation', 'mimics', 'behavior', 'especially', 'useful', 'reverse', 'engineering', 'device', 'drivers', 'sometimes', 'reverse', 'engineering', 'embedded', 'systems', 'greatly', 'assisted', 'tools', 'deliberately', 'introduced', 'manufacturer', 'jtag', 'ports', 'debugging', 'means', 'microsoft', 'windows', 'low-level', 'debuggers', 'softice', 'popular', 'disassembly', 'using', 'disassembler', 'meaning', 'raw', 'machine', 'language', 'program', 'read', 'understood', 'terms', 'aid', 'machine-language', 'mnemonics', 'works', 'computer', 'program', 'take', 'quite', 'time', 'especially', 'someone', 'used', 'machine', 'code', 'interactive', 'disassembler', 'particularly', 'popular', 'tool', 'decompilation', 'using', 'decompiler', 'process', 'tries', 'varying', 'results', 'recreate', 'source', 'code', 'high-level', 'language', 'program', 'available', 'machine', 'code', 'bytecode', 'software', 'classification', 'software', 'classification', 'process', 'identifying', 'similarities', 'different', 'software', 'binaries', 'example', 'two', 'different', 'versions', 'binary', 'used', 'detect', 'code', 'relations', 'software', 'samples', 'task', 'traditionally', 'done', 'manually', 'several', 'reasons', 'patch', 'analysis', 'vulnerability', 'detection', 'copyright', 'infringement', 'nowadays', 'done', 'somewhat', 'automatically', 'large', 'numbers', 'samples', 'method', 'used', 'mostly', 'long', 'thorough', 'reverse', 'engineering', 'tasks', 'complete', 'analysis', 'complex', 'algorithm', 'big', 'piece', 'software', 'general', 'statistical', 'classification', 'considered', 'hard', 'problem', 'also', 'true', 'software', 'classification', 'therefore', \"n't\", 'many', 'solutions/tools', 'handle', 'task', 'well', '=source', 'code=', 'number', 'unified', 'modeling', 'language|uml', 'tools', 'refer', 'process', 'importing', 'analysing', 'source', 'code', 'generate', 'uml', 'diagrams', '``', 'reverse', 'engineering', \"''\", 'see', 'list', 'uml', 'tools', 'although', 'uml', 'one', 'approach', 'providing', '``', 'reverse', 'engineering', \"''\", 'recent', 'advances', 'international', 'standards', 'activities', 'resulted', 'development', 'knowledge', 'discovery', 'metamodel', 'kdm', 'standard', 'delivers', 'ontology', 'intermediate', 'abstracted', 'representation', 'programming', 'language', 'constructs', 'interrelationships', 'object', 'management', 'group', 'standard', 'way', 'becoming', 'iso', 'standard', 'well', 'kdm', 'started', 'take', 'hold', 'industry', 'development', 'tools', 'analysis', 'environments', 'deliver', 'extraction', 'analysis', 'source', 'binary', 'byte', 'code', 'source', 'code', 'analysis', 'kdm', \"'s\", 'granular', 'standards', 'architecture', 'enables', 'extraction', 'software', 'system', 'flows', 'data', 'control', 'call', 'maps', 'architectures', 'business', 'layer', 'knowledge', 'rules', 'terms', 'process', 'standard', 'enables', 'use', 'common', 'data', 'format', 'xmi', 'enabling', 'correlation', 'various', 'layers', 'system', 'knowledge', 'either', 'detailed', 'analysis', 'e.g', 'root', 'cause', 'impact', 'derived', 'analysis', 'e.g', 'business', 'process', 'extraction', 'although', 'efforts', 'represent', 'language', 'constructs', 'never-ending', 'given', 'number', 'languages', 'continuous', 'evolution', 'software', 'languages', 'development', 'new', 'languages', 'standard', 'allow', 'use', 'extensions', 'support', 'broad', 'language', 'set', 'well', 'evolution', 'kdm', 'compatible', 'uml', 'bpmn', 'rdf', 'standards', 'enabling', 'migration', 'environments', 'thus', 'leverage', 'system', 'knowledge', 'efforts', 'software', 'system', 'transformation', 'enterprise', 'business', 'layer', 'analysis', '=reverse', 'engineering', 'protocols=', 'communications', 'protocol|protocols', 'sets', 'rules', 'describe', 'message', 'formats', 'messages', 'exchanged', 'i.e.', 'protocol', 'finite-state', 'machine|state-machine', 'accordingly', 'problem', 'protocol', 'reverse-engineering', 'partitioned', 'two', 'subproblems', 'message', 'format', 'state-machine', 'reverse-engineering', 'message', 'formats', 'traditionally', 'reverse-engineered', 'tedious', 'manual', 'process', 'involved', 'analysis', 'protocol', 'implementations', 'process', 'messages', 'recent', 'research', 'proposed', 'number', 'automatic', 'solutions.w', 'cui', 'j.', 'kannan', 'h.', 'j.', 'wang', 'discoverer', 'automatic', 'protocol', 'reverse', 'engineering', 'network', 'traces', 'proceedings', '16th', 'usenix', 'security', 'symposium', 'usenix', 'security', 'symposium', 'pp', '1–14.w', 'cui', 'm.', 'peinado', 'k.', 'chen', 'h.', 'j.', 'wang', 'l.', 'irún-briz', 'tupni', 'automatic', 'reverse', 'engineering', 'input', 'formats', 'proceedings', '15th', 'acm', 'conference', 'computer', 'communications', 'security', 'pp', '391–402', 'acm', 'oct', '2008.', 'ref', 'name=', \"''\", 'm.', 'comparetti', 'g.', 'wondracek', 'pages', '110-125', \"''\", 'p', 'm.', 'comparetti', 'g.', 'wondracek', 'c.', 'kruegel', 'e.', 'kirda', 'prospex', 'protocol', 'specification', 'extraction', 'proceedings', '2009', '30th', 'ieee', 'symposium', 'security', 'privacy', 'pp', '110–125', 'washington', '2009.', 'ieee', 'computer', 'society', 'typically', 'automatic', 'approaches', 'either', 'group', 'observed', 'messages', 'clusters', 'using', 'various', 'cluster', 'analysis|clustering', 'analyses', 'emulate', 'protocol', 'implementation', 'tracing', 'message', 'processing', 'less', 'work', 'reverse-engineering', 'state-machines', 'protocols', 'general', 'protocol', 'state-machines', 'learned', 'either', 'process', 'offline', 'learning', 'passively', 'observes', 'communication', 'attempts', 'build', 'general', 'state-machine', 'accepting', 'observed', 'sequences', 'messages', 'online', 'machine', 'learning|online', 'learning', 'allows', 'interactive', 'generation', 'probing', 'sequences', 'messages', 'listening', 'responses', 'probing', 'sequences', 'general', 'offline', 'learning', 'small', 'state-machines', 'known', 'np-complete', 'cite', 'journal|doi=10.1016/s0019-9958', '78', '90562-4|title=complexity', 'automaton', 'identification', 'given', 'data|year=1978|last1=gold|first1=e|journal=information', 'control|volume=37|issue=3|pages=302–320', 'online', 'learning', 'done', 'polynomial', 'time', 'cite', 'journal|author=d', 'angluin|title=', 'learning', 'regular', 'sets', 'queries', 'counterexamples|doi=10.1016/0890-5401', '87', '90052-6|journal=', 'information', 'computation|volume=', '75|issue=2|pages=87–106|year=1987', 'automatic', 'offline', 'approach', 'demonstrated', 'comparetti', 'et', 'al.', 'ref', 'name=', \"''\", 'm.', 'comparetti', 'g.', 'wondracek', 'pages', '110-125', \"''\", 'online', 'approach', 'cho', 'et', 'al.c.y', 'cho', 'd.', 'babic', 'r.', 'shin', 'd.', 'song', 'http', '//www.domagoj-babic.com/index.php/pubs/ccs10botnets', 'inference', 'analysis', 'formal', 'models', 'botnet', 'command', 'control', 'protocols', '2010', 'acm', 'conference', 'computer', 'communications', 'security', 'components', 'typical', 'protocols', 'like', 'encryption', 'hash', 'functions', 'reverse-engineered', 'automatically', 'well', 'typically', 'automatic', 'approaches', 'trace', 'execution', 'protocol', 'implementations', 'try', 'detect', 'buffers', 'memory', 'holding', 'unencrypted', 'packets', 'http', '//bitblaze.cs.berkeley.edu/papers/polyglot_ccs07_av.pdf', 'polyglot', 'automatic', 'extraction', 'protocol', 'message', 'format', 'using', 'dynamic', 'binary', 'analysis', 'j.', 'caballero', 'h.', 'yin', 'z.', 'liang', 'd.', 'song', 'proceedings', '14th', 'acm', 'conference', 'computer', 'communications', 'security', 'p.', '317-329', '=reverse', 'engineering', 'integrated', 'circuits/smart', 'cards=', 'reverse', 'engineering', 'invasive', 'destructive', 'form', 'analyzing', 'smart', 'card', 'attacker', 'grinds', 'away', 'layer', 'layer', 'smart', 'card', 'takes', 'pictures', 'electron', 'microscope', 'technique', 'possible', 'reveal', 'complete', 'hardware', 'software', 'part', 'smart', 'card', 'major', 'problem', 'attacker', 'bring', 'everything', 'right', 'order', 'find', 'everything', 'works', 'makers', 'card', 'try', 'hide', 'keys', 'operations', 'mixing', 'memory', 'positions', 'example', 'bus', 'scrambling.wolfgang', 'rankl', 'wolfgang', 'effing', 'smart', 'card', 'handbook', '2004', 't.', 'welz', 'http', '//www.crypto.rub.de/its_seminar_ws0708.html', 'smart', 'cards', 'methods', 'payment', '2008', 'seminar', 'its-security', 'ruhr-universität', 'bochum', 'cases', 'even', 'possible', 'attach', 'probe', 'measure', 'voltages', 'smart', 'card', 'still', 'operational', 'makers', 'card', 'employ', 'sensors', 'detect', 'prevent', 'attack.david', 'c.', 'musker', 'http', '//www.jenkins.eu/articles-general/reverse-engineering.asp', 'protecting', 'exploiting', 'intellectual', 'property', 'electronics', 'ibc', 'conferences', '10', 'june', '1998', 'attack', 'common', 'requires', 'large', 'investment', 'effort', 'special', 'equipment', 'generally', 'available', 'large', 'chip', 'manufacturers', 'furthermore', 'payoff', 'attack', 'low', 'since', 'security', 'techniques', 'often', 'employed', 'shadow', 'accounts', 'uncertain', 'time', 'whether', 'attacks', 'chip/pin', 'cards', 'replicate', 'encryption', 'data', 'consequentially', 'crack', 'pins', 'would', 'provide', 'cost', 'effective', 'attack', 'multifactor', 'authentication', '=reverse', 'engineering', 'military', 'applications=', 'refimprove', 'section|date=july', '2014', 'reverse', 'engineering', 'often', 'used', 'people', 'order', 'copy', 'nations', 'technologies', 'devices', 'information', 'obtained', 'regular', 'troops', 'fields', 'military', 'intelligence|intelligence', 'operations', 'often', 'used', 'second', 'world', 'war', 'cold', 'war', 'well-known', 'examples', 'wwii', 'later', 'include', 'jerry', 'british', 'american', 'forces', 'noticed', 'germans', 'gasoline', 'cans', 'excellent', 'design', 'reverse-engineered', 'copies', 'cans', 'cans', 'popularly', 'known', '``', 'jerry', 'cans', \"''\", 'panzerschreck', 'germans', 'captured', 'american', 'bazooka', 'world', 'war', 'ii', 'reverse', 'engineered', 'create', 'larger', 'panzerschreck', 'tupolev', 'tu-4', '1944', 'three', 'american', 'b-29', 'superfortress|b-29', 'bombers', 'missions', 'japan', 'forced', 'land', 'soviet', 'union|ussr', 'soviets', 'similar', 'strategic', 'bomber', 'decided', 'copy', 'b-29', 'within', 'three', 'years', 'developed', 'tu-4', 'near-perfect', 'copy', 'scr-584', 'radar', 'copied', 'soviet', 'union|ussr', 'second', 'world', 'war', 'known', 'form', 'modifications', 'сцр-584', 'бинокль-д', 'v-2', 'rocket', 'technical', 'documents', 'v2', 'related', 'technologies', 'captured', 'western', 'allies', 'end', 'war', 'american', 'side', 'focused', 'reverse', 'engineering', 'efforts', 'via', 'operation', 'paperclip', 'led', 'development', 'pgm-11', 'redstone', 'rocket', 'cite', 'web|url=http', '//www.centennialofflight.net/essay/dictionary/redstone/di149.htm', '|title=redstone', 'rocket', '|publisher=centennialofflight.net', '|accessdate=2010-04-27', 'soviet', 'side', 'used', 'captured', 'german', 'engineers', 'reproduce', 'technical', 'documents', 'plans', 'work', 'captured', 'hardware', 'order', 'make', 'clone', 'rocket', 'r-1', 'missile', '|r-1', 'thus', 'began', 'postwar', 'soviet', 'rocket', 'program', 'led', 'r-7', 'semyorka|r-7', 'beginning', 'space', 'race', 'vympel', 'k-13|k-13/r-3s', 'missile', 'nato', 'reporting', 'name', \"''\", 'aa-2', 'atoll', \"''\", 'soviet', 'reverse-engineered', 'copy', 'aim-9', 'sidewinder', 'made', 'possible', 'taiwanese', 'aim-9b', 'hit', 'chinese', 'mig-17', 'without', 'exploding', 'september', '1958', '``', 'chinese', 'air', 'force', 'evolving', 'concepts', 'roles', 'capabilities', \"''\", 'center', 'study', 'chinese', 'military', 'affairs', 'u.s', 'national', 'defense', 'university', 'press', 'pg', '277', 'missile', 'became', 'lodged', 'within', 'airframe', 'pilot', 'returned', 'base', 'russian', 'scientists', 'would', 'describe', 'university', 'course', 'missile', 'development', 'bgm-71', 'tow', 'missile', 'may', '1975', 'negotiations', 'iran', 'hughes', 'missile', 'systems', 'co-production', 'tow', 'maverick', 'missiles', 'stalled', 'disagreements', 'pricing', 'structure', 'subsequent', '1979', 'revolution', 'ending', 'plans', 'co-production', 'iran', 'later', 'successful', 'reverse-engineering', 'missile', 'currently', 'producing', 'copy', 'toophan', 'china', 'intellectual', 'property', 'people', \"'s\", 'republic', 'china|reversed', 'engineered', 'many', 'examples', 'western', 'russian', 'hardware', 'fighter', 'aircraft', 'missiles', 'hmmwv', 'cars', 'second', 'world', 'war', 'polish', 'british', 'cryptographers', 'studied', 'captured', 'german', 'cryptanalysis', 'enigma|', \"''\", 'enigma', \"''\", 'message', 'encryption', 'machines', 'weaknesses', 'operation', 'simulated', 'electro-mechanical', 'devices', 'called', '``', 'bombes', \"''\", 'tried', 'possible', 'scrambler', 'settings', '``', 'enigma', \"''\", 'machines', 'help', 'break', 'coded', 'messages', 'sent', 'germans', 'also', 'second', 'world', 'war', 'british', 'scientists', 'analyzed', 'defeated', 'battle', 'beams|series', 'increasingly', 'sophisticated', 'radio', 'navigation', 'systems', 'used', 'german', 'luftwaffe', 'perform', 'guided', 'bombing', 'missions', 'night', 'british', 'countermeasures', 'system', 'effective', 'cases', 'german', 'aircraft', 'led', 'signals', 'land', 'raf', 'bases', 'believing', 'back', 'german', 'territory', 'overlap', 'patent', 'law=', 'reverse', 'engineering', 'applies', 'primarily', 'gaining', 'understanding', 'process', 'artifact', 'manner', 'construction', 'use', 'internal', 'processes', 'made', 'clear', 'creator', 'patent|patented', 'items', 'reverse-engineered', 'studied', 'since', 'essence', 'patent', 'inventor', 'provides', 'detailed', 'public', 'disclosure', 'return', 'intellectual', 'property', 'rights|receives', 'legal', 'protection', 'invention', 'involved', 'however', 'item', 'produced', 'one', 'patents', 'could', 'also', 'include', 'technology', 'patented', 'disclosed', 'indeed', 'one', 'common', 'motivation', 'reverse', 'engineering', 'determine', 'whether', 'competitor', \"'s\", 'product', 'contains', 'patent', 'infringements', 'copyright', 'infringements', 'legality', '=united', 'states=', 'united', 'states', 'even', 'artifact', 'process', 'protected', 'trade', 'secrets', 'reverse-engineering', 'artifact', 'process', 'often', 'lawful', 'long', 'legitimately', 'obtained', 'https', '//www.asme.org/career-education/articles/management-professional-practice/trade-secrets-101', '``', 'trade', 'secrets', '101', \"''\", 'feature', 'article', 'march', '2011', 'asme', 'retrieved', '2013-10-31.', 'reverse', 'engineering', 'computer', 'software', 'us', 'often', 'falls', 'contract', 'law', 'breach', 'contract', 'well', 'relevant', 'laws', 'eulas', 'end', 'user', 'license', 'agreement', 'specifically', 'prohibit', 'u.s.', 'courts', 'ruled', 'terms', 'present', 'override', 'copyright', 'law', 'expressly', 'permits', 'see', \"''bowers\", 'v.', 'baystate', 'technologies', \"''\", 'http', '//www.utsystem.edu/ogc/intellectualproperty/baystatevbowersdiscussion.htm', 'baystate', 'v.', 'bowers', 'discussion', 'utsystem.edu', 'retrieved', '2011-05-29.gross', 'grant', '2003-06-26', 'http', '//www.infoworld.com/d/developer-world/contract-case-could-hurt-reverse-engineering-337', 'contract', 'case', 'could', 'hurt', 'reverse', 'engineering', 'developer', 'world', 'infoworld', 'retrieved', '2011-05-29.', 'sec', '103', 'f', 'digital', 'millennium', 'copyright', 'act|dmca', 'http', '//www4.law.cornell.edu/uscode/html/uscode17/usc_sec_17_00001201', '--', '--', '000-.html', '17', 'u.s.c', '§', '1201', 'f', 'says', 'person', 'legal', 'possession', 'program', 'permitted', 'reverse-engineer', 'circumvent', 'protection', 'necessary', 'order', 'achieve', '``', 'interoperability', \"''\", 'term', 'broadly', 'covering', 'devices', 'programs', 'able', 'interact', 'make', 'use', 'use', 'transfer', 'data', 'useful', 'ways', 'limited', 'exemption', 'exists', 'allows', 'knowledge', 'thus', 'gained', 'shared', 'used', 'interoperability', 'purposes', 'section', 'states', 'blockquote', 'f', 'reverse', 'engineering.—', 'br', 'br', '1', 'notwithstanding', 'provisions', 'subsection', '1', 'person', 'lawfully', 'obtained', 'right', 'use', 'copy', 'computer', 'program', 'may', 'circumvent', 'technological', 'measure', 'effectively', 'controls', 'access', 'particular', 'portion', 'program', 'sole', 'purpose', 'identifying', 'analyzing', 'elements', 'program', 'necessary', 'achieve', 'interoperability', 'independently', 'created', 'computer', 'program', 'programs', 'previously', 'readily', 'available', 'person', 'engaging', 'circumvention', 'extent', 'acts', 'identification', 'analysis', 'constitute', 'infringement', 'title.', 'br', 'br', '2', 'notwithstanding', 'provisions', 'subsections', '2', 'b', 'person', 'may', 'develop', 'employ', 'technological', 'means', 'circumvent', 'technological', 'measure', 'circumvent', 'protection', 'afforded', 'technological', 'measure', 'order', 'enable', 'identification', 'analysis', 'paragraph', '1', 'purpose', 'enabling', 'interoperability', 'independently', 'created', 'computer', 'program', 'programs', 'means', 'necessary', 'achieve', 'interoperability', 'extent', 'constitute', 'infringement', 'title.', 'br', 'br', '3', 'information', 'acquired', 'acts', 'permitted', 'paragraph', '1', 'means', 'permitted', 'paragraph', '2', 'may', 'made', 'available', 'others', 'person', 'referred', 'paragraph', '1', '2', 'case', 'may', 'provides', 'information', 'means', 'solely', 'purpose', 'enabling', 'interoperability', 'independently', 'created', 'computer', 'program', 'programs', 'extent', 'constitute', 'infringement', 'title', 'violate', 'applicable', 'law', 'section.', 'br', 'br', '4', 'purposes', 'subsection', 'term', '「interoperability」', 'means', 'ability', 'computer', 'programs', 'exchange', 'information', 'programs', 'mutually', 'use', 'information', 'exchanged', '/blockquote', '=european', 'union=', 'eu', 'directive', '2009/24', 'legal', 'protection', 'computer', 'programs', 'governs', 'reverse', 'engineering', 'european', 'union', 'directive', 'states', 'http', '//eur-lex.europa.eu/legal-content/en/txt/', 'qid=1435057541496', 'uri=celex:32009l0024', 'directive', '2009/24/ec', 'european', 'parliament', 'council', '23', 'april', '2009', 'legal', 'protection', 'computer', 'programs', 'blockquote', '15', 'unauthorised', 'reproduction', 'translation', 'adaptation', 'transformation', 'form', 'code', 'copy', 'computer', 'program', 'made', 'available', 'constitutes', 'infringement', 'exclusive', 'rights', 'author', 'nevertheless', 'circumstances', 'may', 'exist', 'reproduction', 'code', 'translation', 'form', 'indispensable', 'obtain', 'necessary', 'information', 'achieve', 'interoperability', 'independently', 'created', 'program', 'programs', 'therefore', 'considered', 'limited', 'circumstances', 'performance', 'acts', 'reproduction', 'translation', 'behalf', 'person', 'right', 'use', 'copy', 'program', 'legitimate', 'compatible', 'fair', 'practice', 'must', 'therefore', 'deemed', 'require', 'authorisation', 'rightholder', 'objective', 'exception', 'make', 'possible', 'connect', 'components', 'computer', 'system', 'including', 'different', 'manufacturers', 'work', 'together', 'exception', 'author', \"'s\", 'exclusive', 'rights', 'may', 'used', 'way', 'prejudices', 'legitimate', 'interests', 'rightholder', 'conflicts', 'normal', 'exploitation', 'program', '/blockquote', 'superseded', 'earlier', '1991', 'directive', 'http', '//eur-lex.europa.eu/lexuriserv/lexuriserv.do', 'uri=celex:31991l0250', 'en', 'html', 'council', 'directive', '91/250/eec', '14', 'may', '1991', 'legal', 'protection', 'computer', 'programs', 'eur-lex.europa.eu', 'retrieved', '2011-05-29.', 'see', 'also', 'colbegin|3', 'antikythera', 'mechanism', 'benchmarking', 'bus', 'analyzer', 'chonda', 'clone', 'computing', 'clean', 'room', 'design', 'coordinate-measuring', 'machine|cmm', 'code', 'morphing', 'connectix', 'virtual', 'game', 'station', 'counterfeiting', 'cryptanalysis', 'decompiler', 'deformulation', 'digital', 'millennium', 'copyright', 'act', 'dmca', 'dongle', 'forensic', 'engineering', 'industrial', 'ct', 'scanning', 'interactive', 'disassembler', 'knowledge', 'discovery', 'metamodel', '3d', 'scanner', 'triangulation|laser', 'scanner', 'list', 'production', 'topics', 'listeroid', 'listeroid', 'engines|listeroid', 'engines', 'logic', 'analyzer', \"''paycheck\", 'film', '|paycheck', \"''\", 'repurposing', \"''sega\", 'v.', 'accolade', \"''\", 'software', 'archaeology', '3d', 'scanner', 'structured', 'light|structured', 'light', 'digitizer', 'value', 'engineering', 'colend', 'references', 'reflist|30em', 'reading', 'yurichev', 'dennis', '``', 'introduction', 'reverse', 'engineering', 'beginners', \"''\", 'online', 'book', 'http', '//yurichev.com/writings/re_for_beginners-en.pdf', 'cite', 'book', '|title=reversing', 'secrets', 'reverse', 'engineering', '|last=eilam', '|first=eldad', '|year=2005', '|publisher=wiley', 'publishing', '|isbn=0-7645-7481-7', '|page=595', 'hausi', 'a.', 'muller|hausi', 'a.', 'müller', 'holger', 'm.', 'kienle', '``', 'small', 'primer', 'software', 'reverse', 'engineering', \"''\", 'technical', 'report', 'university', 'victoria', '17', 'pages', 'march', '2009.', 'online', 'http', '//holgerkienle.wikispaces.com/file/view/mk-uvic-09.pdf', 'cite', 'web', '|url=http', '//electronicdesign.com/articles/index.cfm', 'ad=1', 'articleid=11966', '|author=james', 'dick', '|title=reverse', 'engineering', 'delivers', 'product', 'knowledge', 'aids', 'technology', 'spread', '|accessdate=2009-02-03', '|work=electronic', 'design', '|publisher=penton', 'media', 'inc', '|date=january', '19', '2006', 'cite', 'book', '|title=reverse', 'engineering', '–', 'industrial', 'perspective', '|last=raja', '|first=vinesh', '|author2=fernandes', 'kiran', 'j', '|year=2008', '|publisher', 'springer', 'science+business', 'media|springer', '|isbn=978-1-84628-855-5', '|page=242', 'cite', 'web', '|url=http', '//ewh.ieee.org/r5/denver/sscs/references/2007_09_torrance.pdf', '|author=thumm', 'mike', '|title=talking', 'tactics', '|accessdate=2009-02-03', '|work=ieee', '2007', 'custom', 'integrated', 'circuits', 'conference', 'cicc', '|publisher=ieee', 'inc', '|year=2007', 'cite', 'web', '|url=http', '//www.reversingproject.info', '|author=cipresso', 'teodoro', '|title=software', 'reverse', 'engineering', 'education', '|accessdate=2009-08-22', '|work=sjsu', 'master', \"'s\", 'thesis', '|publisher=proquest', 'uml', '|year=2009', 'cite', 'book', '|title=undocumented', 'dos', 'programmer', \"'s\", 'guide', 'reserved', 'ms-dos', 'functions', 'data', 'structures', '2nd', 'ed', '|last=schulman', 'et', 'al', '|first=andrew', '|year=1994', '|publisher=addison', 'wesley', '|isbn=0-201-63287-x', 'pp.', 'nbsp', '229–241', 'general', 'methodology', 'reverse', 'engineering', 'applied', 'mass-market', 'software', 'program', 'exploring', 'dos', 'disassembling', 'dos', 'cite', 'book', '|title=undocumented', 'windows', 'programmer', \"'s\", 'guide', 'reserved', 'microsoft', 'windows', 'api', 'functions', '|last=schulman', 'et', 'al', '|first=andrew', '|year=1992', '|publisher=addison', 'wesley', '|isbn=0-201-60834-0', 'pp.', 'nbsp', '59–188', 'general', 'methodology', 'reverse', 'engineering', 'applied', 'mass-market', 'software', 'examining', 'windows', 'executables', 'disassembling', 'windows', 'tools', 'exploring', 'windows', 'cite', 'book', '|title=reverse', 'engineering', 'mechanisms', 'structures', 'systems', 'materials', '|last=messler', '|first=robert', '|year=2013', '|publisher=mcgraw', 'hill', '|isbn=978-0071825160', 'introduction', 'hardware', 'teardowns', 'including', 'methodology', 'goals', 'cite', 'book', '|title=hacking', 'xbox', 'introduction', 'reverse', 'engineering', '|last=huang', '|first=andrew', '``', 'bunnie', \"''\", '|year=2003', '|publisher=no', 'starch', 'press', '|isbn=978-1593270292', 'pamela', 'samuelson', 'suzanne', 'scotchmer', '``', 'law', 'economics', 'reverse', 'engineering', \"''\", '111', 'yale', 'l.j', '1575', '2002', 'online', 'http', '//people.ischool.berkeley.edu/~pam/papers/l', 'e', '20reveng3.pdf', 'andrew', 'schulman', '``', 'hiding', 'plain', 'sight', 'using', 'reverse', 'engineering', 'uncover', 'software', 'patent', 'infringement', \"''\", \"''intellectual\", 'property', 'today', \"''\", 'nov.', '2010.', 'online', 'http', '//www.iptoday.com/issues/2010/11/hiding-in-plain-sight-using-reverse-engineering-to-uncover-software-patent-infringement.asp', 'andrew', 'schulman', '``', 'open', 'inspection', 'using', 'reverse', 'engineering', 'uncover', 'software', 'prior', 'art', \"''\", \"''new\", 'matter', \"''\", 'calif.', 'state', 'bar', 'ip', 'section', 'summer', '2011', 'part', '1', 'fall', '2011', 'part', '2', 'online', 'http', '//www.softwarelitigationconsulting.com', 'henry', 'heines', '``', 'determining', 'infringement', 'x-ray', 'diffraction', \"''\", \"''chemical\", 'engineering', 'process', \"''\", 'jan.', '1999', 'example', 'reverse', 'engineering', 'used', 'detect', 'ip', 'infringement', 'julia', 'elvidge', '``', 'using', 'reverse', 'engineering', 'discover', 'patent', 'infringement', \"''\", 'chipworks', 'sept.', '2010.', 'online', 'http', '//www.photonics.com/article.aspx', 'aid=44063', 'engineering', 'fields', 'technology', 'authority', 'control', 'defaultsort', 'reverse', 'engineering', 'category', 'computer', 'security', 'category', 'engineering', 'concepts', 'category', 'espionage', 'category', 'patent', 'law', 'category', 'production', 'manufacturing', 'category', 'articles', 'inconsistent', 'citation', 'formats', 'category', 'technical', 'intelligence'], ['use', 'mdy', 'dates|date=october', '2014', 'infobox', 'military', 'person', '|name=grace', 'murray', 'hopper', '|birth_date', 'birth', 'date|1906|12|9', '|death_date', 'death', 'date', 'age|1992|1|1|1906|12|9', '|birth_place=new', 'york', 'city', 'new', 'york', 'u.s.', '|death_place=arlington', 'virginia', 'u.s.', '|placeofburial=arlington', 'national', 'cemetery', '|placeofburial_label=', 'place', 'burial', '|image=commodore', 'grace', 'm.', 'hopper', 'usn', 'covered', '.jpg', '|caption=rear', 'admiral', 'grace', 'm.', 'hopper', '1984', '|nickname=', \"''\", 'amazing', 'grace', \"''\", '|alma_mater', 'yale', 'university', '|allegiance=', 'flagu|united', 'states', 'america', '|serviceyears=1943–1966', '1967–1971', '1972–1986', '|rank=', 'file', 'us-o7', 'insignia.svg|24px', 'rear', 'admiral', 'united', 'states', '|rear', 'admiral', 'lower', 'half', '|branch=', 'flag|united', 'states', 'navy', '|commands=', '|awards=file', 'defense', 'distinguished', 'service', 'ribbon.svg|border|22px', 'defense', 'distinguished', 'service', 'medal', 'br', 'file', 'legion', 'merit', 'ribbon.svg|border|22px', 'legion', 'merit', 'br', 'file', 'meritorious', 'service', 'ribbon.svg|border|22px', 'meritorious', 'service', 'medal', 'usa', '|meritorious', 'service', 'medal', 'br', 'file', 'american', 'campaign', 'medal', 'ribbon.svg|border|22px', 'american', 'campaign', 'medal', 'br', 'file', 'world', 'war', 'ii', 'victory', 'medal', 'ribbon.svg|border|22px', 'world', 'war', 'ii', 'victory', 'medal', 'br', 'file', 'national', 'defense', 'service', 'medal', 'ribbon.svg|border|22px', 'national', 'defense', 'service', 'medal', 'br', 'file', 'afrm', 'hourglass', 'device', 'silver', '.jpg|border|22px', 'armed', 'forces', 'reserve', 'medal', 'two', 'hourglass', 'devices', 'br', 'file', 'naval', 'reserve', 'medal', 'ribbon.svg|border|22px', 'naval', 'reserve', 'medal', 'br', 'file', 'presidential', 'medal', 'freedom', 'ribbon', '.png|border|22px', 'presidential', 'medal', 'freedom', 'posthumous', '|relations=', '|laterwork=', \"''\", 'grace', 'brewster', 'murray', 'hopper', \"''\", 'née|', \"''\", \"'murray\", \"''\", 'december', '9', '1906', '–', 'january', '1', '1992', 'american', 'computer', 'scientist', 'united', 'states', 'navy', 'rear', 'admiral', 'united', 'states', '|rear', 'admiral', 'cite', 'news|url', 'http', '//content.yudu.com/a2qfj4/201403march/resources/3.htm|title', 'amazing', 'grace', 'rear', 'adm.', 'grace', 'hopper', 'usn', 'pioneer', 'computer', 'science|first', 'mark|last', 'cantrell|magazine', 'military', 'officer|publisher', 'military', 'officers', 'association', 'america|volume', '12|issue', '3|pages', '52–55', '106|date', 'march', '2014|accessdate', 'march', '1', '2014', '1944', 'one', 'first', 'programmers', 'harvard', 'mark', 'computer', 'http', '//chsi.harvard.edu/exhibitions/harvard-mark-l', 'mark', 'computer', 'harvard', 'university', 'invented', 'first', 'compiler', 'computer', 'programming', 'language.', 'ref', 'name=', \"''\", 'wexelblat81', \"''\", 'cite', 'book', '|author=', 'richard', 'l.', 'wexelblat', 'ed', '|title=', 'history', 'programming', 'languages', '|year=', '1981', '|location=', 'new', 'york', '|publisher=', 'academic', 'press', '|isbn=', '0-12-745040-8', 'ref', 'name=', \"''\", 'spencer85', \"''\", 'cite', 'book', '|author=', 'donald', 'd.', 'spencer', '|title=', 'computers', 'information', 'processing', '|year=', '1985', '|publisher=', 'c.e', 'merrill', 'publishing', 'co', '|isbn=', '978-0-675-20290-9', 'ref', 'name=', \"''\", 'laplante01', \"''\", 'cite', 'book', '|author=', 'phillip', 'a.', 'laplante', '|title=', 'dictionary', 'computer', 'science', 'engineering', 'technology', '|year=', '2001', '|publisher=', 'crc', 'press', '|isbn=', '978-0-8493-2691-2', 'ref', 'name=', \"''\", 'bunch93', \"''\", 'cite', 'book', '|author=', 'bryan', 'h.', 'bunch', 'alexander', 'hellemans', '|title=', 'timetables', 'technology', 'chronology', 'important', 'people', 'events', 'history', 'technology', '|year=', '1993', '|publisher=', 'simon', 'schuster', '|isbn=', '978-0-671-76918-5', 'ref', 'name=', \"''\", 'booss03', \"''\", 'cite', 'book', '|author=', 'bernhelm', 'booss-bavnbek', 'jens', 'høyrup', '|title=', 'mathematics', 'war', '|year=', '2003', '|publisher=', 'birkhäuser', 'verlag', '|isbn=', '978-3-7643-1634-1', 'popularized', 'idea', 'machine-independent', 'programming', 'languages', 'led', 'development', 'cobol', 'one', 'first', 'high-level', 'programming', 'languages', 'owing', 'accomplishments', 'naval', 'rank', 'sometimes', 'referred', '``', 'amazing', 'grace', \"''\", 'ref', 'name=', \"''\", 'urlcyber', 'heroes', 'past', 'amazing', 'grace', 'hopper', \"''\", 'cite', 'web|url=http', '//wvegter.hivemind.net/abacus/cyberheroes/hopper.htm|title=cyber', 'heroes', 'past', '``', 'amazing', 'grace', \"''\", 'hopper|accessdate=december', '12', '2012', 'ref', 'name=', \"''\", 'urlgrace', 'murray', 'hopper', \"''\", 'cite', 'web|url=http', '//www.agnesscott.edu/lriddle/women/hopper.htm|title=grace', 'murray', 'hopper|accessdate=december', '12', '2012', 'u.s.', 'navy', 'sclass-|arleigh', 'burke|destroyer|0', 'guided-missile', 'destroyer', 'uss|hopper', 'named', 'cray', 'xe6', '``', 'hopper', \"''\", 'supercomputer', 'nersc', 'cite', 'web|url=http', '//www.nersc.gov/users/computational-systems/retired-systems/hopper/|title=hopper|website=www.nersc.gov|access-date=2016-03-19', 'november', '22', '2016', 'posthumously', 'awarded', 'presidential', 'medal', 'freedom', 'president', 'barack', 'obama', 'cite', 'web|url=http', '//www.cbsnews.com/news/white-house-medal-of-freedom-margaret-hamilton-grace-hopper/|title=white', 'house', 'honors', 'two', 'tech', \"'s\", 'female', 'pioneers|work=cbsnews.com|accessdate=november', '23', '2016', 'early', 'life', 'education', 'listen|type=speech|pos=right|filename=grace', 'hopper', 'told', 'u.s.', 'chief', 'technology', 'officer', 'megan', 'smith', '.oggvorbis.ogg|title=grace', 'hopper', 'told', 'u.s.', 'chief', 'technology', 'officer', 'megan', 'smith', '|description=', 'hopper', 'born', 'new', 'york', 'city', 'eldest', 'three', 'children', 'parents', 'walter', 'fletcher', 'murray', 'mary', 'campbell', 'van', 'horne', 'scottish', 'people|scottish', 'dutch', 'people|dutch', 'descent', 'attended', 'west', 'end', 'collegiate', 'church', 'cite', 'book', 'publisher', 'naval', 'institute', 'press|', 'isbn', '1557509522|', 'last', 'williams|', 'first', 'kathleen', 'broome|', 'title', 'grace', 'hopper', 'admiral', 'cyber', 'sea|', 'location', 'annapolis', 'md|', 'series', 'library', 'naval', 'biography|', 'date', '2004', 'great-grandfather', 'alexander', 'wilson', 'russell', 'admiral', 'us', 'navy', 'fought', 'battle', 'mobile', 'bay', 'american', 'civil', 'war|civil', 'war', 'grace', 'curious', 'child', 'lifelong', 'trait', 'age', 'seven', 'decided', 'determine', 'alarm', 'clock', 'worked', 'dismantled', 'seven', 'alarm', 'clocks', 'mother', 'realized', 'limited', 'one', 'clock', 'cite', 'journal', '|last1=dickason', '|first=elizabeth', '|url=http', '//inventors.about.com/library/inventors/bl_grace_murray_hopper.htm', '|title=looking', 'back', 'grace', 'murray', 'hopper', \"'s\", 'younger', 'years', '|journal=chips', '|date=april', '1992', 'university-preparatory', 'school|preparatory', 'school', 'education', 'attended', 'wardlaw-hartridge', 'school|hartridge', 'school', 'plainfield', 'new', 'jersey', 'hopper', 'initially', 'rejected', 'early', 'admission', 'vassar', 'college', 'age', '16', 'test', 'scores', 'latin', 'low', 'admitted', 'following', 'year', 'graduated', 'phi', 'beta', 'kappa', 'society|phi', 'beta', 'kappa', 'vassar', '1928', 'bachelor', \"'s\", 'degree', 'mathematics', 'physics', 'earned', 'master', \"'s\", 'degree', 'yale', 'university', '1930.', '1934', 'earned', 'ph.d.', 'mathematics', 'yale', 'ref', 'name=', \"''\", 'nwhm', \"''\", 'cite', 'web|', 'url=http', '//www.nwhm.org/education-resources/biography/biographies/grace-murray-hopper/|', 'title=grace', 'murray', 'hopper', '1906-1992', 'accessdate=september', '1', '2014|', 'publisher=national', 'women', \"'s\", 'history', 'museum|', 'website=nwhm.org', 'direction', 'øystein', 'ore.', 'ref', 'name=', \"''\", 'greenladuke09', \"''\", 'though', 'books', 'including', 'kurt', 'beyer', \"'s\", \"''grace\", 'hopper', 'invention', 'information', 'age', \"''\", 'reported', 'hopper', 'first', 'woman', 'earn', 'yale', 'phd', 'mathematics', 'first', 'ten', 'women', 'prior', '1934', 'charlotte', 'cynthia', 'barnum', '1860–1934', 'cite', 'news', 'last', 'murray', 'first', 'margaret', 'a.', 'm.', 'publication-date', 'may–june', '2010', 'title', 'first', 'lady', 'math', 'periodical', 'yale', 'alumni', 'magazine', 'volume', '73', 'issue', '5', 'pages', '5–6', 'issn', '0044-0051', 'postscript', '--', 'none', '--', 'dissertation', \"''new\", 'types', 'irreducibility', 'criteria', \"''\", 'published', 'year.g', 'm.', 'hopper', 'o.', 'ore', '``', 'new', 'types', 'irreducibility', 'criteria', \"''\", \"''bull\", 'amer', 'math', 'soc', \"''\", '40', '1934', '216', 'cite', 'web', 'title=new', 'types', 'irreducibility', 'criteria', 'url=http', '//www.ams.org/journals/bull/1934-40-03/s0002-9904-1934-05818-x/', 'hopper', 'began', 'teaching', 'mathematics', 'vassar', '1931', 'promoted', 'associate', 'professor', '1941.', 'ref', 'name=ogilvie', 'cite', 'book|last=ogilvie|first=marilyn|title=the', 'biographical', 'dictionary', 'women', 'science', 'pioneering', 'lives', 'ancient', 'times', 'mid-20th', 'century.|year=2000|publisher=routledge|location=new', 'york|isbn=0-415-92040-x|author2=', 'joy', 'harvey|url=https', '//books.google.com/books', 'id=qmfyk0qtsrac', 'q=hopper', 'v=snippet', 'q=hopper', 'f=false', 'check', 'cite|reason=does', \"n't\", 'seem', 'support', 'dates|date=november', '2013', 'married', 'new', 'york', 'university', 'professor', 'vincent', 'foster', 'hopper', '1906–76', '1930', 'divorce', '1945.', 'ref', 'name=', \"''\", 'greenladuke09', \"''\", 'cite', 'book', '|last=green', '|first=judy', 'jeanne', 'laduke', '|title=pioneering', 'women', 'american', 'mathematics', 'pre-1940', 'phd', \"'s\", '|accessdate=', '|edition=', '|year=2009', '|publisher=american', 'mathematical', 'society', '|location=providence', 'rhode', 'island', '|isbn=978-0821843765', 'cite', 'news|title=prof', 'vincent', 'hopper', 'n.y.u.', 'literature', 'teacher', 'dead', '69|newspaper=the', 'new', 'york', 'times|date=january', '21', '1976', 'marry', 'chose', 'retain', 'surname', 'career', '=world', 'war', 'ii=', 'file', 'harvard', 'mark', 'sign-up.agr.jpg|thumb|hopper', \"'s\", 'signatures', 'duty', 'officer', 'signup', 'sheet', 'bureau', 'ships', 'computation', 'project', 'harvard', 'built', 'operated', 'harvard', 'mark', 'i|mark', 'hopper', 'tried', 'enlist', 'navy', 'early', 'war', 'age', '34', 'old', 'enlist', 'weight', 'height', 'ratio', 'low', 'also', 'denied', 'basis', 'job', 'mathematician', 'mdashb', 'mathematics', 'professor', 'vassar', 'college', 'mdashb', 'valuable', 'war', 'effort', 'cite', 'web|url=https', '//www.thocp.net/biographies/hopper_grace.html|title=grace', 'hopper|website=www.thocp.net|access-date=2016-12-12', 'world', 'war', 'ii', '1943', 'hopper', 'obtained', 'leave', 'absence', 'vassar', 'sworn', 'united', 'states', 'navy', 'reserve', 'one', 'many', 'women', 'volunteer', 'serve', 'waves', 'get', 'exemption', 'enlist', 'convert|15|lb', 'navy', 'minimum', 'weight', 'convert|120|lb', 'reported', 'december', 'trained', 'naval', 'reserve', 'midshipmen', \"'s\", 'school', 'smith', 'college', 'northampton', 'massachusetts', 'hopper', 'graduated', 'first', 'class', '1944', 'assigned', 'bureau', 'ships', 'computation', 'project', 'harvard', 'university', 'lieutenant', 'junior', 'grade', 'served', 'harvard', 'mark', 'i|mark', 'computer', 'programming', 'staff', 'headed', 'howard', 'h.', 'aiken', 'hopper', 'aiken', 'coauthored', 'three', 'papers', 'mark', 'also', 'known', 'automatic', 'sequence', 'controlled', 'calculator', 'hopper', \"'s\", 'request', 'transfer', 'regular', 'navy', 'end', 'war', 'declined', 'due', 'advanced', 'age', '38.', 'continued', 'serve', 'navy', 'reserve', 'hopper', 'remained', 'harvard', 'computation', 'lab', '1949', 'turning', 'full', 'professorship', 'vassar', 'favor', 'working', 'research', 'fellow', 'navy', 'contract', 'harvard.', 'ref', 'name=', \"''\", 'kbw', \"''\", 'cite', 'book', '|last=williams', '|first=kathleen', 'broome', '|title=improbable', 'warriors', 'women', 'scientists', 'u.s.', 'navy', 'world', 'war', 'ii', '|accessdate=', '|edition=', '|year=2001', '|publisher=naval', 'institute', 'press', '|location=annapolis', 'maryland', '|isbn=978-1-55750-961-1', 'file', 'grace', 'murray', 'hopper', 'office', 'washington', 'dc', '1978', '©lynn', 'gilbert.jpg|thumb|grace', 'murray', 'hopper', 'office', 'washington', 'dc', '1978', '©lynn', 'gilbert', '=univac=', '1949', 'hopper', 'became', 'employee', 'eckert–mauchly', 'computer', 'corporation', 'senior', 'mathematician', 'joined', 'team', 'developing', 'univac', 'i.', 'ref', 'name=ogilvie', 'recommended', 'new', 'programming', 'language', 'developed', 'using', 'entirely', 'english', 'words', '``', 'told', 'quickly', 'could', \"n't\", 'computers', \"n't\", 'understand', 'english', \"''\", 'idea', 'accepted', '3', 'years', 'published', 'first', 'paper', 'subject', 'compilers', '1952.', 'early', '1950s', 'company', 'taken', 'remington', 'rand', 'corporation', 'working', 'original', 'compiler', 'work', 'done', 'compiler', 'known', 'compiler', 'first', 'version', 'a-0', 'programming', 'language|a-0.', 'ref', 'name=', \"''\", 'mcgee2004', \"''\", 'rp|11', '1952', 'operational', 'compiler', '``', 'nobody', 'believed', \"''\", 'said', '``', 'running', 'compiler', 'nobody', 'would', 'touch', 'told', 'computers', 'could', 'arithmetic', '``', 'cite', 'web|url=http', '//www.cs.yale.edu/homes/tap/files/hopper-wit.html|title=the', 'wit', 'wisdom', 'grace', 'hopper', '“', \"''\", 'translated', 'mathematical', 'notation', 'machine', 'code', 'manipulating', 'symbols', 'fine', 'mathematicians', 'good', 'data', 'processors', 'symbol', 'manipulators', 'people', 'really', 'symbol', 'manipulators', 'become', 'professional', 'mathematicians', 'data', 'processors', '’', 'much', 'easier', 'people', 'write', 'english', 'statement', 'use', 'symbols', 'decided', 'data', 'processors', 'ought', 'able', 'write', 'programs', 'english', 'computers', 'would', 'translate', 'machine', 'code', 'beginning', 'cobol', 'computer', 'language', 'data', 'processors', 'could', 'say', '“', 'subtract', 'income', 'tax', 'pay', '”', 'instead', 'trying', 'write', 'octal', 'code', 'using', 'kinds', 'symbols', 'cobol', 'major', 'language', 'used', 'today', 'data', 'processing.', '”', 'cite', 'web|url=https', '//itunes.apple.com/us/book/grace-murray-hopper/id1197529986', 'mt=11|title=lynn', 'gilbert', 'women', 'wisdom', 'grace', 'hopper', '“', '1954', 'hopper', 'named', 'company', \"'s\", 'first', 'director', 'automatic', 'programming', 'department', 'released', 'first', 'compiler-based', 'programming', 'languages', 'including', 'math-matic', 'flow-matic.', 'ref', 'name=ogilvie', '=cobol=', 'file', 'grace', 'hopper', 'univac.jpg|thumb|hopper', 'univac', 'console', 'c.', '1960', 'spring', '1959', 'computer', 'experts', 'industry', 'government', 'brought', 'together', 'two-day', 'conference', 'known', 'conference', 'data', 'systems', 'languages', 'codasyl', 'hopper', 'served', 'technical', 'consultant', 'committee', 'many', 'former', 'employees', 'served', 'short-term', 'committee', 'defined', 'new', 'language', 'cobol', 'acronym', \"''\", 'co', \"''\", \"'mmon\", \"''\", 'b', \"''\", \"'usiness-\", \"''\", \"'o\", \"''\", \"'riented\", \"''\", 'l', \"''\", \"'anguage\", 'new', 'language', 'extended', 'hopper', \"'s\", 'flow-matic', 'language', 'ideas', 'ibm', 'equivalent', 'comtran', 'hopper', \"'s\", 'belief', 'programs', 'written', 'language', 'close', 'english', 'rather', 'machine', 'code', 'languages', 'close', 'machine', 'code', 'assembly', 'languages', 'captured', 'new', 'business', 'language', 'cobol', 'went', 'ubiquitous', 'business', 'language', 'date.', 'ref', 'name=', \"''\", 'kwb', \"''\", 'cite', 'book', '|last=beyer', '|first=kurt', 'w.', '|title=grace', 'hopper', 'invention', 'information', 'age', '|accessdate=', '|edition=', '|year=2009', '|publisher=mit', 'press', '|location=cambridge', 'massachusetts', '|isbn=978-0-262-01310-9', '1967', '1977', 'hopper', 'served', 'director', 'navy', 'programming', 'languages', 'group', 'navy', \"'s\", 'office', 'information', 'systems', 'planning', 'promoted', 'rank', 'captain', 'united', 'states', 'o-6', '|captain', '1973.', 'ref', 'name=', \"''\", 'kbw', \"''\", 'developed', 'validation', 'software', 'cobol', 'compiler', 'part', 'cobol', 'standardization', 'program', 'entire', 'navy.', 'ref', 'name=', \"''\", 'kbw', \"''\", '=standards=', '1970s', 'hopper', 'advocated', 'defense', 'department', 'replace', 'large', 'centralized', 'systems', 'networks', 'small', 'distributed', 'computers', 'user', 'computer', 'node', 'could', 'access', 'common', 'databases', 'located', 'network.', 'ref', 'name=', \"''\", 'mcgee2004', \"''\", 'cite', 'book', '|last=mcgee', '|first=russell', 'c.|title=my', 'adventure', 'dwarfs', 'personal', 'history', 'mainframe', 'computers', '|url=http', '//www.cbi.umn.edu/hostedpublications/pdf/mcgee_book-4.2.2.pdf', '|publisher=charles', 'babbage', 'institute', '|location=university', 'minnesota', '|date=2004', '|accessdate=may', '7', '2014', 'rp|119', 'developed', 'implementation', 'standardization|standards', 'testing', 'computer', 'systems', 'components', 'significantly', 'early', 'programming', 'languages', 'fortran', 'cobol', 'navy', 'tests', 'conformance', 'standards', 'led', 'significant', 'convergence', 'among', 'programming', 'language', 'dialects', 'major', 'computer', 'vendors', '1980s', 'tests', 'official', 'administration', 'assumed', 'national', 'bureau', 'standards', 'nbs', 'known', 'today', 'national', 'institute', 'standards', 'technology', 'nist', 'retirement', 'file', 'grace', 'hopper', 'promoted', 'commodore.jpeg|thumb|left|upright|hopper', 'promoted', 'rank', 'commodore', '1983', 'accordance', 'navy', 'attrition', 'regulations', 'hopper', 'retired', 'naval', 'reserve', 'rank', 'commander', 'united', 'states', '|commander', 'age', '60', 'end', '1966.', 'ref', 'name=', \"''\", 'urlattrition/retirement', \"''\", 'cite', 'web', '|title=attrition/retirement', '|url=http', '//www.public.navy.mil/bupers-npc/career/reservepersonnelmgmt/officers/pages/attritionretirement.aspx', '|accessdate=april', '29', '2013', 'recalled', 'active', 'duty', 'august', '1967', 'six-month', 'period', 'turned', 'indefinite', 'assignment', 'retired', '1971', 'asked', 'return', 'active', 'duty', '1972.', 'promoted', 'captain', 'u.s.', 'navy', '|captain', '1973', 'admiral', 'united', 'states', '|admiral', 'elmo', 'r.', 'zumwalt', 'jr.', 'ref', 'name=navybio/', 'republican', 'party', 'united', 'states', '|republican', 'representative', 'philip', 'crane', 'saw', 'march', '1983', 'segment', \"''60\", 'minutes', \"''\", 'championed', 'usbill|98|h.j.res|341', 'joint', 'resolution', 'law', '|resolution', 'originating', 'united', 'states', 'house', 'representatives|house', 'representatives', 'led', 'promotion', 'commodore', 'united', 'states', '|commodore', 'admiral', 'o-7', 'special', 'presidential', 'appointment.', 'ref', 'name=navybio', 'cite', 'web', '|url=http', '//www.history.navy.mil/research/histories/bios/hopper-grace.html', '|title=rear', 'admiral', 'grace', 'murray', 'hopper', 'usn', '|accessdate=may', '28', '2007', '|work=biographies', 'naval', 'history', '|publisher=united', 'states', 'navy', 'naval', 'historical', 'center', 'cite', 'web', '|url=http', '//www.history.navy.mil/photos/pers-us/uspers-h/g-hoppr7.htm|title=rear', 'admiral', 'grace', 'murray', 'hopper', 'usnr', '1906–1992', 'informal', 'images', 'taken', '1980s|quote=commodore', 'grace', 'm.', 'hopper', 'usnr', 'receives', 'congratulations', 'president', 'ronald', 'reagan', 'following', 'promotion', 'rank', 'captain', 'commodore', 'ceremonies', 'white', 'house', '15', 'december', '1983', '|accessdate=july', '2', '2013', '|work=biographies', 'naval', 'history', '|publisher=united', 'states', 'navy', 'naval', 'historical', 'center', 'cite', 'web|archiveurl=https', '//web.archive.org/web/20131019185550/http', '//www.defense.gov/specials/reagan/reaganphotoessay/grace_11.html|archivedate=october', '19', '2013|url=http', '//www.defense.gov/specials/reagan/reaganphotoessay/grace_11.html|accessdate=march', '7', '2016', '|title=historic', 'images', 'ronald', 'reagan|quote=president', 'ronald', 'reagan', 'greets', 'navy', 'capt', 'grace', 'hopper', 'arrives', 'white', 'house', 'promotion', 'commodore', 'dec.', '15', '1983.', 'hopper', 'computer', 'technology', 'pioneer.|publisher=u.s', 'defense', 'department', 'ref', 'name=', \"''\", 'davidletterman86', \"''\", 'remained', 'active', 'duty', 'several', 'years', 'beyond', 'mandatory', 'retirement', 'special', 'approval', 'congress', 'cite', 'book|title=american', 'military', 'technology', 'life', 'story', 'technology|first=barton', 'c.|last=hacker|publisher=greenwood', 'publishing', 'group|year=2006|isbn=9780313333088|page=131|url=https', '//books.google.com/books', 'id=ufpinqqfj_gc', 'pg=pa131', 'effective', 'november', '8', '1985', 'rank', 'commodore', 'renamed', 'rear', 'admiral', 'united', 'states', '|rear', 'admiral', 'lower', 'half', 'hopper', 'became', 'one', 'navy', \"'s\", 'female', 'admirals', 'admiral', 'hopper', 'retired', 'involuntarily', 'navy', 'august', '14', '1986', 'career', '42', 'years', 'celebration', 'held', 'boston', 'uss|constitution', 'commemorate', 'retirement', 'hopper', 'awarded', 'defense', 'distinguished', 'service', 'medal', 'highest', 'non-combat', 'decoration', 'awarded', 'department', 'defense', 'time', 'retirement', 'oldest', 'active-duty', 'commissioned', 'officer', 'united', 'states', 'navy', '79', 'years', 'eight', 'months', 'five', 'days', 'aboard', 'oldest', 'commissioned', 'ship', 'united', 'states', 'navy', '188', 'years', 'nine', 'months', '23', 'days', 'cite', 'news|work=detroit', 'free', 'press', '|date=', 'august', '15', '1986', '|page=', '4a', '|url=http', '//www.waterholes.com/~dennette/1996/hopper/860815.htm', '|title=computer', 'whiz', 'retires', 'navy', '|agency=united', 'press', 'international', 'admirals', 'william', 'd.', 'leahy', 'chester', 'w.', 'nimitz', 'hyman', 'g.', 'rickover', 'charles', 'stewart', '1778–1869', '|charles', 'stewart', 'officers', 'navy', \"'s\", 'history', 'serve', 'active', 'duty', 'higher', 'age', 'leahy', 'nimitz', 'served', 'active', 'duty', 'life', 'due', 'promotions', 'rank', 'fleet', 'admiral', 'united', 'states', '|fleet', 'admiral', 'post', 'retirement', 'following', 'retirement', 'navy', 'hired', 'senior', 'consultant', 'digital', 'equipment', 'corporation', 'dec', 'position', 'retained', 'death', '1992', 'aged', '85.', 'primary', 'activity', 'capacity', 'goodwill', 'ambassador', 'lecturing', 'widely', 'early', 'days', 'computers', 'career', 'efforts', 'computer', 'vendors', 'could', 'take', 'make', 'life', 'easier', 'users', 'visited', 'digital', \"'s\", 'engineering', 'facilities', 'generally', 'received', 'standing', 'ovation', 'conclusion', 'remarks', 'often', 'recounted', 'service', 'frequently', 'asked', 'admirals', 'generals', 'satellite', 'communication', 'would', 'take', 'long', 'many', 'lectures', 'illustrated', 'nanosecond', 'using', 'salvaged', 'obsolete', 'bell', 'system', '25', 'pair', 'telephone', 'cable', 'cut', '11.8', 'nbsp', 'inch', '30', 'nbsp', 'cm', 'lengths', 'light-nanosecond|the', 'distance', 'light', 'travels', 'one', 'nanosecond', 'handed', 'individual', 'wires', 'listeners', 'although', 'longer', 'serving', 'officer', 'always', 'wore', 'navy', 'full', 'dress', 'uniform', 'lectures', 'allowed', 'us', 'navy', 'uniform', 'regulations', 'quote|the', 'important', 'thing', \"'ve\", 'accomplished', 'building', 'compiler', 'training', 'young', 'people', 'come', 'know', 'say', \"'do\", 'think', 'say', '``', 'try', \"''\", 'back', \"'em\", 'need', 'keep', 'track', 'get', 'older', 'stir', \"'em\", 'intervals', \"n't\", 'forget', 'take', 'chances', 'cite', 'book', '|last=gilbert', '|first=lynn', '|title=particular', 'passions', 'grace', 'murray', 'hopper', '|series=women', 'wisdom', 'series', '|edition=1st', '|date=december', '10', '2012', '|publisher=lynn', 'gilbert', 'inc.', '|location=new', 'york', 'city', '|isbn=978-1-61979-403-0', 'death', 'hopper', 'died', 'sleep', 'natural', 'causes', 'new', 'year', \"'s\", 'day', '1992', 'home', 'arlington', 'virginia', '85', 'years', 'age', 'interred', 'full', 'military', 'honors', 'arlington', 'national', 'cemetery', 'find', 'grave|1784|radm', 'grace', 'brewster', \"''murray\", \"''\", 'hopper', 'dates', 'rank', 'ensign', 'december', '1943', 'lieutenant', 'junior', 'grade', 'june', '27', '1944', 'lieutenant', 'january', '1', '1946', 'lieutenant', 'commander', 'april', '1', '1952', 'commander', 'july', '1', '1957', 'retired', 'december', '31', '1966', 'recalled', 'active', 'duty', 'august', '1967', 'retired', '1971', 'recalled', 'active', 'duty', '1972', 'captain', 'august', '2', '1973', 'commodore', 'december', '15', '1983', 'rear', 'admiral', 'lower', 'half', 'november', '8', '1985', 'final', 'retirement', 'august', '31', '1986', 'awards', 'honors', '=military', 'awards=', 'center', '|colspan=', \"''\", '2', \"''\", 'align=', \"''\", 'left', \"''\", 'ribbon', 'devices|number=0|type=oak|ribbon=defense', 'distinguished', 'service', 'medal', 'ribbon.svg', 'border|width=106', '|colspan=', \"''\", '2', \"''\", 'align=', \"''\", 'center', \"''\", 'ribbon', 'devices|ribbon=legion', 'merit', 'ribbon.svg', 'border|width=106', '|colspan=', \"''\", '2', \"''\", 'align=', \"''\", 'left', \"''\", 'ribbon', 'devices|number=0|type=oak|ribbon=meritorious', 'service', 'medal', 'ribbon.svg', 'border|width=106', '|-', '|colspan=', \"''\", '2', \"''\", 'align=', \"''\", 'left', \"''\", 'ribbon', 'devices|number=0|type=oak|ribbon=presidential', 'medal', 'freedom', 'ribbon', '.png', 'border|width=106', '|colspan=', \"''\", '2', \"''\", 'center', 'ribbon', 'devices|ribbon=american', 'campaign', 'medal', 'ribbon.svg', 'border|width=106', '/center', '|colspan=', \"''\", '2', \"''\", 'center', 'ribbon', 'devices|ribbon=world', 'war', 'ii', 'victory', 'medal', 'ribbon.svg', 'border|width=106', '/center', '|-', '|colspan=', \"''\", '2', \"''\", 'center', 'ribbon', 'devices|number=1|type=service-star|ribbon=national', 'defense', 'service', 'medal', 'ribbon.svg', 'border|width=106', '/center', '|colspan=', \"''\", '2', \"''\", 'center', 'ribbon', 'devices|ribbon=armed', 'forces', 'reserve', 'medal', 'ribbon.svg', 'border|width=106', '/center', '|colspan=', \"''\", '2', \"''\", 'center', 'ribbon', 'devices|ribbon=naval', 'reserve', 'medal', 'ribbon.svg', 'border|width=106', '/center', 'class=', \"''\", 'wikitable', \"''\", 'top', 'row', '|colspan=', \"''\", '2', \"''\", 'align=', \"''\", 'center', \"''\", 'center', 'defense', 'distinguished', 'service', 'medal', 'br', '1986', '/center', '|colspan=', \"''\", '2', \"''\", 'align=', \"''\", 'center', \"''\", 'center', 'legion', 'merit', 'br', '1967', '/center', '|colspan=', \"''\", '2', \"''\", 'align=', \"''\", 'center', \"''\", 'center', 'meritorious', 'service', 'medal', 'united', 'states', '|meritorious', 'service', 'medal', 'br', '1980', '/center', '|-', '2nd', 'row', '|colspan=', \"''\", '2', \"''\", 'align=', \"''\", 'center', \"''\", 'center', 'presidential', 'medal', 'freedom', 'br', '2016', 'posthumous', '/center', '|colspan=', \"''\", '2', \"''\", 'align=', \"''\", 'center', \"''\", 'center', 'american', 'campaign', 'medal', 'br', '1944', '/center', '|colspan=', \"''\", '2', \"''\", 'align=', \"''\", 'center', \"''\", 'center', 'world', 'war', 'ii', 'victory', 'medal', 'br', '1945', '/center', '|-', 'bottom', 'row', '|colspan=', \"''\", '2', \"''\", 'align=', \"''\", 'center', \"''\", 'center', 'national', 'defense', 'service', 'medal', 'br', 'bronze', 'service', 'star', 'br', '1953', '1966', '/center', '|colspan=', \"''\", '2', \"''\", 'align=', \"''\", 'center', \"''\", 'center', 'armed', 'forces', 'reserve', 'medal', 'br', 'two', 'bronze', 'hourglasses', 'br', '1963', '1973', '1993', '/center', '|colspan=', \"''\", '2', \"''\", 'align=', \"''\", 'center', \"''\", 'center', 'naval', 'reserve', 'medal', 'br', '1953', '/center', '/center', '=other', 'awards=', '1964', 'hopper', 'awarded', 'society', 'women', 'engineers', 'achievement', 'award', 'society', '’', 'highest', 'honor', '“', 'recognition', 'significant', 'contributions', 'burgeoning', 'computer', 'industry', 'engineering', 'manager', 'originator', 'automatic', 'programming', 'systems.', '”', 'cite', 'web|url=http', '//philadelphia.swe.org/first-ladies.html|title=first', 'ladies', '1969', 'hopper', 'awarded', 'inaugural', 'association', 'information', 'technology', 'professionals|data', 'processing', 'management', 'association', 'man', 'year', 'award', 'called', 'distinguished', 'information', 'sciences', 'award', 'cite', 'web|url=http', '//www.aitp.org/', 'disa|title=disa', 'recipients', 'association', 'information', 'technology', 'professionals|accessdate=june', '28', '2016', '1971', 'annual', 'grace', 'murray', 'hopper', 'award|grace', 'murray', 'hopper', 'award', 'outstanding', 'young', 'computer', 'professionals', 'established', '1971', 'association', 'computing', 'machinery', '1973', 'first', 'american', 'first', 'woman', 'nationality', 'made', 'dfbcs|distinguished', 'fellow', 'british', 'computer', 'society', '1982', 'american', 'association', 'university', 'women', 'achievement', 'award', 'honorary', 'doctor', 'science', 'marquette', 'university', 'cite', 'web|url=http', '//www.marquette.edu/universityhonors/honorary_degrees_recipients_year.shtml', '|title=honorary', 'degrees', 'university', 'honors', 'marquette', 'university', '|publisher=marquette.edu', '|accessdate=august', '19', '2014', '1985', 'honorary', 'doctor', 'letters', 'western', 'new', 'england', 'college', 'western', 'new', 'england', 'university', 'cite', 'web|url=http', '//computer.org/computer-pioneers/hopper.html', '|title=computer', 'pioners', '|publisher=computerhistory.org', '|accessdate=may', '17', '2014', 'cite', 'web|url=http', '//www1.wne.edu/assets/10/wne_history.pdf|title=western', 'new', 'england', 'college', 'university', 'retrospective', '1919-2011', '|publisher=western', 'new', 'england', 'university', '|accessdate=may', '21', '2014', '1986', 'upon', 'retirement', 'received', 'defense', 'distinguished', 'service', 'medal', '1987', 'first', 'computer', 'history', 'museum', 'fellow', 'award', 'recipient', '``', 'contributions', 'development', 'programming', 'languages', 'standardization', 'efforts', 'lifelong', 'naval', 'service', '``', 'cite', 'web|url=http', '//www.computerhistory.org/fellowawards/hall/bios/grace', 'hopper/', '|title=grace', 'hopper', 'computer', 'history', 'museum', 'fellow', 'award', 'recipient', '|publisher=computerhistory.org', '|accessdate=march', '30', '2015', '1988', 'golden', 'gavel', 'award', 'toastmasters', 'international', 'convention', 'washington', 'dc', '1991', 'national', 'medal', 'technology', '1991', 'elected', 'fellow', 'american', 'academy', 'arts', 'sciences.', 'ref', 'name=aaas', 'cite', 'web|title=book', 'members', '1780–2010', 'chapter', 'h|url=http', '//www.amacad.org/publications/bookofmembers/chapterh.pdf|publisher=american', 'academy', 'arts', 'sciences|accessdate=july', '22', '2014', '1996', 'uss|hopper|ddg-70', 'launched', 'nicknamed', \"''amazing\", 'grace', \"''\", 'short', 'list', 'u.s.', 'military', 'vessels', 'named', 'women', '2001', 'eavan', 'boland', 'wrote', 'poem', 'dedicated', 'grace', 'hopper', 'titled', '``', 'code', \"''\", '2001', 'release', \"''against\", 'love', 'poetry', \"''\", '2001', 'gracies', 'government', 'technology', 'leadership', 'award', 'named', 'honor', 'cite', 'web|title=the', '2002', 'government', 'technology', 'leadership', 'awards|url=http', '//www.govexec.com/technology/2002/04/the-2002-government-technology-leadership-awards/7622/|publisher=government', 'executive|accessdate=may', '20', '2014|date=april', '1', '2002', '2009', 'department', 'energy', \"'s\", 'national', 'energy', 'research', 'scientific', 'computing', 'center', 'named', 'flagship', 'system', '``', 'hopper', \"''\", 'cite', 'web', '|url=http', '//www.nersc.gov/nusers/systems/hopper/', '|title=hopper', 'home', 'page', '|publisher=nersc.gov', '2009', 'office', 'naval', 'intelligence', 'creates', 'grace', 'hopper', 'information', 'services', 'center', 'citation|title=naval', 'intelligence', 'ramps', 'activities', 'date=february', '2009', 'author=robert', 'k.', 'ackerman', 'journal=signals', 'publisher=afcea', 'url=http', '//www.afcea.org/content/', 'q=node/1831', '2013', 'google', 'made', 'google', 'doodle', 'hopper', \"'s\", '107th', 'birthday', 'animation', 'sitting', 'computer', 'using', 'cobol', 'print', 'age', 'end', 'animation', 'moth', 'flies', 'computer.', 'ref', 'name=', \"''\", 'google', 'doodle', \"''\", 'cite', 'web', '|url=', 'https', '//www.google.com/doodles/grace-hoppers-107th-birthday|title=grace', 'hopper', \"'s\", '107th', 'birthday', '|publisher=google', '|accessdate=', 'december', '9', '2013', 'cite', 'news', '|url=', 'http', '//www.telegraph.co.uk/technology/google/google-doodle/10505145/grace-hopper-honoured-with-google-doodle.html', '|title=grace', 'hopper', 'honoured', 'google', 'doodle', '|author=matthew', 'sparkes', '|work=the', 'daily', 'telegraph', '|location=', 'london', '|date=december', '9', '2013', '|accessdate=december', '9', '2013', '2016', 'november', '22', '2016', 'hopper', 'posthumously', 'awarded', 'presidential', 'medal', 'freedom', 'accomplishments', 'field', 'computer', 'science', 'cite', 'web|url=http', '//www.npr.org/sections/thetwo-way/2016/11/16/502347068/these-are-the-21-people-receiving-the-nations-highest-civilian-honor|title=these', '21', 'people', 'receiving', 'nation', \"'s\", 'highest', 'civilian', 'honor|last=|first=|date=november', '16', '2016|website=npr.org|publisher=|access-date=november', '16', '2016', 'legacy', 'february', '11', '2017', 'yale', 'university', 'announced', 'intent', 'rename', 'calhoun', 'college', 'one', 'twelve', 'undergraduate', 'residential', 'colleges', 'hopper', 'following', 'years', 'controversy', 'previous', 'namesake', 'john', 'c.', 'calhoun', 'hopper', 'graduate', 'yale', 'university', 'receiving', 'm.a', '1930', 'ph.d', '1934', \"''\", 'grace', 'hopper', 'celebration', 'women', 'computing', \"''\", 'convention', 'women', 'field', 'computer', 'science', 'technology', 'named', 'hopper', 'honor', 'work', 'influence', 'field', 'computing', 'push', 'women', 'enter', 'stay', 'tech', 'field', 'features', 'wide', 'array', 'educational', 'professional', 'development', 'courses', 'workshops', 'including', 'lesson', 'compilers', 'hopper', 'invented', 'pioneered', 'career', 'fair', 'order', 'help', 'connect', 'women', 'computing', 'field', 'potential', 'employers', 'navy', \"'s\", 'fleet', 'numerical', 'meteorology', 'oceanography', 'center', 'located', '7', 'grace', 'hopper', 'avenue', 'monterey', 'california', 'national', 'weather', 'service', \"'s\", 'san', 'francisco', 'monterey', 'bay', 'area', 'hydrology', 'geomorphology', 'office', '21', 'grace', 'hopper', 'avenue', 'grace', 'm.', 'hopper', 'navy', 'regional', 'data', 'automation', 'center', 'naval', 'air', 'station', 'north', 'island', 'california', \"''grace\", 'murray', 'hopper', 'park', \"''\", 'located', 'south', 'joyce', 'street', 'arlington', 'virginia', 'small', 'memorial', 'park', 'front', 'former', 'residence', 'river', 'house', 'apartments', 'owned', 'arlington', 'county', 'virginia', 'women', 'microsoft', 'corporation', 'formed', 'employee', 'group', 'called', 'hoppers', 'established', 'scholarship', 'honor', 'hoppers', '3000', 'members', 'worldwide', 'brewster', 'academy', 'school', 'located', 'wolfeboro', 'new', 'hampshire', 'united', 'states', 'dedicated', 'computer', 'lab', '1985', 'calling', 'grace', 'murray', 'hopper', 'center', 'computer', 'learning.', 'ref', 'name=navybio/', 'academy', 'bestows', 'grace', 'murray', 'hopper', 'prize', 'graduate', 'excelled', 'field', 'computer', 'systems', 'cite', 'web|url=http', '//www.brewsteracademy.org/customized/uploads/documents/summer2007correctedwithcovers.pdf|title=brewster', 'connections', 'summer', '2007', 'hopper', 'spent', 'childhood', 'summers', 'family', 'home', 'wolfeboro', 'administration', 'building', 'naval', 'support', 'activity', 'annapolis', 'previously', 'known', 'naval', 'station', 'annapolis', 'annapolis', 'maryland', 'named', 'grace', 'hopper', 'building', 'honor.', 'ref', 'name=navybio/', 'walter', 'e.', 'carter', 'jr.|vice', 'admiral', 'walter', 'e.', '``', 'ted', \"''\", 'carter', 'announced', '8', 'september', '2016', 'athena', 'conference', 'united', 'states', 'naval', 'academy|naval', 'academy', \"'s\", 'newest', 'cyber', 'operations', 'building', 'would', 'named', 'hopper', 'hall', 'admiral', 'grace', 'hopper', 'first', 'building', 'service', 'academy', 'named', 'woman', 'words', '``', 'grace', 'hopper', 'admiral', 'cyber', 'seas', \"''\", 'us', 'naval', 'academy', 'also', 'owns', 'cray', 'xc-30', 'supercomputer', 'named', '``', 'grace', \"''\", 'hosted', 'university', 'maryland-college', 'park', 'cite', 'web|url=https', '//www.hpc.mil/index.php/2013-08-29-16-06-21/press-releases/us-naval-academy-dedicates-new-supercomputer|title=us', 'naval', 'academy', 'dedicates', 'new', 'supercomputer', 'building', '1482', 'aboard', 'naval', 'air', 'station', 'north', 'island', 'housing', 'naval', 'computer', 'telecommunication', 'station', 'san', 'diego', 'named', 'grace', 'hopper', 'building', 'building', '6007', 'c2/cnt', 'west', 'command', 'control', 'communications', 'computers', 'intelligence', 'surveillance', 'reconnaissance', 'c4istar|c4isr', 'center', 'excellence', 'aberdeen', 'proving', 'ground', 'maryland', 'named', 'rear', 'admiral', 'grace', 'hopper', 'building', 'named', 'professorship', 'department', 'computer', 'sciences', 'established', 'yale', 'university', 'honor', 'joan', 'feigenbaum', 'named', 'chair', '2008.yale', 'news', 'july', '18', '2008', 'grace', 'hopper', \"'s\", 'legacy', 'inspiring', 'factor', 'creation', 'grace', 'hopper', 'celebration', 'women', 'computing', 'cite', 'web|url=http', '//www.gracehopper.org/', '|title=grace', 'hopper', 'celebration', 'women', 'computing', '|publisher=gracehopper.org', '|accessdate=december', '9', '2013', 'held', 'yearly', 'conference', 'designed', 'bring', 'research', 'career', 'interests', 'women', 'computing', 'forefront', 'grace', 'hopper', 'academy', 'for-profit', 'immersive', 'programming', 'school', 'new', 'york', 'city', 'named', 'grace', 'hopper', \"'s\", 'honor', 'opened', 'january', '2016', 'goal', 'increasing', 'proportion', 'women', 'software', 'engineering', 'careers', 'cite', 'web|title', 'grace', 'hopper', 'academy|url', 'http', '//gracehopper.com/|website', 'gracehopper.com|accessdate', '2015-10-15', 'cite', 'web|title', 'exclusive', 'grace', 'hopper', 'academy', 'all-women', 'coding', 'school', 'open', 'new', 'york|url', 'http', '//www.ibtimes.com/exclusive-grace-hopper-academy-all-women-coding-school-open-new-york-2141588|website', 'international', 'business', 'times|accessdate', '2015-10-15', 'bridge', 'goose', 'creek', 'joining', 'north', 'south', 'sides', 'naval', 'support', 'activity', 'charleston', 'side', 'joint', 'base', 'charleston', 'south', 'carolina', 'named', 'grace', 'hopper', 'memorial', 'bridge', 'honor', 'cite', 'web', '|url=http', '//www.charleston.af.mil/news/story.asp', 'id=123293768', '|title=women', \"'s\", 'history', 'month', 'beyond', 'bridge', 'story', \"'amazing\", 'grace', 'hopper', '|first1=tom', '|last1=brading', '|date=march', '13', '2012', '|accessdate=february', '12', '2013', 'grace', 'hopper', 'awarded', '40', 'honorary', 'degrees', 'universities', 'worldwide', 'lifetime', 'cite', 'web|url=http', '//web.mit.edu/invent/iow/hopper.html', '|title=inventor', 'week', 'archive', '|publisher=web.mit.edu', '|accessdate=december', '9', '2013', 'cite', 'web|url=http', '//www-history.mcs.st-and.ac.uk/biographies/hopper.html', '|title=hopper', 'biography', '|publisher=history.mcs.st-and.ac.uk', '|accessdate=december', '9', '2013', 'cite', 'web|url=http', '//www.history.navy.mil/bios/hopper_grace.htm', 'honors', '|title=biography', 'nbsp', '–', 'rear', 'admiral', 'grace', 'murray', 'hopper', 'usn', '|publisher=united', 'states', 'navy', '|accessdate=december', '9', '2013', 'beginning', '2015', 'one', 'nine', 'competition', 'fields', 'first', 'robotics', 'competition', 'world', 'championship', 'named', 'hopper', 'cite', 'web|', 'title', 'new', 'subdivision', 'names|', 'work', 'first', 'robotics', 'corporation|', 'accessdate', '2016-03-16|', 'date', '2015-02-09|', 'url', 'http', '//www.firstinspires.org/node/7951', \"''born\", 'curiosity', 'grace', 'hopper', 'story', \"''\", 'upcoming', 'documentary', 'film', 'imdb', 'title|3545258|born', 'curiosity', 'grace', 'hopper', 'story', 'anecdotes', 'file', 'h96566k.jpg|thumb|photo', '``', 'first', 'software', 'bug|computer', 'bug', \"''\", 'throughout', 'much', 'later', 'career', 'hopper', 'much', 'demand', 'speaker', 'various', 'computer-related', 'events', 'well', 'known', 'lively', 'irreverent', 'speaking', 'style', 'well', 'rich', 'treasury', 'early', 'war', 'stories', 'also', 'received', 'nickname', '``', 'grandma', 'cobol', \"''\", 'working', 'harvard', 'mark', 'ii|mark', 'ii', 'computer', 'us', 'navy', 'research', 'lab', 'dahlgren', 'virginia', '1947', 'associates', 'discovered', 'moth', 'stuck', 'relay', 'impeding', 'operation', 'neither', 'hopper', 'crew', 'mentioned', 'phrase', '``', 'debugging', \"''\", 'logs', 'case', 'held', 'instance', 'literal', '``', 'debugging', \"''\", 'perhaps', 'first', 'history', 'term', \"''computer\", 'bug|bug', \"''\", 'use', 'many', 'years', 'engineering.edison', 'puskas', 'november', '13', '1878', 'edison', 'papers', 'edison', 'national', 'laboratory', 'u.s.', 'national', 'park', 'service', 'west', 'orange', 'n.j.', 'cited', 'thomas', 'p.', 'hughes', \"''american\", 'genesis', 'history', 'american', 'genius', 'invention', \"''\", 'penguin', 'books', '1989', 'isbn', '0-14-009741-4', 'page', '75', 'cite', 'web', '|url=http', '//theinstitute.ieee.org/technology-focus/technology-history/did-you-know-edison-coined-the-term-bug', '|title=did', 'know', 'edison', 'coined', 'term', '``', 'bug', \"''\", '|author=alexander', 'magoun', 'paul', 'israel', '|date=august', '23', '2013', '|accessdate=august', '27', '2013', '|work=ieee', 'institute', '|archiveurl=https', '//web.archive.org/web/20160304130915/http', '//theinstitute.ieee.org/technology-focus/technology-history/did-you-know-edison-coined-the-term-bug', '|archivedate=march', '4', '2016', '|deadurl=yes', '|df=mdy-all', 'remains', 'moth', 'found', 'group', \"'s\", 'log', 'book', 'smithsonian', 'institution', \"'s\", 'national', 'museum', 'american', 'history', 'washington', 'd.c.', 'cite', 'web|url=http', '//americanhistory.si.edu/collections/search/object/nmah_334663|title=log', 'book', 'computer', 'bug|work=national', 'museum', 'american', 'history|accessdate=may', '7', '2014', 'grace', 'hopper', 'famous', \"''nanoseconds\", \"''\", 'visual', 'aid', 'people', 'generals', 'admirals', 'used', 'ask', 'satellite', 'communication', 'took', 'long', 'started', 'handing', 'pieces', 'wire', 'one', 'foot', 'long', '11.80', 'inches', '—the', 'distance', 'light', 'travels', 'one', 'nanosecond', 'gave', 'pieces', 'wire', 'metonymy|metonym', '``', 'nanoseconds', '``', 'ref', 'name=', \"''\", 'davidletterman86', \"''\", 'cite', 'episode', 'title', 'late', 'night', 'david', 'letterman', 'series', 'late', 'night', 'david', 'letterman|', 'serieslink', 'late', 'night', 'david', 'letterman|', 'network', 'nbc|', 'location', 'new', 'york', 'city|', 'airdate', 'october', '2', '1986|', 'season', '5|', 'number', '771|quote=', \"''\", 'president', 'ronald', 'reagan', 'promotion', 'sir', '...', \"'m\", 'older', '...', 'youtube', 'title', 'grace', 'hopper', 'letterman', 'careful', 'tell', 'audience', 'length', 'nanoseconds', 'actually', 'maximum', 'speed', 'signals', 'would', 'travel', 'vacuum', 'signals', 'would', 'travel', 'slowly', 'actual', 'wires', 'teaching', 'aids', 'later', 'used', 'pieces', 'wire', 'illustrate', 'computers', 'small', 'fast', 'many', 'talks', 'visits', 'handed', '``', 'nanoseconds', \"''\", 'everyone', 'audience', 'contrasting', 'coil', 'wire', '984', 'feet', 'long', 'nano', 'seconds', 'lecture', 'grace', 'hopper', 'https', '//www.youtube.com/watch', 'v=jepsknwzrj8', 'representing', 'microsecond', 'later', 'giving', 'lectures', 'working', 'dec', 'passed', 'packets', 'pepper', 'calling', 'individual', 'grains', 'ground', 'pepper', 'picoseconds', 'jay', 'elliot', 'described', 'grace', 'hopper', 'appearing', '``', \"'all\", 'navy', 'reach', 'inside', 'find', \"'pirate\", 'dying', 'released', \"''\", 'cite', 'book|first1', 'jay|last1', 'elliott|first2', 'william', 'l.|last2', 'simon|year', '2011|title', 'steve', 'jobs', 'way', 'ileadership', 'new', 'generation|place', 'philadelphia|publisher', 'vanguard|page', '71|isbn', '978-1-59315-639-8', 'obituary', 'notices', 'betts', 'mitch', \"''computerworld\", \"''\", '26', '14', '1992', 'bromberg', 'howard', \"''ieee\", 'software', \"''\", '9', '103–104', '1992', 'danca', 'richard', \"''federal\", 'computer', 'week', \"''\", '6', '26–27', '1992', 'hancock', 'bill', \"''digital\", 'review', \"''\", '9', '40', '1992', 'power', 'kevin', \"''government\", 'computer', 'news', \"''\", '11', '70', '1992', 'jean', 'e.', 'sammet|sammet', 'j.', 'e.', \"''communications\", 'acm', \"''\", '35', '4', '128–131', '1992', 'weiss', 'eric', \"''ieee\", 'annals', 'history', 'computing', \"''\", '14', '56–58', '1992', 'see', 'also', 'portal|united', 'states', 'navy|software', 'testing|biography', 'grace', 'hopper', 'celebration', 'women', 'computing', 'women', 'computing', 'women', 'united', 'states', 'navy', 'systems', 'engineering', \"''code\", 'debugging', 'gender', 'gap', \"''\", 'list', 'pioneers', 'computer', 'science', 'references', 'reflist|30em', 'reading', 'cite', 'book', '|last=beyer', '|first=kurt', 'w.', '|title=grace', 'hopper', 'invention', 'information', 'age', '|edition=1st', '|date=september', '30', '2009', '|publisher=mit', 'press', '|location=cambridge', 'massachusetts', '|isbn=978-0-262-01310-9', 'cite', 'book', '|last=marx', '|first=christy', '|authorlink=christy', 'marx', '|title=grace', 'hopper', 'first', 'woman', 'program', 'first', 'computer', 'united', 'states', 'edition=1st', '|series=women', 'hall', 'famers', 'mathematics', 'science', 'date=august', '2003', '|publisher=rosen', 'publishing', 'group', '|location=new', 'york', 'city', '|isbn=978-0-8239-3877-3', 'cite', 'web', '|url=http', '//www.agnesscott.edu/lriddle/women/hopper.htm', '|title=biographies', 'women', 'mathematicians', 'grace', 'murray', 'hopper', '|last=norman', '|first=rebecca', '|publisher=agnes', 'scott', 'college', '|date=june', '1997', '|accessdate=2014-11-17', 'cite', 'book', '|last=williams', '|first=kathleen', 'broome', '|title=grace', 'hopper', 'admiral', 'cyber', 'sea', '|edition=1st', '|date=november', '15', '2004', '|publisher=naval', 'institute', 'press', '|location=annapolis', 'maryland', '|isbn=978-1-55750-952-9', 'cite', 'book', '|last=williams', '|first=kathleen', 'broome', '|title=improbable', 'warriors', 'women', 'scientists', 'u.s.', 'navy', 'world', 'war', 'ii', '|accessdate=', '|edition=', '|year=2001', '|publisher=naval', 'institute', 'press', '|location=annapolis', 'maryland', '|isbn=978-1-55750-961-1', 'williams', 'book', 'focuses', 'lives', 'contributions', 'four', 'notable', 'women', 'scientists', 'mary', 'sears', 'oceanographer', '|mary', 'sears', '1905–1997', 'florence', 'van', 'straten', '1913–1992', 'grace', 'murray', 'hopper', '1906–1992', 'mina', 'spiegel', 'rees', '1902–1997', 'external', 'links', 'commons', 'category', 'wikiquote', 'webarchive', '|url=https', '//web.archive.org/web/20100224101438/http', '//www.chips.navy.mil/links/grace_hopper/womn.htm', '|date=february', '24', '2010', '|title=radm', 'grace', 'hopper', 'usn', 'ret', \"''chips\", \"''\", 'united', 'states', 'navy', 'information', 'technology', 'magazine', 'http', '//usnhistory.navylive.dodlive.mil/2014/12/09/grace-hopper-navy-to-the-core-a-pirate-at-heart/', \"''grace\", 'hopper', 'navy', 'core', 'pirate', 'heart', \"''\", '2014', 'learn', 'hopper', \"'s\", 'story', 'navy', 'legacy', 'navy.mil', 'http', '//fivethirtyeight.com/features/the-queen-of-code/', \"''the\", 'queen', 'code', \"''\", '2015', 'documentary', 'film', 'grace', 'hopper', 'produced', 'fivethirtyeight', 'timelines', 'computing', 'software', 'engineering', 'notable', 'women', 'generals', 'u.s.', 'military', 'national', 'women', \"'s\", 'hall', 'fame', 'authority', 'control', 'virginia', 'women', 'history', 'defaultsort', 'hopper', 'grace', 'category', 'american', 'computer', 'programmers', 'category', 'american', 'computer', 'scientists', 'category:1906', 'births', 'category:1992', 'deaths', 'category', 'american', 'women', 'scientists', 'category', 'cobol', 'category', 'programming', 'language', 'designers', 'category', 'women', 'computer', 'scientists', 'category', 'women', 'inventors', 'category', 'women', 'mathematicians', 'category', 'women', 'technology', 'category', 'american', 'military', 'personnel', 'world', 'war', 'ii', 'category', 'american', 'women', 'world', 'war', 'ii', 'category', 'united', 'states', 'navy', 'rear', 'admirals', 'lower', 'half', 'category', 'female', 'admirals', 'united', 'states', 'navy', 'category', 'fellows', 'american', 'academy', 'arts', 'sciences', 'category', 'fellows', 'british', 'computer', 'society', 'category', 'national', 'medal', 'technology', 'recipients', 'category', 'recipients', 'defense', 'distinguished', 'service', 'medal', 'category', 'recipients', 'legion', 'merit', 'category', 'harvard', 'university', 'people', 'category', 'vassar', 'college', 'faculty', 'category', 'people', 'new', 'york', 'city', 'category', 'vassar', 'college', 'alumni', 'category', 'yale', 'university', 'alumni', 'category', 'american', 'people', 'dutch', 'descent', 'category', 'american', 'people', 'scottish', 'descent', 'category', 'burials', 'arlington', 'national', 'cemetery', 'category:20th-century', 'american', 'engineers', 'category:20th-century', 'american', 'mathematicians', 'category:20th-century', 'american', 'scientists', 'category:20th-century', 'women', 'scientists', 'category', 'presidential', 'medal', 'freedom', 'recipients', 'category', 'phi', 'beta', 'kappa', 'members'], ['redirect|computer', 'system||computer', 'disambiguation', '|and|computer', 'system', 'disambiguation', 'pp-semi-indef', 'pp-move-indef', 'infobox|title', 'computer', '|image', 'div', 'style=', \"''\", 'white-space', 'nowrap', \"''\", 'file', 'acer', 'aspire', '8920', 'gemstone', 'georgy.jpg|x81pxfile', 'columbia', 'supercomputer', 'nasa', 'advanced', 'supercomputing', 'facility.jpg|x81pxfile', 'intertec', 'superbrain.jpg|x81px', 'br', 'file:2010-01-26-technikkrempel-by-ralfr-05.jpg|x79pxfile', 'thinking', 'machines', 'connection', 'machine', 'cm-5', 'frostburg', '2.jpg|x79pxfile', 'g5', 'supplying', 'wikipedia', 'via', 'gigabit', 'lange', 'nacht', 'der', 'wissenschaften', '2006', 'dresden.jpg|x79px', 'br', 'file', 'dm', 'ibm', 's360.jpg|x77pxfile', 'acorn', 'bbc', 'master', 'series', 'microcomputer.jpg|x77pxfile', 'dell', 'poweredge', 'servers.jpg|x77px', '|caption', 'computers', 'computing', 'devices', 'different', 'eras', '--', 'paragraph', 'currently', 'discussion', 'talk', '--', \"''\", 'computer', \"''\", 'device', 'computer', 'programming|instructed', 'carry', 'arbitrary', 'set', 'arithmetic', 'boolean', 'algebra|logical', 'operations', 'automatically', 'ability', 'computers', 'follow', 'sequence', 'operations', 'called', \"''computer\", 'program|program', \"''\", 'make', 'computers', 'applicable', 'wide', 'range', 'tasks', 'computers', 'used', 'control', 'systems', 'wide', 'variety', 'programmable', 'logic', 'controller|industrial', 'consumer', 'electronics|consumer', 'devices', 'includes', 'simple', 'special', 'purpose', 'devices', 'like', 'microwave', 'ovens', 'remote', 'controls', 'factory', 'devices', 'industrial', 'robots', 'computer', 'assisted', 'design', 'also', 'general', 'purpose', 'devices', 'like', 'personal', 'computers', 'mobile', 'devices', 'smartphones', 'internet', 'run', 'computers', 'connects', 'millions', 'computers', 'since', 'ancient', 'times', 'simple', 'manual', 'devices', 'like', 'abacus', 'aided', 'people', 'calculations', 'early', 'industrial', 'revolution', 'mechanical', 'devices', 'built', 'automate', 'long', 'tedious', 'tasks', 'guiding', 'patterns', 'looms', 'sophisticated', 'electrical', 'machines', 'specialized', 'analogue', 'electronics|analog', 'calculations', 'early', '20th', 'century', 'first', 'digital', 'data|digital', 'electronic', 'calculating', 'machines', 'developed', 'world', 'war', 'ii', 'speed', 'power', 'versatility', 'computers', 'increased', 'continuously', 'dramatically', 'since', 'conventionally', 'modern', 'computer', 'consists', 'least', 'one', 'processing', 'element', 'typically', 'central', 'processing', 'unit', 'cpu', 'form', 'memory', 'computers', '|memory', 'processing', 'element', 'carries', 'arithmetic', 'logical', 'operations', 'sequencing', 'control', 'unit', 'change', 'order', 'operations', 'response', 'stored', 'data|information', 'peripheral|peripheral', 'devices', 'include', 'input', 'devices', 'keyboards', 'mice', 'joystick', 'etc', 'output', 'devices', 'monitor', 'screens', 'printers', 'etc', 'input/output', 'devices', 'perform', 'functions', 'e.g.', '2000s-era', 'touchscreen', 'peripheral', 'devices', 'allow', 'information', 'retrieved', 'external', 'source', 'enable', 'result', 'operations', 'saved', 'retrieved', 'toc', 'limit|3', 'etymology', 'according', \"''oxford\", 'english', 'dictionary', \"''\", 'first', 'known', 'use', 'word', '``', 'computer', \"''\", '1613', 'book', 'called', \"''the\", 'yong', 'mans', 'gleanings', \"''\", 'english', 'writer', 'richard', 'braithwait', '``', 'haue', 'sic', 'read', 'truest', 'computer', 'times', 'best', 'arithmetician', 'euer', 'sic', 'breathed', 'reduceth', 'thy', 'dayes', 'short', 'number', \"''\", 'usage', 'term', 'referred', 'person', 'carried', 'calculations', 'computations', 'word', 'continued', 'meaning', 'middle', '20th', 'century', 'end', '19th', 'century', 'word', 'began', 'take', 'familiar', 'meaning', 'machine', 'carries', 'computations.', 'ref', 'name=oedcomputer', 'cite', 'journal', '|title=computer', \"''n\", \"''\", '|series=oxford', 'english', 'dictionary', '|url=http', '//dictionary.oed.com/', '|publisher=oxford', 'university', 'press', '|edition=2', '|year=1989', '|accessdate=10', 'april', '2009', '|ref=harv', \"''online\", 'etymology', 'dictionary', \"''\", 'gives', 'first', 'attested', 'use', '``', 'computer', \"''\", '``', '1640s', 'meaning', '``', 'one', 'calculates', \"''\", '``', '...', 'nbsp', 'agent', 'noun', 'compute', 'v.', \"''\", \"''online\", 'etymology', 'dictionar', \"''\", 'states', 'use', 'term', 'mean', '``', 'calculating', 'machine', \"''\", 'type', '1897', \"''\", \"''online\", 'etymology', 'dictionary', \"''\", 'indicates', '``', 'modern', 'use', \"''\", 'term', 'mean', '``', 'programmable', 'digital', 'electronic', 'computer', \"''\", 'dates', '``', '...', 'nbsp', '1945', 'name', 'theoretical', 'sense', '1937', 'turing', 'machine', \"''\", 'cite', 'web|url=http', '//www.etymonline.com/index.php', 'term=computer|title=computer', 'n.', '|website=online', 'etymology', 'dictionary', 'history', 'main', 'article|history', 'computing', 'hardware', '=pre-20th', 'century=', 'file', 'os', \"d'ishango\", 'irsnb.jpg|thumb|100px|the', 'ishango', 'bone', 'devices', 'used', 'aid', 'computation', 'thousands', 'years', 'mostly', 'using', 'one-to-one', 'correspondence', 'finger', 'counting|fingers', 'earliest', 'counting', 'device', 'probably', 'form', 'tally', 'stick', 'later', 'record', 'keeping', 'aids', 'throughout', 'fertile', 'crescent', 'included', 'calculi', 'clay', 'spheres', 'cones', 'etc', 'represented', 'counts', 'items', 'probably', 'livestock', 'grains', 'sealed', 'hollow', 'unbaked', 'clay', 'containers.according', 'harvnb|schmandt-besserat|1981', 'clay', 'containers', 'contained', 'tokens', 'total', 'count', 'objects', 'transferred', 'containers', 'thus', 'served', 'something', 'bill', 'lading', 'accounts', 'book', 'order', 'avoid', 'breaking', 'open', 'containers', 'first', 'clay', 'impressions', 'tokens', 'placed', 'outside', 'containers', 'count', 'shapes', 'impressions', 'abstracted', 'stylized', 'marks', 'finally', 'abstract', 'marks', 'systematically', 'used', 'numerals', 'numerals', 'finally', 'formalized', 'numbers', 'eventually', 'http', '//www.laits.utexas.edu/ghazal/chap1/dsb/chapter1.html', 'schmandt-besserat', 'estimates', 'took', '4000', 'years', 'webarchive', '|url=https', '//web.archive.org/web/20120130084757/http', '//www.laits.utexas.edu/ghazal/chap1/dsb/chapter1.html', '|date=30', 'january', '2012', 'marks', 'outside', 'containers', 'needed', 'convey', 'count', 'clay', 'containers', 'evolved', 'clay', 'tablets', 'marks', 'count', 'citation|first=eleanor|last=robson|author-link=eleanor', 'robson|year=2008|title=mathematics', 'ancient', 'iraq|publisher=|isbn=978-0-691-09182-2', 'p.5', 'calculi', 'use', 'iraq', 'primitive', 'accounting', 'systems', 'early', '3200–3000', 'bce', 'commodity-specific', 'counting', 'representation', 'systems', 'balanced', 'accounting', 'use', '3000–2350', 'bce', 'sexagesimal', 'number', 'system', 'use', '2350–2000', 'bce', 'use', 'counting', 'rods', 'one', 'example', 'file', 'abacus', '6.png|thumb|left|the', 'chinese', 'suanpan', '算盘', 'number', 'represented', 'abacus', '6,302,715,408', 'abacus', 'initially', 'used', 'arithmetic', 'tasks', 'roman', 'abacus', 'developed', 'devices', 'used', 'babylonia', 'early', '2400', 'bc', 'since', 'many', 'forms', 'reckoning', 'boards', 'tables', 'invented', 'medieval', 'european', 'counting', 'house', 'checkered', 'cloth', 'would', 'placed', 'table', 'markers', 'moved', 'around', 'according', 'certain', 'rules', 'aid', 'calculating', 'sums', 'money', 'file', 'nama', 'machine', \"d'anticythère\", '1.jpg|thumb|the', 'ancient', 'greek-designed', 'antikythera', 'mechanism', 'dating', '150', '100', 'bc', 'world', \"'s\", 'oldest', 'analog', 'computer', 'antikythera', 'mechanism', 'believed', 'earliest', 'mechanical', 'analog', '``', 'computer', \"''\", 'according', 'derek', 'j.', 'de', 'solla', 'price', 'http', '//www.antikythera-mechanism.gr/project/general/the-project.html', \"''the\", 'antikythera', 'mechanism', 'research', 'project', \"''\", 'antikythera', 'mechanism', 'research', 'project', 'retrieved', '1', 'july', '2007.', 'designed', 'calculate', 'astronomical', 'positions', 'discovered', '1901', 'antikythera', 'wreck', 'greek', 'island', 'antikythera', 'kythera', 'crete', 'dated', \"''circa\", \"''\", '100', 'bc', 'devices', 'level', 'complexity', 'comparable', 'antikythera', 'mechanism', 'would', 'reappear', 'thousand', 'years', 'later', 'many', 'mechanical', 'aids', 'calculation', 'measurement', 'constructed', 'astronomical', 'navigation', 'use', 'planisphere', 'star', 'chart', 'invented', 'abū', 'rayhān', 'al-bīrūnī', 'early', '11th', 'century.', 'ref', 'name=wiet', 'g', 'wiet', 'v.', 'elisseeff', 'p.', 'wolff', 'j.', 'naudu', '1975', \"''history\", 'mankind', 'vol', '3', 'great', 'medieval', 'civilisations', \"''\", 'p.', '649.', 'george', 'allen', 'unwin', 'ltd', 'unesco', 'astrolabe', 'invented', 'hellenistic', 'civilization|hellenistic', 'world', 'either', '1st', '2nd', 'centuries', 'bc', 'often', 'attributed', 'hipparchus', 'combination', 'planisphere', 'dioptra', 'astrolabe', 'effectively', 'analog', 'computer', 'capable', 'working', 'several', 'different', 'kinds', 'problems', 'spherical', 'astronomy', 'astrolabe', 'incorporating', 'mechanical', 'calendar', 'computerfuat', 'sezgin', '``', 'catalogue', 'exhibition', 'institute', 'history', 'arabic-islamic', 'science', 'johann', 'wolfgang', 'goethe', 'university', \"''\", 'frankfurt', 'germany', 'frankfurt', 'book', 'fair', '2004', 'p.35', '38.françois', 'charette', 'archaeology', 'high', 'tech', 'ancient', 'greece', 'nature', '444', '551–552', '30', 'november', '2006', 'doi:10.1038/444551a', 'http', '//www.nature.com/nature/journal/v444/n7119/fig_tab/444551a_f2.html', 'gear-wheels', 'invented', 'abi', 'bakr', 'isfahan', 'persia', '1235', 'cite', 'journal|first1=silvio', 'a.|last1=bedini|first2=francis', 'r.|last2=maddison|year=1966|title=mechanical', 'universe', 'astrarium', 'giovanni', 'de', 'dondi|journal=transactions', 'american', 'philosophical', 'society|volume=56|issue=5|pages=1–69|jstor=1006002|doi=10.2307/1006002', 'abū', 'rayhān', 'al-bīrūnī', 'invented', 'first', 'mechanical', 'geared', 'lunisolar', 'calendar', 'astrolabe', 'cite', 'journal|first=derek', 'de', 's.|last=price|authorlink=derek', 'j.', 'de', 'solla', 'price|year=1984|title=a', 'history', 'calculating', 'machines|journal=ieee', 'micro|volume=4|number=1|pages=22–52|doi=10.1109/mm.1984.291305', 'early', 'fixed-wired', 'knowledge', 'processing', 'machine', 'ref', 'name=oren', 'cite', 'journal|first=tuncer|last=őren|authorlink=tuncer', 'őren|year=2001|title=advances', 'computer', 'information', 'sciences', 'abacus', 'holonic', 'agents|url=http', '//www.site.uottawa.ca/~oren/pubs/pubs-2001-02-tubitak.pdf|journal=turk', 'j', 'elec', 'engin|volume=9|number=1|pages=63–70', 'gear', 'train', 'gear-wheels', 'donald', 'routledge', 'hill', '1985', '``', 'al-biruni', \"'s\", 'mechanical', 'calendar', \"''\", \"''annals\", 'science', \"''\", \"''\", '42', \"''\", 'p.', '139–163', \"''circa\", \"''\", '1000', 'ad', 'sector', 'instrument', '|sector', 'calculating', 'instrument', 'used', 'solving', 'problems', 'proportion', 'trigonometry', 'multiplication', 'division', 'various', 'functions', 'squares', 'cube', 'roots', 'developed', 'late', '16th', 'century', 'found', 'application', 'gunnery', 'surveying', 'navigation', 'planimeter', 'manual', 'instrument', 'calculate', 'area', 'closed', 'figure', 'tracing', 'mechanical', 'linkage', 'image', 'sliderule', '2005.png|thumb|a', 'slide', 'rule', 'slide', 'rule', 'invented', 'around', '1620–1630', 'shortly', 'publication', 'concept', 'logarithm', 'hand-operated', 'analog', 'computer', 'multiplication', 'division', 'slide', 'rule', 'development', 'progressed', 'added', 'scales', 'provided', 'reciprocals', 'squares', 'square', 'roots', 'cubes', 'cube', 'roots', 'well', 'transcendental', 'functions', 'logarithms', 'exponentials', 'circular', 'hyperbolic', 'functions|hyperbolic', 'trigonometry', 'function', 'mathematics', '|functions', 'aviation', 'one', 'fields', 'slide', 'rules', 'still', 'widespread', 'use', 'particularly', 'solving', 'time–distance', 'problems', 'light', 'aircraft', 'save', 'space', 'ease', 'reading', 'typically', 'circular', 'devices', 'rather', 'classic', 'linear', 'slide', 'rule', 'shape', 'popular', 'example', 'e6b', '1770s', 'pierre', 'jaquet-droz', 'swiss', 'watchmaker', 'built', 'mechanical', 'doll', 'automata', 'could', 'write', 'holding', 'quill', 'pen', 'switching', 'number', 'order', 'internal', 'wheels', 'different', 'letters', 'hence', 'different', 'messages', 'could', 'produced', 'effect', 'could', 'mechanically', '``', 'programmed', \"''\", 'read', 'instructions', 'along', 'two', 'complex', 'machines', 'doll', 'musée', \"d'art\", 'et', \"d'histoire\", 'neuchâtel', 'switzerland', 'still', 'operates', 'cite', 'web|url=http', '//www.chonday.com/videos/the-writer-automaton|title=the', 'writer', 'automaton', 'switzerland|date=11', 'july', '2013|publisher=chonday.com', 'tide-predicting', 'machine', 'invented', 'william', 'thomson', '1st', 'baron', 'kelvin|sir', 'william', 'thomson', '1872', 'great', 'utility', 'navigation', 'shallow', 'waters', 'used', 'system', 'pulleys', 'wires', 'automatically', 'calculate', 'predicted', 'tide', 'levels', 'set', 'period', 'particular', 'location', 'differential', 'analyser', 'mechanical', 'analog', 'computer', 'designed', 'solve', 'differential', 'equations', 'integral|integration', 'used', 'wheel-and-disc', 'mechanisms', 'perform', 'integration', '1876', 'james', 'thomson', 'engineer', '|lord', 'kelvin', 'already', 'discussed', 'possible', 'construction', 'calculators', 'stymied', 'limited', 'output', 'torque', 'ball-and-disk', 'integrators.', 'ref', 'name=', \"''\", 'scientific-computing.com', \"''\", 'ray', 'girvan', 'http', '//www.scientific-computing.com/scwmayjun03computingmachines.html', '``', 'revealed', 'grace', 'mechanism', 'computing', 'babbage', \"''\", 'webarchive', '|url=https', '//web.archive.org/web/20121103094710/http', '//www.scientific-computing.com/scwmayjun03computingmachines.html', '|date=3', 'november', '2012', \"''scientific\", 'computing', 'world', \"''\", 'may/june', '2003', 'differential', 'analyzer', 'output', 'one', 'integrator', 'drove', 'input', 'next', 'integrator', 'graphing', 'output', 'torque', 'amplifier', 'advance', 'allowed', 'machines', 'work', 'starting', '1920s', 'vannevar', 'bush', 'others', 'developed', 'mechanical', 'differential', 'analyzers', '=first', 'computing', 'device=', 'file', 'difference', 'engine', 'plate', '1853.jpg|thumb|a', 'portion', 'charles', 'babbage|babbage', \"'s\", 'difference', 'engine', 'charles', 'babbage', 'english', 'mechanical', 'engineer', 'polymath', 'originated', 'concept', 'programmable', 'computer', 'considered', '``', 'computer', 'pioneer|father', 'computer', \"''\", 'cite', 'book', 'author=halacy', 'daniel', 'stephen', 'title', 'charles', 'babbage', 'father', 'computer', 'year', '1970', 'publisher=crowell-collier', 'press', 'isbn', '0-02-741370-5', 'conceptualized', 'invented', 'first', 'mechanical', 'computer', 'early', '19th', 'century', 'working', 'revolutionary', 'difference', 'engine', 'designed', 'aid', 'navigational', 'calculations', '1833', 'realized', 'much', 'general', 'design', 'analytical', 'engine', 'possible', 'input', 'programs', 'data', 'provided', 'machine', 'via', 'punched', 'cards', 'method', 'used', 'time', 'direct', 'mechanical', 'looms', 'jacquard', 'loom', 'output', 'machine', 'would', 'printer', 'curve', 'plotter', 'bell', 'machine', 'would', 'also', 'able', 'punch', 'numbers', 'onto', 'cards', 'read', 'later', 'engine', 'incorporated', 'arithmetic', 'logic', 'unit', 'control', 'flow', 'form', 'conditional', 'branching', 'program', 'loop', 'loops|loops', 'integrated', 'computer', 'memory|memory', 'making', 'first', 'design', 'general-purpose', 'computer', 'could', 'described', 'modern', 'terms', 'turing-complete.', 'ref', 'name=', \"''\", 'babbageonline', \"''\", 'cite', 'web|url=http', '//www.sciencemuseum.org.uk/onlinestuff/stories/babbage.aspx', 'page=5|title=babbage|work=online', 'stuff|publisher=science', 'museum|date=2007-01-19', '|accessdate=2012-08-01', 'cite', 'web|url=http', '//www.newscientist.com/article/mg20827915.500-lets-build-babbages-ultimate-mechanical-computer.html|title=let', \"'s\", 'build', 'babbage', \"'s\", 'ultimate', 'mechanical', 'computer|work=opinion|publisher=new', 'scientist|date=', '23', 'december', '2010|accessdate=2012-08-01', 'machine', 'century', 'ahead', 'time', 'parts', 'machine', 'made', 'hand', 'nbsp', '—', 'major', 'problem', 'device', 'thousands', 'parts', 'eventually', 'project', 'dissolved', 'decision', 'british', 'government', 'cease', 'funding', 'babbage', \"'s\", 'failure', 'complete', 'analytical', 'engine', 'chiefly', 'attributed', 'difficulties', 'politics', 'financing', 'also', 'desire', 'develop', 'increasingly', 'sophisticated', 'computer', 'move', 'ahead', 'faster', 'anyone', 'else', 'could', 'follow', 'nevertheless', 'son', 'henry', 'babbage', 'completed', 'simplified', 'version', 'analytical', 'engine', \"'s\", 'computing', 'unit', \"''mill\", \"''\", '1888.', 'gave', 'successful', 'demonstration', 'use', 'computing', 'tables', '1906', '=analog', 'computers=', 'file:099-tpm3-sk.jpg|thumb|left|200px|william', 'thomson', '1st', 'baron', 'kelvin|sir', 'william', 'thomson', \"'s\", 'third', 'tide-predicting', 'machine', 'design', '1879–81', 'first', 'half', '20th', 'century', 'many', 'scientific', 'computing', 'needs', 'met', 'increasingly', 'sophisticated', 'analog', 'computers', 'used', 'direct', 'mechanical', 'electrical', 'model', 'problem', 'basis', 'computation', 'however', 'programmable', 'generally', 'lacked', 'versatility', 'accuracy', 'modern', 'digital', 'computers.', 'ref', 'name=', \"''\", 'stanf', \"''\", 'cite', 'web|url=http', '//plato.stanford.edu/entries/computing-history/|publisher=stanford', 'encyclopedia', 'philosophy|title=the', 'modern', 'history', 'computing', 'first', 'modern', 'analog', 'computer', 'tide-predicting', 'machine', 'invented', 'william', 'thomson', '1st', 'baron', 'kelvin|sir', 'william', 'thomson', '1872.', 'differential', 'analyser', 'mechanical', 'analog', 'computer', 'designed', 'solve', 'differential', 'equations', 'integration', 'using', 'wheel-and-disc', 'mechanisms', 'conceptualized', '1876', 'james', 'thomson', 'engineer', '|james', 'thomson', 'brother', 'famous', 'lord', 'kelvin.', 'ref', 'name=', \"''\", 'scientific-computing.com', \"''\", 'art', 'mechanical', 'analog', 'computing', 'reached', 'zenith', 'differential', 'analyzer', 'built', 'h.', 'l.', 'hazen', 'vannevar', 'bush', 'mit', 'starting', '1927.', 'built', 'mechanical', 'integrators', 'james', 'thomson', 'engineer', '|james', 'thomson', 'torque', 'amplifiers', 'invented', 'h.', 'w.', 'nieman', 'dozen', 'devices', 'built', 'obsolescence', 'became', 'obvious', '1950s', 'success', 'digital', 'electronic', 'computers', 'spelled', 'end', 'analog', 'computing', 'machines', 'analog', 'computers', 'remained', 'use', '1950s', 'specialized', 'applications', 'education', 'control', 'systems', 'aircraft', 'slide', 'rule', '=digital', 'computers=', 'electromechanical', '1938', 'united', 'states', 'navy', 'developed', 'electromechanical', 'analog', 'computer', 'small', 'enough', 'use', 'aboard', 'submarine', 'torpedo', 'data', 'computer', 'used', 'trigonometry', 'solve', 'problem', 'firing', 'torpedo', 'moving', 'target', 'world', 'war', 'ii', 'similar', 'devices', 'developed', 'countries', 'well', 'file', 'z3', 'deutsches', 'museum.jpg|thumb|left|200px|replica', 'konrad', 'zuse|zuse', \"'s\", 'z3', 'computer', '|z3', 'first', 'fully', 'automatic', 'digital', 'electromechanical', 'computer', 'early', 'digital', 'computers', 'electromechanical', 'electric', 'switches', 'drove', 'mechanical', 'relays', 'perform', 'calculation', 'devices', 'low', 'operating', 'speed', 'eventually', 'superseded', 'much', 'faster', 'all-electric', 'computers', 'originally', 'using', 'vacuum', 'tubes', 'z2', 'computer', '|z2', 'created', 'german', 'engineer', 'konrad', 'zuse', '1939', 'one', 'earliest', 'examples', 'electromechanical', 'relay', 'computer.', 'ref', 'name=', \"''\", 'part', '4', 'zuse', \"''\", 'cite', 'web|url=http', '//www.epemag.com/zuse/part4a.htm|title=part', '4', 'konrad', 'zuse', \"'s\", 'z1', 'z3', 'computers|last=zuse|first=horst|work=the', 'life', 'work', 'konrad', 'zuse|publisher=epe', 'online|accessdate=2008-06-17', '|archiveurl', 'https', '//web.archive.org/web/20080601210541/http', '//www.epemag.com/zuse/part4a.htm', '|archivedate', '2008-06-01', '1941', 'zuse', 'followed', 'earlier', 'machine', 'z3', 'computer', '|z3', 'world', \"'s\", 'first', 'working', 'electromechanical', 'computer', 'programming|programmable', 'fully', 'automatic', 'digital', 'computer', 'citation|last=zuse|first=konrad|author-link=konrad', 'zuse|title=the', 'computer', '–', 'life', \"''translated\", 'mckenna', 'patricia', 'ross', 'j.', 'andrew', \"''\", 'der', 'computer', 'mein', 'lebenswerk', '1984', '|place=berlin/heidelberg|publisher=springer-verlag|origyear=1984|year=2010|language=english|isbn=978-3-642-08151-4', 'cite', 'news|first=peggy|last=salz', 'trautman|title=a', 'computer', 'pioneer', 'rediscovered', '50', 'years', 'on|url=https', '//www.nytimes.com/1994/04/20/news/20iht-zuse.html|newspaper=the', 'new', 'york', 'times|date=april', '20', '1994', 'z3', 'built', '2000', 'relays', 'implementing', '22', 'nbsp', 'bit', 'word', 'data', 'type', '|word', 'length', 'operated', 'clock', 'frequency', '5–10', 'nbsp', 'hertz|hz', 'cite', 'book|last=zuse|first=konrad|authorlink=konrad', 'zuse|title=der', 'computer', 'mein', 'lebenswerk.|edition=3rd|year=1993|publisher=springer-verlag|location=berlin|language=german|isbn=978-3-540-56292-4|doi=|page=55', 'program', 'code', 'supplied', 'punched', 'celluloid|film', 'data', 'could', 'stored', '64', 'words', 'memory', 'supplied', 'keyboard', 'quite', 'similar', 'modern', 'machines', 'respects', 'pioneering', 'numerous', 'advances', 'floating', 'point', 'numbers', 'rather', 'harder-to-implement', 'decimal', 'system', 'used', 'charles', 'babbage', \"'s\", 'earlier', 'design', 'using', 'binary', 'numeral', 'system|binary', 'system', 'meant', 'zuse', \"'s\", 'machines', 'easier', 'build', 'potentially', 'reliable', 'given', 'technologies', 'available', 'time', 'cite', 'web', '|url=https', '//goremotesupport.com/blog/crash-the-story-of-it-zuse|title=crash', 'story', 'zuse', '|accessdate=june', '1', '2016', 'z3', 'turing', 'complete.', 'ref', 'name=', \"''\", 'rojas-ieee', \"''\", 'cite', 'journal|last=rojas', '|first=r', '|title=how', 'make', 'zuse', \"'s\", 'z3', 'universal', 'computer', '|journal=ieee', 'annals', 'history', 'computing', '|volume=20', '|issue=3', '|pages=51–54', '|year=1998', '|doi=10.1109/85.707574', '|authorlink=raúl', 'rojas', 'ref', 'name=', \"''\", 'rojas-universal', \"''\", 'cite', 'web', '|url=http', '//www.inf.fu-berlin.de/users/rojas/1997/universal_computer.pdf', '|title=how', 'make', 'zuse', \"'s\", 'z3', 'universal', 'computer', '|first=raúl', '|last=rojas', 'anchor|digital', 'computer|digital', 'vacuum', 'tubes', 'digital', 'electronic', 'circuits', 'purely', 'electronic', 'circuit', 'elements', 'soon', 'replaced', 'mechanical', 'electromechanical', 'equivalents', 'time', 'digital', 'calculation', 'replaced', 'analog', 'engineer', 'tommy', 'flowers', 'working', 'post', 'office', 'research', 'station', 'london', '1930s', 'began', 'explore', 'possible', 'use', 'electronics', 'telephone', 'exchange', 'experimental', 'equipment', 'built', '1934', 'went', 'operation', 'five', 'years', 'later', 'converting', 'portion', 'telephone', 'exchange', 'network', 'electronic', 'data', 'processing', 'system', 'using', 'thousands', 'vacuum', 'tubes.', 'ref', 'name=', \"''\", 'stanf', \"''\", 'us', 'john', 'vincent', 'atanasoff', 'clifford', 'e.', 'berry', 'iowa', 'state', 'university', 'developed', 'tested', 'atanasoff–berry', 'computer', 'abc', '1942', 'january', '15', '1941', 'notice', \"''des\", 'moines', 'register', \"''\", 'first', '``', 'automatic', 'electronic', 'digital', 'computer', \"''\", 'cite', 'book|title=the', 'first', 'electronic', 'computer|author=arthur', 'w.', 'burks', 'design', 'also', 'all-electronic', 'used', '300', 'vacuum', 'tubes', 'capacitors', 'fixed', 'mechanically', 'rotating', 'drum', 'memory.', 'ref', 'name=copeland2006', 'citation|last=copeland|first=jack|year=2006|title=colossus', 'secrets', 'bletchley', 'park', \"'s\", 'codebreaking', 'computers|publication-place=oxford|publisher=oxford', 'university', 'press|pages=101–115|isbn=0-19-284055-x', 'file', 'colossus.jpg|thumbnail|colossus', 'computer|colossus', 'first', 'electronics|electronic', 'digital', 'electronics|digital', 'computer', 'programming|programmable', 'computing', 'device', 'used', 'break', 'german', 'ciphers', 'world', 'war', 'ii', 'world', 'war', 'ii', 'british', 'bletchley', 'park', 'achieved', 'number', 'successes', 'breaking', 'encrypted', 'german', 'military', 'communications', 'german', 'encryption', 'machine', 'enigma', 'machine', '|enigma', 'first', 'attacked', 'help', 'electro-mechanical', 'bombes', 'crack', 'sophisticated', 'german', 'lorenz', 'sz', '40/42', 'machine', 'used', 'high-level', 'army', 'communications', 'max', 'newman', 'colleagues', 'commissioned', 'flowers', 'build', 'colossus', 'computer|colossus.', 'ref', 'name=copeland2006', 'spent', 'eleven', 'months', 'early', 'february', '1943', 'designing', 'building', 'first', 'colossus', 'citation|title=bletchley', \"'s\", 'code-cracking', 'colossus|publisher=bbc', 'news', '|date=2', 'february', '2010|url=http', '//news.bbc.co.uk/1/hi/technology/8492762.stm|accessdate=19', 'october', '2012', 'functional', 'test', 'december', '1943', 'colossus', 'shipped', 'bletchley', 'park', 'delivered', '18', 'january', '1944', 'ref', 'name=', \"''\", 'colossus', 'computer', \"''\", 'cite', 'web|url=http', '//www.tnmoc.org/colossus-rebuild-story|title=colossus', '–', 'rebuild', 'story|website=the', 'national', 'museum', 'computing', 'attacked', 'first', 'message', '5', 'february.', 'ref', 'name=', \"''\", 'copeland2006', \"''\", 'colossus', 'world', \"'s\", 'first', 'electronics|electronic', 'digital', 'electronics|digital', 'computer', 'programming|programmable', 'computer.', 'ref', 'name=', \"''\", 'stanf', \"''\", 'used', 'large', 'number', 'valves', 'vacuum', 'tubes', 'paper-tape', 'input', 'capable', 'configured', 'perform', 'variety', 'boolean', 'logical', 'operations', 'data', 'turing-complete', 'nine', 'mk', 'ii', 'colossi', 'built', 'mk', 'converted', 'mk', 'ii', 'making', 'ten', 'machines', 'total', 'colossus', 'mark', 'contained', '1,500', 'thermionic', 'valves', 'tubes', 'mark', 'ii', '2,400', 'valves', '5', 'times', 'faster', 'simpler', 'operate', 'mark', 'greatly', 'speeding', 'decoding', 'process', 'citation|last1=randell|first1=brian|author-link1=brian', 'randell|last2=fensom|first2=harry|last3=milne|first3=frank', 'a.|title=obituary', 'allen', 'coombs|newspaper=the', 'independent|date=15', 'march', '1995|url=http', '//www.independent.co.uk/news/people/obituary-allen-coombs-1611270.html|accessdate=18', 'october', '2012', 'citation|last=fensom|first=jim|title=harry', 'fensom', 'obituary|date=8', 'november', '2010|url=https', '//www.theguardian.com/theguardian/2010/nov/08/harry-fensom-obituary|accessdate=17', 'october', '2012', 'file', 'eniac.jpg|thumb|left|eniac', 'first', 'electronic', 'turing-complete', 'device', 'performed', 'ballistics', 'trajectory', 'calculations', 'united', 'states', 'army', 'u.s.-built', 'eniacjohn', 'presper', 'eckert', 'jr.', 'john', 'w.', 'mauchly', 'electronic', 'numerical', 'integrator', 'computer', 'united', 'states', 'patent', 'office', 'us', 'patent', '3,120,606', 'filed', '26', 'june', '1947', 'issued', '4', 'february', '1964', 'invalidated', '19', 'october', '1973', 'court', 'ruling', \"''honeywell\", 'v.', 'sperry', 'rand', \"''\", 'electronic', 'numerical', 'integrator', 'computer', 'first', 'electronic', 'programmable', 'computer', 'built', 'us', 'although', 'eniac', 'similar', 'colossus', 'much', 'faster', 'flexible', 'turing-complete', 'like', 'colossus', '``', 'program', \"''\", 'eniac', 'defined', 'states', 'patch', 'cables', 'switches', 'far', 'cry', 'stored', 'program', 'electronic', 'machines', 'came', 'later', 'program', 'written', 'mechanically', 'set', 'machine', 'manual', 'resetting', 'plugs', 'switches', 'combined', 'high', 'speed', 'electronics', 'ability', 'programmed', 'many', 'complex', 'problems', 'could', 'add', 'subtract', '5000', 'times', 'second', 'thousand', 'times', 'faster', 'machine', 'also', 'modules', 'multiply', 'divide', 'square', 'root', 'high', 'speed', 'memory', 'limited', '20', 'words', '80', 'bytes', 'built', 'direction', 'john', 'mauchly', 'j.', 'presper', 'eckert', 'university', 'pennsylvania', 'eniac', \"'s\", 'development', 'construction', 'lasted', '1943', 'full', 'operation', 'end', '1945.', 'machine', 'huge', 'weighing', '30', 'tons', 'using', '200', 'kilowatts', 'electric', 'power', 'contained', '18,000', 'vacuum', 'tubes', '1,500', 'relays', 'hundreds', 'thousands', 'resistors', 'capacitors', 'inductors.', 'ref', 'name=', \"''\", 'eniac', \"''\", 'cite', 'web|url=http', '//www.techiwarehouse.com/engine/a046ee08/generations-of-computer|title=generations', 'computer|publisher=techiwarehouse.com', '=modern', 'computers=', 'concept', 'modern', 'computer', 'principle', 'modern', 'computer', 'proposed', 'alan', 'turing', 'seminal', '1936', 'paper', 'cite', 'journal|url=http', '//plms.oxfordjournals.org/cgi/reprint/s2-42/1/230|doi=10.1112/plms/s2-42.1.230|title=on', 'computable', 'numbers', 'application', 'entscheidungsproblem|first=a', 'm.|last=turing|journal=proceedings', 'london', 'mathematical', 'society|year=1937|series=2|volume=42|number=1|pages=230–265', \"''on\", 'computable', 'numbers', \"''\", 'turing', 'proposed', 'simple', 'device', 'called', '``', 'universal', 'computing', 'machine', \"''\", 'known', 'universal', 'turing', 'machine', 'proved', 'machine', 'capable', 'computing', 'anything', 'computable', 'executing', 'instructions', 'program', 'stored', 'tape', 'allowing', 'machine', 'programmable', 'fundamental', 'concept', 'turing', \"'s\", 'design', 'stored', 'program', 'instructions', 'computing', 'stored', 'memory', 'john', 'von', 'neumann|von', 'neumann', 'acknowledged', 'central', 'concept', 'modern', 'computer', 'due', 'paper', '``', 'von', 'neumann', 'nbsp', '...', 'firmly', 'emphasized', 'others', 'sure', 'fundamental', 'conception', 'owing', 'turing—insofar', 'anticipated', 'babbage', 'lovelace', 'others', \"''\", 'letter', 'stanley', 'frankel', 'brian', 'randell', '1972', 'quoted', 'jack', 'copeland', '2004', \"''the\", 'essential', 'turing', \"''\", 'p22', 'turing', 'machines', 'day', 'central', 'object', 'study', 'theory', 'computation', 'except', 'limitations', 'imposed', 'finite', 'memory', 'stores', 'modern', 'computers', 'said', 'turing-complete', 'say', 'algorithm', 'execution', 'capability', 'equivalent', 'universal', 'turing', 'machine', 'stored', 'programs', 'file', 'ssem', 'manchester', 'museum', 'close', 'up.jpg|right|thumb|250px|alt=three', 'tall', 'racks', 'containing', 'electronic', 'circuit', 'boards|a', 'section', 'manchester', 'small-scale', 'experimental', 'machine', 'first', 'stored-program', 'computer', 'early', 'computing', 'machines', 'fixed', 'programs', 'changing', 'function', 'required', 're-wiring', 're-structuring', 'machine.', 'ref', 'name=', \"''\", 'copeland2006', \"''\", 'proposal', 'stored-program', 'computer', 'changed', 'stored-program', 'computer', 'includes', 'design', 'instruction', 'set', 'store', 'memory', 'set', 'instructions', 'computer', 'program|program', 'details', 'computation', 'theoretical', 'basis', 'stored-program', 'computer', 'laid', 'alan', 'turing', '1936', 'paper', '1945', 'turing', 'joined', 'national', 'physical', 'laboratory', 'united', 'kingdom', '|national', 'physical', 'laboratory', 'began', 'work', 'developing', 'electronic', 'stored-program', 'digital', 'computer', '1945', 'report', '``', 'proposed', 'electronic', 'calculator', \"''\", 'first', 'specification', 'device', 'john', 'von', 'neumann', 'university', 'pennsylvania', 'also', 'circulated', \"''first\", 'draft', 'report', 'edvac', \"''\", '1945.', 'ref', 'name=', \"''\", 'stanf', \"''\", 'file', 'ferranti', 'mark', '1.jpg|220px|small|left|thumb|ferranti', 'mark', '1', 'c.', '1951.', 'manchester', 'small-scale', 'experimental', 'machine', 'nicknamed', \"''baby\", \"''\", 'world', \"'s\", 'first', 'stored-program', 'computer', 'built', 'victoria', 'university', 'manchester', 'frederic', 'calland', 'williams|frederic', 'c.', 'williams', 'tom', 'kilburn', 'geoff', 'tootill', 'ran', 'first', 'program', '21', 'nbsp', 'june', '1948', 'citation', '|last=enticknap', '|first=nicholas', '|title=computing', \"'s\", 'golden', 'jubilee', '|journal=resurrection', '|issue=20', '|publisher=the', 'computer', 'conservation', 'society', '|date=summer', '1998', '|url=http', '//www.cs.man.ac.uk/ccs/res/res20.htm', '|issn=0958-7403', '|accessdate=19', 'april', '2008', 'designed', 'testbed', 'williams', 'tube', 'first', 'random-access', 'memory|random-access', 'digital', 'storage', 'device', 'citation|title=early', 'computers', 'manchester', 'university|journal=resurrection|volume=1|issue=4|publisher=the', 'computer', 'conservation', 'society|date=summer', '1992|url=http', '//www.cs.man.ac.uk/ccs/res/res04.htm', 'g|issn=0958-7403|accessdate=7', 'july', '2010', 'although', 'computer', 'considered', '``', 'small', 'primitive', \"''\", 'standards', 'time', 'first', 'working', 'machine', 'contain', 'elements', 'essential', 'modern', 'electronic', 'computer', 'citation|url=http', '//www.computer50.org/mark1/contemporary.html|title=early', 'electronic', 'computers', '1946–51', '|publisher=university', 'manchester|accessdate=16', 'november', '2008', 'soon', 'ssem', 'demonstrated', 'feasibility', 'design', 'project', 'initiated', 'university', 'develop', 'usable', 'computer', 'manchester', 'mark', '1.', 'mark', '1', 'turn', 'quickly', 'became', 'prototype', 'ferranti', 'mark', '1', 'world', \"'s\", 'first', 'commercially', 'available', 'general-purpose', 'computer.', 'ref', 'name=nappermk1', 'citation', '|last=napper', '|first=r', 'b.', 'e.', '|title=introduction', 'mark', '1', '|url=http', '//www.computer50.org/mark1/mark1intro.html', '|publisher=the', 'university', 'manchester', '|accessdate=4', 'november', '2008', 'built', 'ferranti', 'delivered', 'university', 'manchester', 'february', '1951.', 'least', 'seven', 'later', 'machines', 'delivered', '1953', '1957', 'one', 'royal', 'dutch', 'shell|shell', 'labs', 'amsterdam', 'citation|last=computer', 'conservation', 'society|author-link=computer', 'conservation', 'society|title=our', 'computer', 'heritage', 'pilot', 'study', 'deliveries', 'ferranti', 'mark', 'mark', 'star', 'computers.|url=http', '//www.ourcomputerheritage.org/wp/|archive-url=https', '//web.archive.org/web/20161211201840/http', '//www.ourcomputerheritage.org/wp/|dead-url=yes|archive-date=11', 'december', '2016|accessdate=9', 'january', '2010', 'october', '1947', 'directors', 'british', 'catering', 'company', 'j.', 'lyons', 'co.|j', 'lyons', 'company', 'decided', 'take', 'active', 'role', 'promoting', 'commercial', 'development', 'computers', 'leo', 'computer|leo', 'computer', 'became', 'operational', 'april', '1951', 'cite', 'web', 'last', 'lavington', 'first', 'simon', 'title', 'brief', 'history', 'british', 'computers', 'first', '25', 'years', '1948–1973', 'publisher', 'british', 'computer', 'society', 'url', 'http', '//www.bcs.org/server.php', 'accessdate', '10', 'january', '2010', 'ran', 'world', \"'s\", 'first', 'regular', 'routine', 'office', 'computer', 'job', 'software', '|job', 'transistors', '--', 'second', 'generation', 'computers', 'redirects', '--', 'file', 'transistor-die-ksy34.jpg|thumb|right|a', 'bipolar', 'junction', 'transistor', 'bipolar', 'transistor', 'invented', '1947.', '1955', 'onwards', 'transistors', 'replaced', 'vacuum', 'tubes', 'computer', 'designs', 'giving', 'rise', '``', 'second', 'generation', \"''\", 'computers', 'compared', 'vacuum', 'tubes', 'transistors', 'many', 'advantages', 'smaller', 'require', 'less', 'power', 'vacuum', 'tubes', 'give', 'less', 'heat', 'silicon', 'junction', 'transistors', 'much', 'reliable', 'vacuum', 'tubes', 'longer', 'indefinite', 'service', 'life', 'transistorized', 'computers', 'could', 'contain', 'tens', 'thousands', 'binary', 'logic', 'circuits', 'relatively', 'compact', 'space', 'university', 'manchester', 'team', 'leadership', 'tom', 'kilburn', 'designed', 'built', 'machine', 'using', 'newly', 'developed', 'transistors', 'instead', 'valves', 'citation|last=lavington|first=simon|title=a', 'history', 'manchester', 'computers|year=1998|edition=2|publisher=the', 'british', 'computer', 'society|location=swindon|pages=34–35', 'first', 'transistor', 'computer|transistorised', 'computer', 'first', 'world', 'manchester', 'computers', 'transistor', 'computer|operational', '1953', 'second', 'version', 'completed', 'april', '1955.', 'however', 'machine', 'make', 'use', 'valves', 'generate', '125', 'nbsp', 'khz', 'clock', 'waveforms', 'circuitry', 'read', 'write', 'magnetic', 'drum', 'memory', 'first', 'completely', 'transistorized', 'computer', 'distinction', 'goes', 'harwell', 'cadet', '1955', 'ref', 'name=', \"''\", 'ieeexplore.ieee', \"''\", 'citation', '|doi=10.1049/esej:19980301', '|last=cooke-yarborough', '|first=e', 'h.', '|title=some', 'early', 'transistor', 'applications', 'uk', '|journal=engineering', 'science', 'education', 'journal', '|volume=7', '|issue=3', '|pages=100–106', '|publisher=iee', '|location', 'london', 'uk|date=june', '1998', '|url=http', '//ieeexplore.ieee.org/stamp/stamp.jsp', 'arnumber=00689507', '|issn=0963-7346', '|accessdate=7', 'june', '2009', 'subscription', 'required', 'built', 'electronics', 'division', 'atomic', 'energy', 'research', 'establishment', 'harwell.', 'ref', 'name=', \"''\", 'ieeexplore.ieee', \"''\", 'cite', 'book', 'last', 'cooke-yarborough', 'first', 'e.h.', 'title', 'introduction', 'transistor', 'circuits', 'publisher', 'oliver', 'boyd', 'year', '1957', 'location', 'edinburgh', 'page', '139', 'integrated', 'circuits', 'next', 'great', 'advance', 'computing', 'power', 'came', 'advent', 'integrated', 'circuit', 'idea', 'integrated', 'circuit', 'first', 'conceived', 'radar', 'scientist', 'working', 'royal', 'radar', 'establishment', 'ministry', 'defence', 'united', 'kingdom', '|ministry', 'defence', 'geoffrey', 'dummer|geoffrey', 'w.a', 'dummer', 'dummer', 'presented', 'first', 'public', 'description', 'integrated', 'circuit', 'symposium', 'progress', 'quality', 'electronic', 'components', 'washington', 'd.c.|washington', 'nbsp', 'd.c.', '7', 'may', '1952', 'http', '//www.epn-online.com/page/22909/the-hapless-tale-of-geoffrey-dummer-this-is-the-sad-.html', '``', 'hapless', 'tale', 'geoffrey', 'dummer', \"''\", 'webarchive', '|url=https', '//web.archive.org/web/20130511181443/http', '//www.epn-online.com/page/22909/the-hapless-tale-of-geoffrey-dummer-this-is-the-sad-.html', '|date=11', 'may', '2013', 'n.d.', 'html', \"''electronic\", 'product', 'news', \"''\", 'accessed', '8', 'july', '2008.', 'first', 'practical', 'ics', 'invented', 'jack', 'kilby', 'texas', 'instruments', 'robert', 'noyce', 'fairchild', 'semiconductor', 'citation|first=jack|last=kilby|author-link=jack', 'kilby|title=nobel', 'lecture|publisher=nobel', 'foundation|year=2000|location=stockholm|url=http', '//nobelprize.org/nobel_prizes/physics/laureates/2000/kilby-lecture.pdf|accessdate=2008-05-15', 'kilby', 'recorded', 'initial', 'ideas', 'concerning', 'integrated', 'circuit', 'july', '1958', 'successfully', 'demonstrating', 'first', 'working', 'integrated', 'example', '12', 'september', '1958.', 'ref', 'name=', \"''\", 'tijackbuilt', \"''\", 'http', '//www.ti.com/corp/docs/kilbyctr/jackbuilt.shtml', \"''the\", 'chip', 'jack', 'built', \"''\", 'c.', '2008', 'html', 'texas', 'instruments', 'retrieved', '29', 'may', '2008.', 'patent', 'application', '6', 'february', '1959', 'kilby', 'described', 'new', 'device', '``', 'body', 'semiconductor', 'material', 'nbsp', '...', 'wherein', 'components', 'electronic', 'circuit', 'completely', 'integrated', \"''\", '.jack', 's.', 'kilby', 'miniaturized', 'electronic', 'circuits', 'united', 'states', 'patent', 'office', 'us', 'patent', '3,138,743', 'filed', '6', 'february', '1959', 'issued', '23', 'june', '1964', 'cite', 'book|', 'last', 'winston|', 'first', 'brian|', 'title', 'media', 'technology', 'society', 'history', 'telegraph', 'internet|', 'url', 'https', '//books.google.com/', 'id=gfecxleljtwc', 'pg=pa221|', 'year', '1998|', 'publisher', 'routledge|', 'isbn', '978-0-415-14230-4|', 'page', '221', 'noyce', 'also', 'came', 'idea', 'integrated', 'circuit', 'half', 'year', 'later', 'kilby.robert', 'noyce', \"'s\", 'unitary', 'circuit', 'ref', 'patent', '|country=us', '|number=2981877|status=patent|gdate=1961-04-25|title=semiconductor', 'device-and-lead', 'structure', '|assign1', '=fairchild', 'semiconductor', 'corporation', 'chip', 'solved', 'many', 'practical', 'problems', 'kilby', \"'s\", 'produced', 'fairchild', 'semiconductor', 'made', 'silicon', 'whereas', 'kilby', \"'s\", 'chip', 'made', 'germanium', 'new', 'development', 'heralded', 'explosion', 'commercial', 'personal', 'use', 'computers', 'led', 'invention', 'microprocessor', 'subject', 'exactly', 'device', 'first', 'microprocessor', 'contentious', 'partly', 'due', 'lack', 'agreement', 'exact', 'definition', 'term', '``', 'microprocessor', \"''\", 'largely', 'undisputed', 'first', 'single-chip', 'microprocessor', 'intel', '4004', 'citation|last=intel_4004', '|title=intel', \"'s\", 'first', 'microprocessor—the', 'intel', '4004', '|publisher=intel', 'corp.', '|date=november', '1971', '|url=http', '//www.intel.com/museum/archives/4004.htm', '|accessdate=2008-05-17', '|deadurl=yes', '|archiveurl=https', '//web.archive.org/web/20080513221700/http', '//www.intel.com/museum/archives/4004.htm', '|archivedate=13', 'may', '2008', 'designed', 'realized', 'marcian', 'hoff|ted', 'hoff', 'federico', 'faggin', 'stanley', 'mazor', 'intel.the', 'intel', '4004', '1971', 'die', '12', 'nbsp', 'mm', 'sup', '2', '/sup', 'composed', '2300', 'transistors', 'comparison', 'pentium', 'pro', '306', 'nbsp', 'mm', 'sup', '2', '/sup', 'composed', '5.5', 'million', 'transistors', 'according', 'citation|last1=', 'patterson', '|first1=', 'david', '|last2=', 'hennessy|first2=', 'john|year=1998|title=', 'computer', 'organization', 'design', '|location=', 'san', 'francisco|publisher=morgan', 'kaufmann|isbn', '1-55860-428-6|pages=27–39', '=mobile', 'computers', 'become', 'dominant=', 'continued', 'miniaturization', 'computing', 'resources', 'advancements', 'portable', 'battery', 'life', 'portable', 'computers', 'grew', 'popularity', '2000s', 'cite', 'news|url=http', '//arstechnica.com/uncategorized/2008/12/global-notebook-shipments-finally-overtake-desktops/|title=global', 'notebook', 'shipments', 'finally', 'overtake', 'desktops|work=ars', 'technica|first=david|last=chartier|date=december', '23', '2008', 'developments', 'spurred', 'growth', 'laptop', 'computers', 'portable', 'computers', 'allowed', 'manufacturers', 'integrate', 'computing', 'resources', 'cellular', 'phones', 'so-called', 'smartphones', 'tablet', 'computer|tablets', 'run', 'variety', 'operating', 'systems', 'become', 'dominant', 'computing', 'device', 'market', 'manufacturers', 'reporting', 'shipped', 'estimated', '237', 'million', 'devices', '2q', '2013', 'cite', 'web|author=idc|title=growth', 'accelerates', 'worldwide', 'mobile', 'phone', 'smartphone', 'markets', 'second', 'quarter', 'according', 'idc|date=25', 'july', '2013|url=http', '//www.idc.com/getdoc.jsp', 'containerid=prus24239313|deadurl=yes|archive-url=https', '//web.archive.org/web/20140626022208/http', '//www.idc.com/getdoc.jsp', 'containerid=prus24239313|archive-date=26', 'june', '2014', 'types', 'computers', 'typically', 'classified', 'based', 'uses', '=based', 'uses=', 'analog', 'computer', 'digital', 'computer', 'hybrid', 'computer', '=based', 'sizes=', 'smartphone', 'microcomputer|micro', 'computer', 'personal', 'computer', 'laptop', 'minicomputer', 'mainframe', 'computer', 'supercomputer|super', 'computer', 'hardware', 'main', 'article|computer', 'hardware|personal', 'computer', 'hardware|central', 'processing', 'unit|microprocessor', 'file', 'computer', 'components.webm|thumb|video', 'demonstrating', 'standard', 'components', '``', 'slimline', \"''\", 'computer', 'term', \"''hardware\", \"''\", 'covers', 'parts', 'computer', 'tangible', 'physical', 'objects', 'circuits', 'computer', 'chips', 'graphic', 'cards', 'sound', 'cards', 'memory', 'ram', 'motherboard', 'displays', 'power', 'supplies', 'cables', 'keyboards', 'printers', '``', 'mice', \"''\", 'input', 'devices', 'hardware', '=history', 'computing', 'hardware=', 'main', 'article|history', 'computing', 'hardware', '--', 'warning', 'please', 'careful', 'modifying', 'table', 'especially', 'familiar', 'wikipedia', 'table', 'syntax', 'make', 'judicious', 'use', '``', 'preview', \"''\", 'button', '--', 'class=', \"''\", 'wikitable', \"''\", '|-', 'rowspan=', \"''\", '2', \"''\", 'first', 'generation', 'mechanical/electromechanical', '||', 'calculators', '||', 'pascal', \"'s\", 'calculator', 'arithmometer', 'difference', 'engine', 'leonardo', 'torres', 'quevedo', 'analytical', 'machines|quevedo', \"'s\", 'analytical', 'machines', '|-', 'programmable', 'devices', '||', 'jacquard', 'loom', 'analytical', 'engine', 'harvard', 'mark', 'i|ibm', 'ascc/harvard', 'mark', 'harvard', 'mark', 'ii', 'ibm', 'ssec', 'z1', 'computer', '|z1', 'z2', 'computer', '|z2', 'z3', 'computer', '|z3', '|-', 'rowspan=', \"''\", '2', \"''\", 'second', 'generation', 'vacuum', 'tubes', '||', 'calculators', '||', 'atanasoff–berry', 'computer', 'ibm', '604', 'remington', 'rand', '409|univac', '60', 'remington', 'rand', '409|univac', '120', '|-', 'list', 'vacuum', 'tube', 'computers|programmable', 'devices', '||', 'colossus', 'computer|colossus', 'eniac', 'manchester', 'small-scale', 'experimental', 'machine', 'electronic', 'delay', 'storage', 'automatic', 'calculator|edsac', 'manchester', 'mark', '1', 'ferranti', 'pegasus', 'ferranti', 'mercury', 'csirac', 'edvac', 'univac', 'ibm', '701', 'ibm', '702', 'ibm', '650', 'z22', 'computer', '|z22', '|-', 'rowspan=', \"''\", '2', \"''\", 'third', 'generation', 'discrete', 'transistors', 'ssi', 'msi', 'lsi', 'integrated', 'circuits', '||', 'mainframe', 'computer|mainframes', '||', 'ibm', '7090', 'ibm', '7080', 'ibm', 'system/360', 'bunch', '|-', 'minicomputer', '||', 'hp', '2100|hp', '2116a', 'ibm', 'system/32', 'ibm', 'system/36', 'linc', 'pdp-8', 'pdp-11', '|-', 'rowspan=', \"''\", '8', \"''\", 'fourth', 'generation', 'vlsi', 'integrated', 'circuits', '||', 'minicomputer', '||', 'vax', 'ibm', 'system', '|-', '4-bit', 'microcomputer', '||', 'intel', '4004', 'intel', '4040', '|-', '8-bit', 'microcomputer', '||', 'intel', '8008', 'intel', '8080', 'motorola', '6800', 'motorola', '6809', 'mos', 'technology', '6502', 'zilog', 'z80', '|-', '16-bit', 'microcomputer', '||', 'intel', '8088', 'zilog', 'z8000', 'wdc', '65816/65802', '|-', '32-bit', 'microcomputer', '||', 'intel', '80386', 'pentium', 'motorola', '68000', 'armv7|arm', '|-', '64-bit', 'microcomputermost', 'major', '64-bit', 'instruction', 'set|instruction', 'set', 'architectures', 'extensions', 'earlier', 'designs', 'architectures', 'listed', 'table', 'except', 'alpha', 'existed', '32-bit', 'forms', '64-bit', 'incarnations', 'introduced.||', 'dec', 'alpha|alpha', 'mips', 'architecture|mips', 'pa-risc', 'powerpc', 'sparc', 'x86-64', 'armv8-a', '|-', 'embedded', 'system|embedded', 'computer', '||', 'intel', '8048', 'intel', '8051', '|-', 'personal', 'computer', '||', 'desktop', 'computer', 'home', 'computer', 'laptop|laptop', 'computer', 'personal', 'digital', 'assistant', 'pda', 'portable', 'computer', 'tablet', 'computer|tablet', 'pc', 'wearable', 'computer', '|-', '||', 'theoretical/experimental', '||', 'quantum', 'computer', 'chemical', 'computer', 'dna', 'computing', 'photonic', 'computing|optical', 'computer', 'spintronics|spintronics', 'based', 'computer', '=other', 'hardware', 'topics=', 'class=', \"''\", 'wikitable', \"''\", '|-', 'rowspan=', \"''\", '3', \"''\", 'peripheral|peripheral', 'device', 'input/output', '||', 'input', '||', 'mouse', 'computing', '|mouse', 'keyboard', 'computing', '|keyboard', 'joystick', 'image', 'scanner', 'webcam', 'graphics', 'tablet', 'microphone', '|-', 'output', '||', 'computer', 'monitor|monitor', 'printer', 'computing', '|printer', 'computer', 'speaker|loudspeaker', '|-', '||', 'floppy', 'disk|floppy', 'disk', 'drive', 'hard', 'disk', 'drive', 'optical', 'disc', 'drive', 'teleprinter', '|-', 'rowspan=', \"''\", '2', \"''\", 'bus', 'computing', '|computer', 'buses', '||', 'short', 'range', '||', 'rs-232', 'scsi', 'conventional', 'pci|pci', 'universal', 'serial', 'bus|usb', '|-', 'long', 'range', 'computer', 'networking', '||', 'ethernet', 'asynchronous', 'transfer', 'mode|atm', 'fiber', 'distributed', 'data', 'interface|fddi', 'general', 'purpose', 'computer', 'four', 'main', 'components', 'arithmetic', 'logic', 'unit', 'alu', 'control', 'unit', 'computer', 'data', 'storage|memory', 'input', 'output', 'devices', 'collectively', 'termed', 'i/o', 'parts', 'interconnected', 'bus', 'computing', '|buses', 'often', 'made', 'groups', 'wires', 'inside', 'parts', 'thousands', 'trillions', 'small', 'electrical', 'network|electrical', 'circuits', 'turned', 'means', 'transistor|electronic', 'switch', 'circuit', 'represents', 'bit', 'binary', 'digit', 'information', 'circuit', 'represents', '``', '1', \"''\", 'represents', '``', '0', \"''\", 'positive', 'logic', 'representation', 'circuits', 'arranged', 'logic', 'gates', 'one', 'circuits', 'may', 'control', 'state', 'one', 'circuits', '=input', 'devices=', 'unprocessed', 'data', 'sent', 'computer', 'help', 'input', 'devices', 'data', 'processed', 'sent', 'output', 'devices', 'input', 'devices', 'may', 'hand-operated', 'automated', 'act', 'processing', 'mainly', 'regulated', 'cpu', 'examples', 'hand-operated', 'input', 'devices', 'computer', 'keyboard', 'digital', 'camera', 'digital', 'video', 'graphics', 'tablet', 'image', 'scanner', 'joystick', 'microphone', 'mouse', 'computing', '|mouse', 'overlay', 'keyboard', 'trackball', 'touchscreen', '=output', 'devices=', 'means', 'computer', 'gives', 'output', 'known', 'output', 'devices', 'examples', 'output', 'devices', '*computer', 'monitor', '*printer', 'computing', '|printer', '*pc', 'speaker', '*projector', '*sound', 'card', '*video', 'card', '=control', 'unit=', 'main', 'article|cpu', 'design|control', 'unit', 'file', 'mips32', 'addi.svg|thumb|right|diagram', 'showing', 'particular', 'mips', 'architecture', 'instruction', 'would', 'decoded', 'control', 'system', 'control', 'unit', 'often', 'called', 'control', 'system', 'central', 'controller', 'manages', 'computer', \"'s\", 'various', 'components', 'reads', 'interprets', 'decodes', 'program', 'instructions', 'transforming', 'control', 'signals', 'activate', 'parts', 'computer.the', 'control', 'unit', \"'s\", 'role', 'interpreting', 'instructions', 'varied', 'somewhat', 'past', 'although', 'control', 'unit', 'solely', 'responsible', 'instruction', 'interpretation', 'modern', 'computers', 'always', 'case', 'computers', 'instructions', 'partially', 'interpreted', 'control', 'unit', 'interpretation', 'performed', 'another', 'device', 'example', 'edvac', 'one', 'earliest', 'stored-program', 'computers', 'used', 'central', 'control', 'unit', 'interpreted', 'four', 'instructions', 'arithmetic-related', 'instructions', 'passed', 'arithmetic', 'unit', 'decoded', 'control', 'systems', 'advanced', 'computers', 'may', 'change', 'order', 'execution', 'instructions', 'improve', 'performance', 'key', 'component', 'common', 'cpus', 'program', 'counter', 'special', 'memory', 'cell', 'processor', 'register|register', 'keeps', 'track', 'location', 'memory', 'next', 'instruction', 'read', 'from.instructions', 'often', 'occupy', 'one', 'memory', 'address', 'therefore', 'program', 'counter', 'usually', 'increases', 'number', 'memory', 'locations', 'required', 'store', 'one', 'instruction', 'control', 'system', \"'s\", 'function', 'follows—note', 'simplified', 'description', 'steps', 'may', 'performed', 'concurrently', 'different', 'order', 'depending', 'type', 'cpu', 'read', 'code', 'next', 'instruction', 'cell', 'indicated', 'program', 'counter', 'decode', 'numerical', 'code', 'instruction', 'set', 'commands', 'signals', 'systems', 'increment', 'program', 'counter', 'points', 'next', 'instruction', 'read', 'whatever', 'data', 'instruction', 'requires', 'cells', 'memory', 'perhaps', 'input', 'device', 'location', 'required', 'data', 'typically', 'stored', 'within', 'instruction', 'code', 'provide', 'necessary', 'data', 'alu', 'register', 'instruction', 'requires', 'alu', 'specialized', 'hardware', 'complete', 'instruct', 'hardware', 'perform', 'requested', 'operation', 'write', 'result', 'alu', 'back', 'memory', 'location', 'register', 'perhaps', 'output', 'device', 'jump', 'back', 'step', '1', 'since', 'program', 'counter', 'conceptually', 'another', 'set', 'memory', 'cells', 'changed', 'calculations', 'done', 'alu', 'adding', '100', 'program', 'counter', 'would', 'cause', 'next', 'instruction', 'read', 'place', '100', 'locations', 'program', 'instructions', 'modify', 'program', 'counter', 'often', 'known', '``', 'jumps', \"''\", 'allow', 'loops', 'instructions', 'repeated', 'computer', 'often', 'conditional', 'instruction', 'execution', 'examples', 'control', 'flow', 'sequence', 'operations', 'control', 'unit', 'goes', 'process', 'instruction', 'like', 'short', 'computer', 'program', 'indeed', 'complex', 'cpu', 'designs', 'another', 'yet', 'smaller', 'computer', 'called', 'microsequencer', 'runs', 'microcode', 'program', 'causes', 'events', 'happen', '=central', 'processing', 'unit', 'cpu', 'control', 'unit', 'alu', 'registers', 'collectively', 'known', 'central', 'processing', 'unit', 'cpu', 'early', 'cpus', 'composed', 'many', 'separate', 'components', 'since', 'mid-1970s', 'cpus', 'typically', 'constructed', 'single', 'integrated', 'circuit', 'called', \"''microprocessor\", \"''\", '=arithmetic', 'logic', 'unit', 'alu', 'main', 'article|arithmetic', 'logic', 'unit', 'alu', 'capable', 'performing', 'two', 'classes', 'operations', 'arithmetic', 'logic', 'cite', 'book', 'title', 'complex', 'machine', 'survey', 'computers', 'computing', 'author', 'david', 'j.', 'eck', 'publisher', 'k', 'peters', 'ltd.', 'year', '2000', 'isbn', '978-1-56881-128-4', 'page', '54', 'set', 'arithmetic', 'operations', 'particular', 'alu', 'supports', 'may', 'limited', 'addition', 'subtraction', 'might', 'include', 'multiplication', 'division', 'trigonometry', 'functions', 'sine', 'cosine', 'etc.', 'square', 'roots', 'operate', 'whole', 'numbers', 'integers', 'whilst', 'others', 'use', 'floating', 'point', 'represent', 'real', 'numbers', 'albeit', 'limited', 'precision', 'however', 'computer', 'capable', 'performing', 'simplest', 'operations', 'programmed', 'break', 'complex', 'operations', 'simple', 'steps', 'perform', 'therefore', 'computer', 'programmed', 'perform', 'arithmetic', 'operation—although', 'take', 'time', 'alu', 'directly', 'support', 'operation', 'alu', 'may', 'also', 'compare', 'numbers', 'return', 'truth', 'value|boolean', 'truth', 'values', 'true', 'false', 'depending', 'whether', 'one', 'equal', 'greater', 'less', '``', '64', 'greater', '65', \"''\", 'logic', 'operations', 'involve', 'boolean', 'logic', 'logical', 'conjunction|and', 'logical', 'disjunction|or', 'exclusive', 'or|xor', 'negation|not', 'useful', 'creating', 'complicated', 'conditional', 'programming', '|conditional', 'statements', 'processing', 'boolean', 'logic', 'superscalar', 'computers', 'may', 'contain', 'multiple', 'alus', 'allowing', 'process', 'several', 'instructions', 'simultaneously', 'cite', 'book', 'title', 'handbook', 'parallel', 'computing', 'statistics', 'author', 'erricos', 'john', 'kontoghiorghes', 'publisher', 'crc', 'press', 'year', '2006', 'isbn', '978-0-8247-4067-2', 'page', '45', 'graphics', 'processing', 'unit|graphics', 'processors', 'computers', 'simd', 'mimd', 'features', 'often', 'contain', 'alus', 'perform', 'arithmetic', 'euclidean', 'vector|vectors', 'matrix', 'mathematics', '|matrices', '=memory=', 'main', 'article|computer', 'data', 'storage', 'file', 'magnetic', 'core.jpg|thumb|right|magnetic', 'core', 'memory', 'computer', 'memory', 'choice', 'throughout', '1960s', 'replaced', 'semiconductor', 'memory', 'computer', \"'s\", 'memory', 'viewed', 'list', 'cells', 'numbers', 'placed', 'read', 'cell', 'numbered', '``', 'address', \"''\", 'store', 'single', 'number', 'computer', 'instructed', '``', 'put', 'number', '123', 'cell', 'numbered', '1357', \"''\", '``', 'add', 'number', 'cell', '1357', 'number', 'cell', '2468', 'put', 'answer', 'cell', '1595', \"''\", 'information', 'stored', 'memory', 'may', 'represent', 'practically', 'anything', 'letters', 'numbers', 'even', 'computer', 'instructions', 'placed', 'memory', 'equal', 'ease', 'since', 'cpu', 'differentiate', 'different', 'types', 'information', 'software', \"'s\", 'responsibility', 'give', 'significance', 'memory', 'sees', 'nothing', 'series', 'numbers', 'almost', 'modern', 'computers', 'memory', 'cell', 'set', 'store', 'binary', 'numeral', 'system|binary', 'numbers', 'groups', 'eight', 'bits', 'called', 'byte', 'byte', 'able', 'represent', '256', 'different', 'numbers', '2', 'sup', '8', '/sup', '256', 'either', '0', '255', '−128', '+127', 'store', 'larger', 'numbers', 'several', 'consecutive', 'bytes', 'may', 'used', 'typically', 'two', 'four', 'eight', 'negative', 'numbers', 'required', 'usually', 'stored', 'two', \"'s\", 'complement', 'notation', 'arrangements', 'possible', 'usually', 'seen', 'outside', 'specialized', 'applications', 'historical', 'contexts', 'computer', 'store', 'kind', 'information', 'memory', 'represented', 'numerically', 'modern', 'computers', 'billions', 'even', 'trillions', 'bytes', 'memory', 'cpu', 'contains', 'special', 'set', 'memory', 'cells', 'called', 'processor', 'register|registers', 'read', 'written', 'much', 'rapidly', 'main', 'memory', 'area', 'typically', 'two', 'one', 'hundred', 'registers', 'depending', 'type', 'cpu', 'registers', 'used', 'frequently', 'needed', 'data', 'items', 'avoid', 'access', 'main', 'memory', 'every', 'time', 'data', 'needed', 'data', 'constantly', 'worked', 'reducing', 'need', 'access', 'main', 'memory', 'often', 'slow', 'compared', 'alu', 'control', 'units', 'greatly', 'increases', 'computer', \"'s\", 'speed', 'computer', 'main', 'memory', 'comes', 'two', 'principal', 'varieties', 'random-access', 'memory', 'ram', 'read-only', 'memory', 'rom', 'ram', 'read', 'written', 'anytime', 'cpu', 'commands', 'rom', 'preloaded', 'data', 'software', 'never', 'changes', 'therefore', 'cpu', 'read', 'rom', 'typically', 'used', 'store', 'computer', \"'s\", 'initial', 'start-up', 'instructions', 'general', 'contents', 'ram', 'erased', 'power', 'computer', 'turned', 'rom', 'retains', 'data', 'indefinitely', 'pc', 'rom', 'contains', 'specialized', 'program', 'called', 'bios', 'orchestrates', 'loading', 'computer', \"'s\", 'operating', 'system', 'hard', 'disk', 'drive', 'ram', 'whenever', 'computer', 'turned', 'reset', 'embedded', 'system|embedded', 'computers', 'frequently', 'disk', 'drives', 'required', 'software', 'may', 'stored', 'rom', 'software', 'stored', 'rom', 'often', 'called', 'firmware', 'notionally', 'like', 'hardware', 'software', 'flash', 'memory', 'blurs', 'distinction', 'rom', 'ram', 'retains', 'data', 'turned', 'also', 'rewritable', 'typically', 'much', 'slower', 'conventional', 'rom', 'ram', 'however', 'use', 'restricted', 'applications', 'high', 'speed', 'unnecessary.flash', 'memory', 'also', 'may', 'rewritten', 'limited', 'number', 'times', 'wearing', 'making', 'less', 'useful', 'heavy', 'random', 'access', 'usage', 'harv|verma', 'mielke|1988', 'sophisticated', 'computers', 'may', 'one', 'ram', 'cpu', 'cache|cache', 'memories', 'slower', 'registers', 'faster', 'main', 'memory', 'generally', 'computers', 'sort', 'cache', 'designed', 'move', 'frequently', 'needed', 'data', 'cache', 'automatically', 'often', 'without', 'need', 'intervention', 'programmer', \"'s\", 'part', '=input/output', 'i/o', 'main', 'article|input/output', 'file', 'hddspin.jpg|thumb|right|hard', 'disk', 'drives', 'common', 'storage', 'devices', 'used', 'computers', 'i/o', 'means', 'computer', 'exchanges', 'information', 'outside', 'world', 'cite', 'book', 'title', 'introduction', 'basic', 'computer', 'author', 'donald', 'eadie', 'year', '1968', 'publisher', 'prentice-hall', 'page', '12', 'devices', 'provide', 'input', 'output', 'computer', 'called', 'peripherals', 'cite', 'book', 'title', 'introduction', 'microcomputers', 'microprocessors', 'author', 'arpad', 'barna', '|author2=dan', 'i.', 'porat', 'publisher', 'wiley', 'year', '1976', 'isbn', '978-0-471-05051-3', 'page', '85', 'typical', 'personal', 'computer', 'peripherals', 'include', 'input', 'devices', 'like', 'keyboard', 'mouse', 'computing', '|mouse', 'output', 'devices', 'computer', 'monitor|display', 'printer', 'computing', '|printer', 'hard', 'disk', 'drives', 'floppy', 'disk|floppy', 'disk', 'drives', 'optical', 'disc', 'drives', 'serve', 'input', 'output', 'devices', 'computer', 'networking', 'another', 'form', 'i/o', 'i/o', 'devices', 'often', 'complex', 'computers', 'right', 'cpu', 'memory', 'graphics', 'processing', 'unit', 'might', 'contain', 'fifty', 'tiny', 'computers', 'perform', 'calculations', 'necessary', 'display', '3d', 'computer', 'graphics|3d', 'graphics', 'citation', 'needed|date=december', '2007', 'modern', 'desktop', 'computers', 'contain', 'many', 'smaller', 'computers', 'assist', 'main', 'cpu', 'performing', 'i/o', '2016-era', 'flat', 'screen', 'display', 'contains', 'computer', 'circuitry', '=multitasking=', 'main', 'article|computer', 'multitasking', 'computer', 'may', 'viewed', 'running', 'one', 'gigantic', 'program', 'stored', 'main', 'memory', 'systems', 'necessary', 'give', 'appearance', 'running', 'several', 'programs', 'simultaneously', 'achieved', 'multitasking', 'i.e', 'computer', 'switch', 'rapidly', 'running', 'program', 'turn', 'cite', 'book', 'title', 'learning', 'unix', 'operating', 'system', 'concise', 'guide', 'new', 'user', 'author', 'jerry', 'peek', '|author2=grace', 'todino', '|author3=john', 'strang', 'publisher', \"o'reilly\", 'year', '2002', 'isbn', '978-0-596-00261-9', 'page', '130', 'one', 'means', 'done', 'special', 'signal', 'called', 'interrupt', 'periodically', 'cause', 'computer', 'stop', 'executing', 'instructions', 'something', 'else', 'instead', 'remembering', 'executing', 'prior', 'interrupt', 'computer', 'return', 'task', 'later', 'several', 'programs', 'running', '``', 'time', \"''\", 'interrupt', 'generator', 'might', 'causing', 'several', 'hundred', 'interrupts', 'per', 'second', 'causing', 'program', 'switch', 'time', 'since', 'modern', 'computers', 'typically', 'execute', 'instructions', 'several', 'orders', 'magnitude', 'faster', 'human', 'perception', 'may', 'appear', 'many', 'programs', 'running', 'time', 'even', 'though', 'one', 'ever', 'executing', 'given', 'instant', 'method', 'multitasking', 'sometimes', 'termed', '``', 'time-sharing', \"''\", 'since', 'program', 'allocated', '``', 'slice', \"''\", 'time', 'turn', 'cite', 'book', 'title', 'noise', 'reduction', 'speech', 'applications', 'author', 'gillian', 'm.', 'davis', 'publisher', 'crc', 'press', 'year', '2002', 'isbn', '978-0-8493-0949-6', 'page', '111', 'era', 'inexpensive', 'computers', 'principal', 'use', 'multitasking', 'allow', 'many', 'people', 'share', 'computer', 'seemingly', 'multitasking', 'would', 'cause', 'computer', 'switching', 'several', 'programs', 'run', 'slowly', 'direct', 'proportion', 'number', 'programs', 'running', 'programs', 'spend', 'much', 'time', 'waiting', 'slow', 'input/output', 'devices', 'complete', 'tasks', 'program', 'waiting', 'user', 'click', 'mouse', 'press', 'key', 'keyboard', 'take', '``', 'time', 'slice', \"''\", 'event', 'waiting', 'occurred', 'frees', 'time', 'programs', 'execute', 'many', 'programs', 'may', 'run', 'simultaneously', 'without', 'unacceptable', 'speed', 'loss', '=multiprocessing=', 'main', 'article|multiprocessing', 'file', 'cray', '2', 'arts', 'et', 'metiers', 'dsc03940.jpg|thumb|cray', 'designed', 'many', 'supercomputers', 'used', 'multiprocessing', 'heavily', 'computers', 'designed', 'distribute', 'work', 'across', 'several', 'cpus', 'multiprocessing', 'configuration', 'technique', 'employed', 'large', 'powerful', 'machines', 'supercomputers', 'mainframe', 'computers', 'server', 'computing', '|servers', 'multiprocessor', 'multi-core', 'multiple', 'cpus', 'single', 'integrated', 'circuit', 'personal', 'laptop', 'computers', 'widely', 'available', 'increasingly', 'used', 'lower-end', 'markets', 'result', 'supercomputers', 'particular', 'often', 'highly', 'unique', 'architectures', 'differ', 'significantly', 'basic', 'stored-program', 'architecture', 'general', 'purpose', 'computers.however', 'also', 'common', 'construct', 'supercomputers', 'many', 'pieces', 'cheap', 'commodity', 'hardware', 'usually', 'individual', 'computers', 'connected', 'networks', 'so-called', 'computer', 'clusters', 'often', 'provide', 'supercomputer', 'performance', 'much', 'lower', 'cost', 'customized', 'designs', 'custom', 'architectures', 'still', 'used', 'powerful', 'supercomputers', 'proliferation', 'cluster', 'computers', 'recent', 'years', 'harv|top500|2006', 'often', 'feature', 'thousands', 'cpus', 'customized', 'high-speed', 'interconnects', 'specialized', 'computing', 'hardware', 'designs', 'tend', 'useful', 'specialized', 'tasks', 'due', 'large', 'scale', 'program', 'organization', 'required', 'successfully', 'utilize', 'available', 'resources', 'supercomputers', 'usually', 'see', 'usage', 'large-scale', 'computer', 'simulation|simulation', 'rendering', 'computer', 'graphics', '|graphics', 'rendering', 'cryptography', 'applications', 'well', 'so-called', '``', 'embarrassingly', 'parallel', \"''\", 'tasks', 'software', 'main', 'article|computer', 'software', \"''software\", \"''\", 'refers', 'parts', 'computer', 'material', 'form', 'programs', 'data', 'protocols', 'etc', 'software', 'part', 'computer', 'system', 'consists', 'encoded', 'information', 'computer', 'instructions', 'contrast', 'physical', 'computer', 'hardware|hardware', 'system', 'built', 'computer', 'software', 'includes', 'computer', 'programs', 'library', 'computing', '|libraries', 'related', 'non-executable', 'data', 'computing', '|data', 'software', 'documentation|online', 'documentation', 'digital', 'media', 'computer', 'hardware', 'software', 'require', 'neither', 'realistically', 'used', 'software', 'stored', 'hardware', 'easily', 'modified', 'bios', 'read-only', 'memory|rom', 'ibm', 'pc', 'compatible', 'computer', 'sometimes', 'called', '``', 'firmware', \"''\", '=operating', 'systems=', 'class=', \"''\", 'wikitable', \"''\", '|-', 'rowspan=', \"''\", '7', \"''\", 'operating', 'system', '/system', 'software', '||', 'unix', 'berkeley', 'software', 'distribution|bsd', '||', 'unix', 'system', 'v', 'ibm', 'aix', 'hp-ux', 'solaris', 'operating', 'system', '|solaris', 'sunos', 'irix', 'list', 'bsd', 'operating', 'systems', '|-', 'gnu/linux', '||', 'list', 'linux', 'distributions', 'comparison', 'linux', 'distributions', '|-', 'microsoft', 'windows', '||', 'windows', '95', 'windows', '98', 'windows', 'nt', 'windows', '2000', 'windows', 'windows', 'xp', 'windows', 'vista', 'windows', '7', 'windows', '8', 'windows', '10', '|-', 'dos', '||', '86-dos', 'qdos', 'ibm', 'pc', 'dos', 'ms-dos', 'dr-dos', 'freedos', '|-', 'mac', 'os', '||', 'mac', 'os|mac', 'os', 'classic', 'mac', 'os', 'x', '|-', 'embedded', 'operating', 'system|embedded', 'real-time', 'operating', 'system|real-time', '||', 'list', 'operating', 'systems', 'embedded|list', 'embedded', 'operating', 'systems', '|-', 'experimental', '||', 'amoeba', 'distributed', 'operating', 'system|amoeba', 'oberon', 'operating', 'system', '|oberon/bluebottle', 'os|bluebottle', 'plan', '9', 'bell', 'labs', '|-', 'rowspan=', \"''\", '2', \"''\", 'library', 'computing', '|library', '||', 'multimedia', '||', 'directx', 'opengl', 'openal', 'vulkan', 'api', '|-', 'programming', 'library', '||', 'c', 'standard', 'library', 'standard', 'template', 'library', '|-', 'rowspan=', \"''\", '2', \"''\", 'data', 'computing', '|data', '||', 'protocol', 'computing', '|protocol', '||', 'internet', 'protocol', 'suite|tcp/ip', 'kermit', 'protocol', '|kermit', 'file', 'transfer', 'protocol|ftp', 'hypertext', 'transfer', 'protocol|http', 'simple', 'mail', 'transfer', 'protocol|smtp', '|-', 'file', 'format', '||', 'html', 'xml', 'jpeg', 'moving', 'picture', 'experts', 'group|mpeg', 'portable', 'network', 'graphics|png', '|-', 'rowspan=', \"''\", '2', \"''\", 'user', 'interface', '||', 'graphical', 'user', 'interface', 'wimp', 'computing', '|wimp', '||', 'microsoft', 'windows', 'gnome', 'kde', 'qnx|qnx', 'photon', 'common', 'desktop', 'environment|cde', 'graphics', 'environment', 'manager|gem', 'aqua', 'user', 'interface', '|aqua', '|-', 'text-based', 'computing', '|text-based', 'user', 'interface', '||', 'command-line', 'interface', 'text', 'user', 'interface', '|-', 'rowspan=', \"''\", '9', \"''\", 'application', 'software|application', 'software', '||', 'office', 'suite', '||', 'word', 'processing', 'desktop', 'publishing', 'presentation', 'program', 'database', 'management', 'system', 'scheduling', 'time', 'management', 'spreadsheet', 'accounting', 'software', '|-', 'internet', 'access', '||', 'web', 'browser|browser', 'e-mail', 'client', 'web', 'server', 'mail', 'transfer', 'agent', 'instant', 'messaging', '|-', 'design', 'manufacturing', '||', 'computer-aided', 'design', 'computer-aided', 'manufacturing', 'plant', 'management', 'robotic', 'manufacturing', 'supply', 'chain', 'management', '|-', 'computer', 'graphics|graphics', '||', 'raster', 'graphics', 'editor', 'vector', 'graphics', 'editor', '3d', 'computer', 'graphics', 'software|3d', 'modeler', 'computer', 'animation|animation', 'editor', '3d', 'computer', 'graphics', 'video', 'editing', 'image', 'processing', '|-', 'digital', 'audio|audio', '||', 'digital', 'audio', 'editor', 'audio', 'player', 'software', '|audio', 'playback', 'audio', 'mixing|mixing', 'software', 'synthesizer|audio', 'synthesis', 'computer', 'music', '|-', 'software', 'engineering', '||', 'compiler', 'assembler', 'computer', 'programming', '|assembler', 'interpreter', 'computing', '|interpreter', 'debugger', 'text', 'editor', 'integrated', 'development', 'environment', 'software', 'performance', 'analysis', 'revision', 'control', 'software', 'configuration', 'management', '|-', 'educational', '||', 'edutainment', 'educational', 'game', 'serious', 'game', 'flight', 'simulator', '|-', 'video', 'game|games', '||', 'strategy', 'game|strategy', 'arcade', 'game|arcade', 'puzzle', 'video', 'game|puzzle', 'simulation', 'video', 'game|simulation', 'first-person', 'shooter', 'platform', 'game|platform', 'massively', 'multiplayer', 'online', 'game|massively', 'multiplayer', 'interactive', 'fiction', '|-', 'misc', '||', 'artificial', 'intelligence', 'antivirus', 'software', 'malware', 'scanner', 'installation', 'computer', 'programs', '|installer/package', 'management', 'systems', 'file', 'manager', '=languages=', 'thousands', 'different', 'programming', 'languages—some', 'intended', 'general', 'purpose', 'others', 'useful', 'highly', 'specialized', 'applications', '--', 'attention', 'authors', 'please', 'add', 'every', 'programming', 'language', 'existence', 'table—there', 'vastly', 'many', 'them—and', 'right', 'place', 'listing', 'obscure', 'languages', \"'list\", '...', 'articles', 'referenced', 'please', 'add', 'commonly', 'currently', 'used', 'highly', 'historically', 'relevant', 'languages', 'lists', 'else', 'things', 'rapidly', 'spiral', 'control', '--', 'class=', \"''\", 'wikitable', \"''\", '|+', \"''\", \"'programming\", 'languages', \"''\", '||', 'lists', 'programming', 'languages', '||', 'timeline', 'programming', 'languages', 'list', 'programming', 'languages', 'category', 'generational', 'list', 'programming', 'languages', 'list', 'programming', 'languages', 'non-english-based', 'programming', 'languages', '|-', '||', 'commonly', 'used', 'assembly', 'languages', '||', 'arm', 'architecture|arm', 'mips', 'architecture|mips', 'x86', 'assembly', 'language|x86', '|-', '||', 'commonly', 'used', 'high-level', 'programming', 'languages', '||', 'ada', 'programming', 'language', '|ada', 'basic', 'c', 'programming', 'language', '|c', 'c++', 'c', 'sharp', 'programming', 'language', '|c', 'cobol', 'fortran', 'pl/1', 'rexx', 'java', 'programming', 'language', '|java', 'lisp', 'programming', 'language', '|lisp', 'pascal', 'programming', 'language', '|pascal', 'object', 'pascal', '|-', '||', 'commonly', 'used', 'scripting', 'languages', '||', 'bourne', 'shell|bourne', 'script', 'javascript', 'python', 'programming', 'language', '|python', 'ruby', 'programming', 'language', '|ruby', 'php', 'perl', '=application', 'software=', '=programs=', 'defining', 'feature', 'modern', 'computers', 'distinguishes', 'machines', 'computer', 'programming|programmed', 'say', 'type', 'instruction', 'computer', 'science', '|instructions', 'computer', 'program|program', 'given', 'computer', 'process', 'modern', 'computers', 'based', 'von', 'neumann', 'architecture', 'often', 'machine', 'code', 'form', 'imperative', 'programming', 'language', 'practical', 'terms', 'computer', 'program', 'may', 'instructions', 'extend', 'many', 'millions', 'instructions', 'programs', 'word', 'processors', 'web', 'browsers', 'example', 'typical', 'modern', 'computer', 'execute', 'billions', 'instructions', 'per', 'second', 'flops|gigaflops', 'rarely', 'makes', 'mistake', 'many', 'years', 'operation', 'large', 'computer', 'programs', 'consisting', 'several', 'million', 'instructions', 'may', 'take', 'teams', 'programmers', 'years', 'write', 'due', 'complexity', 'task', 'almost', 'certainly', 'contain', 'errors', 'stored', 'program', 'architecture', 'main', 'article|computer', 'program|computer', 'programming', 'file', 'ssem', 'manchester', 'museum.jpg|thumb|right|replica', 'small-scale', 'experimental', 'machine', 'ssem', 'world', \"'s\", 'first', 'stored-program', 'computer', 'museum', 'science', 'industry', 'manchester', '|museum', 'science', 'industry', 'manchester', 'england', 'section', 'applies', 'common', 'ram', 'machine-based', 'computers', 'cases', 'computer', 'instructions', 'simple', 'add', 'one', 'number', 'another', 'move', 'data', 'one', 'location', 'another', 'send', 'message', 'external', 'device', 'etc', 'instructions', 'read', 'computer', \"'s\", 'computer', 'data', 'storage|memory', 'generally', 'carried', 'execution', 'computing', '|executed', 'order', 'given', 'however', 'usually', 'specialized', 'instructions', 'tell', 'computer', 'jump', 'ahead', 'backwards', 'place', 'program', 'carry', 'executing', 'called', '``', 'jump', \"''\", 'instructions', 'branch', 'computer', 'science', '|branches', 'furthermore', 'jump', 'instructions', 'may', 'made', 'happen', 'conditional', 'programming', '|conditionally', 'different', 'sequences', 'instructions', 'may', 'used', 'depending', 'result', 'previous', 'calculation', 'external', 'event', 'many', 'computers', 'directly', 'support', 'subroutines', 'providing', 'type', 'jump', '``', 'remembers', \"''\", 'location', 'jumped', 'another', 'instruction', 'return', 'instruction', 'following', 'jump', 'instruction', 'program', 'execution', 'might', 'likened', 'reading', 'book', 'person', 'normally', 'read', 'word', 'line', 'sequence', 'may', 'times', 'jump', 'back', 'earlier', 'place', 'text', 'skip', 'sections', 'interest', 'similarly', 'computer', 'may', 'sometimes', 'go', 'back', 'repeat', 'instructions', 'section', 'program', 'internal', 'condition', 'met', 'called', 'control', 'flow|flow', 'control', 'within', 'program', 'allows', 'computer', 'perform', 'tasks', 'repeatedly', 'without', 'human', 'intervention', 'comparatively', 'person', 'using', 'pocket', 'calculator', 'perform', 'basic', 'arithmetic', 'operation', 'adding', 'two', 'numbers', 'button', 'presses', 'add', 'together', 'numbers', '1', '1,000', 'would', 'take', 'thousands', 'button', 'presses', 'lot', 'time', 'near', 'certainty', 'making', 'mistake', 'hand', 'computer', 'may', 'programmed', 'simple', 'instructions', 'following', 'example', 'written', 'mips', 'architecture|mips', 'assembly', 'language', 'clear', 'source', 'lang=', \"''\", 'asm', \"''\", 'begin', 'addi', '8', '0', '0', 'initialize', 'sum', '0', 'addi', '9', '0', '1', 'set', 'first', 'number', 'add', '1', 'loop', 'slti', '10', '9', '1000', 'check', 'number', 'less', '1000', 'beq', '10', '0', 'finish', 'odd', 'number', 'greater', 'n', 'exit', 'add', '8', '8', '9', 'update', 'sum', 'addi', '9', '9', '1', 'get', 'next', 'number', 'j', 'loop', 'repeat', 'summing', 'process', 'finish', 'add', '2', '8', '0', 'put', 'sum', 'output', 'register', '/source', 'told', 'run', 'program', 'computer', 'perform', 'repetitive', 'addition', 'task', 'without', 'human', 'intervention', 'almost', 'never', 'make', 'mistake', 'modern', 'pc', 'complete', 'task', 'fraction', 'second', 'machine', 'code', 'computers', 'individual', 'instructions', 'stored', 'machine', 'code', 'instruction', 'given', 'unique', 'number', 'operation', 'code', 'opcode', 'short', 'command', 'add', 'two', 'numbers', 'together', 'would', 'one', 'opcode', 'command', 'multiply', 'would', 'different', 'opcode', 'simplest', 'computers', 'able', 'perform', 'handful', 'different', 'instructions', 'complex', 'computers', 'several', 'hundred', 'choose', 'unique', 'numerical', 'code', 'since', 'computer', \"'s\", 'memory', 'able', 'store', 'numbers', 'also', 'store', 'instruction', 'codes', 'leads', 'important', 'fact', 'entire', 'programs', 'lists', 'instructions', 'represented', 'lists', 'numbers', 'manipulated', 'inside', 'computer', 'way', 'numeric', 'data', 'fundamental', 'concept', 'storing', 'programs', 'computer', \"'s\", 'memory', 'alongside', 'data', 'operate', 'crux', 'von', 'neumann', 'stored', 'program', 'citation', 'needed|date=may', '2014', 'architecture', 'cases', 'computer', 'might', 'store', 'program', 'memory', 'kept', 'separate', 'data', 'operates', 'called', 'harvard', 'architecture', 'harvard', 'mark', 'computer', 'modern', 'von', 'neumann', 'computers', 'display', 'traits', 'harvard', 'architecture', 'designs', 'cpu', 'caches', 'possible', 'write', 'computer', 'programs', 'long', 'lists', 'numbers', 'machine', 'code|machine', 'language', 'technique', 'used', 'many', 'early', 'computers', 'even', 'later', 'computers', 'commonly', 'programmed', 'directly', 'machine', 'code', 'minicomputers', 'like', 'digital', 'equipment', 'corporation|dec', 'pdp-8', 'could', 'programmed', 'directly', 'panel', 'switches', 'however', 'method', 'usually', 'used', 'part', 'booting', 'process', 'modern', 'computers', 'boot', 'entirely', 'automatically', 'reading', 'boot', 'program', 'non-volatile', 'memory', 'extremely', 'tedious', 'potentially', 'error-prone', 'practice', 'especially', 'complicated', 'programs', 'instead', 'basic', 'instruction', 'given', 'short', 'name', 'indicative', 'function', 'easy', 'remember', 'nbsp', '–', 'mnemonic', 'add', 'sub', 'mult', 'jump', 'mnemonics', 'collectively', 'known', 'computer', \"'s\", 'assembly', 'language', 'converting', 'programs', 'written', 'assembly', 'language', 'something', 'computer', 'actually', 'understand', 'machine', 'language', 'usually', 'done', 'computer', 'program', 'called', 'assembler', 'file', 'fortrancardproj039.agr.jpg|thumb|right|a', '1970s', 'punched', 'card', 'containing', 'one', 'line', 'fortran|fortran', 'program', 'card', 'reads', '``', 'z', '1', 'w', '1', \"''\", 'labeled', '``', 'proj039', \"''\", 'identification', 'purposes', 'programming', 'language', 'main', 'article|programming', 'language', 'programming', 'languages', 'provide', 'various', 'ways', 'specifying', 'programs', 'computers', 'run', 'unlike', 'natural', 'languages', 'programming', 'languages', 'designed', 'permit', 'ambiguity', 'concise', 'purely', 'written', 'languages', 'often', 'difficult', 'read', 'aloud', 'generally', 'either', 'translated', 'machine', 'code', 'compiler', 'assembler', 'computer', 'programming', '|assembler', 'run', 'translated', 'directly', 'run', 'time', 'interpreter', 'computing', '|interpreter', 'sometimes', 'programs', 'executed', 'hybrid', 'method', 'two', 'techniques', '=low-level', 'languages=', 'main', 'article|low-level', 'programming', 'language', 'machine', 'languages', 'assembly', 'languages', 'represent', 'collectively', 'termed', \"''low-level\", 'programming', 'languages', \"''\", 'tend', 'unique', 'particular', 'type', 'computer', 'instance', 'arm', 'architecture', 'computer', 'may', 'found', 'smartphone', 'handheld', 'video', 'game|hand-held', 'videogame', 'understand', 'machine', 'language', 'x86|x86', 'cpu', 'might', 'personal', 'computer|pc.however', 'sometimes', 'form', 'machine', 'language', 'compatibility', 'different', 'computers', 'x86-64', 'compatible', 'microprocessor', 'like', 'advanced', 'micro', 'devices|amd', 'athlon', '64', 'able', 'run', 'programs', 'intel', 'core', '2', 'microprocessor', 'well', 'programs', 'designed', 'earlier', 'microprocessors', 'like', 'intel', 'pentiums', 'intel', '80486.', 'contrasts', 'early', 'commercial', 'computers', 'often', 'one-of-a-kind', 'totally', 'incompatible', 'computers', '=high-level', 'languages/third', 'generation', 'language=', 'main', 'article|high-level', 'programming', 'language', 'though', 'considerably', 'easier', 'machine', 'language', 'writing', 'long', 'programs', 'assembly', 'language', 'often', 'difficult', 'also', 'error', 'prone', 'therefore', 'practical', 'programs', 'written', 'abstract', 'high-level', 'programming', 'languages', 'able', 'express', 'needs', 'programmer', 'conveniently', 'thereby', 'help', 'reduce', 'programmer', 'error', 'high', 'level', 'languages', 'usually', '``', 'compiled', \"''\", 'machine', 'language', 'sometimes', 'assembly', 'language', 'machine', 'language', 'using', 'another', 'computer', 'program', 'called', 'compiler.high', 'level', 'languages', 'also', 'often', 'interpreted', 'language|interpreted', 'rather', 'compiled', 'interpreted', 'languages', 'translated', 'machine', 'code', 'fly', 'running', 'another', 'program', 'called', 'interpreter', 'computing', '|interpreter', 'high', 'level', 'languages', 'less', 'related', 'workings', 'target', 'computer', 'assembly', 'language', 'related', 'language', 'structure', 'problem', 'solved', 'final', 'program', 'therefore', 'often', 'possible', 'use', 'different', 'compilers', 'translate', 'high', 'level', 'language', 'program', 'machine', 'language', 'many', 'different', 'types', 'computer', 'part', 'means', 'software', 'like', 'video', 'games', 'may', 'made', 'available', 'different', 'computer', 'architectures', 'personal', 'computers', 'various', 'video', 'game', 'consoles', 'fourth', 'generation', 'languages', '4g', 'languages', 'less', 'procedural', '3g', 'languages', 'benefit', '4gl', 'provide', 'ways', 'obtain', 'information', 'without', 'requiring', 'direct', 'help', 'programmer', 'example', '4gl', 'sql', 'program', 'design', 'unreferenced', 'section|date=july', '2012', 'program', 'design', 'small', 'programs', 'relatively', 'simple', 'involves', 'analysis', 'problem', 'collection', 'inputs', 'using', 'programming', 'constructs', 'within', 'languages', 'devising', 'using', 'established', 'procedures', 'algorithms', 'providing', 'data', 'output', 'devices', 'solutions', 'problem', 'applicable', 'problems', 'become', 'larger', 'complex', 'features', 'subprograms', 'modules', 'formal', 'documentation', 'new', 'paradigms', 'object-oriented', 'programming', 'encountered', 'large', 'programs', 'involving', 'thousands', 'line', 'code', 'require', 'formal', 'software', 'methodologies', 'task', 'developing', 'large', 'computer', 'software|software', 'systems', 'presents', 'significant', 'intellectual', 'challenge', 'producing', 'software', 'acceptably', 'high', 'reliability', 'within', 'predictable', 'schedule', 'budget', 'historically', 'difficult', 'academic', 'professional', 'discipline', 'software', 'engineering', 'concentrates', 'specifically', 'challenge', 'bugs', 'main', 'article|software', 'bug', 'file', 'h96566k.jpg|thumb|the', 'actual', 'first', 'computer', 'bug', 'moth', 'found', 'trapped', 'relay', 'harvard', 'mark', 'ii', 'computer', 'errors', 'computer', 'programs', 'called', '``', 'software', 'bug|bugs', \"''\", 'may', 'benign', 'affect', 'usefulness', 'program', 'subtle', 'effects', 'cases', 'may', 'cause', 'program', 'entire', 'system', '``', 'hang', 'computing', '|hang', \"''\", 'becoming', 'unresponsive', 'input', 'mouse', 'computing', '|mouse', 'clicks', 'keystrokes', 'completely', 'fail', 'crash', 'computing', '|crash', 'otherwise', 'benign', 'bugs', 'may', 'sometimes', 'harnessed', 'malicious', 'intent', 'unscrupulous', 'user', 'writing', 'exploit', 'computer', 'security', '|exploit', 'code', 'designed', 'take', 'advantage', 'bug', 'disrupt', 'computer', \"'s\", 'proper', 'execution', 'bugs', 'usually', 'fault', 'computer', 'since', 'computers', 'merely', 'execute', 'instructions', 'given', 'bugs', 'nearly', 'always', 'result', 'programmer', 'error', 'oversight', 'made', 'program', \"'s\", 'design.it', 'universally', 'true', 'bugs', 'solely', 'due', 'programmer', 'oversight', 'computer', 'hardware', 'may', 'fail', 'may', 'fundamental', 'problem', 'produces', 'unexpected', 'results', 'certain', 'situations', 'instance', 'pentium', 'fdiv', 'bug', 'caused', 'intel', 'corporation|intel', 'microprocessors', 'early', '1990s', 'produce', 'inaccurate', 'results', 'certain', 'floating', 'point', 'division', 'operations', 'caused', 'flaw', 'microprocessor', 'design', 'resulted', 'partial', 'recall', 'affected', 'devices', 'admiral', 'grace', 'hopper', 'american', 'computer', 'scientist', 'developer', 'first', 'compiler', 'credited', 'first', 'used', 'term', '``', 'bugs', \"''\", 'computing', 'dead', 'moth', 'found', 'shorting', 'relay', 'harvard', 'mark', 'ii', 'computer', 'september', '1947.', 'ref', 'name=', \"''\", 'taylor84', \"''\", 'cite', 'news', '|first', 'alexander', 'l.', 'iii', '|last', 'taylor', '|url', 'http', '//www.time.com/time/printout/0,8816,954266,00.html', '|title', 'wizard', 'inside', 'machine', '|work', 'time', 'magazine', '|time', '|date', '16', 'april', '1984', '|accessdate', '=17', 'february', '2007', 'subscription', 'required', 'firmware', 'firmware', 'technology', 'combination', 'hardware', 'software', 'bios', 'chip', 'inside', 'computer', 'chip', 'hardware', 'located', 'motherboard', 'bios', 'set', 'software', 'stored', 'networking', 'internet', 'main', 'article|computer', 'networking|internet', 'file', 'internet', 'map', '1024.jpg|thumb|left|visualization', 'portion', 'routing|routes', 'internet', 'computers', 'used', 'coordinate', 'information', 'multiple', 'locations', 'since', '1950s', 'u.s.', 'military', \"'s\", 'semi', 'automatic', 'ground', 'environment|sage', 'system', 'first', 'large-scale', 'example', 'system', 'led', 'number', 'special-purpose', 'commercial', 'systems', 'sabre', 'computer', 'system', '|sabre', 'cite', 'book', 'title', 'systems', 'experts', 'computers', 'author', 'agatha', 'c.', 'hughes', 'publisher', 'mit', 'press', 'year', '2000', 'isbn', '978-0-262-08285-3', 'page', '161', 'quote', 'experience', 'sage', 'helped', 'make', 'possible', 'first', 'truly', 'large-scale', 'commercial', 'real-time', 'network', 'sabre', 'computerized', 'airline', 'reservations', 'system', 'nbsp', '...', '1970s', 'computer', 'engineers', 'research', 'institutions', 'throughout', 'united', 'states', 'began', 'link', 'computers', 'together', 'using', 'telecommunications', 'technology', 'effort', 'funded', 'arpa', 'darpa', 'computer', 'network', 'resulted', 'called', 'arpanet', 'cite', 'web|title=a', 'brief', 'history', 'internet|url=http', '//www.isoc.org/internet/history/brief.shtml|publisher=internet', 'society|accessdate=20', 'september', '2008', 'technologies', 'made', 'arpanet', 'possible', 'spread', 'evolved', 'time', 'network', 'spread', 'beyond', 'academic', 'military', 'institutions', 'became', 'known', 'internet', 'emergence', 'networking', 'involved', 'redefinition', 'nature', 'boundaries', 'computer', 'computer', 'operating', 'systems', 'applications', 'modified', 'include', 'ability', 'define', 'access', 'resources', 'computers', 'network', 'peripheral', 'devices', 'stored', 'information', 'like', 'extensions', 'resources', 'individual', 'computer', 'initially', 'facilities', 'available', 'primarily', 'people', 'working', 'high-tech', 'environments', '1990s', 'spread', 'applications', 'like', 'e-mail', 'world', 'wide', 'web', 'combined', 'development', 'cheap', 'fast', 'networking', 'technologies', 'like', 'ethernet', 'asymmetric', 'digital', 'subscriber', 'line|adsl', 'saw', 'computer', 'networking', 'become', 'almost', 'ubiquitous', 'fact', 'number', 'computers', 'networked', 'growing', 'phenomenally', 'large', 'proportion', 'personal', 'computers', 'regularly', 'connect', 'internet', 'communicate', 'receive', 'information', '``', 'wireless', \"''\", 'networking', 'often', 'utilizing', 'mobile', 'phone', 'networks', 'meant', 'networking', 'becoming', 'increasingly', 'ubiquitous', 'even', 'mobile', 'computing', 'environments', 'clear', 'misconceptions', '=human', 'computer=', 'main', 'article|human', 'computer|harvard', 'computers', 'file', 'human', 'computers', 'dryden.jpg|thumb|women', \"''computers\", \"''\", 'naca', 'high', 'speed', 'flight', 'station', '``', 'computer', 'room', \"''\", 'computer', 'need', 'electronics|electronic', 'even', 'central', 'processing', 'unit|processor', 'random-access', 'memory|ram', 'even', 'hard', 'disk', 'popular', 'usage', 'word', '``', 'computer', \"''\", 'synonymous', 'personal', 'electronic', 'computer', 'modernaccording', \"''shorter\", 'oxford', 'english', 'dictionary', \"''\", '6th', 'ed', '2007', 'word', \"''computer\", \"''\", 'dates', 'back', 'mid', '17th', 'century', 'referred', '``', 'person', 'makes', 'calculations', 'specifically', 'person', 'employed', 'observatory', 'etc', \"''\", 'definition', 'computer', 'literally', '``', \"''a\", 'device', 'computes', \"''\", 'especially', 'programmable', 'usually', 'electronic', 'machine', 'performs', 'high-speed', 'mathematical', 'logical', 'operations', 'assembles', 'stores', 'correlates', 'otherwise', 'processes', 'information', '``', 'cite', 'web|url=http', '//thefreedictionary.com/computer', '|title=definition', 'computer|publisher=thefreedictionary.com', '|accessdate=29', 'january', '2012', 'device', \"''processes\", 'information', \"''\", 'qualifies', 'computer', 'especially', 'processing', 'purposeful', 'citation', 'needed|date=september', '2015', '=unconventional', 'computing=', 'main', 'article|unconventional', 'computing', 'historically', 'computers', 'evolved', 'mechanical', 'computers', 'eventually', 'vacuum', 'tubes', 'transistors', 'however', 'conceptually', 'computational', 'systems', 'turing', 'complete|flexible', 'personal', 'computer', 'built', 'almost', 'anything', 'example', 'computer', 'made', 'billiard', 'balls', 'billiard', 'ball', 'computer', 'often', 'quoted', 'example', 'citation', 'needed|date=december', '2012', 'realistically', 'modern', 'computers', 'made', 'transistors', 'made', 'photolithography|photolithographed', 'semiconductors', 'future', 'active', 'research', 'make', 'computers', 'many', 'promising', 'new', 'types', 'technology', 'optical', 'computing|optical', 'computers', 'dna', 'computing|dna', 'computers', 'wetware', 'computer|neural', 'computers', 'quantum', 'computing|quantum', 'computers', 'computers', 'universal', 'able', 'calculate', 'computable', 'function', 'limited', 'memory', 'capacity', 'operating', 'speed', 'however', 'different', 'designs', 'computers', 'give', 'different', 'performance', 'particular', 'problems', 'example', 'quantum', 'computers', 'potentially', 'break', 'modern', 'encryption', 'algorithms', 'shor', \"'s\", 'algorithm|quantum', 'factoring', 'quickly', '=computer', 'architecture', 'paradigms=', 'many', 'types', 'computer', 'architectures', 'quantum', 'computer', 'vs.', 'chemical', 'computer', 'scalar', 'processor', 'vs.', 'vector', 'processor', 'non-uniform', 'memory', 'access', 'numa', 'computers', 'register', 'machine', 'vs.', 'stack', 'machine', 'harvard', 'architecture', 'vs.', 'von', 'neumann', 'architecture', 'cellular', 'architecture', 'abstract', 'machines', 'quantum', 'computer', 'holds', 'promise', 'revolutionizing', 'computing', 'https', '//books.google.com/books', 'id=zwauurowmpqc', 'q=quantum+computers', 'dq=insufficient+address+computer+architecture', 'source=gbs_word_cloud_r', 'cad=3', 'v=snippet', 'q=quantum', '20computers', 'f=false', '``', 'computer', 'architecture', 'fundamentals', 'principles', 'computer', 'design', \"''\", 'joseph', 'd.', 'dumas', '2006.', 'page', '340.', 'logic', 'gates', 'common', 'abstraction', 'apply', 'digital', 'data|digital', 'analog', 'signal|analog', 'paradigms', 'ability', 'store', 'execute', 'lists', 'instructions', 'called', 'computer', 'program|programs', 'makes', 'computers', 'extremely', 'versatile', 'distinguishing', 'calculators', 'church–turing', 'thesis', 'mathematical', 'statement', 'versatility', 'computer', 'turing-complete|minimum', 'capability', 'turing-complete', 'principle', 'capable', 'performing', 'tasks', 'computer', 'perform', 'therefore', 'type', 'computer', 'netbook', 'supercomputer', 'cellular', 'automaton', 'etc', 'able', 'perform', 'computational', 'tasks', 'given', 'enough', 'time', 'storage', 'capacity', '=artificial', 'intelligence=', 'computer', 'solve', 'problems', 'exactly', 'way', 'programmed', 'without', 'regard', 'efficiency', 'alternative', 'solutions', 'possible', 'shortcuts', 'possible', 'errors', 'code', 'computer', 'programs', 'learn', 'adapt', 'part', 'emerging', 'field', 'artificial', 'intelligence', 'machine', 'learning', 'professions', 'organizations', 'use', 'computers', 'spread', 'throughout', 'society', 'increasing', 'number', 'careers', 'involving', 'computers', 'class=', \"''\", 'wikitable', \"''\", '|+', \"''\", 'category', 'computer', 'occupations|computer-related', 'professions', \"''\", '|-', 'hardware-related', '||', 'electrical', 'engineering', 'electronic', 'engineering', 'computer', 'engineering', 'telecommunications', 'engineering', 'optical', 'engineering', 'nanoengineering', '|-', 'software-related', '||', 'computer', 'science', 'computer', 'engineering', 'desktop', 'publishing', 'human–computer', 'interaction', 'information', 'technology', 'information', 'systems', 'discipline', '|information', 'systems', 'computational', 'science', 'software', 'engineering', 'video', 'game', 'industry', 'web', 'design', 'need', 'computers', 'work', 'well', 'together', 'able', 'exchange', 'information', 'spawned', 'need', 'many', 'standards', 'organizations', 'clubs', 'societies', 'formal', 'informal', 'nature', 'class=', \"''\", 'wikitable', \"''\", '|+', \"''\", 'category', 'computer-related', 'organizations|organizations', \"''\", 'standards', 'groups', '||', 'american', 'national', 'standards', 'institute|ansi', 'international', 'electrotechnical', 'commission|iec', 'institute', 'electrical', 'electronics', 'engineers|ieee', 'internet', 'engineering', 'task', 'force|ietf', 'international', 'organization', 'standardization|iso', 'world', 'wide', 'web', 'consortium|w3c', '|-', 'professional', 'societies', '||', 'association', 'computing', 'machinery|acm', 'association', 'information', 'systems|ais', 'institution', 'engineering', 'technology|iet', 'international', 'federation', 'information', 'processing|ifip', 'british', 'computer', 'society|bcs', '|-', 'free', 'software|free/open', 'source', 'software', 'groups', '||', 'free', 'software', 'foundation', 'mozilla', 'foundation', 'apache', 'software', 'foundation', 'see', 'also', 'portal|information', 'technology', 'div', 'col|colwidth=50em', 'glossary', 'computers', 'computability', 'theory', 'computer', 'insecurity', 'computer', 'security', 'glossary', 'computer', 'hardware', 'terms', 'history', 'computer', 'science', 'list', 'computer', 'term', 'etymologies', 'list', 'fictional', 'computers', 'list', 'pioneers', 'computer', 'science', 'pulse', 'computation', 'top500', 'list', 'powerful', 'computers', 'div', 'col', 'end', 'references', 'reflist|30em', 'notes', 'refbegin|30em', 'cite', 'journal', '|last1=fuegi', '|first1=j', '|last2=francis', '|first2=j', '|title=lovelace', 'babbage', 'creation', '1843', \"'notes\", '|journal=ieee', 'annals', 'history', 'computing', '|volume=25', '|issue=4', '|year=2003', '|doi=10.1109/mahc.2003.1253887', 'note', 'label|kempf1961|kempf', '1961|a', 'cite', 'journal', 'author', 'kempf', 'karl', 'title', 'historical', 'monograph', 'electronic', 'computers', 'within', 'ordnance', 'corps', 'publisher', 'aberdeen', 'proving', 'ground', 'united', 'states', 'army', 'url', 'http', '//ed-thelen.org/comp-hist/u-s-ord-61.html', 'year', '1961', 'note', 'label|phillips2000|phillips', '2000|a', 'cite', 'web', 'last', 'phillips', 'first', 'tony', 'publisher', 'american', 'mathematical', 'society', 'year', '2000', 'title', 'antikythera', 'mechanism', 'url', 'http', '//www.math.sunysb.edu/~tony/whatsnew/column/antikytherai-0400/kyth1.html', 'accessdate', '=5', 'april', '2006', 'note', 'label|shannon1940|shannon', '1940|a', 'cite', 'journal', 'author', 'shannon', 'claude', 'elwood', 'title', 'symbolic', 'analysis', 'relay', 'switching', 'circuits', 'publisher', 'massachusetts', 'institute', 'technology', 'url', 'http', '//hdl.handle.net/1721.1/11173', 'year', '1940', 'cite', 'book', 'ref', 'harvid|digital', 'equipment', 'corporation|1972', 'author', 'digital', 'equipment', 'corporation', 'publisher', 'digital', 'equipment', 'corporation', 'location', 'maynard', 'massachusetts|maynard', 'title', 'pdp-11/40', 'processor', 'handbook', 'url', 'http', '//bitsavers.vt100.net/dec/www.computer.museum.uq.edu.au_mirror/d-09-30_pdp11-40_processor_handbook.pdf', 'format', 'pdf', 'year', '1972', 'cite', 'journal', 'ref', 'harvid|verma', 'mielke|1988', '|author1=verma', 'g.', '|author2=mielke', 'n.', 'title', 'reliability', 'performance', 'etox', 'based', 'flash', 'memories', 'publisher', 'ieee', 'international', 'reliability', 'physics', 'symposium', 'year', '1988', 'cite', 'journal', 'ref', 'swade', 'author', 'doron', 'd.', 'swade', 'title', 'redeeming', 'charles', 'babbage', \"'s\", 'mechanical', 'computer', 'journal', 'scientific', 'american', '|date=february', '1993', 'page', '89', 'cite', 'web', 'ref', 'harvid|top500|2006', 'url', 'http', '//www.top500.org/lists/2006/11/overtime/architectures', 'title', 'architectures', 'share', 'time', 'accessdate=27', 'november', '2006', 'last', 'meuer', 'first', 'hans', 'authorlink', 'hans', 'meuer', '|author2=strohmaier', 'erich', '|author3=simon', 'horst', '|author4=jack', 'dongarra|dongarra', 'jack', 'date', '13', 'november', '2006', 'publisher', 'top500', '|archiveurl=https', '//web.archive.org/web/20070220095222/http', '//www.top500.org/lists/2006/11/overtime/architectures|archivedate=20', 'february', '2007', 'cite', 'book|last=lavington', '|first=simon', '|title=a', 'history', 'manchester', 'computers', '|year=1998', '|edition=2', '|publisher=the', 'british', 'computer', 'society', '|location=swindon', '|isbn=978-0-902505-01-8', '|ref=harv', 'cite', 'book', 'last', 'stokes', 'first', 'jon', 'title', 'inside', 'machine', 'illustrated', 'introduction', 'microprocessors', 'computer', 'architecture', 'year', '2007', 'publisher', 'starch', 'press', 'location', 'san', 'francisco', 'isbn', '978-1-59327-104-6', 'cite', 'book', 'ref=', 'zuse|', 'last', 'zuse|', 'first', 'konrad', 'title', 'computer', '–', 'life', 'year', '1993', 'publisher', 'pringler-verlag', 'location', 'berlin', 'isbn', '0-387-56453-5', 'cite', 'book', 'ref=felt', 'last=felt', 'first=dorr', 'e.', 'title=mechanical', 'arithmetic', 'history', 'counting', 'machine', 'publisher=washington', 'institute', 'location=chicago', 'year=1916', 'url=https', '//archive.org/details/mechanicalarithm00feltrich', 'cite', 'book', 'ref', 'ifrah', 'last', 'ifrah', 'first', 'georges', 'year', '2001', 'title', 'universal', 'history', 'computing', 'abacus', 'quantum', 'computer', 'publication-place', 'new', 'york', 'publisher=john', 'wiley', 'sons', 'isbn', '0-471-39671-0', 'cite', 'book', 'ref', 'berk', 'last', 'berkeley', 'first', 'edmund', 'year', '1949', 'title', 'giant', 'brains', 'machines', 'think', 'publisher=john', 'wiley', 'sons', 'cite', 'book', 'ref', 'aiken|', 'last', 'cohen|', 'first', 'bernard|', 'year', '2000|', 'title', 'howard', 'aiken', 'portrait', 'computer', 'pioneer', 'publisher=the', 'mit', 'press', 'location=', 'cambridge', 'massachusetts|isbn=', '978-0-262-53179-5', 'cite', 'book', 'ref', 'ligo|', 'last', 'ligonnière|', 'first', 'robert|', 'year', '1987|', 'title', 'préhistoire', 'et', 'histoire', 'des', 'ordinateurs', 'publisher=robert', 'laffont', 'location=paris|', 'isbn=', '978-2-221-05261-7', 'cite', 'book', 'ref', 'couffignal|', 'last', 'couffignal|', 'first', 'louis|', 'year', '1933|', 'title', 'les', 'machines', 'à', 'calculer', 'leurs', 'principes', 'leur', 'évolution', 'publisher=gauthier-villars', 'location=paris', 'cite', 'book', 'ref', 'jacweb', 'last', 'essinger', 'first', 'james', 'year', '2004', 'title', 'jacquard', \"'s\", 'web', 'hand', 'loom', 'led', 'birth', 'information', 'age', 'publisher=oxford', 'university', 'press', 'isbn=', '0-19-280577-0', 'cite', 'book', 'ref=hyman', 'last=hyman', 'first=anthony', 'title=charles', 'babbage', 'pioneer', 'computer', 'publisher=princeton', 'university', 'press', 'year=', '1985', 'isbn=978-0-691-02377-9', 'cite', 'book', 'ref=aiken', 'last=cohen', 'first=bernard', 'title=howard', 'aiken', 'portrait', 'computer', 'pioneer', 'publisher=the', 'mit', 'press', 'publication-place=cambridge', 'massachusetts', 'year=2000', 'isbn=978-0-262-53179-5', 'cite', 'book', 'first=b', 'v.', 'last=bowden', 'title=faster', 'thought', 'year=1953', 'publisher=pitman', 'publishing', 'corporation', 'location=new', 'york', 'toronto', 'london', 'ref=bowden', 'cite', 'book', 'first=maboth', 'last=moseley', 'title=irascible', 'genius', 'charles', 'babbage', 'inventor', 'year=1964', 'publisher=hutchinson', 'location=london', 'ref=genius', 'cite', 'book|ref=collier|last=collier|first=bruce|title=the', 'little', 'engine', 'could', \"'ve\", 'calculating', 'machines', 'charles', 'babbage|year=1970|publisher=garland', 'publishing', 'inc|isbn=0-8240-0043-9|url=http', '//robroy.dyndns.info/collier/index.html', 'cite', 'web', '|ref=ltb|', 'url=', 'http', '//www.cs.ncl.ac.uk/publications/articles/papers/398.pdf|title=', 'analytical', 'engine', 'electronic', 'digital', 'computer', 'contributions', 'ludgate', 'torres', 'bush|last1=', 'randell|first1=brian|author-link1=brian', 'randell|year=1982|accessdate=29', 'october', '2013', 'refend', 'external', 'links', 'commonscatinline|computers', 'sister-inline', '|project=v', '|links=v', 'things', 'work', 'college', 'course/computer', 'quiz|wikiversity', 'quiz', 'article', '|short=yes', 'http', '//www.computerhistory.org/atchm/warhol-the-computer/', 'warhol', 'computer', 'use', 'dmy', 'dates|date=april', '2012', 'authority', 'control', 'basic', 'computer', 'components', 'digital', 'systems', 'electronic', 'systems', 'category', 'computers|', 'category', 'consumer', 'electronics', 'category:1980s', 'fads', 'trends', 'category:1990s', 'fads', 'trends', 'category:2000s', 'fads', 'trends', 'category', 'articles', 'containing', 'video', 'clips', 'category', 'articles', 'example', 'code'], ['for|the', 'tv', 'programme|the', 'computer', 'programme', 'file', 'hello', 'world', 'c.svg|thumb|300px|c', 'programming', 'language', '|c-language', '``', 'hello', 'world', \"''\", 'source', 'code', 'first', 'known', '``', 'hello', 'world', \"''\", 'snippet', 'programming', '|snippet', 'seminal', 'book', \"''the\", 'c', 'programming', 'language', 'book', '|the', 'c', 'programming', 'language', \"''\", 'originates', 'brian', 'kernighan', 'dennis', 'ritchie', '1974.', \"''\", 'computer', 'program', \"''\", 'collection', 'instruction', 'set|instructions', 'ref', 'name=', \"''\", 'aup-ch4-p132', \"''\", 'cite', 'book', 'last', 'rochkind', 'first', 'marc', 'j', 'title', 'advanced', 'unix', 'programming', 'second', 'edition', 'publisher', 'addison-wesley', 'year', '2004', 'page', '1.1.2', 'performs', 'specific', 'task', 'execution', 'computing', '|executed', 'computer', 'computer', 'requires', 'programs', 'function', 'typically', 'executes', 'program', \"'s\", 'instructions', 'central', 'processing', 'unit.', 'ref', 'name=', \"''\", 'osc-ch3-p58', \"''\", 'cite', 'book', 'last', 'silberschatz', 'first', 'abraham', 'title', 'operating', 'system', 'concepts', 'fourth', 'edition', 'publisher', 'addison-wesley', 'year', '1994', 'page', '59', 'isbn', '0-201-50480-4', 'computer', 'program', 'usually', 'written', 'computer', 'programmer', 'programming', 'language', 'program', 'human-readable', 'form', 'source', 'code', 'compiler', 'derive', 'machine', 'code—a', 'form', 'consisting', 'instructions', 'computer', 'directly', 'execute', 'alternatively', 'computer', 'program', 'may', 'executed', 'aid', 'interpreter', 'computing', '|interpreter', 'part', 'computer', 'program', 'performs', 'well-defined', 'task', 'known', 'algorithm', 'collection', 'computer', 'programs', 'library', 'computing', '|libraries', 'related', 'data', 'computing', '|data', 'referred', 'software', 'computer', 'programs', 'may', 'categorized', 'along', 'functional', 'lines', 'application', 'software', 'system', 'software', '==history==', 'see', 'also|history', 'computing|history', 'programming', 'languages|history', 'software', '===early', 'programmable', 'machines===', 'earliest', 'programmable', 'machines', 'preceded', 'history', 'computing', 'hardware|invention', 'digital', 'computer', '1801', 'joseph-marie', 'jacquard', 'devised', 'jacquard', 'loom|loom', 'would', 'weave', 'pattern', 'following', 'series', 'perforated', 'cards', 'patterns', 'could', 'weaved', 'repeated', 'arranging', 'cards.', 'ref', 'name=', \"''\", 'eniac-ch1-p16', \"''\", 'cite', 'book', 'last', 'mccartney', 'first', 'scott', 'title', 'eniac', '–', 'triumphs', 'tragedies', 'world', \"'s\", 'first', 'computer', 'publisher', 'walker', 'company', 'year', '1999', 'page', '16', 'isbn', '0-8027-1348-3', '===analytical', 'engine===', 'file', 'diagram', 'computation', 'bernoulli', 'numbers.jpg|thumb|right|lovelace', \"'s\", 'diagram', 'note', 'g', 'ada', 'lovelace', 'first', 'computer', 'program|first', 'published', 'computer', 'algorithm', '1837', 'charles', 'babbage', 'inspired', 'jacquard', \"'s\", 'loom', 'attempt', 'build', 'analytical', 'engine.', 'ref', 'name=', \"''\", 'eniac-ch1-p16', \"''\", 'names', 'components', 'calculating', 'device', 'borrowed', 'textile', 'industry', 'textile', 'industry', 'yarn', 'brought', 'store', 'milled', 'device', 'would', '``', 'store', \"''\", '—memory', 'hold', '1,000', 'numbers', '40', 'decimal', 'digits', 'numbers', '``', 'store', \"''\", 'would', 'transferred', '``', 'mill', \"''\", 'analogous', 'cpu', 'modern', 'machine', 'processing', 'programmed', 'using', 'two', 'sets', 'perforated', 'cards—one', 'direct', 'operation', 'input', 'variables.', 'ref', 'name=', \"''\", 'eniac-ch1-p16', \"''\", 'ref', 'cite', 'journal', 'first', 'allan', 'g.', 'last', 'bromley', 'authorlink', 'allan', 'g.', 'bromley', 'year', '1998', 'url', 'http', '//profs.scienze.univr.it/~manca/storia-informatica/babbage.pdf', 'title', 'charles', 'babbage', '’', 'analytical', 'engine', '1838', 'journal', 'ieee', 'annals', 'history', 'computing', 'volume', '20', 'number', '4', 'however', '17,000', 'pounds', 'british', 'government', \"'s\", 'money', 'thousands', 'cogged', 'wheels', 'gears', 'never', 'fully', 'worked', 'together.', 'ref', 'name=', \"''\", 'sco-ch1-p15', \"''\", 'cite', 'book', 'last', 'tanenbaum', 'first', 'andrew', 's.', 'title', 'structured', 'computer', 'organization', 'third', 'edition', 'publisher', 'prentice', 'hall', 'year', '1990', 'page', '15', 'isbn', '0-13-854662-2', 'nine-month', 'period', '1842–43', 'ada', 'lovelace', 'translated', 'memoir', 'italian', 'mathematician', 'luigi', 'menabrea', 'memoir', 'covered', 'analytical', 'engine', 'translation', 'contained', 'note', 'g', 'completely', 'detailed', 'method', 'calculating', 'bernoulli', 'numbers', 'using', 'analytical', 'engine', 'note', 'recognized', 'historians', 'world', \"'s\", 'first', 'written', 'computer', 'program.', 'ref', 'citation|author1', 'j.', 'fuegi', '|author2', '=j', 'francis|', 'title', 'lovelace', 'babbage', 'creation', '1843', \"'notes'|journal\", 'annals', 'history', 'computing|', 'volume', '25|', 'issue', '4|date=october–december', '2003|', 'doi', '10.1109/mahc.2003.1253887|', 'pages', '16', '19', '25', '===universal', 'turing', 'machine===', '1936', 'alan', 'turing', 'introduced', 'universal', 'turing', 'machine—a', 'theoretical', 'device', 'model', 'every', 'computation', 'performed', 'turing', 'complete', 'computing', 'machine.', 'ref', 'name=', \"''\", 'discrete-ch10-p654', \"''\", 'cite', 'book', 'last', 'rosen', 'first', 'kenneth', 'h.', 'title', 'discrete', 'mathematics', 'applications', 'publisher', 'mcgraw-hill', 'inc.', 'year', '1991', 'page', '654', 'isbn', '0-07-053744-5', 'finite-state', 'machine', 'infinitely', 'long', 'read/write', 'tape', 'machine', 'move', 'tape', 'back', 'forth', 'changing', 'contents', 'performs', 'algorithm', 'machine', 'starts', 'initial', 'state', 'goes', 'sequence', 'steps', 'halts', 'encounters', 'halt', 'state.', 'ref', 'name=', \"''\", 'formal_languages-ch9-p234', \"''\", 'cite', 'book', 'last', 'linz', 'first', 'peter', 'title', 'introduction', 'formal', 'languages', 'automata', 'publisher', 'd.', 'c.', 'heath', 'company', 'year', '1990', 'page', '234', 'isbn', '0-669-17342-8', 'machine', 'considered', 'origin', 'stored-program', 'computer—used', 'john', 'von', 'neumann', '1946', '``', 'electronic', 'computing', 'instrument', \"''\", 'bears', 'von', 'neumann', 'architecture', 'name.', 'ref', 'citation', 'first', 'martin', 'last', 'davis', 'author-link', 'martin', 'davis', 'title', 'engines', 'logic', 'mathematicians', 'origin', 'computer', 'edition', '1st', 'year', '2000', 'place', 'new', 'york', 'ny', 'publisher', 'w.', 'w.', 'norton', 'company', 'id', 'pb', 'isbn', '0-393-32229-7', '===early', 'programmable', 'computers===', 'z3', 'computer', '|z3', 'computer', 'invented', 'konrad', 'zuse', '1941', 'germany', 'digital', 'programmable', 'computer.', 'ref', 'name=', \"''\", 'hoc-zuse', \"''\", 'cite', 'web', 'url', 'http', '//history-computer.com/moderncomputer/relays/zuse.html', 'title', 'history', 'computing', 'digital', 'computer', 'uses', 'electricity', 'calculating', 'component', 'z3', 'contained', '2,400', 'relays', 'create', 'electronic', 'circuit|circuits', 'circuits', 'provided', 'binary', 'code|binary', 'floating-point', 'nine-instruction', 'computer', 'programming', 'z3', 'specially', 'designed', 'keyboard', 'punched', 'tape', 'eniac|electronic', 'numerical', 'integrator', 'computer', 'fall', '1945', 'turing', 'complete', 'general-purpose', 'computer', 'used', '17,468', 'vacuum', 'tubes', 'create', 'electronic', 'circuit|circuits', 'core', 'series', 'pascalines', 'wired', 'together.', 'ref', 'name=', \"''\", 'eniac-ch5-p102', \"''\", 'cite', 'book', 'last', 'mccartney', 'first', 'scott', 'title', 'eniac', '–', 'triumphs', 'tragedies', 'world', \"'s\", 'first', 'computer', 'publisher', 'walker', 'company', 'year', '1999', 'page', '102', 'isbn', '0-8027-1348-3', '40', 'units', 'weighed', '30', 'tons', 'occupied', 'convert|1,800|sqft|m2|0', 'consumed', '650', 'per', 'hour', 'inflation|in', '1940s', 'currency', 'electricity', 'idle.', 'ref', 'name=', \"''\", 'eniac-ch5-p102', \"''\", '20', 'base-10', 'accumulator', 'computing', '|accumulators', 'programming', 'eniac', 'took', 'two', 'months.', 'ref', 'name=', \"''\", 'eniac-ch5-p102', \"''\", 'three', 'function', 'tables', 'wheels', 'needed', 'rolled', 'fixed', 'function', 'panels', 'function', 'tables', 'connected', 'function', 'panels', 'using', 'heavy', 'black', 'cables', 'function', 'table', '728', 'rotating', 'knobs', 'programming', 'eniac', 'also', 'involved', 'setting', '3,000', 'switches', 'debugging', 'program', 'took', 'week.', 'ref', 'name=', \"''\", 'eniac-ch5-p102', \"''\", 'eniac', 'featured', 'parallel', 'computing|parallel', 'operations', 'different', 'sets', 'accumulators', 'could', 'simultaneously', 'work', 'different', 'algorithms', 'used', 'punched', 'card|punched', 'card', 'machines', 'input', 'output', 'controlled', 'clock', 'signal', 'ran', 'eight', 'years', 'calculating', 'hydrogen', 'bomb', 'parameters', 'predicting', 'weather', 'patterns', 'producing', 'firing', 'tables', 'aim', 'artillery', 'guns', 'manchester', 'small-scale', 'experimental', 'machine', 'june', '1948', 'stored-program', 'computer.', 'ref', 'citation', '|last=enticknap', '|first=nicholas', '|title=computing', \"'s\", 'golden', 'jubilee', '|journal=resurrection', '|issue=20', '|publisher=the', 'computer', 'conservation', 'society', '|date=summer', '1998', '|url=http', '//www.cs.man.ac.uk/ccs/res/res20.htm', '|issn=0958-7403', '|accessdate=19', 'april', '2008', 'programming', 'transitioned', 'away', 'moving', 'cables', 'setting', 'dials', 'instead', 'computer', 'program', 'stored', 'memory', 'numbers', 'three', 'bits', 'memory', 'available', 'store', 'instruction', 'limited', 'eight', 'instructions', '32', 'switches', 'available', 'programming', '===later', 'computers===', 'file', 'dg-nova3.jpg|thumb|switches', 'manual', 'input', 'data', 'general', 'nova', '3', 'manufactured', 'mid-1970s', 'computers', 'manufactured', '1970s', 'front-panel', 'switches', 'programming', 'computer', 'program', 'written', 'paper', 'reference', 'instruction', 'represented', 'configuration', 'on/off', 'settings', 'setting', 'configuration', 'execute', 'button', 'pressed', 'process', 'repeated', 'computer', 'programs', 'also', 'manually', 'input', 'via', 'paper', 'tape', 'punched', 'cards', 'medium', 'loaded', 'starting', 'address', 'set', 'via', 'switches', 'execute', 'button', 'pressed.', 'ref', 'name=', \"''\", 'osc-ch1-p6', \"''\", 'cite', 'book', 'last', 'silberschatz', 'first', 'abraham', 'title', 'operating', 'system', 'concepts', 'fourth', 'edition', 'publisher', 'addison-wesley', 'year', '1994', 'page', '6', 'isbn', '0-201-50480-4', '1961', 'burroughs', 'large', 'systems', 'b5000|burroughs', 'b5000', 'built', 'specifically', 'programmed', 'algol', '60', 'language', 'hardware', 'featured', 'circuits', 'ease', 'compiler|compile', 'phase.', 'ref', 'name=', \"''\", 'sco-ch1-p20', \"''\", 'cite', 'book', 'last', 'tanenbaum', 'first', 'andrew', 's.', 'title', 'structured', 'computer', 'organization', 'third', 'edition', 'publisher', 'prentice', 'hall', 'year', '1990', 'page', '20', 'isbn', '0-13-854662-2', '1964', 'ibm', 'system/360', 'line', 'six', 'computers', 'instruction', 'set|instruction', 'set', 'architecture', 'model', '30', 'smallest', 'least', 'expensive', 'customers', 'could', 'upgrade', 'retain', 'application', 'software.', 'ref', 'name=', \"''\", 'sco-ch1-p21', \"''\", 'cite', 'book', 'last', 'tanenbaum', 'first', 'andrew', 's.', 'title', 'structured', 'computer', 'organization', 'third', 'edition', 'publisher', 'prentice', 'hall', 'year', '1990', 'page', '21', 'isbn', '0-13-854662-2', 'system/360', 'model', 'featured', 'computer', 'multitasking', 'multiprogramming|multiprogramming', 'operating', 'system', 'support', 'multiple', 'programs', 'could', 'memory', 'one', 'waiting', 'input/output', 'another', 'could', 'compute', 'model', 'also', 'could', 'emulator|emulate', 'computers', 'customers', 'could', 'upgrade', 'system/360', 'retain', 'ibm', '7090', 'ibm', '7094|ibm', '7094', 'ibm', '1401', 'application', 'software.', 'ref', 'name=', \"''\", 'sco-ch1-p21', \"''\", '==computer', 'programming==', 'main|computer', 'programming', 'computer', 'programming', 'process', 'writing', 'editing', 'source', 'code', 'editing', 'source', 'code', 'involves', 'testing', 'analyzing', 'refining', 'sometimes', 'coordinating', 'programmers', 'jointly', 'developed', 'program', 'person', 'practices', 'skill', 'referred', 'computer', 'programmer', 'software', 'developer', 'sometimes', 'coder', 'sometimes', 'lengthy', 'process', 'computer', 'programming', 'usually', 'referred', 'software', 'development', 'term', 'software', 'engineering', 'becoming', 'popular', 'process', 'seen', 'engineering', 'discipline', '===programming', 'languages===', 'main|programming', 'language', 'file', 'object-oriented-programming-methods-and-classes-with-inheritance.png|thumb|a', 'computer', 'program', 'written', 'imperative', 'programming', 'style', 'computer', 'programs', 'categorized', 'programming', 'language', 'programming', 'paradigm|paradigm', 'used', 'produce', 'two', 'main', 'paradigms', 'imperative', 'programming|imperative', 'declarative', 'language|declarative', '====imperative', 'languages====', \"''imperative\", 'programming', 'languages', \"''\", 'specify', 'sequential', 'algorithm', 'computer', 'algorithm|algorithm', 'using', 'declarations', 'expressions', 'statements', 'ref', 'name=', \"''\", 'cpl-ch4-75', \"''\", 'cite', 'book', 'last', 'wilson', 'first', 'leslie', 'b', 'title', 'comparative', 'programming', 'languages', 'second', 'edition', 'publisher', 'addison-wesley', 'year', '1993', 'page', '75', 'isbn', '0-201-56885-3', \"''declaration\", \"''\", 'couples', 'variable', 'programming', '|variable', 'name', 'datatype', '–', 'example', 'code', 'var', 'x', 'integer', '/code', \"''expression\", \"''\", 'yields', 'value', '–', 'example', 'code', '2', '2', '/code', 'yields', '4', \"''statement\", \"''\", 'might', 'assign', 'expression', 'variable', 'use', 'value', 'variable', 'alter', 'program', \"'s\", 'control', 'flow', '–', 'example', 'code', 'x', '2', '2', 'x', '4', 'do_something', '/code', 'one', 'criticism', 'imperative', 'languages', 'side', 'effect', 'assignment', 'statement', 'class', 'variables', 'called', 'non-local', 'variables.', 'ref', 'name=', \"''\", 'cpl-ch9-213', \"''\", '====declarative', 'languages====', \"''declarative\", 'programming', 'languages', \"''\", 'describe', \"''what\", \"''\", 'computation', 'performed', \"''how\", \"''\", 'compute', 'declarative', 'programs', 'omit', 'control', 'flow', 'considered', \"''sets\", \"''\", 'instructions', 'two', 'broad', 'categories', 'declarative', 'languages', 'functional', 'languages', 'logical', 'languages', 'principle', 'behind', 'functional', 'languages', 'like', 'haskell', 'programming', 'language', '|haskell', 'allow', 'side', 'effect', 'computer', 'science', '|side', 'effects', 'makes', 'easier', 'reason', 'programs', 'like', 'mathematical', 'functions.', 'ref', 'name=', \"''\", 'cpl-ch9-213', \"''\", 'cite', 'book', 'last', 'wilson', 'first', 'leslie', 'b', 'title', 'comparative', 'programming', 'languages', 'second', 'edition', 'publisher', 'addison-wesley', 'year', '1993', 'page', '213', 'isbn', '0-201-56885-3', 'principle', 'behind', 'logical', 'languages', 'like', 'prolog', 'define', 'problem', 'solved', 'nbsp', '–', 'goal', 'nbsp', '–', 'leave', 'detailed', 'solution', 'prolog', 'system', 'itself.', 'ref', 'name=', \"''\", 'cpl-ch10-244', \"''\", 'cite', 'book', 'last', 'wilson', 'first', 'leslie', 'b', 'title', 'comparative', 'programming', 'languages', 'second', 'edition', 'publisher', 'addison-wesley', 'year', '1993', 'page', '244', 'isbn', '0-201-56885-3', 'goal', 'defined', 'providing', 'list', 'subgoals', 'subgoal', 'defined', 'providing', 'list', 'subgoals', 'etc', 'path', 'subgoals', 'fails', 'find', 'solution', 'subgoal', 'backtracking|backtracked', 'another', 'path', 'systematically', 'attempted', '===compilation', 'interpretation===', 'computer', 'program', 'form', 'human-readable', 'computer', 'programming', 'language', 'called', 'source', 'code', 'source', 'code', 'may', 'converted', 'executable', 'file|executable', 'image', 'compiler', 'execution', 'computing', '|executed', 'immediately', 'aid', 'interpreter', 'computing', '|interpreter', 'compilers', 'used', 'translate', 'source', 'code', 'programming', 'language', 'either', 'object', 'file|object', 'code', 'machine', 'code.', 'ref', 'cite', 'web|title=what', 'compiler', '|url=http', '//lambda.uta.edu/cse5317/notes/node3.html|accessdate=2012-01-10', 'object', 'code', 'needs', 'processing', 'become', 'machine', 'code', 'machine', 'code', 'consists', 'central', 'processing', 'unit|central', 'processing', 'unit', \"'s\", 'native', 'instructions', 'ready', 'execution', 'compiled', 'computer', 'programs', 'commonly', 'referred', 'executables', 'binary', 'images', 'simply', 'binary', 'file|binaries', 'nbsp', '–', 'reference', 'binary', 'numeral', 'system|binary', 'file', 'format', 'used', 'store', 'executable', 'code', 'interpreters', 'used', 'execute', 'source', 'code', 'programming', 'language', 'line-by-line', 'interpreter', 'parsing|decodes', 'statement', 'computer', 'science', '|statement', 'performs', 'behavior', 'one', 'advantage', 'interpreters', 'easily', 'extended', 'repl|interactive', 'session', 'programmer', 'presented', 'prompt', 'individual', 'lines', 'code', 'typed', 'performed', 'immediately', 'main', 'disadvantage', 'interpreters', 'computer', 'programs', 'run', 'slower', 'compiled', 'interpreting', 'code', 'slower', 'interpreter', 'must', 'decode', 'statement', 'perform', 'however', 'software', 'development', 'may', 'faster', 'using', 'interpreter', 'testing', 'immediate', 'compiling', 'step', 'omitted', 'another', 'disadvantage', 'interpreters', 'interpreter', 'must', 'present', 'executing', 'computer', 'contrast', 'compiled', 'computer', 'programs', 'need', 'compiler', 'present', 'execution', 'just-in-time', 'compilation|just', 'time', 'compilers', 'pre-compile', 'computer', 'programs', 'execution', 'example', 'java', 'virtual', 'machine', 'process', 'virtual', 'machines|virtual', 'machine', 'hotspot', 'contains', 'time', 'compiler', 'selectively', 'compiles', 'java', 'bytecode', 'machine', 'code', 'code', 'hotspot', 'predicts', 'likely', 'used', 'many', 'times', 'either', 'compiled', 'interpreted', 'programs', 'might', 'executed', 'batch', 'processing|batch', 'process', 'without', 'human', 'interaction', 'scripting', 'languages', 'often', 'used', 'create', 'batch', 'processes', 'one', 'common', 'scripting', 'language', 'unix', 'shell', 'executing', 'environment', 'called', 'command-line', 'interface', 'properties', 'programming', 'language', 'require', 'exclusively', 'compiled', 'exclusively', 'interpreted', 'categorization', 'usually', 'reflects', 'popular', 'method', 'language', 'execution', 'example', 'java', 'thought', 'interpreted', 'language', 'c', 'compiled', 'language', 'despite', 'existence', 'java', 'compilers', 'c', 'interpreters', '==storage', 'execution==', 'file', 'papertape3.jpg|thumb|in', '1950s', 'computer', 'programs', 'stored', 'punched', 'tape|perforated', 'paper', 'tape', 'typically', 'computer', 'programs', 'stored', 'non-volatile', 'memory', 'requested', 'either', 'directly', 'indirectly', 'execution', 'computing', '|executed', 'computer', 'user', 'upon', 'request', 'program', 'loaded', 'random-access', 'memory', 'computer', 'program', 'called', 'operating', 'system', 'accessed', 'directly', 'central', 'processor', 'central', 'processor', 'executes', '``', 'runs', \"''\", 'program', 'instruction', 'instruction', 'termination', 'program', 'execution', 'called', 'process', 'computing', '|process.', 'ref', 'name=', \"''\", 'osc-ch4-97', \"''\", 'cite', 'book', 'last', 'silberschatz', 'first', 'abraham', 'title', 'operating', 'system', 'concepts', 'fourth', 'edition', 'publisher', 'addison-wesley', 'year', '1994', 'page', '97', 'isbn', '0-201-50480-4', 'termination', 'either', 'normal', 'self-termination', 'error', 'nbsp', '–', 'software', 'hardware', 'error', '===simultaneous', 'execution===', 'see', 'also|process', 'computing', '|multiprocessing', 'many', 'operating', 'systems', 'support', 'computer', 'multitasking|multitasking', 'enables', 'many', 'computer', 'programs', 'appear', 'run', 'simultaneously', 'one', 'computer', 'operating', 'systems', 'may', 'run', 'multiple', 'programs', 'process', 'scheduling', 'nbsp', '–', 'software', 'mechanism', 'context', 'switch|switch', 'central', 'processing', 'unit|cpu', 'among', 'processes', 'often', 'users', 'time-sharing|interact', 'program', 'runs.', 'ref', 'name=', \"''\", 'osc-ch4-100', \"''\", 'cite', 'book', 'last', 'silberschatz', 'first', 'abraham', 'title', 'operating', 'system', 'concepts', 'fourth', 'edition', 'publisher', 'addison-wesley', 'year', '1994', 'page', '100', 'isbn', '0-201-50480-4', 'within', 'hardware', 'modern', 'day', 'multiprocessor', 'computers', 'computers', 'multicore', 'processors', 'may', 'run', 'multiple', 'programs.', 'ref', 'name=', \"''\", 'mcore', \"''\", 'cite', 'book', 'last', 'akhter', 'first', 'shameem', 'title', 'multi-core', 'programming', 'publisher', 'richard', 'bowles', 'intel', 'press', 'year', '2006', 'pages', '11–13', 'isbn', '0-9764832-4-6', 'multiple', 'lines', 'computer', 'program', 'may', 'simultaneously', 'executed', 'using', 'thread', 'computing', '|threads', 'multithreading', 'computer', 'architecture', '|multithreading', 'processors', 'optimized', 'execute', 'multiple', 'threads', 'efficiently', '===self-modifying', 'programs===', 'main|self-modifying', 'code', 'computer', 'program', 'execution', 'computing', '|execution', 'normally', 'treated', 'different', 'data', 'computing', '|data', 'program', 'operates', 'however', 'cases', 'distinction', 'blurred', 'computer', 'program', 'modifies', 'modified', 'computer', 'program', 'subsequently', 'executed', 'part', 'program', 'self-modifying', 'code', 'possible', 'programs', 'written', 'machine', 'code', 'assembly', 'language', 'lisp', 'programming', 'language', '|lisp', 'c', 'programming', 'language', '|c', 'cobol', 'pl/1', 'prolog', '==functional', 'categories==', 'computer', 'programs', 'may', 'categorized', 'along', 'functional', 'lines', 'main', 'functional', 'categories', 'application', 'software', 'system', 'software', 'system', 'software', 'includes', 'operating', 'system', 'couples', 'computer', 'hardware', 'application', 'software.', 'ref', 'name=', \"''\", 'osc-overview', \"''\", 'purpose', 'operating', 'system', 'provide', 'environment', 'application', 'software', 'executes', 'convenient', 'efficient', 'manner.', 'ref', 'name=', \"''\", 'osc-overview', \"''\", 'cite', 'book', 'last', 'silberschatz', 'first', 'abraham', 'title', 'operating', 'system', 'concepts', 'fourth', 'edition', 'publisher', 'addison-wesley', 'year', '1994', 'page', '1', 'isbn', '0-201-50480-4', 'addition', 'operating', 'system', 'system', 'software', 'includes', 'firmware|embedded', 'programs', 'booting|boot', 'programs', 'microcode|micro', 'programs', 'application', 'software', 'designed', 'end', 'users', 'interface', 'computing', '|user', 'interface', 'application', 'software', 'designed', 'end', 'user', 'includes', 'middleware', 'couples', 'one', 'application', 'another', 'application', 'software', 'also', 'includes', 'utility', 'software|utility', 'programs', 'distinction', 'system', 'software', 'application', 'software', 'debate', '===application', 'software===', 'main|application', 'software', 'file', 'gcalctool-scientific.png|thumb|example', 'app', 'gcalctool', 'software', 'calculator', 'many', 'types', 'application', 'software', 'word', \"''\", 'app', \"''\", 'came', '21st', 'century', 'clipping', 'morphology', '|clipping', 'word', '``', 'application', \"''\", 'designed', 'many', 'platforms', 'word', 'first', 'used', 'smaller', 'mobile', 'apps', 'desktop', 'apps', 'traditional', 'computer', 'programs', 'run', 'desktop', 'computers', 'mobile', 'apps', 'run', 'mobile', 'devices', 'web', 'apps', 'run', 'inside', 'web', 'browser', 'mobile', 'desktop', 'apps', 'may', 'downloaded', 'developers', 'website', 'purchased', 'app', 'stores', 'windows', 'store', 'apple', 'app', 'store', 'mac', 'app', 'store', 'google', 'play', 'intel', 'appup', \"''\", 'application', 'suite', \"''\", 'consists', 'multiple', 'applications', 'bundled', 'together', 'examples', 'include', 'microsoft', 'office', 'libreoffice', 'iwork', 'bundle', 'word', 'processor', 'spreadsheet', 'applications', \"''\", 'enterprise', 'software|enterprise', 'applications', \"''\", 'bundle', 'accounting', 'personnel', 'customer', 'vendor', 'applications', 'examples', 'include', 'enterprise', 'resource', 'planning', 'customer', 'relationship', 'management', 'supply', 'chain', 'management', 'software', \"''\", 'enterprise', 'infrastructure', 'software', \"''\", 'supports', 'enterprise', \"'s\", 'software', 'systems', 'examples', 'include', 'databases', 'email', 'servers', 'network', 'servers', \"''\", 'information', 'worker', 'software', \"''\", 'designed', 'workers', 'departmental', 'level', 'examples', 'include', 'time', 'management', 'schedule', 'workplace', '|resource', 'management', 'analytical', 'collaborative', 'documentation', 'tools', 'word', 'processors', 'spreadsheets', 'email', 'blog', 'clients', 'personal', 'information', 'system', 'individual', 'media', 'editors', 'may', 'aid', 'multiple', 'information', 'worker', 'tasks', \"''\", 'media', 'development', 'software', \"''\", 'generates', 'print', 'electronic', 'media', 'others', 'consume', 'often', 'commercial', 'educational', 'setting', 'produce', 'graphics', 'publications', 'animations', 'videos', \"''\", 'product', 'engineering', 'software', \"''\", 'used', 'help', 'develop', 'large', 'machines', 'application', 'software', 'examples', 'includes', 'computer-aided', 'design', 'cad', 'computer-aided', 'engineering', 'cae', 'integrated', 'development', 'environments', \"''\", 'entertainment', 'software', \"''\", 'refer', 'video', 'games', 'movie', 'recorders', 'players', 'music', 'recorders', 'players', '===utility', 'programs===', 'utility', 'software|utility', 'programs', 'application', 'programs', 'designed', 'aid', 'system', 'administrators', 'computer', 'programmers', '===operating', 'system===', 'see', 'also|operating', 'system', 'operating', 'system', 'computer', 'program', 'acts', 'intermediary', 'user', 'computer', 'computer', 'hardware', 'ref', 'name=', \"''\", 'osc-overview', \"''\", '1950s', 'programmer', 'also', 'operator', 'would', 'write', 'program', 'run', 'it.', 'ref', 'name=', \"''\", 'osc-ch1-p6', \"''\", 'program', 'finished', 'executing', 'output', 'may', 'printed', 'may', 'punched', 'onto', 'paper', 'tape', 'cards', 'later', 'processing.', 'ref', 'name=', \"''\", 'osc-ch1-p6', \"''\", 'often', 'program', 'work', 'ref', 'name=', \"''\", 'sco-ch1-p11', \"''\", 'cite', 'book', 'last', 'tanenbaum', 'first', 'andrew', 's.', 'title', 'structured', 'computer', 'organization', 'third', 'edition', 'publisher', 'prentice', 'hall', 'year', '1990', 'page', '11', 'isbn', '0-13-854662-2', 'programmer', 'looked', 'console', 'lights', 'fiddled', 'console', 'switches', 'less', 'fortunate', 'memory', 'printout', 'made', 'study.', 'ref', 'name=', \"''\", 'sco-ch1-p11', \"''\", '1960s', 'programmers', 'reduced', 'amount', 'wasted', 'time', 'automating', 'operator', \"'s\", 'job.', 'ref', 'name=', \"''\", 'sco-ch1-p11', \"''\", 'program', 'called', \"''operating\", 'system', \"''\", 'kept', 'computer', 'times.', 'ref', 'name=', \"''\", 'sco-ch1-p11', \"''\", 'originally', 'operating', 'systems', 'programmed', 'assembly', 'language|assembly', 'however', 'modern', 'operating', 'systems', 'typically', 'written', 'c', 'programming', 'language', '|c', '===boot', 'program===', 'stored-program', 'computer', 'requires', 'initial', 'computer', 'program', 'stored', 'read-only', 'memory', 'booting|boot', 'boot', 'process', 'identify', 'initialize', 'aspects', 'system', 'processor', 'registers', 'device', 'driver|device', 'controllers', 'volatile', 'memory|memory', 'contents.', 'ref', 'name=', \"''\", 'osc-ch2-p30', \"''\", 'cite', 'book', 'last', 'silberschatz', 'first', 'abraham', 'title', 'operating', 'system', 'concepts', 'fourth', 'edition', 'publisher', 'addison-wesley', 'year', '1994', 'page', '30', 'isbn', '0-201-50480-4', 'following', 'initialization', 'process', 'initial', 'computer', 'program', 'loads', 'operating', 'system', 'sets', 'program', 'counter', 'begin', 'normal', 'operations', '===embedded', 'programs===', 'file', 'usb', 'flash', 'drive.jpg|thumb|230px|right|the', 'microcontroller', 'right', 'usb', 'flash', 'drive', 'controlled', 'embedded', 'firmware', 'independent', 'host', 'computer', 'peripheral|hardware', 'device', 'might', 'embedded', 'firmware', 'control', 'operation', 'firmware', 'used', 'computer', 'program', 'rarely', 'never', 'expected', 'change', 'program', 'must', 'lost', 'power', 'off.', 'ref', 'name=', \"''\", 'sco-ch1-p11', \"''\", '===microcode', 'programs===', 'main|microcode', 'microcode', 'programs', 'control', 'central', 'processing', 'units', 'hardware', 'code', 'moves', 'data', 'processor', 'register|registers', 'bus', 'computing', '|buses', 'arithmetic', 'logic', 'units', 'functional', 'units', 'cpu', 'unlike', 'conventional', 'programs', 'microcode', 'usually', 'written', 'even', 'visible', 'end', 'users', 'systems', 'usually', 'provided', 'manufacturer', 'considered', 'internal', 'device', '==see', 'also==', 'automatic', 'programming', 'killer', 'application', 'software', 'bug', '==references==', 'reflist|30em', '==further', 'reading==', 'cite', 'book', 'last', 'knuth', 'first', 'donald', 'e.', 'title', 'art', 'computer', 'programming', 'volume', '1', '3rd', 'edition', 'year', '1997', 'publisher', 'addison-wesley', 'location', 'boston', 'isbn', '0-201-89683-4', 'cite', 'book', '|last=knuth', '|first=donald', 'e.', '|title=the', 'art', 'computer', 'programming', 'volume', '2', '3rd', 'edition', '|year=1997', '|publisher=addison-wesley', '|location', 'boston', '|isbn=0-201-89684-2', 'cite', 'book', '|last=knuth', '|first=donald', 'e.', '|title=the', 'art', 'computer', 'programming', 'volume', '3', '3rd', 'edition', '|year=1997', '|publisher=addison-wesley', '|location', 'boston', '|isbn=0-201-89685-0', 'authority', 'control', 'defaultsort', 'computer', 'program', 'category', 'computer', 'programming', 'category', 'articles', 'example', 'java', 'code', 'category', 'articles', 'example', 'c', 'code', 'category', 'articles', 'example', 'c', 'sharp', 'code', 'category', 'software'], ['selfref|to', 'report', 'mediawiki', 'error', 'wikipedia', 'see', 'wikipedia', 'bug', 'reports', 'refimprove|date=august', '2015', 'use', 'mdy', 'dates|date=september', '2012', 'software', 'development', 'process', \"''\", 'software', 'bug', \"''\", 'error', 'flaw', 'failure', 'fault', 'technology', '|fault', 'computer', 'program', 'software', 'system|system', 'causes', 'produce', 'incorrect', 'unexpected', 'result', 'behave', 'unintended', 'ways', 'bugs', 'arise', 'mistakes', 'errors', 'made', 'either', 'program', \"'s\", 'source', 'code', 'software', 'architecture|design', 'components', 'operating', 'systems', 'used', 'programs', 'caused', 'compilers', 'producing', 'incorrect', 'code', 'program', 'contains', 'large', 'number', 'bugs', 'and/or', 'bugs', 'seriously', 'interfere', 'functionality', 'said', \"''buggy\", \"''\", 'defective', 'bugs', 'trigger', 'errors', 'may', 'ripple', 'effects', 'bugs', 'may', 'subtle', 'effects', 'cause', 'program', 'crash', 'computing', '|crash', 'freeze', 'computing', '|freeze', 'computer', 'others', 'qualify', 'security', 'bugs', 'might', 'example', 'enable', 'black', 'hat', 'hacking|malicious', 'user', 'bypass', 'access', 'controls', 'order', 'privilege', 'escalation|obtain', 'unauthorized', 'privileges', 'bugs', 'code', 'controls', 'therac-25', 'radiation', 'therapy', 'machine', 'directly', 'responsible', 'patient', 'deaths', '1980s', '1996', 'european', 'space', 'agency', \"'s\", 'us', '1', 'nbsp', 'billion', 'ariane', '5', 'flight', '501|prototype', 'ariane', '5', 'rocket', 'destroyed', 'less', 'minute', 'launch', 'due', 'bug', 'on-board', 'guidance', 'computer', 'program', 'june', '1994', 'royal', 'air', 'force', 'ch-47', 'chinook|chinook', 'helicopter', '1994', 'scotland', 'raf', 'chinook', 'crash|crashed', 'mull', 'kintyre', 'killing', '29.', 'initially', 'dismissed', 'pilot', 'error', 'investigation', \"''computer\", 'weekly', \"''\", 'convinced', 'house', 'lords', 'inquiry', 'may', 'caused', 'software', 'bug', 'aircraft', \"'s\", 'fadec|engine', 'control', 'computer', 'cite', 'web|author=prof', 'simon', 'rogerson', '|url=http', '//www.ccsr.cse.dmu.ac.uk/resources/general/ethicol/ecv12no2.html', '|title=the', 'chinook', 'helicopter', 'disaster', '|publisher=ccsr.cse.dmu.ac.uk', '|accessdate=september', '24', '2012', '2002', 'study', 'commissioned', 'us', 'department', 'commerce', \"'s\", 'national', 'institute', 'standards', 'technology', 'concluded', '``', 'software', 'bugs', 'errors', 'prevalent', 'detrimental', 'cost', 'us', 'economy', 'estimated', '59', 'nbsp', 'billion', 'annually', '0.6', 'percent', 'gross', 'domestic', 'product', \"''\", 'cite', 'web|url=http', '//www.nist.gov/public_affairs/releases/n02-10.htm', '|title=software', 'bugs', 'cost', 'us', 'economy', 'dear', '|publisher=web.archive.org', '|date=june', '10', '2009', '|accessdate=september', '24', '2012', '|deadurl=unfit', '|archiveurl=https', '//web.archive.org/web/20090610052743/http', '//www.nist.gov/public_affairs/releases/n02-10.htm', '|archivedate=june', '10', '2009', 'etymology', 'term', '``', 'bug', \"''\", 'describe', 'defects', 'part', 'engineering', 'jargon', 'many', 'decades', 'predates', 'computers', 'computer', 'software', 'may', 'originally', 'used', 'hardware', 'engineering', 'describe', 'mechanical', 'malfunctions', 'instance', 'thomas', 'edison', 'wrote', 'following', 'words', 'letter', 'associate', '1878', 'quote|it', 'inventions', 'first', 'step', 'intuition', 'comes', 'burst', 'difficulties', 'arise—this', 'thing', 'gives', '``', 'bugs', \"''\", '—as', 'little', 'faults', 'difficulties', 'called—show', 'months', 'intense', 'watching', 'study', 'labor', 'requisite', 'commercial', 'success', 'failure', 'certainly', 'reached.', 'ref', 'name=', \"''\", 'hughes1989', \"''\", 'edison', 'puskas', '13', 'november', '1878', 'edison', 'papers', 'edison', 'national', 'laboratory', 'u.s.', 'national', 'park', 'service', 'west', 'orange', 'n.j.', 'cited', 'cite', 'book|first=thomas', 'parke', '|last=hughes|title=american', 'genesis', 'century', 'invention', 'technological', 'enthusiasm', '1870-1970|url=', 'google', 'books', '|plainurl=y', '|id=0r-ml88eynyc|page=75', '|year=1989|publisher=penguin', 'books|isbn=978-0-14-009741-2|page=75', 'middle', 'english', 'word', \"''wikt\", 'bugge', 'noun|bugge', \"''\", 'basis', 'terms', '``', 'wikt', 'bugbear', 'noun|bugbear', \"''\", '``', 'wikt', 'bug-a-boo', 'noun|bugaboo', \"''\", 'terms', 'used', 'monster', 'cite', 'web|url=http', '//www.computerworld.com/article/2515435/app-development/moth-in-the-machine', '--', 'debugging-the-origins-of', '--', 'bug-.html|title=moth', 'machine', 'debugging', 'origins', \"'bug'|author=computerworld\", 'staff|date=september', '3', '2011|work=computerworld', 'baffle', 'ball', 'first', 'mechanical', 'pinball', 'game', 'advertised', '``', 'free', 'bugs', \"''\", '1931.', 'ref', 'name=', \"''\", 'baffle', 'ball', \"''\", 'cite', 'web', '|url=http', '//www.ipdb.org/machine.cgi', 'gid=129', '|title=baffle', 'ball', '|publisher=internet', 'pinball', 'database', '|quote=', 'see', 'image', 'advertisement', 'reference', 'entry', 'problems', 'military', 'gear', 'world', 'war', 'ii', 'referred', 'bugs', 'glitches', 'ref', 'name=', \"''\", 'life1942062925', \"''\", 'cite', 'news', 'url=https', '//books.google.com/books', 'id=klaeaaaambaj', 'lpg=pa1', 'dq=life', '20magazine', '20june', '2029', '201942', 'pg=pa25', 'v=onepage', 'q', 'f=true', 'title=modern', 'aircraft', 'carriers', 'result', '20', 'years', 'smart', 'experimentation', 'work=life', 'date=june', '29', '1942', 'accessdate=november', '17', '2011', 'page=25', 'book', 'published', '1942', 'louise', 'dickinson', 'rich', 'speaking', 'powered', 'ice', 'cutting', 'machine', 'said', '``', 'ice', 'sawing', 'suspended', 'creator', 'could', 'brought', 'take', 'bugs', 'darling', '``', 'ref', 'name=', \"''\", 'oclc_405243', \"''\", 'citation', '|last=dickinson', 'rich', '|first=louise', '|year=1942', '|title=we', 'took', 'woods', '|page=93', '|publisher=jb', 'lippincott', 'co', '|url=https', '//books.google.com/books', 'id=pt0zaqaaiaaj', '|lccn=42024308', '|oclc=405243', '|postscript=', 'isaac', 'asimov', 'uses', 'term', 'bug', 'relate', 'issues', 'robot', 'short', 'story', '``', 'catch', 'rabbit', \"''\", 'published', '1944', 'included', 'well-known', 'collection', 'short', 'stories', \"''i\", 'robot', \"''\", 'page', '1', '``', 'catch', 'rabbit', \"''\", '``', 'u.s.', 'robots', 'get', 'bugs', 'multiple', 'robot', 'plenty', 'bugs', 'always', 'least', 'half', 'dozen', 'bugs', 'left', 'field-testing', \"''\", 'file', 'h96566k.jpg|thumbnail|250px|a', 'page', 'harvard', 'mark', 'ii', 'electromechanical', 'computer', \"'s\", 'log', 'featuring', 'dead', 'moth', 'removed', 'device', 'term', '``', 'bug', \"''\", 'used', 'account', 'computer', 'pioneer', 'grace', 'hopper', 'publicized', 'cause', 'malfunction', 'early', 'electromechanical', 'computer', 'citation|title=florida', 'comprehensive', 'assessment', 'test|fcat', 'nrt', 'test', '|publisher=harcourt', '|date=march', '18', '2008', 'typical', 'version', 'story', 'quote|in', '1946', 'hopper', 'released', 'active', 'duty', 'joined', 'harvard', 'faculty', 'computation', 'laboratory', 'continued', 'work', 'harvard', 'mark', 'ii|mark', 'ii', 'harvard', 'mark', 'iii|mark', 'iii', 'operators', 'traced', 'error', 'mark', 'ii', 'moth', 'trapped', 'relay', 'coining', 'term', \"''bug\", \"''\", 'bug', 'carefully', 'removed', 'taped', 'log', 'book', 'stemming', 'first', 'bug', 'today', 'call', 'errors', 'glitches', 'program', \"''bug\", \"''\", 'cite', 'web', '|url=http', '//ei.cs.vt.edu/~history/hopper.danis.html', '|title=danis', 'sharron', 'ann', '``', 'rear', 'admiral', 'grace', 'murray', 'hopper', \"''\", '|date=february', '16', '1997', '|publisher=ei.cs.vt.edu', '|accessdate=january', '31', '2010', 'hopper', 'find', 'bug', 'readily', 'acknowledged', 'date', 'log', 'book', 'september', '9', '1947', '``', 'http', '//catb.org/jargon/html/b/bug.html', 'bug', \"''\", \"''the\", 'jargon', 'file', \"''\", 'ver', '4.4.7.', 'retrieved', 'june', '3', '2010.', 'ref', 'name=', \"''\", 'si-bug', \"''\", \"''\", 'http', '//americanhistory.si.edu/collections/search/object/nmah_334663', 'log', 'book', 'computer', 'bug', \"''\", 'national', 'museum', 'american', 'history', 'smithsonian', 'institution', '``', 'https', '//web.archive.org/web/20000119173039/http', '//history.navy.mil:80/photos/images/h96000/h96566kc.htm', 'first', '``', 'computer', 'bug', \"''\", 'naval', 'historical', 'center', 'note', 'harvard', 'mark', 'ii', 'computer', 'complete', 'summer', '1947.', 'operators', 'found', 'including', 'william', '``', 'bill', \"''\", 'burke', 'later', 'naval', 'surface', 'warfare', 'center', 'dahlgren', 'division|naval', 'weapons', 'laboratory', 'dahlgren', 'virginia', 'ieee', 'annals', 'history', 'computing', 'vol', '22', 'issue', '1', '2000', 'familiar', 'engineering', 'term', 'amusedly', 'kept', 'insect', 'notation', '``', 'first', 'actual', 'case', 'bug', 'found', \"''\", 'hopper', 'loved', 'recount', 'story', 'cite', 'web|author=james', 's.', 'huggins', '|url=http', '//www.jamesshuggins.com/h/tek1/first_computer_bug.htm', '|archive-url=https', '//web.archive.org/web/20000816023000/http', '//www.jamesshuggins.com:80/h/tek1/first_computer_bug.htm', '|dead-url=yes', '|archive-date=august', '16', '2000', '|title=first', 'computer', 'bug', '|publisher=jamesshuggins.com', '|accessdate=september', '24', '2012', 'log', 'book', 'complete', 'attached', 'moth', 'part', 'collection', 'smithsonian', 'national', 'museum', 'american', 'history.', 'ref', 'name=', \"''\", 'si-bug', \"''\", 'related', 'term', '``', 'debug', \"''\", 'also', 'appears', 'predate', 'usage', 'computing', \"''oxford\", 'english', 'dictionary', \"''\", 'etymology', 'word', 'contains', 'attestation', '1945', 'context', 'aircraft', 'engines', \"''journal\", 'royal', 'aeronautical', 'society', \"''\", '49', '183/2', '1945', '``', 'ranged', '...', 'stage', 'type', 'test', 'flight', 'test', \"'debugging\", '...', \"''\", 'history', 'concept', 'software', 'might', 'contain', 'errors', 'dates', 'back', 'ada', 'byron', \"'s\", 'notes', 'analytical', 'engine|ada', 'lovelace', \"'s\", '1843', 'notes', 'analytical', 'engine', 'speaks', 'possibility', 'program', '``', 'cards', \"''\", 'charles', 'babbage', \"'s\", 'analytical', 'engine', 'erroneous', 'quote|', '...', 'nbsp', 'analysing', 'process', 'must', 'equally', 'performed', 'order', 'furnish', 'analytical', 'engine', 'necessary', \"''operative\", \"''\", 'data', 'herein', 'may', 'also', 'lie', 'possible', 'source', 'error', 'granted', 'actual', 'mechanism', 'unerring', 'processes', \"''cards\", \"''\", 'may', 'give', 'wrong', 'orders', '``', 'bugs', 'system', \"''\", 'report', 'open', 'technology', 'institute', 'run', 'group', 'new', 'america', 'ref', 'name=', \"''\", ':1', \"''\", 'cite', 'web|url=https', '//na-production.s3.amazonaws.com/documents/bugs-in-the-system-final.pdf|title=bugs', 'system|last=wilson|first=andi|last2=schulman|first2=ross|date=|website=open', 'policy', 'institute|publisher=|access-date=2016-08-22|last3=bankston|first3=kevin|last4=herr|first4=trey', 'released', 'report', '``', 'bugs', 'system', \"''\", 'august', '2016', 'stating', 'u.s.', 'policymakers', 'make', 'reforms', 'help', 'researchers', 'identify', 'address', 'software', 'bugs', 'report', '``', 'highlights', 'need', 'reform', 'field', 'software', 'vulnerability', 'discovery', 'disclosure', '``', 'ref', 'name=', \"''\", ':0', \"''\", 'cite', 'web|url=https', '//homelandprepnews.com/government/19481-cyber-reforms-needed-strengthen-software-bug-discovery-disclosure-new-america-report/|title=cyber', 'reforms', 'needed', 'strengthen', 'software', 'bug', 'discovery', 'disclosure', 'new', 'america', 'report', 'homeland', 'preparedness', 'news|last=rozens|first=tracy|date=2016-08-12|website=|publisher=|language=en-us|access-date=2016-08-23', 'one', 'report', '’', 'authors', 'said', 'congress', 'done', 'enough', 'address', 'cyber', 'software', 'vulnerability', 'even', 'though', 'congress', 'passed', 'number', 'bills', 'combat', 'larger', 'issue', 'cyber', 'security.', 'ref', 'name=', \"''\", ':0', \"''\", 'government', 'researchers', 'companies', 'cyber', 'security', 'experts', 'people', 'typically', 'discover', 'software', 'flaws', 'report', 'calls', 'reforming', 'computer', 'crime', 'copyright', 'laws.', 'ref', 'name=', \"''\", ':0', \"''\", 'blockquote', \"''\", 'computer', 'fraud', 'abuse', 'act', 'digital', 'millennium', 'copyright', 'act', 'electronic', 'communications', 'privacy', 'act', 'criminalize', 'create', 'civil', 'penalties', 'actions', 'security', 'researchers', 'routinely', 'engage', 'conducting', 'legitimate', 'security', 'research', 'report', 'said', '``', 'ref', 'name=', \"''\", ':0', \"''\", '/blockquote', 'terminology', 'ongoing', 'debate', 'use', 'term', '``', 'bug', \"''\", 'describe', 'software', 'errors', 'one', 'argument', 'word', '``', 'bug', \"''\", 'divorced', 'sense', 'human', 'caused', 'problem', 'instead', 'implies', 'defect', 'arose', 'leading', 'push', 'abandon', 'term', '``', 'bug', \"''\", 'favor', 'terms', '``', 'defect', \"''\", 'limited', 'success', 'cite', 'web|url=http', '//www.sei.cmu.edu/library/abstracts/news-at-sei/wattsmar99.cfm|title=news', 'sei', '1999', 'archive|work=cmu.edu', 'since', '1970s', 'gary', 'kildall', 'somewhat', 'humorously', 'suggested', 'use', 'term', '``', 'blunder', \"''\", 'ref', 'name=', \"''\", 'shustek_2016', \"''\", 'cite', 'web', '|url=http', '//www.computerhistory.org/atchm/in-his-own-words-gary-kildall/', '|title=in', 'words', 'gary', 'kildall', '|author-first=len', '|author-last=shustek', '|date=2016-08-02', '|work=remarkable', 'people', '|publisher=computer', 'history', 'museum', 'ref', 'name=', \"''\", 'kildall_1993', \"''\", 'cite', 'paper', '|orig-year=1993', '|date=2016-08-02', '|title=computer', 'connections', 'people', 'places', 'events', 'evolution', 'personal', 'computer', 'industry', '|author-first=gary', 'arlen', '|author-last=kildall', '|author-link=gary', 'kildall', '|editor-first1=scott', '|editor-last1=kildall', '|editor-link=scott', 'kildall', '|editor-first2=kristin', '|editor-last2=kildall', '|publisher=kildall', 'family', '|type=manuscript', 'part', '1', '|pages=14-15', '|url=http', '//www.computerhistory.org/atchm/computer-history-museum-license-agreement-for-the-kildall-manuscript/', '|access-date=2016-11-17', '--', 'https', '//web.archive.org/web/20161117231531/http', '//www.computerhistory.org/atchm/computer-history-museum-license-agreement-for-the-kildall-manuscript/', 'http', '//s3data.computerhistory.org/kildall-p.1-78-publishable-lowres.pdf', '|archive-url=https', '//web.archive.org/web/20161117232745/http', '//s3data.computerhistory.org/kildall-p.1-78-publishable-lowres.pdf', '|archive-date=2016-11-17', '--', 'software', 'engineering', \"''mistake\", 'metamorphism', \"''\", 'greek', \"''meta\", \"''\", '``', 'change', \"''\", \"''morph\", \"''\", '``', 'form', \"''\", 'refers', 'evolution', 'defect', 'final', 'stage', 'software', 'deployment', 'transformation', '``', 'mistake', \"''\", 'committed', 'analyst', 'early', 'stages', 'software', 'development', 'lifecycle', 'leads', '``', 'defect', \"''\", 'final', 'stage', 'cycle', 'called', \"'mistake\", \"metamorphism'.\", 'ref', 'name=', \"''\", 'metamorph', \"''\", 'cite', 'journal', '|journal', 'testing', 'experience|date=march', '2012|publisher=testingexperience|location', 'germany|page', '=42', '|issn=1866-5705', 'subscription', 'required', 'different', 'stages', '``', 'mistake', \"''\", 'entire', 'cycle', 'may', 'described', '``', 'mistakes', \"''\", '``', 'anomalies', \"''\", '``', 'faults', \"''\", '``', 'failures', \"''\", '``', 'errors', \"''\", '``', 'exceptions', \"''\", '``', 'crashes', \"''\", '``', 'bugs', \"''\", '``', 'defects', \"''\", '``', 'incidents', \"''\", '``', 'side', 'effects', \"''\", 'ref', 'name=', \"''\", 'metamorph', \"''\", 'prevention', 'software', 'industry', 'put', 'much', 'effort', 'reducing', 'bug', 'counts', 'cite', 'book', 'last', 'huizinga', 'first', 'dorota', '|author2=kolawa', 'adam', 'title', 'automated', 'defect', 'prevention', 'best', 'practices', 'software', 'management', 'url', 'http', '//www.wiley.com/wileycda/wileytitle/productcd-0470042125.html', 'year', '2007', 'publisher=wiley-ieee', 'computer', 'society', 'press', 'page', '=426', 'isbn', '0-470-04212-5', 'cite', 'book', 'last', 'mcdonald|', 'first', 'marc', '|author2=musson', 'robert', '|author3=smith', 'ross', 'title', 'practical', 'guide', 'defect', 'prevention', 'url', 'http', '//www.microsoft.com/mspress/books/9198.aspx', 'archive-url', 'https', '//web.archive.org/web/20061202140155/http', '//www.microsoft.com:80/mspress/books/9198.aspx', 'dead-url', 'yes', 'archive-date', '2006-12-02', 'year', '2007', 'publisher=microsoft', 'press', 'page', '=480|', 'isbn', '0-7356-2253-1', 'include', 'typographical', 'errors', 'bugs', 'usually', 'appear', 'programmer', 'makes', 'logic', 'error', 'various', 'innovations', 'programming', 'style', 'defensive', 'programming', 'designed', 'make', 'bugs', 'less', 'likely', 'easier', 'spot', 'typos', 'especially', 'symbols', 'logical/operator', 'mathematics', '|mathematical', 'operators', 'allow', 'program', 'operate', 'incorrectly', 'others', 'missing', 'symbol', 'misspelled', 'name', 'may', 'prevent', 'program', 'operating', 'compiled', 'languages', 'reveal', 'typos', 'source', 'code', 'compiled', 'development', 'methodologies', 'several', 'schemes', 'assist', 'managing', 'programmer', 'activity', 'fewer', 'bugs', 'produced', 'software', 'engineering', 'addresses', 'software', 'design', 'issues', 'well', 'applies', 'many', 'techniques', 'prevent', 'defects', 'example', 'formal', 'program', 'specifications', 'state', 'exact', 'behavior', 'programs', 'design', 'bugs', 'may', 'eliminated', 'unfortunately', 'formal', 'specifications', 'impractical', 'anything', 'shortest', 'programs', 'problems', 'combinatorial', 'explosion', 'nondeterministic', 'algorithm|indeterminacy', 'unit', 'testing', 'involves', 'writing', 'test', 'every', 'function', 'unit', 'program', 'perform', 'test-driven', 'development', 'unit', 'tests', 'written', 'code', 'code', 'considered', 'complete', 'tests', 'complete', 'successfully', 'agile', 'software', 'development', 'involves', 'frequent', 'software', 'releases', 'relatively', 'small', 'changes', 'defects', 'revealed', 'user', 'feedback', 'open', 'source', 'development', 'allows', 'anyone', 'examine', 'source', 'code', 'school', 'thought', 'popularized', 'eric', 's.', 'raymond', 'linus', \"'s\", 'law', 'says', 'popular', 'open-source', 'software', 'chance', 'bugs', 'software', '``', 'given', 'enough', 'eyeballs', 'bugs', 'shallow', \"''\", 'http', '//www.catb.org/~esr/writings/cathedral-bazaar/cathedral-bazaar/ar01s04.html', '``', 'release', 'early', 'release', 'often', \"''\", 'eric', 's.', 'raymond', \"''the\", 'cathedral', 'bazaar', \"''\", 'assertion', 'disputed', 'however', 'computer', 'security', 'specialist', 'elias', 'levy', 'wrote', '``', 'easy', 'hide', 'vulnerabilities', 'complex', 'little', 'understood', 'undocumented', 'source', 'code', \"''\", '``', 'even', 'people', 'reviewing', 'code', \"n't\", 'mean', \"'re\", 'qualified', '``', 'http', '//www.securityfocus.com/news/19', '``', 'wide', 'open', 'source', \"''\", 'elias', 'levy', \"''securityfocus\", \"''\", 'april', '17', '2000', 'example', 'actually', 'happening', 'accidentally', 'debian', '2008', 'openssl', 'vulnerability|2008', 'openssl', 'vulnerability', 'debian', 'programming', 'language', 'support', 'programming', 'languages', 'include', 'features', 'help', 'prevent', 'bugs', 'static', 'type', 'systems', 'restricted', 'namespaces', 'modular', 'programming', 'example', 'programmer', 'writes', 'pseudocode', 'code', 'let', 'real_value', 'pi', '``', 'three', 'bit', \"''\", '/code', 'although', 'may', 'syntactically', 'correct', 'code', 'fails', 'type', 'checking|type', 'check', 'compiled', 'languages', 'catch', 'without', 'run', 'program', 'interpreted', 'languages', 'catch', 'errors', 'runtime', 'languages', 'deliberate', 'exclude', 'features', 'easily', 'lead', 'bugs', 'expense', 'slower', 'performance', 'general', 'principle', 'almost', 'always', 'better', 'write', 'simpler', 'slower', 'code', 'inscrutable', 'code', 'runs', 'slightly', 'faster', 'especially', 'considering', 'maintenance', 'cost', 'substantial', 'example', 'java', 'programming', 'language', '|java', 'programming', 'language', 'support', 'pointer', 'computer', 'programming', '|pointer', 'arithmetic', 'implementations', 'languages', 'pascal', 'programming', 'language', '|pascal', 'scripting', 'languages', 'often', 'runtime', 'bounds', 'checking', 'arrays', 'least', 'debugging', 'build', 'code', 'analysis', 'tools', 'static', 'code', 'analysis|code', 'analysis', 'help', 'developers', 'inspecting', 'program', 'text', 'beyond', 'compiler', \"'s\", 'capabilities', 'spot', 'potential', 'problems', 'although', 'general', 'problem', 'finding', 'programming', 'errors', 'given', 'specification', 'solvable', 'see', 'halting', 'problem', 'tools', 'exploit', 'fact', 'human', 'programmers', 'tend', 'make', 'certain', 'kinds', 'simple', 'mistakes', 'often', 'writing', 'software', 'instrumentation', 'tools', 'monitor', 'performance', 'software', 'running', 'either', 'specifically', 'find', 'problems', 'bottleneck', 'engineering', '|bottlenecks', 'give', 'assurance', 'correct', 'working', 'may', 'embedded', 'code', 'explicitly', 'perhaps', 'simple', 'statement', 'saying', 'code', 'print', '``', \"''\", '/code', 'provided', 'tools', 'often', 'surprise', 'find', 'time', 'taken', 'piece', 'code', 'removal', 'assumptions', 'might', 'cause', 'code', 'rewritten', 'testing', 'software', 'testers', 'professionals', 'whose', 'primary', 'task', 'find', 'bugs', 'write', 'code', 'support', 'testing', 'projects', 'resources', 'may', 'spent', 'testing', 'developing', 'program', 'measurements', 'testing', 'provide', 'estimate', 'number', 'likely', 'bugs', 'remaining', 'becomes', 'reliable', 'longer', 'product', 'tested', 'developed', 'citation', 'needed|date=february', '2017', 'debugging', 'file', 'classpath', 'bugs.png|thumb|350px|the', 'typical', 'bug', 'history', 'gnu', 'classpath', 'project', 'data', 'new', 'bug', 'submitted', 'user', \"''unconfirmed\", \"''\", 'reproduced', 'developer', \"''confirmed\", \"''\", 'bug', 'confirmed', 'bugs', 'later', \"''fixed\", \"''\", 'bugs', 'belonging', 'categories', 'unreproducible', 'fixed', 'etc', 'usually', 'minority', 'main', 'article|debugging', 'finding', 'fixing', 'bugs', \"''debugging\", \"''\", 'major', 'part', 'computer', 'programming', 'maurice', 'wilkes', 'early', 'computing', 'pioneer', 'described', 'realization', 'late', '1940s', 'much', 'rest', 'life', 'would', 'spent', 'finding', 'mistakes', 'programs.q', 'maurice', 'wilkes|maurice', 'wilkes', 'quotes', 'usually', 'difficult', 'part', 'debugging', 'finding', 'bug', 'found', 'correcting', 'usually', 'relatively', 'easy', 'programs', 'known', 'debuggers', 'help', 'programmers', 'locate', 'bugs', 'executing', 'code', 'line', 'line', 'watching', 'variable', 'values', 'features', 'observe', 'program', 'behavior', 'without', 'debugger', 'code', 'may', 'added', 'messages', 'values', 'may', 'written', 'console', 'window', 'log', 'file', 'trace', 'program', 'execution', 'show', 'values', 'however', 'even', 'aid', 'debugger', 'locating', 'bugs', 'something', 'art', 'uncommon', 'bug', 'one', 'section', 'program', 'cause', 'failures', 'completely', 'different', 'section', 'citation', 'needed|date=november', '2012', 'thus', 'making', 'especially', 'difficult', 'track', 'example', 'error', 'graphics', 'rendering', 'computer', 'graphics', '|rendering', 'routine', 'causing', 'file', 'input/output|i/o', 'routine', 'fail', 'apparently', 'unrelated', 'part', 'system', 'sometimes', 'bug', 'isolated', 'flaw', 'represents', 'error', 'thinking', 'planning', 'part', 'programmer', \"''logic\", 'errors', \"''\", 'require', 'section', 'program', 'overhauled', 'rewritten', 'part', 'code', 'review', 'stepping', 'code', 'imagining', 'transcribing', 'execution', 'process', 'may', 'often', 'find', 'errors', 'without', 'ever', 'reproducing', 'bug', 'typically', 'first', 'step', 'locating', 'bug', 'reproduce', 'reliably', 'bug', 'reproducible', 'programmer', 'may', 'use', 'debugger', 'tool', 'reproducing', 'error', 'find', 'point', 'program', 'went', 'astray', 'bugs', 'revealed', 'inputs', 'may', 'difficult', 'programmer', 're-create', 'one', 'cause', 'therac-25', 'radiation', 'machine', 'deaths', 'bug', 'specifically', 'race', 'condition', 'occurred', 'machine', 'operator', 'rapidly', 'entered', 'treatment', 'plan', 'took', 'days', 'practice', 'become', 'able', 'bug', 'manifest', 'testing', 'manufacturer', 'attempted', 'duplicate', 'bugs', 'may', 'disappear', 'program', 'run', 'debugger', 'heisenbug|', \"''\", 'heisenbugs', \"''\", 'humorously', 'named', 'uncertainty', 'principle|heisenberg', 'uncertainty', 'principle', 'since', '1990s', 'particularly', 'following', 'ariane', '5', 'flight', '501', 'disaster', 'interest', 'automated', 'aids', 'debugging', 'rose', 'static', 'code', 'analysis', 'abstract', 'interpretation', 'citation', 'needed|date=february', '2017', 'classes', 'bugs', 'nothing', 'code', 'faulty', 'documentation', 'hardware', 'may', 'lead', 'problems', 'system', 'use', 'even', 'though', 'code', 'matches', 'documentation', 'cases', 'changes', 'code', 'eliminate', 'problem', 'even', 'though', 'code', 'longer', 'matches', 'documentation', 'embedded', 'systems', 'frequently', 'workaround|work', 'around', 'hardware', 'bugs', 'since', 'make', 'new', 'version', 'read-only', 'memory|rom', 'much', 'cheaper', 'remanufacturing', 'hardware', 'especially', 'commodity', 'items', 'bug', 'management', 'bug', 'management', 'includes', 'process', 'documenting', 'categorizing', 'assigning', 'reproducing', 'correcting', 'releasing', 'corrected', 'code', 'proposed', 'changes', 'software', 'nbsp', '–', 'bugs', 'well', 'enhancement', 'requests', 'even', 'entire', 'releases', 'nbsp', '–', 'commonly', 'tracked', 'managed', 'using', 'bug', 'tracking', 'systems', 'issue', 'tracking', 'systems', 'items', 'added', 'may', 'called', 'defects', 'tickets', 'issues', 'following', 'agile', 'development', 'paradigm', 'stories', 'epics', 'categories', 'may', 'objective', 'subjective', 'combination', 'version', 'number', 'area', 'software', 'severity', 'priority', 'well', 'type', 'issue', 'feature', 'request', 'bug', 'severity', \"''severity\", \"''\", 'impact', 'bug', 'system', 'operation', 'impact', 'may', 'data', 'loss', 'financial', 'loss', 'goodwill', 'wasted', 'effort', 'severity', 'levels', 'standardized', 'impacts', 'differ', 'across', 'industry', 'crash', 'video', 'game', 'totally', 'different', 'impact', 'crash', 'web', 'browser', 'real', 'time', 'monitoring', 'system', 'example', 'bug', 'severity', 'levels', 'might', '``', 'crash', 'hang', \"''\", '``', 'workaround', \"''\", 'meaning', 'way', 'customer', 'accomplish', 'given', 'task', '``', 'workaround', \"''\", 'meaning', 'user', 'still', 'accomplish', 'task', '``', 'visual', 'defect', \"''\", 'example', 'missing', 'image', 'displaced', 'button', 'form', 'element', '``', 'documentation', 'error', \"''\", 'software', 'publishers', 'use', 'qualified', 'severities', '``', 'critical', \"''\", '``', 'high', \"''\", '``', 'low', \"''\", '``', 'blocker', \"''\", '``', 'trivial', \"''\", 'cite', 'web|url=http', '//www.bugzilla.org/docs/4.4/en/html/bug_page.html|title=5.3', 'anatomy', 'bug|work=bugzilla.org', 'severity', 'bug', 'may', 'separate', 'category', 'priority', 'fixing', 'two', 'may', 'quantified', 'managed', 'separately', 'priority', \"''priority\", \"''\", 'controls', 'bug', 'falls', 'list', 'planned', 'changes', 'priority', 'decided', 'software', 'producer', 'priorities', 'sometimes', 'numerical', 'sometimes', 'named', '``', 'critical', \"''\", '``', 'high', \"''\", '``', 'low', \"''\", '``', 'deferred', \"''\", 'note', 'may', 'similar', 'even', 'identical', 'severity', 'ratings', 'looking', 'different', 'software', 'producers', 'example', 'priority', '1', 'bugs', 'may', 'always', 'fixed', 'next', 'release', '``', '5', \"''\", 'bugs', 'may', 'never', 'fixed', 'industry', 'practice', 'employs', 'inverted', 'scale', 'highest', 'priority', 'low', 'numbers', '0', '1', 'larger', 'numbers', 'indicate', 'lower', 'priority', 'relationship', 'priority', 'severity', 'severe', 'bugs', 'may', 'still', 'high', 'priority', 'example', 'crash', 'high', 'severity', 'happens', 'rarely', 'may', 'low', 'priority', 'priority', 'strictly', 'increasing', 'function', 'probability', 'occurrence', 'severity', 'given', 'probability', 'p', '1', 'severity', 'defines', 'priority', 'p', '0', 'severity', 'irrelevant', 'low', 'severity', 'bugs', 'may', 'get', 'low', 'priority', 'regardless', 'probability', 'occurrence', 'one', 'formula', 'defining', 'relationship', 'math', 'p', 'p', 'b', '\\\\lceil', 'kps', '\\\\rceil', '/math', 'p', 'probability', 'severity', 'k', 'scaling', 'constant', 'invert', 'value', 'b', 'base', 'floor', 'ceiling', 'functions|ceiling', 'function', 'limits', 'domain', 'priority', 'integers', 'also', 'assigns', 'priority-b', 'almost', 'never', 'occurring', 'bugs', 'software', 'releases', 'common', 'practice', 'release', 'software', 'known', 'low-priority', 'bugs', 'big', 'software', 'projects', 'maintain', 'two', 'lists', '``', 'known', 'bugs', \"''\", '–', 'known', 'software', 'team', 'told', 'users', 'citation', 'needed|date=july', '2013', 'second', 'list', 'informs', 'users', 'bugs', 'fixed', 'specific', 'release', 'workarounds', 'may', 'offered', 'releases', 'different', 'kinds', 'bugs', 'sufficiently', 'high', 'priority', 'may', 'warrant', 'special', 'release', 'part', 'code', 'containing', 'modules', 'fixes', 'known', \"''patch\", 'computing', '|patches', \"''\", 'releases', 'include', 'mixture', 'behavior', 'changes', 'multiple', 'bug', 'fixes', 'releases', 'emphasize', 'bug', 'fixes', 'known', \"''maintenance\", \"''\", 'releases', 'releases', 'emphasize', 'feature', 'additions/changes', 'known', 'major', 'releases', 'often', 'names', 'distinguish', 'new', 'features', 'old', 'reasons', 'software', 'publisher', 'opts', 'patch', 'even', 'fix', 'particular', 'bug', 'include', 'deadline', 'must', 'met', 'resources', 'insufficient', 'fix', 'bugs', 'deadline', 'cite', 'magazine|last=', '|first=', '|title=the', 'next', 'generation', '1996', 'lexicon', 'z', 'slipstream', 'release|magazine=next', 'generation', 'magazine', '|next', 'generation|issue=15', '|publisher=imagine', 'media|date=march', '1996|page=41', 'bug', 'already', 'fixed', 'upcoming', 'release', 'high', 'priority', 'changes', 'required', 'fix', 'bug', 'costly', 'affect', 'many', 'components', 'requiring', 'major', 'testing', 'activity', 'may', 'suspected', 'known', 'users', 'relying', 'existing', 'buggy', 'behavior', 'proposed', 'fix', 'may', 'introduce', 'wiktionary', 'breaking', 'change|breaking', 'change', 'problem', 'area', 'obsolete', 'upcoming', 'release', 'fixing', 'unnecessary', \"'s\", '``', 'bug', \"''\", 'misunderstanding', 'arisen', 'expected', 'perceived', 'behavior', 'misunderstanding', 'due', 'confusion', 'arising', 'design', 'flaws', 'faulty', 'documentation', 'types', 'cleanup', 'list|section|date=august', '2015', 'prose|section|date=august', '2015', 'software', 'development', 'projects', '``', 'mistake', \"''\", '``', 'fault', \"''\", 'may', 'introduced', 'stage', 'bugs', 'arise', 'oversights', 'misunderstandings', 'made', 'software', 'team', 'specification', 'design', 'coding', 'data', 'entry', 'documentation', 'example', 'relatively', 'simple', 'program', 'alphabetize', 'list', 'words', 'design', 'might', 'fail', 'consider', 'happen', 'word', 'contains', 'hyphen', 'converting', 'abstract', 'design', 'code', 'coder', 'might', 'inadvertently', 'create', 'off-by-one', 'error', 'fail', 'sort', 'last', 'word', 'list', 'errors', 'may', 'simple', 'typing', 'error', '``', '``', '``', \"''\", 'intended', 'another', 'category', 'bug', 'called', \"''race\", 'condition', \"''\", 'may', 'occur', 'programs', 'multiple', 'components', 'executing', 'time', 'components', 'interact', 'different', 'order', 'developer', 'intended', 'could', 'interfere', 'stop', 'program', 'completing', 'tasks', 'bugs', 'may', 'difficult', 'detect', 'anticipate', 'since', 'may', 'occur', 'every', 'execution', 'program', 'conceptual', 'errors', 'developer', \"'s\", 'misunderstanding', 'software', 'must', 'resulting', 'may', 'perform', 'according', 'developer', \"'s\", 'understanding', 'really', 'needed', 'types', 'arithmetic', 'division', 'zero', 'computer', 'arithmetic|division', 'zero', 'arithmetic', 'overflow', 'arithmetic', 'underflow|underflow', 'loss', 'arithmetic', 'precision', 'due', 'rounding', 'numerical', 'stability|numerically', 'unstable', 'algorithms', 'logic', 'infinite', 'loops', 'infinite', 'recursion', 'computer', 'science', '|recursion', 'off-by-one', 'error', 'counting', 'one', 'many', 'looping', 'syntax', 'use', 'wrong', 'operator', 'performing', 'assignment', 'instead', 'equality|equality', 'test', 'example', 'languages', 'nowiki', 'x=5', '/nowiki', 'set', 'value', 'x', '5', 'nowiki', 'x5', '/nowiki', 'check', 'whether', 'x', 'currently', '5', 'number', 'interpreted', 'languages', 'allow', 'code', 'fail', 'compiled', 'languages', 'catch', 'errors', 'testing', 'begins', 'resource', 'null', 'pointer', 'dereference', 'using', 'uninitialized', 'variable', 'using', 'otherwise', 'valid', 'instruction', 'wrong', 'data', 'type', 'see', 'packed', 'decimal/binary', 'coded', 'decimal', 'access', 'violations', 'resource', 'leaks', 'finite', 'system', 'resource', 'memory', 'leak|memory', 'handle', 'leak|file', 'handles', 'become', 'exhausted', 'repeated', 'allocation', 'without', 'release', 'buffer', 'overflow', 'program', 'tries', 'store', 'data', 'past', 'end', 'allocated', 'storage', 'may', 'may', 'lead', 'access', 'violation', 'storage', 'violation', 'bugs', 'may', 'form', 'software', 'bug', 'security', 'vulnerabilities|security', 'vulnerability', 'excessive', 'recursion', 'nbsp', '—', 'though', 'logically', 'valid', 'nbsp', '—', 'causes', 'stack', 'overflow', 'use-after-free', 'error', 'pointer', 'computer', 'programming', '|pointer', 'used', 'system', 'freed', 'memory', 'references', 'double', 'free', 'error', 'multi-threading', 'deadlock', 'task', 'ca', \"n't\", 'continue', 'task', 'b', 'finishes', 'time', 'task', 'b', 'ca', \"n't\", 'continue', 'task', 'finishes', 'race', 'condition', 'computer', 'perform', 'tasks', 'order', 'programmer', 'intended', 'concurrency', 'errors', 'critical', 'sections', 'mutual', 'exclusions', 'features', 'concurrent', 'programming', 'coordinating', 'access', 'resources|concurrent', 'processing', 'time-of-check-to-time-of-use', 'toctou', 'form', 'unprotected', 'critical', 'section', 'interfacing', 'incorrect', 'api', 'usage', 'incorrect', 'protocol', 'implementation', 'incorrect', 'hardware', 'handling', 'incorrect', 'assumptions', 'particular', 'platform', 'incompatible', 'systems', 'often', 'proposed', '``', 'new', 'api', \"''\", 'new', 'communications', 'protocol', 'may', 'seem', 'work', 'computers', 'use', 'old', 'version', 'computers', 'use', 'new', 'version', 'upgrading', 'receiver', 'exposes', 'backward', 'compatibility', 'problems', 'cases', 'upgrading', 'transmitter', 'exposes', 'forward', 'compatibility', 'problems', 'often', 'feasible', 'upgrade', 'every', 'computer', 'simultaneously—in', 'particular', 'telecommunication', 'industry', 'ref', 'name=', \"''\", 'kimbler1998', \"''\", 'cite', 'book|first=k', '|last=kimbler|title=feature', 'interactions', 'telecommunications', 'software', 'systems', 'v|url=', 'google', 'books', '|plainurl=y', '|id=q7bsgkjrwxsc|page=8', '|year=1998|publisher=ios', 'press|isbn=978-90-5199-431-5|page=8', 'internet.', 'ref', 'name=', \"''\", 'rahman2001', \"''\", 'cite', 'book|last=syed', '|first=mahbubur', 'rahman|title=multimedia', 'networking', 'technology', 'management', 'applications', 'technology', 'management', 'applications|url=', 'google', 'books', '|plainurl=y', '|id=e3ramuqsuxkc|page=398', '|date=1', 'july', '2001|publisher=idea', 'group', 'inc', 'igi', '|isbn=978-1-59140-005-9|page=398', 'ref', 'name=', \"''\", 'wuirwin2016', \"''\", 'cite', 'book|first1=chwan-hwa', 'john', '|last1=wu|first2=j', 'david|last2=', 'irwin|title=introduction', 'computer', 'networks', 'cybersecurity|url=', 'google', 'books', '|plainurl=y', '|id=binnbqaaqbaj|p=500', '|date=19', 'april', '2016|publisher=crc', 'press|isbn=978-1-4665-7214-0|p=500', 'rfc', '1263', '``', 'tcp', 'extensions', 'considered', 'harmful', \"''\", 'quote', \"''\", 'time', 'distribute', 'new', 'version', 'protocol', 'hosts', 'quite', 'long', 'forever', 'fact', '...', 'slightest', 'incompatibly', 'old', 'new', 'versions', 'chaos', 'result', \"''\", 'even', 'feasible', 'update', 'every', 'computer', 'simultaneously', 'sometimes', 'people', 'forget', 'update', 'every', 'computer', 'performance', 'high', 'analysis', 'algorithms|computational', 'complexity', 'algorithm', 'random', 'disk', 'memory', 'access', 'teamworking', 'unpropagated', 'updates', 'e.g', 'programmer', 'changes', '``', 'myadd', \"''\", 'forgets', 'change', '``', 'mysubtract', \"''\", 'uses', 'algorithm', 'errors', 'mitigated', \"n't\", 'repeat', 'yourself|do', \"n't\", 'repeat', 'philosophy', 'comments', 'date', 'incorrect', 'many', 'programmers', 'assume', 'comments', 'accurately', 'describe', 'code', 'differences', 'documentation', 'product', 'implications', 'amount', 'type', 'damage', 'software', 'bug', 'may', 'cause', 'naturally', 'affects', 'decision-making', 'processes', 'policy', 'regarding', 'software', 'quality', 'applications', 'human', 'spaceflight|manned', 'space', 'travel', 'automotive', 'safety', 'since', 'software', 'flaws', 'potential', 'cause', 'human', 'injury', 'even', 'death', 'software', 'far', 'scrutiny', 'quality', 'control', 'example', 'online', 'shopping', 'website', 'applications', 'banking', 'software', 'flaws', 'potential', 'cause', 'serious', 'financial', 'damage', 'bank', 'customers', 'quality', 'control', 'also', 'important', 'say', 'photo', 'editing', 'application', 'nasa', \"'s\", 'software', 'assurance', 'technology', 'center', 'managed', 'reduce', 'number', 'errors', 'fewer', '0.1', 'per', '1000', 'lines', 'code', 'source', 'lines', 'code|sloc', 'citation', 'needed|date=september', '2009', 'felt', 'feasible', 'projects', 'business', 'world', 'well-known', 'bugs', 'main', 'article|list', 'software', 'bugs', 'number', 'software', 'bugs', 'become', 'well-known', 'usually', 'due', 'severity', 'examples', 'include', 'various', 'space', 'military', 'aircraft', 'crashes', 'possibly', 'famous', 'bug', 'year', '2000', 'problem', 'also', 'known', 'y2k', 'bug', 'feared', 'worldwide', 'economic', 'collapse', 'would', 'happen', 'start', 'year', '2000', 'result', 'computers', 'thinking', '1900', 'end', 'major', 'problems', 'occurred', 'knight', 'capital', 'group', '2012', 'stock', 'trading', 'disruption|2012', 'stock', 'trading', 'disruption', 'involved', 'one', 'incompatibility', 'old', 'api', 'new', 'api', 'popular', 'culture', 'robert', 'a.', 'heinlein', \"'s\", '1966', 'novel', \"''the\", 'moon', 'harsh', 'mistress', \"''\", 'computer', 'technician', 'manuel', 'davis', 'blames', 'real', 'bug', 'non-existent', 'failure', 'supercomputer', 'mike', 'presenting', 'dead', 'fly', 'evidence', '1968', 'novel', \"''2001\", 'space', 'odyssey', 'novel', '|2001', 'space', 'odyssey', \"''\", '2001', 'space', 'odyssey', 'film', '|corresponding', '1968', 'film', 'adaptation', 'spaceship', \"'s\", 'onboard', 'computer', 'hal', '9000', 'attempts', 'kill', 'crew', 'members', 'followup', '1982', 'novel', \"''2010\", 'odyssey', 'two', \"''\", 'accompanying', '1984', 'film', \"''2010\", 'film', '|2010', \"''\", 'revealed', 'action', 'caused', 'computer', 'programmed', 'two', 'conflicting', 'objectives', 'fully', 'disclose', 'information', 'keep', 'true', 'purpose', 'flight', 'secret', 'crew', 'conflict', 'caused', 'hal', 'become', 'paranoid', 'eventually', 'homicidal', '1999', 'american', 'comedy', 'office', 'space', 'plot', 'focuses', 'attempt', 'three', 'employees', 'exploit', 'company', \"'s\", 'preoccupation', 'fixing', 'y2k', 'computer', 'bug', 'infecting', 'company', \"'s\", 'computer', 'system', 'virus', 'sends', 'rounded', 'pennies', 'separate', 'bank', 'account', 'plan', 'backfires', 'virus', 'bug', 'sends', 'large', 'amounts', 'money', 'account', 'prematurely', '2000', 'joe', 'trela', 'correctly', 'answered', \"''moth\", \"''\", 'million', 'dollar', 'question', '``', 'insect', 'shorted', 'early', 'supercomputer', 'inspired', 'term', 'computer', 'bug', \"''\", 'united', 'states', 'version', 'game', 'show', \"''who\", 'wants', 'millionaire', \"''\", '2004', 'novel', \"''the\", 'bug', \"''\", 'ellen', 'ullman', 'programmer', \"'s\", 'attempt', 'find', 'elusive', 'bug', 'database', 'application', 'citation', 'needed|date=august', '2015', '2008', 'canadian', 'film', \"''control\", 'alt', 'delete', 'film', '|control', 'alt', 'delete', \"''\", 'computer', 'programmer', 'end', '1999', 'struggling', 'fix', 'bugs', 'company', 'related', 'year', '2000', 'problem', 'see', 'also', 'many', 'see', 'alsos|date=august', '2015', 'portal|software', 'testing', 'anti-pattern', 'software', 'rot', 'bug', 'bounty', 'program', 'glitch', 'removal', 'iso/iec', '9126', 'classifies', 'bug', 'either', \"''defect\", \"''\", \"''nonconformity\", \"''\", 'orthogonal', 'defect', 'classification', 'racetrack', 'problem', 'risks', 'digest', 'software', 'defect', 'indicator', 'software', 'regression', 'notes', 'reflist|30em', 'reading', 'allen', 'mitch', 'may/jun', '2002', '``', 'bug', 'tracking', 'basics', 'beginner', '’', 'guide', 'reporting', 'tracking', 'defects', \"''\", \"''the\", 'software', 'testing', 'quality', 'engineering', 'magazine', \"''\", 'vol', '4', 'issue', '3', 'pp.', 'nbsp', '20–24', 'external', 'links', 'mediawiki|bug', 'management', 'https', '//nvd.nist.gov/cwe.cfm', 'common', 'weakness', 'enumeration', '–', 'expert', 'website', 'focus', 'bugs', 'http', '//opensourceforu.efytimes.com/2010/10/joy-of-programming-types-of-bugs', 'bug', 'type', 'jim', 'gray', 'another', 'bug', 'type', 'webarchive', '|url=https', '//web.archive.org/web/20150112215748/http', '//www.history.navy.mil/photos/images/h96000/h96566kc.htm', '|date=january', '12', '2015', '|title=picture', '``', 'first', 'computer', 'bug', \"''\", 'http', '//www.waterholes.com/~dennette/1996/hopper/bug.htm', 'first', 'computer', 'bug', '–', 'email', '1981', 'adm.', 'hopper', \"'s\", 'bug', 'http', '//dl.acm.org/citation.cfm', 'doid=2931037.2931074', 'toward', 'understanding', 'compiler', 'bugs', 'gcc', 'llvm', '2016', 'study', 'bugs', 'compilers', 'category', 'software', 'bugs|'], ['multiple', 'issues|', 'footnotes|date=may', '2013', 'one', 'source|date=may', '2015', 'refimprove|date=april', '2008', 'file', 'winpdb-1.3.6.png|thumb', '|winpdb', 'debugging', \"''\", 'debugger', \"''\", \"''\", 'debugging', 'tool', \"''\", 'computer', 'program', 'used', 'software', 'testing|test', 'debugging|debug', 'programs', '``', 'target', \"''\", 'program', 'code', 'examined', 'might', 'alternatively', 'running', \"''instruction\", 'set', 'simulator', \"''\", 'iss', 'technique', 'allows', 'great', 'power', 'ability', 'halt', 'specific', 'conditions', 'encountered', 'typically', 'somewhat', 'slower', 'executing', 'code', 'directly', 'appropriate', 'processor', 'debuggers', 'offer', 'two', 'modes', 'operation', 'full', 'partial', 'simulation', 'limit', 'impact', '``', 'trap', 'computing', '|trap', \"''\", 'occurs', 'program', 'normally', 'continue', 'software', 'bug|programming', 'bug', 'invalid', 'data', 'example', 'program', 'might', 'tried', 'use', 'instruction', 'available', 'current', 'version', 'central', 'processing', 'unit|cpu', 'attempted', 'access', 'unavailable', 'memory', 'protection|protected', 'memory', 'computers', '|memory', 'program', '``', 'traps', \"''\", 'reaches', 'preset', 'condition', 'debugger', 'typically', 'shows', 'location', 'original', 'code', \"''\", 'source-level', 'debugger', \"''\", \"''\", 'symbolic', 'debugger', \"''\", 'commonly', 'seen', 'integrated', 'development', 'environments', \"''\", 'low-level', 'debugger', \"''\", \"''\", 'machine-language', 'debugger', \"''\", 'shows', 'line', 'disassembly', 'unless', 'also', 'online', 'access', 'original', 'source', 'code', 'display', 'appropriate', 'section', 'code', 'assembly', 'compilation', '==features==', 'typically', 'debuggers', 'offer', 'query', 'processor', 'symbol', 'resolver', 'expression', 'interpreter', 'debug', 'support', 'interface', 'top', 'level.aggarwal', 'kumar', 'p.', '302.', 'debuggers', 'also', 'offer', 'sophisticated', 'functions', 'running', 'program', 'stepping', 'debugging', '|step', 'step', \"''\", 'single-stepping', \"''\", 'program', 'animation', 'stopping', \"''\", 'breaking', \"''\", 'pausing', 'program', 'examine', 'current', 'state', 'event', 'specified', 'instruction', 'means', 'breakpoint', 'tracking', 'values', 'variables.aggarwal', 'kumar', '2003', 'p.', '301.', 'debuggers', 'ability', 'modify', 'program', 'state', 'running', 'may', 'also', 'possible', 'continue', 'execution', 'different', 'location', 'program', 'bypass', 'crash', 'logical', 'error', 'functionality', 'makes', 'debugger', 'useful', 'eliminating', 'bugs', 'allows', 'used', 'software', 'cracking', 'tool', 'evade', 'copy', 'protection', 'digital', 'rights', 'management', 'software', 'protection', 'features', 'often', 'also', 'makes', 'useful', 'general', 'verification', 'tool', 'fault', 'coverage', 'profiling', 'computer', 'programming', '|performance', 'analyzer', 'especially', 'instruction', 'path', 'lengths', 'shown.aggarwal', 'kumar', 'pp', '307-312.', 'mainstream', 'debugging', 'engines', 'gdb', 'dbx', 'debugger', '|dbx', 'provide', 'console-based', 'command', 'line', 'interfaces', 'debugger', 'front-ends', 'popular', 'extensions', 'debugger', 'engines', 'provide', 'integrated', 'developer', 'environment|ide', 'integration', 'program', 'animation', 'visualization', 'features', '===', 'anchor|reverse', 'debugging', 'reverse', 'debugging===', '--', 'least', 'six', 'pages', 'redirect', 'section', 'please', 'remove', 'section', 'rename', 'anchor', 'without', 'first', 'getting', 'consensus', 'talk', 'page', '--', 'debuggers', 'include', 'feature', 'called', '``', \"''\", 'reverse', 'debugging', \"''\", \"''\", 'also', 'known', '``', 'historical', 'debugging', \"''\", '``', 'backwards', 'debugging', \"''\", 'debuggers', 'make', 'possible', 'step', 'program', \"'s\", 'execution', 'backwards', 'time', 'various', 'debuggers', 'include', 'feature', 'microsoft', 'visual', 'studio', '2010', 'ultimate', 'edition', '2012', 'ultimate', '2013', 'ultimate', '2015', 'enterprise', 'edition', 'offers', 'intellitrace', 'reverse', 'debugging', 'c', 'visual', 'basic', '.net', 'languages', 'c++', 'reverse', 'debuggers', 'also', 'exist', 'c', 'c++', 'java', 'python', 'perl', 'languages', 'open', 'source', 'proprietary', 'commercial', 'software', 'reverse', 'debuggers', 'slow', 'target', 'orders', 'magnitude', 'best', 'reverse', 'debuggers', 'cause', 'slowdown', '2×', 'less', 'reverse', 'debugging', 'useful', 'certain', 'types', 'problems', 'still', 'commonly', 'used', 'yet', 'cite', 'web|author1=philip', 'claßen|author2=undo', 'software|title=why', 'reverse', 'debugging', 'rarely', 'used', '|url=http', '//programmers.stackexchange.com/questions/181527/why-is-reverse-debugging-rarely-used|work=programmers', 'stack', 'exchange|publisher=stack', 'exchange', 'inc|accessdate=12', 'april', '2015', '==language', 'dependency==', 'debuggers', 'operate', 'single', 'specific', 'language', 'others', 'handle', 'multiple', 'languages', 'transparently', 'example', 'main', 'target', 'program', 'written', 'cobol', 'calls', 'assembly', 'language', 'subroutines', 'pl/1', 'subroutines', 'debugger', 'may', 'dynamically', 'switch', 'modes', 'accommodate', 'changes', 'language', 'occur', '==memory', 'protection==', 'debuggers', 'also', 'incorporate', 'memory', 'protection', 'avoid', 'storage', 'violations', 'buffer', 'overflow', 'may', 'extremely', 'important', 'transaction', 'processing', 'environments', 'memory', 'dynamically', 'allocated', 'memory', \"'pools\", 'task', 'task', 'basis', '==hardware', 'support', 'debugging==', 'modern', 'microprocessors', 'least', 'one', 'features', 'cpu', 'design', 'make', 'debugging', 'easier', 'hardware', 'support', 'single-stepping', 'program', 'trap', 'flag', 'instruction', 'set', 'meets', 'popek', 'goldberg', 'virtualization', 'requirements', 'makes', 'easier', 'write', 'debugger', 'software', 'runs', 'cpu', 'software', 'debugged', 'cpu', 'execute', 'inner', 'loops', 'program', 'test', 'full', 'speed', 'still', 'remain', 'debugger', 'control', 'in-system', 'programming', 'allows', 'external', 'hardware', 'debugger', 'reprogram', 'system', 'test', 'example', 'adding', 'removing', 'instruction', 'breakpoints', 'many', 'systems', 'isp', 'support', 'also', 'hardware', 'debug', 'support', 'hardware', 'support', 'code', 'data', 'breakpoints', 'address', 'comparators', 'data', 'value', 'comparators', 'considerably', 'work', 'involved', 'page', 'fault', 'hardware.aggarwal', 'kumar', '2003', 'pp', '299-301.', 'joint', 'test', 'action', 'group', 'example', 'arm11', 'debug', 'tap|jtag', 'access', 'hardware', 'debug', 'interfaces', 'arm', 'architecture', 'processors', 'using', 'nexus', 'standard', '|nexus', 'command', 'set', 'processors', 'used', 'embedded', 'systems', 'typically', 'extensive', 'jtag', 'debug', 'support', 'micro', 'controllers', 'six', 'pins', 'need', 'use', 'low', 'pin-count', 'substitutes', 'jtag', 'background', 'debug', 'mode', 'interface|bdm', 'spy-bi-wire', 'debugwire', 'atmel', 'avr', 'debugwire', 'example', 'uses', 'bidirectional', 'signaling', 'reset', 'pin', '==debugger', 'front-ends==', 'capable', 'popular', 'debuggers', 'implement', 'simple', 'command', 'line', 'interface', 'cli', '—often', 'maximize', 'porting|portability', 'minimize', 'resource', 'consumption', 'developers', 'typically', 'consider', 'debugging', 'via', 'graphical', 'user', 'interface', 'gui', 'easier', 'productive', 'reason', 'visual', 'front-ends', 'allow', 'users', 'monitor', 'control', 'subservient', 'cli-only', 'debuggers', 'via', 'graphical', 'user', 'interface', 'gui', 'debugger', 'front-ends', 'designed', 'compatible', 'variety', 'cli-only', 'debuggers', 'others', 'targeted', 'one', 'specific', 'debugger', '==list', 'debuggers==', 'main|list', 'debuggers', 'example', 'farm|date=june', '2015', 'widely', 'used', 'debuggers', 'firefox', 'javascript', 'debugger', 'gnu', 'debugger|gdb', 'gnu', 'debugger', 'lldb', 'debugger', '|lldb', 'microsoft', 'visual', 'studio', 'debugger', 'valgrind', 'windbg', 'eclipse', 'software', '|eclipse', 'debugger', 'api', 'used', 'range', 'ides', 'eclipse', 'ide', 'java', 'nodeclipse', 'javascript', 'wdw', 'watcom', 'c/c++', 'compiler|openwatcom', 'debugger', 'earlier', 'minicomputer', 'debuggers', 'include', 'dynamic', 'debugging', 'technique', 'ddt', 'on-line', 'debugging', 'tool', 'odt', 'earlier', 'mainframe', 'debuggers', 'include', 'date', 'release', 'order', '1985', 'ca/eztest', '1990', 'xpediter', 'expediter', 'cics', 'current', 'mainframe', 'debuggers', 'debug', 'tool', 'z/os', 'cite', 'web|url=ftp', '//public.dhe.ibm.com/software/htp/pdtools/info/datasheetdt.pdf', '|format=pdf', '|title=ibm', 'debug', 'tool', 'z/os', 'v13.1', '|publisher=puiblic.dhe.ibm.com', '|accessdate=2015-05-07', 'xpediter', 'expediter', 'cics', 'z/xdc', 'cite', 'web|url=http', '//www-304.ibm.com/partnerworld/gsd/solutiondetails.do', 'solution=48514', 'lc=en', 'statecd=p', 'tab=2', '|title=ibm', 'global', 'solutions', 'directory', 'z/xdc', 'extended', 'debugging', 'controller', 'z2.1', '|accessdate=2015-05-29', '==see', 'also==', 'portal|software', 'testing|computer', 'programming', '--', 'please', 'keep', 'entries', 'alphabetical', 'order', 'add', 'short', 'description', 'wp', 'seealso', '--', 'columns-list|colwidth=30em|', 'comparison', 'debuggers', 'core', 'dump', 'kernel', 'debugger', 'list', 'tools', 'static', 'code', 'analysis', 'memory', 'debugger', 'packet', 'analyzer', 'profiling', 'computer', 'programming', '|profiling', '--', 'please', 'keep', 'entries', 'alphabetical', 'order', '--', 'clear', '==references==', 'general', 'cite', 'encyclopedia|authors=sanjeev', 'kumar', 'aggarwal', 'm.', 'sarath', 'kumar|title=debuggers', 'programming', 'languages|encyclopedia=the', 'compiler', 'design', 'handbook', 'optimizations', 'machine', 'code', 'generation|editors=y.n', 'srikant', 'priti', 'shankar|location=boca', 'raton', 'florida|publisher=crc', 'press|isbn=978-0-8493-1240-3|year=2003|pages=295–327', 'cite', 'book|authors=jonathan', 'b.', 'rosenberg|title=how', 'debuggers', 'work', 'algorithms', 'data', 'structures', 'architecture|publisher=john', 'wiley', 'sons|isbn=0-471-14966-7', 'specific', 'reflist|30em', '==external', 'links==', 'wiktionary|debugger', 'dmoz|/computers/programming/development_tools/debugging|debugging', 'tools', 'http', '//www.microsoft.com/whdc/devtools/debugging/', 'debugging', 'tools', 'windows', 'http', '//www.openrce.org', 'openrce', 'various', 'debugger', 'resources', 'plug-ins', 'dmoz|/computers/parallel_computing/programming/tools/|parallel', 'computing', 'development', 'debugging', 'tools', 'https', '//msdn.microsoft.com/en-us/library/dd264915.aspx/', 'intellitrace', 'msdn', 'visual', 'studio', '2015', 'category', 'debuggers|', 'category', 'debugging', 'category', 'utility', 'software', 'types'], [\"''\", 'exception', 'handling', \"''\", 'process', 'responding', 'occurrence', 'computation', \"''exceptions\", \"''\", '–', 'anomalous', 'exceptional', 'conditions', 'requiring', 'special', 'processing', '–', 'often', 'changing', 'normal', 'flow', 'computer', 'program|program', 'execution', 'computing', '|execution', 'provided', 'specialized', 'programming', 'language', 'constructs', 'computer', 'hardware', 'mechanisms', 'general', 'exception', 'breaks', 'normal', 'flow', 'execution', 'executes', 'pre-registered', \"''exception\", 'handler', \"''\", 'details', 'done', 'depends', 'whether', 'hardware', 'software', 'exception', 'software', 'exception', 'implemented', 'exceptions', 'especially', 'hardware', 'ones', 'may', 'handled', 'gracefully', 'execution', 'resume', 'interrupted', 'alternative', 'approaches', 'exception', 'handling', 'software', 'error', 'checking', 'maintains', 'normal', 'program', 'flow', 'later', 'explicit', 'checks', 'contingencies', 'reported', 'using', 'special', 'return', 'values', 'auxiliary', 'global', 'variable', 'c', \"'s\", 'errno|', 'c-lang|errno', 'floating', 'point', 'status', 'flags', 'input', 'validation', 'premptively', 'filter', 'exceptional', 'cases', 'programmers', 'write', 'software', \"''\", 'error', 'reporting', \"''\", 'features', 'collect', 'details', 'may', 'helpful', 'fixing', 'problem', 'display', 'details', 'screen', 'store', 'file', 'core', 'dump', 'cases', 'motorola', 'q', 'error', 'reporting|automatic', 'error', 'reporting', 'system', 'windows', 'error', 'reporting', 'automatically', 'phoning', 'home|phone', 'home', 'email', 'details', 'programmers', 'exception', 'handling', 'hardware', 'hardware', 'exception', 'mechanisms', 'processed', 'cpu', 'intended', 'support', 'error', 'detection', 'redirects', 'program', 'flow', 'error', 'handling', 'service', 'routines', 'state', 'exception', 'saved', 'stack', 'cite', 'web', 'url', 'http', '//processors.wiki.ti.com/', 'title', 'hardware', 'exceptions', 'detection', 'date', '2011-11-24', 'publisher', 'texas', 'instruments', 'archiveurl', 'http', '//processors.wiki.ti.com/index.php/hardware_exceptions_detection', 'archivedate', '2011-11-24', 'quote', 'accessdate', '2012-10-05', 'hardware', 'exception', 'handling/traps', 'ieee', '754', 'floating', 'point', 'exception', 'handling', 'ieee', '754', 'floating', 'point', 'dealing', 'exceptional', 'cases|floating', 'point', 'hardware', 'standard', 'refers', 'general', 'exceptional', 'conditions', 'defines', 'exception', '``', 'event', 'occurs', 'operation', 'particular', 'operands', 'outcome', 'suitable', 'every', 'reasonable', 'application', 'operation', 'might', 'signal', 'one', 'exceptions', 'invoking', 'default', 'explicitly', 'requested', 'language-defined', 'alternate', 'handling', \"''\", 'default', 'ieee', '754', 'exception', 'resumable', 'handled', 'substituting', 'predefined', 'value', 'different', 'exceptions', 'e.g', 'infinity', 'divide', 'zero', 'exception', 'providing', 'floating', 'point', 'dealing', 'exceptional', 'cases|status', 'flags', 'later', 'checking', 'whether', 'exception', 'occurred', 'see', 'c99', 'ieee', 'nbsp', '754', 'floating', 'point', 'support|c99', 'programming', 'language', 'typical', 'example', 'handling', 'ieee', '754', 'exceptions', 'exception-handling', 'style', 'enabled', 'use', 'status', 'flags', 'involves', 'first', 'computing', 'expression', 'using', 'fast', 'direct', 'implementation', 'checking', 'whether', 'failed', 'testing', 'status', 'flags', 'necessary', 'calling', 'slower', 'numerically', 'robust', 'implementation.', 'ref', 'name=', \"''\", 'xiaoye', 'li', 'james', 'demmel', '1994', '983–992', \"''\", 'cite', 'journal', '|author1=xiaoye', 'li', '|author2=james', 'demmel', 'title=faster', 'numerical', 'algorithms', 'via', 'exception', 'handling', 'ieee', 'transactions', 'computers', '43', '8', 'year=', '1994', 'pages=983–992', 'ieee', '754', 'standard', 'uses', 'term', '``', 'trapping', \"''\", 'refer', 'calling', 'user-supplied', 'exception-handling', 'routine', 'exceptional', 'conditions', 'optional', 'feature', 'standard', 'standard', 'recommends', 'several', 'usage', 'scenarios', 'including', 'implementation', 'non-default', 'pre-substitution', 'value', 'followed', 'resumption', 'concisely', 'handle', 'removable', 'singularity|removable', 'singularities.', 'ref', 'name=', \"''\", 'xiaoye', 'li', 'james', 'demmel', '1994', '983–992', \"''\", 'ref', 'name=grail', 'cite', 'web|url=http', '//www.cs.berkeley.edu/~wkahan/grail.pdf|title=a', 'demonstration', 'presubstitution', '∞/∞|author=w.kahan|date=july', '5', '2005', 'cite', 'journal|author=john', 'hauser|title=handling', 'floating-point', 'exceptions', 'numeric', 'programs', 'acm', 'transactions', 'programming', 'languages', 'systems', '18', '2', 'year=', '1996|pages=139–174', 'default', 'ieee', '754', 'exception', 'handling', 'behaviour', 'resumption', 'following', 'pre-substitution', 'default', 'value', 'avoids', 'risks', 'inherent', 'changing', 'flow', 'program', 'control', 'numerical', 'exceptions', 'example', '1996', 'ariane', '5', 'flight', '501|maiden', 'flight', 'ariane', '5', 'flight', '501', 'ended', 'catastrophic', 'explosion', 'due', 'part', 'ada', 'programming', 'language', '|ada', 'programming', 'language', 'exception', 'handling', 'policy', 'aborting', 'computation', 'arithmetic', 'error', 'case', '64-bit', 'floating', 'point', '16-bit', 'integer', 'conversion', 'integer', 'overflow|overflow.', 'ref', 'name=grail', 'ariane', 'flight', '501', 'case', 'programmers', 'protected', 'four', 'seven', 'critical', 'variables', 'overflow', 'due', 'concerns', 'computational', 'constraints', 'on-board', 'computer', 'relied', 'turned', 'incorrect', 'assumptions', 'possible', 'range', 'values', 'three', 'unprotected', 'variables', 'code', 'reuse|reused', 'code', 'ariane', '4', 'assumptions', 'correct.http', '//www.irisa.fr/pampa/epee/ariane5.html', 'according', 'william', 'kahan', 'loss', 'flight', '501', 'would', 'avoided', 'ieee', '754', 'exception-handling', 'policy', 'default', 'substitution', 'used', 'overflowing', '64-bit', '16-bit', 'conversion', 'caused', 'software', 'abort', 'occurred', 'piece', 'code', 'turned', 'completely', 'unnecessary', 'ariane', '5.', 'ref', 'name=grail', 'official', 'report', 'crash', 'conducted', 'inquiry', 'board', 'headed', 'jacques-louis', 'lions', 'noted', '``', 'underlying', 'theme', 'development', 'ariane', '5', 'bias', 'towards', 'fault-tolerant', 'computer', 'system|mitigation', 'random', 'failure', 'supplier', 'inertial', 'navigation', 'system', 'sri', 'following', 'specification', 'given', 'stipulated', 'event', 'detected', 'exception', 'processor', 'stopped', 'exception', 'occurred', 'due', 'random', 'failure', 'design', 'error', 'exception', 'detected', 'inappropriately', 'handled', 'view', 'taken', 'software', 'considered', 'correct', 'shown', 'fault', '...', 'although', 'failure', 'due', 'systematic', 'software', 'design', 'error', 'mechanisms', 'introduced', 'mitigate', 'type', 'problem', 'example', 'computers', 'within', 'sris', 'could', 'continued', 'provide', 'best', 'estimates', 'required', 'attitude', 'control|attitude', 'information', 'reason', 'concern', 'software', 'exception', 'allowed', 'even', 'required', 'cause', 'processor', 'halt', 'handling', 'mission-critical', 'equipment', 'indeed', 'loss', 'proper', 'software', 'function', 'hazardous', 'software', 'runs', 'sri', 'units', 'case', 'ariane', '501', 'resulted', 'switch-off', 'two', 'still', 'healthy', 'critical', 'units', 'equipment', '``', 'https', '//www.ima.umn.edu/~arnold/disasters/ariane5rep.html', 'processing', 'point', 'view', 'hardware', 'interrupts', 'similar', 'resumable', 'exceptions', 'though', 'typically', 'unrelated', 'user', 'program', \"'s\", 'control', 'flow', 'exception', 'handling', 'software', 'software', 'exception', 'handling', 'support', 'provided', 'software', 'tools', 'differs', 'somewhat', 'understood', 'exception', 'hardware', 'similar', 'concepts', 'involved', 'programming', 'language', 'mechanisms', 'exception', 'handling', 'term', \"''exception\", \"''\", 'typically', 'used', 'specific', 'sense', 'denote', 'data', 'structure', 'storing', 'information', 'exceptional', 'condition', 'one', 'mechanism', 'transfer', 'control', \"''raise\", \"''\", 'exception', 'known', \"''throw\", \"''\", 'exception', 'said', \"''thrown\", \"''\", 'execution', 'transferred', '``', 'catch', \"''\", 'point', 'view', 'author', 'subroutine|routine', 'raising', 'exception', 'useful', 'way', 'signal', 'routine', 'could', 'execute', 'normally', 'example', 'input', 'argument', 'invalid', 'e.g', 'value', 'outside', 'domain', 'function', 'resource', 'relies', 'unavailable', 'like', 'missing', 'file', 'hard', 'disk', 'error', 'out-of-memory', 'errors', 'systems', 'without', 'exceptions', 'routines', 'would', 'need', 'return', 'special', 'error', 'code', 'however', 'sometimes', 'complicated', 'semipredicate', 'problem', 'users', 'routine', 'need', 'write', 'extra', 'code', 'distinguish', 'normal', 'return', 'values', 'erroneous', 'ones', 'programming', 'languages', 'differ', 'substantially', 'notion', 'exception', 'contemporary', 'languages', 'roughly', 'divided', 'two', 'groups', 'ref', 'name=', \"''\", 'kiniry', \"''\", 'cite', 'book', 'doi', '10.1007/11818502_16|', 'chapter', 'exceptions', 'java', 'eiffel', 'two', 'extremes', 'exception', 'design', 'application|', 'title', 'advanced', 'topics', 'exception', 'handling', 'techniques|', 'volume', '4119|', 'pages', '288|', 'series', 'lecture', 'notes', 'computer', 'science|', 'year', '2006|', 'last1', 'kiniry', 'first1', 'j.', 'r.', 'isbn', '978-3-540-37443-5', 'languages', 'exceptions', 'designed', 'used', 'flow', 'control', 'structures', 'ada', 'java', 'modula-3', 'ml', 'ocaml', 'python', 'ruby', 'fall', 'category', 'languages', 'exceptions', 'used', 'handle', 'abnormal', 'unpredictable', 'erroneous', 'situations', 'c++', 'http', '//www.stroustrup.com/bs_faq2.html', 'exceptions-what-not', 'c', 'common', 'lisp', 'eiffel', 'modula-2', 'kiniry', 'also', 'notes', '``', 'language', 'design', 'partially', 'influences', 'use', 'exceptions', 'consequently', 'manner', 'one', 'handles', 'partial', 'total', 'failures', 'system', 'execution', 'major', 'influence', 'examples', 'use', 'typically', 'core', 'libraries', 'code', 'examples', 'technical', 'books', 'magazine', 'articles', 'online', 'discussion', 'forums', 'organization', '’', 'code', 'standards', '``', 'ref', 'name=', \"''\", 'kiniry', \"''\", 'contemporary', 'applications', 'face', 'many', 'design', 'challenges', 'considering', 'exception', 'handling', 'strategies', 'particularly', 'modern', 'enterprise', 'level', 'applications', 'exceptions', 'must', 'often', 'cross', 'process', 'boundaries', 'machine', 'boundaries', 'part', 'designing', 'solid', 'exception', 'handling', 'strategy', 'recognizing', 'process', 'failed', 'point', 'economically', 'handled', 'software', 'portion', 'process.all', 'exceptions', 'handled', 'jim', 'wilcox', 'http', '//granitestatehacker.kataire.com/2008/02/all-exceptions-are-handled.html', 'exception', 'handling', 'often', 'handled', 'correctly', 'software', 'especially', 'multiple', 'sources', 'exceptions', 'data', 'flow', 'analysis', '5', 'million', 'lines', 'java', 'code', 'found', '1300', 'exception', 'handling', 'defects.', 'ref', 'name=', \"''\", 'toplas2008', \"''\", 'cite', 'news|author1=weimer', 'w', '|author2=necula', 'g.c.|title=exceptional', 'situations', 'program', 'reliability|journal=acm', 'transactions', 'programming', 'languages', 'systems', 'vol', '30', '2', '|url=http', '//www.cs.virginia.edu/~weimer/p/weimer-toplas2008.pdf|year=2008', 'history', 'software', 'exception', 'handling', 'developed', 'lisp', 'programming', 'language', '|lisp', '1960s', '1970s', 'originated', 'lisp', '1.5', '1962', 'exceptions', \"''caught\", \"''\", 'code', 'errset', '/code', 'keyword', 'returned', 'code', 'nil', '/code', 'case', 'error', 'instead', 'terminating', 'program', 'entering', 'debugger', 'sfn|gabriel|steele|2008|p=3', 'error', \"''raising\", \"''\", 'introduced', 'maclisp', 'late', '1960s', 'via', 'code', 'err', '/code', 'keyword', 'sfn|gabriel|steele|2008|p=3', 'rapidly', 'used', 'error', 'raising', 'non-local', 'control', 'flow', 'thus', 'augmented', 'two', 'new', 'keywords', 'code', 'catch', '/code', 'code', 'throw', '/code', 'maclisp', 'june', '1972', 'reserving', 'code', 'errset', '/code', 'code', 'err', '/code', 'error', 'handling', 'cleanup', 'behavior', 'generally', 'called', '``', 'finally', \"''\", 'introduced', 'nil', 'programming', 'language', '|nil', 'new', 'implementation', 'lisp', 'mid-', 'late-1970s', 'code', 'unwind-protect', '/code', 'sfn|white|1979|p=194', 'adopted', 'common', 'lisp', 'contemporary', 'code', 'dynamic-wind', '/code', 'scheme', 'handled', 'exceptions', 'closures', 'first', 'papers', 'structured', 'exception', 'handling', 'harvtxt|goodenough|1975a', 'harvtxt|goodenough|1975b', 'sfn|stroustrup|1994|p=392', 'exception', 'handling', 'subsequently', 'widely', 'adopted', 'many', 'programming', 'languages', '1980s', 'onward', 'originally', 'software', 'exception', 'handling', 'included', 'resumable', 'exceptions', 'resumption', 'semantics', 'like', 'hardware', 'exceptions', 'non-resumable', 'exceptions', 'termination', 'semantics', 'however', 'resumption', 'semantics', 'considered', 'ineffective', 'practice', '1970s', '1980s', 'see', 'c++', 'standardization', 'discussion', 'quoted', 'sfn|stroustrup|1994|loc=16.6', 'exception', 'handling', 'resumption', 'vs.', 'termination', 'pp', '390–393', 'longer', 'common', 'use', 'though', 'provided', 'programming', 'languages', 'like', 'common', 'lisp', 'dylan', 'termination', 'semantics', 'exception', 'handling', 'mechanisms', 'contemporary', 'languages', 'typically', 'non-resumable', '``', 'termination', 'semantics', \"''\", 'opposed', 'hardware', 'exceptions', 'typically', 'resumable', 'based', 'experience', 'using', 'theoretical', 'design', 'arguments', 'favor', 'either', 'decision', 'extensively', 'debated', 'c++', 'standardization', 'discussions', '1989–1991', 'resulted', 'definitive', 'decision', 'termination', 'semantics', 'sfn|stroustrup|1994|loc=16.6', 'exception', 'handling', 'resumption', 'vs.', 'termination', 'pp', '390–393', 'rationale', 'design', 'c++', 'mechanism', 'bjarne', 'stroustrup|stroustrup', 'notes', 'blockquote|', 'palo', 'alto', 'c++', 'standardization', 'meeting', 'november', '1991', 'heard', 'brilliant', 'summary', 'arguments', 'termination', 'semantics', 'backed', 'personal', 'experience', 'data', 'james', 'g.', 'mitchell|jim', 'mitchell', 'sun', 'formerly', 'xerox', 'parc', 'jim', 'used', 'exception', 'handling', 'half', 'dozen', 'languages', 'period', '20', 'years', 'early', 'proponent', 'resumption', 'semantics', 'one', 'main', 'designers', 'implementers', 'xerox', \"'s\", 'mesa/cedar|cedar/mesa', 'system', 'message', '“', 'termination', 'preferred', 'resumption', 'matter', 'opinion', 'matter', 'years', 'experience', 'resumption', 'seductive', 'valid.', '”', 'backed', 'statement', 'experience', 'several', 'operating', 'systems', 'key', 'example', 'cedar/mesa', 'written', 'people', 'liked', 'used', 'resumption', 'ten', 'years', 'use', 'one', 'use', 'resumption', 'left', 'half', 'million', 'line', 'system', '–', 'context', 'inquiry', 'resumption', \"n't\", 'actually', 'necessary', 'context', 'inquiry', 'removed', 'found', 'significant', 'speed', 'increase', 'part', 'system', 'every', 'case', 'resumption', 'used', '–', 'ten', 'years', '–', 'become', 'problem', 'appropriate', 'design', 'replaced', 'basically', 'every', 'use', 'resumption', 'represented', 'failure', 'keep', 'separate', 'levels', 'abstraction', 'disjoint', 'sfn|stroustrup|1994|p=392', 'criticism', 'contrasting', 'view', 'safety', 'exception', 'handling', 'given', 'tony', 'hoare|c.a.r', 'hoare', '1980', 'describing', 'ada', 'programming', 'language', '|ada', 'programming', 'language', '``', '...', 'plethora', 'features', 'notational', 'conventions', 'many', 'unnecessary', 'like', 'exception', 'handling', 'even', 'dangerous', '...', 'allow', 'language', 'present', 'state', 'used', 'applications', 'reliability', 'critical', '...', 'next', 'rocket', 'go', 'astray', 'result', 'programming', 'language', 'error', 'may', 'exploratory', 'space', 'rocket', 'harmless', 'trip', 'venus', 'may', 'nuclear', 'warhead', 'exploding', 'one', 'cities', \"''\", 'c.a.r', 'hoare', '``', 'emperor', \"'s\", 'old', 'clothes', \"''\", '1980', 'turing', 'award', 'lecture', 'citing', 'multiple', 'prior', 'studies', 'others', '1999–2004', 'results', 'weimer', 'necula', 'wrote', 'significant', 'problem', 'exceptions', '``', 'create', 'hidden', 'control-flow', 'paths', 'difficult', 'programmers', 'reason', \"''\", 'ref', 'name=', \"''\", 'toplas2008', \"''\", 'rp|8:27', 'go', 'programming', 'language', '|go', 'initially', 'released', 'exception', 'handling', 'explicitly', 'omitted', 'developers', 'arguing', 'obfuscated', 'control', 'flow', 'cite', 'web', '|url=https', '//golang.org/doc/faq', '|title=frequently', 'asked', 'questions', '|accessdate=2017-04-27', '|quote=we', 'believe', 'coupling', 'exceptions', 'control', 'structure', 'try-catch-finally', 'idiom', 'results', 'convoluted', 'code', 'also', 'tends', 'encourage', 'programmers', 'label', 'many', 'ordinary', 'errors', 'failing', 'open', 'file', 'exceptional', 'later', 'exception-like', 'mono|panic', 'mono|recover', 'mechanism', 'added', 'language', 'go', 'authors', 'advise', 'using', 'unrecoverable', 'errors', 'halt', 'entire', 'process', 'https', '//code.google.com/p/go-wiki/wiki/panicandrecover', 'panic', 'recover', 'go', 'wiki', 'cite', 'web', '|url=http', '//golang.org/doc/devel/weekly.html', '2010-03-30', '|title=weekly', 'snapshot', 'history|work=golang.org', 'cite', 'web', '|url=https', '//groups.google.com/group/golang-nuts/browse_thread/thread/1ce5cd050bb973e4', '|title=proposal', 'exception-like', 'mechanism', '|date=25', 'march', '2010', '|work=golang-nuts', '|accessdate=25', 'march', '2010', 'cite', 'web', '|url=https', '//golang.org/doc/effective_go.html', 'panic', '|title=effective', 'go', '|work=golang.org', 'one', 'case', 'early', 'criticism', 'exception', 'handling', 'dealing', 'resource', 'acquisition', 'holding', 'mutex', 'problem', 'ended', 'solved', 'raii', 'raii', 'solves', 'fact', 'needed', 'still', 'source', 'criticism', 'exception', 'support', 'programming', 'languages', '--', 'section', 'linked', 'throwing', '--', 'see', 'also|exception', 'handling', 'syntax', 'many', 'computer', 'languages', 'built-in', 'support', 'exceptions', 'exception', 'handling', 'includes', 'actionscript', 'ada', 'programming', 'language|ada', 'blitzmax', 'c++', 'c', 'sharp', 'programming', 'language', '|c', 'cobol', 'programming', 'language|d', 'ecmascript', 'eiffel', 'programming', 'language', '|eiffel', 'java', 'programming', 'language', '|java', 'ml', 'programming', 'language|ml', 'object', 'pascal', 'e.g', 'delphi', 'programming', 'language|delphi', 'free', 'pascal', 'like', 'powerbuilder', 'objective-c', 'ocaml', 'php', 'version', '5', 'pl/1', 'pl/sql', 'prolog', 'python', 'programming', 'language', '|python', 'realbasic', 'ruby', 'programming', 'language', '|ruby', 'scala', 'programming', 'language', '|scala', 'seed7', 'tcl', 'visual', 'prolog', '.net', 'framework|.net', 'languages', 'exception', 'handling', 'commonly', 'resumable', 'languages', 'exception', 'thrown', 'program', 'searches', 'back', 'call', 'stack|stack', 'function', 'calls', 'exception', 'handler', 'found', 'languages', 'call', 'stack', 'unwinding|unwinding', 'stack', 'search', 'progresses', 'function', 'mono|f', 'containing', 'handler', 'mono|h', 'exception', 'mono|e', 'calls', 'function', 'mono|g', 'turn', 'calls', 'function', 'mono|h', 'exception', 'mono|e', 'occurs', 'mono|h', 'functions', 'mono|h', 'mono|g', 'may', 'terminated', 'mono|h', 'mono|f', 'handle', 'mono|e', 'exception-handling', 'language', 'without', 'unwinding', 'common', 'lisp', 'exception', 'handling', 'condition', 'systems|condition', 'system', 'common', 'lisp', 'calls', 'exception', 'handler', 'unwind', 'stack', 'allows', 'program', 'continue', 'computation', 'exactly', 'place', 'error', 'occurred', 'example', 'previously', 'missing', 'file', 'become', 'available', 'stackless', 'implementation', \"''mythryl\", \"''\", 'programming', 'language', 'supports', 'constant-time', 'exception', 'handling', 'without', 'stack', 'unwinding', 'excluding', 'minor', 'syntactic', 'differences', 'couple', 'exception', 'handling', 'styles', 'use', 'popular', 'style', 'exception', 'initiated', 'special', 'statement', 'code', 'throw', '/code', 'code', 'raise', '/code', 'exception', 'object', 'e.g', 'java', 'object', 'pascal', 'value', 'special', 'extendable', 'enumerated', 'type', 'e.g', 'ada', 'scope', 'exception', 'handlers', 'starts', 'marker', 'clause', 'code', 'try', '/code', 'language', \"'s\", 'block', 'starter', 'code', 'begin', '/code', 'ends', 'start', 'first', 'handler', 'clause', 'code', 'catch', '/code', 'code', 'except', '/code', 'code', 'rescue', '/code', 'several', 'handler', 'clauses', 'follow', 'specify', 'exception', 'types', 'handles', 'name', 'uses', 'exception', 'object', 'languages', 'also', 'permit', 'clause', 'code', 'else', '/code', 'used', 'case', 'exception', 'occurred', 'end', 'handler', \"'s\", 'scope', 'reached', 'common', 'related', 'clause', 'code', 'finally', '/code', 'code', 'ensure', '/code', 'executed', 'whether', 'exception', 'occurred', 'typically', 'release', 'resources', 'acquired', 'within', 'body', 'exception-handling', 'block', 'notably', 'c++', 'provide', 'construct', 'since', 'encourages', 'resource', 'acquisition', 'initialization', 'raii', 'technique', 'frees', 'resources', 'using', 'destructor', 'computer', 'programming', '|destructors', 'whole', 'exception', 'handling', 'code', 'might', 'look', 'like', 'java', 'programming', 'language', '|java-like', 'pseudocode', 'note', 'exception', 'type', 'called', 'code', 'emptylineexception', '/code', 'would', 'need', 'declared', 'somewhere', 'source', 'lang=csharp', 'try', 'line', 'console.readline', 'line.length', '0', 'throw', 'new', 'emptylineexception', '``', 'line', 'read', 'console', 'empty', '``', 'console.printline', '``', 'hello', \"''\", 'line', 'console.printline', '``', 'program', 'ran', 'successfully', \"''\", 'catch', 'emptylineexception', 'e', 'console.printline', '``', 'hello', '``', 'catch', 'exception', 'e', 'console.printline', '``', 'error', '``', 'e.message', 'finally', 'console.printline', '``', 'program', 'terminates', \"''\", '/source', 'minor', 'variation', 'languages', 'use', 'single', 'handler', 'clause', 'deals', 'class', 'exception', 'internally', 'according', '2008', 'paper', 'westley', 'wiemer', 'george', 'necula', 'syntax', 'code', 'try', '/code', '...', 'code', 'finally', '/code', 'blocks', 'java', 'contributing', 'factor', 'software', 'defects', 'method', 'needs', 'handle', 'acquisition', 'release', '3–5', 'resources', 'programmers', 'apparently', 'unwilling', 'nest', 'enough', 'blocks', 'due', 'readability', 'concerns', 'even', 'would', 'correct', 'solution', 'possible', 'use', 'single', 'code', 'try', '/code', '...', 'code', 'finally', '/code', 'block', 'even', 'dealing', 'multiple', 'resources', 'requires', 'correct', 'use', 'sentinel', 'values', 'another', 'common', 'source', 'bugs', 'type', 'problem.', 'ref', 'name=', \"''\", 'toplas2008', \"''\", 'rp|8:6–8:7', 'regarding', 'semantics', 'code', 'try', '/code', '...', 'code', 'catch', '/code', '...', 'code', 'finally', '/code', 'construct', 'general', 'wiemer', 'necula', 'write', '``', 'try-catch-finally', 'conceptually', 'simple', 'complicated', 'execution', 'description', 'language', 'specification', 'gosling', 'et', 'al', '1996', 'requires', 'four', 'levels', 'nested', '“', '”', 'official', 'english', 'description', 'short', 'contains', 'large', 'number', 'corner', 'cases', 'programmers', 'often', 'overlook', '``', 'ref', 'name=', \"''\", 'toplas2008', \"''\", 'rp|8:13–8:14', 'c', 'supports', 'various', 'means', 'error', 'checking', 'generally', 'considered', 'support', '``', 'exception', 'handling', \"''\", 'although', 'setjmp.h|the', 'code', 'setjmp', '/code', 'code', 'longjmp', '/code', 'standard', 'library', 'functions', 'used', 'implement', 'exception', 'semantics', 'perl', 'optional', 'support', 'structured', 'exception', 'handling', 'python', 'programming', 'language', '|python', \"'s\", 'support', 'exception', 'handling', 'pervasive', 'consistent', \"'s\", 'difficult', 'write', 'robust', 'python', 'program', 'without', 'using', 'python|try', 'python|except', 'keywords', 'citation', 'needed|date=november', '2016', 'exception', 'handling', 'implementation', 'implementation', 'exception', 'handling', 'programming', 'languages', 'typically', 'involves', 'fair', 'amount', 'support', 'code', 'generator', 'runtime', 'system', 'accompanying', 'compiler', 'addition', 'exception', 'handling', 'c++', 'ended', 'useful', 'lifetime', 'original', 'c++', 'compiler', 'cfront.scott', 'meyers', 'http', '//www.artima.com/cppsource/top_cpp_software.html', 'important', 'c++', 'software', '...', 'ever', '2006', 'two', 'schemes', 'common', 'first', \"''dynamic\", 'registration', \"''\", 'generates', 'code', 'continually', 'updates', 'structures', 'program', 'state', 'terms', 'exception', 'handling.d', 'cameron', 'p.', 'faust', 'd.', 'lenkov', 'm.', 'mehta', '``', 'portable', 'implementation', 'c++', 'exception', 'handling', \"''\", \"''proceedings\", 'c++', 'conference', \"''\", 'august', '1992', 'usenix', 'typically', 'adds', 'new', 'element', 'call', 'stack|stack', 'frame', 'layout', 'knows', 'handlers', 'available', 'function', 'method', 'associated', 'frame', 'exception', 'thrown', 'pointer', 'layout', 'directs', 'runtime', 'appropriate', 'handler', 'code', 'approach', 'compact', 'terms', 'space', 'adds', 'execution', 'overhead', 'frame', 'entry', 'exit', 'commonly', 'used', 'many', 'ada', 'implementations', 'example', 'complex', 'generation', 'runtime', 'support', 'already', 'needed', 'many', 'language', 'features', 'dynamic', 'registration', 'fairly', 'straightforward', 'define', 'amenable', 'proof', 'correctness.graham', 'hutton', 'joel', 'wright', '``', 'http', '//www.cs.nott.ac.uk/~gmh/exceptions.pdf', 'compiling', 'exceptions', 'correctly', \"''\", \"''proceedings\", '7th', 'international', 'conference', 'mathematics', 'program', 'construction', \"''\", '2004.', 'second', 'scheme', 'one', 'implemented', 'many', 'production-quality', 'c++', 'compilers', \"''table-driven\", \"''\", 'approach', 'creates', 'static', 'tables', 'compile', 'time', 'link', 'time', 'relate', 'ranges', 'program', 'counter', 'program', 'state', 'respect', 'exception', 'handling', 'cite', 'journal', 'title=exception', 'handling', '–', 'supporting', 'runtime', 'mechanism', 'last=lajoie', 'first=', 'josée', 'journal=c++', 'report', 'volume=6', 'issue=3', 'date=march–april', '1994', 'exception', 'thrown', 'runtime', 'system', 'looks', 'current', 'instruction', 'location', 'tables', 'determines', 'handlers', 'play', 'needs', 'done', 'approach', 'minimizes', 'executive', 'overhead', 'case', 'exception', 'thrown', 'happens', 'cost', 'space', 'space', 'allocated', 'read-only', 'special-purpose', 'data', 'sections', 'loaded', 'relocated', 'exception', 'actually', 'thrown.', 'ref', 'name=cppeh', 'cite', 'journal', 'title=optimizing', 'away', 'c++', 'exception', 'handling', 'last=schilling', 'first=jonathan', 'l.', 'journal=sigplan', 'notices', 'volume=33', 'issue=8', 'date=august', '1998', 'pages=40–47', 'doi=10.1145/286385.286390', 'second', 'approach', 'also', 'superior', 'terms', 'achieving', 'thread', 'safety', 'citation', 'needed|date=september', '2012', 'definitional', 'implementation', 'schemes', 'proposed', 'well', '``', 'http', '//software.intel.com/en-us/articles/how-to-implement-software-exception-handling/', \"''\", 'intel', 'corporation', 'languages', 'support', 'metaprogramming', 'approaches', 'involve', 'overhead', 'advanced.m', 'hof', 'h.', 'mössenböck', 'p.', 'pirkelbauer', '``', 'http', '//www.ssw.uni-linz.ac.at/research/papers/hof97b.html', 'zero-overhead', 'exception', 'handling', 'using', 'metaprogramming', \"''\", \"''proceedings\", \"sofsem'97\", \"''\", 'november', '1997', \"''lecture\", 'notes', 'computer', 'science', '1338', \"''\", 'pp', '423-431', 'exception', 'handling', 'based', 'design', 'contract', 'different', 'view', 'exceptions', 'based', 'principles', 'design', 'contract', 'supported', 'particular', 'eiffel', 'programming', 'language', '|eiffel', 'language', 'idea', 'provide', 'rigorous', 'basis', 'exception', 'handling', 'defining', 'precisely', '``', 'normal', \"''\", '``', 'abnormal', \"''\", 'behavior', 'specifically', 'approach', 'based', 'two', 'concepts', \"''\", 'failure', \"''\", 'inability', 'operation', 'fulfill', 'contract', 'example', 'addition', 'may', 'produce', 'arithmetic', 'overflow', 'fulfill', 'contract', 'computing', 'good', 'approximation', 'mathematical', 'sum', 'routine', 'may', 'fail', 'meet', 'postcondition', \"''\", 'exception', \"''\", 'abnormal', 'event', 'occurring', 'execution', 'routine', 'routine', '``', \"''recipient\", \"''\", \"''\", 'exception', 'execution', 'abnormal', 'event', 'results', \"''failure\", \"''\", 'operation', 'called', 'routine', '``', 'safe', 'exception', 'handling', 'principle', \"''\", 'introduced', 'bertrand', 'meyer', 'object-oriented', 'software', 'construction', 'holds', 'two', 'meaningful', 'ways', 'routine', 'react', 'exception', 'occurs', 'failure', '``', 'organized', 'panic', \"''\", 'routine', 'fixes', 'object', \"'s\", 'state', 're-establishing', 'invariant', '``', 'organized', \"''\", 'part', 'fails', 'panics', 'triggering', 'exception', 'caller', 'abnormal', 'event', 'ignored', 'retry', 'routine', 'tries', 'algorithm', 'usually', 'changing', 'values', 'next', 'attempt', 'better', 'chance', 'succeed', 'particular', 'simply', 'ignoring', 'exception', 'permitted', 'block', 'must', 'either', 'retried', 'successfully', 'complete', 'propagate', 'exception', 'caller', 'example', 'expressed', 'eiffel', 'syntax', 'assumes', 'routine', 'eiffel|send_fast', 'normally', 'better', 'way', 'send', 'message', 'may', 'fail', 'triggering', 'exception', 'algorithm', 'next', 'uses', 'eiffel|send_slow', 'fail', 'less', 'often', 'eiffel|send_slow', 'fails', 'routine', 'eiffel|send', 'whole', 'fail', 'causing', 'caller', 'get', 'exception', 'source', 'lang=eiffel', 'send', 'message', '--', 'send', 'fast', 'link', 'possible', 'otherwise', 'slow', 'link', 'local', 'tried_fast', 'tried_slow', 'boolean', 'tried_fast', 'tried_slow', 'true', 'send_slow', 'else', 'tried_fast', 'true', 'send_fast', 'end', 'rescue', 'tried_slow', 'retry', 'end', 'end', '/source', 'boolean', 'local', 'variables', 'initialized', 'false', 'start', 'eiffel|send_fast', 'fails', 'body', 'eiffel|do', 'clause', 'executed', 'causing', 'execution', 'eiffel|send_slow', 'execution', 'eiffel|send_slow', 'fails', 'eiffel|rescue', 'clause', 'execute', 'end', 'eiffel|retry', 'eiffel|else', 'clause', 'final', 'eiffel|if', 'causing', 'routine', 'execution', 'whole', 'fail', 'approach', 'merit', 'defining', 'clearly', '``', 'normal', \"''\", '``', 'abnormal', \"''\", 'cases', 'abnormal', 'case', 'causing', 'exception', 'one', 'routine', 'unable', 'fulfill', 'contract', 'defines', 'clear', 'distribution', 'roles', 'eiffel|do', 'clause', 'normal', 'body', 'charge', 'achieving', 'attempting', 'achieve', 'routine', \"'s\", 'contract', 'eiffel|rescue', 'clause', 'charge', 'reestablishing', 'context', 'restarting', 'process', 'chance', 'succeeding', 'performing', 'actual', 'computation', 'although', 'exceptions', 'eiffel', 'fairly', 'clear', 'philosophy', 'kiniry', '2006', 'criticizes', 'implementation', '``', 'exceptions', 'part', 'language', 'definition', 'represented', 'integer', 'values', 'developer-defined', 'exceptions', 'string', 'values', '...', 'additionally', 'basic', 'values', 'objects', 'inherent', 'semantics', 'beyond', 'expressed', 'helper', 'routine', 'necessarily', 'foolproof', 'representation', 'overloading', 'effect', 'e.g.', 'one', 'differentiate', 'two', 'integers', 'value', '``', 'ref', 'name=', \"''\", 'kiniry', \"''\", 'uncaught', 'exceptions', 'exception', 'thrown', 'caught', 'operationally', 'exception', 'thrown', 'applicable', 'handler', 'specified', 'uncaught', 'exception', 'handled', 'runtime', 'routine', 'called', \"''\", 'visible', 'anchor|uncaught', 'exception', 'handler', \"''\", 'ref', 'name=', \"''\", 'cocoa', \"''\", \"''mac\", 'developer', 'library', \"''\", '``', 'https', '//developer.apple.com/library/mac/documentation/cocoa/conceptual/exceptions/concepts/uncaughtexceptions.html', 'uncaught', 'exceptions', \"''\", \"''msdn\", \"''\", 'https', '//msdn.microsoft.com/en-us/library/system.appdomain.unhandledexception', 'v=vs.110', '.aspx', 'appdomain.unhandledexception', 'event', 'common', 'default', 'behavior', 'terminate', 'program', 'print', 'error', 'message', 'console', 'usually', 'including', 'debug', 'information', 'string', 'representation', 'exception', 'stack', 'trace.', 'ref', 'name=', \"''\", 'cocoa', \"''\", \"''the\", 'python', 'tutorial', \"''\", '``', 'https', '//docs.python.org/2/tutorial/errors.html', '8.', 'errors', 'exceptions', \"''\", 'http', '//www.javapractices.com/topic/topicaction.do', 'id=229', 'provide', 'uncaught', 'exception', 'handler', 'often', 'avoided', 'top-level', 'application-level', 'handler', 'example', 'event', 'loop', 'catches', 'exceptions', 'reach', 'runtime.', 'ref', 'name=', \"''\", 'cocoa', \"''\", 'ref', 'name=', \"''\", 'pmotw', \"''\", 'pymotw', 'python', 'module', 'week', '``', 'https', '//pymotw.com/2/sys/exceptions.html', 'exception', 'handling', \"''\", 'note', 'even', 'though', 'uncaught', 'exception', 'may', 'result', \"''program\", \"''\", 'terminating', 'abnormally', 'program', 'may', 'correct', 'exception', 'caught', 'notably', 'rolling', 'back', 'partially', 'completed', 'transactions', 'releasing', 'resources', \"''process\", \"''\", 'terminates', 'normally', 'assuming', 'runtime', 'works', 'correctly', 'runtime', 'controlling', 'execution', 'program', 'ensure', 'orderly', 'shutdown', 'process', 'multithreaded', 'program', 'uncaught', 'exception', 'thread', 'may', 'instead', 'result', 'termination', 'thread', 'entire', 'process', 'uncaught', 'exceptions', 'thread-level', 'handler', 'caught', 'top-level', 'handler', 'particularly', 'important', 'servers', 'example', 'servlet', 'running', 'thread', 'terminated', 'without', 'server', 'overall', 'affected', 'default', 'uncaught', 'exception', 'handler', 'may', 'overridden', 'either', 'globally', 'per-thread', 'example', 'provide', 'alternative', 'logging', 'end-user', 'reporting', 'uncaught', 'exceptions', 'restart', 'threads', 'terminate', 'due', 'uncaught', 'exception', 'example', 'java', 'done', 'single', 'thread', 'via', 'code', 'https', '//docs.oracle.com/javase/8/docs/api/java/lang/thread.html', 'setuncaughtexceptionhandler-java.lang.thread.uncaughtexceptionhandler-', 'thread.setuncaughtexceptionhandler', '/code', 'globally', 'via', 'code', 'https', '//docs.oracle.com/javase/8/docs/api/java/lang/thread.html', 'setdefaultuncaughtexceptionhandler-', 'thread.setdefaultuncaughtexceptionhandler', '/code', 'python', 'done', 'modifying', 'code', 'https', '//docs.python.org/3/library/sys.html', 'sys.excepthook', 'sys.excepthook', '/code', 'static', 'checking', 'exceptions', 'checked', 'exceptions', 'designers', 'java', 'devised', 'http', '//archives.java.sun.com/cgi-bin/wa', 'a2=ind9901', 'l=rmi-users', 'f=p', 'p=36083', 'toward', '``', 'automatic', \"''\", 'rmi', 'compatible', 'basic', 'rmi', 'philosophy', 'ann', 'wollrath', 'javasoft', 'east', 'post', 'rmi-users', 'mailing', 'list', '22', 'january', '1999', 'dead', 'link|date=may', '2013', 'cite', 'web|url=http', '//answers.google.com/answers/threadview', 'id=26101', '|title=google', 'answers', 'origin', 'checked', 'exceptions', '|publisher=answers.google.com', '|accessdate=2011-12-15', 'checked', 'exceptions', 'java', 'language', 'specification', 'chapter', '11.2.', 'http', '//java.sun.com/docs/books/jls/third_edition/html/exceptions.html', '11.2', 'special', 'set', 'exceptions', 'checked', 'exceptions', 'method', 'may', 'raise', 'part', 'method', \"'s\", 'type', 'signature|signature', 'instance', 'method', 'might', 'throw', 'java|ioexception', 'must', 'declare', 'fact', 'explicitly', 'method', 'signature', 'failure', 'raises', 'compile-time', 'error', 'kiniry', '2006', 'notes', 'however', 'java', \"'s\", 'libraries', '2006', 'often', 'inconsistent', 'approach', 'error', 'reporting', '``', 'erroneous', 'situations', 'java', 'represented', 'exceptions', 'though', 'many', 'methods', 'return', 'special', 'values', 'indicate', 'failure', 'encoded', 'constant', 'field', 'related', 'classes', '``', 'ref', 'name=', \"''\", 'kiniry', \"''\", 'checked', 'exceptions', 'related', 'exception', 'checkers', 'exist', 'ocaml', 'programming', 'language', 'cite', 'web|url=http', '//caml.inria.fr/pub/old_caml_site/ocamlexc/ocamlexc.htm', '|title=ocamlexc', 'uncaught', 'exceptions', 'analyzer', 'objective', 'caml', '|publisher=caml.inria.fr', '|accessdate=2011-12-15', 'external', 'tool', 'ocaml', 'invisible', 'i.e', 'require', 'syntactic', 'annotations', 'optional', 'i.e', 'possible', 'compile', 'run', 'program', 'without', 'checked', 'exceptions', 'although', 'recommended', 'production', 'code', 'clu', 'programming', 'language', 'feature', 'interface', 'closer', 'java', 'introduced', 'later', 'function', 'could', 'raise', 'exceptions', 'listed', 'type', 'leaking', 'exceptions', 'called', 'functions', 'would', 'automatically', 'turned', 'sole', 'runtime', 'exception', 'code|failure', 'instead', 'resulting', 'compile-time', 'error', 'later', 'modula-3', 'similar', 'feature', 'cite', 'web|url=http', '//www1.cs.columbia.edu/graphics/modula3/tutorial/www/m3_23.html', 'sec23', '|title=modula-3', 'procedure', 'types', '|publisher=.cs.columbia.edu', '|date=1995-03-08', '|accessdate=2011-12-15', 'features', \"n't\", 'include', 'compile', 'time', 'checking', 'central', 'concept', 'checked', 'exceptions', \"n't\", '2006', 'incorporated', 'major', 'programming', 'languages', 'java', 'cite', 'web|url=http', '//www.mindview.net/etc/discussions/checkedexceptions', '|title=bruce', 'eckel', \"'s\", 'mindview', 'inc', 'java', 'need', 'checked', 'exceptions', '|publisher=mindview.net', '|accessdate=2011-12-15', 'c++', 'programming', 'language', 'introduces', 'optional', 'mechanism', 'checked', 'exceptions', 'called', \"''exception\", 'specifications', \"''\", 'default', 'function', 'throw', 'exception', 'limited', 'cpp|throw', 'clause', 'added', 'function', 'signature', 'specifies', 'exceptions', 'function', 'may', 'throw', 'exception', 'specifications', 'enforced', 'compile-time', 'violations', 'result', 'global', 'function', 'cpp|std', ':unexpected', 'called.', 'ref', 'name=bjarne-exc', 'bjarne', 'stroustrup', \"''the\", 'c++', 'programming', 'language', \"''\", 'third', 'edition', 'addison', 'wesley', '1997.', 'isbn', '0-201-88954-4.', 'pp', '375-380.', 'empty', 'exception', 'specification', 'may', 'given', 'indicates', 'function', 'throw', 'exception', 'made', 'default', 'exception', 'handling', 'added', 'language', 'would', 'require', 'much', 'modification', 'existing', 'code', 'would', 'impede', 'interaction', 'code', 'written', 'another', 'language', 'would', 'tempt', 'programmers', 'writing', 'many', 'handlers', 'local', 'level.', 'ref', 'name=bjarne-exc/', 'explicit', 'use', 'empty', 'exception', 'specifications', 'however', 'allow', 'c++', 'compilers', 'perform', 'significant', 'code', 'stack', 'layout', 'optimizations', 'generally', 'suppressed', 'exception', 'handling', 'may', 'take', 'place', 'function.', 'ref', 'name=cppeh', 'analysts', 'view', 'proper', 'use', 'exception', 'specifications', 'c++', 'difficult', 'achieve', 'cite', 'journal', 'title=ten', 'guidelines', 'exception', 'specifications', 'last=reeves', 'first=', 'j.w', 'journal=c++', 'report', 'volume=8', 'issue=7', '|date=july', '1996', 'of|2012|alt=recent|url=http', '//www.open-std.org/jtc1/sc22/wg21/', 'c++', 'language', 'standard', 'c++11', 'use', 'exception', 'specifications', 'specified', 'preceding', 'version', 'standard', 'c++03', 'deprecation|deprecated', 'cite', 'web|url=http', '//herbsutter.com/2010/03/13/trip-report-march-2010-iso-c-standards-meeting/', '|title=trip', 'report', 'march', '2010', 'iso', 'c++', 'standards', 'meeting', '|last=sutter', '|first=herb', '|authorlink=herb', 'sutter', '|date=3', 'march', '2010', '|accessdate=24', 'march', '2010', 'contrast', 'java', 'languages', 'like', 'c', 'enforce', 'exceptions', 'caught', 'according', 'hanspeter', 'mössenböck', 'distinguishing', 'to-be-called', 'checked', 'exceptions', 'not-to-be-called', 'unchecked', 'exceptions', 'makes', 'written', 'program', 'convenient', 'less', 'robust', 'uncaught', 'exception', 'results', 'abort', 'stack', 'trace', 'cite', 'web', 'accessdate', '2011-08-05', 'date', '2002-03-25', 'first', 'hanspeter', 'last', 'mössenböck', 'location', 'http', '//ssw.jku.at/teaching/lectures/csharp/tutorial/', 'page', '32', 'publisher', 'institut', 'für', 'systemsoftware', 'johannes', 'kepler', 'universität', 'linz', 'fachbereich', 'informatik', 'title', 'advanced', 'c', 'variable', 'number', 'parameters', 'url', 'http', '//ssw.jku.at/teaching/lectures/csharp/tutorial/part2.pdf', 'kiniry', '2006', 'notes', 'however', 'java', \"'s\", 'jdk', 'version', '1.4.1', 'throws', 'large', 'number', 'unchecked', 'exceptions', 'one', 'every', '140', 'lines', 'code', 'whereas', 'eiffel', 'uses', 'much', 'sparingly', 'one', 'thrown', 'every', '4,600', 'lines', 'code', 'kiniry', 'also', 'writes', '``', 'java', 'programmer', 'knows', 'volume', 'code', 'try', 'catch', '/code', 'code', 'typical', 'java', 'application', 'sometimes', 'larger', 'comparable', 'code', 'necessary', 'explicit', 'formal', 'parameter', 'return', 'value', 'checking', 'languages', 'checked', 'exceptions', 'fact', 'general', 'consensus', 'among', 'in-the-trenches', 'java', 'programmers', 'dealing', 'checked', 'exceptions', 'nearly', 'unpleasant', 'task', 'writing', 'documentation', 'thus', 'many', 'programmers', 'report', '“', 'resent', '”', 'checked', 'exceptions', 'leads', 'abundance', 'checked-but-ignored', 'exceptions', \"''\", 'ref', 'name=', \"''\", 'kiniry', \"''\", 'kiniry', 'also', 'notes', 'developers', 'c', 'apparently', 'influenced', 'kind', 'user', 'experiences', 'following', 'quote', 'attributed', 'via', 'eric', 'gunnerson', 'quote|', \"''\", 'examination', 'small', 'programs', 'leads', 'conclusion', 'requiring', 'exception', 'specifications', 'could', 'enhance', 'developer', 'productivity', 'enhance', 'code', 'quality', 'experience', 'large', 'software', 'projects', 'suggests', 'different', 'result', '–', 'decreased', 'productivity', 'little', 'increase', 'code', 'quality', '``', 'ref', 'name=', \"''\", 'kiniry', \"''\", 'according', 'anders', 'hejlsberg', 'fairly', 'broad', 'agreement', 'design', 'group', 'checked', 'exceptions', 'language', 'feature', 'c', 'hejlsberg', 'explained', 'interview', 'quote|', '“', 'throws', 'clause', 'least', 'way', \"'s\", 'implemented', 'java', \"n't\", 'necessarily', 'force', 'handle', 'exceptions', \"n't\", 'handle', 'forces', 'acknowledge', 'precisely', 'exceptions', 'might', 'pass', 'requires', 'either', 'catch', 'declared', 'exceptions', 'put', 'throws', 'clause', 'work', 'around', 'requirement', 'people', 'ridiculous', 'things', 'example', 'decorate', 'every', 'method', '``', 'throws', 'exception', \"''\", 'completely', 'defeats', 'feature', 'made', 'programmer', 'write', 'gobbledy', 'gunk', \"n't\", 'help', 'anybody.', '”', 'cite', 'web', '|url=http', '//www.artima.com/intv/handcuffs.html', '|title=the', 'trouble', 'checked', 'exceptions', 'conversation', 'anders', 'hejlsberg', 'part', 'ii', '|author1=bill', 'venners', '|author2=bruce', 'eckel', 'date=august', '18', '2003', 'page=', 'http', '//www.artima.com/intv/handcuffs2.html', '2', 'views', 'usage', 'essay|section|date=july', '2014', 'checked', 'exceptions', 'compile', 'time', 'reduce', 'incidence', 'unhandled', 'exceptions', 'surfacing', 'run', 'time', 'program', 'lifecycle', 'phase', '|runtime', 'given', 'application', 'unchecked', 'exceptions', 'java', 'programming', 'language', '|java', 'objects', 'java|runtimeexception', 'java|error', 'remain', 'unhandled', 'however', 'checked', 'exceptions', 'either', 'require', 'extensive', 'java|throws', 'declarations', 'revealing', 'implementation', 'details', 'reducing', 'encapsulation', 'computer', 'science', '|encapsulation', 'encourage', 'coding', 'poorly', 'considered', 'java|try/catch', 'blocks', 'hide', 'legitimate', 'exceptions', 'appropriate', 'handlers', 'citation', 'needed|date=february', '2010', 'consider', 'growing', 'codebase', 'time', 'interface', 'may', 'declared', 'throw', 'exceptions', 'x', 'y.', 'later', 'version', 'code', 'one', 'wants', 'throw', 'exception', 'z', 'would', 'make', 'new', 'code', 'incompatible', 'earlier', 'uses', 'furthermore', 'adapter', 'pattern', 'one', 'body', 'code', 'declares', 'interface', 'implemented', 'different', 'body', 'code', 'code', 'plugged', 'called', 'first', 'adapter', 'code', 'may', 'rich', 'set', 'exceptions', 'describe', 'problems', 'forced', 'use', 'exception', 'types', 'declared', 'interface', 'possible', 'reduce', 'number', 'declared', 'exceptions', 'either', 'declaring', 'superclass', 'computer', 'science', '|superclass', 'potentially', 'thrown', 'exceptions', 'defining', 'declaring', 'exception', 'types', 'suitable', 'level', 'abstraction', 'called', 'methodbloch', '2001:178', 'cite', 'book', 'last', 'bloch', 'first', 'joshua', 'year', '2001', 'title', 'effective', 'java', 'programming', 'language', 'guide', 'publisher', 'addison-wesley', 'professional', 'isbn', '0-201-31005-8', 'mapping', 'lower', 'level', 'exceptions', 'types', 'preferably', 'wrapped', 'using', 'exception', 'chaining', 'order', 'preserve', 'root', 'cause', 'addition', \"'s\", 'possible', 'example', 'changing', 'interface', 'calling', 'code', 'would', 'need', 'modified', 'well', 'since', 'sense', 'exceptions', 'method', 'may', 'throw', 'part', 'method', \"'s\", 'implicit', 'interface', 'anyway', 'using', 'c++|throws', 'exception', 'declaration', 'c++|catch', 'exception', 'e', 'usually', 'sufficient', 'satisfying', 'checking', 'java', 'may', 'use', 'essentially', 'circumvents', 'checked', 'exception', 'mechanism', 'oracle', 'discourages', 'cite', 'web|url=http', '//download.oracle.com/javase/tutorial/essential/exceptions/advantages.html', '|title=advantages', 'exceptions', 'java™', 'tutorials', 'essential', 'classes', 'exceptions', '|publisher=download.oracle.com', '|accessdate=2011-12-15', 'unchecked', 'exception', 'types', 'generally', 'handled', 'except', 'possibly', 'outermost', 'levels', 'scope', 'often', 'represent', 'scenarios', 'allow', 'recovery', 'c++|runtimeexception', 'frequently', 'reflect', 'programming', 'defects', 'bloch', '2001:172', 'c++|error', 'generally', 'represent', 'unrecoverable', 'jvm', 'failures', 'even', 'language', 'supports', 'checked', 'exceptions', 'cases', 'use', 'checked', 'exceptions', 'appropriate', 'cite', 'web|url=http', '//download.oracle.com/javase/tutorial/essential/exceptions/runtime.html', '|title=unchecked', 'exceptions', '\\x97', 'controversy', 'java™', 'tutorials', 'essential', 'classes', 'exceptions', '|publisher=download.oracle.com', '|accessdate=2011-12-15', 'dynamic', 'checking', 'exceptions', 'point', 'exception', 'handling', 'routines', 'ensure', 'code', 'handle', 'error', 'conditions', 'order', 'establish', 'exception', 'handling', 'routines', 'sufficiently', 'robust', 'necessary', 'present', 'code', 'wide', 'spectrum', 'invalid', 'unexpected', 'inputs', 'created', 'via', 'software', 'fault', 'injection', 'mutation', 'testing', 'also', 'sometimes', 'referred', 'fuzz', 'testing', 'one', 'difficult', 'types', 'software', 'write', 'exception', 'handling', 'routines', 'protocol', 'software', 'since', 'robust', 'protocol', 'implementation', 'must', 'prepared', 'receive', 'input', 'comply', 'relevant', 'specification', 'order', 'ensure', 'meaningful', 'regression', 'analysis', 'conducted', 'throughout', 'software', 'development', 'process|software', 'development', 'lifecycle', 'process', 'exception', 'handling', 'testing', 'highly', 'automated', 'test', 'cases', 'must', 'generated', 'scientific', 'repeatable', 'fashion', 'several', 'commercially', 'available', 'systems', 'exist', 'perform', 'testing', 'runtime', 'engine', 'environments', 'java', 'programming', 'language', '|java', '.net', 'framework|.net', 'exist', 'tools', 'attach', 'runtime', 'engine', 'every', 'time', 'exception', 'interest', 'occurs', 'record', 'debugging', 'information', 'existed', 'memory', 'time', 'exception', 'thrown', 'call', 'stack', 'heap', 'data', 'structure', '|heap', 'values', 'tools', 'called', 'automated', 'exception', 'handling', 'error', 'interception', 'tools', 'provide', \"'root-cause\", 'information', 'exceptions', 'exception', 'synchronicity', 'somewhat', 'related', 'concept', 'checked', 'exceptions', \"''exception\", 'synchronicity', \"''\", 'synchronous', 'exceptions', 'happen', 'specific', 'program', 'statement', 'whereas', \"''\", 'asynchronous', 'exceptions', \"''\", 'raise', 'practically', 'anywhere', 'cite', 'web|url=http', '//citeseer.ist.psu.edu/415348.html', '|title=asynchronous', 'exceptions', 'haskell', 'marlow', 'jones', 'moran', 'researchindex', '|publisher=citeseer.ist.psu.edu', '|accessdate=2011-12-15', 'safe', 'asynchronous', 'exceptions', 'python', 'http', '//www.cs.williams.edu/~freund/papers/02-lwl2.ps', 'follows', 'asynchronous', 'exception', 'handling', 'ca', \"n't\", 'required', 'compiler', 'also', 'difficult', 'program', 'examples', 'naturally', 'asynchronous', 'events', 'include', 'pressing', 'control-c|ctrl-c', 'interrupt', 'program', 'receiving', 'signal', 'computing', '|signal', '``', 'stop', \"''\", '``', 'suspend', \"''\", 'another', 'thread', 'computer', 'science', '|thread', 'execution', 'programming', 'languages', 'typically', 'deal', 'limiting', 'asynchronicity', 'example', 'java', 'deprecated', 'use', 'threaddeath', 'exception', 'used', 'allow', 'one', 'thread', 'stop', 'another', 'one', 'cite', 'web|url=http', '//java.sun.com/j2se/1.5.0/docs/guide/misc/threadprimitivedeprecation.html', '|title=java', 'thread', 'primitive', 'deprecation', '|publisher=java.sun.com', '|accessdate=2011-12-15', 'instead', 'semi-asynchronous', 'exceptions', 'raise', 'suitable', 'locations', 'program', 'synchronously', 'condition', 'systems', 'common', 'lisp', 'dylan', 'programming', 'language|dylan', 'smalltalk', 'condition', 'system', 'cite', 'web|author', 'conditions', 'exceptions', 'really', 'about|url', 'http', '//danweinreb.org/blog/what-conditions-exceptions-are-really-about|title', 'conditions', 'exceptions', 'really', 'about|publisher', 'danweinreb.org|date', '2008-03-24|accessdate', '2014-09-18|deadurl', 'yes|archiveurl', 'https', '//web.archive.org/web/20130201124021/http', '//danweinreb.org/blog/what-conditions-exceptions-are-really-about|archivedate', 'february', '1', '2013', 'see', 'common', 'lisp', 'condition', 'system|common', 'lisp', 'condition', 'system', 'encompasses', 'aforementioned', 'exception', 'handling', 'systems', 'languages', 'environments', 'advent', 'condition', '``', 'generalisation', 'error', \"''\", 'according', 'kent', 'pitman', 'implies', 'function', 'call', 'late', 'exception', 'handler', 'decision', 'unwind', 'stack', 'may', 'taken', 'conditions', 'generalization', 'exceptions', 'condition', 'arises', 'appropriate', 'condition', 'handler', 'searched', 'selected', 'stack', 'order', 'handle', 'condition', 'conditions', 'represent', 'errors', 'may', 'safely', 'go', 'unhandled', 'entirely', 'purpose', 'may', 'propagate', 'hints', 'warnings', 'toward', 'user', 'cite', 'web|url=http', '//www.franz.com/support/documentation/6.2/ansicl/section/conditio.htm', '|title=condition', 'system', 'concepts', '|publisher=franz.com', '|date=2009-07-21', '|accessdate=2011-12-15', 'continuable', 'exceptions', 'related', 'so-called', \"''resumption\", 'model', \"''\", 'exception', 'handling', 'exceptions', 'said', \"''continuable\", \"''\", 'permitted', 'return', 'expression', 'signaled', 'exception', 'taken', 'corrective', 'action', 'handler', 'condition', 'system', 'generalized', 'thus', 'within', 'handler', 'non-serious', 'condition', 'a.k.a', \"''continuable\", 'exception', \"''\", 'possible', 'jump', 'predefined', 'restart', 'points', 'a.k.a', \"''restarts\", \"''\", 'lie', 'signaling', 'expression', 'condition', 'handler', 'restarts', 'functions', 'closed', 'lexical', 'environment', 'allowing', 'programmer', 'repair', 'environment', 'exiting', 'condition', 'handler', 'completely', 'unwinding', 'stack', 'even', 'partially', 'restarts', 'separate', 'mechanism', 'policy', 'condition', 'handling', 'moreover', 'provides', 'separation', 'mechanism', 'policy', 'restarts', 'provide', 'various', 'possible', 'mechanisms', 'recovering', 'error', 'select', 'mechanism', 'appropriate', 'given', 'situation', 'province', 'condition', 'handler', 'since', 'located', 'higher-level', 'code', 'access', 'broader', 'view', 'example', 'suppose', 'library', 'function', 'whose', 'purpose', 'parse', 'single', 'syslog', 'file', 'entry', 'function', 'entry', 'malformed', 'one', 'right', 'answer', 'library', 'could', 'deployed', 'programs', 'many', 'different', 'purposes', 'interactive', 'log-file', 'browser', 'right', 'thing', 'might', 'return', 'entry', 'unparsed', 'user', 'see', 'it—but', 'automated', 'log-summarizing', 'program', 'right', 'thing', 'might', 'supply', 'null', 'values', 'unreadable', 'fields', 'abort', 'error', 'many', 'entries', 'malformed', 'say', 'question', 'answered', 'terms', 'broader', 'goals', 'program', 'known', 'general-purpose', 'library', 'function', 'nonetheless', 'exiting', 'error', 'message', 'rarely', 'right', 'answer', 'instead', 'simply', 'exiting', 'error', 'function', 'may', \"''establish\", 'restarts', \"''\", 'offering', 'various', 'ways', 'continue—for', 'instance', 'skip', 'log', 'entry', 'supply', 'default', 'null', 'values', 'unreadable', 'fields', 'ask', 'user', 'missing', 'values', \"''or\", \"''\", 'unwind', 'stack', 'abort', 'processing', 'error', 'message', 'restarts', 'offered', 'constitute', \"''mechanisms\", \"''\", 'available', 'recovering', 'error', 'selection', 'restart', 'condition', 'handler', 'supplies', \"''policy\", \"''\", 'see', 'also', 'exception', 'handling', 'syntax', 'automated', 'exception', 'handling', 'exception', 'safety', 'continuation', 'defensive', 'programming', 'setjmp/longjmp', 'triple', 'fault', 'vectored', 'exception', 'handling', 'veh', 'option', 'types', 'result', 'types', 'alternative', 'ways', 'handling', 'errors', 'functional', 'programming', 'without', 'exceptions', 'references', 'reflist|2', 'refbegin', 'cite', 'conference|', 'doi', '10.1145/1529966.1529967|', 'title', 'pattern', 'language', 'evolution|', 'conference', 'lisp50', 'celebrating', '50th', 'anniversary', 'lisp|', 'pages', '1–10|', 'year', '2008|', 'last1', 'gabriel', 'first1', 'richard', 'p.|', 'authorlink1', 'richard', 'p.', 'gabriel|', 'last2', 'steele', 'first2', 'guy', 'l.|', 'authorlink2', 'guy', 'l.', 'steele', 'jr.|', 'url', 'http', '//www.dreamsongs.com/files/patternoflanguageevolution.pdf|', 'isbn', '978-1-60558-383-9|', 'ref', 'harv', 'cite', 'conference|', 'doi', '10.1145/512976.512997|', 'title', 'structured', 'exception', 'handling|', 'conference', 'proceedings', '2nd', 'acm', 'sigact-sigplan', 'symposium', 'principles', 'programming', 'languages', 'popl', \"'75|\", 'pages', '204–224|', 'date', '1975a', '--', 'see', 'paper', 'template', 'cite', 'doi/10.1145.2f361227.361230', '--', 'last', 'goodenough', 'first', 'john', 'b.', '--', 'physicist', '--', 'ref', 'harv', 'cite', 'journal|', 'doi', '10.1145/361227.361230|', 'title', 'exception', 'handling', 'issues', 'proposed', 'notation|', 'url', 'http', '//www.cs.colorado.edu/~bec/courses/csci5535-s09/reading/goodenough-exceptions.pdf|', 'journal', 'communications', 'acm|', 'volume', '18|', 'issue', '12|', 'pages', '683–696|', 'year', '1975|', 'last', 'goodenough', 'first', 'john', 'b.', '--', 'physicist', '--', 'ref', 'harvid|goodenough|1975|b', '--', 'see', 'paper', 'template', 'cite', 'doi/10.1145.2f512976.512997', '--', 'cite', 'conference', '|first=jon', 'l', '--', 'period', '--', '|last=white', '|title=nil', 'perspective', '|date=may', '1979', '|conference=proceedings', '1979', 'macsyma', 'user', \"'s\", 'conference', '|url=http', '//www.softwarepreservation.org/projects/lisp/mit/white-nil_a_perspective-1979.pdf', '|ref=harv', 'refend', 'external', 'links', 'http', '//net-informations.com/java/sts/exceptions.htm', 'handle', 'exceptions', 'java', 'article', '``', 'http', '//10kloc.wordpress.com/2013/03/09/runtimeexceptions-try-catch-or-not-to-catch/', 'catch', 'runtimeexceptions', \"''\", 'http', '//www.microsoft.com/msj/0197/exception/exception.aspx', 'crash', 'course', 'depths', 'win32', 'structured', 'exception', 'handling', 'matt', 'pietrek', 'microsoft', 'systems', 'journal', '1997', 'article', '``', 'http', '//granitestatehacker.kataire.com/2008/02/all-exceptions-are-handled.html', 'exceptions', 'handled', \"''\", 'james', '``', 'jim', \"''\", 'wilcox', 'article', '``', 'http', '//www.dlugosz.com/magazine/wtj/may96/', 'exceptional', 'philosophy', \"''\", 'john', 'm.', 'dlugosz', 'article', '``', 'https', '//db.usenix.org/events/wiess2000/full_papers/dinechin/dinechin.pdf', 'c++', 'exception', 'handling', \"''\", 'christophe', 'de', 'dinechin', 'article', '``', 'http', '//www.on-time.com/ddj0011.htm', 'exception', 'handling', 'c', 'without', 'c++', \"''\", 'tom', 'schotland', 'peter', 'petersen', 'article', '``', 'http', '//java.sun.com/developer/technicalarticles/programming/exceptions2/index.html', 'exceptional', 'practices', \"''\", 'brian', 'goetz', 'article', '``', 'http', '//perl.com/pub/a/2002/11/14/exception.html', 'object', 'oriented', 'exception', 'handling', 'perl', \"''\", 'arun', 'udaya', 'shankar', 'article', '``', 'http', '//www.chrisjhill.co.uk/articles/php_exception_handling', 'php', 'exception', 'handling', \"''\", 'christopher', 'hill', 'article', '``', 'http', '//ddj.com/dept/debug/197003350', 'practical', 'c++', 'error', 'handling', 'hybrid', 'environments', \"''\", 'gigi', 'sayfan', 'article', '``', 'http', '//oreillynet.com/pub/a/network/2003/05/05/cpluspocketref.html', 'programming', 'exceptions', 'c++', \"''\", 'kyle', 'loudon', 'article', '``', 'http', '//www.gamedev.net/reference/programming/features/sehbasics/', 'structured', 'exception', 'handling', 'basics', \"''\", 'vadim', 'kokielov', 'article', '``', 'http', '//java.sun.com/docs/books/tutorial/essential/exceptions/runtime.html', 'unchecked', 'exceptions', 'controversy', \"''\", 'conference', 'slides', 'http', '//www.eecs.berkeley.edu/~wkahan/boulder.pdf', 'floating-point', 'exception-handling', 'policies', 'pdf', 'p.', '46', 'william', 'kahan', 'http', '//c2.com/cgi/wiki', 'categoryexception', 'descriptions', 'portland', 'pattern', 'repository', 'http', '//www.mindview.net/etc/discussions/checkedexceptions', 'java', 'need', 'checked', 'exceptions', 'http', '//code.google.com/p/exceptions4c/', 'exceptions4c', 'exception', 'handling', 'framework', 'c', 'https', '//github.com/takanuva/ansi-iso-c-exception-handling', 'another', 'exception', 'handling', 'framework', 'ansi/iso', 'c', 'http', '//www.amcgowan.ca/blog/computer-science/how-to-handle-class-constructors-that-fail/', 'handle', 'class', 'constructors', 'fail', 'http', '//tutorials.jenkov.com/java-exception-handling/index.html', 'java', 'exception', 'handling', 'jakob', 'jenkov', 'http', '//robaustin.wikidot.com/rethrow-exceptions', 'java', 'rethrow', 'exceptions', 'without', 'wrapping', 'rob', 'austin', 'paper', '``', 'http', '//www.informatik.uni-hamburg.de/tgi/pnbib/f/faustmann_g1.html', 'exception', 'handling', 'petri-net-based', 'workflow', 'management', \"''\", 'gert', 'faustmann', 'dietmar', 'wikarski', 'http', '//neil.fraser.name/writing/exception/', 'problems', 'benefits', 'exception', 'handling', 'http', '//artima.com/intv/handcuffsp.html', 'trouble', 'checked', 'exceptions', 'conversation', 'anders', 'hejlsberg', 'http', '//javapapers.com/core-java/java-exception/explain-type-of-exceptions-or-checked-vs-unchecked-exceptions-in-java/', 'type', 'java', 'exceptions', 'http', '//codebetter.com/blogs/karlseguin/archive/2006/04/05/142355.aspx', 'understanding', 'using', 'exceptions', '.net', 'visual', 'prolog', 'http', '//wiki.visual-prolog.com/index.php', 'title=exception_handling', 'exception', 'handling', 'wiki', 'article', 'data', 'types', 'defaultsort', 'exception', 'handling', '--', 'categories', '--', 'category', 'control', 'flow', 'category', 'software', 'anomalies'], ['computer', 'science', \"''\", 'high-level', 'programming', 'language', \"''\", 'programming', 'language', 'strong', 'abstraction', 'computer', 'science', '|abstraction', 'details', 'computer', 'comparison', 'low-level', 'programming', 'languages', 'may', 'use', 'natural', 'language', 'elements', 'easier', 'use', 'may', 'automate', 'even', 'hide', 'entirely', 'significant', 'areas', 'computing', 'systems', 'e.g', 'memory', 'management', 'making', 'process', 'developing', 'program', 'simpler', 'understandable', 'relative', 'lower-level', 'language', 'amount', 'abstraction', 'provided', 'defines', '``', 'high-level', \"''\", 'programming', 'language', 'https', '//web.archive.org/web/20070826224349/http', '//www.ittc.ku.edu/hybridthreads/glossary/index.php', 'hthreads', 'rd', 'glossary', '--', 'bot', 'generated', 'title', '--', '1960s', 'high-level', 'programming', 'languages', 'using', 'compiler', 'commonly', 'called', \"''\", 'autocodes', \"''\", \"'.\", 'ref', 'name=kleith', 'cite', 'book|last=london|first=keith|title=introduction', 'computers|year=1968|publisher=faber', 'faber', 'limited|location=24', 'russell', 'square', 'london', 'wc1|isbn=0571085938|page=184|chapter=4', 'programming|quote=the', \"'high\", 'level', 'programming', 'languages', 'often', 'called', 'autocodes', 'processor', 'program', 'compiler', '--', 'book', 'isbn', 'number', 'instead', 'sbn', 'number', 'typo', 'previous', 'sentence.', '--', 'examples', 'autocodes', 'cobol', 'fortran.', 'ref', 'name=kleith2', 'cite', 'book|last=london|first=keith|title=introduction', 'computers|year=1968|publisher=faber', 'faber', 'limited|location=24', 'russell', 'square', 'london', 'wc1|isbn=0571085938|page=186|chapter=4', 'programming|quote=two', 'high', 'level', 'programming', 'languages', 'used', 'examples', 'illustrate', 'structure', 'purpose', 'autocodes', 'cobol', 'common', 'business', 'oriented', 'language', 'fortran', 'formular', 'translation', '--', 'book', 'isbn', 'number', 'instead', 'sbn', 'number', 'typo', 'previous', 'sentence.', '--', 'first', 'high-level', 'programming', 'language', 'designed', 'computers', 'plankalkül', 'created', 'konrad', 'zuse.giloi', 'wolfgang', 'k.', '1997', '``', 'konrad', 'zuse', \"'s\", 'plankalkül', 'first', 'high-level', '``', 'non', 'von', 'neumann', \"''\", 'programming', 'language', \"''\", 'ieee', 'annals', 'history', 'computing', 'vol', '19', '2', 'pp.', 'nbsp', '17–24', 'april–june', '1997', 'http', '//doi.ieeecomputersociety.org/10.1109/85.586068', 'abstract', 'however', 'implemented', 'time', 'original', 'contributions', 'due', 'world', 'war', 'ii', 'largely', 'isolated', 'developments', 'although', 'influenced', 'heinz', 'rutishauser', \"'s\", 'language', '``', 'superplan', \"''\", 'degree', 'also', 'algol', 'first', 'really', 'widespread', 'high-level', 'language', 'fortran', 'machine', 'independent', 'development', 'ibm', \"'s\", 'earlier', 'autocode', 'systems', 'algol|algol', 'defined', '1958', '1960', 'committees', 'european', 'american', 'computer', 'scientists', 'introduced', 'recursion', 'well', 'nested', 'functions', 'lexical', 'scope', 'also', 'first', 'language', 'clear', 'distinction', 'call', 'value|value', 'call', 'name|name-parameters', 'corresponding', 'semantics.although', 'lacked', 'notion', 'call', 'reference|reference-parameters', 'could', 'problem', 'situations', 'several', 'successors', 'including', 'algolw', 'algol68', 'simula', 'pascal', 'programming', 'language', '|pascal', 'modula', 'ada', 'programming', 'language', '|ada', 'therefore', 'included', 'reference-parameters', 'related', 'c-language', 'family', 'instead', 'allowed', 'addresses', \"''\", 'value', \"''\", \"'-parameters\", 'algol', 'also', 'introduced', 'several', 'structured', 'programming', 'concepts', \"''\", 'while-do', \"''\", \"''\", 'if-then-else', \"''\", 'constructs', 'syntax', 'first', 'described', 'formal', 'method', 'backus–naur', 'form', 'bnf', 'roughly', 'period', 'cobol', 'introduced', 'record', 'computer', 'science', '|records', 'also', 'called', 'structs', 'lisp', 'programming', 'language', '|lisp', 'introduced', 'fully', 'general', 'lambda', 'abstraction', 'programming', 'language', 'first', 'time', '==', 'features', '==', \"''\", 'high-level', 'language', \"''\", 'refers', 'higher', 'level', 'abstraction', 'machine', 'language', 'rather', 'dealing', 'registers', 'memory', 'addresses', 'call', 'stacks', 'high-level', 'languages', 'deal', 'variables', 'arrays', 'object', 'computer', 'science', '|objects', 'complex', 'arithmetic', 'boolean', 'expressions', 'subroutines', 'functions', 'loops', 'thread', 'computer', 'science', '|threads', 'locks', 'abstract', 'computer', 'science', 'concepts', 'focus', 'usability', 'optimal', 'program', 'efficiency', 'unlike', 'low-level', 'assembly', 'languages', 'high-level', 'languages', 'language', 'elements', 'translate', 'directly', 'machine', \"'s\", 'native', 'opcodes', 'features', 'string', 'handling', 'routines', 'object-oriented', 'language', 'features', 'file', 'input/output', 'may', 'also', 'present', '==', 'abstraction', 'penalty', '==', 'high-level', 'languages', 'intend', 'provide', 'features', 'standardize', 'common', 'tasks', 'permit', 'rich', 'debugging', 'maintain', 'architectural', 'agnosticism', 'low-level', 'languages', 'often', 'produce', 'efficient', 'code', 'optimization', 'specific', 'system', 'architecture', \"''abstraction\", 'penalty', \"''\", 'border', 'prevents', 'high-level', 'programming', 'techniques', 'applied', 'situations', 'computational', 'limitations', 'standards', 'conformance', 'physical', 'constraints', 'require', 'access', 'low-level', 'architectural', 'resources', 'fi', 'response', 'time', 'hardware', 'integration', 'high-level', 'programming', 'exhibits', 'features', 'like', 'generic', 'data', 'structures/operations', 'run-time', 'interpretation', 'intermediate', 'code', 'files', 'often', 'result', 'execution', 'far', 'operations', 'necessary', 'higher', 'memory', 'consumption', 'larger', 'binary', 'program', 'size', 'cite', 'journal', '|author=surana', 'p', '|title=meta-compilation', 'language', 'abstractions', '|year=2006', '|url=ftp', '//lispnyc.org/meeting-assets/2007-02-13_pinku/suranathesis.pdf', '|format=pdf', '|accessdate=2008-03-17', '|deadurl=yes', '|archiveurl=https', '//web.archive.org/web/20150217154926/http', '//lispnyc.org/meeting-assets/2007-02-13_pinku/suranathesis.pdf', '|archivedate=2015-02-17', '|df=', 'cite', 'web', 'last', 'kuketayev', 'title', 'data', 'abstraction', 'penalty', 'dap', 'benchmark', 'small', 'objects', 'java', 'url=', 'http', '//www.adtmag.com/joop/article.aspx', 'id=4597', 'accessdate', '2008-03-17', 'cite', 'book', 'last', 'chatzigeorgiou', 'last2', 'stephanides', 'editor-last', 'blieberger', 'editor2-last', 'strohmeier', 'contribution', 'evaluating', 'performance', 'power', 'object-oriented', 'vs.', 'procedural', 'programming', 'languages', 'title', 'proceedings', '7th', 'international', 'conference', 'reliable', 'software', 'technologies', \"ada-europe'2002\", 'year', '2002', 'pages', '367', 'publisher', 'springer', 'postscript', '--', 'none', '--', 'reason', 'code', 'needs', 'run', 'particularly', 'quickly', 'efficiently', 'may', 'require', 'use', 'lower-level', 'language', 'even', 'higher-level', 'language', 'would', 'make', 'coding', 'easier', 'many', 'cases', 'critical', 'portions', 'program', 'mostly', 'high-level', 'language', 'hand-coded', 'assembly', 'language', 'leading', 'much', 'faster', 'efficient', 'simply', 'reliably', 'functioning', 'program', 'optimisation|optimised', 'program', 'however', 'growing', 'complexity', 'modern', 'microprocessor', 'architectures', 'well-designed', 'compilers', 'high-level', 'languages', 'frequently', 'produce', 'code', 'comparable', 'efficiency', 'low-level', 'programmers', 'produce', 'hand', 'higher', 'abstraction', 'may', 'allow', 'powerful', 'techniques', 'providing', 'better', 'overall', 'results', 'low-level', 'counterparts', 'particular', 'settings', 'cite', 'journal', '|author1=manuel', 'carro', '|author2=josé', 'f.', 'morales', '|author3=henk', 'l.', 'muller', '|author4=g', 'puebla', '|author5=m', 'hermenegildo', 'journal', 'proceedings', '2006', 'international', 'conference', 'compilers', 'architecture', 'synthesis', 'embedded', 'systems', 'title', 'high-level', 'languages', 'small', 'devices', 'case', 'study', 'url', 'http', '//www.clip.dia.fi.upm.es/papers/carro06', 'stream_interpreter_cases.pdf', 'format', 'pdf', 'year', '2006', 'publisher', 'acm', 'postscript', '--', 'none', '--', 'high-level', 'languages', 'designed', 'independent', 'specific', 'computing', 'system', 'architecture', 'facilitates', 'executing', 'program', 'written', 'language', 'computing', 'system', 'compatible', 'support', 'interpreted', 'just-in-time', 'compilation|jit', 'program', 'high-level', 'languages', 'improved', 'designers', 'develop', 'improvements', 'cases', 'new', 'high-level', 'languages', 'evolve', 'one', 'others', 'goal', 'aggregating', 'popular', 'constructs', 'new', 'improved', 'features', 'example', 'scala', 'programming', 'language', '|scala', 'maintains', 'backward', 'compatibility', 'java', 'programming', 'language', '|java', 'means', 'programs', 'libraries', 'written', 'java', 'continue', 'usable', 'even', 'programming', 'shop', 'switches', 'scala', 'makes', 'transition', 'easier', 'lifespan', 'high-level', 'coding', 'indefinite', 'contrast', 'low-level', 'programs', 'rarely', 'survive', 'beyond', 'system', 'architecture', 'written', 'without', 'major', 'revision', 'engineering', \"'trade-off\", \"'abstraction\", 'penalty', '==', 'relative', 'meaning', '==', 'examples', 'high-level', 'programming', 'languages', 'active', 'use', 'today', 'include', 'python', 'programming', 'language', '|python', 'visual', 'basic', 'delphi', 'programming', 'language', '|delphi', 'perl', 'php', 'ecmascript', 'ruby', 'programming', 'language', '|ruby', 'many', 'others', 'terms', \"''high-level\", \"''\", \"''low-level\", \"''\", 'inherently', 'relative', 'decades', 'ago', 'c', 'programming', 'language', '|c', 'language', 'similar', 'languages', 'often', 'considered', '``', 'high-level', \"''\", 'supported', 'concepts', 'expression', 'evaluation', 'parameterised', 'recursive', 'functions', 'data', 'types', 'structures', 'assembly', 'language', 'considered', '``', 'low-level', \"''\", 'today', 'many', 'programmers', 'might', 'refer', 'c', 'low-level', 'lacks', 'large', 'run', 'time', 'system|runtime-system', 'garbage', 'collection', 'etc', 'basically', 'supports', 'scalar', 'operations', 'provides', 'direct', 'memory', 'addressing', 'therefore', 'readily', 'blends', 'assembly', 'language', 'machine', 'level', 'cpus', 'microcontrollers', 'assembly', 'language', 'may', 'regarded', 'higher', 'level', 'often', 'still', 'one-to-one', 'used', 'without', 'macro', 'computer', 'science', '|macros', 'representation', 'machine', 'code', 'supports', 'concepts', 'constants', 'limited', 'expressions', 'sometimes', 'even', 'variables', 'procedures', 'data', 'structures', 'machine', 'code', 'turn', 'inherently', 'slightly', 'higher', 'level', 'microcode', 'micro-operations', 'used', 'internally', 'many', 'processors', '==', 'execution', 'modes', '==', 'three', 'general', 'modes', 'execution', 'modern', 'high-level', 'languages', 'interpreted', 'code', 'written', 'language', 'interpreted', 'language|interpreted', 'syntax', 'read', 'executed', 'directly', 'compilation', 'stage', 'program', 'called', \"''interpreter\", \"''\", 'reads', 'program', 'statement', 'following', 'program', 'flow', 'decides', 'hybrid', 'interpreter', 'compiler', 'compile', 'statement', 'machine', 'code', 'execute', 'machine', 'code', 'discarded', 'interpreted', 'anew', 'line', 'executed', 'interpreters', 'commonly', 'simplest', 'implementations', 'behavior', 'language', 'compared', 'two', 'variants', 'listed', 'compiled', 'code', 'written', 'language', 'compiled', 'language|compiled', 'syntax', 'transformed', 'executable', 'form', 'running', 'two', 'types', 'compilation', 'machine', 'code', 'generation', 'compilers', 'compile', 'source', 'code', 'directly', 'machine', 'code', 'original', 'mode', 'compilation', 'languages', 'directly', 'completely', 'transformed', 'machine-native', 'code', 'way', 'may', 'called', '``', 'truly', 'compiled', \"''\", 'languages', 'see', 'assembly', 'language', 'intermediate', 'representations', 'code', 'written', 'language', 'compiled', 'intermediate', 'representation', 'representation', 'optimized', 'saved', 'later', 'execution', 'without', 'need', 're-read', 'source', 'file', 'intermediate', 'representation', 'saved', 'may', 'form', 'byte', 'code', 'intermediate', 'representation', 'must', 'interpreted', 'compiled', 'execute', 'virtual', 'machines', 'execute', 'byte', 'code', 'directly', 'transform', 'machine', 'code', 'blurred', 'clear', 'distinction', 'intermediate', 'representations', 'truly', 'compiled', 'languages', 'source-to-source', 'translated', 'trans-compiled', 'code', 'written', 'language', 'may', 'translated', 'terms', 'lower-level', 'programming', 'language', 'native', 'code', 'compilers', 'already', 'widely', 'available', 'javascript', 'c', 'programming', 'language', '|c', 'programming', 'language', 'common', 'targets', 'translators', 'see', 'coffeescript', 'chicken', 'scheme', 'eiffel', 'programming', 'language', '|eiffel', 'examples', 'specifically', 'generated', 'c', 'c++', 'code', 'seen', 'generated', 'eiffel', 'programming', 'language', 'using', 'eiffelstudio', 'ide', 'eifgens', 'directory', 'compiled', 'eiffel', 'project', 'eiffel', '``', 'translated', \"''\", 'process', 'referred', 'trans-compiling', 'trans-compiled', 'eiffel', 'compiler', 'source-to-source', 'compiler|transcompiler', 'note', 'languages', 'strictly', '``', 'interpreted', \"''\", 'languages', '``', 'compiled', \"''\", 'languages', 'rather', 'implementations', 'language', 'behavior', 'use', 'interpretation', 'compilation', 'example', 'algol', '60', 'fortran', 'interpreted', 'even', 'though', 'typically', 'compiled', 'similarly', 'java', 'shows', 'difficulty', 'trying', 'apply', 'labels', 'languages', 'rather', 'implementations', 'java', 'compiled', 'bytecode', 'bytecode', 'subsequently', 'executed', 'either', 'interpretation', 'java', 'virtual', 'machine|jvm', 'compilation', 'typically', 'just-in-time', 'compiler', 'hotspot', 'jvm', 'moreover', 'compilation', 'trans-compiling', 'interpretation', 'strictly', 'limited', 'description', 'compiler', 'artifact', 'binary', 'executable', 'il', 'assembly', '===high-level', 'language', 'computer', 'architecture===', 'alternatively', 'possible', 'high-level', 'language', 'directly', 'implemented', 'computer', '–', 'computer', 'directly', 'executes', 'hll', 'code', 'known', \"''high-level\", 'language', 'computer', 'architecture', \"''\", '–', 'computer', 'architecture', 'designed', 'targeted', 'specific', 'high-level', 'language', '==', 'see', 'also', '==', 'portal|computer', 'programming', 'abstraction', 'computer', 'science', 'generational', 'list', 'programming', 'languages', 'low-level', 'programming', 'languages', 'high-level', 'assembler', 'high-level', 'programming', 'languages', 'categorical', 'list', 'programming', 'languages', 'clear', '==', 'references', '==', 'reflist', '==', 'external', 'links', '==', 'http', '//c2.com/cgi/wiki', 'highlevellanguage', 'wikiwikiweb', \"'s\", 'article', 'high-level', 'programming', 'languages', 'programming', 'language', 'authority', 'control', 'defaultsort', 'high-level', 'programming', 'language', 'category', 'programming', 'language', 'classification']]"
   ]
  },
  {
   "cell_type": "code",
   "execution_count": 27,
   "metadata": {},
   "outputs": [],
   "source": [
    "# Import Dictionary\n",
    "from gensim.corpora.dictionary import Dictionary"
   ]
  },
  {
   "cell_type": "code",
   "execution_count": 28,
   "metadata": {},
   "outputs": [],
   "source": [
    "# Create a Dictionary from the articles: dictionary\n",
    "dictionary = Dictionary(articles)"
   ]
  },
  {
   "cell_type": "code",
   "execution_count": 29,
   "metadata": {},
   "outputs": [
    {
     "name": "stdout",
     "output_type": "stream",
     "text": [
      "computer\n"
     ]
    }
   ],
   "source": [
    "# Select the id for \"computer\": computer_id\n",
    "computer_id = dictionary.token2id.get(\"computer\")\n",
    "\n",
    "# Use computer_id with the dictionary to print the word\n",
    "print(dictionary.get(computer_id))"
   ]
  },
  {
   "cell_type": "code",
   "execution_count": 30,
   "metadata": {},
   "outputs": [
    {
     "data": {
      "text/plain": [
       "219"
      ]
     },
     "execution_count": 30,
     "metadata": {},
     "output_type": "execute_result"
    }
   ],
   "source": [
    "computer_id"
   ]
  },
  {
   "cell_type": "code",
   "execution_count": 31,
   "metadata": {},
   "outputs": [
    {
     "name": "stdout",
     "output_type": "stream",
     "text": [
      "[(0, 88), (23, 11), (24, 2), (39, 1), (41, 2), (55, 22), (56, 1), (57, 1), (58, 1), (59, 3)]\n"
     ]
    }
   ],
   "source": [
    "# Create a MmCorpus: corpus\n",
    "corpus = [dictionary.doc2bow(article) for article in articles]\n",
    "\n",
    "# Print the first 10 word ids with their frequency counts from the fifth document\n",
    "print(corpus[4][:10])"
   ]
  },
  {
   "cell_type": "markdown",
   "metadata": {},
   "source": [
    "## Gensim bag-of-words\n",
    "\n",
    "Now, you'll use your new gensim corpus and dictionary to see the most common terms per document and across all documents. You can use your dictionary to look up the terms. Take a guess at what the topics are and feel free to explore more documents in the IPython Shell!\n",
    "\n",
    "You have access to the dictionary and corpus objects you created in the previous exercise, as well as the Python defaultdict and itertools to help with the creation of intermediate data structures for analysis.\n",
    "\n",
    "The fifth document from corpus is stored in the variable doc, which has been sorted in descending order."
   ]
  },
  {
   "cell_type": "code",
   "execution_count": 33,
   "metadata": {},
   "outputs": [],
   "source": [
    "from collections import defaultdict "
   ]
  },
  {
   "cell_type": "code",
   "execution_count": 34,
   "metadata": {},
   "outputs": [],
   "source": [
    "import itertools"
   ]
  },
  {
   "cell_type": "code",
   "execution_count": 35,
   "metadata": {},
   "outputs": [],
   "source": [
    "# Save the fifth document: doc\n",
    "doc = corpus[4]\n",
    "\n",
    "# Sort the doc for frequency: bow_doc\n",
    "bow_doc = sorted(doc, key=lambda w: w[1], reverse=True)"
   ]
  },
  {
   "cell_type": "code",
   "execution_count": 42,
   "metadata": {},
   "outputs": [
    {
     "name": "stdout",
     "output_type": "stream",
     "text": [
      "[(350, 91), (0, 88), (1535, 71), (862, 51), (177, 26)]\n"
     ]
    }
   ],
   "source": [
    "print(bow_doc[:5])"
   ]
  },
  {
   "cell_type": "code",
   "execution_count": 43,
   "metadata": {},
   "outputs": [
    {
     "name": "stdout",
     "output_type": "stream",
     "text": [
      "engineering 91\n",
      "'' 88\n",
      "reverse 71\n",
      "software 51\n",
      "cite 26\n"
     ]
    }
   ],
   "source": [
    "# Print the top 5 words of the document alongside the count\n",
    "for word_id, word_count in bow_doc[:5]:\n",
    "    print(dictionary.get(word_id), word_count)"
   ]
  },
  {
   "cell_type": "code",
   "execution_count": 45,
   "metadata": {},
   "outputs": [],
   "source": [
    "# Create the defaultdict: total_word_count\n",
    "total_word_count = defaultdict(int)"
   ]
  },
  {
   "cell_type": "code",
   "execution_count": 46,
   "metadata": {},
   "outputs": [
    {
     "data": {
      "text/plain": [
       "defaultdict(int, {})"
      ]
     },
     "execution_count": 46,
     "metadata": {},
     "output_type": "execute_result"
    }
   ],
   "source": [
    "total_word_count"
   ]
  },
  {
   "cell_type": "code",
   "execution_count": 47,
   "metadata": {},
   "outputs": [],
   "source": [
    "for word_id, word_count in itertools.chain.from_iterable(corpus):\n",
    "    total_word_count[word_id] += word_count"
   ]
  },
  {
   "cell_type": "code",
   "execution_count": 66,
   "metadata": {},
   "outputs": [],
   "source": [
    "# Create a sorted list from the defaultdict: sorted_word_count\n",
    "sorted_word_count = sorted(total_word_count.items(), key=lambda w: w[1], reverse=True) "
   ]
  },
  {
   "cell_type": "code",
   "execution_count": 67,
   "metadata": {},
   "outputs": [
    {
     "name": "stdout",
     "output_type": "stream",
     "text": [
      "'' 1042\n",
      "computer 594\n",
      "software 450\n",
      "`` 345\n",
      "cite 322\n"
     ]
    }
   ],
   "source": [
    "# Print the top 5 words across all documents alongside the count\n",
    "for word_id, word_count in sorted_word_count[:5]:\n",
    "    print(dictionary.get(word_id), word_count)"
   ]
  },
  {
   "cell_type": "markdown",
   "metadata": {},
   "source": [
    "## Tf-idf with Wikipedia\n",
    "\n",
    "Now it's your turn to determine new significant terms for your corpus by applying gensim's tf-idf. You will again have access to the same corpus and dictionary objects you created in the previous exercises - dictionary, corpus, and doc. Will tf-idf make for more interesting results on the document level?"
   ]
  },
  {
   "cell_type": "code",
   "execution_count": 49,
   "metadata": {},
   "outputs": [],
   "source": [
    "# Import TfidfModel\n",
    "from gensim.models.tfidfmodel import TfidfModel"
   ]
  },
  {
   "cell_type": "code",
   "execution_count": 50,
   "metadata": {},
   "outputs": [],
   "source": [
    "# Create a new TfidfModel using the corpus: tfidf\n",
    "tfidf = TfidfModel(corpus)"
   ]
  },
  {
   "cell_type": "code",
   "execution_count": 51,
   "metadata": {},
   "outputs": [],
   "source": [
    "# Calculate the tfidf weights of doc: tfidf_weights\n",
    "tfidf_weights = tfidf[doc]"
   ]
  },
  {
   "cell_type": "code",
   "execution_count": 52,
   "metadata": {},
   "outputs": [
    {
     "name": "stdout",
     "output_type": "stream",
     "text": [
      "[(24, 0.0022836332291091273), (39, 0.0043409401554717324), (41, 0.008681880310943465), (55, 0.011988285029371418), (56, 0.005482756770026296)]\n"
     ]
    }
   ],
   "source": [
    "# Print the first five weights\n",
    "print(tfidf_weights[0:5])"
   ]
  },
  {
   "cell_type": "code",
   "execution_count": 53,
   "metadata": {},
   "outputs": [],
   "source": [
    "# Sort the weights from highest to lowest: sorted_tfidf_weights\n",
    "sorted_tfidf_weights = sorted(tfidf_weights, key=lambda w: w[1], reverse=True)"
   ]
  },
  {
   "cell_type": "code",
   "execution_count": 54,
   "metadata": {},
   "outputs": [
    {
     "name": "stdout",
     "output_type": "stream",
     "text": [
      "reverse 0.4884961428651127\n",
      "infringement 0.18674529210288995\n",
      "engineering 0.16395041814479536\n",
      "interoperability 0.12449686140192663\n",
      "reverse-engineered 0.12449686140192663\n"
     ]
    }
   ],
   "source": [
    "# Print the top 5 weighted words\n",
    "for term_id, weight in sorted_tfidf_weights[:5]:\n",
    "    print(dictionary.get(term_id), weight)"
   ]
  },
  {
   "cell_type": "markdown",
   "metadata": {},
   "source": [
    "#  <font color='blue'>Named-entity recognition</font>"
   ]
  },
  {
   "cell_type": "markdown",
   "metadata": {},
   "source": [
    "## NER with NLTK\n",
    "\n",
    "You're now going to have some fun with named-entity recognition! A scraped news article has been pre-loaded into your workspace. Your task is to use nltk to find the named entities in this article.\n",
    "\n",
    "What might the article be about, given the names you found?\n",
    "\n",
    "Along with nltk, sent_tokenize and word_tokenize from nltk.tokenize have been pre-imported."
   ]
  },
  {
   "cell_type": "code",
   "execution_count": 113,
   "metadata": {},
   "outputs": [],
   "source": [
    "import nltk\n",
    "article = \"The taxi-hailing company Uber brings into very sharp focus the question of whether corporations can be said to have a moral character. If any human being were to behave with the single-minded and ruthless greed of the company, we would consider them sociopathic. Uber wanted to know as much as possible about the people who use its service, and those who don’t. It has an arrangement with unroll.me, a company which offered a free service for unsubscribing from junk mail, to buy the contacts unroll.me customers had had with rival taxi companies. Even if their email was notionally anonymised, this use of it was not something the users had bargained for. Beyond that, it keeps track of the phones that have been used to summon its services even after the original owner has sold them, attempting this with Apple’s phones even thought it is forbidden by the company. Uber has also tweaked its software so that regulatory agencies that the company regarded as hostile would, when they tried to hire a driver, be given false reports about the location of its cars. Uber management booked and then cancelled rides with a rival taxi-hailing company which took their vehicles out of circulation. Uber deny this was the intention. The punishment for this behaviour was negligible. Uber promised not to use this “greyball” software against law enforcement – one wonders what would happen to someone carrying a knife who promised never to stab a policeman with it. Travis Kalanick of Uber got a personal dressing down from Tim Cook, who runs Apple, but the company did not prohibit the use of the app. Too much money was at stake for that. Millions of people around the world value the cheapness and convenience of Uber’s rides too much to care about the lack of drivers’ rights or pay. Many of the users themselves are not much richer than the drivers. The “sharing economy” encourages the insecure and exploited to exploit others equally insecure to the profit of a tiny clique of billionaires. Silicon Valley’s culture seems hostile to humane and democratic values. The outgoing CEO of Yahoo, Marissa Mayer, who is widely judged to have been a failure, is likely to get a $186m payout. This may not be a cause for panic, any more than the previous hero worship should have been a cause for euphoria. Yet there’s an urgent political task to tame these companies, to ensure they are punished when they break the law, that they pay their taxes fairly and that they behave responsibly.\""
   ]
  },
  {
   "cell_type": "code",
   "execution_count": 114,
   "metadata": {},
   "outputs": [],
   "source": [
    "# Tokenize the article into sentences: sentences\n",
    "sentences =nltk.sent_tokenize(article)"
   ]
  },
  {
   "cell_type": "code",
   "execution_count": 115,
   "metadata": {},
   "outputs": [],
   "source": [
    "# Tokenize each sentence into words: token_sentences\n",
    "token_sentences = [nltk.word_tokenize(sent) for sent in sentences]"
   ]
  },
  {
   "cell_type": "code",
   "execution_count": 116,
   "metadata": {},
   "outputs": [],
   "source": [
    "# Tag each tokenized sentence into parts of speech: pos_sentences\n",
    "pos_sentences = [nltk.pos_tag(sent) for sent in token_sentences] "
   ]
  },
  {
   "cell_type": "code",
   "execution_count": 117,
   "metadata": {},
   "outputs": [],
   "source": [
    "# Create the named entity chunks: chunked_sentences\n",
    "chunked_sentences = nltk.ne_chunk_sents(pos_sentences, binary=True)"
   ]
  },
  {
   "cell_type": "code",
   "execution_count": 83,
   "metadata": {},
   "outputs": [
    {
     "name": "stdout",
     "output_type": "stream",
     "text": [
      "(NE Uber/NNP)\n",
      "(NE Beyond/NN)\n",
      "(NE Apple/NNP)\n",
      "(NE Uber/NNP)\n",
      "(NE Uber/NNP)\n",
      "(NE Travis/NNP Kalanick/NNP)\n",
      "(NE Tim/NNP Cook/NNP)\n",
      "(NE Apple/NNP)\n",
      "(NE Silicon/NNP Valley/NNP)\n",
      "(NE CEO/NNP)\n",
      "(NE Yahoo/NNP)\n",
      "(NE Marissa/NNP Mayer/NNP)\n"
     ]
    }
   ],
   "source": [
    "# Test for stems of the tree with 'NE' tags\n",
    "for sent in chunked_sentences:\n",
    "    for chunk in sent:\n",
    "        if hasattr(chunk, \"label\") and chunk.label() == \"NE\":\n",
    "            print(chunk)"
   ]
  },
  {
   "cell_type": "markdown",
   "metadata": {},
   "source": [
    "## Charting practice\n",
    "\n",
    "In this exercise, you'll use some extracted named entities and their groupings from a series of newspaper articles to chart the diversity of named entity types in the articles.\n",
    "\n",
    "You'll use a defaultdict called ner_categories, with keys representing every named entity group type, and values to count the number of each different named entity type. You have a chunked sentence list called chunked_sentences similar to the last exercise, but this time with non-binary category names.\n",
    "\n",
    "You can use hasattr() to determine if each chunk has a 'label' and then simply use the chunk's .label() method as the dictionary key."
   ]
  },
  {
   "cell_type": "code",
   "execution_count": 162,
   "metadata": {},
   "outputs": [],
   "source": [
    "from matplotlib import pyplot as plt\n",
    "%matplotlib inline"
   ]
  },
  {
   "cell_type": "code",
   "execution_count": 163,
   "metadata": {},
   "outputs": [],
   "source": [
    "# Create the defaultdict: ner_categories\n",
    "ner_categories = defaultdict(int)"
   ]
  },
  {
   "cell_type": "code",
   "execution_count": 164,
   "metadata": {},
   "outputs": [],
   "source": [
    "f= open(\"articles.txt\",\"r\",encoding=\"utf-8\")\n",
    "articles = f.read()\n",
    "f.close()"
   ]
  },
  {
   "cell_type": "code",
   "execution_count": 165,
   "metadata": {},
   "outputs": [],
   "source": [
    "sentences =nltk.sent_tokenize(articles)\n",
    "token_sentences = [nltk.word_tokenize(sent) for sent in sentences]\n",
    "pos_sentences = [nltk.pos_tag(sent) for sent in token_sentences]\n",
    "chunked_sentences = nltk.ne_chunk_sents(pos_sentences, binary=False)"
   ]
  },
  {
   "cell_type": "code",
   "execution_count": 167,
   "metadata": {},
   "outputs": [],
   "source": [
    "# Create the nested for loop\n",
    "for sent in chunked_sentences:\n",
    "    for chunk in sent:\n",
    "        if hasattr(chunk, 'label') and chunk.label() != \"NE\":\n",
    "            ner_categories[chunk.label()] += 1"
   ]
  },
  {
   "cell_type": "code",
   "execution_count": 168,
   "metadata": {
    "scrolled": true
   },
   "outputs": [
    {
     "data": {
      "text/plain": [
       "defaultdict(int,\n",
       "            {'GPE': 116,\n",
       "             'ORGANIZATION': 33,\n",
       "             'PERSON': 70,\n",
       "             'LOCATION': 1,\n",
       "             'FACILITY': 1})"
      ]
     },
     "execution_count": 168,
     "metadata": {},
     "output_type": "execute_result"
    }
   ],
   "source": [
    "ner_categories"
   ]
  },
  {
   "cell_type": "code",
   "execution_count": 169,
   "metadata": {},
   "outputs": [],
   "source": [
    "# Create a list from the dictionary keys for the chart labels: labels\n",
    "labels = list(ner_categories.keys())\n",
    "\n",
    "# Create a list of the values: values\n",
    "values = [ner_categories.get(l) for l in labels]"
   ]
  },
  {
   "cell_type": "code",
   "execution_count": 170,
   "metadata": {},
   "outputs": [
    {
     "data": {
      "image/png": "[encoded data removed]",
      "text/plain": [
       "<Figure size 432x288 with 1 Axes>"
      ]
     },
     "metadata": {},
     "output_type": "display_data"
    }
   ],
   "source": [
    "# Create the pie chart\n",
    "plt.pie(values, labels=labels, autopct='%1.1f%%', startangle=140)\n",
    "\n",
    "# Display the chart\n",
    "plt.show()"
   ]
  },
  {
   "cell_type": "markdown",
   "metadata": {},
   "source": [
    "## Comparing NLTK with spaCy NER\n",
    "\n",
    "Using the same text you used in the first exercise of this chapter, you'll now see the results using spaCy's NER annotator. How will they compare?\n",
    "\n",
    "The article has been pre-loaded as article. To minimize execution times, you'll be asked to specify the keyword arguments tagger=False, parser=False, matcher=False when loading the spaCy model, because you only care about the entity in this exercise."
   ]
  },
  {
   "cell_type": "code",
   "execution_count": 174,
   "metadata": {},
   "outputs": [],
   "source": [
    "f= open(\"News articles/uber_apple.txt\",\"r\",encoding=\"utf-8\")\n",
    "article = f.read()\n",
    "f.close()"
   ]
  },
  {
   "cell_type": "markdown",
   "metadata": {},
   "source": [
    "##### Modellerin kullanımı\n",
    "    import spacy\n",
    "    nlp = spacy.load('en')                       # load model with shortcut link \"en\"\n",
    "    nlp = spacy.load('en_core_web_sm')           # load model package \"en_core_web_sm\"\n",
    "    nlp = spacy.load('/path/to/en_core_web_sm')  # load package from a directory\n",
    "\n",
    "    doc = nlp(u'This is a sentence.')\n",
    "\n",
    "İndirilip de kullanılabilir."
   ]
  },
  {
   "cell_type": "code",
   "execution_count": 176,
   "metadata": {},
   "outputs": [],
   "source": [
    "import spacy"
   ]
  },
  {
   "cell_type": "code",
   "execution_count": 177,
   "metadata": {},
   "outputs": [],
   "source": [
    "nlp = spacy.load('en_core_web_sm')"
   ]
  },
  {
   "cell_type": "code",
   "execution_count": 178,
   "metadata": {},
   "outputs": [],
   "source": [
    "# Create a new document: doc\n",
    "doc = nlp(article)"
   ]
  },
  {
   "cell_type": "code",
   "execution_count": 180,
   "metadata": {},
   "outputs": [
    {
     "name": "stdout",
     "output_type": "stream",
     "text": [
      "ORG Uber\n",
      "ORG Uber\n",
      "ORG Apple\n",
      "ORG Uber\n",
      "PERSON Travis Kalanick\n",
      "ORG Uber\n",
      "PERSON Tim Cook\n",
      "ORG Apple\n",
      "ORG Uber\n",
      "GPE drivers’\n",
      "LOC Silicon Valley’s\n",
      "ORG Yahoo\n",
      "PERSON Marissa Mayer\n",
      "MONEY $186m\n"
     ]
    }
   ],
   "source": [
    "# Print all of the found entities and their labels\n",
    "for ent in doc.ents:\n",
    "    print(ent.label_, ent.text)"
   ]
  },
  {
   "cell_type": "markdown",
   "metadata": {},
   "source": [
    "## French NER with polyglot I\n",
    "\n",
    "In this exercise and the next, you'll use the polyglot library to identify French entities. The library functions slightly differently than spacy, so you'll use a few of the new things you learned in the last video to display the named entity text and category.\n",
    "\n",
    "You have access to the full article string in article. Additionally, the Text class of polyglot has been imported from polyglot.text."
   ]
  },
  {
   "cell_type": "code",
   "execution_count": 182,
   "metadata": {},
   "outputs": [],
   "source": [
    "f= open(\"News articles/french.txt\",\"r\",encoding=\"utf-8\")\n",
    "article = f.read()\n",
    "f.close()"
   ]
  },
  {
   "cell_type": "code",
   "execution_count": 195,
   "metadata": {},
   "outputs": [
    {
     "ename": "ModuleNotFoundError",
     "evalue": "No module named 'polyglot.text'",
     "output_type": "error",
     "traceback": [
      "\u001b[1;31m---------------------------------------------------------------------------\u001b[0m",
      "\u001b[1;31mModuleNotFoundError\u001b[0m                       Traceback (most recent call last)",
      "\u001b[1;32m<ipython-input-195-05968875281c>\u001b[0m in \u001b[0;36m<module>\u001b[1;34m()\u001b[0m\n\u001b[1;32m----> 1\u001b[1;33m \u001b[1;32mfrom\u001b[0m \u001b[0mpolyglot\u001b[0m\u001b[1;33m.\u001b[0m\u001b[0mtext\u001b[0m \u001b[1;32mimport\u001b[0m \u001b[0mText\u001b[0m\u001b[1;33m,\u001b[0m \u001b[0mWord\u001b[0m\u001b[1;33m\u001b[0m\u001b[0m\n\u001b[0m",
      "\u001b[1;31mModuleNotFoundError\u001b[0m: No module named 'polyglot.text'"
     ]
    }
   ],
   "source": [
    "from polyglot.text import Text, Word"
   ]
  },
  {
   "cell_type": "code",
   "execution_count": null,
   "metadata": {},
   "outputs": [],
   "source": [
    "# Create a new text object using Polyglot's Text class: txt\n",
    "txt = Text(article)\n",
    "\n",
    "# Print each of the entities found\n",
    "for ent in txt.entities:\n",
    "    print(ent)\n",
    "    \n",
    "# Print the type of ent\n",
    "print(type(ent))"
   ]
  },
  {
   "cell_type": "markdown",
   "metadata": {},
   "source": [
    "## French NER with polyglot II\n",
    "\n",
    "Here, you'll complete the work you began in the previous exercise.\n",
    "\n",
    "Your task is to use a list comprehension to create a list of tuples, in which the first element is the entity tag, and the second element is the full string of the entity text."
   ]
  },
  {
   "cell_type": "code",
   "execution_count": null,
   "metadata": {},
   "outputs": [],
   "source": [
    "# Create the list of tuples: entities\n",
    "\n",
    "entities = [(ent.tag, ' '.join(ent)) for ent in txt.entities]\n",
    "\n",
    "# Print entities\n",
    "print(entities)"
   ]
  },
  {
   "cell_type": "markdown",
   "metadata": {},
   "source": [
    "## Spanish NER with polyglot\n",
    "\n",
    "You'll continue your exploration of polyglot now with some Spanish annotation. This article is not written by a newspaper, so it is your first example of a more blog-like text. How do you think that might compare when finding entities?\n",
    "\n",
    "The Text object has been created as txt, and each entity has been printed, as you can see in the IPython Shell.\n",
    "\n",
    "Your specific task is to determine how many of the entities contain the words \"Márquez\" or \"Gabo\" - these refer to the same person in different ways!"
   ]
  },
  {
   "cell_type": "code",
   "execution_count": null,
   "metadata": {},
   "outputs": [],
   "source": [
    "# Initialize the count variable: count\n",
    "count = 0\n",
    "\n",
    "# Iterate over all the entities\n",
    "for ent in txt.entities:\n",
    "    # Check whether the entity contains 'Márquez' or 'Gabo'\n",
    "    if 'Márquez'in ent or 'Gabo'in ent :\n",
    "        # Increment count\n",
    "        count += 1 \n",
    "\n",
    "# Print count\n",
    "print(count)\n",
    "\n",
    "# Calculate the percentage of entities that refer to \"Gabo\": percentage\n",
    "percentage = count / len(txt.entities)\n",
    "print(percentage)\n",
    "\n",
    "# # Initialize the count variable: count\n",
    "count = 0\n",
    "\n",
    "# Iterate over all the entities\n",
    "for ent in txt.entities:\n",
    "    # Check whether the entity contains 'Márquez' or 'Gabo'\n",
    "    if 'Márquez'in ent or 'Gabo'in ent :\n",
    "        # Increment count\n",
    "        count += 1 \n",
    "\n",
    "# Print count\n",
    "print(count)\n",
    "\n",
    "# Calculate the percentage of entities that refer to \"Gabo\": percentage\n",
    "percentage = count / len(txt.entities)\n",
    "print(percentage)"
   ]
  },
  {
   "cell_type": "markdown",
   "metadata": {},
   "source": [
    "#  <font color='blue'>Building a fake news classifier</font>"
   ]
  },
  {
   "cell_type": "markdown",
   "metadata": {},
   "source": [
    "## CountVectorizer for text classification\n",
    "\n",
    "It's time to begin building your text classifier! The data has been loaded into a DataFrame called df. Explore it in the IPython Shell to investigate what columns you can use. The .head() method is particularly informative.\n",
    "\n",
    "In this exercise, you'll use pandas alongside scikit-learn to create a sparse text vectorizer you can use to train and test a simple supervised model. To begin, you'll set up a CountVectorizer and investigate some of its features."
   ]
  },
  {
   "cell_type": "code",
   "execution_count": 196,
   "metadata": {},
   "outputs": [],
   "source": [
    "import pandas as pd"
   ]
  },
  {
   "cell_type": "code",
   "execution_count": 197,
   "metadata": {},
   "outputs": [],
   "source": [
    "df = pd.read_csv('fake_or_real_news.csv')"
   ]
  },
  {
   "cell_type": "code",
   "execution_count": 198,
   "metadata": {},
   "outputs": [],
   "source": [
    "# Import the necessary modules\n",
    "from sklearn.feature_extraction.text import CountVectorizer\n",
    "from sklearn.model_selection import train_test_split"
   ]
  },
  {
   "cell_type": "code",
   "execution_count": 199,
   "metadata": {},
   "outputs": [
    {
     "name": "stdout",
     "output_type": "stream",
     "text": [
      "   Unnamed: 0                                              title  \\\n",
      "0        8476                       You Can Smell Hillary’s Fear   \n",
      "1       10294  Watch The Exact Moment Paul Ryan Committed Pol...   \n",
      "2        3608        Kerry to go to Paris in gesture of sympathy   \n",
      "3       10142  Bernie supporters on Twitter erupt in anger ag...   \n",
      "4         875   The Battle of New York: Why This Primary Matters   \n",
      "\n",
      "                                                text label  \n",
      "0  Daniel Greenfield, a Shillman Journalism Fello...  FAKE  \n",
      "1  Google Pinterest Digg Linkedin Reddit Stumbleu...  FAKE  \n",
      "2  U.S. Secretary of State John F. Kerry said Mon...  REAL  \n",
      "3  — Kaydee King (@KaydeeKing) November 9, 2016 T...  FAKE  \n",
      "4  It's primary day in New York and front-runners...  REAL  \n"
     ]
    }
   ],
   "source": [
    "# Print the head of df\n",
    "print(df.head())"
   ]
  },
  {
   "cell_type": "code",
   "execution_count": 200,
   "metadata": {},
   "outputs": [],
   "source": [
    "# Create a series to store the labels: y\n",
    "y = df['label']"
   ]
  },
  {
   "cell_type": "code",
   "execution_count": 201,
   "metadata": {},
   "outputs": [
    {
     "data": {
      "text/plain": [
       "0    FAKE\n",
       "1    FAKE\n",
       "2    REAL\n",
       "3    FAKE\n",
       "4    REAL\n",
       "Name: label, dtype: object"
      ]
     },
     "execution_count": 201,
     "metadata": {},
     "output_type": "execute_result"
    }
   ],
   "source": [
    "y.head()"
   ]
  },
  {
   "cell_type": "code",
   "execution_count": 202,
   "metadata": {},
   "outputs": [],
   "source": [
    "# Create training and test sets\n",
    "X_train, X_test, y_train, y_test = train_test_split(df['text'], y, test_size=0.33, random_state = 53)"
   ]
  },
  {
   "cell_type": "code",
   "execution_count": 203,
   "metadata": {},
   "outputs": [],
   "source": [
    "# Initialize a CountVectorizer object: count_vectorizer\n",
    "count_vectorizer = CountVectorizer(stop_words='english')"
   ]
  },
  {
   "cell_type": "code",
   "execution_count": 204,
   "metadata": {},
   "outputs": [],
   "source": [
    "# Transform the training data using only the 'text' column values: count_train \n",
    "count_train = count_vectorizer.fit_transform(X_train)"
   ]
  },
  {
   "cell_type": "code",
   "execution_count": 205,
   "metadata": {},
   "outputs": [],
   "source": [
    "# Transform the test data using only the 'text' column values: count_test \n",
    "count_test = count_vectorizer.transform(X_test)"
   ]
  },
  {
   "cell_type": "code",
   "execution_count": 206,
   "metadata": {},
   "outputs": [
    {
     "name": "stdout",
     "output_type": "stream",
     "text": [
      "['00', '000', '0000', '00000031', '000035', '00006', '0001', '0001pt', '000ft', '000km']\n"
     ]
    }
   ],
   "source": [
    "# Print the first 10 features of the count_vectorizer\n",
    "print(count_vectorizer.get_feature_names()[:10])"
   ]
  },
  {
   "cell_type": "markdown",
   "metadata": {},
   "source": [
    "## TfidfVectorizer for text classification\n",
    "\n",
    "Similar to the sparse CountVectorizer created in the previous exercise, you'll work on creating tf-idf vectors for your documents. You'll set up a TfidfVectorizer and investigate some of its features.\n",
    "\n",
    "In this exercise, you'll use pandas and sklearn along with the same X_train, y_train and X_test, y_test DataFrames and Series you created in the last exercise."
   ]
  },
  {
   "cell_type": "code",
   "execution_count": 207,
   "metadata": {},
   "outputs": [],
   "source": [
    "# Import TfidfVectorizer\n",
    "from sklearn.feature_extraction.text import TfidfVectorizer"
   ]
  },
  {
   "cell_type": "code",
   "execution_count": 208,
   "metadata": {},
   "outputs": [],
   "source": [
    "# Initialize a TfidfVectorizer object: tfidf_vectorizer\n",
    "tfidf_vectorizer = TfidfVectorizer(stop_words='english', max_df=0.7)"
   ]
  },
  {
   "cell_type": "code",
   "execution_count": 209,
   "metadata": {},
   "outputs": [],
   "source": [
    "# Transform the training data: tfidf_train \n",
    "tfidf_train = tfidf_vectorizer.fit_transform(X_train)\n",
    "\n",
    "# Transform the test data: tfidf_test \n",
    "tfidf_test = tfidf_vectorizer.transform(X_test)"
   ]
  },
  {
   "cell_type": "code",
   "execution_count": 210,
   "metadata": {},
   "outputs": [
    {
     "name": "stdout",
     "output_type": "stream",
     "text": [
      "['00', '000', '0000', '00000031', '000035', '00006', '0001', '0001pt', '000ft', '000km']\n",
      "[[0. 0. 0. ... 0. 0. 0.]\n",
      " [0. 0. 0. ... 0. 0. 0.]\n",
      " [0. 0. 0. ... 0. 0. 0.]\n",
      " [0. 0. 0. ... 0. 0. 0.]\n",
      " [0. 0. 0. ... 0. 0. 0.]]\n"
     ]
    }
   ],
   "source": [
    "# Print the first 10 features\n",
    "print(tfidf_vectorizer.get_feature_names()[:10])\n",
    "\n",
    "# Print the first 5 vectors of the tfidf training data\n",
    "print(tfidf_train.A[:5])"
   ]
  },
  {
   "cell_type": "markdown",
   "metadata": {},
   "source": [
    "## Inspecting the vectors\n",
    "\n",
    "To get a better idea of how the vectors work, you'll investigate them by converting them into pandas DataFrames.\n",
    "\n",
    "Here, you'll use the same data structures you created in the previous two exercises (count_train, count_vectorizer, tfidf_train, tfidf_vectorizer) as well as pandas, which is imported as pd."
   ]
  },
  {
   "cell_type": "code",
   "execution_count": 211,
   "metadata": {},
   "outputs": [],
   "source": [
    "# Create the CountVectorizer DataFrame: count_df\n",
    "count_df = pd.DataFrame(count_train.A, columns=count_vectorizer.get_feature_names())"
   ]
  },
  {
   "cell_type": "code",
   "execution_count": 212,
   "metadata": {},
   "outputs": [],
   "source": [
    "# Create the TfidfVectorizer DataFrame: tfidf_df\n",
    "tfidf_df = pd.DataFrame(tfidf_train.A, columns=tfidf_vectorizer.get_feature_names())"
   ]
  },
  {
   "cell_type": "code",
   "execution_count": 217,
   "metadata": {},
   "outputs": [
    {
     "name": "stdout",
     "output_type": "stream",
     "text": [
      "   00  000  0000  00000031  000035  00006  0001  0001pt  000ft  000km  ...    \\\n",
      "0   0    0     0         0       0      0     0       0      0      0  ...     \n",
      "1   0    0     0         0       0      0     0       0      0      0  ...     \n",
      "2   0    0     0         0       0      0     0       0      0      0  ...     \n",
      "3   0    0     0         0       0      0     0       0      0      0  ...     \n",
      "4   0    0     0         0       0      0     0       0      0      0  ...     \n",
      "\n",
      "   حلب  عربي  عن  لم  ما  محاولات  من  هذا  والمرضى  ยงade  \n",
      "0    0     0   0   0   0        0   0    0        0      0  \n",
      "1    0     0   0   0   0        0   0    0        0      0  \n",
      "2    0     0   0   0   0        0   0    0        0      0  \n",
      "3    0     0   0   0   0        0   0    0        0      0  \n",
      "4    0     0   0   0   0        0   0    0        0      0  \n",
      "\n",
      "[5 rows x 56922 columns]\n",
      "    00  000  0000  00000031  000035  00006  0001  0001pt  000ft  000km  ...    \\\n",
      "0  0.0  0.0   0.0       0.0     0.0    0.0   0.0     0.0    0.0    0.0  ...     \n",
      "1  0.0  0.0   0.0       0.0     0.0    0.0   0.0     0.0    0.0    0.0  ...     \n",
      "2  0.0  0.0   0.0       0.0     0.0    0.0   0.0     0.0    0.0    0.0  ...     \n",
      "3  0.0  0.0   0.0       0.0     0.0    0.0   0.0     0.0    0.0    0.0  ...     \n",
      "4  0.0  0.0   0.0       0.0     0.0    0.0   0.0     0.0    0.0    0.0  ...     \n",
      "\n",
      "   حلب  عربي   عن   لم   ما  محاولات   من  هذا  والمرضى  ยงade  \n",
      "0  0.0   0.0  0.0  0.0  0.0      0.0  0.0  0.0      0.0    0.0  \n",
      "1  0.0   0.0  0.0  0.0  0.0      0.0  0.0  0.0      0.0    0.0  \n",
      "2  0.0   0.0  0.0  0.0  0.0      0.0  0.0  0.0      0.0    0.0  \n",
      "3  0.0   0.0  0.0  0.0  0.0      0.0  0.0  0.0      0.0    0.0  \n",
      "4  0.0   0.0  0.0  0.0  0.0      0.0  0.0  0.0      0.0    0.0  \n",
      "\n",
      "[5 rows x 56922 columns]\n"
     ]
    }
   ],
   "source": [
    "# Print the head of count_df\n",
    "print(count_df.head())\n",
    "\n",
    "# Print the head of tfidf_df\n",
    "print(tfidf_df.head())"
   ]
  },
  {
   "cell_type": "code",
   "execution_count": 214,
   "metadata": {},
   "outputs": [
    {
     "name": "stdout",
     "output_type": "stream",
     "text": [
      "set()\n"
     ]
    }
   ],
   "source": [
    "# Calculate the difference in columns: difference\n",
    "difference = set(count_df.columns) - set(tfidf_df.columns)\n",
    "print(difference)"
   ]
  },
  {
   "cell_type": "code",
   "execution_count": 28,
   "metadata": {},
   "outputs": [
    {
     "name": "stdout",
     "output_type": "stream",
     "text": [
      "False\n"
     ]
    }
   ],
   "source": [
    "# Check whether the DataFrames are equal\n",
    "print(count_df.equals(tfidf_df))"
   ]
  },
  {
   "cell_type": "markdown",
   "metadata": {},
   "source": [
    "### Training and testing the \"fake news\" model with CountVectorizer\n",
    "\n",
    "Now it's your turn to train the \"fake news\" model using the features you identified and extracted. In this first exercise you'll train and test a Naive Bayes model using the CountVectorizer data.\n",
    "\n",
    "The training and test sets have been created, and count_vectorizer, count_train, and count_test have been computed."
   ]
  },
  {
   "cell_type": "code",
   "execution_count": 218,
   "metadata": {},
   "outputs": [],
   "source": [
    "# Import the necessary modules\n",
    "from sklearn import metrics\n",
    "from sklearn.naive_bayes import MultinomialNB"
   ]
  },
  {
   "cell_type": "code",
   "execution_count": 219,
   "metadata": {},
   "outputs": [],
   "source": [
    "# Instantiate a Multinomial Naive Bayes classifier: nb_classifier\n",
    "nb_classifier = MultinomialNB()"
   ]
  },
  {
   "cell_type": "code",
   "execution_count": 220,
   "metadata": {},
   "outputs": [
    {
     "data": {
      "text/plain": [
       "MultinomialNB(alpha=1.0, class_prior=None, fit_prior=True)"
      ]
     },
     "execution_count": 220,
     "metadata": {},
     "output_type": "execute_result"
    }
   ],
   "source": [
    "# Fit the classifier to the training data\n",
    "nb_classifier.fit(count_train, y_train)"
   ]
  },
  {
   "cell_type": "code",
   "execution_count": 221,
   "metadata": {},
   "outputs": [],
   "source": [
    "# Create the predicted tags: pred\n",
    "pred = nb_classifier.predict(count_test)"
   ]
  },
  {
   "cell_type": "code",
   "execution_count": 222,
   "metadata": {},
   "outputs": [
    {
     "name": "stdout",
     "output_type": "stream",
     "text": [
      "0.893352462936394\n"
     ]
    }
   ],
   "source": [
    "# Calculate the accuracy score: score\n",
    "score = metrics.accuracy_score(y_test,pred)\n",
    "print(score)"
   ]
  },
  {
   "cell_type": "code",
   "execution_count": 223,
   "metadata": {},
   "outputs": [
    {
     "name": "stdout",
     "output_type": "stream",
     "text": [
      "[[ 865  143]\n",
      " [  80 1003]]\n"
     ]
    }
   ],
   "source": [
    "# Calculate the confusion matrix: cm\n",
    "cm = metrics.confusion_matrix(y_test, pred, labels=['FAKE', 'REAL'])\n",
    "print(cm)"
   ]
  },
  {
   "cell_type": "markdown",
   "metadata": {},
   "source": [
    "### Training and testing the \"fake news\" model with TfidfVectorizer\n",
    "\n",
    "Now that you have evaluated the model using the CountVectorizer, you'll do the same using the TfidfVectorizer with a Naive Bayes model.\n",
    "\n",
    "The training and test sets have been created, and tfidf_vectorizer, tfidf_train, and tfidf_test have been computed. Additionally, MultinomialNB and metrics have been imported from, respectively, sklearn.naive_bayes and sklearn."
   ]
  },
  {
   "cell_type": "code",
   "execution_count": 224,
   "metadata": {},
   "outputs": [],
   "source": [
    "# Create a Multinomial Naive Bayes classifier: nb_classifier\n",
    "nb_classifier = MultinomialNB()"
   ]
  },
  {
   "cell_type": "code",
   "execution_count": 225,
   "metadata": {},
   "outputs": [
    {
     "data": {
      "text/plain": [
       "MultinomialNB(alpha=1.0, class_prior=None, fit_prior=True)"
      ]
     },
     "execution_count": 225,
     "metadata": {},
     "output_type": "execute_result"
    }
   ],
   "source": [
    "# Fit the classifier to the training data\n",
    "nb_classifier.fit(tfidf_train, y_train)"
   ]
  },
  {
   "cell_type": "code",
   "execution_count": 226,
   "metadata": {},
   "outputs": [],
   "source": [
    "# Create the predicted tags: pred\n",
    "pred = nb_classifier.predict(tfidf_test)"
   ]
  },
  {
   "cell_type": "code",
   "execution_count": 228,
   "metadata": {},
   "outputs": [
    {
     "name": "stdout",
     "output_type": "stream",
     "text": [
      "0.8565279770444764\n"
     ]
    }
   ],
   "source": [
    "# Calculate the accuracy score: score\n",
    "score = metrics.accuracy_score(y_test, pred)\n",
    "print(score)"
   ]
  },
  {
   "cell_type": "code",
   "execution_count": 229,
   "metadata": {},
   "outputs": [
    {
     "name": "stdout",
     "output_type": "stream",
     "text": [
      "[[ 739  269]\n",
      " [  31 1052]]\n"
     ]
    }
   ],
   "source": [
    "# Calculate the confusion matrix: cm\n",
    "cm = metrics.confusion_matrix(y_test, pred, labels=['FAKE', 'REAL'])\n",
    "print(cm)"
   ]
  },
  {
   "cell_type": "markdown",
   "metadata": {},
   "source": [
    "### Improving your model\n",
    "\n",
    "Your job in this exercise is to test a few different alpha levels using the Tfidf vectors to determine if there is a better performing combination.\n",
    "\n",
    "The training and test sets have been created, and tfidf_vectorizer, tfidf_train, and tfidf_test have been computed."
   ]
  },
  {
   "cell_type": "code",
   "execution_count": 231,
   "metadata": {},
   "outputs": [],
   "source": [
    "import numpy as np"
   ]
  },
  {
   "cell_type": "code",
   "execution_count": 232,
   "metadata": {},
   "outputs": [],
   "source": [
    "# Create the list of alphas: alphas\n",
    "alphas = np.arange(0,1,0.1)"
   ]
  },
  {
   "cell_type": "code",
   "execution_count": 233,
   "metadata": {},
   "outputs": [],
   "source": [
    "# Define train_and_predict()\n",
    "def train_and_predict(alpha):\n",
    "    # Instantiate the classifier: nb_classifier\n",
    "    nb_classifier = MultinomialNB(alpha=alpha)\n",
    "    # Fit to the training data\n",
    "    nb_classifier.fit(tfidf_train, y_train)\n",
    "    # Predict the labels: pred\n",
    "    pred = nb_classifier.predict(tfidf_test)\n",
    "    # Compute accuracy: score\n",
    "    score = metrics.accuracy_score(pred, y_test)\n",
    "    return score"
   ]
  },
  {
   "cell_type": "code",
   "execution_count": 235,
   "metadata": {},
   "outputs": [
    {
     "name": "stdout",
     "output_type": "stream",
     "text": [
      "Alpha:  0.0\n"
     ]
    },
    {
     "name": "stderr",
     "output_type": "stream",
     "text": [
      "C:\\Python\\Anaconda3\\lib\\site-packages\\sklearn\\naive_bayes.py:472: UserWarning: alpha too small will result in numeric errors, setting alpha = 1.0e-10\n",
      "  'setting alpha = %.1e' % _ALPHA_MIN)\n"
     ]
    },
    {
     "name": "stdout",
     "output_type": "stream",
     "text": [
      "Score:  0.8813964610234337\n",
      "\n",
      "\n",
      "Alpha:  0.1\n",
      "Score:  0.8976566236250598\n",
      "\n",
      "\n",
      "Alpha:  0.2\n",
      "Score:  0.8938307030129125\n",
      "\n",
      "\n",
      "Alpha:  0.30000000000000004\n",
      "Score:  0.8900047824007652\n",
      "\n",
      "\n",
      "Alpha:  0.4\n",
      "Score:  0.8857006217120995\n",
      "\n",
      "\n",
      "Alpha:  0.5\n",
      "Score:  0.8842659014825442\n",
      "\n",
      "\n",
      "Alpha:  0.6000000000000001\n",
      "Score:  0.874701099952176\n",
      "\n",
      "\n",
      "Alpha:  0.7000000000000001\n",
      "Score:  0.8703969392635102\n",
      "\n",
      "\n",
      "Alpha:  0.8\n",
      "Score:  0.8660927785748446\n",
      "\n",
      "\n",
      "Alpha:  0.9\n",
      "Score:  0.8589191774270684\n",
      "\n",
      "\n"
     ]
    }
   ],
   "source": [
    "# Iterate over the alphas and print the corresponding score\n",
    "for alpha in alphas:\n",
    "    print('Alpha: ', alpha)\n",
    "    print('Score: ', train_and_predict(alpha))\n",
    "    print('\\n')"
   ]
  },
  {
   "cell_type": "markdown",
   "metadata": {},
   "source": [
    "### Inspecting your model\n",
    "\n",
    "Now that you have built a \"fake news\" classifier, you'll investigate what it has learned. You can map the important vector weights back to actual words using some simple inspection techniques.\n",
    "\n",
    "You have your well performing tfidf Naive Bayes classifier available as nb_classifier, and the vectors as tfidf_vectorizer."
   ]
  },
  {
   "cell_type": "code",
   "execution_count": 236,
   "metadata": {},
   "outputs": [],
   "source": [
    "# Get the class labels: class_labels\n",
    "class_labels = nb_classifier.classes_"
   ]
  },
  {
   "cell_type": "code",
   "execution_count": 237,
   "metadata": {},
   "outputs": [],
   "source": [
    "# Extract the features: feature_names\n",
    "feature_names = tfidf_vectorizer.get_feature_names()"
   ]
  },
  {
   "cell_type": "code",
   "execution_count": 238,
   "metadata": {},
   "outputs": [
    {
     "data": {
      "text/plain": [
       "array(['FAKE', 'REAL'], dtype='<U4')"
      ]
     },
     "execution_count": 238,
     "metadata": {},
     "output_type": "execute_result"
    }
   ],
   "source": [
    "class_labels"
   ]
  },
  {
   "cell_type": "code",
   "execution_count": 239,
   "metadata": {},
   "outputs": [
    {
     "data": {
      "text/plain": [
       "['00',\n",
       " '000',\n",
       " '0000',\n",
       " '00000031',\n",
       " '000035',\n",
       " '00006',\n",
       " '0001',\n",
       " '0001pt',\n",
       " '000ft',\n",
       " '000km',\n",
       " '001',\n",
       " '0011',\n",
       " '002',\n",
       " '003',\n",
       " '004',\n",
       " '006',\n",
       " '006s',\n",
       " '007',\n",
       " '007s',\n",
       " '008',\n",
       " '008s',\n",
       " '009',\n",
       " '0099',\n",
       " '00am',\n",
       " '00p',\n",
       " '00pm',\n",
       " '01',\n",
       " '010',\n",
       " '013',\n",
       " '014',\n",
       " '015',\n",
       " '016',\n",
       " '018',\n",
       " '01am',\n",
       " '02',\n",
       " '020',\n",
       " '022',\n",
       " '023',\n",
       " '024',\n",
       " '025',\n",
       " '027',\n",
       " '028',\n",
       " '02welcome',\n",
       " '03',\n",
       " '031',\n",
       " '032',\n",
       " '0325',\n",
       " '033',\n",
       " '034',\n",
       " '035',\n",
       " '037',\n",
       " '039',\n",
       " '03eb',\n",
       " '04',\n",
       " '040',\n",
       " '0400',\n",
       " '042',\n",
       " '044',\n",
       " '048',\n",
       " '049',\n",
       " '04pm',\n",
       " '05',\n",
       " '0509245d29',\n",
       " '052',\n",
       " '056',\n",
       " '06',\n",
       " '062',\n",
       " '066',\n",
       " '068',\n",
       " '06pm',\n",
       " '07',\n",
       " '0700',\n",
       " '075',\n",
       " '076',\n",
       " '079',\n",
       " '07dryempjx',\n",
       " '08',\n",
       " '080',\n",
       " '081',\n",
       " '082',\n",
       " '084',\n",
       " '089',\n",
       " '0891',\n",
       " '09',\n",
       " '098263',\n",
       " '09am',\n",
       " '09pm',\n",
       " '0_jgdktlmn',\n",
       " '0a_merrill',\n",
       " '0d',\n",
       " '0fjjvowyhg8qtskiz',\n",
       " '0h4at2yetra17uxetni02ls2jeg0mty45jrcu7mrzsrpcbq464i',\n",
       " '0hq3vb2giv',\n",
       " '0in',\n",
       " '0jsn6pjkan',\n",
       " '0oeekvljlt',\n",
       " '0pt',\n",
       " '0t5',\n",
       " '0txrbwvobzz4fi5nksw6k5a6cxzbb3juxthmdiz93cby8gvrqiypzhajvjnt2',\n",
       " '0womdwalmi',\n",
       " '0x',\n",
       " '10',\n",
       " '100',\n",
       " '1000',\n",
       " '10009020',\n",
       " '1000s',\n",
       " '1001',\n",
       " '10021',\n",
       " '10028',\n",
       " '100515p',\n",
       " '100bn',\n",
       " '100c',\n",
       " '100k',\n",
       " '100m',\n",
       " '100percentfedup',\n",
       " '100s',\n",
       " '100th',\n",
       " '101',\n",
       " '1010359',\n",
       " '1019',\n",
       " '101st',\n",
       " '102',\n",
       " '1024026',\n",
       " '1026',\n",
       " '102816',\n",
       " '102836002',\n",
       " '102k',\n",
       " '102m',\n",
       " '103',\n",
       " '1033',\n",
       " '103rd',\n",
       " '104',\n",
       " '1040',\n",
       " '104396002',\n",
       " '104893',\n",
       " '105',\n",
       " '106',\n",
       " '106116001',\n",
       " '107',\n",
       " '1070',\n",
       " '107th',\n",
       " '108',\n",
       " '109',\n",
       " '1095',\n",
       " '1098',\n",
       " '10bn',\n",
       " '10ft',\n",
       " '10kb',\n",
       " '10m',\n",
       " '10m54s',\n",
       " '10mm',\n",
       " '10pm',\n",
       " '10th',\n",
       " '10ths',\n",
       " '10x',\n",
       " '10yrs',\n",
       " '11',\n",
       " '110',\n",
       " '1100',\n",
       " '1101',\n",
       " '110136001',\n",
       " '1105',\n",
       " '111',\n",
       " '112',\n",
       " '1121',\n",
       " '112145924',\n",
       " '1122930jg',\n",
       " '112th',\n",
       " '113',\n",
       " '113bn',\n",
       " '114',\n",
       " '1146',\n",
       " '114th',\n",
       " '115',\n",
       " '11540',\n",
       " '115aug',\n",
       " '115th',\n",
       " '116',\n",
       " '1160',\n",
       " '117',\n",
       " '11702',\n",
       " '1176',\n",
       " '118',\n",
       " '1180',\n",
       " '119',\n",
       " '1190',\n",
       " '11am',\n",
       " '11cm',\n",
       " '11mn',\n",
       " '11pm',\n",
       " '11th',\n",
       " '11truther',\n",
       " '12',\n",
       " '120',\n",
       " '1200',\n",
       " '1207',\n",
       " '121',\n",
       " '122',\n",
       " '1228',\n",
       " '123',\n",
       " '12333',\n",
       " '123421',\n",
       " '12345',\n",
       " '124',\n",
       " '125',\n",
       " '1252',\n",
       " '126',\n",
       " '12619print',\n",
       " '1265',\n",
       " '127',\n",
       " '127million',\n",
       " '128',\n",
       " '1280',\n",
       " '1287',\n",
       " '128th',\n",
       " '129',\n",
       " '12hdlgeeua87t2ju8m4tbro247yj5u2tvp',\n",
       " '12k',\n",
       " '12m',\n",
       " '12mn',\n",
       " '12pm',\n",
       " '12sso1zj2bbdguiraddmamlnets7oc1',\n",
       " '12th',\n",
       " '13',\n",
       " '130',\n",
       " '1300',\n",
       " '1301',\n",
       " '1305',\n",
       " '130500',\n",
       " '131',\n",
       " '132',\n",
       " '133',\n",
       " '134',\n",
       " '135',\n",
       " '135s',\n",
       " '136',\n",
       " '13603',\n",
       " '1364',\n",
       " '137',\n",
       " '138',\n",
       " '139',\n",
       " '1393',\n",
       " '13th',\n",
       " '13y',\n",
       " '13½',\n",
       " '14',\n",
       " '140',\n",
       " '1400',\n",
       " '1400s',\n",
       " '140230',\n",
       " '141',\n",
       " '142',\n",
       " '1425817301725',\n",
       " '143',\n",
       " '143m',\n",
       " '144',\n",
       " '14482302',\n",
       " '145',\n",
       " '146',\n",
       " '1460',\n",
       " '147',\n",
       " '148',\n",
       " '149',\n",
       " '14k',\n",
       " '14kwh',\n",
       " '14m',\n",
       " '14th',\n",
       " '15',\n",
       " '150',\n",
       " '1500',\n",
       " '1500s',\n",
       " '150th',\n",
       " '151',\n",
       " '1513',\n",
       " '1517',\n",
       " '152',\n",
       " '1521',\n",
       " '1522',\n",
       " '153',\n",
       " '1538',\n",
       " '1543',\n",
       " '155',\n",
       " '1552',\n",
       " '1555',\n",
       " '1559',\n",
       " '156',\n",
       " '1562',\n",
       " '1563',\n",
       " '1566',\n",
       " '1569',\n",
       " '157',\n",
       " '1576',\n",
       " '1578',\n",
       " '158',\n",
       " '1584',\n",
       " '1588',\n",
       " '15893',\n",
       " '159',\n",
       " '1591',\n",
       " '15975445007',\n",
       " '15e',\n",
       " '15ft',\n",
       " '15million',\n",
       " '15mm',\n",
       " '15pm',\n",
       " '15s',\n",
       " '15th',\n",
       " '15yrs',\n",
       " '16',\n",
       " '160',\n",
       " '1600',\n",
       " '1600s',\n",
       " '1605',\n",
       " '1606',\n",
       " '160716',\n",
       " '161',\n",
       " '1610',\n",
       " '161029',\n",
       " '162',\n",
       " '1621',\n",
       " '16236675004',\n",
       " '1624575',\n",
       " '162lvbnkan',\n",
       " '163',\n",
       " '164',\n",
       " '165',\n",
       " '1650',\n",
       " '1652',\n",
       " '166',\n",
       " '167',\n",
       " '168',\n",
       " '1689',\n",
       " '169',\n",
       " '16bn',\n",
       " '16k',\n",
       " '16s',\n",
       " '16th',\n",
       " '17',\n",
       " '170',\n",
       " '1700',\n",
       " '171',\n",
       " '1711',\n",
       " '172',\n",
       " '1720',\n",
       " '173',\n",
       " '1730s',\n",
       " '174',\n",
       " '1745',\n",
       " '175',\n",
       " '1752',\n",
       " '176',\n",
       " '1763',\n",
       " '1766',\n",
       " '177',\n",
       " '1770',\n",
       " '1775',\n",
       " '1776',\n",
       " '1777',\n",
       " '178',\n",
       " '1780',\n",
       " '1784',\n",
       " '1786',\n",
       " '1787',\n",
       " '1788',\n",
       " '1789',\n",
       " '179',\n",
       " '1790',\n",
       " '1791',\n",
       " '1793',\n",
       " '1793qianlong',\n",
       " '1795583',\n",
       " '1797',\n",
       " '1798',\n",
       " '1799',\n",
       " '17b2908f',\n",
       " '17k',\n",
       " '17s',\n",
       " '17th',\n",
       " '18',\n",
       " '180',\n",
       " '1800',\n",
       " '1800s',\n",
       " '1801',\n",
       " '1804',\n",
       " '1806',\n",
       " '1808',\n",
       " '1812',\n",
       " '1814',\n",
       " '1815',\n",
       " '1816',\n",
       " '1817',\n",
       " '1818',\n",
       " '182',\n",
       " '1820',\n",
       " '1820s',\n",
       " '1823',\n",
       " '1824',\n",
       " '1825',\n",
       " '1827',\n",
       " '1829',\n",
       " '182nd',\n",
       " '183',\n",
       " '1830',\n",
       " '1830s',\n",
       " '1831',\n",
       " '1835',\n",
       " '1837',\n",
       " '1838',\n",
       " '1839',\n",
       " '184',\n",
       " '1840',\n",
       " '1840s',\n",
       " '1841',\n",
       " '1842',\n",
       " '1844',\n",
       " '1845',\n",
       " '1846',\n",
       " '1848',\n",
       " '1849',\n",
       " '185',\n",
       " '1850',\n",
       " '1850s',\n",
       " '1851',\n",
       " '1853',\n",
       " '1854',\n",
       " '1855',\n",
       " '1856',\n",
       " '1857',\n",
       " '1858',\n",
       " '1859',\n",
       " '186',\n",
       " '1860',\n",
       " '1860s',\n",
       " '1861',\n",
       " '1862',\n",
       " '1863',\n",
       " '1864',\n",
       " '1865',\n",
       " '1868',\n",
       " '187',\n",
       " '1870',\n",
       " '1870s',\n",
       " '1871',\n",
       " '1872',\n",
       " '1873',\n",
       " '1876',\n",
       " '1877',\n",
       " '1878',\n",
       " '188',\n",
       " '1880',\n",
       " '1881',\n",
       " '1883',\n",
       " '1884',\n",
       " '1885',\n",
       " '1886',\n",
       " '1887',\n",
       " '189',\n",
       " '1890',\n",
       " '1890s',\n",
       " '1892',\n",
       " '1893',\n",
       " '1895',\n",
       " '1896',\n",
       " '1897',\n",
       " '1898',\n",
       " '1899',\n",
       " '18f',\n",
       " '18m',\n",
       " '18th',\n",
       " '19',\n",
       " '190',\n",
       " '1900',\n",
       " '1900s',\n",
       " '1901',\n",
       " '1903',\n",
       " '1904',\n",
       " '1905',\n",
       " '1907',\n",
       " '1908',\n",
       " '1909',\n",
       " '190th',\n",
       " '191',\n",
       " '1910',\n",
       " '1910s',\n",
       " '1911',\n",
       " '1912',\n",
       " '1913',\n",
       " '1914',\n",
       " '1915',\n",
       " '1916',\n",
       " '1917',\n",
       " '1918',\n",
       " '1919',\n",
       " '191bn',\n",
       " '192',\n",
       " '1920',\n",
       " '1920s',\n",
       " '1921',\n",
       " '1922',\n",
       " '1923',\n",
       " '1924',\n",
       " '1925',\n",
       " '1926',\n",
       " '1927',\n",
       " '1928',\n",
       " '1929',\n",
       " '193',\n",
       " '1930',\n",
       " '1930s',\n",
       " '1931',\n",
       " '1932',\n",
       " '1933',\n",
       " '1934',\n",
       " '1935',\n",
       " '1936',\n",
       " '1937',\n",
       " '1938',\n",
       " '1939',\n",
       " '194',\n",
       " '1940',\n",
       " '1940s',\n",
       " '1941',\n",
       " '1942',\n",
       " '1943',\n",
       " '1944',\n",
       " '1945',\n",
       " '1946',\n",
       " '1947',\n",
       " '1948',\n",
       " '1949',\n",
       " '195',\n",
       " '1950',\n",
       " '1950s',\n",
       " '1951',\n",
       " '1952',\n",
       " '1953',\n",
       " '1954',\n",
       " '1955',\n",
       " '1956',\n",
       " '1957',\n",
       " '1958',\n",
       " '19580395003',\n",
       " '19580405001',\n",
       " '1959',\n",
       " '196',\n",
       " '1960',\n",
       " '1960s',\n",
       " '1961',\n",
       " '19617315012',\n",
       " '1962',\n",
       " '1963',\n",
       " '1964',\n",
       " '1965',\n",
       " '1966',\n",
       " '1967',\n",
       " '1968',\n",
       " '1969',\n",
       " '197',\n",
       " '1970',\n",
       " '1970s',\n",
       " '1971',\n",
       " '1972',\n",
       " '1973',\n",
       " '1974',\n",
       " '1975',\n",
       " '1976',\n",
       " '1977',\n",
       " '1978',\n",
       " '1979',\n",
       " '1980',\n",
       " '1980s',\n",
       " '1981',\n",
       " '1982',\n",
       " '1983',\n",
       " '1984',\n",
       " '1985',\n",
       " '1986',\n",
       " '1987',\n",
       " '1988',\n",
       " '1989',\n",
       " '198974609375',\n",
       " '199',\n",
       " '1990',\n",
       " '1990s',\n",
       " '1991',\n",
       " '1992',\n",
       " '1993',\n",
       " '1994',\n",
       " '1995',\n",
       " '1996',\n",
       " '1997',\n",
       " '1998',\n",
       " '1999',\n",
       " '19th',\n",
       " '1_2',\n",
       " '1alvwe4bralkh',\n",
       " '1b',\n",
       " '1b1',\n",
       " '1bbswheiehlqifxzus3j35',\n",
       " '1billion',\n",
       " '1bjxt3uhim5fqn93gb0hkxakuarz99d7xcitzftye',\n",
       " '1bs',\n",
       " '1huziqim53',\n",
       " '1hztlj',\n",
       " '1is9krdfnysv0buhf8elizydmsrpwn944flw1tofjw46j4uaxsbrbp284wifmv8n',\n",
       " '1jquvafupk',\n",
       " '1k',\n",
       " '1m',\n",
       " '1m08s',\n",
       " '1mdb',\n",
       " '1mgfbvy',\n",
       " '1million',\n",
       " '1mm',\n",
       " '1mwvcarc3jsuon8rrxype4espweqzd6zsrbhgh4uqf56pcft2ubnqku4wtgoecsw',\n",
       " '1o6qorkewr',\n",
       " '1oo',\n",
       " '1oth',\n",
       " '1oxutnexun',\n",
       " '1st',\n",
       " '1tn',\n",
       " '1tr',\n",
       " '1wrwsaijjsohk5rzj',\n",
       " '1z',\n",
       " '20',\n",
       " '200',\n",
       " '2000',\n",
       " '2000s',\n",
       " '2001',\n",
       " '2002',\n",
       " '2003',\n",
       " '2004',\n",
       " '2005',\n",
       " '2006',\n",
       " '2007',\n",
       " '2008',\n",
       " '2009',\n",
       " '200k',\n",
       " '200m',\n",
       " '200x',\n",
       " '201',\n",
       " '2010',\n",
       " '2010s',\n",
       " '2011',\n",
       " '2012',\n",
       " '2012newstart',\n",
       " '2013',\n",
       " '2014',\n",
       " '2015',\n",
       " '20150308054059',\n",
       " '2016',\n",
       " '20161026_spain1',\n",
       " '20161026_spain3',\n",
       " '2016a',\n",
       " '2016b',\n",
       " '2016ers',\n",
       " '2017',\n",
       " '2018',\n",
       " '2019',\n",
       " '202',\n",
       " '2020',\n",
       " '2021',\n",
       " '2022',\n",
       " '2023',\n",
       " '2024',\n",
       " '2025',\n",
       " '203',\n",
       " '2030',\n",
       " '2032',\n",
       " '2033',\n",
       " '2034',\n",
       " '2035',\n",
       " '2036',\n",
       " '2040',\n",
       " '2042',\n",
       " '2043',\n",
       " '2045',\n",
       " '205',\n",
       " '2050',\n",
       " '20535',\n",
       " '206',\n",
       " '2064',\n",
       " '207',\n",
       " '2071',\n",
       " '208',\n",
       " '209',\n",
       " '20am',\n",
       " '20book',\n",
       " '20gs',\n",
       " '20k',\n",
       " '20million',\n",
       " '20p',\n",
       " '20power',\n",
       " '20s',\n",
       " '20th',\n",
       " '20tn',\n",
       " '21',\n",
       " '210',\n",
       " '2100',\n",
       " '2102',\n",
       " '211',\n",
       " '2110',\n",
       " '2117',\n",
       " '212',\n",
       " '213',\n",
       " '2130',\n",
       " '214',\n",
       " '2146815',\n",
       " '2149237058061490',\n",
       " '214r',\n",
       " '215',\n",
       " '216',\n",
       " '217',\n",
       " '218',\n",
       " '219',\n",
       " '21mn',\n",
       " '21s',\n",
       " '21st',\n",
       " '21wire',\n",
       " '22',\n",
       " '220',\n",
       " '2205',\n",
       " '221',\n",
       " '221day_m25',\n",
       " '222',\n",
       " '223',\n",
       " '224',\n",
       " '225',\n",
       " '226',\n",
       " '226t',\n",
       " '227',\n",
       " '227kg',\n",
       " '228',\n",
       " '229',\n",
       " '22_1171',\n",
       " '22am',\n",
       " '22autoupdate',\n",
       " '22basemap',\n",
       " '22default',\n",
       " '22event',\n",
       " '22feed',\n",
       " '22grayscale',\n",
       " '22list',\n",
       " '22listformat',\n",
       " '22m',\n",
       " '22m3',\n",
       " '22map',\n",
       " '22mapposition',\n",
       " '22nd',\n",
       " '22newest',\n",
       " '22overlays',\n",
       " '22plates',\n",
       " '22restrictlisttomap',\n",
       " '22search',\n",
       " '22sort',\n",
       " '22th',\n",
       " '22timezone',\n",
       " '22us1000778i',\n",
       " '22utc',\n",
       " '22viewmodes',\n",
       " '23',\n",
       " '230',\n",
       " '231',\n",
       " '232',\n",
       " '233',\n",
       " '234',\n",
       " '2344',\n",
       " '235',\n",
       " '236',\n",
       " '237',\n",
       " '238',\n",
       " '239',\n",
       " '23k',\n",
       " '23rd',\n",
       " '24',\n",
       " '240',\n",
       " '241',\n",
       " '242',\n",
       " '243',\n",
       " '244',\n",
       " '24454002',\n",
       " '244th',\n",
       " '245',\n",
       " '2450',\n",
       " '246',\n",
       " '247',\n",
       " '2472',\n",
       " '24888',\n",
       " '249',\n",
       " '24news',\n",
       " '24th',\n",
       " '25',\n",
       " '250',\n",
       " '25018606',\n",
       " '250m',\n",
       " '251',\n",
       " '2510',\n",
       " '252',\n",
       " '253207',\n",
       " '254',\n",
       " '25421',\n",
       " '2544',\n",
       " '255',\n",
       " '2552',\n",
       " '256',\n",
       " '257',\n",
       " '25751119',\n",
       " '258',\n",
       " '25am',\n",
       " '25m',\n",
       " '25th',\n",
       " '26',\n",
       " '260',\n",
       " '261',\n",
       " '262',\n",
       " '263',\n",
       " '2635',\n",
       " '264',\n",
       " '265',\n",
       " '2656002',\n",
       " '267',\n",
       " '2670',\n",
       " '268',\n",
       " '269',\n",
       " '26t18',\n",
       " '26th',\n",
       " '27',\n",
       " '270',\n",
       " '2700',\n",
       " '2700922',\n",
       " '27026',\n",
       " '2703',\n",
       " '271',\n",
       " '2711',\n",
       " '27111',\n",
       " '272',\n",
       " '273',\n",
       " '274',\n",
       " '275',\n",
       " '276',\n",
       " '277',\n",
       " '278',\n",
       " '279',\n",
       " '27th',\n",
       " '28',\n",
       " '280',\n",
       " '281',\n",
       " '282',\n",
       " '283',\n",
       " '284',\n",
       " '28403',\n",
       " '285',\n",
       " '286',\n",
       " '28657',\n",
       " '287',\n",
       " '288',\n",
       " '289',\n",
       " '28am',\n",
       " '28th',\n",
       " '29',\n",
       " '290',\n",
       " '2900',\n",
       " '2900100001',\n",
       " '291',\n",
       " '292',\n",
       " '293',\n",
       " '29385',\n",
       " '29385ote',\n",
       " '294',\n",
       " '295',\n",
       " '2950100001',\n",
       " '29549',\n",
       " '296',\n",
       " '298',\n",
       " '29th',\n",
       " '2a',\n",
       " '2b',\n",
       " '2bowles',\n",
       " '2c',\n",
       " '2ccrww3wqeay',\n",
       " '2ckus9qi9g',\n",
       " '2cs',\n",
       " '2degrees',\n",
       " '2f',\n",
       " '2f102516_6',\n",
       " '2f16',\n",
       " '2fnews',\n",
       " '2fpreventdisease',\n",
       " '2gary2',\n",
       " '2gkhtimovh',\n",
       " '2hibftjxscml3k8k6mbdi8p9zvcmjsxbppcyrffw9a6t',\n",
       " '2hzuvxyp8k',\n",
       " '2k',\n",
       " '2kkpwafd9pxaqnwjmpd4amk60l3n',\n",
       " '2l',\n",
       " '2m52s',\n",
       " '2nd',\n",
       " '2o16',\n",
       " '2paragraphs',\n",
       " '2percent',\n",
       " '2plwa3cerym6byp60362co7cpzochyhsvgppzyh0qex',\n",
       " '2s',\n",
       " '2x',\n",
       " '2yiugiyosv',\n",
       " '2yxlvcf03qflflgzzfn7fcv5jw',\n",
       " '2zksz3xesc7mmpgrzanh4pk1dlr',\n",
       " '30',\n",
       " '300',\n",
       " '3000',\n",
       " '3001',\n",
       " '300k',\n",
       " '300kg',\n",
       " '301',\n",
       " '302',\n",
       " '3037',\n",
       " '304',\n",
       " '305',\n",
       " '306',\n",
       " '307',\n",
       " '308',\n",
       " '309',\n",
       " '309533',\n",
       " '30am',\n",
       " '30grams',\n",
       " '30k',\n",
       " '30mki',\n",
       " '30p',\n",
       " '30pm',\n",
       " '30s',\n",
       " '30sm',\n",
       " '30th',\n",
       " '31',\n",
       " '310',\n",
       " '312',\n",
       " '313',\n",
       " '314',\n",
       " '315',\n",
       " '316',\n",
       " '317',\n",
       " '31715',\n",
       " '31721',\n",
       " '318',\n",
       " '319',\n",
       " '31am',\n",
       " '31s',\n",
       " '31st',\n",
       " '31yrs',\n",
       " '32',\n",
       " '320',\n",
       " '321',\n",
       " '3222705',\n",
       " '3225440',\n",
       " '323',\n",
       " '324',\n",
       " '325',\n",
       " '326',\n",
       " '328',\n",
       " '32833',\n",
       " '329',\n",
       " '32937',\n",
       " '32nd',\n",
       " '33',\n",
       " '330',\n",
       " '33010',\n",
       " '330m',\n",
       " '331',\n",
       " '33127',\n",
       " '332',\n",
       " '333',\n",
       " '334',\n",
       " '334m',\n",
       " '33552',\n",
       " '336',\n",
       " '33656002',\n",
       " '337',\n",
       " '3370',\n",
       " '33713',\n",
       " '33722',\n",
       " '33739',\n",
       " '338',\n",
       " '339',\n",
       " '33k',\n",
       " '33rd',\n",
       " '33s',\n",
       " '33yo',\n",
       " '34',\n",
       " '340',\n",
       " '34000',\n",
       " '342',\n",
       " '343',\n",
       " '344',\n",
       " '345',\n",
       " '3454',\n",
       " '346',\n",
       " '347',\n",
       " '348',\n",
       " '349',\n",
       " '34th',\n",
       " '35',\n",
       " '350',\n",
       " '3500',\n",
       " ...]"
      ]
     },
     "execution_count": 239,
     "metadata": {},
     "output_type": "execute_result"
    }
   ],
   "source": [
    "feature_names"
   ]
  },
  {
   "cell_type": "code",
   "execution_count": 240,
   "metadata": {},
   "outputs": [],
   "source": [
    "# Zip the feature names together with the coefficient array and sort by weights: feat_with_weights\n",
    "feat_with_weights = sorted(zip(nb_classifier.coef_[0], feature_names))"
   ]
  },
  {
   "cell_type": "code",
   "execution_count": 241,
   "metadata": {},
   "outputs": [
    {
     "data": {
      "text/plain": [
       "[(-11.316312804238807, '0000'),\n",
       " (-11.316312804238807, '000035'),\n",
       " (-11.316312804238807, '0001'),\n",
       " (-11.316312804238807, '0001pt'),\n",
       " (-11.316312804238807, '000km'),\n",
       " (-11.316312804238807, '0011'),\n",
       " (-11.316312804238807, '006s'),\n",
       " (-11.316312804238807, '007'),\n",
       " (-11.316312804238807, '007s'),\n",
       " (-11.316312804238807, '008s'),\n",
       " (-11.316312804238807, '0099'),\n",
       " (-11.316312804238807, '00am'),\n",
       " (-11.316312804238807, '00p'),\n",
       " (-11.316312804238807, '00pm'),\n",
       " (-11.316312804238807, '014'),\n",
       " (-11.316312804238807, '015'),\n",
       " (-11.316312804238807, '018'),\n",
       " (-11.316312804238807, '01am'),\n",
       " (-11.316312804238807, '020'),\n",
       " (-11.316312804238807, '023'),\n",
       " (-11.316312804238807, '02welcome'),\n",
       " (-11.316312804238807, '031'),\n",
       " (-11.316312804238807, '032'),\n",
       " (-11.316312804238807, '0325'),\n",
       " (-11.316312804238807, '033'),\n",
       " (-11.316312804238807, '034'),\n",
       " (-11.316312804238807, '039'),\n",
       " (-11.316312804238807, '03eb'),\n",
       " (-11.316312804238807, '0400'),\n",
       " (-11.316312804238807, '049'),\n",
       " (-11.316312804238807, '04pm'),\n",
       " (-11.316312804238807, '0509245d29'),\n",
       " (-11.316312804238807, '052'),\n",
       " (-11.316312804238807, '06pm'),\n",
       " (-11.316312804238807, '0700'),\n",
       " (-11.316312804238807, '079'),\n",
       " (-11.316312804238807, '07dryempjx'),\n",
       " (-11.316312804238807, '081'),\n",
       " (-11.316312804238807, '082'),\n",
       " (-11.316312804238807, '084'),\n",
       " (-11.316312804238807, '0891'),\n",
       " (-11.316312804238807, '098263'),\n",
       " (-11.316312804238807, '0_jgdktlmn'),\n",
       " (-11.316312804238807, '0a_merrill'),\n",
       " (-11.316312804238807, '0d'),\n",
       " (-11.316312804238807, '0fjjvowyhg8qtskiz'),\n",
       " (-11.316312804238807, '0h4at2yetra17uxetni02ls2jeg0mty45jrcu7mrzsrpcbq464i'),\n",
       " (-11.316312804238807, '0hq3vb2giv'),\n",
       " (-11.316312804238807, '0in'),\n",
       " (-11.316312804238807, '0jsn6pjkan'),\n",
       " (-11.316312804238807, '0oeekvljlt'),\n",
       " (-11.316312804238807, '0pt'),\n",
       " (-11.316312804238807, '0t5'),\n",
       " (-11.316312804238807,\n",
       "  '0txrbwvobzz4fi5nksw6k5a6cxzbb3juxthmdiz93cby8gvrqiypzhajvjnt2'),\n",
       " (-11.316312804238807, '0womdwalmi'),\n",
       " (-11.316312804238807, '0x'),\n",
       " (-11.316312804238807, '1000'),\n",
       " (-11.316312804238807, '10009020'),\n",
       " (-11.316312804238807, '1000s'),\n",
       " (-11.316312804238807, '100515p'),\n",
       " (-11.316312804238807, '100bn'),\n",
       " (-11.316312804238807, '100percentfedup'),\n",
       " (-11.316312804238807, '1010359'),\n",
       " (-11.316312804238807, '1019'),\n",
       " (-11.316312804238807, '1024026'),\n",
       " (-11.316312804238807, '1026'),\n",
       " (-11.316312804238807, '102816'),\n",
       " (-11.316312804238807, '102836002'),\n",
       " (-11.316312804238807, '104396002'),\n",
       " (-11.316312804238807, '104893'),\n",
       " (-11.316312804238807, '106116001'),\n",
       " (-11.316312804238807, '10ft'),\n",
       " (-11.316312804238807, '10kb'),\n",
       " (-11.316312804238807, '10m54s'),\n",
       " (-11.316312804238807, '10mm'),\n",
       " (-11.316312804238807, '10pm'),\n",
       " (-11.316312804238807, '10x'),\n",
       " (-11.316312804238807, '10yrs'),\n",
       " (-11.316312804238807, '1100'),\n",
       " (-11.316312804238807, '1101'),\n",
       " (-11.316312804238807, '110136001'),\n",
       " (-11.316312804238807, '111'),\n",
       " (-11.316312804238807, '1121'),\n",
       " (-11.316312804238807, '112145924'),\n",
       " (-11.316312804238807, '1122930jg'),\n",
       " (-11.316312804238807, '1146'),\n",
       " (-11.316312804238807, '11540'),\n",
       " (-11.316312804238807, '115aug'),\n",
       " (-11.316312804238807, '1160'),\n",
       " (-11.316312804238807, '11702'),\n",
       " (-11.316312804238807, '1176'),\n",
       " (-11.316312804238807, '11cm'),\n",
       " (-11.316312804238807, '11mn'),\n",
       " (-11.316312804238807, '11pm'),\n",
       " (-11.316312804238807, '11truther'),\n",
       " (-11.316312804238807, '1200'),\n",
       " (-11.316312804238807, '1207'),\n",
       " (-11.316312804238807, '123421'),\n",
       " (-11.316312804238807, '12345'),\n",
       " (-11.316312804238807, '124'),\n",
       " (-11.316312804238807, '1252'),\n",
       " (-11.316312804238807, '12619print'),\n",
       " (-11.316312804238807, '1265'),\n",
       " (-11.316312804238807, '127million'),\n",
       " (-11.316312804238807, '1280'),\n",
       " (-11.316312804238807, '1287'),\n",
       " (-11.316312804238807, '12hdlgeeua87t2ju8m4tbro247yj5u2tvp'),\n",
       " (-11.316312804238807, '12k'),\n",
       " (-11.316312804238807, '12m'),\n",
       " (-11.316312804238807, '12mn'),\n",
       " (-11.316312804238807, '12pm'),\n",
       " (-11.316312804238807, '12sso1zj2bbdguiraddmamlnets7oc1'),\n",
       " (-11.316312804238807, '1300'),\n",
       " (-11.316312804238807, '1301'),\n",
       " (-11.316312804238807, '1305'),\n",
       " (-11.316312804238807, '130500'),\n",
       " (-11.316312804238807, '135s'),\n",
       " (-11.316312804238807, '13603'),\n",
       " (-11.316312804238807, '1364'),\n",
       " (-11.316312804238807, '1393'),\n",
       " (-11.316312804238807, '13y'),\n",
       " (-11.316312804238807, '1400'),\n",
       " (-11.316312804238807, '1400s'),\n",
       " (-11.316312804238807, '140230'),\n",
       " (-11.316312804238807, '1425817301725'),\n",
       " (-11.316312804238807, '14482302'),\n",
       " (-11.316312804238807, '1460'),\n",
       " (-11.316312804238807, '149'),\n",
       " (-11.316312804238807, '14k'),\n",
       " (-11.316312804238807, '14kwh'),\n",
       " (-11.316312804238807, '1500'),\n",
       " (-11.316312804238807, '1513'),\n",
       " (-11.316312804238807, '1517'),\n",
       " (-11.316312804238807, '1521'),\n",
       " (-11.316312804238807, '1522'),\n",
       " (-11.316312804238807, '153'),\n",
       " (-11.316312804238807, '1538'),\n",
       " (-11.316312804238807, '1543'),\n",
       " (-11.316312804238807, '1552'),\n",
       " (-11.316312804238807, '1555'),\n",
       " (-11.316312804238807, '1559'),\n",
       " (-11.316312804238807, '1562'),\n",
       " (-11.316312804238807, '1563'),\n",
       " (-11.316312804238807, '1566'),\n",
       " (-11.316312804238807, '1569'),\n",
       " (-11.316312804238807, '1576'),\n",
       " (-11.316312804238807, '1578'),\n",
       " (-11.316312804238807, '1584'),\n",
       " (-11.316312804238807, '1588'),\n",
       " (-11.316312804238807, '15893'),\n",
       " (-11.316312804238807, '1591'),\n",
       " (-11.316312804238807, '15975445007'),\n",
       " (-11.316312804238807, '15ft'),\n",
       " (-11.316312804238807, '15million'),\n",
       " (-11.316312804238807, '15mm'),\n",
       " (-11.316312804238807, '15pm'),\n",
       " (-11.316312804238807, '15yrs'),\n",
       " (-11.316312804238807, '1600s'),\n",
       " (-11.316312804238807, '1605'),\n",
       " (-11.316312804238807, '1606'),\n",
       " (-11.316312804238807, '160716'),\n",
       " (-11.316312804238807, '1610'),\n",
       " (-11.316312804238807, '161029'),\n",
       " (-11.316312804238807, '16236675004'),\n",
       " (-11.316312804238807, '1624575'),\n",
       " (-11.316312804238807, '162lvbnkan'),\n",
       " (-11.316312804238807, '1652'),\n",
       " (-11.316312804238807, '16bn'),\n",
       " (-11.316312804238807, '16k'),\n",
       " (-11.316312804238807, '1700'),\n",
       " (-11.316312804238807, '1711'),\n",
       " (-11.316312804238807, '1720'),\n",
       " (-11.316312804238807, '1730s'),\n",
       " (-11.316312804238807, '1745'),\n",
       " (-11.316312804238807, '1752'),\n",
       " (-11.316312804238807, '176'),\n",
       " (-11.316312804238807, '1763'),\n",
       " (-11.316312804238807, '1766'),\n",
       " (-11.316312804238807, '1770'),\n",
       " (-11.316312804238807, '178'),\n",
       " (-11.316312804238807, '1780'),\n",
       " (-11.316312804238807, '1784'),\n",
       " (-11.316312804238807, '1788'),\n",
       " (-11.316312804238807, '1790'),\n",
       " (-11.316312804238807, '1793'),\n",
       " (-11.316312804238807, '1793qianlong'),\n",
       " (-11.316312804238807, '1795583'),\n",
       " (-11.316312804238807, '1799'),\n",
       " (-11.316312804238807, '17b2908f'),\n",
       " (-11.316312804238807, '17k'),\n",
       " (-11.316312804238807, '1808'),\n",
       " (-11.316312804238807, '1814'),\n",
       " (-11.316312804238807, '1818'),\n",
       " (-11.316312804238807, '182'),\n",
       " (-11.316312804238807, '1820'),\n",
       " (-11.316312804238807, '1827'),\n",
       " (-11.316312804238807, '182nd'),\n",
       " (-11.316312804238807, '1830'),\n",
       " (-11.316312804238807, '1835'),\n",
       " (-11.316312804238807, '1838'),\n",
       " (-11.316312804238807, '1839'),\n",
       " (-11.316312804238807, '1840'),\n",
       " (-11.316312804238807, '1844'),\n",
       " (-11.316312804238807, '1846'),\n",
       " (-11.316312804238807, '1851'),\n",
       " (-11.316312804238807, '1855'),\n",
       " (-11.316312804238807, '1859'),\n",
       " (-11.316312804238807, '1860'),\n",
       " (-11.316312804238807, '1862'),\n",
       " (-11.316312804238807, '1863'),\n",
       " (-11.316312804238807, '1868'),\n",
       " (-11.316312804238807, '1871'),\n",
       " (-11.316312804238807, '1872'),\n",
       " (-11.316312804238807, '1873'),\n",
       " (-11.316312804238807, '1886'),\n",
       " (-11.316312804238807, '1892'),\n",
       " (-11.316312804238807, '1895'),\n",
       " (-11.316312804238807, '1897'),\n",
       " (-11.316312804238807, '1898'),\n",
       " (-11.316312804238807, '1899'),\n",
       " (-11.316312804238807, '18m'),\n",
       " (-11.316312804238807, '1901'),\n",
       " (-11.316312804238807, '1903'),\n",
       " (-11.316312804238807, '1905'),\n",
       " (-11.316312804238807, '1907'),\n",
       " (-11.316312804238807, '1908'),\n",
       " (-11.316312804238807, '1909'),\n",
       " (-11.316312804238807, '1925'),\n",
       " (-11.316312804238807, '1926'),\n",
       " (-11.316312804238807, '1927'),\n",
       " (-11.316312804238807, '193'),\n",
       " (-11.316312804238807, '1930'),\n",
       " (-11.316312804238807, '1935'),\n",
       " (-11.316312804238807, '1944'),\n",
       " (-11.316312804238807, '19580395003'),\n",
       " (-11.316312804238807, '19580405001'),\n",
       " (-11.316312804238807, '19617315012'),\n",
       " (-11.316312804238807, '197'),\n",
       " (-11.316312804238807, '198974609375'),\n",
       " (-11.316312804238807, '1_2'),\n",
       " (-11.316312804238807, '1alvwe4bralkh'),\n",
       " (-11.316312804238807, '1b1'),\n",
       " (-11.316312804238807, '1bbswheiehlqifxzus3j35'),\n",
       " (-11.316312804238807, '1billion'),\n",
       " (-11.316312804238807, '1bjxt3uhim5fqn93gb0hkxakuarz99d7xcitzftye'),\n",
       " (-11.316312804238807, '1huziqim53'),\n",
       " (-11.316312804238807, '1hztlj'),\n",
       " (-11.316312804238807,\n",
       "  '1is9krdfnysv0buhf8elizydmsrpwn944flw1tofjw46j4uaxsbrbp284wifmv8n'),\n",
       " (-11.316312804238807, '1jquvafupk'),\n",
       " (-11.316312804238807, '1k'),\n",
       " (-11.316312804238807, '1m08s'),\n",
       " (-11.316312804238807, '1mdb'),\n",
       " (-11.316312804238807, '1mgfbvy'),\n",
       " (-11.316312804238807, '1million'),\n",
       " (-11.316312804238807, '1mm'),\n",
       " (-11.316312804238807,\n",
       "  '1mwvcarc3jsuon8rrxype4espweqzd6zsrbhgh4uqf56pcft2ubnqku4wtgoecsw'),\n",
       " (-11.316312804238807, '1o6qorkewr'),\n",
       " (-11.316312804238807, '1oo'),\n",
       " (-11.316312804238807, '1oxutnexun'),\n",
       " (-11.316312804238807, '1tr'),\n",
       " (-11.316312804238807, '1wrwsaijjsohk5rzj'),\n",
       " (-11.316312804238807, '1z'),\n",
       " (-11.316312804238807, '200k'),\n",
       " (-11.316312804238807, '200m'),\n",
       " (-11.316312804238807, '200x'),\n",
       " (-11.316312804238807, '2010s'),\n",
       " (-11.316312804238807, '2012newstart'),\n",
       " (-11.316312804238807, '20150308054059'),\n",
       " (-11.316312804238807, '20161026_spain1'),\n",
       " (-11.316312804238807, '20161026_spain3'),\n",
       " (-11.316312804238807, '2016a'),\n",
       " (-11.316312804238807, '2016b'),\n",
       " (-11.316312804238807, '2021'),\n",
       " (-11.316312804238807, '2023'),\n",
       " (-11.316312804238807, '203'),\n",
       " (-11.316312804238807, '2034'),\n",
       " (-11.316312804238807, '2043'),\n",
       " (-11.316312804238807, '2045'),\n",
       " (-11.316312804238807, '20535'),\n",
       " (-11.316312804238807, '2071'),\n",
       " (-11.316312804238807, '20book'),\n",
       " (-11.316312804238807, '20gs'),\n",
       " (-11.316312804238807, '20k'),\n",
       " (-11.316312804238807, '20million'),\n",
       " (-11.316312804238807, '20p'),\n",
       " (-11.316312804238807, '20power'),\n",
       " (-11.316312804238807, '2102'),\n",
       " (-11.316312804238807, '2130'),\n",
       " (-11.316312804238807, '214'),\n",
       " (-11.316312804238807, '2146815'),\n",
       " (-11.316312804238807, '2149237058061490'),\n",
       " (-11.316312804238807, '214r'),\n",
       " (-11.316312804238807, '21mn'),\n",
       " (-11.316312804238807, '21s'),\n",
       " (-11.316312804238807, '21wire'),\n",
       " (-11.316312804238807, '2205'),\n",
       " (-11.316312804238807, '221day_m25'),\n",
       " (-11.316312804238807, '226t'),\n",
       " (-11.316312804238807, '22_1171'),\n",
       " (-11.316312804238807, '22am'),\n",
       " (-11.316312804238807, '22autoupdate'),\n",
       " (-11.316312804238807, '22basemap'),\n",
       " (-11.316312804238807, '22default'),\n",
       " (-11.316312804238807, '22event'),\n",
       " (-11.316312804238807, '22feed'),\n",
       " (-11.316312804238807, '22grayscale'),\n",
       " (-11.316312804238807, '22list'),\n",
       " (-11.316312804238807, '22listformat'),\n",
       " (-11.316312804238807, '22m3'),\n",
       " (-11.316312804238807, '22map'),\n",
       " (-11.316312804238807, '22mapposition'),\n",
       " (-11.316312804238807, '22newest'),\n",
       " (-11.316312804238807, '22overlays'),\n",
       " (-11.316312804238807, '22plates'),\n",
       " (-11.316312804238807, '22restrictlisttomap'),\n",
       " (-11.316312804238807, '22search'),\n",
       " (-11.316312804238807, '22sort'),\n",
       " (-11.316312804238807, '22th'),\n",
       " (-11.316312804238807, '22timezone'),\n",
       " (-11.316312804238807, '22us1000778i'),\n",
       " (-11.316312804238807, '22utc'),\n",
       " (-11.316312804238807, '22viewmodes'),\n",
       " (-11.316312804238807, '233'),\n",
       " (-11.316312804238807, '2344'),\n",
       " (-11.316312804238807, '235'),\n",
       " (-11.316312804238807, '23k'),\n",
       " (-11.316312804238807, '24454002'),\n",
       " (-11.316312804238807, '245'),\n",
       " (-11.316312804238807, '2450'),\n",
       " (-11.316312804238807, '24888'),\n",
       " (-11.316312804238807, '24news'),\n",
       " (-11.316312804238807, '25018606'),\n",
       " (-11.316312804238807, '251'),\n",
       " (-11.316312804238807, '2510'),\n",
       " (-11.316312804238807, '253207'),\n",
       " (-11.316312804238807, '25421'),\n",
       " (-11.316312804238807, '255'),\n",
       " (-11.316312804238807, '2552'),\n",
       " (-11.316312804238807, '25751119'),\n",
       " (-11.316312804238807, '258'),\n",
       " (-11.316312804238807, '25am'),\n",
       " (-11.316312804238807, '261'),\n",
       " (-11.316312804238807, '2635'),\n",
       " (-11.316312804238807, '2656002'),\n",
       " (-11.316312804238807, '2670'),\n",
       " (-11.316312804238807, '268'),\n",
       " (-11.316312804238807, '26t18'),\n",
       " (-11.316312804238807, '2700'),\n",
       " (-11.316312804238807, '2700922'),\n",
       " (-11.316312804238807, '27026'),\n",
       " (-11.316312804238807, '2703'),\n",
       " (-11.316312804238807, '2711'),\n",
       " (-11.316312804238807, '27111'),\n",
       " (-11.316312804238807, '274'),\n",
       " (-11.316312804238807, '279'),\n",
       " (-11.316312804238807, '28403'),\n",
       " (-11.316312804238807, '28657'),\n",
       " (-11.316312804238807, '28am'),\n",
       " (-11.316312804238807, '28th'),\n",
       " (-11.316312804238807, '2900'),\n",
       " (-11.316312804238807, '2900100001'),\n",
       " (-11.316312804238807, '29385'),\n",
       " (-11.316312804238807, '29385ote'),\n",
       " (-11.316312804238807, '2950100001'),\n",
       " (-11.316312804238807, '29549'),\n",
       " (-11.316312804238807, '2bowles'),\n",
       " (-11.316312804238807, '2c'),\n",
       " (-11.316312804238807, '2ccrww3wqeay'),\n",
       " (-11.316312804238807, '2ckus9qi9g'),\n",
       " (-11.316312804238807, '2cs'),\n",
       " (-11.316312804238807, '2f'),\n",
       " (-11.316312804238807, '2f102516_6'),\n",
       " (-11.316312804238807, '2f16'),\n",
       " (-11.316312804238807, '2fnews'),\n",
       " (-11.316312804238807, '2fpreventdisease'),\n",
       " (-11.316312804238807, '2gary2'),\n",
       " (-11.316312804238807, '2gkhtimovh'),\n",
       " (-11.316312804238807, '2hibftjxscml3k8k6mbdi8p9zvcmjsxbppcyrffw9a6t'),\n",
       " (-11.316312804238807, '2hzuvxyp8k'),\n",
       " (-11.316312804238807, '2k'),\n",
       " (-11.316312804238807, '2kkpwafd9pxaqnwjmpd4amk60l3n'),\n",
       " (-11.316312804238807, '2l'),\n",
       " (-11.316312804238807, '2m52s'),\n",
       " (-11.316312804238807, '2o16'),\n",
       " (-11.316312804238807, '2plwa3cerym6byp60362co7cpzochyhsvgppzyh0qex'),\n",
       " (-11.316312804238807, '2yiugiyosv'),\n",
       " (-11.316312804238807, '2yxlvcf03qflflgzzfn7fcv5jw'),\n",
       " (-11.316312804238807, '2zksz3xesc7mmpgrzanh4pk1dlr'),\n",
       " (-11.316312804238807, '3000'),\n",
       " (-11.316312804238807, '3001'),\n",
       " (-11.316312804238807, '301'),\n",
       " (-11.316312804238807, '3037'),\n",
       " (-11.316312804238807, '305'),\n",
       " (-11.316312804238807, '309533'),\n",
       " (-11.316312804238807, '30grams'),\n",
       " (-11.316312804238807, '30k'),\n",
       " (-11.316312804238807, '30mki'),\n",
       " (-11.316312804238807, '30p'),\n",
       " (-11.316312804238807, '30sm'),\n",
       " (-11.316312804238807, '313'),\n",
       " (-11.316312804238807, '314'),\n",
       " (-11.316312804238807, '316'),\n",
       " (-11.316312804238807, '31715'),\n",
       " (-11.316312804238807, '31721'),\n",
       " (-11.316312804238807, '319'),\n",
       " (-11.316312804238807, '31am'),\n",
       " (-11.316312804238807, '31s'),\n",
       " (-11.316312804238807, '31yrs'),\n",
       " (-11.316312804238807, '3222705'),\n",
       " (-11.316312804238807, '3225440'),\n",
       " (-11.316312804238807, '326'),\n",
       " (-11.316312804238807, '32833'),\n",
       " (-11.316312804238807, '32937'),\n",
       " (-11.316312804238807, '32nd'),\n",
       " (-11.316312804238807, '33010'),\n",
       " (-11.316312804238807, '331'),\n",
       " (-11.316312804238807, '33127'),\n",
       " (-11.316312804238807, '334'),\n",
       " (-11.316312804238807, '334m'),\n",
       " (-11.316312804238807, '33552'),\n",
       " (-11.316312804238807, '33656002'),\n",
       " (-11.316312804238807, '3370'),\n",
       " (-11.316312804238807, '33713'),\n",
       " (-11.316312804238807, '33722'),\n",
       " (-11.316312804238807, '33739'),\n",
       " (-11.316312804238807, '33k'),\n",
       " (-11.316312804238807, '33s'),\n",
       " (-11.316312804238807, '33yo'),\n",
       " (-11.316312804238807, '34000'),\n",
       " (-11.316312804238807, '343'),\n",
       " (-11.316312804238807, '344'),\n",
       " (-11.316312804238807, '3454'),\n",
       " (-11.316312804238807, '3500'),\n",
       " (-11.316312804238807, '3545'),\n",
       " (-11.316312804238807, '356'),\n",
       " (-11.316312804238807, '35am'),\n",
       " (-11.316312804238807, '364132'),\n",
       " (-11.316312804238807, '365'),\n",
       " (-11.316312804238807, '366'),\n",
       " (-11.316312804238807, '366579'),\n",
       " (-11.316312804238807, '367'),\n",
       " (-11.316312804238807, '36756003'),\n",
       " (-11.316312804238807, '369'),\n",
       " (-11.316312804238807, '36th'),\n",
       " (-11.316312804238807, '3700'),\n",
       " (-11.316312804238807, '377454003'),\n",
       " (-11.316312804238807, '3776'),\n",
       " (-11.316312804238807, '37861888'),\n",
       " (-11.316312804238807, '379'),\n",
       " (-11.316312804238807, '3797'),\n",
       " (-11.316312804238807, '37am'),\n",
       " (-11.316312804238807, '386'),\n",
       " (-11.316312804238807, '38pm'),\n",
       " (-11.316312804238807, '39th'),\n",
       " (-11.316312804238807, '3a'),\n",
       " (-11.316312804238807, '3anull'),\n",
       " (-11.316312804238807, '3bn'),\n",
       " (-11.316312804238807, '3cudk245xk'),\n",
       " (-11.316312804238807, '3d'),\n",
       " (-11.316312804238807, '3dwindows'),\n",
       " (-11.316312804238807, '3fd49aaeeb2d'),\n",
       " (-11.316312804238807, '3fm'),\n",
       " (-11.316312804238807, '3grlcqvbjh'),\n",
       " (-11.316312804238807, '3m'),\n",
       " (-11.316312804238807, '3mm'),\n",
       " (-11.316312804238807, '3oizbynytffvowy2zbh3h2pgf'),\n",
       " (-11.316312804238807, '3pm'),\n",
       " (-11.316312804238807, '3s'),\n",
       " (-11.316312804238807, '3tr'),\n",
       " (-11.316312804238807, '3w75pamy52nazi7uopou12qiwvj4ralc'),\n",
       " (-11.316312804238807, '3wxe'),\n",
       " (-11.316312804238807, '3znpd2uvfq'),\n",
       " (-11.316312804238807, '40100003'),\n",
       " (-11.316312804238807, '4062'),\n",
       " (-11.316312804238807, '4072'),\n",
       " (-11.316312804238807, '410558250946075'),\n",
       " (-11.316312804238807, '414'),\n",
       " (-11.316312804238807, '416'),\n",
       " (-11.316312804238807, '4202'),\n",
       " (-11.316312804238807, '422'),\n",
       " (-11.316312804238807, '42262002'),\n",
       " (-11.316312804238807, '426'),\n",
       " (-11.316312804238807, '4264'),\n",
       " (-11.316312804238807, '427'),\n",
       " (-11.316312804238807, '428'),\n",
       " (-11.316312804238807, '43085'),\n",
       " (-11.316312804238807, '4311'),\n",
       " (-11.316312804238807, '433'),\n",
       " (-11.316312804238807, '438'),\n",
       " (-11.316312804238807, '441'),\n",
       " (-11.316312804238807, '4490'),\n",
       " (-11.316312804238807, '44am'),\n",
       " (-11.316312804238807, '44th'),\n",
       " (-11.316312804238807, '451'),\n",
       " (-11.316312804238807, '4518'),\n",
       " (-11.316312804238807, '453'),\n",
       " (-11.316312804238807, '454'),\n",
       " (-11.316312804238807, '4547219'),\n",
       " (-11.316312804238807, '45k'),\n",
       " (-11.316312804238807, '46102003'),\n",
       " (-11.316312804238807, '479'),\n",
       " (-11.316312804238807, '47am'),\n",
       " (-11.316312804238807, '480'),\n",
       " (-11.316312804238807, '4800'),\n",
       " (-11.316312804238807, '483'),\n",
       " (-11.316312804238807, '485'),\n",
       " (-11.316312804238807, '4853'),\n",
       " (-11.316312804238807, '488'),\n",
       " (-11.316312804238807, '48th'),\n",
       " (-11.316312804238807, '493'),\n",
       " (-11.316312804238807, '496'),\n",
       " (-11.316312804238807, '4962ynktnabk3'),\n",
       " (-11.316312804238807, '498'),\n",
       " (-11.316312804238807, '4am'),\n",
       " (-11.316312804238807, '4and'),\n",
       " (-11.316312804238807, '4bdmt0caly8'),\n",
       " (-11.316312804238807, '4bn'),\n",
       " (-11.316312804238807, '4chan'),\n",
       " (-11.316312804238807, '4d'),\n",
       " (-11.316312804238807, '4drwnpkfz9'),\n",
       " (-11.316312804238807, '4ixxpeqbc3ehfxjx2bwbupycgbomtvtjdhltv5p'),\n",
       " (-11.316312804238807, '4k'),\n",
       " (-11.316312804238807, '4mt_z'),\n",
       " (-11.316312804238807, '4o1k'),\n",
       " (-11.316312804238807, '4pm'),\n",
       " (-11.316312804238807, '4pt'),\n",
       " (-11.316312804238807, '4s'),\n",
       " (-11.316312804238807, '4xn55gqy'),\n",
       " (-11.316312804238807, '5000'),\n",
       " (-11.316312804238807, '5002009'),\n",
       " (-11.316312804238807, '5005'),\n",
       " (-11.316312804238807, '5005006'),\n",
       " (-11.316312804238807, '500s'),\n",
       " (-11.316312804238807, '500th'),\n",
       " (-11.316312804238807, '501c3'),\n",
       " (-11.316312804238807, '502'),\n",
       " (-11.316312804238807, '506'),\n",
       " (-11.316312804238807, '507'),\n",
       " (-11.316312804238807, '509'),\n",
       " (-11.316312804238807, '50986999'),\n",
       " (-11.316312804238807, '50k'),\n",
       " (-11.316312804238807, '5103'),\n",
       " (-11.316312804238807, '511'),\n",
       " (-11.316312804238807, '512'),\n",
       " (-11.316312804238807, '512ke'),\n",
       " (-11.316312804238807, '5139'),\n",
       " (-11.316312804238807, '522'),\n",
       " (-11.316312804238807, '526'),\n",
       " (-11.316312804238807, '527s'),\n",
       " (-11.316312804238807, '539'),\n",
       " (-11.316312804238807, '53k'),\n",
       " (-11.316312804238807, '53pm'),\n",
       " (-11.316312804238807, '53rd'),\n",
       " (-11.316312804238807, '540'),\n",
       " (-11.316312804238807, '54356999'),\n",
       " (-11.316312804238807, '553790148146217'),\n",
       " (-11.316312804238807, '554'),\n",
       " (-11.316312804238807, '55million'),\n",
       " (-11.316312804238807, '55pm'),\n",
       " (-11.316312804238807, '564'),\n",
       " (-11.316312804238807, '565'),\n",
       " (-11.316312804238807, '570'),\n",
       " (-11.316312804238807, '573'),\n",
       " (-11.316312804238807, '576'),\n",
       " (-11.316312804238807, '5776'),\n",
       " (-11.316312804238807, '5777'),\n",
       " (-11.316312804238807, '582'),\n",
       " (-11.316312804238807, '58393'),\n",
       " (-11.316312804238807, '5902416'),\n",
       " (-11.316312804238807, '594'),\n",
       " (-11.316312804238807, '595'),\n",
       " (-11.316312804238807, '596'),\n",
       " (-11.316312804238807, '597'),\n",
       " (-11.316312804238807, '5b'),\n",
       " (-11.316312804238807, '5billion'),\n",
       " (-11.316312804238807, '5cm'),\n",
       " (-11.316312804238807, '5d'),\n",
       " (-11.316312804238807, '5e09'),\n",
       " (-11.316312804238807, '5ecsapjfcn'),\n",
       " (-11.316312804238807, '5etq4j3ejpqrtn1znyzpbykr19'),\n",
       " (-11.316312804238807, '5g'),\n",
       " (-11.316312804238807, '5hi14dteo8'),\n",
       " (-11.316312804238807, '5jgdg7hcy'),\n",
       " (-11.316312804238807, '5lncbkedqrvkahoasaavnuor'),\n",
       " (-11.316312804238807, '5mreejuhyv'),\n",
       " (-11.316312804238807, '5off'),\n",
       " (-11.316312804238807,\n",
       "  '5paoy5l4isnzd8z0mnglwoglmq3ignjayuzvjrhdb5rvqec6qx4r4e1xjymjsxdz'),\n",
       " (-11.316312804238807, '5plk8fszut'),\n",
       " (-11.316312804238807, '5pm'),\n",
       " (-11.316312804238807, '5q4l04b5pm'),\n",
       " (-11.316312804238807, '5tr'),\n",
       " (-11.316312804238807, '5xht'),\n",
       " (-11.316312804238807, '5yotsyhumk91gdfgkofuc'),\n",
       " (-11.316312804238807, '5ywqkbuegw'),\n",
       " (-11.316312804238807, '6000sq'),\n",
       " (-11.316312804238807, '601004'),\n",
       " (-11.316312804238807, '603'),\n",
       " (-11.316312804238807, '606'),\n",
       " (-11.316312804238807, '609'),\n",
       " (-11.316312804238807, '60cm'),\n",
       " (-11.316312804238807, '60g'),\n",
       " (-11.316312804238807, '60minutes'),\n",
       " (-11.316312804238807, '60th'),\n",
       " (-11.316312804238807, '6102'),\n",
       " (-11.316312804238807, '6116'),\n",
       " (-11.316312804238807, '625'),\n",
       " (-11.316312804238807, '62966003'),\n",
       " (-11.316312804238807, '634'),\n",
       " (-11.316312804238807, '63bce'),\n",
       " (-11.316312804238807, '641'),\n",
       " (-11.316312804238807, '645'),\n",
       " (-11.316312804238807, '647'),\n",
       " (-11.316312804238807, '648'),\n",
       " (-11.316312804238807, '650k'),\n",
       " (-11.316312804238807, '650m'),\n",
       " (-11.316312804238807, '654'),\n",
       " (-11.316312804238807, '659'),\n",
       " (-11.316312804238807, '66066001'),\n",
       " (-11.316312804238807, '668'),\n",
       " (-11.316312804238807, '669'),\n",
       " (-11.316312804238807, '6801'),\n",
       " (-11.316312804238807, '6827'),\n",
       " (-11.316312804238807, '685'),\n",
       " (-11.316312804238807,\n",
       "  '6862a06b7dca0b6b4e7021675a233af3ef12f5a747576a7a076f7e66e15d3a52'),\n",
       " (-11.316312804238807, '68impala'),\n",
       " (-11.316312804238807, '695'),\n",
       " (-11.316312804238807, '69th'),\n",
       " (-11.316312804238807, '6am'),\n",
       " (-11.316312804238807, '6extebxtawh4hagu'),\n",
       " (-11.316312804238807, '6hrytzibdjk4jdbh6jax'),\n",
       " (-11.316312804238807, '6k'),\n",
       " (-11.316312804238807, '6m'),\n",
       " (-11.316312804238807, '6p5e2ibzfr'),\n",
       " (-11.316312804238807, '6pm'),\n",
       " (-11.316312804238807, '6vunssvleb'),\n",
       " (-11.316312804238807, '7000'),\n",
       " (-11.316312804238807, '701'),\n",
       " (-11.316312804238807, '704'),\n",
       " (-11.316312804238807, '70530'),\n",
       " (-11.316312804238807, '710'),\n",
       " (-11.316312804238807, '716'),\n",
       " (-11.316312804238807, '71e'),\n",
       " (-11.316312804238807, '720'),\n",
       " (-11.316312804238807, '723731'),\n",
       " (-11.316312804238807, '728'),\n",
       " (-11.316312804238807, '72million'),\n",
       " (-11.316312804238807, '730658'),\n",
       " (-11.316312804238807, '7323'),\n",
       " (-11.316312804238807, '732e'),\n",
       " (-11.316312804238807, '733'),\n",
       " (-11.316312804238807, '736859547360474'),\n",
       " (-11.316312804238807, '737'),\n",
       " (-11.316312804238807, '743'),\n",
       " (-11.316312804238807, '7494'),\n",
       " (-11.316312804238807, '75094'),\n",
       " (-11.316312804238807, '751'),\n",
       " (-11.316312804238807, '7537159'),\n",
       " (-11.316312804238807, '756991'),\n",
       " (-11.316312804238807, '760566'),\n",
       " (-11.316312804238807, '76176999'),\n",
       " (-11.316312804238807, '761840'),\n",
       " (-11.316312804238807, '765'),\n",
       " (-11.316312804238807, '765487'),\n",
       " (-11.316312804238807, '7672'),\n",
       " (-11.316312804238807, '76th'),\n",
       " (-11.316312804238807, '77156002'),\n",
       " (-11.316312804238807, '7734'),\n",
       " (-11.316312804238807, '774809'),\n",
       " (-11.316312804238807, '777099609375'),\n",
       " (-11.316312804238807, '778'),\n",
       " (-11.316312804238807,\n",
       "  '77ca2bb6a1767c6776e94afaf505f28bad3b6bb346e4d3d500d1dd0f010ddc9a'),\n",
       " (-11.316312804238807, '782'),\n",
       " (-11.316312804238807, '783'),\n",
       " (-11.316312804238807, '785314'),\n",
       " (-11.316312804238807, '7877'),\n",
       " (-11.316312804238807, '788'),\n",
       " (-11.316312804238807, '788909'),\n",
       " (-11.316312804238807, '789'),\n",
       " (-11.316312804238807, '789878110816702464'),\n",
       " (-11.316312804238807, '791'),\n",
       " (-11.316312804238807, '791382994783133696'),\n",
       " (-11.316312804238807, '792rxje642'),\n",
       " (-11.316312804238807, '793820751782633472'),\n",
       " (-11.316312804238807, '7943'),\n",
       " (-11.316312804238807, '795'),\n",
       " (-11.316312804238807, '797'),\n",
       " (-11.316312804238807, '797788639014989826'),\n",
       " (-11.316312804238807, '798244'),\n",
       " (-11.316312804238807, '7a6tmuh7dfmlhcqw8bf5veyag3rpkhgcm7utdb6k'),\n",
       " (-11.316312804238807, '7am'),\n",
       " (-11.316312804238807, '7b'),\n",
       " (-11.316312804238807, '7b2ybrrywhqmgfj'),\n",
       " (-11.316312804238807, '7b7cb05e1dad'),\n",
       " (-11.316312804238807, '7d'),\n",
       " (-11.316312804238807, '7km'),\n",
       " (-11.316312804238807, '7kwh'),\n",
       " (-11.316312804238807, '7m55s'),\n",
       " (-11.316312804238807, '7n0kdam7zs'),\n",
       " (-11.316312804238807, '7nzevhhz1zi52'),\n",
       " (-11.316312804238807, '7pm'),\n",
       " (-11.316312804238807, '7tr'),\n",
       " (-11.316312804238807, '7wacdwqwfs'),\n",
       " (-11.316312804238807, '7zyzs1qxxk'),\n",
       " (-11.316312804238807, '801'),\n",
       " (-11.316312804238807, '803'),\n",
       " (-11.316312804238807, '805'),\n",
       " (-11.316312804238807, '808'),\n",
       " (-11.316312804238807, '811'),\n",
       " (-11.316312804238807, '813'),\n",
       " (-11.316312804238807, '814'),\n",
       " (-11.316312804238807, '81p'),\n",
       " (-11.316312804238807, '8222'),\n",
       " (-11.316312804238807, '824'),\n",
       " (-11.316312804238807, '825'),\n",
       " (-11.316312804238807, '82746002'),\n",
       " (-11.316312804238807, '837'),\n",
       " (-11.316312804238807, '83716003'),\n",
       " (-11.316312804238807, '844'),\n",
       " (-11.316312804238807, '8462852'),\n",
       " (-11.316312804238807, '8463'),\n",
       " (-11.316312804238807, '847'),\n",
       " (-11.316312804238807, '848'),\n",
       " (-11.316312804238807, '854'),\n",
       " (-11.316312804238807, '8559'),\n",
       " (-11.316312804238807, '857'),\n",
       " (-11.316312804238807, '8599'),\n",
       " (-11.316312804238807, '86362001'),\n",
       " (-11.316312804238807, '864'),\n",
       " (-11.316312804238807, '866'),\n",
       " (-11.316312804238807, '8673'),\n",
       " (-11.316312804238807, '8675309'),\n",
       " (-11.316312804238807, '86b'),\n",
       " (-11.316312804238807, '871'),\n",
       " (-11.316312804238807, '873'),\n",
       " (-11.316312804238807, '875'),\n",
       " (-11.316312804238807, '87936001'),\n",
       " (-11.316312804238807, '881'),\n",
       " (-11.316312804238807, '885'),\n",
       " (-11.316312804238807, '8889'),\n",
       " (-11.316312804238807, '8899'),\n",
       " (-11.316312804238807, '891'),\n",
       " (-11.316312804238807, '8922'),\n",
       " (-11.316312804238807, '8932'),\n",
       " (-11.316312804238807, '895'),\n",
       " (-11.316312804238807, '8968'),\n",
       " (-11.316312804238807, '8981'),\n",
       " (-11.316312804238807, '8a'),\n",
       " (-11.316312804238807, '8am'),\n",
       " (-11.316312804238807, '8cft9hd0ri'),\n",
       " (-11.316312804238807, '8d24'),\n",
       " (-11.316312804238807, '8da771cf75f9'),\n",
       " (-11.316312804238807, '8days'),\n",
       " (-11.316312804238807, '8dba'),\n",
       " (-11.316312804238807, '8f4igwukduq'),\n",
       " (-11.316312804238807, '8fpb4wnj92'),\n",
       " (-11.316312804238807, '8hhlkfltks'),\n",
       " (-11.316312804238807, '8hqgzh'),\n",
       " (-11.316312804238807, '8jrrr7ai1l'),\n",
       " (-11.316312804238807, '8k'),\n",
       " (-11.316312804238807, '8m55s'),\n",
       " (-11.316312804238807, '8pm'),\n",
       " (-11.316312804238807, '8qbbibv0onfy'),\n",
       " (-11.316312804238807, '8quukvcctb1'),\n",
       " (-11.316312804238807, '8s5s5'),\n",
       " (-11.316312804238807, '8wu9svqzw1du6pgbb30x'),\n",
       " (-11.316312804238807, '900k'),\n",
       " (-11.316312804238807, '908'),\n",
       " (-11.316312804238807, '910'),\n",
       " (-11.316312804238807, '9160'),\n",
       " (-11.316312804238807, '9231'),\n",
       " (-11.316312804238807, '92454'),\n",
       " (-11.316312804238807, '92566002'),\n",
       " (-11.316312804238807, '92t_know_hillary_clinton_was_usin'),\n",
       " (-11.316312804238807, '92t_know_hillary_clinton_was_using_pr'),\n",
       " (-11.316312804238807, '933'),\n",
       " (-11.316312804238807, '935'),\n",
       " (-11.316312804238807, '93ed'),\n",
       " (-11.316312804238807, '940729'),\n",
       " (-11.316312804238807, '94305'),\n",
       " (-11.316312804238807, '948'),\n",
       " (-11.316312804238807, '949'),\n",
       " (-11.316312804238807, '94th'),\n",
       " (-11.316312804238807, '9561'),\n",
       " (-11.316312804238807, '957'),\n",
       " (-11.316312804238807, '958'),\n",
       " (-11.316312804238807, '95ms'),\n",
       " (-11.316312804238807, '95th'),\n",
       " (-11.316312804238807, '9600'),\n",
       " (-11.316312804238807, '96033'),\n",
       " (-11.316312804238807, '963'),\n",
       " (-11.316312804238807, '965'),\n",
       " (-11.316312804238807, '966'),\n",
       " (-11.316312804238807, '966932'),\n",
       " (-11.316312804238807, '976'),\n",
       " (-11.316312804238807, '97925'),\n",
       " (-11.316312804238807, '9818'),\n",
       " (-11.316312804238807, '982'),\n",
       " (-11.316312804238807, '9827384l'),\n",
       " (-11.316312804238807, '9925620784439296'),\n",
       " (-11.316312804238807, '99286002'),\n",
       " (-11.316312804238807, '994'),\n",
       " (-11.316312804238807, '99964'),\n",
       " (-11.316312804238807, '9999'),\n",
       " (-11.316312804238807, '9a6f9x3rag'),\n",
       " (-11.316312804238807, '9cvlndntds'),\n",
       " (-11.316312804238807, '9dxq300yjfs'),\n",
       " (-11.316312804238807, '9ktbd0haeahkuwia0zhyo5'),\n",
       " (-11.316312804238807, '9l'),\n",
       " (-11.316312804238807, '9mx3kivmpz'),\n",
       " (-11.316312804238807, '9rhfrvfsdi7'),\n",
       " (-11.316312804238807, '9ucbbewnz2'),\n",
       " (-11.316312804238807, '_000_17b2908ff9fa45188d243fd49aaeeb2dhrcofficecom_'),\n",
       " (-11.316312804238807, '____'),\n",
       " (-11.316312804238807, '_blank'),\n",
       " (-11.316312804238807, '_derosa'),\n",
       " (-11.316312804238807, '_future'),\n",
       " (-11.316312804238807, '_nytimes'),\n",
       " (-11.316312804238807, '_obama_says_he_didn'),\n",
       " (-11.316312804238807, '_rt_op_edge'),\n",
       " (-11.316312804238807, '_strauss'),\n",
       " (-11.316312804238807, '_work'),\n",
       " (-11.316312804238807, 'a04c'),\n",
       " (-11.316312804238807, 'a092299ryazanbomb'),\n",
       " (-11.316312804238807, 'a0eyximi8g'),\n",
       " (-11.316312804238807, 'a1mleov0kl'),\n",
       " (-11.316312804238807, 'a2'),\n",
       " (-11.316312804238807, 'a3'),\n",
       " (-11.316312804238807, 'a54rg'),\n",
       " (-11.316312804238807, 'a7zvz5440q'),\n",
       " (-11.316312804238807, 'a8gza0'),\n",
       " (-11.316312804238807, 'aa'),\n",
       " (-11.316312804238807, 'aaas'),\n",
       " (-11.316312804238807, 'aab'),\n",
       " (-11.316312804238807, 'aadmi'),\n",
       " (-11.316312804238807, 'aaib'),\n",
       " (-11.316312804238807, 'aam'),\n",
       " (-11.316312804238807, 'aamon'),\n",
       " (-11.316312804238807, 'aap'),\n",
       " (-11.316312804238807, 'aau'),\n",
       " (-11.316312804238807, 'ab'),\n",
       " (-11.316312804238807, 'aba'),\n",
       " (-11.316312804238807, 'abandonnig'),\n",
       " (-11.316312804238807, 'abate'),\n",
       " (-11.316312804238807, 'abay'),\n",
       " (-11.316312804238807, 'abbar'),\n",
       " (-11.316312804238807, 'abbot'),\n",
       " (-11.316312804238807, 'abbreviation'),\n",
       " (-11.316312804238807, 'abc3340'),\n",
       " (-11.316312804238807, 'abcpolitics'),\n",
       " (-11.316312804238807, 'abdallah'),\n",
       " (-11.316312804238807, 'abdicate'),\n",
       " (-11.316312804238807, 'abdollah'),\n",
       " (-11.316312804238807, 'abdomen'),\n",
       " (-11.316312804238807, 'abdominal'),\n",
       " (-11.316312804238807, 'abdrabbuh'),\n",
       " (-11.316312804238807, 'abduct'),\n",
       " (-11.316312804238807, 'abductee'),\n",
       " (-11.316312804238807, 'abductees'),\n",
       " (-11.316312804238807, 'abductions'),\n",
       " (-11.316312804238807, 'abductor'),\n",
       " (-11.316312804238807, 'abdur'),\n",
       " (-11.316312804238807, 'abedine'),\n",
       " (-11.316312804238807, 'abeille'),\n",
       " (-11.316312804238807, 'abeldanger'),\n",
       " (-11.316312804238807, 'aberfan'),\n",
       " (-11.316312804238807, 'abernethy'),\n",
       " (-11.316312804238807, 'aberrant'),\n",
       " (-11.316312804238807, 'aberrational'),\n",
       " (-11.316312804238807, 'aberrations'),\n",
       " (-11.316312804238807, 'abetment'),\n",
       " (-11.316312804238807, 'abhijit'),\n",
       " (-11.316312804238807, 'abhiram'),\n",
       " (-11.316312804238807, 'abidance'),\n",
       " (-11.316312804238807, 'abiotic'),\n",
       " (-11.316312804238807, 'abitter'),\n",
       " (-11.316312804238807, 'abiz1f0kvo'),\n",
       " (-11.316312804238807, 'ableism'),\n",
       " (-11.316312804238807, 'abm'),\n",
       " (-11.316312804238807, 'abnormalization'),\n",
       " (-11.316312804238807, 'abnormally'),\n",
       " (-11.316312804238807, 'abnoush'),\n",
       " (-11.316312804238807, 'abode'),\n",
       " (-11.316312804238807, 'abominations'),\n",
       " (-11.316312804238807, 'aboriginal'),\n",
       " (-11.316312804238807, 'aborigine'),\n",
       " (-11.316312804238807, 'abotsway'),\n",
       " (-11.316312804238807, 'abott'),\n",
       " (-11.316312804238807, 'abounds'),\n",
       " (-11.316312804238807, 'aboutface'),\n",
       " (-11.316312804238807, 'abramovic'),\n",
       " (-11.316312804238807, 'abravealabamaatheist'),\n",
       " (-11.316312804238807, 'absalon'),\n",
       " (-11.316312804238807, 'abscesses'),\n",
       " (-11.316312804238807, 'absconding'),\n",
       " (-11.316312804238807, 'absentia'),\n",
       " (-11.316312804238807, 'absolutley'),\n",
       " (-11.316312804238807, 'absorbs'),\n",
       " (-11.316312804238807, 'absorption'),\n",
       " (-11.316312804238807, 'abstained'),\n",
       " (-11.316312804238807, 'abstains'),\n",
       " (-11.316312804238807, 'abstention'),\n",
       " (-11.316312804238807, 'abstentionism'),\n",
       " (-11.316312804238807, 'abstentions'),\n",
       " (-11.316312804238807, 'abstinence'),\n",
       " (-11.316312804238807, 'abstracts'),\n",
       " (-11.316312804238807, 'absurdities'),\n",
       " (-11.316312804238807, 'abudayyeh'),\n",
       " (-11.316312804238807, 'abuirshaid'),\n",
       " (-11.316312804238807, 'abutted'),\n",
       " (-11.316312804238807, 'abutting'),\n",
       " (-11.316312804238807, 'abwehr'),\n",
       " (-11.316312804238807, 'abyssal'),\n",
       " (-11.316312804238807, 'ac360'),\n",
       " (-11.316312804238807, 'acab'),\n",
       " (-11.316312804238807, 'academe'),\n",
       " (-11.316312804238807, 'academi'),\n",
       " (-11.316312804238807, 'academicians'),\n",
       " (-11.316312804238807,\n",
       "  'acccgwmfcwkibwmffqojcasffgidaqachgecf4afalb6cdifcqoznooacgkqk'),\n",
       " (-11.316312804238807, 'accede'),\n",
       " (-11.316312804238807, 'accedes'),\n",
       " (-11.316312804238807, 'accentuate'),\n",
       " (-11.316312804238807, 'accentuated'),\n",
       " (-11.316312804238807, 'acceptability'),\n",
       " (-11.316312804238807, 'acceptably'),\n",
       " (-11.316312804238807, 'accidently'),\n",
       " (-11.316312804238807, 'acclimate'),\n",
       " (-11.316312804238807, 'acclimates'),\n",
       " (-11.316312804238807, 'accomazzo'),\n",
       " (-11.316312804238807, 'accompanies'),\n",
       " (-11.316312804238807, 'accompaniment'),\n",
       " (-11.316312804238807, 'accomulating'),\n",
       " (-11.316312804238807, 'accostomed'),\n",
       " (-11.316312804238807, 'accreditation'),\n",
       " (-11.316312804238807, 'accretion'),\n",
       " (-11.316312804238807, 'accrual'),\n",
       " (-11.316312804238807, 'accruing'),\n",
       " (-11.316312804238807, 'acculturated'),\n",
       " (-11.316312804238807, 'accumulates'),\n",
       " (-11.316312804238807, 'accustom'),\n",
       " (-11.316312804238807, 'accuweather'),\n",
       " (-11.316312804238807, 'aces'),\n",
       " (-11.316312804238807, 'acetaminophen'),\n",
       " (-11.316312804238807, 'acfe'),\n",
       " (-11.316312804238807, 'acheron'),\n",
       " (-11.316312804238807, 'acheson'),\n",
       " (-11.316312804238807, 'achievers'),\n",
       " (-11.316312804238807, 'achille'),\n",
       " (-11.316312804238807, 'aching'),\n",
       " (-11.316312804238807, 'achuar'),\n",
       " (-11.316312804238807, 'acidification'),\n",
       " (-11.316312804238807, 'acidity'),\n",
       " (-11.316312804238807, 'acids'),\n",
       " (-11.316312804238807, 'acierto'),\n",
       " (-11.316312804238807, 'acker'),\n",
       " (-11.316312804238807, 'acklam'),\n",
       " (-11.316312804238807, 'acme'),\n",
       " (-11.316312804238807, 'acne'),\n",
       " (-11.316312804238807, 'aco'),\n",
       " (-11.316312804238807, 'acog'),\n",
       " (-11.316312804238807, 'acosmin'),\n",
       " (-11.316312804238807, 'acp'),\n",
       " (-11.316312804238807, 'acquiescing'),\n",
       " (-11.316312804238807, 'acquirer'),\n",
       " (-11.316312804238807, 'acquittals'),\n",
       " (-11.316312804238807, 'acr'),\n",
       " (-11.316312804238807, 'acreage'),\n",
       " (-11.316312804238807, 'acrimoniously'),\n",
       " (-11.316312804238807, 'acrobat'),\n",
       " (-11.316312804238807, 'acrobatic'),\n",
       " (-11.316312804238807, 'acrobats'),\n",
       " (-11.316312804238807, 'acrossmediums'),\n",
       " (-11.316312804238807, 'actasia'),\n",
       " (-11.316312804238807, 'activates'),\n",
       " (-11.316312804238807, 'activation'),\n",
       " (-11.316312804238807, 'activators'),\n",
       " (-11.316312804238807, 'activistpost'),\n",
       " (-11.316312804238807, 'acton'),\n",
       " (-11.316312804238807, 'actresses'),\n",
       " (-11.316312804238807, 'actros'),\n",
       " (-11.316312804238807, 'actset'),\n",
       " (-11.316312804238807, 'actualization'),\n",
       " (-11.316312804238807, 'actualized'),\n",
       " (-11.316312804238807, 'actualizes'),\n",
       " (-11.316312804238807, 'actualizing'),\n",
       " (-11.316312804238807, 'actuarial'),\n",
       " (-11.316312804238807, 'actuaries'),\n",
       " (-11.316312804238807, 'acuesta'),\n",
       " (-11.316312804238807, 'acuity'),\n",
       " (-11.316312804238807, 'acupressure'),\n",
       " (-11.316312804238807, 'acupuncture'),\n",
       " (-11.316312804238807, 'acupuncturist'),\n",
       " (-11.316312804238807, 'acupuncturists'),\n",
       " (-11.316312804238807, 'acv'),\n",
       " (-11.316312804238807, 'ada'),\n",
       " (-11.316312804238807, 'adaaa'),\n",
       " (-11.316312804238807, 'adamski'),\n",
       " (-11.316312804238807, 'adani'),\n",
       " (-11.316312804238807, 'adapotogens'),\n",
       " (-11.316312804238807, 'adaption'),\n",
       " (-11.316312804238807, 'adaptogen'),\n",
       " ...]"
      ]
     },
     "execution_count": 241,
     "metadata": {},
     "output_type": "execute_result"
    }
   ],
   "source": [
    "feat_with_weights"
   ]
  },
  {
   "cell_type": "code",
   "execution_count": 242,
   "metadata": {},
   "outputs": [
    {
     "name": "stdout",
     "output_type": "stream",
     "text": [
      "['FAKE'] [(-11.316312804238807, '0000'), (-11.316312804238807, '000035'), (-11.316312804238807, '0001'), (-11.316312804238807, '0001pt'), (-11.316312804238807, '000km'), (-11.316312804238807, '0011'), (-11.316312804238807, '006s'), (-11.316312804238807, '007'), (-11.316312804238807, '007s'), (-11.316312804238807, '008s'), (-11.316312804238807, '0099'), (-11.316312804238807, '00am'), (-11.316312804238807, '00p'), (-11.316312804238807, '00pm'), (-11.316312804238807, '014'), (-11.316312804238807, '015'), (-11.316312804238807, '018'), (-11.316312804238807, '01am'), (-11.316312804238807, '020'), (-11.316312804238807, '023')]\n",
      "['REAL'] [(-7.742481952533027, 'states'), (-7.717550034444668, 'rubio'), (-7.703583809227384, 'voters'), (-7.654774992495461, 'house'), (-7.649398936153309, 'republicans'), (-7.6246184189367, 'bush'), (-7.616556675728882, 'percent'), (-7.545789237823644, 'people'), (-7.516447881078008, 'new'), (-7.448027933291952, 'party'), (-7.4111484102034755, 'cruz'), (-7.410910239085596, 'state'), (-7.35748985914622, 'republican'), (-7.33649923948987, 'campaign'), (-7.2854057032685775, 'president'), (-7.2166878130917755, 'sanders'), (-7.108263114902301, 'obama'), (-6.72477133248804, 'clinton'), (-6.565395438992684, 'said'), (-6.328486029596207, 'trump')]\n"
     ]
    }
   ],
   "source": [
    "# Print the first class label and the top 20 feat_with_weights entries\n",
    "print(class_labels[0:1], feat_with_weights[0:20])\n",
    "\n",
    "# Print the second class label and the bottom 20 feat_with_weights entries\n",
    "print(class_labels[1:2], feat_with_weights[-20:])"
   ]
  },
  {
   "cell_type": "code",
   "execution_count": null,
   "metadata": {},
   "outputs": [],
   "source": []
  }
 ],
 "metadata": {
  "kernelspec": {
   "display_name": "Python 3",
   "language": "python",
   "name": "python3"
  },
  "language_info": {
   "codemirror_mode": {
    "name": "ipython",
    "version": 3
   },
   "file_extension": ".py",
   "mimetype": "text/x-python",
   "name": "python",
   "nbconvert_exporter": "python",
   "pygments_lexer": "ipython3",
   "version": "3.6.5"
  }
 },
 "nbformat": 4,
 "nbformat_minor": 2
}
