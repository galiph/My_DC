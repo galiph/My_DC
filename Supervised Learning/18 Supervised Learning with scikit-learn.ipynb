{
 "cells": [
  {
   "cell_type": "markdown",
   "metadata": {},
   "source": [
    "# <font color=blue>Supervised Learning with scikit-learn</font> \n",
    "\n",
    "At the end of day, the value of Data Scientists rests on their ability to describe the world and to make predictions. Machine Learning is the field of teaching machines and computers to learn from existing data to make predictions on new data - will a given tumor be benign or malignant? Which of your customers will take their business elsewhere? Is a particular email spam or not? In this course, you'll learn how to use Python to perform supervised learning, an essential component of Machine Learning. You'll learn how to build predictive models, how to tune their parameters and how to tell how well they will perform on unseen data, all the while using real world datasets. You'll do so using scikit-learn, one of the most popular and user-friendly machine learning libraries for Python."
   ]
  },
  {
   "cell_type": "markdown",
   "metadata": {},
   "source": [
    "## <font color=red>01 - Classification </font> \n",
    "\n",
    " In this chapter, you will be introduced to classification problems and learn how to solve them using supervised learning techniques. Classification problems are prevalent in a variety of domains, ranging from finance to healthcare. Here, you will have the chance to apply what you are learning to a political dataset, where you classify the party affiliation of United States Congressmen based on their voting records. "
   ]
  },
  {
   "cell_type": "markdown",
   "metadata": {},
   "source": [
    "<div class=\"dc-u-p-24\"><h1 class=\"dc-h3\">Which of these is a classification problem?</h1>\n",
    "    <div class=\"\"><p><p>Once you decide to leverage supervised machine learning to solve a new problem, you need to identify whether your problem\n",
    "is better suited to classification or regression. This exercise will help you develop your intuition for distinguishing between the two.</p>\n",
    "<p>Provided below are 4 example applications of machine learning. Which of them is a supervised classification problem?</p></div>\n",
    "\n",
    "Possible Answers\n",
    "\n",
    "- __Using labeled financial data to predict whether the value of a stock will go up or go down next week.__\n",
    "- Using labeled housing price data to predict the price of a new house based on various features.\n",
    "- Using unlabeled data to cluster the students of an online education company into different categories based on their learning styles.\n",
    "- Using labeled financial data to predict what the value of a stock will be next week."
   ]
  },
  {
   "cell_type": "markdown",
   "metadata": {},
   "source": [
    "<div class=\"exercise--assignment exercise--typography\"><h1 class=\"exercise--title\">Numerical EDA</h1><p>In this chapter, you'll be working with a dataset obtained from the <a href=\"https://archive.ics.uci.edu/ml/datasets/Congressional+Voting+Records\" target=\"_blank\">UCI Machine Learning Repository</a> consisting of votes made by US House of Representatives Congressmen. Your goal will be to predict their party affiliation ('Democrat' or 'Republican') based on how they voted on certain key issues. Here, it's worth noting that we have preprocessed this dataset to deal with missing values. This is so that your focus can be directed towards understanding how to train and evaluate supervised learning models. Once you have mastered these fundamentals, you will be introduced to preprocessing techniques in Chapter 4 and have the chance to apply them there yourself - including on this very same dataset!</p>\n",
    "<p>Before thinking about what supervised learning models you can apply to this, however, you need to perform Exploratory data analysis (EDA) in order to understand the structure of the data. For a refresher on the importance of EDA, check out the first two chapters of <a href=\"https://www.datacamp.com/courses/statistical-thinking-in-python-part-1\" target=\"_blank\">Statistical Thinking in Python (Part 1)</a>. </p>\n",
    "<p>Get started with your EDA now by exploring this voting records dataset numerically. It has been pre-loaded for you into a DataFrame called <code>df</code>.  Use pandas' <code>.head()</code>, <code>.info()</code>, and <code>.describe()</code> methods in the IPython Shell to explore the DataFrame, and select the statement below that is <strong>not</strong> true.</p></div></div></div>"
   ]
  },
  {
   "cell_type": "code",
   "execution_count": 1,
   "metadata": {},
   "outputs": [],
   "source": [
    "import pandas as pd\n",
    "df_all = pd.read_csv('./data/house-votes-84 - NAN.csv', header=None)\n",
    "df = df_all.dropna()\n",
    "df.columns= ['party', 'infants', 'water', 'budget', 'physician', 'salvador',\n",
    "       'religious', 'satellite', 'aid', 'missile', 'immigration', 'synfuels',\n",
    "       'education', 'superfund', 'crime', 'duty_free_exports', 'eaa_rsa']"
   ]
  },
  {
   "cell_type": "code",
   "execution_count": 2,
   "metadata": {},
   "outputs": [
    {
     "data": {
      "text/html": [
       "<div>\n",
       "<style scoped>\n",
       "    .dataframe tbody tr th:only-of-type {\n",
       "        vertical-align: middle;\n",
       "    }\n",
       "\n",
       "    .dataframe tbody tr th {\n",
       "        vertical-align: top;\n",
       "    }\n",
       "\n",
       "    .dataframe thead th {\n",
       "        text-align: right;\n",
       "    }\n",
       "</style>\n",
       "<table border=\"1\" class=\"dataframe\">\n",
       "  <thead>\n",
       "    <tr style=\"text-align: right;\">\n",
       "      <th></th>\n",
       "      <th>party</th>\n",
       "      <th>infants</th>\n",
       "      <th>water</th>\n",
       "      <th>budget</th>\n",
       "      <th>physician</th>\n",
       "      <th>salvador</th>\n",
       "      <th>religious</th>\n",
       "      <th>satellite</th>\n",
       "      <th>aid</th>\n",
       "      <th>missile</th>\n",
       "      <th>immigration</th>\n",
       "      <th>synfuels</th>\n",
       "      <th>education</th>\n",
       "      <th>superfund</th>\n",
       "      <th>crime</th>\n",
       "      <th>duty_free_exports</th>\n",
       "      <th>eaa_rsa</th>\n",
       "    </tr>\n",
       "  </thead>\n",
       "  <tbody>\n",
       "    <tr>\n",
       "      <th>5</th>\n",
       "      <td>democrat</td>\n",
       "      <td>0.0</td>\n",
       "      <td>1.0</td>\n",
       "      <td>1.0</td>\n",
       "      <td>0.0</td>\n",
       "      <td>1.0</td>\n",
       "      <td>1.0</td>\n",
       "      <td>0.0</td>\n",
       "      <td>0.0</td>\n",
       "      <td>0.0</td>\n",
       "      <td>0.0</td>\n",
       "      <td>0.0</td>\n",
       "      <td>0.0</td>\n",
       "      <td>1.0</td>\n",
       "      <td>1.0</td>\n",
       "      <td>1.0</td>\n",
       "      <td>1.0</td>\n",
       "    </tr>\n",
       "    <tr>\n",
       "      <th>8</th>\n",
       "      <td>republica0</td>\n",
       "      <td>0.0</td>\n",
       "      <td>1.0</td>\n",
       "      <td>0.0</td>\n",
       "      <td>1.0</td>\n",
       "      <td>1.0</td>\n",
       "      <td>1.0</td>\n",
       "      <td>0.0</td>\n",
       "      <td>0.0</td>\n",
       "      <td>0.0</td>\n",
       "      <td>0.0</td>\n",
       "      <td>0.0</td>\n",
       "      <td>1.0</td>\n",
       "      <td>1.0</td>\n",
       "      <td>1.0</td>\n",
       "      <td>0.0</td>\n",
       "      <td>1.0</td>\n",
       "    </tr>\n",
       "    <tr>\n",
       "      <th>19</th>\n",
       "      <td>democrat</td>\n",
       "      <td>1.0</td>\n",
       "      <td>1.0</td>\n",
       "      <td>1.0</td>\n",
       "      <td>0.0</td>\n",
       "      <td>0.0</td>\n",
       "      <td>0.0</td>\n",
       "      <td>1.0</td>\n",
       "      <td>1.0</td>\n",
       "      <td>1.0</td>\n",
       "      <td>0.0</td>\n",
       "      <td>1.0</td>\n",
       "      <td>0.0</td>\n",
       "      <td>0.0</td>\n",
       "      <td>0.0</td>\n",
       "      <td>1.0</td>\n",
       "      <td>1.0</td>\n",
       "    </tr>\n",
       "    <tr>\n",
       "      <th>23</th>\n",
       "      <td>democrat</td>\n",
       "      <td>1.0</td>\n",
       "      <td>1.0</td>\n",
       "      <td>1.0</td>\n",
       "      <td>0.0</td>\n",
       "      <td>0.0</td>\n",
       "      <td>0.0</td>\n",
       "      <td>1.0</td>\n",
       "      <td>1.0</td>\n",
       "      <td>1.0</td>\n",
       "      <td>0.0</td>\n",
       "      <td>0.0</td>\n",
       "      <td>0.0</td>\n",
       "      <td>0.0</td>\n",
       "      <td>0.0</td>\n",
       "      <td>1.0</td>\n",
       "      <td>1.0</td>\n",
       "    </tr>\n",
       "    <tr>\n",
       "      <th>25</th>\n",
       "      <td>democrat</td>\n",
       "      <td>1.0</td>\n",
       "      <td>0.0</td>\n",
       "      <td>1.0</td>\n",
       "      <td>0.0</td>\n",
       "      <td>0.0</td>\n",
       "      <td>0.0</td>\n",
       "      <td>1.0</td>\n",
       "      <td>1.0</td>\n",
       "      <td>1.0</td>\n",
       "      <td>1.0</td>\n",
       "      <td>0.0</td>\n",
       "      <td>0.0</td>\n",
       "      <td>0.0</td>\n",
       "      <td>0.0</td>\n",
       "      <td>1.0</td>\n",
       "      <td>1.0</td>\n",
       "    </tr>\n",
       "  </tbody>\n",
       "</table>\n",
       "</div>"
      ],
      "text/plain": [
       "         party  infants  water  budget  physician  salvador  religious  \\\n",
       "5     democrat      0.0    1.0     1.0        0.0       1.0        1.0   \n",
       "8   republica0      0.0    1.0     0.0        1.0       1.0        1.0   \n",
       "19    democrat      1.0    1.0     1.0        0.0       0.0        0.0   \n",
       "23    democrat      1.0    1.0     1.0        0.0       0.0        0.0   \n",
       "25    democrat      1.0    0.0     1.0        0.0       0.0        0.0   \n",
       "\n",
       "    satellite  aid  missile  immigration  synfuels  education  superfund  \\\n",
       "5         0.0  0.0      0.0          0.0       0.0        0.0        1.0   \n",
       "8         0.0  0.0      0.0          0.0       0.0        1.0        1.0   \n",
       "19        1.0  1.0      1.0          0.0       1.0        0.0        0.0   \n",
       "23        1.0  1.0      1.0          0.0       0.0        0.0        0.0   \n",
       "25        1.0  1.0      1.0          1.0       0.0        0.0        0.0   \n",
       "\n",
       "    crime  duty_free_exports  eaa_rsa  \n",
       "5     1.0                1.0      1.0  \n",
       "8     1.0                0.0      1.0  \n",
       "19    0.0                1.0      1.0  \n",
       "23    0.0                1.0      1.0  \n",
       "25    0.0                1.0      1.0  "
      ]
     },
     "execution_count": 2,
     "metadata": {},
     "output_type": "execute_result"
    }
   ],
   "source": [
    "df.head()"
   ]
  },
  {
   "cell_type": "code",
   "execution_count": 3,
   "metadata": {},
   "outputs": [
    {
     "name": "stdout",
     "output_type": "stream",
     "text": [
      "<class 'pandas.core.frame.DataFrame'>\n",
      "Int64Index: 232 entries, 5 to 431\n",
      "Data columns (total 17 columns):\n",
      "party                232 non-null object\n",
      "infants              232 non-null float64\n",
      "water                232 non-null float64\n",
      "budget               232 non-null float64\n",
      "physician            232 non-null float64\n",
      "salvador             232 non-null float64\n",
      "religious            232 non-null float64\n",
      "satellite            232 non-null float64\n",
      "aid                  232 non-null float64\n",
      "missile              232 non-null float64\n",
      "immigration          232 non-null float64\n",
      "synfuels             232 non-null float64\n",
      "education            232 non-null float64\n",
      "superfund            232 non-null float64\n",
      "crime                232 non-null float64\n",
      "duty_free_exports    232 non-null float64\n",
      "eaa_rsa              232 non-null float64\n",
      "dtypes: float64(16), object(1)\n",
      "memory usage: 32.6+ KB\n"
     ]
    }
   ],
   "source": [
    "df.info()"
   ]
  },
  {
   "cell_type": "code",
   "execution_count": 4,
   "metadata": {},
   "outputs": [
    {
     "data": {
      "text/html": [
       "<div>\n",
       "<style scoped>\n",
       "    .dataframe tbody tr th:only-of-type {\n",
       "        vertical-align: middle;\n",
       "    }\n",
       "\n",
       "    .dataframe tbody tr th {\n",
       "        vertical-align: top;\n",
       "    }\n",
       "\n",
       "    .dataframe thead th {\n",
       "        text-align: right;\n",
       "    }\n",
       "</style>\n",
       "<table border=\"1\" class=\"dataframe\">\n",
       "  <thead>\n",
       "    <tr style=\"text-align: right;\">\n",
       "      <th></th>\n",
       "      <th>infants</th>\n",
       "      <th>water</th>\n",
       "      <th>budget</th>\n",
       "      <th>physician</th>\n",
       "      <th>salvador</th>\n",
       "      <th>religious</th>\n",
       "      <th>satellite</th>\n",
       "      <th>aid</th>\n",
       "      <th>missile</th>\n",
       "      <th>immigration</th>\n",
       "      <th>synfuels</th>\n",
       "      <th>education</th>\n",
       "      <th>superfund</th>\n",
       "      <th>crime</th>\n",
       "      <th>duty_free_exports</th>\n",
       "      <th>eaa_rsa</th>\n",
       "    </tr>\n",
       "  </thead>\n",
       "  <tbody>\n",
       "    <tr>\n",
       "      <th>count</th>\n",
       "      <td>232.000000</td>\n",
       "      <td>232.000000</td>\n",
       "      <td>232.000000</td>\n",
       "      <td>232.000000</td>\n",
       "      <td>232.000000</td>\n",
       "      <td>232.000000</td>\n",
       "      <td>232.000000</td>\n",
       "      <td>232.000000</td>\n",
       "      <td>232.000000</td>\n",
       "      <td>232.000000</td>\n",
       "      <td>232.000000</td>\n",
       "      <td>232.000000</td>\n",
       "      <td>232.000000</td>\n",
       "      <td>232.000000</td>\n",
       "      <td>232.000000</td>\n",
       "      <td>232.000000</td>\n",
       "    </tr>\n",
       "    <tr>\n",
       "      <th>mean</th>\n",
       "      <td>0.413793</td>\n",
       "      <td>0.461207</td>\n",
       "      <td>0.530172</td>\n",
       "      <td>0.487069</td>\n",
       "      <td>0.551724</td>\n",
       "      <td>0.642241</td>\n",
       "      <td>0.534483</td>\n",
       "      <td>0.512931</td>\n",
       "      <td>0.487069</td>\n",
       "      <td>0.551724</td>\n",
       "      <td>0.344828</td>\n",
       "      <td>0.465517</td>\n",
       "      <td>0.547414</td>\n",
       "      <td>0.642241</td>\n",
       "      <td>0.370690</td>\n",
       "      <td>0.814655</td>\n",
       "    </tr>\n",
       "    <tr>\n",
       "      <th>std</th>\n",
       "      <td>0.493577</td>\n",
       "      <td>0.499571</td>\n",
       "      <td>0.500168</td>\n",
       "      <td>0.500913</td>\n",
       "      <td>0.498393</td>\n",
       "      <td>0.480377</td>\n",
       "      <td>0.499888</td>\n",
       "      <td>0.500913</td>\n",
       "      <td>0.500913</td>\n",
       "      <td>0.498393</td>\n",
       "      <td>0.476340</td>\n",
       "      <td>0.499888</td>\n",
       "      <td>0.498823</td>\n",
       "      <td>0.480377</td>\n",
       "      <td>0.484034</td>\n",
       "      <td>0.389417</td>\n",
       "    </tr>\n",
       "    <tr>\n",
       "      <th>min</th>\n",
       "      <td>0.000000</td>\n",
       "      <td>0.000000</td>\n",
       "      <td>0.000000</td>\n",
       "      <td>0.000000</td>\n",
       "      <td>0.000000</td>\n",
       "      <td>0.000000</td>\n",
       "      <td>0.000000</td>\n",
       "      <td>0.000000</td>\n",
       "      <td>0.000000</td>\n",
       "      <td>0.000000</td>\n",
       "      <td>0.000000</td>\n",
       "      <td>0.000000</td>\n",
       "      <td>0.000000</td>\n",
       "      <td>0.000000</td>\n",
       "      <td>0.000000</td>\n",
       "      <td>0.000000</td>\n",
       "    </tr>\n",
       "    <tr>\n",
       "      <th>25%</th>\n",
       "      <td>0.000000</td>\n",
       "      <td>0.000000</td>\n",
       "      <td>0.000000</td>\n",
       "      <td>0.000000</td>\n",
       "      <td>0.000000</td>\n",
       "      <td>0.000000</td>\n",
       "      <td>0.000000</td>\n",
       "      <td>0.000000</td>\n",
       "      <td>0.000000</td>\n",
       "      <td>0.000000</td>\n",
       "      <td>0.000000</td>\n",
       "      <td>0.000000</td>\n",
       "      <td>0.000000</td>\n",
       "      <td>0.000000</td>\n",
       "      <td>0.000000</td>\n",
       "      <td>1.000000</td>\n",
       "    </tr>\n",
       "    <tr>\n",
       "      <th>50%</th>\n",
       "      <td>0.000000</td>\n",
       "      <td>0.000000</td>\n",
       "      <td>1.000000</td>\n",
       "      <td>0.000000</td>\n",
       "      <td>1.000000</td>\n",
       "      <td>1.000000</td>\n",
       "      <td>1.000000</td>\n",
       "      <td>1.000000</td>\n",
       "      <td>0.000000</td>\n",
       "      <td>1.000000</td>\n",
       "      <td>0.000000</td>\n",
       "      <td>0.000000</td>\n",
       "      <td>1.000000</td>\n",
       "      <td>1.000000</td>\n",
       "      <td>0.000000</td>\n",
       "      <td>1.000000</td>\n",
       "    </tr>\n",
       "    <tr>\n",
       "      <th>75%</th>\n",
       "      <td>1.000000</td>\n",
       "      <td>1.000000</td>\n",
       "      <td>1.000000</td>\n",
       "      <td>1.000000</td>\n",
       "      <td>1.000000</td>\n",
       "      <td>1.000000</td>\n",
       "      <td>1.000000</td>\n",
       "      <td>1.000000</td>\n",
       "      <td>1.000000</td>\n",
       "      <td>1.000000</td>\n",
       "      <td>1.000000</td>\n",
       "      <td>1.000000</td>\n",
       "      <td>1.000000</td>\n",
       "      <td>1.000000</td>\n",
       "      <td>1.000000</td>\n",
       "      <td>1.000000</td>\n",
       "    </tr>\n",
       "    <tr>\n",
       "      <th>max</th>\n",
       "      <td>1.000000</td>\n",
       "      <td>1.000000</td>\n",
       "      <td>1.000000</td>\n",
       "      <td>1.000000</td>\n",
       "      <td>1.000000</td>\n",
       "      <td>1.000000</td>\n",
       "      <td>1.000000</td>\n",
       "      <td>1.000000</td>\n",
       "      <td>1.000000</td>\n",
       "      <td>1.000000</td>\n",
       "      <td>1.000000</td>\n",
       "      <td>1.000000</td>\n",
       "      <td>1.000000</td>\n",
       "      <td>1.000000</td>\n",
       "      <td>1.000000</td>\n",
       "      <td>1.000000</td>\n",
       "    </tr>\n",
       "  </tbody>\n",
       "</table>\n",
       "</div>"
      ],
      "text/plain": [
       "          infants       water      budget   physician    salvador   religious  \\\n",
       "count  232.000000  232.000000  232.000000  232.000000  232.000000  232.000000   \n",
       "mean     0.413793    0.461207    0.530172    0.487069    0.551724    0.642241   \n",
       "std      0.493577    0.499571    0.500168    0.500913    0.498393    0.480377   \n",
       "min      0.000000    0.000000    0.000000    0.000000    0.000000    0.000000   \n",
       "25%      0.000000    0.000000    0.000000    0.000000    0.000000    0.000000   \n",
       "50%      0.000000    0.000000    1.000000    0.000000    1.000000    1.000000   \n",
       "75%      1.000000    1.000000    1.000000    1.000000    1.000000    1.000000   \n",
       "max      1.000000    1.000000    1.000000    1.000000    1.000000    1.000000   \n",
       "\n",
       "        satellite         aid     missile  immigration    synfuels  \\\n",
       "count  232.000000  232.000000  232.000000   232.000000  232.000000   \n",
       "mean     0.534483    0.512931    0.487069     0.551724    0.344828   \n",
       "std      0.499888    0.500913    0.500913     0.498393    0.476340   \n",
       "min      0.000000    0.000000    0.000000     0.000000    0.000000   \n",
       "25%      0.000000    0.000000    0.000000     0.000000    0.000000   \n",
       "50%      1.000000    1.000000    0.000000     1.000000    0.000000   \n",
       "75%      1.000000    1.000000    1.000000     1.000000    1.000000   \n",
       "max      1.000000    1.000000    1.000000     1.000000    1.000000   \n",
       "\n",
       "        education   superfund       crime  duty_free_exports     eaa_rsa  \n",
       "count  232.000000  232.000000  232.000000         232.000000  232.000000  \n",
       "mean     0.465517    0.547414    0.642241           0.370690    0.814655  \n",
       "std      0.499888    0.498823    0.480377           0.484034    0.389417  \n",
       "min      0.000000    0.000000    0.000000           0.000000    0.000000  \n",
       "25%      0.000000    0.000000    0.000000           0.000000    1.000000  \n",
       "50%      0.000000    1.000000    1.000000           0.000000    1.000000  \n",
       "75%      1.000000    1.000000    1.000000           1.000000    1.000000  \n",
       "max      1.000000    1.000000    1.000000           1.000000    1.000000  "
      ]
     },
     "execution_count": 4,
     "metadata": {},
     "output_type": "execute_result"
    }
   ],
   "source": [
    "df.describe()"
   ]
  },
  {
   "cell_type": "markdown",
   "metadata": {},
   "source": [
    "<div class=\"exercise--assignment exercise--typography\"><h1 class=\"exercise--title\">Visual EDA</h1><p>The Numerical EDA you did in the previous exercise gave you some very important information, such as the names and data types of the columns, and the dimensions of the DataFrame. Following this with some visual EDA will give you an even better understanding of the data. In the video, Hugo used the <code>scatter_matrix()</code> function on the Iris data for this purpose. However, you may have noticed in the previous exercise that all the features in this dataset are binary; that is, they are either 0 or 1. So a different type of plot would be more useful here, such as <a href=\"http://seaborn.pydata.org/generated/seaborn.countplot.html\" target=\"_blank\">Seaborn's <code>countplot</code></a>.</p>\n",
    "<p>Given on the right is a <code>countplot</code> of the <code>'education'</code> bill, generated from the following code:</p>\n",
    "<pre><code class=\"{python} language-{python}\">plt.figure()\n",
    "sns.countplot(x='education', hue='party', data=df, palette='RdBu')\n",
    "plt.xticks([0,1], ['No', 'Yes'])\n",
    "plt.show()\n",
    "</code></pre>\n",
    "<p>In <code>sns.countplot()</code>, we specify the x-axis data to be <code>'education'</code>, and hue to be <code>'party'</code>. Recall that <code>'party'</code> is also our target variable. So the resulting plot shows the difference in voting behavior between the two parties for the <code>'education'</code> bill, with each party colored differently. We manually specified the color to be <code>'RdBu'</code>, as the Republican party has been traditionally associated with red, and the Democratic party with blue.</p>\n",
    "<p>It seems like Democrats voted resoundingly <em>against</em> this bill, compared to Republicans. This is the kind of information that our machine learning model will seek to learn when we try to predict party affiliation solely based on voting behavior. An expert in U.S politics may be able to predict this without machine learning, but probably not instantaneously - and certainly not if we are dealing with hundreds of samples! </p>\n",
    "<p>In the IPython Shell, explore the voting behavior further by generating countplots for the <code>'satellite'</code> and <code>'missile'</code> bills, and answer the following question: Of these two bills, for which ones do Democrats vote resoundingly in <em>favor</em> of, compared to Republicans? Be sure to begin your plotting statements for each figure with <code>plt.figure()</code> so that a new figure will be set up. Otherwise, your plots will be overlayed onto the same figure.</p></div></div></div>"
   ]
  },
  {
   "cell_type": "code",
   "execution_count": 5,
   "metadata": {},
   "outputs": [],
   "source": [
    "import seaborn as sns\n",
    "import matplotlib.pyplot as plt\n",
    "%matplotlib inline"
   ]
  },
  {
   "cell_type": "code",
   "execution_count": 6,
   "metadata": {},
   "outputs": [
    {
     "data": {
      "image/png": "[encoded data removed]",
      "text/plain": [
       "<Figure size 432x288 with 1 Axes>"
      ]
     },
     "metadata": {},
     "output_type": "display_data"
    }
   ],
   "source": [
    "plt.figure()\n",
    "sns.countplot(x='education', hue='party', data=df, palette='RdBu')\n",
    "plt.xticks([0,1], ['No', 'Yes'])\n",
    "plt.show()"
   ]
  },
  {
   "cell_type": "markdown",
   "metadata": {},
   "source": [
    "##### Both 'satellite' and 'missile'."
   ]
  },
  {
   "cell_type": "markdown",
   "metadata": {},
   "source": [
    "<div class=\"exercise--assignment exercise--typography\"><h1 class=\"exercise--title\">k-Nearest Neighbors: Fit</h1><p>Having explored the Congressional voting records dataset, it is time now to build your first classifier. In this exercise, you will fit a k-Nearest Neighbors classifier to the voting dataset, which has once again been pre-loaded for you into a DataFrame <code>df</code>. </p>\n",
    "<p>In the video, Hugo discussed the importance of ensuring your data adheres to the format required by the scikit-learn API. The features need to be in an array where each column is a feature and each row a different observation or data point - in this case, a Congressman's voting record. The target needs to be a single column with the same number of observations as the feature data. We have done this for you in this exercise. Notice we named the feature array <code>X</code> and response variable <code>y</code>: This is in accordance with the common scikit-learn practice.</p>\n",
    "<p>Your job is to create an instance of a k-NN classifier with 6 neighbors (by specifying the <code>n_neighbors</code> parameter) and then fit it to the data. The data has been pre-loaded into a DataFrame called <code>df</code>.</p></div></div></div>"
   ]
  },
  {
   "cell_type": "code",
   "execution_count": 7,
   "metadata": {},
   "outputs": [],
   "source": [
    "# Import KNeighborsClassifier from sklearn.neighbors\n",
    "from sklearn.neighbors import KNeighborsClassifier"
   ]
  },
  {
   "cell_type": "code",
   "execution_count": 8,
   "metadata": {},
   "outputs": [],
   "source": [
    "# Create arrays for the features and the response variable\n",
    "y = df['party'].values\n",
    "X = df.drop('party', axis=1).values"
   ]
  },
  {
   "cell_type": "code",
   "execution_count": 9,
   "metadata": {},
   "outputs": [],
   "source": [
    "# Create a k-NN classifier with 6 neighbors\n",
    "knn = KNeighborsClassifier(n_neighbors=6)"
   ]
  },
  {
   "cell_type": "code",
   "execution_count": 10,
   "metadata": {},
   "outputs": [
    {
     "data": {
      "text/plain": [
       "KNeighborsClassifier(algorithm='auto', leaf_size=30, metric='minkowski',\n",
       "           metric_params=None, n_jobs=1, n_neighbors=6, p=2,\n",
       "           weights='uniform')"
      ]
     },
     "execution_count": 10,
     "metadata": {},
     "output_type": "execute_result"
    }
   ],
   "source": [
    "# Fit the classifier to the data\n",
    "knn.fit(X,y)"
   ]
  },
  {
   "cell_type": "markdown",
   "metadata": {},
   "source": [
    "<div class=\"exercise--assignment exercise--typography\"><h1 class=\"exercise--title\">k-Nearest Neighbors: Predict</h1><p>Having fit a k-NN classifier, you can now use it to predict the label of a new data point. However, there is no unlabeled data available since all of it was used to fit the model! You can still use the <code>.predict()</code> method on the <code>X</code> that was used to fit the model, but it is not a good indicator of the model's ability to generalize to new, unseen data. </p>\n",
    "<p>In the next video, Hugo will discuss a solution to this problem. For now, a random unlabeled data point has been generated and is available to you as <code>X_new</code>. You will use your classifier to predict the label for this new data point, as well as on the training data <code>X</code> that the model has already seen. Using <code>.predict()</code> on <code>X_new</code> will generate 1 prediction, while using it on <code>X</code> will generate 435 predictions: 1 for each sample.</p>\n",
    "<p>The DataFrame has been pre-loaded as <code>df</code>. This time, you will create the feature array <code>X</code> and target variable array <code>y</code> yourself.</p></div></div></div>"
   ]
  },
  {
   "cell_type": "code",
   "execution_count": 11,
   "metadata": {},
   "outputs": [],
   "source": [
    "X_new = pd.read_csv('./data/house-votes-84 - test.csv', header=None)"
   ]
  },
  {
   "cell_type": "code",
   "execution_count": 12,
   "metadata": {},
   "outputs": [
    {
     "data": {
      "text/html": [
       "<div>\n",
       "<style scoped>\n",
       "    .dataframe tbody tr th:only-of-type {\n",
       "        vertical-align: middle;\n",
       "    }\n",
       "\n",
       "    .dataframe tbody tr th {\n",
       "        vertical-align: top;\n",
       "    }\n",
       "\n",
       "    .dataframe thead th {\n",
       "        text-align: right;\n",
       "    }\n",
       "</style>\n",
       "<table border=\"1\" class=\"dataframe\">\n",
       "  <thead>\n",
       "    <tr style=\"text-align: right;\">\n",
       "      <th></th>\n",
       "      <th>0</th>\n",
       "      <th>1</th>\n",
       "      <th>2</th>\n",
       "      <th>3</th>\n",
       "      <th>4</th>\n",
       "      <th>5</th>\n",
       "      <th>6</th>\n",
       "      <th>7</th>\n",
       "      <th>8</th>\n",
       "      <th>9</th>\n",
       "      <th>10</th>\n",
       "      <th>11</th>\n",
       "      <th>12</th>\n",
       "      <th>13</th>\n",
       "      <th>14</th>\n",
       "      <th>15</th>\n",
       "    </tr>\n",
       "  </thead>\n",
       "  <tbody>\n",
       "    <tr>\n",
       "      <th>0</th>\n",
       "      <td>0.065374</td>\n",
       "      <td>0.703688</td>\n",
       "      <td>0.921275</td>\n",
       "      <td>0.888646</td>\n",
       "      <td>0.130868</td>\n",
       "      <td>0.477109</td>\n",
       "      <td>0.106336</td>\n",
       "      <td>0.888799</td>\n",
       "      <td>0.723148</td>\n",
       "      <td>0.895249</td>\n",
       "      <td>0.857919</td>\n",
       "      <td>0.321922</td>\n",
       "      <td>0.914053</td>\n",
       "      <td>0.924441</td>\n",
       "      <td>0.902611</td>\n",
       "      <td>0.131268</td>\n",
       "    </tr>\n",
       "  </tbody>\n",
       "</table>\n",
       "</div>"
      ],
      "text/plain": [
       "         0         1         2         3         4         5         6   \\\n",
       "0  0.065374  0.703688  0.921275  0.888646  0.130868  0.477109  0.106336   \n",
       "\n",
       "         7         8         9         10        11        12        13  \\\n",
       "0  0.888799  0.723148  0.895249  0.857919  0.321922  0.914053  0.924441   \n",
       "\n",
       "         14        15  \n",
       "0  0.902611  0.131268  "
      ]
     },
     "execution_count": 12,
     "metadata": {},
     "output_type": "execute_result"
    }
   ],
   "source": [
    "X_new"
   ]
  },
  {
   "cell_type": "code",
   "execution_count": 13,
   "metadata": {},
   "outputs": [
    {
     "name": "stdout",
     "output_type": "stream",
     "text": [
      "Prediction: ['democrat']\n"
     ]
    }
   ],
   "source": [
    "# Import KNeighborsClassifier from sklearn.neighbors\n",
    "from sklearn.neighbors import KNeighborsClassifier \n",
    "\n",
    "# Create arrays for the features and the response variable\n",
    "y = df['party'].values\n",
    "X = df.drop('party', axis=1).values\n",
    "\n",
    "# Create a k-NN classifier with 6 neighbors: knn\n",
    "knn = KNeighborsClassifier(n_neighbors=6)\n",
    "\n",
    "# Fit the classifier to the data\n",
    "knn.fit(X,y)\n",
    "\n",
    "# Predict the labels for the training data X\n",
    "y_pred = knn.predict(X)\n",
    "\n",
    "# Predict and print the label for the new data point X_new\n",
    "new_prediction = knn.predict(X_new)\n",
    "print(\"Prediction: {}\".format(new_prediction))"
   ]
  },
  {
   "cell_type": "markdown",
   "metadata": {},
   "source": [
    "<div class=\"exercise--assignment exercise--typography\"><h1 class=\"exercise--title\">The digits recognition dataset</h1><p>Up until now, you have been performing binary classification, since the target variable had two possible outcomes. Hugo, however, got to perform\n",
    "multi-class classification in the videos, where the target variable could take on three possible outcomes. Why does he get to have all the fun?!\n",
    "In the following exercises, you'll be working with the <a href=\"http://yann.lecun.com/exdb/mnist/\" target=\"_blank\">MNIST</a> digits recognition dataset, which has\n",
    "10 classes, the digits 0 through 9! A reduced version of the MNIST dataset is one of scikit-learn's included datasets, and that is the one we will use in this exercise. </p>\n",
    "<p>Each sample in this scikit-learn dataset is an 8x8 image representing a handwritten digit. Each pixel is represented by an integer in the range 0 to 16, indicating varying levels of black. Recall that scikit-learn's built-in datasets are of type <code>Bunch</code>, which are dictionary-like objects. Helpfully for the MNIST dataset, scikit-learn provides an <code>'images'</code> key in addition to the <code>'data'</code> and <code>'target'</code> keys that you have seen with the Iris data. Because it is a 2D array of the images corresponding to each sample, this <code>'images'</code> key is useful for visualizing the images, as you'll see in this exercise (for more on plotting 2D arrays, see <a href=\"https://www.datacamp.com/courses/introduction-to-data-visualization-with-python\" target=\"_blank\">Chapter 2</a> of DataCamp's course on Data Visualization with Python). On the other hand, the <code>'data'</code> key contains the feature array - that is, the images as a flattened array of 64 pixels.</p>\n",
    "<p>Notice that you can access the keys of these <code>Bunch</code> objects in two different ways: By using the <code>.</code> notation, as in <code>digits.images</code>, or the <code>[]</code> notation, as in <code>digits['images']</code>. </p>\n",
    "<p>For more on the MNIST data, check out <a href=\"https://campus.datacamp.com/courses/importing-data-in-python-part-1/introduction-and-flat-files-1?ex=10\" target=\"_blank\">this exercise</a> in Part 1 of DataCamp's Importing Data in Python course. There, the full version of the MNIST dataset is used, in which the images are 28x28. It is a famous dataset in machine learning and computer vision, and frequently used as a benchmark to evaluate the performance of a new model.</p></div></div></div>"
   ]
  },
  {
   "cell_type": "code",
   "execution_count": 14,
   "metadata": {},
   "outputs": [
    {
     "name": "stdout",
     "output_type": "stream",
     "text": [
      "dict_keys(['data', 'target', 'target_names', 'images', 'DESCR'])\n",
      "Optical Recognition of Handwritten Digits Data Set\n",
      "===================================================\n",
      "\n",
      "Notes\n",
      "-----\n",
      "Data Set Characteristics:\n",
      "    :Number of Instances: 5620\n",
      "    :Number of Attributes: 64\n",
      "    :Attribute Information: 8x8 image of integer pixels in the range 0..16.\n",
      "    :Missing Attribute Values: None\n",
      "    :Creator: E. Alpaydin (alpaydin '@' boun.edu.tr)\n",
      "    :Date: July; 1998\n",
      "\n",
      "This is a copy of the test set of the UCI ML hand-written digits datasets\n",
      "http://archive.ics.uci.edu/ml/datasets/Optical+Recognition+of+Handwritten+Digits\n",
      "\n",
      "The data set contains images of hand-written digits: 10 classes where\n",
      "each class refers to a digit.\n",
      "\n",
      "Preprocessing programs made available by NIST were used to extract\n",
      "normalized bitmaps of handwritten digits from a preprinted form. From a\n",
      "total of 43 people, 30 contributed to the training set and different 13\n",
      "to the test set. 32x32 bitmaps are divided into nonoverlapping blocks of\n",
      "4x4 and the number of on pixels are counted in each block. This generates\n",
      "an input matrix of 8x8 where each element is an integer in the range\n",
      "0..16. This reduces dimensionality and gives invariance to small\n",
      "distortions.\n",
      "\n",
      "For info on NIST preprocessing routines, see M. D. Garris, J. L. Blue, G.\n",
      "T. Candela, D. L. Dimmick, J. Geist, P. J. Grother, S. A. Janet, and C.\n",
      "L. Wilson, NIST Form-Based Handprint Recognition System, NISTIR 5469,\n",
      "1994.\n",
      "\n",
      "References\n",
      "----------\n",
      "  - C. Kaynak (1995) Methods of Combining Multiple Classifiers and Their\n",
      "    Applications to Handwritten Digit Recognition, MSc Thesis, Institute of\n",
      "    Graduate Studies in Science and Engineering, Bogazici University.\n",
      "  - E. Alpaydin, C. Kaynak (1998) Cascading Classifiers, Kybernetika.\n",
      "  - Ken Tang and Ponnuthurai N. Suganthan and Xi Yao and A. Kai Qin.\n",
      "    Linear dimensionalityreduction using relevance weighted LDA. School of\n",
      "    Electrical and Electronic Engineering Nanyang Technological University.\n",
      "    2005.\n",
      "  - Claudio Gentile. A New Approximate Maximal Margin Classification\n",
      "    Algorithm. NIPS. 2000.\n",
      "\n",
      "(1797, 8, 8)\n",
      "(1797, 64)\n"
     ]
    },
    {
     "data": {
      "image/png": "[encoded data removed]",
      "text/plain": [
       "<Figure size 432x288 with 1 Axes>"
      ]
     },
     "metadata": {},
     "output_type": "display_data"
    }
   ],
   "source": [
    "# Import necessary modules\n",
    "from sklearn import datasets\n",
    "import matplotlib.pyplot as plt\n",
    "\n",
    "# Load the digits dataset: digits\n",
    "digits = datasets.load_digits()\n",
    "\n",
    "# Print the keys and DESCR of the dataset\n",
    "print(digits.keys())\n",
    "print(digits.DESCR)\n",
    "\n",
    "# Print the shape of the images and data keys\n",
    "print(digits.images.shape)\n",
    "print(digits.data.shape)\n",
    "\n",
    "# Display digit 1010\n",
    "plt.imshow(digits.images[1010], cmap=plt.cm.gray_r, interpolation='nearest')\n",
    "plt.show()"
   ]
  },
  {
   "cell_type": "markdown",
   "metadata": {},
   "source": [
    "<div class=\"exercise--assignment exercise--typography\"><h1 class=\"exercise--title\">Train/Test Split + Fit/Predict/Accuracy</h1><p>Now that you have learned about the importance of splitting your data into training and test sets, it's time to practice doing this on the digits dataset! After creating arrays for the features and target variable, you will split them into training and test sets, fit a k-NN classifier to the training data, and then compute its accuracy using the <code>.score()</code> method.</p></div></div></div>"
   ]
  },
  {
   "cell_type": "code",
   "execution_count": 15,
   "metadata": {},
   "outputs": [
    {
     "name": "stdout",
     "output_type": "stream",
     "text": [
      "0.9833333333333333\n"
     ]
    }
   ],
   "source": [
    "# Import necessary modules\n",
    "from sklearn.neighbors import KNeighborsClassifier\n",
    "from sklearn.model_selection import train_test_split\n",
    "\n",
    "# Create feature and target arrays\n",
    "X = digits.data\n",
    "y = digits.target\n",
    "\n",
    "# Split into training and test set\n",
    "X_train, X_test, y_train, y_test = train_test_split(X, y, test_size=0.2, random_state=42, stratify = y)\n",
    "\n",
    "# Create a k-NN classifier with 7 neighbors: knn\n",
    "knn = KNeighborsClassifier(n_neighbors=7)\n",
    "\n",
    "# Fit the classifier to the training data\n",
    "knn.fit(X_train, y_train)\n",
    "\n",
    "# Print the accuracy\n",
    "print(knn.score(X_test, y_test))"
   ]
  },
  {
   "cell_type": "markdown",
   "metadata": {},
   "source": [
    "<div class=\"exercise--assignment exercise--typography\"><h1 class=\"exercise--title\">Overfitting and underfitting</h1><p>Remember the model complexity curve that Hugo showed in the video? You will now construct such a curve for the digits dataset! In this exercise, you will compute and plot the training and testing accuracy scores for a variety of different neighbor values. By observing how the accuracy scores differ for the training and testing sets with different values of k, you will develop your intuition for overfitting and underfitting.</p>\n",
    "<p>The training and testing sets are available to you in the workspace as <code>X_train</code>, <code>X_test</code>, <code>y_train</code>, <code>y_test</code>. In addition, <code>KNeighborsClassifier</code> has been imported from <code>sklearn.neighbors</code>.</p></div></div></div>"
   ]
  },
  {
   "cell_type": "code",
   "execution_count": 17,
   "metadata": {},
   "outputs": [
    {
     "data": {
      "image/png": "[encoded data removed]",
      "text/plain": [
       "<Figure size 432x288 with 1 Axes>"
      ]
     },
     "metadata": {},
     "output_type": "display_data"
    }
   ],
   "source": [
    "import numpy as np\n",
    "# Setup arrays to store train and test accuracies\n",
    "neighbors = np.arange(1, 9)\n",
    "train_accuracy = np.empty(len(neighbors))\n",
    "test_accuracy = np.empty(len(neighbors))\n",
    "\n",
    "# Loop over different values of k\n",
    "for i, k in enumerate(neighbors):\n",
    "    # Setup a k-NN Classifier with k neighbors: knn\n",
    "    knn = KNeighborsClassifier(n_neighbors=k)\n",
    "\n",
    "    # Fit the classifier to the training data\n",
    "    knn.fit(X_train, y_train)\n",
    "    \n",
    "    #Compute accuracy on the training set\n",
    "    train_accuracy[i] = knn.score(X_train, y_train)\n",
    "\n",
    "    #Compute accuracy on the testing set\n",
    "    test_accuracy[i] = knn.score(X_test, y_test)\n",
    "\n",
    "# Generate plot\n",
    "plt.title('k-NN: Varying Number of Neighbors')\n",
    "plt.plot(neighbors, test_accuracy, label = 'Testing Accuracy')\n",
    "plt.plot(neighbors, train_accuracy, label = 'Training Accuracy')\n",
    "plt.legend()\n",
    "plt.xlabel('Number of Neighbors')\n",
    "plt.ylabel('Accuracy')\n",
    "plt.show()"
   ]
  },
  {
   "cell_type": "markdown",
   "metadata": {},
   "source": [
    "## <font color=red>02 - Regression </font> \n",
    "\n",
    " In the previous chapter, you made use of image and political datasets to predict binary as well as multiclass outcomes. But what if your problem requires a continuous outcome? Regression, which is the focus of this chapter, is best suited to solving such problems. You will learn about fundamental concepts in regression and apply them to predict the life expectancy in a given country using Gapminder data. "
   ]
  },
  {
   "cell_type": "markdown",
   "metadata": {},
   "source": [
    "### Which of the following is a regression problem?\n",
    "\n",
    "Andy introduced regression to you using the Boston housing dataset. But regression models can be used in a variety of contexts to solve a variety of different problems.\n",
    "\n",
    "Given below are four example applications of machine learning. Your job is to pick the one that is best framed as a regression problem.\n",
    "\n",
    "##### A bike share company using time and weather data to predict the number of bikes being rented at any given hour."
   ]
  },
  {
   "cell_type": "markdown",
   "metadata": {},
   "source": [
    "<div class=\"exercise--assignment exercise--typography\"><h1 class=\"exercise--title\">Importing data for supervised learning</h1><p>In this chapter, you will work with <a href=\"https://www.gapminder.org/data/\" target=\"_blank\">Gapminder</a> data that we have consolidated into one CSV file available in the workspace as <code>'gapminder.csv'</code>. Specifically, your goal will be to use this data to predict the life expectancy in a given country based on features such as the country's GDP, fertility rate, and population. As in Chapter 1, the dataset has been preprocessed.</p>\n",
    "<p>Since the target variable here is quantitative, this is a regression problem. To begin, you will fit a linear regression with just one feature: <code>'fertility'</code>, which is the average number of children a woman in a given country gives birth to. In later exercises, you will use all the features to build regression models.</p>\n",
    "<p>Before that, however, you need to import the data and get it into the form needed by scikit-learn. This involves creating feature and target variable arrays. Furthermore, since you are going to use only one feature to begin with, you need to do some reshaping using NumPy's <code>.reshape()</code> method. Don't worry too much about this reshaping right now, but it is something you will have to do occasionally when working with scikit-learn so it is useful to practice.</p></div></div></div>"
   ]
  },
  {
   "cell_type": "code",
   "execution_count": 18,
   "metadata": {},
   "outputs": [
    {
     "name": "stdout",
     "output_type": "stream",
     "text": [
      "Dimensions of y before reshaping: (139,)\n",
      "Dimensions of X before reshaping: (139,)\n",
      "Dimensions of y after reshaping: (139, 1)\n",
      "Dimensions of X after reshaping: (139, 1)\n"
     ]
    }
   ],
   "source": [
    "# Import numpy and pandas\n",
    "import numpy as np\n",
    "import pandas as pd\n",
    "\n",
    "# Read the CSV file into a DataFrame: df\n",
    "df = pd.read_csv('./data/gapminder.csv')\n",
    "\n",
    "# Create arrays for features and target variable\n",
    "y = df['life'].values\n",
    "X = df['fertility'].values\n",
    "\n",
    "# Print the dimensions of X and y before reshaping\n",
    "print(\"Dimensions of y before reshaping: {}\".format(y.shape))\n",
    "print(\"Dimensions of X before reshaping: {}\".format(X.shape))\n",
    "\n",
    "# Reshape X and y\n",
    "X = X.reshape(-1,1)\n",
    "y = y.reshape(-1,1)\n",
    "\n",
    "# Print the dimensions of X and y after reshaping\n",
    "print(\"Dimensions of y after reshaping: {}\".format(y.shape))\n",
    "print(\"Dimensions of X after reshaping: {}\".format(X.shape))"
   ]
  },
  {
   "cell_type": "markdown",
   "metadata": {},
   "source": [
    "<div class=\"exercise--assignment exercise--typography\"><h1 class=\"exercise--title\">Exploring the Gapminder data</h1><p>As always, it is important to explore your data before building models. On the right, we have constructed a heatmap showing the correlation between the different features of the Gapminder dataset, which has been pre-loaded into a DataFrame as <code>df</code> and is available for exploration in the IPython Shell. Cells that are in green show positive correlation, while cells that are in red show negative correlation. Take a moment to explore this: Which features are positively correlated with <code>life</code>, and which ones are negatively correlated? Does this match your intuition? </p>\n",
    "<p>Then, in the IPython Shell, explore the DataFrame using pandas methods such as <code>.info()</code>, <code>.describe()</code>, <code>.head()</code>. </p>\n",
    "<p>In case you are curious, the heatmap was generated using <a href=\"http://seaborn.pydata.org/generated/seaborn.heatmap.html\" target=\"_blank\">Seaborn's heatmap function</a> and the following line of code, where <code>df.corr()</code> computes the pairwise correlation between columns:</p>\n",
    "<p><code>sns.heatmap(df.corr(), square=True, cmap='RdYlGn')</code></p>\n",
    "<p>Once you have a feel for the data, consider the statements below and select the one that is <strong>not</strong> true. After this, Hugo will explain the mechanics of linear regression in the next video and you will be on your way building regression models!</p></div></div></div>"
   ]
  },
  {
   "cell_type": "code",
   "execution_count": 19,
   "metadata": {},
   "outputs": [
    {
     "data": {
      "text/plain": [
       "<matplotlib.axes._subplots.AxesSubplot at 0x26148050198>"
      ]
     },
     "execution_count": 19,
     "metadata": {},
     "output_type": "execute_result"
    },
    {
     "data": {
      "image/png": "[encoded data removed]",
      "text/plain": [
       "<Figure size 432x288 with 2 Axes>"
      ]
     },
     "metadata": {},
     "output_type": "display_data"
    }
   ],
   "source": [
    "sns.heatmap(df.corr(), square=True, cmap='RdYlGn')"
   ]
  },
  {
   "cell_type": "code",
   "execution_count": 20,
   "metadata": {},
   "outputs": [
    {
     "name": "stdout",
     "output_type": "stream",
     "text": [
      "<class 'pandas.core.frame.DataFrame'>\n",
      "RangeIndex: 139 entries, 0 to 138\n",
      "Data columns (total 10 columns):\n",
      "population         139 non-null float64\n",
      "fertility          139 non-null float64\n",
      "HIV                139 non-null float64\n",
      "CO2                139 non-null float64\n",
      "BMI_male           139 non-null float64\n",
      "GDP                139 non-null float64\n",
      "BMI_female         139 non-null float64\n",
      "life               139 non-null float64\n",
      "child_mortality    139 non-null float64\n",
      "Region             139 non-null object\n",
      "dtypes: float64(9), object(1)\n",
      "memory usage: 10.9+ KB\n"
     ]
    }
   ],
   "source": [
    "df.info()"
   ]
  },
  {
   "cell_type": "code",
   "execution_count": 21,
   "metadata": {},
   "outputs": [
    {
     "data": {
      "text/html": [
       "<div>\n",
       "<style scoped>\n",
       "    .dataframe tbody tr th:only-of-type {\n",
       "        vertical-align: middle;\n",
       "    }\n",
       "\n",
       "    .dataframe tbody tr th {\n",
       "        vertical-align: top;\n",
       "    }\n",
       "\n",
       "    .dataframe thead th {\n",
       "        text-align: right;\n",
       "    }\n",
       "</style>\n",
       "<table border=\"1\" class=\"dataframe\">\n",
       "  <thead>\n",
       "    <tr style=\"text-align: right;\">\n",
       "      <th></th>\n",
       "      <th>population</th>\n",
       "      <th>fertility</th>\n",
       "      <th>HIV</th>\n",
       "      <th>CO2</th>\n",
       "      <th>BMI_male</th>\n",
       "      <th>GDP</th>\n",
       "      <th>BMI_female</th>\n",
       "      <th>life</th>\n",
       "      <th>child_mortality</th>\n",
       "    </tr>\n",
       "  </thead>\n",
       "  <tbody>\n",
       "    <tr>\n",
       "      <th>count</th>\n",
       "      <td>1.390000e+02</td>\n",
       "      <td>139.000000</td>\n",
       "      <td>139.000000</td>\n",
       "      <td>139.000000</td>\n",
       "      <td>139.000000</td>\n",
       "      <td>139.000000</td>\n",
       "      <td>139.000000</td>\n",
       "      <td>139.000000</td>\n",
       "      <td>139.000000</td>\n",
       "    </tr>\n",
       "    <tr>\n",
       "      <th>mean</th>\n",
       "      <td>3.549977e+07</td>\n",
       "      <td>3.005108</td>\n",
       "      <td>1.915612</td>\n",
       "      <td>4.459874</td>\n",
       "      <td>24.623054</td>\n",
       "      <td>16638.784173</td>\n",
       "      <td>126.701914</td>\n",
       "      <td>69.602878</td>\n",
       "      <td>45.097122</td>\n",
       "    </tr>\n",
       "    <tr>\n",
       "      <th>std</th>\n",
       "      <td>1.095121e+08</td>\n",
       "      <td>1.615354</td>\n",
       "      <td>4.408974</td>\n",
       "      <td>6.268349</td>\n",
       "      <td>2.209368</td>\n",
       "      <td>19207.299083</td>\n",
       "      <td>4.471997</td>\n",
       "      <td>9.122189</td>\n",
       "      <td>45.724667</td>\n",
       "    </tr>\n",
       "    <tr>\n",
       "      <th>min</th>\n",
       "      <td>2.773150e+05</td>\n",
       "      <td>1.280000</td>\n",
       "      <td>0.060000</td>\n",
       "      <td>0.008618</td>\n",
       "      <td>20.397420</td>\n",
       "      <td>588.000000</td>\n",
       "      <td>117.375500</td>\n",
       "      <td>45.200000</td>\n",
       "      <td>2.700000</td>\n",
       "    </tr>\n",
       "    <tr>\n",
       "      <th>25%</th>\n",
       "      <td>3.752776e+06</td>\n",
       "      <td>1.810000</td>\n",
       "      <td>0.100000</td>\n",
       "      <td>0.496190</td>\n",
       "      <td>22.448135</td>\n",
       "      <td>2899.000000</td>\n",
       "      <td>123.232200</td>\n",
       "      <td>62.200000</td>\n",
       "      <td>8.100000</td>\n",
       "    </tr>\n",
       "    <tr>\n",
       "      <th>50%</th>\n",
       "      <td>9.705130e+06</td>\n",
       "      <td>2.410000</td>\n",
       "      <td>0.400000</td>\n",
       "      <td>2.223796</td>\n",
       "      <td>25.156990</td>\n",
       "      <td>9938.000000</td>\n",
       "      <td>126.519600</td>\n",
       "      <td>72.000000</td>\n",
       "      <td>24.000000</td>\n",
       "    </tr>\n",
       "    <tr>\n",
       "      <th>75%</th>\n",
       "      <td>2.791973e+07</td>\n",
       "      <td>4.095000</td>\n",
       "      <td>1.300000</td>\n",
       "      <td>6.589156</td>\n",
       "      <td>26.497575</td>\n",
       "      <td>23278.500000</td>\n",
       "      <td>130.275900</td>\n",
       "      <td>76.850000</td>\n",
       "      <td>74.200000</td>\n",
       "    </tr>\n",
       "    <tr>\n",
       "      <th>max</th>\n",
       "      <td>1.197070e+09</td>\n",
       "      <td>7.590000</td>\n",
       "      <td>25.900000</td>\n",
       "      <td>48.702062</td>\n",
       "      <td>28.456980</td>\n",
       "      <td>126076.000000</td>\n",
       "      <td>135.492000</td>\n",
       "      <td>82.600000</td>\n",
       "      <td>192.000000</td>\n",
       "    </tr>\n",
       "  </tbody>\n",
       "</table>\n",
       "</div>"
      ],
      "text/plain": [
       "         population   fertility         HIV         CO2    BMI_male  \\\n",
       "count  1.390000e+02  139.000000  139.000000  139.000000  139.000000   \n",
       "mean   3.549977e+07    3.005108    1.915612    4.459874   24.623054   \n",
       "std    1.095121e+08    1.615354    4.408974    6.268349    2.209368   \n",
       "min    2.773150e+05    1.280000    0.060000    0.008618   20.397420   \n",
       "25%    3.752776e+06    1.810000    0.100000    0.496190   22.448135   \n",
       "50%    9.705130e+06    2.410000    0.400000    2.223796   25.156990   \n",
       "75%    2.791973e+07    4.095000    1.300000    6.589156   26.497575   \n",
       "max    1.197070e+09    7.590000   25.900000   48.702062   28.456980   \n",
       "\n",
       "                 GDP  BMI_female        life  child_mortality  \n",
       "count     139.000000  139.000000  139.000000       139.000000  \n",
       "mean    16638.784173  126.701914   69.602878        45.097122  \n",
       "std     19207.299083    4.471997    9.122189        45.724667  \n",
       "min       588.000000  117.375500   45.200000         2.700000  \n",
       "25%      2899.000000  123.232200   62.200000         8.100000  \n",
       "50%      9938.000000  126.519600   72.000000        24.000000  \n",
       "75%     23278.500000  130.275900   76.850000        74.200000  \n",
       "max    126076.000000  135.492000   82.600000       192.000000  "
      ]
     },
     "execution_count": 21,
     "metadata": {},
     "output_type": "execute_result"
    }
   ],
   "source": [
    "df.describe()"
   ]
  },
  {
   "cell_type": "code",
   "execution_count": 22,
   "metadata": {},
   "outputs": [
    {
     "data": {
      "text/html": [
       "<div>\n",
       "<style scoped>\n",
       "    .dataframe tbody tr th:only-of-type {\n",
       "        vertical-align: middle;\n",
       "    }\n",
       "\n",
       "    .dataframe tbody tr th {\n",
       "        vertical-align: top;\n",
       "    }\n",
       "\n",
       "    .dataframe thead th {\n",
       "        text-align: right;\n",
       "    }\n",
       "</style>\n",
       "<table border=\"1\" class=\"dataframe\">\n",
       "  <thead>\n",
       "    <tr style=\"text-align: right;\">\n",
       "      <th></th>\n",
       "      <th>population</th>\n",
       "      <th>fertility</th>\n",
       "      <th>HIV</th>\n",
       "      <th>CO2</th>\n",
       "      <th>BMI_male</th>\n",
       "      <th>GDP</th>\n",
       "      <th>BMI_female</th>\n",
       "      <th>life</th>\n",
       "      <th>child_mortality</th>\n",
       "      <th>Region</th>\n",
       "    </tr>\n",
       "  </thead>\n",
       "  <tbody>\n",
       "    <tr>\n",
       "      <th>0</th>\n",
       "      <td>34811059.0</td>\n",
       "      <td>2.73</td>\n",
       "      <td>0.1</td>\n",
       "      <td>3.328945</td>\n",
       "      <td>24.59620</td>\n",
       "      <td>12314.0</td>\n",
       "      <td>129.9049</td>\n",
       "      <td>75.3</td>\n",
       "      <td>29.5</td>\n",
       "      <td>Middle East &amp; North Africa</td>\n",
       "    </tr>\n",
       "    <tr>\n",
       "      <th>1</th>\n",
       "      <td>19842251.0</td>\n",
       "      <td>6.43</td>\n",
       "      <td>2.0</td>\n",
       "      <td>1.474353</td>\n",
       "      <td>22.25083</td>\n",
       "      <td>7103.0</td>\n",
       "      <td>130.1247</td>\n",
       "      <td>58.3</td>\n",
       "      <td>192.0</td>\n",
       "      <td>Sub-Saharan Africa</td>\n",
       "    </tr>\n",
       "    <tr>\n",
       "      <th>2</th>\n",
       "      <td>40381860.0</td>\n",
       "      <td>2.24</td>\n",
       "      <td>0.5</td>\n",
       "      <td>4.785170</td>\n",
       "      <td>27.50170</td>\n",
       "      <td>14646.0</td>\n",
       "      <td>118.8915</td>\n",
       "      <td>75.5</td>\n",
       "      <td>15.4</td>\n",
       "      <td>America</td>\n",
       "    </tr>\n",
       "    <tr>\n",
       "      <th>3</th>\n",
       "      <td>2975029.0</td>\n",
       "      <td>1.40</td>\n",
       "      <td>0.1</td>\n",
       "      <td>1.804106</td>\n",
       "      <td>25.35542</td>\n",
       "      <td>7383.0</td>\n",
       "      <td>132.8108</td>\n",
       "      <td>72.5</td>\n",
       "      <td>20.0</td>\n",
       "      <td>Europe &amp; Central Asia</td>\n",
       "    </tr>\n",
       "    <tr>\n",
       "      <th>4</th>\n",
       "      <td>21370348.0</td>\n",
       "      <td>1.96</td>\n",
       "      <td>0.1</td>\n",
       "      <td>18.016313</td>\n",
       "      <td>27.56373</td>\n",
       "      <td>41312.0</td>\n",
       "      <td>117.3755</td>\n",
       "      <td>81.5</td>\n",
       "      <td>5.2</td>\n",
       "      <td>East Asia &amp; Pacific</td>\n",
       "    </tr>\n",
       "  </tbody>\n",
       "</table>\n",
       "</div>"
      ],
      "text/plain": [
       "   population  fertility  HIV        CO2  BMI_male      GDP  BMI_female  life  \\\n",
       "0  34811059.0       2.73  0.1   3.328945  24.59620  12314.0    129.9049  75.3   \n",
       "1  19842251.0       6.43  2.0   1.474353  22.25083   7103.0    130.1247  58.3   \n",
       "2  40381860.0       2.24  0.5   4.785170  27.50170  14646.0    118.8915  75.5   \n",
       "3   2975029.0       1.40  0.1   1.804106  25.35542   7383.0    132.8108  72.5   \n",
       "4  21370348.0       1.96  0.1  18.016313  27.56373  41312.0    117.3755  81.5   \n",
       "\n",
       "   child_mortality                      Region  \n",
       "0             29.5  Middle East & North Africa  \n",
       "1            192.0          Sub-Saharan Africa  \n",
       "2             15.4                     America  \n",
       "3             20.0       Europe & Central Asia  \n",
       "4              5.2         East Asia & Pacific  "
      ]
     },
     "execution_count": 22,
     "metadata": {},
     "output_type": "execute_result"
    }
   ],
   "source": [
    "df.head()"
   ]
  },
  {
   "cell_type": "markdown",
   "metadata": {},
   "source": [
    "<div class=\"exercise--assignment exercise--typography\"><h1 class=\"exercise--title\">Fit &amp; predict for regression</h1><p>Now, you will fit a linear regression and predict life expectancy using just one feature. You saw Andy do this earlier using the <code>'RM'</code> feature of the Boston housing dataset. In this exercise, you will use the <code>'fertility'</code> feature of the Gapminder dataset. Since the goal is to predict life expectancy, the target variable here is <code>'life'</code>. The array for the target variable has been pre-loaded as <code>y</code> and the array for <code>'fertility'</code> has been pre-loaded as <code>X_fertility</code>.</p>\n",
    "<p>A scatter plot with <code>'fertility'</code> on the x-axis and <code>'life'</code> on the y-axis has been generated. As you can see, there is a strongly negative correlation, so a linear regression should be able to capture this trend. Your job is to fit a linear regression and then predict the life expectancy, overlaying these predicted values on the plot to generate a regression line. You will also compute and print the <span class=\"MathJax_Preview\" style=\"color: inherit; display: none;\"></span><span class=\"MathJax\" id=\"MathJax-Element-1-Frame\" tabindex=\"0\" style=\"position: relative;\" data-mathml=\"<math xmlns=&quot;http://www.w3.org/1998/Math/MathML&quot;><msup><mi>R</mi><mn>2</mn></msup></math>\" role=\"presentation\"><nobr aria-hidden=\"true\"><span class=\"math\" id=\"MathJax-Span-1\" style=\"width: 1.392em; display: inline-block;\"><span style=\"display: inline-block; position: relative; width: 1.175em; height: 0px; font-size: 117%;\"><span style=\"position: absolute; clip: rect(1.25em, 1001.18em, 2.425em, -1000em); top: -2.244em; left: 0em;\"><span class=\"mrow\" id=\"MathJax-Span-2\"><span class=\"msubsup\" id=\"MathJax-Span-3\"><span style=\"display: inline-block; position: relative; width: 1.188em; height: 0px;\"><span style=\"position: absolute; clip: rect(3.163em, 1000.76em, 4.188em, -1000em); top: -4.006em; left: 0em;\"><span class=\"mi\" id=\"MathJax-Span-4\" style=\"font-family: MathJax_Math; font-style: italic;\">R</span><span style=\"display: inline-block; width: 0px; height: 4.006em;\"></span></span><span style=\"position: absolute; top: -4.369em; left: 0.759em;\"><span class=\"mn\" id=\"MathJax-Span-5\" style=\"font-size: 70.7%; font-family: MathJax_Main;\">2</span><span style=\"display: inline-block; width: 0px; height: 4.006em;\"></span></span></span></span></span><span style=\"display: inline-block; width: 0px; height: 2.244em;\"></span></span></span><span style=\"display: inline-block; overflow: hidden; vertical-align: -0.087em; border-left: 0px solid; width: 0px; height: 1.125em;\"></span></span></nobr><span class=\"MJX_Assistive_MathML\" role=\"presentation\"><math xmlns=\"http://www.w3.org/1998/Math/MathML\"><msup><mi>R</mi><mn>2</mn></msup></math></span></span><script type=\"math/tex\" id=\"MathJax-Element-1\">R^2</script> score using sckit-learn's <code>.score()</code> method.</p></div></div></div>"
   ]
  },
  {
   "cell_type": "code",
   "execution_count": 24,
   "metadata": {},
   "outputs": [
    {
     "data": {
      "text/plain": [
       "<matplotlib.collections.PathCollection at 0x261484ad3c8>"
      ]
     },
     "execution_count": 24,
     "metadata": {},
     "output_type": "execute_result"
    },
    {
     "data": {
      "image/png": "[encoded data removed]",
      "text/plain": [
       "<Figure size 432x288 with 1 Axes>"
      ]
     },
     "metadata": {},
     "output_type": "display_data"
    }
   ],
   "source": [
    "X_fertility = X\n",
    "plt.scatter(X_fertility,y)"
   ]
  },
  {
   "cell_type": "code",
   "execution_count": 26,
   "metadata": {},
   "outputs": [
    {
     "name": "stdout",
     "output_type": "stream",
     "text": [
      "0.6192442167740035\n"
     ]
    },
    {
     "data": {
      "image/png": "[encoded data removed]",
      "text/plain": [
       "<Figure size 432x288 with 1 Axes>"
      ]
     },
     "metadata": {},
     "output_type": "display_data"
    }
   ],
   "source": [
    "# Import LinearRegression\n",
    "from sklearn.model_selection import train_test_split\n",
    "from sklearn.linear_model import LinearRegression\n",
    "\n",
    "# Create the regressor: reg\n",
    "reg = LinearRegression()\n",
    "\n",
    "# Create the prediction space\n",
    "prediction_space = np.linspace(min(X_fertility), max(X_fertility)).reshape(-1,1)\n",
    "\n",
    "# Fit the model to the data\n",
    "reg.fit(X_fertility, y)\n",
    "\n",
    "# Compute predictions over the prediction space: y_pred\n",
    "y_pred = reg.predict(prediction_space)\n",
    "\n",
    "# Print R^2 \n",
    "print(reg.score(X_fertility, y))\n",
    "\n",
    "# Plot regression line\n",
    "plt.scatter(X_fertility,y)\n",
    "plt.plot(prediction_space, y_pred, color='black', linewidth=3)\n",
    "plt.show()"
   ]
  },
  {
   "cell_type": "markdown",
   "metadata": {},
   "source": [
    "<div class=\"exercise--assignment exercise--typography\"><h1 class=\"exercise--title\">Train/test split for regression</h1><p>As you learned in Chapter 1, train and test sets are vital to ensure that your supervised learning model is able to generalize well to new data. This was true for classification models, and is equally true for linear regression models. </p>\n",
    "<p>In this exercise, you will split the Gapminder dataset into training and testing sets, and then fit and predict a linear regression over <strong>all</strong> features. In addition to computing the <span class=\"MathJax_Preview\" style=\"color: inherit; display: none;\"></span><span class=\"MathJax\" id=\"MathJax-Element-3-Frame\" tabindex=\"0\" style=\"position: relative;\" data-mathml=\"<math xmlns=&quot;http://www.w3.org/1998/Math/MathML&quot;><msup><mi>R</mi><mn>2</mn></msup></math>\" role=\"presentation\"><nobr aria-hidden=\"true\"><span class=\"math\" id=\"MathJax-Span-11\" style=\"width: 1.392em; display: inline-block;\"><span style=\"display: inline-block; position: relative; width: 1.175em; height: 0px; font-size: 117%;\"><span style=\"position: absolute; clip: rect(1.25em, 1001.18em, 2.425em, -1000em); top: -2.244em; left: 0em;\"><span class=\"mrow\" id=\"MathJax-Span-12\"><span class=\"msubsup\" id=\"MathJax-Span-13\"><span style=\"display: inline-block; position: relative; width: 1.188em; height: 0px;\"><span style=\"position: absolute; clip: rect(3.163em, 1000.76em, 4.188em, -1000em); top: -4.006em; left: 0em;\"><span class=\"mi\" id=\"MathJax-Span-14\" style=\"font-family: MathJax_Math; font-style: italic;\">R</span><span style=\"display: inline-block; width: 0px; height: 4.006em;\"></span></span><span style=\"position: absolute; top: -4.369em; left: 0.759em;\"><span class=\"mn\" id=\"MathJax-Span-15\" style=\"font-size: 70.7%; font-family: MathJax_Main;\">2</span><span style=\"display: inline-block; width: 0px; height: 4.006em;\"></span></span></span></span></span><span style=\"display: inline-block; width: 0px; height: 2.244em;\"></span></span></span><span style=\"display: inline-block; overflow: hidden; vertical-align: -0.087em; border-left: 0px solid; width: 0px; height: 1.125em;\"></span></span></nobr><span class=\"MJX_Assistive_MathML\" role=\"presentation\"><math xmlns=\"http://www.w3.org/1998/Math/MathML\"><msup><mi>R</mi><mn>2</mn></msup></math></span></span><script type=\"math/tex\" id=\"MathJax-Element-3\">R^2</script> score, you will also compute the Root Mean Squared Error (RMSE), which is another commonly used metric to evaluate regression models. The feature array <code>X</code> and target variable array <code>y</code> have been pre-loaded for you from the DataFrame <code>df</code>.</p></div></div></div>"
   ]
  },
  {
   "cell_type": "code",
   "execution_count": 27,
   "metadata": {},
   "outputs": [],
   "source": [
    "# Create arrays for the features and the response variable\n",
    "y = df['life'].values\n",
    "X = df.drop(['life', 'Region'], axis=1).values"
   ]
  },
  {
   "cell_type": "code",
   "execution_count": 28,
   "metadata": {},
   "outputs": [
    {
     "name": "stdout",
     "output_type": "stream",
     "text": [
      "R^2: 0.8380468731430059\n",
      "Root Mean Squared Error: 3.247601080037022\n"
     ]
    }
   ],
   "source": [
    "# Import necessary modules\n",
    "from sklearn.linear_model import LinearRegression\n",
    "from sklearn.metrics import mean_squared_error\n",
    "from sklearn.model_selection import train_test_split\n",
    "\n",
    "# Create training and test sets\n",
    "X_train, X_test, y_train, y_test = train_test_split(X, y, test_size = 0.3, random_state=42)\n",
    "\n",
    "# Create the regressor: reg_all\n",
    "reg_all = LinearRegression()\n",
    "\n",
    "# Fit the regressor to the training data\n",
    "reg_all.fit(X_train, y_train)\n",
    "\n",
    "# Predict on the test data: y_pred\n",
    "y_pred = reg_all.predict(X_test)\n",
    "\n",
    "# Compute and print R^2 and RMSE\n",
    "print(\"R^2: {}\".format(reg_all.score(X_test, y_test)))\n",
    "rmse = np.sqrt(mean_squared_error(y_test, y_pred))\n",
    "print(\"Root Mean Squared Error: {}\".format(rmse))"
   ]
  },
  {
   "cell_type": "markdown",
   "metadata": {},
   "source": [
    "<div class=\"exercise--assignment exercise--typography\"><h1 class=\"exercise--title\">5-fold cross-validation</h1><p>Cross-validation is a vital step in evaluating a model. It maximizes the amount of data that is used to train the model, as during the course of training, the model is not only trained, but also tested on all of the available data.</p>\n",
    "<p>In this exercise, you will practice 5-fold cross validation on the Gapminder data. By default, scikit-learn's <code>cross_val_score()</code> function uses <span class=\"MathJax_Preview\" style=\"color: inherit; display: none;\"></span><span class=\"MathJax\" id=\"MathJax-Element-5-Frame\" tabindex=\"0\" style=\"position: relative;\" data-mathml=\"<math xmlns=&quot;http://www.w3.org/1998/Math/MathML&quot;><msup><mi>R</mi><mn>2</mn></msup></math>\" role=\"presentation\"><nobr aria-hidden=\"true\"><span class=\"math\" id=\"MathJax-Span-21\" style=\"width: 1.392em; display: inline-block;\"><span style=\"display: inline-block; position: relative; width: 1.175em; height: 0px; font-size: 117%;\"><span style=\"position: absolute; clip: rect(1.25em, 1001.18em, 2.425em, -1000em); top: -2.244em; left: 0em;\"><span class=\"mrow\" id=\"MathJax-Span-22\"><span class=\"msubsup\" id=\"MathJax-Span-23\"><span style=\"display: inline-block; position: relative; width: 1.188em; height: 0px;\"><span style=\"position: absolute; clip: rect(3.163em, 1000.76em, 4.188em, -1000em); top: -4.006em; left: 0em;\"><span class=\"mi\" id=\"MathJax-Span-24\" style=\"font-family: MathJax_Math; font-style: italic;\">R</span><span style=\"display: inline-block; width: 0px; height: 4.006em;\"></span></span><span style=\"position: absolute; top: -4.369em; left: 0.759em;\"><span class=\"mn\" id=\"MathJax-Span-25\" style=\"font-size: 70.7%; font-family: MathJax_Main;\">2</span><span style=\"display: inline-block; width: 0px; height: 4.006em;\"></span></span></span></span></span><span style=\"display: inline-block; width: 0px; height: 2.244em;\"></span></span></span><span style=\"display: inline-block; overflow: hidden; vertical-align: -0.087em; border-left: 0px solid; width: 0px; height: 1.125em;\"></span></span></nobr><span class=\"MJX_Assistive_MathML\" role=\"presentation\"><math xmlns=\"http://www.w3.org/1998/Math/MathML\"><msup><mi>R</mi><mn>2</mn></msup></math></span></span><script type=\"math/tex\" id=\"MathJax-Element-5\">R^2</script> as the metric of choice for regression. Since you are performing 5-fold cross-validation, the function will return 5 scores. Your job is to compute these 5 scores and then take their average.</p>\n",
    "<p>The DataFrame has been loaded as <code>df</code> and split into the feature/target variable arrays <code>X</code> and <code>y</code>. The modules <code>pandas</code> and <code>numpy</code> have been imported as <code>pd</code> and <code>np</code>, respectively.</p></div></div></div>"
   ]
  },
  {
   "cell_type": "code",
   "execution_count": 29,
   "metadata": {},
   "outputs": [
    {
     "name": "stdout",
     "output_type": "stream",
     "text": [
      "[0.81720569 0.82917058 0.90214134 0.80633989 0.94495637]\n",
      "Average 5-Fold CV Score: 0.8599627722793267\n"
     ]
    }
   ],
   "source": [
    "# Import the necessary modules\n",
    "from sklearn.linear_model import LinearRegression\n",
    "from sklearn.model_selection import cross_val_score\n",
    "\n",
    "# Create a linear regression object: reg\n",
    "reg = LinearRegression()\n",
    "\n",
    "# Compute 5-fold cross-validation scores: cv_scores\n",
    "cv_scores = cross_val_score(reg, X, y, cv=5)\n",
    "\n",
    "# Print the 5-fold cross-validation scores\n",
    "print(cv_scores)\n",
    "\n",
    "print(\"Average 5-Fold CV Score: {}\".format(np.mean(cv_scores)))"
   ]
  },
  {
   "cell_type": "markdown",
   "metadata": {},
   "source": [
    "<div class=\"exercise--assignment exercise--typography\"><h1 class=\"exercise--title\">K-Fold CV comparison</h1><p>Cross validation is essential but do not forget that the more folds you use, the more computationally expensive cross-validation becomes. In this exercise, you will explore this for yourself. Your job is to perform 3-fold cross-validation and then 10-fold cross-validation on the Gapminder dataset.</p>\n",
    "<p>In the IPython Shell, you can use <code>%timeit</code> to see how long each 3-fold CV takes compared to 10-fold CV by executing the following <code>cv=3</code> and <code>cv=10</code>:</p>\n",
    "<pre><code>%timeit cross_val_score(reg, X, y, cv = ____)\n",
    "</code></pre>\n",
    "<p><code>pandas</code> and <code>numpy</code> are available in the workspace as <code>pd</code> and <code>np</code>. The DataFrame has been loaded as <code>df</code> and the feature/target variable arrays <code>X</code> and <code>y</code> have been created.</p></div></div></div>"
   ]
  },
  {
   "cell_type": "code",
   "execution_count": 30,
   "metadata": {},
   "outputs": [
    {
     "name": "stdout",
     "output_type": "stream",
     "text": [
      "0.8718712782621969\n",
      "0.8436128620131095\n"
     ]
    }
   ],
   "source": [
    "# Import necessary modules\n",
    "from sklearn.model_selection import cross_val_score\n",
    "from sklearn.linear_model import LinearRegression\n",
    "\n",
    "# Create a linear regression object: reg\n",
    "reg = LinearRegression()\n",
    "\n",
    "# Perform 3-fold CV\n",
    "cvscores_3 = cross_val_score(reg, X, y, cv=3)\n",
    "print(np.mean(cvscores_3))\n",
    "\n",
    "# Perform 10-fold CV\n",
    "cvscores_10 = cross_val_score(reg, X, y, cv=10)\n",
    "print(np.mean(cvscores_10))"
   ]
  },
  {
   "cell_type": "code",
   "execution_count": 31,
   "metadata": {},
   "outputs": [
    {
     "name": "stdout",
     "output_type": "stream",
     "text": [
      "6.42 ms ± 894 µs per loop (mean ± std. dev. of 7 runs, 100 loops each)\n"
     ]
    }
   ],
   "source": [
    "%timeit cross_val_score(reg, X, y, cv=3)"
   ]
  },
  {
   "cell_type": "code",
   "execution_count": 32,
   "metadata": {},
   "outputs": [
    {
     "name": "stdout",
     "output_type": "stream",
     "text": [
      "14.3 ms ± 2.27 ms per loop (mean ± std. dev. of 7 runs, 10 loops each)\n"
     ]
    }
   ],
   "source": [
    "%timeit cross_val_score(reg, X, y, cv=10)"
   ]
  },
  {
   "cell_type": "markdown",
   "metadata": {},
   "source": [
    "<div class=\"exercise--assignment exercise--typography\"><h1 class=\"exercise--title\">Regularization I: Lasso</h1><p>In the video, you saw how Lasso selected out the <code>'RM'</code> feature as being the most important for predicting Boston house prices, while shrinking the coefficients of certain other features to 0. Its ability to perform feature selection in this way becomes even more useful when you are dealing with data involving thousands of features. </p>\n",
    "<p>In this exercise, you will fit a lasso regression to the Gapminder data you have been working with and plot the coefficients. Just as with the Boston data, you will find that the coefficients of some features are shrunk to 0, with only the most important ones remaining.</p>\n",
    "<p>The feature and target variable arrays have been pre-loaded as <code>X</code> and <code>y</code>.</p></div></div></div>"
   ]
  },
  {
   "cell_type": "code",
   "execution_count": 33,
   "metadata": {},
   "outputs": [],
   "source": [
    "df_columns = df.drop(['life', 'Region'], axis=1).columns"
   ]
  },
  {
   "cell_type": "code",
   "execution_count": 34,
   "metadata": {},
   "outputs": [
    {
     "name": "stdout",
     "output_type": "stream",
     "text": [
      "[-0.         -0.         -0.          0.          0.          0.\n",
      " -0.         -0.07087587]\n"
     ]
    },
    {
     "data": {
      "image/png": "[encoded data removed]",
      "text/plain": [
       "<Figure size 432x288 with 1 Axes>"
      ]
     },
     "metadata": {},
     "output_type": "display_data"
    }
   ],
   "source": [
    "# Import Lasso\n",
    "from sklearn.linear_model import Lasso\n",
    "\n",
    "# Instantiate a lasso regressor: lasso\n",
    "lasso = Lasso(alpha=0.4, normalize=True)\n",
    "\n",
    "# Fit the regressor to the data\n",
    "lasso = lasso.fit(X,y)\n",
    "\n",
    "# Compute and print the coefficients\n",
    "lasso_coef = lasso.coef_\n",
    "print(lasso_coef)\n",
    "\n",
    "# Plot the coefficients\n",
    "plt.plot(range(len(df_columns)), lasso_coef)\n",
    "plt.xticks(range(len(df_columns)), df_columns.values, rotation=60)\n",
    "plt.margins(0.02)\n",
    "plt.show()"
   ]
  },
  {
   "cell_type": "markdown",
   "metadata": {},
   "source": [
    "<div class=\"exercise--assignment exercise--typography\"><h1 class=\"exercise--title\">Regularization II: Ridge</h1><p>Lasso is great for feature selection, but when building regression models, Ridge regression should be your first choice.</p>\n",
    "<p>Recall that lasso performs regularization by adding to the loss function a penalty term of the <em>absolute</em> value of each coefficient multiplied by some alpha. This is also known as <span class=\"MathJax_Preview\" style=\"color: inherit; display: none;\"></span><span class=\"MathJax\" id=\"MathJax-Element-6-Frame\" tabindex=\"0\" style=\"position: relative;\" data-mathml=\"<math xmlns=&quot;http://www.w3.org/1998/Math/MathML&quot;><mi>L</mi><mn>1</mn></math>\" role=\"presentation\"><nobr aria-hidden=\"true\"><span class=\"math\" id=\"MathJax-Span-26\" style=\"width: 1.392em; display: inline-block;\"><span style=\"display: inline-block; position: relative; width: 1.175em; height: 0px; font-size: 117%;\"><span style=\"position: absolute; clip: rect(1.507em, 1001.1em, 2.511em, -1000em); top: -2.35em; left: 0em;\"><span class=\"mrow\" id=\"MathJax-Span-27\"><span class=\"mi\" id=\"MathJax-Span-28\" style=\"font-family: MathJax_Math; font-style: italic;\">L</span><span class=\"mn\" id=\"MathJax-Span-29\" style=\"font-family: MathJax_Main;\">1</span></span><span style=\"display: inline-block; width: 0px; height: 2.35em;\"></span></span></span><span style=\"display: inline-block; overflow: hidden; vertical-align: -0.063em; border-left: 0px solid; width: 0px; height: 0.924em;\"></span></span></nobr><span class=\"MJX_Assistive_MathML\" role=\"presentation\"><math xmlns=\"http://www.w3.org/1998/Math/MathML\"><mi>L</mi><mn>1</mn></math></span></span><script type=\"math/tex\" id=\"MathJax-Element-6\">L1</script> regularization because the regularization term is the <span class=\"MathJax_Preview\" style=\"color: inherit; display: none;\"></span><span class=\"MathJax\" id=\"MathJax-Element-7-Frame\" tabindex=\"0\" style=\"position: relative;\" data-mathml=\"<math xmlns=&quot;http://www.w3.org/1998/Math/MathML&quot;><mi>L</mi><mn>1</mn></math>\" role=\"presentation\"><nobr aria-hidden=\"true\"><span class=\"math\" id=\"MathJax-Span-30\" style=\"width: 1.392em; display: inline-block;\"><span style=\"display: inline-block; position: relative; width: 1.175em; height: 0px; font-size: 117%;\"><span style=\"position: absolute; clip: rect(1.507em, 1001.1em, 2.511em, -1000em); top: -2.35em; left: 0em;\"><span class=\"mrow\" id=\"MathJax-Span-31\"><span class=\"mi\" id=\"MathJax-Span-32\" style=\"font-family: MathJax_Math; font-style: italic;\">L</span><span class=\"mn\" id=\"MathJax-Span-33\" style=\"font-family: MathJax_Main;\">1</span></span><span style=\"display: inline-block; width: 0px; height: 2.35em;\"></span></span></span><span style=\"display: inline-block; overflow: hidden; vertical-align: -0.063em; border-left: 0px solid; width: 0px; height: 0.924em;\"></span></span></nobr><span class=\"MJX_Assistive_MathML\" role=\"presentation\"><math xmlns=\"http://www.w3.org/1998/Math/MathML\"><mi>L</mi><mn>1</mn></math></span></span><script type=\"math/tex\" id=\"MathJax-Element-7\">L1</script> norm of the coefficients. This is not the only way to regularize, however. </p>\n",
    "<p>If instead you took the sum of the <em>squared</em> values of the coefficients multiplied by some alpha - like in Ridge regression - you would be computing the <span class=\"MathJax_Preview\" style=\"color: inherit; display: none;\"></span><span class=\"MathJax\" id=\"MathJax-Element-8-Frame\" tabindex=\"0\" style=\"position: relative;\" data-mathml=\"<math xmlns=&quot;http://www.w3.org/1998/Math/MathML&quot;><mi>L</mi><mn>2</mn></math>\" role=\"presentation\"><nobr aria-hidden=\"true\"><span class=\"math\" id=\"MathJax-Span-34\" style=\"width: 1.392em; display: inline-block;\"><span style=\"display: inline-block; position: relative; width: 1.175em; height: 0px; font-size: 117%;\"><span style=\"position: absolute; clip: rect(1.507em, 1001.12em, 2.511em, -1000em); top: -2.35em; left: 0em;\"><span class=\"mrow\" id=\"MathJax-Span-35\"><span class=\"mi\" id=\"MathJax-Span-36\" style=\"font-family: MathJax_Math; font-style: italic;\">L</span><span class=\"mn\" id=\"MathJax-Span-37\" style=\"font-family: MathJax_Main;\">2</span></span><span style=\"display: inline-block; width: 0px; height: 2.35em;\"></span></span></span><span style=\"display: inline-block; overflow: hidden; vertical-align: -0.063em; border-left: 0px solid; width: 0px; height: 0.924em;\"></span></span></nobr><span class=\"MJX_Assistive_MathML\" role=\"presentation\"><math xmlns=\"http://www.w3.org/1998/Math/MathML\"><mi>L</mi><mn>2</mn></math></span></span><script type=\"math/tex\" id=\"MathJax-Element-8\">L2</script> norm. In this exercise, you will practice fitting ridge regression models over a range of different alphas, and plot cross-validated <span class=\"MathJax_Preview\" style=\"color: inherit; display: none;\"></span><span class=\"MathJax\" id=\"MathJax-Element-9-Frame\" tabindex=\"0\" style=\"position: relative;\" data-mathml=\"<math xmlns=&quot;http://www.w3.org/1998/Math/MathML&quot;><msup><mi>R</mi><mn>2</mn></msup></math>\" role=\"presentation\"><nobr aria-hidden=\"true\"><span class=\"math\" id=\"MathJax-Span-38\" style=\"width: 1.392em; display: inline-block;\"><span style=\"display: inline-block; position: relative; width: 1.175em; height: 0px; font-size: 117%;\"><span style=\"position: absolute; clip: rect(1.25em, 1001.18em, 2.425em, -1000em); top: -2.244em; left: 0em;\"><span class=\"mrow\" id=\"MathJax-Span-39\"><span class=\"msubsup\" id=\"MathJax-Span-40\"><span style=\"display: inline-block; position: relative; width: 1.188em; height: 0px;\"><span style=\"position: absolute; clip: rect(3.163em, 1000.76em, 4.188em, -1000em); top: -4.006em; left: 0em;\"><span class=\"mi\" id=\"MathJax-Span-41\" style=\"font-family: MathJax_Math; font-style: italic;\">R</span><span style=\"display: inline-block; width: 0px; height: 4.006em;\"></span></span><span style=\"position: absolute; top: -4.369em; left: 0.759em;\"><span class=\"mn\" id=\"MathJax-Span-42\" style=\"font-size: 70.7%; font-family: MathJax_Main;\">2</span><span style=\"display: inline-block; width: 0px; height: 4.006em;\"></span></span></span></span></span><span style=\"display: inline-block; width: 0px; height: 2.244em;\"></span></span></span><span style=\"display: inline-block; overflow: hidden; vertical-align: -0.087em; border-left: 0px solid; width: 0px; height: 1.125em;\"></span></span></nobr><span class=\"MJX_Assistive_MathML\" role=\"presentation\"><math xmlns=\"http://www.w3.org/1998/Math/MathML\"><msup><mi>R</mi><mn>2</mn></msup></math></span></span><script type=\"math/tex\" id=\"MathJax-Element-9\">R^2</script> scores for each, using this function that we have defined for you, which plots the <span class=\"MathJax_Preview\" style=\"color: inherit; display: none;\"></span><span class=\"MathJax\" id=\"MathJax-Element-10-Frame\" tabindex=\"0\" style=\"position: relative;\" data-mathml=\"<math xmlns=&quot;http://www.w3.org/1998/Math/MathML&quot;><msup><mi>R</mi><mn>2</mn></msup></math>\" role=\"presentation\"><nobr aria-hidden=\"true\"><span class=\"math\" id=\"MathJax-Span-43\" style=\"width: 1.392em; display: inline-block;\"><span style=\"display: inline-block; position: relative; width: 1.175em; height: 0px; font-size: 117%;\"><span style=\"position: absolute; clip: rect(1.25em, 1001.18em, 2.425em, -1000em); top: -2.244em; left: 0em;\"><span class=\"mrow\" id=\"MathJax-Span-44\"><span class=\"msubsup\" id=\"MathJax-Span-45\"><span style=\"display: inline-block; position: relative; width: 1.188em; height: 0px;\"><span style=\"position: absolute; clip: rect(3.163em, 1000.76em, 4.188em, -1000em); top: -4.006em; left: 0em;\"><span class=\"mi\" id=\"MathJax-Span-46\" style=\"font-family: MathJax_Math; font-style: italic;\">R</span><span style=\"display: inline-block; width: 0px; height: 4.006em;\"></span></span><span style=\"position: absolute; top: -4.369em; left: 0.759em;\"><span class=\"mn\" id=\"MathJax-Span-47\" style=\"font-size: 70.7%; font-family: MathJax_Main;\">2</span><span style=\"display: inline-block; width: 0px; height: 4.006em;\"></span></span></span></span></span><span style=\"display: inline-block; width: 0px; height: 2.244em;\"></span></span></span><span style=\"display: inline-block; overflow: hidden; vertical-align: -0.087em; border-left: 0px solid; width: 0px; height: 1.125em;\"></span></span></nobr><span class=\"MJX_Assistive_MathML\" role=\"presentation\"><math xmlns=\"http://www.w3.org/1998/Math/MathML\"><msup><mi>R</mi><mn>2</mn></msup></math></span></span><script type=\"math/tex\" id=\"MathJax-Element-10\">R^2</script> score as well as standard error for each alpha:</p>\n",
    "<pre><code>def display_plot(cv_scores, cv_scores_std):\n",
    "    fig = plt.figure()\n",
    "    ax = fig.add_subplot(1,1,1)\n",
    "    ax.plot(alpha_space, cv_scores)\n",
    "\n",
    "    std_error = cv_scores_std / np.sqrt(10)\n",
    "\n",
    "    ax.fill_between(alpha_space, cv_scores + std_error, cv_scores - std_error, alpha=0.2)\n",
    "    ax.set_ylabel('CV Score +/- Std Error')\n",
    "    ax.set_xlabel('Alpha')\n",
    "    ax.axhline(np.max(cv_scores), linestyle='--', color='.5')\n",
    "    ax.set_xlim([alpha_space[0], alpha_space[-1]])\n",
    "    ax.set_xscale('log')\n",
    "    plt.show()\n",
    "</code></pre>\n",
    "<p>Don't worry about the specifics of the above function works. The motivation behind this exercise is for you to see how the <span class=\"MathJax_Preview\" style=\"color: inherit; display: none;\"></span><span class=\"MathJax\" id=\"MathJax-Element-11-Frame\" tabindex=\"0\" style=\"position: relative;\" data-mathml=\"<math xmlns=&quot;http://www.w3.org/1998/Math/MathML&quot;><msup><mi>R</mi><mn>2</mn></msup></math>\" role=\"presentation\"><nobr aria-hidden=\"true\"><span class=\"math\" id=\"MathJax-Span-48\" style=\"width: 1.392em; display: inline-block;\"><span style=\"display: inline-block; position: relative; width: 1.175em; height: 0px; font-size: 117%;\"><span style=\"position: absolute; clip: rect(1.25em, 1001.18em, 2.425em, -1000em); top: -2.244em; left: 0em;\"><span class=\"mrow\" id=\"MathJax-Span-49\"><span class=\"msubsup\" id=\"MathJax-Span-50\"><span style=\"display: inline-block; position: relative; width: 1.188em; height: 0px;\"><span style=\"position: absolute; clip: rect(3.163em, 1000.76em, 4.188em, -1000em); top: -4.006em; left: 0em;\"><span class=\"mi\" id=\"MathJax-Span-51\" style=\"font-family: MathJax_Math; font-style: italic;\">R</span><span style=\"display: inline-block; width: 0px; height: 4.006em;\"></span></span><span style=\"position: absolute; top: -4.369em; left: 0.759em;\"><span class=\"mn\" id=\"MathJax-Span-52\" style=\"font-size: 70.7%; font-family: MathJax_Main;\">2</span><span style=\"display: inline-block; width: 0px; height: 4.006em;\"></span></span></span></span></span><span style=\"display: inline-block; width: 0px; height: 2.244em;\"></span></span></span><span style=\"display: inline-block; overflow: hidden; vertical-align: -0.087em; border-left: 0px solid; width: 0px; height: 1.125em;\"></span></span></nobr><span class=\"MJX_Assistive_MathML\" role=\"presentation\"><math xmlns=\"http://www.w3.org/1998/Math/MathML\"><msup><mi>R</mi><mn>2</mn></msup></math></span></span><script type=\"math/tex\" id=\"MathJax-Element-11\">R^2</script> score varies with different alphas, and to understand the importance of selecting the right value for alpha. You'll learn how to tune alpha in the next chapter.</p></div></div></div>"
   ]
  },
  {
   "cell_type": "code",
   "execution_count": 35,
   "metadata": {},
   "outputs": [],
   "source": [
    "def display_plot(cv_scores, cv_scores_std):\n",
    "    fig = plt.figure()\n",
    "    ax = fig.add_subplot(1,1,1)\n",
    "    ax.plot(alpha_space, cv_scores)\n",
    "\n",
    "    std_error = cv_scores_std / np.sqrt(10)\n",
    "\n",
    "    ax.fill_between(alpha_space, cv_scores + std_error, cv_scores - std_error, alpha=0.2)\n",
    "    ax.set_ylabel('CV Score +/- Std Error')\n",
    "    ax.set_xlabel('Alpha')\n",
    "    ax.axhline(np.max(cv_scores), linestyle='--', color='.5')\n",
    "    ax.set_xlim([alpha_space[0], alpha_space[-1]])\n",
    "    ax.set_xscale('log')\n",
    "    plt.show()"
   ]
  },
  {
   "cell_type": "code",
   "execution_count": 39,
   "metadata": {},
   "outputs": [
    {
     "data": {
      "image/png": "[encoded data removed]",
      "text/plain": [
       "<Figure size 432x288 with 1 Axes>"
      ]
     },
     "metadata": {},
     "output_type": "display_data"
    }
   ],
   "source": [
    "# Import necessary modules\n",
    "from sklearn.linear_model import Ridge\n",
    "from sklearn.model_selection import cross_val_score\n",
    "\n",
    "# Setup the array of alphas and lists to store scores\n",
    "alpha_space = np.logspace(-4, 0, 50)\n",
    "ridge_scores = []\n",
    "ridge_scores_std = []\n",
    "\n",
    "# Create a ridge regressor: ridge\n",
    "ridge = Ridge(normalize=True)\n",
    "\n",
    "# Compute scores over range of alphas\n",
    "for alpha in alpha_space:\n",
    "\n",
    "    # Specify the alpha value to use: ridge.alpha\n",
    "    ridge.alpha = ridge.alpha\n",
    "    \n",
    "    # Perform 10-fold CV: ridge_cv_scores\n",
    "    ridge_cv_scores = cross_val_score(ridge, X, y, cv=10)\n",
    "    \n",
    "    # Append the mean of ridge_cv_scores to ridge_scores\n",
    "    ridge_scores.append(np.mean(ridge_cv_scores))\n",
    "    \n",
    "    # Append the std of ridge_cv_scores to ridge_scores_std\n",
    "    ridge_scores_std.append(np.std(ridge_cv_scores))\n",
    "\n",
    "# Display the plot\n",
    "display_plot(ridge_scores, ridge_scores_std)\n",
    "#plt.plot(ridge_scores, ridge_scores_std,)"
   ]
  },
  {
   "cell_type": "markdown",
   "metadata": {},
   "source": [
    "## <font color=red>03 - Fine-tuning your model</font> \n",
    "\n",
    " Having trained your model, your next task is to evaluate its performance. What metrics can you use to gauge how good your model is? So far, you have used accuracy for classification and R-squared for regression. In this chapter, you will learn about some of the other metrics available in scikit-learn that will allow you to assess your model's performance in a more nuanced manner. You will then learn to optimize both your classification as well as regression models using hyperparameter tuning. "
   ]
  },
  {
   "cell_type": "code",
   "execution_count": 40,
   "metadata": {},
   "outputs": [],
   "source": [
    "diabetes = pd.read_csv('./data/diabetes.csv')"
   ]
  },
  {
   "cell_type": "code",
   "execution_count": 41,
   "metadata": {},
   "outputs": [
    {
     "data": {
      "text/html": [
       "<div>\n",
       "<style scoped>\n",
       "    .dataframe tbody tr th:only-of-type {\n",
       "        vertical-align: middle;\n",
       "    }\n",
       "\n",
       "    .dataframe tbody tr th {\n",
       "        vertical-align: top;\n",
       "    }\n",
       "\n",
       "    .dataframe thead th {\n",
       "        text-align: right;\n",
       "    }\n",
       "</style>\n",
       "<table border=\"1\" class=\"dataframe\">\n",
       "  <thead>\n",
       "    <tr style=\"text-align: right;\">\n",
       "      <th></th>\n",
       "      <th>pregnancies</th>\n",
       "      <th>glucose</th>\n",
       "      <th>diastolic</th>\n",
       "      <th>triceps</th>\n",
       "      <th>insulin</th>\n",
       "      <th>bmi</th>\n",
       "      <th>dpf</th>\n",
       "      <th>age</th>\n",
       "      <th>diabetes</th>\n",
       "    </tr>\n",
       "  </thead>\n",
       "  <tbody>\n",
       "    <tr>\n",
       "      <th>0</th>\n",
       "      <td>6</td>\n",
       "      <td>148</td>\n",
       "      <td>72</td>\n",
       "      <td>35</td>\n",
       "      <td>0</td>\n",
       "      <td>33.6</td>\n",
       "      <td>0.627</td>\n",
       "      <td>50</td>\n",
       "      <td>1</td>\n",
       "    </tr>\n",
       "    <tr>\n",
       "      <th>1</th>\n",
       "      <td>1</td>\n",
       "      <td>85</td>\n",
       "      <td>66</td>\n",
       "      <td>29</td>\n",
       "      <td>0</td>\n",
       "      <td>26.6</td>\n",
       "      <td>0.351</td>\n",
       "      <td>31</td>\n",
       "      <td>0</td>\n",
       "    </tr>\n",
       "    <tr>\n",
       "      <th>2</th>\n",
       "      <td>8</td>\n",
       "      <td>183</td>\n",
       "      <td>64</td>\n",
       "      <td>0</td>\n",
       "      <td>0</td>\n",
       "      <td>23.3</td>\n",
       "      <td>0.672</td>\n",
       "      <td>32</td>\n",
       "      <td>1</td>\n",
       "    </tr>\n",
       "    <tr>\n",
       "      <th>3</th>\n",
       "      <td>1</td>\n",
       "      <td>89</td>\n",
       "      <td>66</td>\n",
       "      <td>23</td>\n",
       "      <td>94</td>\n",
       "      <td>28.1</td>\n",
       "      <td>0.167</td>\n",
       "      <td>21</td>\n",
       "      <td>0</td>\n",
       "    </tr>\n",
       "    <tr>\n",
       "      <th>4</th>\n",
       "      <td>0</td>\n",
       "      <td>137</td>\n",
       "      <td>40</td>\n",
       "      <td>35</td>\n",
       "      <td>168</td>\n",
       "      <td>43.1</td>\n",
       "      <td>2.288</td>\n",
       "      <td>33</td>\n",
       "      <td>1</td>\n",
       "    </tr>\n",
       "  </tbody>\n",
       "</table>\n",
       "</div>"
      ],
      "text/plain": [
       "   pregnancies  glucose  diastolic  triceps  insulin   bmi    dpf  age  \\\n",
       "0            6      148         72       35        0  33.6  0.627   50   \n",
       "1            1       85         66       29        0  26.6  0.351   31   \n",
       "2            8      183         64        0        0  23.3  0.672   32   \n",
       "3            1       89         66       23       94  28.1  0.167   21   \n",
       "4            0      137         40       35      168  43.1  2.288   33   \n",
       "\n",
       "   diabetes  \n",
       "0         1  \n",
       "1         0  \n",
       "2         1  \n",
       "3         0  \n",
       "4         1  "
      ]
     },
     "execution_count": 41,
     "metadata": {},
     "output_type": "execute_result"
    }
   ],
   "source": [
    "diabetes.head()"
   ]
  },
  {
   "cell_type": "code",
   "execution_count": 42,
   "metadata": {},
   "outputs": [],
   "source": [
    "X=diabetes.drop('diabetes', axis=1)\n",
    "y=diabetes['diabetes']"
   ]
  },
  {
   "cell_type": "markdown",
   "metadata": {},
   "source": [
    "<div class=\"exercise--assignment exercise--typography\"><h1 class=\"exercise--title\">Metrics for classification</h1><p>In Chapter 1, you evaluated the performance of your k-NN classifier based on its accuracy. However, as Andy discussed, accuracy is not always an informative metric. In this exercise, you will dive more deeply into evaluating the performance of binary classifiers by computing a confusion matrix and generating a classification report. </p>\n",
    "<p>You may have noticed in the video that the classification report consisted of three rows, and an additional <em>support</em> column. The <em>support</em> gives the number of samples of the true response that lie in that class - so in the video example, the support was the number of Republicans or Democrats in the test set on which the classification report was computed. The <em>precision</em>, <em>recall</em>, and <em>f1-score</em> columns, then, gave the respective metrics for that particular class.</p>\n",
    "<p>Here, you'll work with the <a href=\"https://www.kaggle.com/uciml/pima-indians-diabetes-database\" target=\"_blank\">PIMA Indians</a> dataset obtained from the UCI Machine Learning Repository. The goal is to predict whether or not a given female patient will contract diabetes based on features such as BMI, age, and number of pregnancies. Therefore, it is a binary classification problem. A target value of <code>0</code> indicates that the patient does <em>not</em> have diabetes, while a value of <code>1</code> indicates that the patient <em>does</em> have diabetes. As in Chapters 1 and 2, the dataset has been preprocessed to deal with missing values.</p>\n",
    "<p>The dataset has been loaded into a DataFrame <code>df</code> and the feature and target variable arrays <code>X</code> and <code>y</code> have been created for you. In addition, <code>sklearn.model_selection.train_test_split</code> and <code>sklearn.neighbors.KNeighborsClassifier</code> have already been imported.</p>\n",
    "<p>Your job is to train a k-NN classifier to the data and evaluate its performance by generating a confusion matrix and classification report.</p></div></div></div>"
   ]
  },
  {
   "cell_type": "code",
   "execution_count": 43,
   "metadata": {},
   "outputs": [
    {
     "name": "stdout",
     "output_type": "stream",
     "text": [
      "[[176  30]\n",
      " [ 56  46]]\n",
      "             precision    recall  f1-score   support\n",
      "\n",
      "          0       0.76      0.85      0.80       206\n",
      "          1       0.61      0.45      0.52       102\n",
      "\n",
      "avg / total       0.71      0.72      0.71       308\n",
      "\n"
     ]
    }
   ],
   "source": [
    "# Import necessary modules\n",
    "from sklearn.metrics import classification_report, confusion_matrix\n",
    "\n",
    "# Create training and test set\n",
    "X_train, X_test, y_train, y_test = train_test_split(X, y, test_size=0.4, random_state=42)\n",
    "\n",
    "# Instantiate a k-NN classifier: knn\n",
    "knn = KNeighborsClassifier(n_neighbors=6)\n",
    "\n",
    "# Fit the classifier to the training data\n",
    "knn.fit(X_train, y_train)\n",
    "\n",
    "# Predict the labels of the test data: y_pred\n",
    "y_pred = knn.predict(X_test)\n",
    "\n",
    "# Generate the confusion matrix and classification report\n",
    "print(confusion_matrix(y_test, y_pred))\n",
    "print(classification_report(y_test, y_pred))\n"
   ]
  },
  {
   "cell_type": "markdown",
   "metadata": {},
   "source": [
    "<div class=\"exercise--assignment exercise--typography\"><h1 class=\"exercise--title\">Building a logistic regression model</h1><p>Time to build your first logistic regression model! As Hugo showed in the video, scikit-learn makes it very easy to try different models, since the Train-Test-Split/Instantiate/Fit/Predict paradigm applies to all classifiers and regressors - which are known in scikit-learn as 'estimators'. You'll see this now for yourself as you train a logistic regression model on exactly the same data as in the previous exercise. Will it outperform k-NN? There's only one way to find out! </p>\n",
    "<p>The feature and target variable arrays <code>X</code> and <code>y</code> have been pre-loaded, and <code>train_test_split</code> has been imported for you from <code>sklearn.model_selection</code>.</p></div></div></div>"
   ]
  },
  {
   "cell_type": "code",
   "execution_count": 44,
   "metadata": {},
   "outputs": [
    {
     "name": "stdout",
     "output_type": "stream",
     "text": [
      "[[174  32]\n",
      " [ 36  66]]\n",
      "             precision    recall  f1-score   support\n",
      "\n",
      "          0       0.83      0.84      0.84       206\n",
      "          1       0.67      0.65      0.66       102\n",
      "\n",
      "avg / total       0.78      0.78      0.78       308\n",
      "\n"
     ]
    }
   ],
   "source": [
    "# Import the necessary modules\n",
    "from sklearn.linear_model import LogisticRegression\n",
    "from sklearn.metrics import confusion_matrix, classification_report\n",
    "\n",
    "# Create training and test sets\n",
    "X_train, X_test, y_train, y_test = train_test_split(X, y, test_size = 0.4, random_state=42)\n",
    "\n",
    "# Create the classifier: logreg\n",
    "logreg = LogisticRegression()\n",
    "\n",
    "# Fit the classifier to the training data\n",
    "logreg.fit(X_train, y_train)\n",
    "\n",
    "# Predict the labels of the test set: y_pred\n",
    "y_pred = logreg.predict(X_test)\n",
    "\n",
    "# Compute and print the confusion matrix and classification report\n",
    "print(confusion_matrix(y_test, y_pred))\n",
    "print(classification_report(y_test, y_pred))"
   ]
  },
  {
   "cell_type": "markdown",
   "metadata": {},
   "source": [
    "<div class=\"exercise--assignment exercise--typography\"><h1 class=\"exercise--title\">Plotting an ROC curve</h1><p>Great job in the previous exercise - you now have a new addition to your toolbox of classifiers! </p>\n",
    "<p>Classification reports and confusion matrices are great methods to quantitatively evaluate model performance, while ROC curves provide a way to visually evaluate models. As Hugo demonstrated in the video, most classifiers in scikit-learn have a <code>.predict_proba()</code> method which returns the probability of a given sample being in a particular class. Having built a logistic regression model, you'll now evaluate its performance by plotting an ROC curve. In doing so, you'll make use of the <code>.predict_proba()</code> method and become familiar with its functionality. </p>\n",
    "<p>Here, you'll continue working with the PIMA Indians diabetes dataset. The classifier has already been fit to the training data and is available as <code>logreg</code>.</p></div>"
   ]
  },
  {
   "cell_type": "code",
   "execution_count": 45,
   "metadata": {},
   "outputs": [
    {
     "data": {
      "image/png": "[encoded data removed]",
      "text/plain": [
       "<Figure size 432x288 with 1 Axes>"
      ]
     },
     "metadata": {},
     "output_type": "display_data"
    }
   ],
   "source": [
    "# Import necessary modules\n",
    "from sklearn.metrics import roc_curve\n",
    "\n",
    "# Compute predicted probabilities: y_pred_prob\n",
    "y_pred_prob = logreg.predict_proba(X_test)[:,1]\n",
    "\n",
    "# Generate ROC curve values: fpr, tpr, thresholds\n",
    "fpr, tpr, thresholds = roc_curve(y_test, y_pred_prob)\n",
    "\n",
    "# Plot ROC curve\n",
    "plt.plot([0, 1], [0, 1], 'k--')\n",
    "plt.plot(fpr, tpr)\n",
    "plt.xlabel('False Positive Rate')\n",
    "plt.ylabel('True Positive Rate')\n",
    "plt.title('ROC Curve')\n",
    "plt.show()"
   ]
  },
  {
   "cell_type": "markdown",
   "metadata": {},
   "source": [
    "<div class=\"exercise--assignment exercise--typography\"><h1 class=\"exercise--title\">Precision-recall Curve</h1><p>When looking at your ROC curve, you may have noticed that the y-axis (True positive rate) is also known as recall. Indeed, in addition to the ROC curve, there are other ways to visually evaluate model performance. One such way is the precision-recall curve, which is generated by plotting the precision and recall for different thresholds. As a reminder, precision and recall are defined as:</p>\n",
    "<p><span class=\"MathJax_Preview\" style=\"color: inherit; display: none;\"></span><div class=\"MathJax_Display\" style=\"text-align: center;\"><span class=\"MathJax\" id=\"MathJax-Element-12-Frame\" tabindex=\"0\" style=\"text-align: center; position: relative;\" data-mathml=\"<math xmlns=&quot;http://www.w3.org/1998/Math/MathML&quot; display=&quot;block&quot;><mi>P</mi><mi>r</mi><mi>e</mi><mi>c</mi><mi>i</mi><mi>s</mi><mi>i</mi><mi>o</mi><mi>n</mi><mo>=</mo><mfrac><mrow><mi>T</mi><mi>P</mi></mrow><mrow><mi>T</mi><mi>P</mi><mo>+</mo><mi>F</mi><mi>P</mi></mrow></mfrac></math>\" role=\"presentation\"><nobr aria-hidden=\"true\"><span class=\"math\" id=\"MathJax-Span-53\" style=\"width: 11.968em; display: inline-block;\"><span style=\"display: inline-block; position: relative; width: 10.203em; height: 0px; font-size: 117%;\"><span style=\"position: absolute; clip: rect(0.831em, 1010.2em, 3.279em, -1000em); top: -2.35em; left: 0em;\"><span class=\"mrow\" id=\"MathJax-Span-54\"><span class=\"mi\" id=\"MathJax-Span-55\" style=\"font-family: MathJax_Math; font-style: italic;\">P<span style=\"display: inline-block; overflow: hidden; height: 1px; width: 0.109em;\"></span></span><span class=\"mi\" id=\"MathJax-Span-56\" style=\"font-family: MathJax_Math; font-style: italic;\">r</span><span class=\"mi\" id=\"MathJax-Span-57\" style=\"font-family: MathJax_Math; font-style: italic;\">e</span><span class=\"mi\" id=\"MathJax-Span-58\" style=\"font-family: MathJax_Math; font-style: italic;\">c</span><span class=\"mi\" id=\"MathJax-Span-59\" style=\"font-family: MathJax_Math; font-style: italic;\">i</span><span class=\"mi\" id=\"MathJax-Span-60\" style=\"font-family: MathJax_Math; font-style: italic;\">s</span><span class=\"mi\" id=\"MathJax-Span-61\" style=\"font-family: MathJax_Math; font-style: italic;\">i</span><span class=\"mi\" id=\"MathJax-Span-62\" style=\"font-family: MathJax_Math; font-style: italic;\">o</span><span class=\"mi\" id=\"MathJax-Span-63\" style=\"font-family: MathJax_Math; font-style: italic;\">n</span><span class=\"mo\" id=\"MathJax-Span-64\" style=\"font-family: MathJax_Main; padding-left: 0.278em;\">=</span><span class=\"mfrac\" id=\"MathJax-Span-65\" style=\"padding-left: 0.278em;\"><span style=\"display: inline-block; position: relative; width: 4.297em; height: 0px; margin-right: 0.12em; margin-left: 0.12em;\"><span style=\"position: absolute; clip: rect(3.163em, 1001.46em, 4.167em, -1000em); top: -4.683em; left: 50%; margin-left: -0.728em;\"><span class=\"mrow\" id=\"MathJax-Span-66\"><span class=\"mi\" id=\"MathJax-Span-67\" style=\"font-family: MathJax_Math; font-style: italic;\">T<span style=\"display: inline-block; overflow: hidden; height: 1px; width: 0.12em;\"></span></span><span class=\"mi\" id=\"MathJax-Span-68\" style=\"font-family: MathJax_Math; font-style: italic;\">P<span style=\"display: inline-block; overflow: hidden; height: 1px; width: 0.109em;\"></span></span></span><span style=\"display: inline-block; width: 0px; height: 4.006em;\"></span></span><span style=\"position: absolute; clip: rect(3.163em, 1004.18em, 4.249em, -1000em); top: -3.32em; left: 50%; margin-left: -2.089em;\"><span class=\"mrow\" id=\"MathJax-Span-69\"><span class=\"mi\" id=\"MathJax-Span-70\" style=\"font-family: MathJax_Math; font-style: italic;\">T<span style=\"display: inline-block; overflow: hidden; height: 1px; width: 0.12em;\"></span></span><span class=\"mi\" id=\"MathJax-Span-71\" style=\"font-family: MathJax_Math; font-style: italic;\">P<span style=\"display: inline-block; overflow: hidden; height: 1px; width: 0.109em;\"></span></span><span class=\"mo\" id=\"MathJax-Span-72\" style=\"font-family: MathJax_Main; padding-left: 0.222em;\">+</span><span class=\"mi\" id=\"MathJax-Span-73\" style=\"font-family: MathJax_Math; font-style: italic; padding-left: 0.222em;\">F<span style=\"display: inline-block; overflow: hidden; height: 1px; width: 0.106em;\"></span></span><span class=\"mi\" id=\"MathJax-Span-74\" style=\"font-family: MathJax_Math; font-style: italic;\">P<span style=\"display: inline-block; overflow: hidden; height: 1px; width: 0.109em;\"></span></span></span><span style=\"display: inline-block; width: 0px; height: 4.006em;\"></span></span><span style=\"position: absolute; clip: rect(0.841em, 1004.3em, 1.229em, -1000em); top: -1.288em; left: 0em;\"><span style=\"display: inline-block; overflow: hidden; vertical-align: 0em; border-top: 1.3px solid; width: 4.297em; height: 0px;\"></span><span style=\"display: inline-block; width: 0px; height: 1.068em;\"></span></span></span></span></span><span style=\"display: inline-block; width: 0px; height: 2.35em;\"></span></span></span><span style=\"display: inline-block; overflow: hidden; vertical-align: -0.961em; border-left: 0px solid; width: 0px; height: 2.614em;\"></span></span></nobr><span class=\"MJX_Assistive_MathML MJX_Assistive_MathML_Block\" role=\"presentation\"><math xmlns=\"http://www.w3.org/1998/Math/MathML\" display=\"block\"><mi>P</mi><mi>r</mi><mi>e</mi><mi>c</mi><mi>i</mi><mi>s</mi><mi>i</mi><mi>o</mi><mi>n</mi><mo>=</mo><mfrac><mrow><mi>T</mi><mi>P</mi></mrow><mrow><mi>T</mi><mi>P</mi><mo>+</mo><mi>F</mi><mi>P</mi></mrow></mfrac></math></span></span></div><script type=\"math/tex; mode=display\" id=\"MathJax-Element-12\"> Precision = \\frac{TP}{TP+FP} </script></p>\n",
    "<p><span class=\"MathJax_Preview\" style=\"color: inherit; display: none;\"></span><div class=\"MathJax_Display\" style=\"text-align: center;\"><span class=\"MathJax\" id=\"MathJax-Element-13-Frame\" tabindex=\"0\" style=\"text-align: center; position: relative;\" data-mathml=\"<math xmlns=&quot;http://www.w3.org/1998/Math/MathML&quot; display=&quot;block&quot;><mi>R</mi><mi>e</mi><mi>c</mi><mi>a</mi><mi>l</mi><mi>l</mi><mo>=</mo><mfrac><mrow><mi>T</mi><mi>P</mi></mrow><mrow><mi>T</mi><mi>P</mi><mo>+</mo><mi>F</mi><mi>N</mi></mrow></mfrac></math>\" role=\"presentation\"><nobr aria-hidden=\"true\"><span class=\"math\" id=\"MathJax-Span-75\" style=\"width: 10.313em; display: inline-block;\"><span style=\"display: inline-block; position: relative; width: 8.814em; height: 0px; font-size: 117%;\"><span style=\"position: absolute; clip: rect(0.831em, 1008.81em, 3.279em, -1000em); top: -2.35em; left: 0em;\"><span class=\"mrow\" id=\"MathJax-Span-76\"><span class=\"mi\" id=\"MathJax-Span-77\" style=\"font-family: MathJax_Math; font-style: italic;\">R</span><span class=\"mi\" id=\"MathJax-Span-78\" style=\"font-family: MathJax_Math; font-style: italic;\">e</span><span class=\"mi\" id=\"MathJax-Span-79\" style=\"font-family: MathJax_Math; font-style: italic;\">c</span><span class=\"mi\" id=\"MathJax-Span-80\" style=\"font-family: MathJax_Math; font-style: italic;\">a</span><span class=\"mi\" id=\"MathJax-Span-81\" style=\"font-family: MathJax_Math; font-style: italic;\">l</span><span class=\"mi\" id=\"MathJax-Span-82\" style=\"font-family: MathJax_Math; font-style: italic;\">l</span><span class=\"mo\" id=\"MathJax-Span-83\" style=\"font-family: MathJax_Main; padding-left: 0.278em;\">=</span><span class=\"mfrac\" id=\"MathJax-Span-84\" style=\"padding-left: 0.278em;\"><span style=\"display: inline-block; position: relative; width: 4.434em; height: 0px; margin-right: 0.12em; margin-left: 0.12em;\"><span style=\"position: absolute; clip: rect(3.163em, 1001.46em, 4.167em, -1000em); top: -4.683em; left: 50%; margin-left: -0.728em;\"><span class=\"mrow\" id=\"MathJax-Span-85\"><span class=\"mi\" id=\"MathJax-Span-86\" style=\"font-family: MathJax_Math; font-style: italic;\">T<span style=\"display: inline-block; overflow: hidden; height: 1px; width: 0.12em;\"></span></span><span class=\"mi\" id=\"MathJax-Span-87\" style=\"font-family: MathJax_Math; font-style: italic;\">P<span style=\"display: inline-block; overflow: hidden; height: 1px; width: 0.109em;\"></span></span></span><span style=\"display: inline-block; width: 0px; height: 4.006em;\"></span></span><span style=\"position: absolute; clip: rect(3.163em, 1004.31em, 4.249em, -1000em); top: -3.32em; left: 50%; margin-left: -2.157em;\"><span class=\"mrow\" id=\"MathJax-Span-88\"><span class=\"mi\" id=\"MathJax-Span-89\" style=\"font-family: MathJax_Math; font-style: italic;\">T<span style=\"display: inline-block; overflow: hidden; height: 1px; width: 0.12em;\"></span></span><span class=\"mi\" id=\"MathJax-Span-90\" style=\"font-family: MathJax_Math; font-style: italic;\">P<span style=\"display: inline-block; overflow: hidden; height: 1px; width: 0.109em;\"></span></span><span class=\"mo\" id=\"MathJax-Span-91\" style=\"font-family: MathJax_Main; padding-left: 0.222em;\">+</span><span class=\"mi\" id=\"MathJax-Span-92\" style=\"font-family: MathJax_Math; font-style: italic; padding-left: 0.222em;\">F<span style=\"display: inline-block; overflow: hidden; height: 1px; width: 0.106em;\"></span></span><span class=\"mi\" id=\"MathJax-Span-93\" style=\"font-family: MathJax_Math; font-style: italic;\">N<span style=\"display: inline-block; overflow: hidden; height: 1px; width: 0.085em;\"></span></span></span><span style=\"display: inline-block; width: 0px; height: 4.006em;\"></span></span><span style=\"position: absolute; clip: rect(0.841em, 1004.43em, 1.229em, -1000em); top: -1.288em; left: 0em;\"><span style=\"display: inline-block; overflow: hidden; vertical-align: 0em; border-top: 1.3px solid; width: 4.434em; height: 0px;\"></span><span style=\"display: inline-block; width: 0px; height: 1.068em;\"></span></span></span></span></span><span style=\"display: inline-block; width: 0px; height: 2.35em;\"></span></span></span><span style=\"display: inline-block; overflow: hidden; vertical-align: -0.961em; border-left: 0px solid; width: 0px; height: 2.614em;\"></span></span></nobr><span class=\"MJX_Assistive_MathML MJX_Assistive_MathML_Block\" role=\"presentation\"><math xmlns=\"http://www.w3.org/1998/Math/MathML\" display=\"block\"><mi>R</mi><mi>e</mi><mi>c</mi><mi>a</mi><mi>l</mi><mi>l</mi><mo>=</mo><mfrac><mrow><mi>T</mi><mi>P</mi></mrow><mrow><mi>T</mi><mi>P</mi><mo>+</mo><mi>F</mi><mi>N</mi></mrow></mfrac></math></span></span></div><script type=\"math/tex; mode=display\" id=\"MathJax-Element-13\"> Recall = \\frac{TP}{TP+FN} </script></p>\n",
    "<p>On the right, a precision-recall curve has been generated for the diabetes dataset. The classification report and confusion matrix are displayed in the IPython Shell.</p>\n",
    "<p>Study the precision-recall curve and then consider the statements given below. Choose the one statement that is <strong>not</strong> true. Note that here, the class is positive (1) if the individual <em>has</em> diabetes.</p></div>"
   ]
  },
  {
   "attachments": {
    "resim.png": {
     "image/png": "[encoded data removed]"
    }
   },
   "cell_type": "markdown",
   "metadata": {},
   "source": [
    "![resim.png](attachment:resim.png)\n",
    "\n",
    "##### Precision and recall take true negatives into consideration."
   ]
  },
  {
   "attachments": {
    "resim.png": {
     "image/png": "[encoded data removed]"
    }
   },
   "cell_type": "markdown",
   "metadata": {},
   "source": [
    "<div class=\"exercise--assignment exercise--typography\"><h1 class=\"exercise--title\">AUC computation</h1><p>Say you have a binary classifier that in fact is just randomly making guesses. It would be correct approximately 50% of the time, and the resulting ROC curve would be a diagonal line in which the True Positive Rate and False Positive Rate are always equal. The Area under this ROC curve would be 0.5. This is one way in which the AUC, which Hugo discussed in the video, is an informative metric to evaluate a model. If the AUC is greater than 0.5, the model is better than random guessing. Always a good sign!  </p>\n",
    "<p>In this exercise, you'll calculate AUC scores using the <code>roc_auc_score()</code> function from <code>sklearn.metrics</code> as well as by performing cross-validation on the diabetes dataset. </p>\n",
    "<p><code>X</code> and <code>y</code>, along with training and test sets <code>X_train</code>, <code>X_test</code>, <code>y_train</code>, <code>y_test</code>, have been pre-loaded for you, and a logistic regression classifier <code>logreg</code> has been fit to the training data.</p></div>\n",
    "\n",
    "![resim.png](attachment:resim.png)"
   ]
  },
  {
   "cell_type": "code",
   "execution_count": 46,
   "metadata": {},
   "outputs": [
    {
     "name": "stdout",
     "output_type": "stream",
     "text": [
      "AUC: 0.8268608414239483\n",
      "AUC scores computed using 5-fold cross-validation: [0.7987037  0.80796296 0.81944444 0.86603774 0.85037736]\n"
     ]
    }
   ],
   "source": [
    "# Import necessary modules\n",
    "from sklearn.metrics import roc_auc_score\n",
    "from sklearn.model_selection import cross_val_score\n",
    "\n",
    "# Compute predicted probabilities: y_pred_prob\n",
    "y_pred_prob = logreg.predict_proba(X_test)[:,1]\n",
    "\n",
    "# Compute and print AUC score\n",
    "print(\"AUC: {}\".format(roc_auc_score(y_test, y_pred_prob)))\n",
    "\n",
    "# Compute cross-validated AUC scores: cv_auc\n",
    "cv_auc = cross_val_score(logreg, X, y, cv=5, scoring='roc_auc')\n",
    "\n",
    "# Print list of AUC scores\n",
    "print(\"AUC scores computed using 5-fold cross-validation: {}\".format(cv_auc))"
   ]
  },
  {
   "cell_type": "markdown",
   "metadata": {},
   "source": [
    "<div class=\"exercise--assignment exercise--typography\"><h1 class=\"exercise--title\">Hyperparameter tuning with GridSearchCV</h1><p>Hugo demonstrated how to tune the <code>n_neighbors</code> parameter of the <code>KNeighborsClassifier()</code> using GridSearchCV on the voting dataset. You will now practice this yourself, but by using logistic regression on the diabetes dataset instead! </p>\n",
    "<p>Like the alpha parameter of lasso and ridge regularization that you saw earlier, logistic regression also has a regularization parameter: <span class=\"MathJax_Preview\" style=\"color: inherit; display: none;\"></span><span class=\"MathJax\" id=\"MathJax-Element-14-Frame\" tabindex=\"0\" style=\"position: relative;\" data-mathml=\"<math xmlns=&quot;http://www.w3.org/1998/Math/MathML&quot;><mi>C</mi></math>\" role=\"presentation\"><nobr aria-hidden=\"true\"><span class=\"math\" id=\"MathJax-Span-94\" style=\"width: 0.911em; display: inline-block;\"><span style=\"display: inline-block; position: relative; width: 0.748em; height: 0px; font-size: 117%;\"><span style=\"position: absolute; clip: rect(1.485em, 1000.75em, 2.533em, -1000em); top: -2.35em; left: 0em;\"><span class=\"mrow\" id=\"MathJax-Span-95\"><span class=\"mi\" id=\"MathJax-Span-96\" style=\"font-family: MathJax_Math; font-style: italic;\">C<span style=\"display: inline-block; overflow: hidden; height: 1px; width: 0.045em;\"></span></span></span><span style=\"display: inline-block; width: 0px; height: 2.35em;\"></span></span></span><span style=\"display: inline-block; overflow: hidden; vertical-align: -0.088em; border-left: 0px solid; width: 0px; height: 0.976em;\"></span></span></nobr><span class=\"MJX_Assistive_MathML\" role=\"presentation\"><math xmlns=\"http://www.w3.org/1998/Math/MathML\"><mi>C</mi></math></span></span><script type=\"math/tex\" id=\"MathJax-Element-14\">C</script>. <span class=\"MathJax_Preview\" style=\"color: inherit; display: none;\"></span><span class=\"MathJax\" id=\"MathJax-Element-15-Frame\" tabindex=\"0\" style=\"position: relative;\" data-mathml=\"<math xmlns=&quot;http://www.w3.org/1998/Math/MathML&quot;><mi>C</mi></math>\" role=\"presentation\"><nobr aria-hidden=\"true\"><span class=\"math\" id=\"MathJax-Span-97\" style=\"width: 0.911em; display: inline-block;\"><span style=\"display: inline-block; position: relative; width: 0.748em; height: 0px; font-size: 117%;\"><span style=\"position: absolute; clip: rect(1.485em, 1000.75em, 2.533em, -1000em); top: -2.35em; left: 0em;\"><span class=\"mrow\" id=\"MathJax-Span-98\"><span class=\"mi\" id=\"MathJax-Span-99\" style=\"font-family: MathJax_Math; font-style: italic;\">C<span style=\"display: inline-block; overflow: hidden; height: 1px; width: 0.045em;\"></span></span></span><span style=\"display: inline-block; width: 0px; height: 2.35em;\"></span></span></span><span style=\"display: inline-block; overflow: hidden; vertical-align: -0.088em; border-left: 0px solid; width: 0px; height: 0.976em;\"></span></span></nobr><span class=\"MJX_Assistive_MathML\" role=\"presentation\"><math xmlns=\"http://www.w3.org/1998/Math/MathML\"><mi>C</mi></math></span></span><script type=\"math/tex\" id=\"MathJax-Element-15\">C</script> controls the <em>inverse</em> of the regularization strength, and this is what you will tune in this exercise. A large <span class=\"MathJax_Preview\" style=\"color: inherit; display: none;\"></span><span class=\"MathJax\" id=\"MathJax-Element-16-Frame\" tabindex=\"0\" style=\"position: relative;\" data-mathml=\"<math xmlns=&quot;http://www.w3.org/1998/Math/MathML&quot;><mi>C</mi></math>\" role=\"presentation\"><nobr aria-hidden=\"true\"><span class=\"math\" id=\"MathJax-Span-100\" style=\"width: 0.911em; display: inline-block;\"><span style=\"display: inline-block; position: relative; width: 0.748em; height: 0px; font-size: 117%;\"><span style=\"position: absolute; clip: rect(1.485em, 1000.75em, 2.533em, -1000em); top: -2.35em; left: 0em;\"><span class=\"mrow\" id=\"MathJax-Span-101\"><span class=\"mi\" id=\"MathJax-Span-102\" style=\"font-family: MathJax_Math; font-style: italic;\">C<span style=\"display: inline-block; overflow: hidden; height: 1px; width: 0.045em;\"></span></span></span><span style=\"display: inline-block; width: 0px; height: 2.35em;\"></span></span></span><span style=\"display: inline-block; overflow: hidden; vertical-align: -0.088em; border-left: 0px solid; width: 0px; height: 0.976em;\"></span></span></nobr><span class=\"MJX_Assistive_MathML\" role=\"presentation\"><math xmlns=\"http://www.w3.org/1998/Math/MathML\"><mi>C</mi></math></span></span><script type=\"math/tex\" id=\"MathJax-Element-16\">C</script> can lead to an <em>overfit</em> model, while a small <span class=\"MathJax_Preview\" style=\"color: inherit; display: none;\"></span><span class=\"MathJax\" id=\"MathJax-Element-17-Frame\" tabindex=\"0\" style=\"position: relative;\" data-mathml=\"<math xmlns=&quot;http://www.w3.org/1998/Math/MathML&quot;><mi>C</mi></math>\" role=\"presentation\"><nobr aria-hidden=\"true\"><span class=\"math\" id=\"MathJax-Span-103\" style=\"width: 0.911em; display: inline-block;\"><span style=\"display: inline-block; position: relative; width: 0.748em; height: 0px; font-size: 117%;\"><span style=\"position: absolute; clip: rect(1.485em, 1000.75em, 2.533em, -1000em); top: -2.35em; left: 0em;\"><span class=\"mrow\" id=\"MathJax-Span-104\"><span class=\"mi\" id=\"MathJax-Span-105\" style=\"font-family: MathJax_Math; font-style: italic;\">C<span style=\"display: inline-block; overflow: hidden; height: 1px; width: 0.045em;\"></span></span></span><span style=\"display: inline-block; width: 0px; height: 2.35em;\"></span></span></span><span style=\"display: inline-block; overflow: hidden; vertical-align: -0.088em; border-left: 0px solid; width: 0px; height: 0.976em;\"></span></span></nobr><span class=\"MJX_Assistive_MathML\" role=\"presentation\"><math xmlns=\"http://www.w3.org/1998/Math/MathML\"><mi>C</mi></math></span></span><script type=\"math/tex\" id=\"MathJax-Element-17\">C</script> can lead to an <em>underfit</em> model.</p>\n",
    "<p>The hyperparameter space for <span class=\"MathJax_Preview\" style=\"color: inherit; display: none;\"></span><span class=\"MathJax\" id=\"MathJax-Element-18-Frame\" tabindex=\"0\" style=\"position: relative;\" data-mathml=\"<math xmlns=&quot;http://www.w3.org/1998/Math/MathML&quot;><mi>C</mi></math>\" role=\"presentation\"><nobr aria-hidden=\"true\"><span class=\"math\" id=\"MathJax-Span-106\" style=\"width: 0.911em; display: inline-block;\"><span style=\"display: inline-block; position: relative; width: 0.748em; height: 0px; font-size: 117%;\"><span style=\"position: absolute; clip: rect(1.485em, 1000.75em, 2.533em, -1000em); top: -2.35em; left: 0em;\"><span class=\"mrow\" id=\"MathJax-Span-107\"><span class=\"mi\" id=\"MathJax-Span-108\" style=\"font-family: MathJax_Math; font-style: italic;\">C<span style=\"display: inline-block; overflow: hidden; height: 1px; width: 0.045em;\"></span></span></span><span style=\"display: inline-block; width: 0px; height: 2.35em;\"></span></span></span><span style=\"display: inline-block; overflow: hidden; vertical-align: -0.088em; border-left: 0px solid; width: 0px; height: 0.976em;\"></span></span></nobr><span class=\"MJX_Assistive_MathML\" role=\"presentation\"><math xmlns=\"http://www.w3.org/1998/Math/MathML\"><mi>C</mi></math></span></span><script type=\"math/tex\" id=\"MathJax-Element-18\">C</script> has been setup for you. Your job is to use GridSearchCV and logistic regression to find the optimal <span class=\"MathJax_Preview\" style=\"color: inherit; display: none;\"></span><span class=\"MathJax\" id=\"MathJax-Element-19-Frame\" tabindex=\"0\" style=\"position: relative;\" data-mathml=\"<math xmlns=&quot;http://www.w3.org/1998/Math/MathML&quot;><mi>C</mi></math>\" role=\"presentation\"><nobr aria-hidden=\"true\"><span class=\"math\" id=\"MathJax-Span-109\" style=\"width: 0.911em; display: inline-block;\"><span style=\"display: inline-block; position: relative; width: 0.748em; height: 0px; font-size: 117%;\"><span style=\"position: absolute; clip: rect(1.485em, 1000.75em, 2.533em, -1000em); top: -2.35em; left: 0em;\"><span class=\"mrow\" id=\"MathJax-Span-110\"><span class=\"mi\" id=\"MathJax-Span-111\" style=\"font-family: MathJax_Math; font-style: italic;\">C<span style=\"display: inline-block; overflow: hidden; height: 1px; width: 0.045em;\"></span></span></span><span style=\"display: inline-block; width: 0px; height: 2.35em;\"></span></span></span><span style=\"display: inline-block; overflow: hidden; vertical-align: -0.088em; border-left: 0px solid; width: 0px; height: 0.976em;\"></span></span></nobr><span class=\"MJX_Assistive_MathML\" role=\"presentation\"><math xmlns=\"http://www.w3.org/1998/Math/MathML\"><mi>C</mi></math></span></span><script type=\"math/tex\" id=\"MathJax-Element-19\">C</script> in this hyperparameter space. The feature array is available as <code>X</code> and target variable array is available as <code>y</code>.</p>\n",
    "<p>You may be wondering why you aren't asked to split the data into training and test sets. Good observation! Here, we want you to focus on the process of setting up the hyperparameter grid and performing grid-search cross-validation. In practice, you will indeed want to hold out a portion of your data for evaluation purposes, and you will learn all about this in the next video!</p></div>"
   ]
  },
  {
   "cell_type": "code",
   "execution_count": 48,
   "metadata": {},
   "outputs": [
    {
     "name": "stdout",
     "output_type": "stream",
     "text": [
      "Tuned Logistic Regression Parameters: {'C': 268.2695795279727}\n",
      "Best score is 0.7708333333333334\n"
     ]
    }
   ],
   "source": [
    "# Import necessary modules\n",
    "from sklearn.linear_model import LogisticRegression\n",
    "from sklearn.model_selection import GridSearchCV\n",
    "\n",
    "# Setup the hyperparameter grid\n",
    "c_space = np.logspace(-5, 8, 15)\n",
    "param_grid = {'C': c_space}\n",
    "\n",
    "# Instantiate a logistic regression classifier: logreg\n",
    "logreg = LogisticRegression()\n",
    "\n",
    "# Instantiate the GridSearchCV object: logreg_cv\n",
    "logreg_cv = GridSearchCV(logreg, param_grid, cv=5)\n",
    "\n",
    "# Fit it to the data\n",
    "logreg_cv.fit(X,y)\n",
    "\n",
    "# Print the tuned parameters and score\n",
    "print(\"Tuned Logistic Regression Parameters: {}\".format(logreg_cv.best_params_)) \n",
    "print(\"Best score is {}\".format(logreg_cv.best_score_))"
   ]
  },
  {
   "cell_type": "markdown",
   "metadata": {},
   "source": [
    "<div class=\"exercise--assignment exercise--typography\"><h1 class=\"exercise--title\">Hyperparameter tuning with RandomizedSearchCV</h1><p>GridSearchCV can be computationally expensive, especially if you are searching over a large hyperparameter space and dealing with multiple hyperparameters. A solution to this is to use <code>RandomizedSearchCV</code>, in which not all hyperparameter values are tried out. Instead, a fixed number of hyperparameter settings is sampled from specified probability distributions. You'll practice using <code>RandomizedSearchCV</code> in this exercise and see how this works.</p>\n",
    "<p>Here, you'll also be introduced to a new model: the Decision Tree. Don't worry about the specifics of how this model works. Just like k-NN, linear regression, and logistic regression, decision trees in scikit-learn have <code>.fit()</code> and <code>.predict()</code> methods that you can use in exactly the same way as before. Decision trees have many parameters that can be tuned, such as <code>max_features</code>, <code>max_depth</code>, and <code>min_samples_leaf</code>: This makes it an ideal use case for <code>RandomizedSearchCV</code>. </p>\n",
    "<p>As before, the feature array <code>X</code> and target variable array <code>y</code> of the diabetes dataset have been pre-loaded. The hyperparameter settings have been specified for you. Your goal is to use <code>RandomizedSearchCV</code> to find the optimal hyperparameters. Go for it!</p></div>"
   ]
  },
  {
   "cell_type": "code",
   "execution_count": 49,
   "metadata": {},
   "outputs": [
    {
     "name": "stdout",
     "output_type": "stream",
     "text": [
      "Tuned Decision Tree Parameters: {'criterion': 'gini', 'max_depth': 3, 'max_features': 7, 'min_samples_leaf': 6}\n",
      "Best score is 0.7369791666666666\n"
     ]
    }
   ],
   "source": [
    "# Import necessary modules\n",
    "from scipy.stats import randint\n",
    "from sklearn.tree import DecisionTreeClassifier\n",
    "from sklearn.model_selection import RandomizedSearchCV \n",
    "\n",
    "# Setup the parameters and distributions to sample from: param_dist\n",
    "param_dist = {\"max_depth\": [3, None],\n",
    "              \"max_features\": randint(1, 9),\n",
    "              \"min_samples_leaf\": randint(1, 9),\n",
    "              \"criterion\": [\"gini\", \"entropy\"]}\n",
    "\n",
    "# Instantiate a Decision Tree classifier: tree\n",
    "tree = DecisionTreeClassifier()\n",
    "\n",
    "# Instantiate the RandomizedSearchCV object: tree_cv\n",
    "tree_cv = RandomizedSearchCV(tree, param_dist, cv=5)\n",
    "\n",
    "# Fit it to the data\n",
    "tree_cv.fit(X,y)\n",
    "\n",
    "# Print the tuned parameters and score\n",
    "print(\"Tuned Decision Tree Parameters: {}\".format(tree_cv.best_params_))\n",
    "print(\"Best score is {}\".format(tree_cv.best_score_))"
   ]
  },
  {
   "cell_type": "markdown",
   "metadata": {},
   "source": [
    "<div class=\"exercise--assignment exercise--typography\"><h1 class=\"exercise--title\">Hold-out set in practice I: Classification</h1><p>You will now practice evaluating a model with tuned hyperparameters on a hold-out set. The feature array and target variable array from the diabetes dataset have been pre-loaded as <code>X</code> and <code>y</code>. </p>\n",
    "<p>In addition to <span class=\"MathJax_Preview\" style=\"color: inherit; display: none;\"></span><span class=\"MathJax\" id=\"MathJax-Element-22-Frame\" tabindex=\"0\" style=\"position: relative;\" data-mathml=\"<math xmlns=&quot;http://www.w3.org/1998/Math/MathML&quot;><mi>C</mi></math>\" role=\"presentation\"><nobr aria-hidden=\"true\"><span class=\"math\" id=\"MathJax-Span-118\" style=\"width: 0.911em; display: inline-block;\"><span style=\"display: inline-block; position: relative; width: 0.748em; height: 0px; font-size: 117%;\"><span style=\"position: absolute; clip: rect(1.485em, 1000.75em, 2.533em, -1000em); top: -2.35em; left: 0em;\"><span class=\"mrow\" id=\"MathJax-Span-119\"><span class=\"mi\" id=\"MathJax-Span-120\" style=\"font-family: MathJax_Math; font-style: italic;\">C<span style=\"display: inline-block; overflow: hidden; height: 1px; width: 0.045em;\"></span></span></span><span style=\"display: inline-block; width: 0px; height: 2.35em;\"></span></span></span><span style=\"display: inline-block; overflow: hidden; vertical-align: -0.088em; border-left: 0px solid; width: 0px; height: 0.976em;\"></span></span></nobr><span class=\"MJX_Assistive_MathML\" role=\"presentation\"><math xmlns=\"http://www.w3.org/1998/Math/MathML\"><mi>C</mi></math></span></span><script type=\"math/tex\" id=\"MathJax-Element-22\">C</script>, logistic regression has a <code>'penalty'</code> hyperparameter which specifies whether to use <code>'l1'</code> or <code>'l2'</code> regularization. Your job in this exercise is to create a hold-out set, tune the <code>'C'</code> and <code>'penalty'</code> hyperparameters of a logistic regression classifier using <code>GridSearchCV</code> on the training set.</p></div>"
   ]
  },
  {
   "cell_type": "code",
   "execution_count": 50,
   "metadata": {},
   "outputs": [
    {
     "name": "stdout",
     "output_type": "stream",
     "text": [
      "Tuned Logistic Regression Parameter: {'C': 31.622776601683793, 'penalty': 'l2'}\n",
      "Tuned Logistic Regression Accuracy: 0.7673913043478261\n"
     ]
    }
   ],
   "source": [
    "# Import necessary modules\n",
    "from sklearn.model_selection import train_test_split\n",
    "from sklearn.linear_model import LogisticRegression\n",
    "from sklearn.model_selection import GridSearchCV\n",
    "\n",
    "# Create the hyperparameter grid\n",
    "c_space = np.logspace(-5, 8, 15)\n",
    "param_grid = {'C': c_space, 'penalty': ['l1', 'l2']}\n",
    "\n",
    "# Instantiate the logistic regression classifier: logreg\n",
    "logreg = LogisticRegression()\n",
    "\n",
    "# Create train and test sets\n",
    "X_train, X_test, y_train, y_test = train_test_split(X, y, test_size=0.4, random_state=42)\n",
    "\n",
    "# Instantiate the GridSearchCV object: logreg_cv\n",
    "logreg_cv = GridSearchCV(logreg,param_grid,cv=5)\n",
    "\n",
    "# Fit it to the training data\n",
    "logreg_cv.fit(X_train,y_train)\n",
    "\n",
    "# Print the optimal parameters and best score\n",
    "print(\"Tuned Logistic Regression Parameter: {}\".format(logreg_cv.best_params_))\n",
    "print(\"Tuned Logistic Regression Accuracy: {}\".format(logreg_cv.best_score_))"
   ]
  },
  {
   "cell_type": "markdown",
   "metadata": {},
   "source": [
    "<div class=\"exercise--assignment exercise--typography\"><h1 class=\"exercise--title\">Hold-out set in practice II: Regression</h1><p>Remember lasso and ridge regression from the previous chapter? Lasso used the <span class=\"MathJax_Preview\" style=\"color: inherit; display: none;\"></span><span class=\"MathJax\" id=\"MathJax-Element-23-Frame\" tabindex=\"0\" style=\"position: relative;\" data-mathml=\"<math xmlns=&quot;http://www.w3.org/1998/Math/MathML&quot;><mi>L</mi><mn>1</mn></math>\" role=\"presentation\"><nobr aria-hidden=\"true\"><span class=\"math\" id=\"MathJax-Span-121\" style=\"width: 1.392em; display: inline-block;\"><span style=\"display: inline-block; position: relative; width: 1.175em; height: 0px; font-size: 117%;\"><span style=\"position: absolute; clip: rect(1.507em, 1001.1em, 2.511em, -1000em); top: -2.35em; left: 0em;\"><span class=\"mrow\" id=\"MathJax-Span-122\"><span class=\"mi\" id=\"MathJax-Span-123\" style=\"font-family: MathJax_Math; font-style: italic;\">L</span><span class=\"mn\" id=\"MathJax-Span-124\" style=\"font-family: MathJax_Main;\">1</span></span><span style=\"display: inline-block; width: 0px; height: 2.35em;\"></span></span></span><span style=\"display: inline-block; overflow: hidden; vertical-align: -0.063em; border-left: 0px solid; width: 0px; height: 0.924em;\"></span></span></nobr><span class=\"MJX_Assistive_MathML\" role=\"presentation\"><math xmlns=\"http://www.w3.org/1998/Math/MathML\"><mi>L</mi><mn>1</mn></math></span></span><script type=\"math/tex\" id=\"MathJax-Element-23\">L1</script> penalty to regularize, while ridge used the <span class=\"MathJax_Preview\" style=\"color: inherit; display: none;\"></span><span class=\"MathJax\" id=\"MathJax-Element-24-Frame\" tabindex=\"0\" style=\"position: relative;\" data-mathml=\"<math xmlns=&quot;http://www.w3.org/1998/Math/MathML&quot;><mi>L</mi><mn>2</mn></math>\" role=\"presentation\"><nobr aria-hidden=\"true\"><span class=\"math\" id=\"MathJax-Span-125\" style=\"width: 1.392em; display: inline-block;\"><span style=\"display: inline-block; position: relative; width: 1.175em; height: 0px; font-size: 117%;\"><span style=\"position: absolute; clip: rect(1.507em, 1001.12em, 2.511em, -1000em); top: -2.35em; left: 0em;\"><span class=\"mrow\" id=\"MathJax-Span-126\"><span class=\"mi\" id=\"MathJax-Span-127\" style=\"font-family: MathJax_Math; font-style: italic;\">L</span><span class=\"mn\" id=\"MathJax-Span-128\" style=\"font-family: MathJax_Main;\">2</span></span><span style=\"display: inline-block; width: 0px; height: 2.35em;\"></span></span></span><span style=\"display: inline-block; overflow: hidden; vertical-align: -0.063em; border-left: 0px solid; width: 0px; height: 0.924em;\"></span></span></nobr><span class=\"MJX_Assistive_MathML\" role=\"presentation\"><math xmlns=\"http://www.w3.org/1998/Math/MathML\"><mi>L</mi><mn>2</mn></math></span></span><script type=\"math/tex\" id=\"MathJax-Element-24\">L2</script> penalty. There is another type of regularized regression known as the elastic net. In elastic net regularization, the penalty term is a linear combination of the <span class=\"MathJax_Preview\" style=\"color: inherit; display: none;\"></span><span class=\"MathJax\" id=\"MathJax-Element-25-Frame\" tabindex=\"0\" style=\"position: relative;\" data-mathml=\"<math xmlns=&quot;http://www.w3.org/1998/Math/MathML&quot;><mi>L</mi><mn>1</mn></math>\" role=\"presentation\"><nobr aria-hidden=\"true\"><span class=\"math\" id=\"MathJax-Span-129\" style=\"width: 1.392em; display: inline-block;\"><span style=\"display: inline-block; position: relative; width: 1.175em; height: 0px; font-size: 117%;\"><span style=\"position: absolute; clip: rect(1.507em, 1001.1em, 2.511em, -1000em); top: -2.35em; left: 0em;\"><span class=\"mrow\" id=\"MathJax-Span-130\"><span class=\"mi\" id=\"MathJax-Span-131\" style=\"font-family: MathJax_Math; font-style: italic;\">L</span><span class=\"mn\" id=\"MathJax-Span-132\" style=\"font-family: MathJax_Main;\">1</span></span><span style=\"display: inline-block; width: 0px; height: 2.35em;\"></span></span></span><span style=\"display: inline-block; overflow: hidden; vertical-align: -0.063em; border-left: 0px solid; width: 0px; height: 0.924em;\"></span></span></nobr><span class=\"MJX_Assistive_MathML\" role=\"presentation\"><math xmlns=\"http://www.w3.org/1998/Math/MathML\"><mi>L</mi><mn>1</mn></math></span></span><script type=\"math/tex\" id=\"MathJax-Element-25\">L1</script> and <span class=\"MathJax_Preview\" style=\"color: inherit; display: none;\"></span><span class=\"MathJax\" id=\"MathJax-Element-26-Frame\" tabindex=\"0\" style=\"position: relative;\" data-mathml=\"<math xmlns=&quot;http://www.w3.org/1998/Math/MathML&quot;><mi>L</mi><mn>2</mn></math>\" role=\"presentation\"><nobr aria-hidden=\"true\"><span class=\"math\" id=\"MathJax-Span-133\" style=\"width: 1.392em; display: inline-block;\"><span style=\"display: inline-block; position: relative; width: 1.175em; height: 0px; font-size: 117%;\"><span style=\"position: absolute; clip: rect(1.507em, 1001.12em, 2.511em, -1000em); top: -2.35em; left: 0em;\"><span class=\"mrow\" id=\"MathJax-Span-134\"><span class=\"mi\" id=\"MathJax-Span-135\" style=\"font-family: MathJax_Math; font-style: italic;\">L</span><span class=\"mn\" id=\"MathJax-Span-136\" style=\"font-family: MathJax_Main;\">2</span></span><span style=\"display: inline-block; width: 0px; height: 2.35em;\"></span></span></span><span style=\"display: inline-block; overflow: hidden; vertical-align: -0.063em; border-left: 0px solid; width: 0px; height: 0.924em;\"></span></span></nobr><span class=\"MJX_Assistive_MathML\" role=\"presentation\"><math xmlns=\"http://www.w3.org/1998/Math/MathML\"><mi>L</mi><mn>2</mn></math></span></span><script type=\"math/tex\" id=\"MathJax-Element-26\">L2</script> penalties:</p>\n",
    "<p><span class=\"MathJax_Preview\" style=\"color: inherit; display: none;\"></span><div class=\"MathJax_Display\" style=\"text-align: center;\"><span class=\"MathJax\" id=\"MathJax-Element-27-Frame\" tabindex=\"0\" style=\"text-align: center; position: relative;\" data-mathml=\"<math xmlns=&quot;http://www.w3.org/1998/Math/MathML&quot; display=&quot;block&quot;><mi>a</mi><mo>&amp;#x2217;</mo><mi>L</mi><mn>1</mn><mo>+</mo><mi>b</mi><mo>&amp;#x2217;</mo><mi>L</mi><mn>2</mn></math>\" role=\"presentation\"><nobr aria-hidden=\"true\"><span class=\"math\" id=\"MathJax-Span-137\" style=\"width: 7.535em; display: inline-block;\"><span style=\"display: inline-block; position: relative; width: 6.41em; height: 0px; font-size: 117%;\"><span style=\"position: absolute; clip: rect(1.496em, 1006.36em, 2.593em, -1000em); top: -2.35em; left: 0em;\"><span class=\"mrow\" id=\"MathJax-Span-138\"><span class=\"mi\" id=\"MathJax-Span-139\" style=\"font-family: MathJax_Math; font-style: italic;\">a</span><span class=\"mo\" id=\"MathJax-Span-140\" style=\"font-family: MathJax_Main; padding-left: 0.222em;\">∗</span><span class=\"mi\" id=\"MathJax-Span-141\" style=\"font-family: MathJax_Math; font-style: italic; padding-left: 0.222em;\">L</span><span class=\"mn\" id=\"MathJax-Span-142\" style=\"font-family: MathJax_Main;\">1</span><span class=\"mo\" id=\"MathJax-Span-143\" style=\"font-family: MathJax_Main; padding-left: 0.222em;\">+</span><span class=\"mi\" id=\"MathJax-Span-144\" style=\"font-family: MathJax_Math; font-style: italic; padding-left: 0.222em;\">b</span><span class=\"mo\" id=\"MathJax-Span-145\" style=\"font-family: MathJax_Main; padding-left: 0.222em;\">∗</span><span class=\"mi\" id=\"MathJax-Span-146\" style=\"font-family: MathJax_Math; font-style: italic; padding-left: 0.222em;\">L</span><span class=\"mn\" id=\"MathJax-Span-147\" style=\"font-family: MathJax_Main;\">2</span></span><span style=\"display: inline-block; width: 0px; height: 2.35em;\"></span></span></span><span style=\"display: inline-block; overflow: hidden; vertical-align: -0.158em; border-left: 0px solid; width: 0px; height: 1.033em;\"></span></span></nobr><span class=\"MJX_Assistive_MathML MJX_Assistive_MathML_Block\" role=\"presentation\"><math xmlns=\"http://www.w3.org/1998/Math/MathML\" display=\"block\"><mi>a</mi><mo>∗</mo><mi>L</mi><mn>1</mn><mo>+</mo><mi>b</mi><mo>∗</mo><mi>L</mi><mn>2</mn></math></span></span></div><script type=\"math/tex; mode=display\" id=\"MathJax-Element-27\"> a * L1 + b * L2 </script></p>\n",
    "<p>In scikit-learn, this term is represented by the <code>'l1_ratio'</code> parameter: An <code>'l1_ratio'</code> of <code>1</code> corresponds to an <span class=\"MathJax_Preview\" style=\"color: inherit; display: none;\"></span><span class=\"MathJax\" id=\"MathJax-Element-28-Frame\" tabindex=\"0\" style=\"position: relative;\" data-mathml=\"<math xmlns=&quot;http://www.w3.org/1998/Math/MathML&quot;><mi>L</mi><mn>1</mn></math>\" role=\"presentation\"><nobr aria-hidden=\"true\"><span class=\"math\" id=\"MathJax-Span-148\" style=\"width: 1.392em; display: inline-block;\"><span style=\"display: inline-block; position: relative; width: 1.175em; height: 0px; font-size: 117%;\"><span style=\"position: absolute; clip: rect(1.507em, 1001.1em, 2.511em, -1000em); top: -2.35em; left: 0em;\"><span class=\"mrow\" id=\"MathJax-Span-149\"><span class=\"mi\" id=\"MathJax-Span-150\" style=\"font-family: MathJax_Math; font-style: italic;\">L</span><span class=\"mn\" id=\"MathJax-Span-151\" style=\"font-family: MathJax_Main;\">1</span></span><span style=\"display: inline-block; width: 0px; height: 2.35em;\"></span></span></span><span style=\"display: inline-block; overflow: hidden; vertical-align: -0.063em; border-left: 0px solid; width: 0px; height: 0.924em;\"></span></span></nobr><span class=\"MJX_Assistive_MathML\" role=\"presentation\"><math xmlns=\"http://www.w3.org/1998/Math/MathML\"><mi>L</mi><mn>1</mn></math></span></span><script type=\"math/tex\" id=\"MathJax-Element-28\">L1</script> penalty, and anything lower is a combination of <span class=\"MathJax_Preview\" style=\"color: inherit; display: none;\"></span><span class=\"MathJax\" id=\"MathJax-Element-29-Frame\" tabindex=\"0\" style=\"position: relative;\" data-mathml=\"<math xmlns=&quot;http://www.w3.org/1998/Math/MathML&quot;><mi>L</mi><mn>1</mn></math>\" role=\"presentation\"><nobr aria-hidden=\"true\"><span class=\"math\" id=\"MathJax-Span-152\" style=\"width: 1.392em; display: inline-block;\"><span style=\"display: inline-block; position: relative; width: 1.175em; height: 0px; font-size: 117%;\"><span style=\"position: absolute; clip: rect(1.507em, 1001.1em, 2.511em, -1000em); top: -2.35em; left: 0em;\"><span class=\"mrow\" id=\"MathJax-Span-153\"><span class=\"mi\" id=\"MathJax-Span-154\" style=\"font-family: MathJax_Math; font-style: italic;\">L</span><span class=\"mn\" id=\"MathJax-Span-155\" style=\"font-family: MathJax_Main;\">1</span></span><span style=\"display: inline-block; width: 0px; height: 2.35em;\"></span></span></span><span style=\"display: inline-block; overflow: hidden; vertical-align: -0.063em; border-left: 0px solid; width: 0px; height: 0.924em;\"></span></span></nobr><span class=\"MJX_Assistive_MathML\" role=\"presentation\"><math xmlns=\"http://www.w3.org/1998/Math/MathML\"><mi>L</mi><mn>1</mn></math></span></span><script type=\"math/tex\" id=\"MathJax-Element-29\">L1</script> and <span class=\"MathJax_Preview\" style=\"color: inherit; display: none;\"></span><span class=\"MathJax\" id=\"MathJax-Element-30-Frame\" tabindex=\"0\" style=\"position: relative;\" data-mathml=\"<math xmlns=&quot;http://www.w3.org/1998/Math/MathML&quot;><mi>L</mi><mn>2</mn></math>\" role=\"presentation\"><nobr aria-hidden=\"true\"><span class=\"math\" id=\"MathJax-Span-156\" style=\"width: 1.392em; display: inline-block;\"><span style=\"display: inline-block; position: relative; width: 1.175em; height: 0px; font-size: 117%;\"><span style=\"position: absolute; clip: rect(1.507em, 1001.12em, 2.511em, -1000em); top: -2.35em; left: 0em;\"><span class=\"mrow\" id=\"MathJax-Span-157\"><span class=\"mi\" id=\"MathJax-Span-158\" style=\"font-family: MathJax_Math; font-style: italic;\">L</span><span class=\"mn\" id=\"MathJax-Span-159\" style=\"font-family: MathJax_Main;\">2</span></span><span style=\"display: inline-block; width: 0px; height: 2.35em;\"></span></span></span><span style=\"display: inline-block; overflow: hidden; vertical-align: -0.063em; border-left: 0px solid; width: 0px; height: 0.924em;\"></span></span></nobr><span class=\"MJX_Assistive_MathML\" role=\"presentation\"><math xmlns=\"http://www.w3.org/1998/Math/MathML\"><mi>L</mi><mn>2</mn></math></span></span><script type=\"math/tex\" id=\"MathJax-Element-30\">L2</script>.</p>\n",
    "<p>In this exercise, you will <code>GridSearchCV</code> to tune the <code>'l1_ratio'</code> of an elastic net model trained on the Gapminder data. As in the previous exercise, use a hold-out set to evaluate your model's performance.</p></div>"
   ]
  },
  {
   "cell_type": "code",
   "execution_count": 53,
   "metadata": {},
   "outputs": [],
   "source": [
    "import warnings\n",
    "warnings.filterwarnings('ignore')"
   ]
  },
  {
   "cell_type": "code",
   "execution_count": 54,
   "metadata": {},
   "outputs": [
    {
     "name": "stdout",
     "output_type": "stream",
     "text": [
      "Tuned ElasticNet l1 ratio: {'l1_ratio': 0.0}\n",
      "Tuned ElasticNet R squared: 0.24765337510702679\n",
      "Tuned ElasticNet MSE: 0.16664179543611016\n"
     ]
    }
   ],
   "source": [
    "# Import necessary modules\n",
    "from sklearn.linear_model import ElasticNet\n",
    "from sklearn.metrics import mean_squared_error\n",
    "from sklearn.model_selection import GridSearchCV, train_test_split\n",
    "\n",
    "# Create train and test sets\n",
    "X_train, X_test, y_train, y_test = train_test_split(X, y, test_size=0.4, random_state = 42)\n",
    "\n",
    "# Create the hyperparameter grid\n",
    "l1_space = np.linspace(0, 1, 30)\n",
    "param_grid = {'l1_ratio': l1_space}\n",
    "\n",
    "# Instantiate the ElasticNet regressor: elastic_net\n",
    "elastic_net = ElasticNet()\n",
    "\n",
    "# Setup the GridSearchCV object: gm_cv\n",
    "gm_cv = GridSearchCV(elastic_net, param_grid, cv=5)\n",
    "\n",
    "# Fit it to the training data\n",
    "gm_cv.fit(X_train, y_train)\n",
    "\n",
    "# Predict on the test set and compute metrics\n",
    "y_pred = gm_cv.predict(X_test)\n",
    "r2 = gm_cv.score(X_test, y_test)\n",
    "mse = mean_squared_error(y_test, y_pred)\n",
    "print(\"Tuned ElasticNet l1 ratio: {}\".format(gm_cv.best_params_))\n",
    "print(\"Tuned ElasticNet R squared: {}\".format(r2))\n",
    "print(\"Tuned ElasticNet MSE: {}\".format(mse))"
   ]
  },
  {
   "cell_type": "markdown",
   "metadata": {},
   "source": [
    "## <font color=red>04 - Preprocessing and pipelines </font> \n",
    "\n",
    " This chapter will introduce the notion of pipelines and how scikit-learn allows for transformers and estimators to be chained together and used as a single unit. Pre-processing techniques will be then be introduced as a way to enhance model performance and pipelines will be the glue that ties together concepts in the prior chapters. "
   ]
  },
  {
   "cell_type": "markdown",
   "metadata": {},
   "source": [
    "<div class=\"exercise--assignment exercise--typography\"><h1 class=\"exercise--title\">Exploring categorical features</h1><p>The Gapminder dataset that you worked with in previous chapters also contained a categorical <code>'Region'</code> feature, which we dropped in previous exercises since you did not have the tools to deal with it. Now however, you do, so we have added it back in! </p>\n",
    "<p>Your job in this exercise is to explore this feature. Boxplots are particularly useful for visualizing categorical features such as this.</p></div>"
   ]
  },
  {
   "cell_type": "code",
   "execution_count": 56,
   "metadata": {},
   "outputs": [
    {
     "data": {
      "image/png": "[encoded data removed]",
      "text/plain": [
       "<Figure size 432x288 with 1 Axes>"
      ]
     },
     "metadata": {},
     "output_type": "display_data"
    }
   ],
   "source": [
    "# Import pandas\n",
    "import pandas as pd\n",
    "\n",
    "# Read 'gapminder.csv' into a DataFrame: df\n",
    "df = pd.read_csv('./data/gapminder.csv')\n",
    "\n",
    "# Create a boxplot of life expectancy per region\n",
    "df.boxplot('life', 'Region', rot=60)\n",
    "\n",
    "# Show the plot\n",
    "plt.show()"
   ]
  },
  {
   "cell_type": "markdown",
   "metadata": {},
   "source": [
    "<div class=\"exercise--assignment exercise--typography\"><h1 class=\"exercise--title\">Creating dummy variables</h1><p>As Andy discussed in the video, scikit-learn does not accept non-numerical features. You saw in the previous exercise that the <code>'Region'</code> feature contains very useful information that can predict life expectancy. For example, Sub-Saharan Africa has a lower life expectancy compared to Europe and Central Asia. Therefore, if you are trying to predict life expectancy, it would be preferable to retain the <code>'Region'</code> feature. To do this, you need to binarize it by creating dummy variables, which is what you will do in this exercise.</p></div>"
   ]
  },
  {
   "cell_type": "code",
   "execution_count": 57,
   "metadata": {},
   "outputs": [
    {
     "name": "stdout",
     "output_type": "stream",
     "text": [
      "Index(['population', 'fertility', 'HIV', 'CO2', 'BMI_male', 'GDP',\n",
      "       'BMI_female', 'life', 'child_mortality', 'Region_America',\n",
      "       'Region_East Asia & Pacific', 'Region_Europe & Central Asia',\n",
      "       'Region_Middle East & North Africa', 'Region_South Asia',\n",
      "       'Region_Sub-Saharan Africa'],\n",
      "      dtype='object')\n",
      "Index(['population', 'fertility', 'HIV', 'CO2', 'BMI_male', 'GDP',\n",
      "       'BMI_female', 'life', 'child_mortality', 'Region_East Asia & Pacific',\n",
      "       'Region_Europe & Central Asia', 'Region_Middle East & North Africa',\n",
      "       'Region_South Asia', 'Region_Sub-Saharan Africa'],\n",
      "      dtype='object')\n"
     ]
    }
   ],
   "source": [
    "# Create dummy variables: df_region\n",
    "df_region = pd.get_dummies(df)\n",
    "\n",
    "# Print the columns of df_region\n",
    "print(df_region.columns)\n",
    "\n",
    "# Create dummy variables with drop_first=True: df_region\n",
    "df_region = pd.get_dummies(df, drop_first=True)\n",
    "\n",
    "# Print the new columns of df_region\n",
    "print(df_region.columns)"
   ]
  },
  {
   "cell_type": "code",
   "execution_count": 59,
   "metadata": {},
   "outputs": [
    {
     "data": {
      "text/html": [
       "<div>\n",
       "<style scoped>\n",
       "    .dataframe tbody tr th:only-of-type {\n",
       "        vertical-align: middle;\n",
       "    }\n",
       "\n",
       "    .dataframe tbody tr th {\n",
       "        vertical-align: top;\n",
       "    }\n",
       "\n",
       "    .dataframe thead th {\n",
       "        text-align: right;\n",
       "    }\n",
       "</style>\n",
       "<table border=\"1\" class=\"dataframe\">\n",
       "  <thead>\n",
       "    <tr style=\"text-align: right;\">\n",
       "      <th></th>\n",
       "      <th>population</th>\n",
       "      <th>fertility</th>\n",
       "      <th>HIV</th>\n",
       "      <th>CO2</th>\n",
       "      <th>BMI_male</th>\n",
       "      <th>GDP</th>\n",
       "      <th>BMI_female</th>\n",
       "      <th>life</th>\n",
       "      <th>child_mortality</th>\n",
       "      <th>Region_East Asia &amp; Pacific</th>\n",
       "      <th>Region_Europe &amp; Central Asia</th>\n",
       "      <th>Region_Middle East &amp; North Africa</th>\n",
       "      <th>Region_South Asia</th>\n",
       "      <th>Region_Sub-Saharan Africa</th>\n",
       "    </tr>\n",
       "  </thead>\n",
       "  <tbody>\n",
       "    <tr>\n",
       "      <th>0</th>\n",
       "      <td>34811059.0</td>\n",
       "      <td>2.73</td>\n",
       "      <td>0.1</td>\n",
       "      <td>3.328945</td>\n",
       "      <td>24.59620</td>\n",
       "      <td>12314.0</td>\n",
       "      <td>129.9049</td>\n",
       "      <td>75.3</td>\n",
       "      <td>29.5</td>\n",
       "      <td>0</td>\n",
       "      <td>0</td>\n",
       "      <td>1</td>\n",
       "      <td>0</td>\n",
       "      <td>0</td>\n",
       "    </tr>\n",
       "    <tr>\n",
       "      <th>1</th>\n",
       "      <td>19842251.0</td>\n",
       "      <td>6.43</td>\n",
       "      <td>2.0</td>\n",
       "      <td>1.474353</td>\n",
       "      <td>22.25083</td>\n",
       "      <td>7103.0</td>\n",
       "      <td>130.1247</td>\n",
       "      <td>58.3</td>\n",
       "      <td>192.0</td>\n",
       "      <td>0</td>\n",
       "      <td>0</td>\n",
       "      <td>0</td>\n",
       "      <td>0</td>\n",
       "      <td>1</td>\n",
       "    </tr>\n",
       "    <tr>\n",
       "      <th>2</th>\n",
       "      <td>40381860.0</td>\n",
       "      <td>2.24</td>\n",
       "      <td>0.5</td>\n",
       "      <td>4.785170</td>\n",
       "      <td>27.50170</td>\n",
       "      <td>14646.0</td>\n",
       "      <td>118.8915</td>\n",
       "      <td>75.5</td>\n",
       "      <td>15.4</td>\n",
       "      <td>0</td>\n",
       "      <td>0</td>\n",
       "      <td>0</td>\n",
       "      <td>0</td>\n",
       "      <td>0</td>\n",
       "    </tr>\n",
       "    <tr>\n",
       "      <th>3</th>\n",
       "      <td>2975029.0</td>\n",
       "      <td>1.40</td>\n",
       "      <td>0.1</td>\n",
       "      <td>1.804106</td>\n",
       "      <td>25.35542</td>\n",
       "      <td>7383.0</td>\n",
       "      <td>132.8108</td>\n",
       "      <td>72.5</td>\n",
       "      <td>20.0</td>\n",
       "      <td>0</td>\n",
       "      <td>1</td>\n",
       "      <td>0</td>\n",
       "      <td>0</td>\n",
       "      <td>0</td>\n",
       "    </tr>\n",
       "    <tr>\n",
       "      <th>4</th>\n",
       "      <td>21370348.0</td>\n",
       "      <td>1.96</td>\n",
       "      <td>0.1</td>\n",
       "      <td>18.016313</td>\n",
       "      <td>27.56373</td>\n",
       "      <td>41312.0</td>\n",
       "      <td>117.3755</td>\n",
       "      <td>81.5</td>\n",
       "      <td>5.2</td>\n",
       "      <td>1</td>\n",
       "      <td>0</td>\n",
       "      <td>0</td>\n",
       "      <td>0</td>\n",
       "      <td>0</td>\n",
       "    </tr>\n",
       "  </tbody>\n",
       "</table>\n",
       "</div>"
      ],
      "text/plain": [
       "   population  fertility  HIV        CO2  BMI_male      GDP  BMI_female  life  \\\n",
       "0  34811059.0       2.73  0.1   3.328945  24.59620  12314.0    129.9049  75.3   \n",
       "1  19842251.0       6.43  2.0   1.474353  22.25083   7103.0    130.1247  58.3   \n",
       "2  40381860.0       2.24  0.5   4.785170  27.50170  14646.0    118.8915  75.5   \n",
       "3   2975029.0       1.40  0.1   1.804106  25.35542   7383.0    132.8108  72.5   \n",
       "4  21370348.0       1.96  0.1  18.016313  27.56373  41312.0    117.3755  81.5   \n",
       "\n",
       "   child_mortality  Region_East Asia & Pacific  Region_Europe & Central Asia  \\\n",
       "0             29.5                           0                             0   \n",
       "1            192.0                           0                             0   \n",
       "2             15.4                           0                             0   \n",
       "3             20.0                           0                             1   \n",
       "4              5.2                           1                             0   \n",
       "\n",
       "   Region_Middle East & North Africa  Region_South Asia  \\\n",
       "0                                  1                  0   \n",
       "1                                  0                  0   \n",
       "2                                  0                  0   \n",
       "3                                  0                  0   \n",
       "4                                  0                  0   \n",
       "\n",
       "   Region_Sub-Saharan Africa  \n",
       "0                          0  \n",
       "1                          1  \n",
       "2                          0  \n",
       "3                          0  \n",
       "4                          0  "
      ]
     },
     "execution_count": 59,
     "metadata": {},
     "output_type": "execute_result"
    }
   ],
   "source": [
    "df_region.head()"
   ]
  },
  {
   "cell_type": "markdown",
   "metadata": {},
   "source": [
    "<div class=\"exercise--assignment exercise--typography\"><h1 class=\"exercise--title\">Regression with categorical features</h1><p>Having created the dummy variables from the <code>'Region'</code> feature, you can build regression models as you did before. Here, you'll use ridge regression to perform 5-fold cross-validation.</p>\n",
    "<p>The feature array <code>X</code> and target variable array <code>y</code> have been pre-loaded.</p></div>"
   ]
  },
  {
   "cell_type": "code",
   "execution_count": 60,
   "metadata": {},
   "outputs": [
    {
     "name": "stdout",
     "output_type": "stream",
     "text": [
      "[0.26648172 0.23084647 0.27355543 0.24898795 0.25673452]\n"
     ]
    }
   ],
   "source": [
    "# Import necessary modules\n",
    "from sklearn.linear_model import Ridge\n",
    "from sklearn.model_selection import cross_val_score\n",
    "\n",
    "# Instantiate a ridge regressor: ridge\n",
    "ridge = Ridge(alpha=0.5, normalize=True)\n",
    "\n",
    "# Perform 5-fold cross-validation: ridge_cv\n",
    "ridge_cv = cross_val_score(ridge, X,y, cv=5)\n",
    "\n",
    "# Print the cross-validated scores\n",
    "print(ridge_cv)"
   ]
  },
  {
   "cell_type": "markdown",
   "metadata": {},
   "source": [
    "<div class=\"exercise--assignment exercise--typography\"><h1 class=\"exercise--title\">Dropping missing data</h1><p>The voting dataset from Chapter 1 contained a bunch of missing values that we dealt with for you behind the scenes. Now, it's time for you to take care of these yourself!</p>\n",
    "<p>The unprocessed dataset has been loaded into a DataFrame <code>df</code>. Explore it in the IPython Shell with the <code>.head()</code> method. You will see that there are certain data points labeled with a <code>'?'</code>. These denote missing values. As you saw in the video, different datasets encode missing values in different ways. Sometimes it may be a <code>'9999'</code>, other times  a <code>0</code> - real-world data can be very messy! If you're lucky, the missing values will already be encoded as <code>NaN</code>. We use <code>NaN</code> because it is an efficient and simplified way of internally representing missing data, and it lets us take advantage of pandas methods such as <code>.dropna()</code> and <code>.fillna()</code>, as well as scikit-learn's Imputation transformer <code>Imputer()</code>.</p>\n",
    "<p>In this exercise, your job is to convert the <code>'?'</code>s to NaNs, and then drop the rows that contain them from the DataFrame.</p></div>"
   ]
  },
  {
   "cell_type": "code",
   "execution_count": 62,
   "metadata": {},
   "outputs": [],
   "source": [
    "df = pd.read_csv('./data/house-votes-84.csv', header=None)\n",
    "df.columns= ['party', 'infants', 'water', 'budget', 'physician', 'salvador',\n",
    "       'religious', 'satellite', 'aid', 'missile', 'immigration', 'synfuels',\n",
    "       'education', 'superfund', 'crime', 'duty_free_exports', 'eaa_rsa']"
   ]
  },
  {
   "cell_type": "code",
   "execution_count": 63,
   "metadata": {},
   "outputs": [
    {
     "name": "stdout",
     "output_type": "stream",
     "text": [
      "party                  0\n",
      "infants               12\n",
      "water                 48\n",
      "budget                11\n",
      "physician             11\n",
      "salvador              15\n",
      "religious             11\n",
      "satellite             14\n",
      "aid                   15\n",
      "missile               22\n",
      "immigration            7\n",
      "synfuels              21\n",
      "education             31\n",
      "superfund             25\n",
      "crime                 17\n",
      "duty_free_exports     28\n",
      "eaa_rsa              104\n",
      "dtype: int64\n",
      "Shape of Original DataFrame: (435, 17)\n",
      "Shape of DataFrame After Dropping All Rows with Missing Values: (232, 17)\n"
     ]
    }
   ],
   "source": [
    "# Convert '?' to NaN\n",
    "df[df == '?'] = np.nan\n",
    "\n",
    "# Print the number of NaNs\n",
    "print(df.isnull().sum())\n",
    "\n",
    "# Print shape of original DataFrame\n",
    "print(\"Shape of Original DataFrame: {}\".format(df.shape))\n",
    "\n",
    "# Drop missing values and print shape of new DataFrame\n",
    "df = df.dropna()\n",
    "\n",
    "# Print shape of new DataFrame\n",
    "print(\"Shape of DataFrame After Dropping All Rows with Missing Values: {}\".format(df.shape))"
   ]
  },
  {
   "cell_type": "markdown",
   "metadata": {},
   "source": [
    "<div class=\"exercise--assignment exercise--typography\"><h1 class=\"exercise--title\">Imputing missing data in a ML Pipeline I</h1><p>As you've come to appreciate, there are many steps to building a model, from creating training and test sets, to fitting a classifier or regressor, to tuning its parameters, to evaluating its performance on new data. Imputation can be seen as the first step of this machine learning process, the entirety of which can be viewed within the context of a pipeline. Scikit-learn provides a pipeline constructor that allows you to piece together these steps into one process and thereby simplify your workflow. </p>\n",
    "<p>You'll now practice setting up a pipeline with two steps: the imputation step, followed by the instantiation of a classifier. You've seen three classifiers in this course so far: k-NN, logistic regression, and the decision tree. You will now be introduced to a fourth one - the Support Vector Machine, or <a href=\"http://scikit-learn.org/stable/modules/svm.html\" target=\"_blank\">SVM</a>. For now, do not worry about how it works under the hood. It works exactly as you would expect of the scikit-learn estimators that you have worked with previously, in that it has the same <code>.fit()</code> and <code>.predict()</code> methods as before.</p></div></div></div>"
   ]
  },
  {
   "cell_type": "code",
   "execution_count": 64,
   "metadata": {},
   "outputs": [],
   "source": [
    "# Import the Imputer module\n",
    "from sklearn.preprocessing import Imputer\n",
    "from sklearn.svm import SVC\n",
    "\n",
    "# Setup the Imputation transformer: imp\n",
    "imp = Imputer(missing_values=('NaN'), strategy='most_frequent', axis=0)\n",
    "\n",
    "# Instantiate the SVC classifier: clf\n",
    "clf = SVC()\n",
    "\n",
    "# Setup the pipeline with the required steps: steps\n",
    "steps = [('imputation', imp),\n",
    "        ('SVM', clf)]"
   ]
  },
  {
   "cell_type": "markdown",
   "metadata": {},
   "source": [
    "<div class=\"exercise--assignment exercise--typography\"><h1 class=\"exercise--title\">Imputing missing data in a ML Pipeline II</h1><p>Having setup the steps of the pipeline in the previous exercise, you will now use it on the voting dataset to classify a Congressman's party affiliation. What makes pipelines so incredibly useful is the simple interface that they provide. You can use the <code>.fit()</code> and <code>.predict()</code> methods on pipelines just as you did with your classifiers and regressors! </p>\n",
    "<p>Practice this for yourself now and generate a classification report of your predictions. The steps of the pipeline have been set up for you, and the feature array <code>X</code> and target variable array <code>y</code> have been pre-loaded. Additionally, <code>train_test_split</code> and <code>classification_report</code> have been imported from <code>sklearn.model_selection</code> and <code>sklearn.metrics</code> respectively.</p></div>"
   ]
  },
  {
   "cell_type": "code",
   "execution_count": 65,
   "metadata": {},
   "outputs": [],
   "source": [
    "# Create arrays for the features and the response variable\n",
    "y = df['party']\n",
    "X = df.drop('party', axis=1)"
   ]
  },
  {
   "cell_type": "code",
   "execution_count": 66,
   "metadata": {},
   "outputs": [
    {
     "data": {
      "text/html": [
       "<div>\n",
       "<style scoped>\n",
       "    .dataframe tbody tr th:only-of-type {\n",
       "        vertical-align: middle;\n",
       "    }\n",
       "\n",
       "    .dataframe tbody tr th {\n",
       "        vertical-align: top;\n",
       "    }\n",
       "\n",
       "    .dataframe thead th {\n",
       "        text-align: right;\n",
       "    }\n",
       "</style>\n",
       "<table border=\"1\" class=\"dataframe\">\n",
       "  <thead>\n",
       "    <tr style=\"text-align: right;\">\n",
       "      <th></th>\n",
       "      <th>party</th>\n",
       "      <th>infants</th>\n",
       "      <th>water</th>\n",
       "      <th>budget</th>\n",
       "      <th>physician</th>\n",
       "      <th>salvador</th>\n",
       "      <th>religious</th>\n",
       "      <th>satellite</th>\n",
       "      <th>aid</th>\n",
       "      <th>missile</th>\n",
       "      <th>immigration</th>\n",
       "      <th>synfuels</th>\n",
       "      <th>education</th>\n",
       "      <th>superfund</th>\n",
       "      <th>crime</th>\n",
       "      <th>duty_free_exports</th>\n",
       "      <th>eaa_rsa</th>\n",
       "    </tr>\n",
       "  </thead>\n",
       "  <tbody>\n",
       "    <tr>\n",
       "      <th>5</th>\n",
       "      <td>democrat</td>\n",
       "      <td>0</td>\n",
       "      <td>1</td>\n",
       "      <td>0</td>\n",
       "      <td>0</td>\n",
       "      <td>1</td>\n",
       "      <td>0</td>\n",
       "      <td>0</td>\n",
       "      <td>0</td>\n",
       "      <td>0</td>\n",
       "      <td>0</td>\n",
       "      <td>0</td>\n",
       "      <td>0</td>\n",
       "      <td>1</td>\n",
       "      <td>0</td>\n",
       "      <td>1</td>\n",
       "      <td>1</td>\n",
       "    </tr>\n",
       "    <tr>\n",
       "      <th>8</th>\n",
       "      <td>republican</td>\n",
       "      <td>0</td>\n",
       "      <td>1</td>\n",
       "      <td>0</td>\n",
       "      <td>1</td>\n",
       "      <td>0</td>\n",
       "      <td>1</td>\n",
       "      <td>0</td>\n",
       "      <td>0</td>\n",
       "      <td>0</td>\n",
       "      <td>0</td>\n",
       "      <td>0</td>\n",
       "      <td>1</td>\n",
       "      <td>0</td>\n",
       "      <td>1</td>\n",
       "      <td>0</td>\n",
       "      <td>1</td>\n",
       "    </tr>\n",
       "    <tr>\n",
       "      <th>19</th>\n",
       "      <td>democrat</td>\n",
       "      <td>1</td>\n",
       "      <td>0</td>\n",
       "      <td>1</td>\n",
       "      <td>0</td>\n",
       "      <td>0</td>\n",
       "      <td>0</td>\n",
       "      <td>1</td>\n",
       "      <td>0</td>\n",
       "      <td>1</td>\n",
       "      <td>0</td>\n",
       "      <td>1</td>\n",
       "      <td>0</td>\n",
       "      <td>0</td>\n",
       "      <td>0</td>\n",
       "      <td>1</td>\n",
       "      <td>1</td>\n",
       "    </tr>\n",
       "    <tr>\n",
       "      <th>23</th>\n",
       "      <td>democrat</td>\n",
       "      <td>1</td>\n",
       "      <td>0</td>\n",
       "      <td>1</td>\n",
       "      <td>0</td>\n",
       "      <td>0</td>\n",
       "      <td>0</td>\n",
       "      <td>1</td>\n",
       "      <td>0</td>\n",
       "      <td>1</td>\n",
       "      <td>0</td>\n",
       "      <td>0</td>\n",
       "      <td>0</td>\n",
       "      <td>0</td>\n",
       "      <td>0</td>\n",
       "      <td>1</td>\n",
       "      <td>1</td>\n",
       "    </tr>\n",
       "    <tr>\n",
       "      <th>25</th>\n",
       "      <td>democrat</td>\n",
       "      <td>1</td>\n",
       "      <td>0</td>\n",
       "      <td>1</td>\n",
       "      <td>0</td>\n",
       "      <td>0</td>\n",
       "      <td>0</td>\n",
       "      <td>1</td>\n",
       "      <td>0</td>\n",
       "      <td>1</td>\n",
       "      <td>0</td>\n",
       "      <td>0</td>\n",
       "      <td>0</td>\n",
       "      <td>0</td>\n",
       "      <td>0</td>\n",
       "      <td>1</td>\n",
       "      <td>1</td>\n",
       "    </tr>\n",
       "  </tbody>\n",
       "</table>\n",
       "</div>"
      ],
      "text/plain": [
       "         party infants water budget physician salvador religious satellite  \\\n",
       "5     democrat       0     1      0         0        1         0         0   \n",
       "8   republican       0     1      0         1        0         1         0   \n",
       "19    democrat       1     0      1         0        0         0         1   \n",
       "23    democrat       1     0      1         0        0         0         1   \n",
       "25    democrat       1     0      1         0        0         0         1   \n",
       "\n",
       "   aid missile immigration synfuels education superfund crime  \\\n",
       "5    0       0           0        0         0         1     0   \n",
       "8    0       0           0        0         1         0     1   \n",
       "19   0       1           0        1         0         0     0   \n",
       "23   0       1           0        0         0         0     0   \n",
       "25   0       1           0        0         0         0     0   \n",
       "\n",
       "   duty_free_exports eaa_rsa  \n",
       "5                  1       1  \n",
       "8                  0       1  \n",
       "19                 1       1  \n",
       "23                 1       1  \n",
       "25                 1       1  "
      ]
     },
     "execution_count": 66,
     "metadata": {},
     "output_type": "execute_result"
    }
   ],
   "source": [
    "df.head()"
   ]
  },
  {
   "cell_type": "code",
   "execution_count": 67,
   "metadata": {},
   "outputs": [
    {
     "name": "stdout",
     "output_type": "stream",
     "text": [
      "             precision    recall  f1-score   support\n",
      "\n",
      "   democrat       0.90      0.97      0.93        36\n",
      " republican       0.97      0.88      0.92        34\n",
      "\n",
      "avg / total       0.93      0.93      0.93        70\n",
      "\n"
     ]
    }
   ],
   "source": [
    "# Import necessary modules\n",
    "from sklearn.preprocessing import Imputer\n",
    "from sklearn.pipeline import Pipeline\n",
    "from sklearn.svm import SVC\n",
    "\n",
    "# Setup the pipeline steps: steps\n",
    "steps = [('imputation', Imputer(missing_values='NaN', strategy='most_frequent', axis=0)),\n",
    "        ('SVM', SVC())]\n",
    "\n",
    "# Create the pipeline: pipeline\n",
    "pipeline = Pipeline(steps)\n",
    "\n",
    "# Create training and test sets\n",
    "X_train, X_test, y_train, y_test = train_test_split(X, y, test_size=0.3, random_state=42)\n",
    "\n",
    "# Fit the pipeline to the train set\n",
    "pipeline.fit(X_train, y_train)\n",
    "\n",
    "# Predict the labels of the test set\n",
    "y_pred = pipeline.predict(X_test)\n",
    "\n",
    "# Compute metrics\n",
    "print(classification_report(y_test, y_pred))"
   ]
  },
  {
   "cell_type": "markdown",
   "metadata": {},
   "source": [
    "<div class=\"exercise--assignment exercise--typography\"><h1 class=\"exercise--title\">Centering and scaling your data</h1><p>In the video, Hugo demonstrated how significantly the performance of a model can improve if the features are scaled. Note that this is not always the case: In the Congressional voting records dataset, for example, all of the features are binary. In such a situation, scaling will have minimal impact.</p>\n",
    "<p>You will now explore scaling for yourself on a new dataset - <a href=\"https://archive.ics.uci.edu/ml/datasets/Wine+Quality\" target=\"_blank\">White Wine Quality</a>! Hugo used the Red Wine Quality dataset in the video. We have used the <code>'quality'</code> feature of the wine to create a binary target variable: If <code>'quality'</code> is less than <code>5</code>, the target variable is <code>1</code>, and otherwise, it is <code>0</code>.</p>\n",
    "<p>The DataFrame has been pre-loaded as <code>df</code>, along with the feature and target variable arrays <code>X</code> and <code>y</code>. Explore it in the IPython Shell. Notice how some features seem to have different units of measurement. <code>'density'</code>, for instance, takes values between 0.98 and 1.04, while <code>'total sulfur dioxide'</code> ranges from 9 to 440. As a result, it may be worth scaling the features here. Your job in this exercise is to scale the features and compute the mean and standard deviation of the unscaled features compared to the scaled features.</p></div>"
   ]
  },
  {
   "cell_type": "code",
   "execution_count": 69,
   "metadata": {},
   "outputs": [],
   "source": [
    "df = pd.read_csv('./data/winequality-red.csv', delimiter=';')\n",
    "X = df.drop('quality', axis=1)\n",
    "y = df['quality']"
   ]
  },
  {
   "cell_type": "code",
   "execution_count": 70,
   "metadata": {},
   "outputs": [
    {
     "name": "stdout",
     "output_type": "stream",
     "text": [
      "Mean of Unscaled Features: fixed acidity            8.319637\n",
      "volatile acidity         0.527821\n",
      "citric acid              0.270976\n",
      "residual sugar           2.538806\n",
      "chlorides                0.087467\n",
      "free sulfur dioxide     15.874922\n",
      "total sulfur dioxide    46.467792\n",
      "density                  0.996747\n",
      "pH                       3.311113\n",
      "sulphates                0.658149\n",
      "alcohol                 10.422983\n",
      "dtype: float64\n",
      "Standard Deviation of Unscaled Features: fixed acidity            1.740552\n",
      "volatile acidity         0.179004\n",
      "citric acid              0.194740\n",
      "residual sugar           1.409487\n",
      "chlorides                0.047051\n",
      "free sulfur dioxide     10.456886\n",
      "total sulfur dioxide    32.885037\n",
      "density                  0.001887\n",
      "pH                       0.154338\n",
      "sulphates                0.169454\n",
      "alcohol                  1.065334\n",
      "dtype: float64\n",
      "Mean of Scaled Features: 2.546626531486538e-15\n",
      "Standard Deviation of Scaled Features: 1.0\n"
     ]
    }
   ],
   "source": [
    "# Import scale\n",
    "from sklearn.preprocessing import scale\n",
    "\n",
    "# Scale the features: X_scaled\n",
    "X_scaled = scale(X)\n",
    "\n",
    "# Print the mean and standard deviation of the unscaled features\n",
    "print(\"Mean of Unscaled Features: {}\".format(np.mean(X))) \n",
    "print(\"Standard Deviation of Unscaled Features: {}\".format(np.std(X)))\n",
    "\n",
    "# Print the mean and standard deviation of the scaled features\n",
    "print(\"Mean of Scaled Features: {}\".format(np.mean(X_scaled))) \n",
    "print(\"Standard Deviation of Scaled Features: {}\".format(np.std(X_scaled)))"
   ]
  },
  {
   "cell_type": "markdown",
   "metadata": {},
   "source": [
    "<div class=\"exercise--assignment exercise--typography\"><h1 class=\"exercise--title\">Centering and scaling in a pipeline</h1><p>With regard to whether or not scaling is effective, the proof is in the pudding! See for yourself whether or not scaling the features of the White Wine Quality dataset has any impact on its performance. You will use a k-NN classifier as part of a pipeline that includes scaling, and for the purposes of comparison, a k-NN classifier trained on the unscaled data has been provided. </p>\n",
    "<p>The feature array and target variable array have been pre-loaded as <code>X</code> and <code>y</code>. Additionally, <code>KNeighborsClassifier</code> and <code>train_test_split</code> have been imported from <code>sklearn.neighbors</code> and <code>sklearn.model_selection</code>, respectively.</p></div>"
   ]
  },
  {
   "cell_type": "code",
   "execution_count": 71,
   "metadata": {},
   "outputs": [
    {
     "name": "stdout",
     "output_type": "stream",
     "text": [
      "Accuracy with Scaling: 0.5708333333333333\n",
      "Accuracy without Scaling: 0.48541666666666666\n"
     ]
    }
   ],
   "source": [
    "# Import the necessary modules\n",
    "from sklearn.preprocessing import StandardScaler\n",
    "from sklearn.pipeline import Pipeline\n",
    "\n",
    "# Setup the pipeline\n",
    "steps = [('scaler', StandardScaler()),\n",
    "        ('knn', KNeighborsClassifier())]\n",
    "        \n",
    "# Create the pipeline: pipeline\n",
    "pipeline = Pipeline(steps)\n",
    "\n",
    "# Create train and test sets\n",
    "X_train, X_test, y_train, y_test = train_test_split(X, y, test_size=0.3, random_state=42)\n",
    "\n",
    "# Fit the pipeline to the training set: knn_scaled\n",
    "knn_scaled = pipeline.fit(X_train, y_train)\n",
    "\n",
    "# Instantiate and fit a k-NN classifier to the unscaled data\n",
    "knn_unscaled = KNeighborsClassifier().fit(X_train, y_train)\n",
    "\n",
    "# Compute and print metrics\n",
    "print('Accuracy with Scaling: {}'.format(knn_scaled.score(X_test, y_test)))\n",
    "print('Accuracy without Scaling: {}'.format(knn_unscaled.score(X_test, y_test)))"
   ]
  },
  {
   "cell_type": "markdown",
   "metadata": {},
   "source": [
    "<div class=\"exercise--assignment exercise--typography\"><h1 class=\"exercise--title\">Bringing it all together I: Pipeline for classification</h1><p>It is time now to piece together everything you have learned so far into a pipeline for classification! Your job in this exercise is to build a pipeline that includes scaling and hyperparameter tuning to classify wine quality.</p>\n",
    "<p>You'll return to using the SVM classifier you were briefly introduced to earlier in this chapter. The hyperparameters you will tune are <span class=\"MathJax_Preview\" style=\"color: inherit; display: none;\"></span><span class=\"MathJax\" id=\"MathJax-Element-32-Frame\" tabindex=\"0\" style=\"position: relative;\" data-mathml=\"<math xmlns=&quot;http://www.w3.org/1998/Math/MathML&quot;><mi>C</mi></math>\" role=\"presentation\"><nobr aria-hidden=\"true\"><span class=\"math\" id=\"MathJax-Span-165\" style=\"width: 0.911em; display: inline-block;\"><span style=\"display: inline-block; position: relative; width: 0.748em; height: 0px; font-size: 117%;\"><span style=\"position: absolute; clip: rect(1.485em, 1000.75em, 2.533em, -1000em); top: -2.35em; left: 0em;\"><span class=\"mrow\" id=\"MathJax-Span-166\"><span class=\"mi\" id=\"MathJax-Span-167\" style=\"font-family: MathJax_Math; font-style: italic;\">C<span style=\"display: inline-block; overflow: hidden; height: 1px; width: 0.045em;\"></span></span></span><span style=\"display: inline-block; width: 0px; height: 2.35em;\"></span></span></span><span style=\"display: inline-block; overflow: hidden; vertical-align: -0.088em; border-left: 0px solid; width: 0px; height: 0.976em;\"></span></span></nobr><span class=\"MJX_Assistive_MathML\" role=\"presentation\"><math xmlns=\"http://www.w3.org/1998/Math/MathML\"><mi>C</mi></math></span></span><script type=\"math/tex\" id=\"MathJax-Element-32\">C</script> and <span class=\"MathJax_Preview\" style=\"color: inherit; display: none;\"></span><span class=\"MathJax\" id=\"MathJax-Element-33-Frame\" tabindex=\"0\" style=\"position: relative;\" data-mathml=\"<math xmlns=&quot;http://www.w3.org/1998/Math/MathML&quot;><mi>g</mi><mi>a</mi><mi>m</mi><mi>m</mi><mi>a</mi></math>\" role=\"presentation\"><nobr aria-hidden=\"true\"><span class=\"math\" id=\"MathJax-Span-168\" style=\"width: 3.902em; display: inline-block;\"><span style=\"display: inline-block; position: relative; width: 3.312em; height: 0px; font-size: 117%;\"><span style=\"position: absolute; clip: rect(1.748em, 1003.29em, 2.716em, -1000em); top: -2.35em; left: 0em;\"><span class=\"mrow\" id=\"MathJax-Span-169\"><span class=\"mi\" id=\"MathJax-Span-170\" style=\"font-family: MathJax_Math; font-style: italic;\">g<span style=\"display: inline-block; overflow: hidden; height: 1px; width: 0.003em;\"></span></span><span class=\"mi\" id=\"MathJax-Span-171\" style=\"font-family: MathJax_Math; font-style: italic;\">a</span><span class=\"mi\" id=\"MathJax-Span-172\" style=\"font-family: MathJax_Math; font-style: italic;\">m</span><span class=\"mi\" id=\"MathJax-Span-173\" style=\"font-family: MathJax_Math; font-style: italic;\">m</span><span class=\"mi\" id=\"MathJax-Span-174\" style=\"font-family: MathJax_Math; font-style: italic;\">a</span></span><span style=\"display: inline-block; width: 0px; height: 2.35em;\"></span></span></span><span style=\"display: inline-block; overflow: hidden; vertical-align: -0.302em; border-left: 0px solid; width: 0px; height: 0.882em;\"></span></span></nobr><span class=\"MJX_Assistive_MathML\" role=\"presentation\"><math xmlns=\"http://www.w3.org/1998/Math/MathML\"><mi>g</mi><mi>a</mi><mi>m</mi><mi>m</mi><mi>a</mi></math></span></span><script type=\"math/tex\" id=\"MathJax-Element-33\">gamma</script>. <span class=\"MathJax_Preview\" style=\"color: inherit; display: none;\"></span><span class=\"MathJax\" id=\"MathJax-Element-34-Frame\" tabindex=\"0\" style=\"position: relative;\" data-mathml=\"<math xmlns=&quot;http://www.w3.org/1998/Math/MathML&quot;><mi>C</mi></math>\" role=\"presentation\"><nobr aria-hidden=\"true\"><span class=\"math\" id=\"MathJax-Span-175\" style=\"width: 0.911em; display: inline-block;\"><span style=\"display: inline-block; position: relative; width: 0.748em; height: 0px; font-size: 117%;\"><span style=\"position: absolute; clip: rect(1.485em, 1000.75em, 2.533em, -1000em); top: -2.35em; left: 0em;\"><span class=\"mrow\" id=\"MathJax-Span-176\"><span class=\"mi\" id=\"MathJax-Span-177\" style=\"font-family: MathJax_Math; font-style: italic;\">C<span style=\"display: inline-block; overflow: hidden; height: 1px; width: 0.045em;\"></span></span></span><span style=\"display: inline-block; width: 0px; height: 2.35em;\"></span></span></span><span style=\"display: inline-block; overflow: hidden; vertical-align: -0.088em; border-left: 0px solid; width: 0px; height: 0.976em;\"></span></span></nobr><span class=\"MJX_Assistive_MathML\" role=\"presentation\"><math xmlns=\"http://www.w3.org/1998/Math/MathML\"><mi>C</mi></math></span></span><script type=\"math/tex\" id=\"MathJax-Element-34\">C</script> controls the regularization strength. It is analogous to the <span class=\"MathJax_Preview\" style=\"color: inherit; display: none;\"></span><span class=\"MathJax\" id=\"MathJax-Element-35-Frame\" tabindex=\"0\" style=\"position: relative;\" data-mathml=\"<math xmlns=&quot;http://www.w3.org/1998/Math/MathML&quot;><mi>C</mi></math>\" role=\"presentation\"><nobr aria-hidden=\"true\"><span class=\"math\" id=\"MathJax-Span-178\" style=\"width: 0.911em; display: inline-block;\"><span style=\"display: inline-block; position: relative; width: 0.748em; height: 0px; font-size: 117%;\"><span style=\"position: absolute; clip: rect(1.485em, 1000.75em, 2.533em, -1000em); top: -2.35em; left: 0em;\"><span class=\"mrow\" id=\"MathJax-Span-179\"><span class=\"mi\" id=\"MathJax-Span-180\" style=\"font-family: MathJax_Math; font-style: italic;\">C<span style=\"display: inline-block; overflow: hidden; height: 1px; width: 0.045em;\"></span></span></span><span style=\"display: inline-block; width: 0px; height: 2.35em;\"></span></span></span><span style=\"display: inline-block; overflow: hidden; vertical-align: -0.088em; border-left: 0px solid; width: 0px; height: 0.976em;\"></span></span></nobr><span class=\"MJX_Assistive_MathML\" role=\"presentation\"><math xmlns=\"http://www.w3.org/1998/Math/MathML\"><mi>C</mi></math></span></span><script type=\"math/tex\" id=\"MathJax-Element-35\">C</script> you tuned for logistic regression in Chapter 3, while <span class=\"MathJax_Preview\" style=\"color: inherit; display: none;\"></span><span class=\"MathJax\" id=\"MathJax-Element-36-Frame\" tabindex=\"0\" style=\"position: relative;\" data-mathml=\"<math xmlns=&quot;http://www.w3.org/1998/Math/MathML&quot;><mi>g</mi><mi>a</mi><mi>m</mi><mi>m</mi><mi>a</mi></math>\" role=\"presentation\"><nobr aria-hidden=\"true\"><span class=\"math\" id=\"MathJax-Span-181\" style=\"width: 3.902em; display: inline-block;\"><span style=\"display: inline-block; position: relative; width: 3.312em; height: 0px; font-size: 117%;\"><span style=\"position: absolute; clip: rect(1.748em, 1003.29em, 2.716em, -1000em); top: -2.35em; left: 0em;\"><span class=\"mrow\" id=\"MathJax-Span-182\"><span class=\"mi\" id=\"MathJax-Span-183\" style=\"font-family: MathJax_Math; font-style: italic;\">g<span style=\"display: inline-block; overflow: hidden; height: 1px; width: 0.003em;\"></span></span><span class=\"mi\" id=\"MathJax-Span-184\" style=\"font-family: MathJax_Math; font-style: italic;\">a</span><span class=\"mi\" id=\"MathJax-Span-185\" style=\"font-family: MathJax_Math; font-style: italic;\">m</span><span class=\"mi\" id=\"MathJax-Span-186\" style=\"font-family: MathJax_Math; font-style: italic;\">m</span><span class=\"mi\" id=\"MathJax-Span-187\" style=\"font-family: MathJax_Math; font-style: italic;\">a</span></span><span style=\"display: inline-block; width: 0px; height: 2.35em;\"></span></span></span><span style=\"display: inline-block; overflow: hidden; vertical-align: -0.302em; border-left: 0px solid; width: 0px; height: 0.882em;\"></span></span></nobr><span class=\"MJX_Assistive_MathML\" role=\"presentation\"><math xmlns=\"http://www.w3.org/1998/Math/MathML\"><mi>g</mi><mi>a</mi><mi>m</mi><mi>m</mi><mi>a</mi></math></span></span><script type=\"math/tex\" id=\"MathJax-Element-36\">gamma</script> controls the kernel coefficient: Do not worry about this now as it is beyond the scope of this course. </p>\n",
    "<p>The following modules have been pre-loaded: <code>Pipeline</code>, <code>svm</code>, <code>train_test_split</code>, <code>GridSearchCV</code>, <code>classification_report</code>, <code>accuracy_score</code>. The feature and target variable arrays <code>X</code> and <code>y</code> have also been pre-loaded.</p></div>"
   ]
  },
  {
   "cell_type": "code",
   "execution_count": 72,
   "metadata": {},
   "outputs": [
    {
     "name": "stdout",
     "output_type": "stream",
     "text": [
      "Accuracy: 0.60625\n",
      "             precision    recall  f1-score   support\n",
      "\n",
      "          3       0.00      0.00      0.00         1\n",
      "          4       0.00      0.00      0.00        16\n",
      "          5       0.62      0.79      0.69       127\n",
      "          6       0.57      0.63      0.60       131\n",
      "          7       0.75      0.29      0.41        42\n",
      "          8       0.00      0.00      0.00         3\n",
      "\n",
      "avg / total       0.58      0.61      0.57       320\n",
      "\n",
      "Tuned Model Parameters: {'SVM__C': 1, 'SVM__gamma': 0.1}\n"
     ]
    }
   ],
   "source": [
    "# Setup the pipeline\n",
    "steps = [('scaler', StandardScaler()),\n",
    "         ('SVM', SVC())]\n",
    "\n",
    "pipeline = Pipeline(steps)\n",
    "\n",
    "# Specify the hyperparameter space\n",
    "parameters = {'SVM__C':[1, 10, 100],\n",
    "              'SVM__gamma':[0.1, 0.01]}\n",
    "\n",
    "# Create train and test sets\n",
    "X_train, X_test, y_train, y_test = train_test_split(X, y, test_size=0.2, random_state=21)\n",
    "\n",
    "# Instantiate the GridSearchCV object: cv\n",
    "cv = GridSearchCV(pipeline,param_grid=parameters)\n",
    "\n",
    "# Fit to the training set\n",
    "cv.fit(X_train, y_train)\n",
    "\n",
    "# Predict the labels of the test set: y_pred\n",
    "y_pred = cv.predict(X_test)\n",
    "\n",
    "# Compute and print metrics\n",
    "print(\"Accuracy: {}\".format(cv.score(X_test, y_test)))\n",
    "print(classification_report(y_test, y_pred))\n",
    "print(\"Tuned Model Parameters: {}\".format(cv.best_params_))"
   ]
  },
  {
   "cell_type": "markdown",
   "metadata": {},
   "source": [
    "<div class=\"exercise--assignment exercise--typography\"><h1 class=\"exercise--title\">Bringing it all together II: Pipeline for regression</h1><p>For this final exercise, you will return to the Gapminder dataset. Guess what? Even this dataset has missing values that we dealt with for you in earlier chapters! Now, you have all the tools to take care of them yourself! </p>\n",
    "<p>Your job is to build a pipeline that imputes the missing data, scales the features, and fits an ElasticNet to the Gapminder data. You will then tune the <code>l1_ratio</code> of your ElasticNet using GridSearchCV.</p>\n",
    "<p>All the necessary modules have been imported, and the feature and target variable arrays have been pre-loaded as <code>X</code> and <code>y</code>.</p></div>"
   ]
  },
  {
   "cell_type": "code",
   "execution_count": 73,
   "metadata": {},
   "outputs": [
    {
     "name": "stdout",
     "output_type": "stream",
     "text": [
      "Tuned ElasticNet Alpha: {'elasticnet__l1_ratio': 0.0}\n",
      "Tuned ElasticNet R squared: 0.2915333748100891\n"
     ]
    }
   ],
   "source": [
    "# Setup the pipeline steps: steps\n",
    "steps = [('imputation', Imputer(missing_values='NaN', strategy='mean', axis=0)),\n",
    "         ('scaler', StandardScaler()),\n",
    "         ('elasticnet', ElasticNet())]\n",
    "         \n",
    "# Create the pipeline: pipeline\n",
    "pipeline = Pipeline(steps)\n",
    "\n",
    "# Specify the hyperparameter space\n",
    "parameters = {'elasticnet__l1_ratio':np.linspace(0,1,30)}\n",
    "\n",
    "# Create train and test sets\n",
    "X_train, X_test, y_train, y_test = train_test_split(X, y, test_size=0.4, random_state=42)\n",
    "\n",
    "# Create the GridSearchCV object: gm_cv\n",
    "gm_cv = GridSearchCV(pipeline, parameters)\n",
    "\n",
    "# Fit to the training set\n",
    "gm_cv.fit(X_train, y_train)\n",
    "\n",
    "# Compute and print the metrics\n",
    "r2 = gm_cv.score(X_test, y_test)\n",
    "print(\"Tuned ElasticNet Alpha: {}\".format(gm_cv.best_params_))\n",
    "print(\"Tuned ElasticNet R squared: {}\".format(r2))"
   ]
  }
 ],
 "metadata": {
  "kernelspec": {
   "display_name": "Python 3",
   "language": "python",
   "name": "python3"
  },
  "language_info": {
   "codemirror_mode": {
    "name": "ipython",
    "version": 3
   },
   "file_extension": ".py",
   "mimetype": "text/x-python",
   "name": "python",
   "nbconvert_exporter": "python",
   "pygments_lexer": "ipython3",
   "version": "3.6.5"
  }
 },
 "nbformat": 4,
 "nbformat_minor": 2
}
