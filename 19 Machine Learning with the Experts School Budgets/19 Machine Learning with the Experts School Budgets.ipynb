{
 "cells": [
  {
   "cell_type": "markdown",
   "metadata": {},
   "source": [
    "# <font color=blue>Machine Learning with the Experts School Budgets</font> \n",
    "Data science isn't just for predicting ad-clicks-it's also useful for social impact! This course is a case study from a machine learning competition on DrivenData. You'll explore a problem related to school district budgeting. By building a model to automatically classify items in a school's budget, it makes it easier and faster for schools to compare their spending with other schools. In this course, you'll begin by building a baseline model that is a simple, first-pass approach. In particular, you'll do some natural language processing to prepare the budgets for modeling. Next, you'll have the opportunity to try your own techniques and see how they compare to participants from the competition. Finally, you'll see how the winner was able to combine a number of expert techniques to build the most accurate model."
   ]
  },
  {
   "cell_type": "markdown",
   "metadata": {},
   "source": [
    "## <font color=red>01 - Exploring the raw data </font> \n",
    " In this chapter, you'll be introduced to the problem you'll be solving in this course. How do you accurately classify line-items in a school budget based on what that money is being used for? You will explore the raw text and numeric values in the dataset, both quantitatively and visually. And you'll learn how to measure success when trying to predict class labels for each row of the dataset. "
   ]
  },
  {
   "cell_type": "code",
   "execution_count": 1,
   "metadata": {},
   "outputs": [],
   "source": [
    "import warnings\n",
    "warnings.filterwarnings('ignore')"
   ]
  },
  {
   "cell_type": "markdown",
   "metadata": {},
   "source": [
    "<div class=\"dc-u-p-24\"><h1 class=\"dc-h3\">What category of problem is this?</h1><div class=\"\"><p><p>You're no novice to data science, but let's make sure we agree on the basics.</p>\n",
    "<p>As Peter from <a href=\"https://www.drivendata.org/\" target=\"_blank\" rel=\"noopener noreferrer\">DrivenData</a> explained in the video, you're going to be working with school district budget data. This data can be classified in many ways according to certain labels, e.g. <code>Function: Career &amp; Academic Counseling</code>, or <code>Position_Type: Librarian</code>.</p>\n",
    "<p>Your goal is to develop a model that predicts the probability for each possible label by relying on some correctly labeled examples.</p>\n",
    "<p>What type of machine learning problem is this?</p></div></div>"
   ]
  },
  {
   "cell_type": "markdown",
   "metadata": {},
   "source": [
    "#### Supervised Learning, because the model will be trained using labeled examples."
   ]
  },
  {
   "cell_type": "markdown",
   "metadata": {},
   "source": [
    "<div class=\"dc-u-p-24\"><h1 class=\"dc-h3\">What is the goal of the algorithm?</h1><div class=\"\"><p><p>As you know from previous courses, there are different types of supervised machine learning problems. In this exercise you will tell us what type of supervised machine learning problem this is, and why you think so.</p>\n",
    "<p>Remember, your goal is to correctly label budget line items by training a supervised model to predict the probability of each possible label, taking most probable label as the correct label.</p></div></div>"
   ]
  },
  {
   "cell_type": "markdown",
   "metadata": {},
   "source": [
    "#### Classification, because predicted probabilities will be used to select a label class."
   ]
  },
  {
   "cell_type": "markdown",
   "metadata": {},
   "source": [
    "<div class=\"exercise--assignment exercise--typography\"><h1 class=\"exercise--title\">Loading the data</h1><div class=\"\"><p><p>Now it's time to check out the dataset! You'll use pandas (which has been pre-imported as <code>pd</code>) to load your data into a DataFrame and then do some Exploratory Data Analysis (EDA) of it.</p>\n",
    "<p>The training data is available as <code>TrainingData.csv</code>. Your first task is to load it into a DataFrame in the IPython Shell using <code>pd.read_csv()</code> along with the keyword argument <code>index_col=0</code>.</p>\n",
    "<p>Use methods such as <code>.info()</code>, <code>.head()</code>, and <code>.tail()</code> to explore the budget data and the properties of the features and labels.</p>\n",
    "<p>Some of the column names correspond to <strong>features</strong> - descriptions of the budget items - such as the <code>Job_Title_Description</code> column. The values in this column tell us if a budget item is for a teacher, custodian, or other employee.</p>\n",
    "<p>Some columns correspond to the budget item <strong>labels</strong> you will be trying to predict with your model. For example, the <code>Object_Type</code> column describes whether the budget item is related classroom supplies, salary, travel expenses, etc. </p>\n",
    "<p>Use <code>df.info()</code> in the IPython Shell to answer the following questions:</p>\n",
    "<ul>\n",
    "<li>How many rows are there in the training data?</li>\n",
    "<li>How many columns are there in the training data?</li>\n",
    "<li>How many non-null entries are in the <code>Job_Title_Description</code> column?</li>\n",
    "</ul></div></div>"
   ]
  },
  {
   "cell_type": "markdown",
   "metadata": {},
   "source": [
    "#### 1560 rows, 26 columns, 1131 non-null entries in Job_Title_Description."
   ]
  },
  {
   "cell_type": "markdown",
   "metadata": {},
   "source": [
    "<div class=\"exercise--assignment exercise--typography\"><h1 class=\"exercise--title\">Summarizing the data</h1><div class=\"\"><p><p>You'll continue your EDA in this exercise by computing summary statistics for the numeric data in the dataset. The data has been pre-loaded into a DataFrame called <code>df</code>.</p>\n",
    "<p>You can use <code>df.info()</code> in the IPython Shell to determine which columns of the data are numeric, specifically type <code>float64</code>. You'll notice that there are two numeric columns, called <code>FTE</code> and <code>Total</code>.</p>\n",
    "<ul>\n",
    "<li><code>FTE</code>: Stands for \"full-time equivalent\". If the budget item is associated to an employee, this number tells us the percentage of full-time that the employee works. A value of 1 means the associated employee works for the school full-time. A value close to 0 means the item is associated to a part-time or contracted employee.</li>\n",
    "<li><code>Total</code>: Stands for the total cost of the expenditure. This number tells us how much the budget item cost.</li>\n",
    "</ul>\n",
    "<p>After printing summary statistics for the numeric data, your job is to plot a histogram of the non-null <code>FTE</code> column to see the distribution of part-time and full-time employees in the dataset.</p></div></div>"
   ]
  },
  {
   "cell_type": "code",
   "execution_count": 2,
   "metadata": {},
   "outputs": [],
   "source": [
    "import pandas as pd\n",
    "import matplotlib.pyplot as plt\n",
    "import csv\n",
    "\n",
    "%matplotlib inline"
   ]
  },
  {
   "cell_type": "code",
   "execution_count": 3,
   "metadata": {},
   "outputs": [],
   "source": [
    "df = pd.read_csv(\"./data/a.csv\", sep=\";\", index_col=0)"
   ]
  },
  {
   "cell_type": "code",
   "execution_count": 4,
   "metadata": {},
   "outputs": [
    {
     "data": {
      "text/html": [
       "<div>\n",
       "<style scoped>\n",
       "    .dataframe tbody tr th:only-of-type {\n",
       "        vertical-align: middle;\n",
       "    }\n",
       "\n",
       "    .dataframe tbody tr th {\n",
       "        vertical-align: top;\n",
       "    }\n",
       "\n",
       "    .dataframe thead th {\n",
       "        text-align: right;\n",
       "    }\n",
       "</style>\n",
       "<table border=\"1\" class=\"dataframe\">\n",
       "  <thead>\n",
       "    <tr style=\"text-align: right;\">\n",
       "      <th></th>\n",
       "      <th>Function</th>\n",
       "      <th>Use</th>\n",
       "      <th>Sharing</th>\n",
       "      <th>Reporting</th>\n",
       "      <th>Student_Type</th>\n",
       "      <th>Position_Type</th>\n",
       "      <th>Object_Type</th>\n",
       "      <th>Pre_K</th>\n",
       "      <th>Operating_Status</th>\n",
       "      <th>Object_Description</th>\n",
       "      <th>...</th>\n",
       "      <th>Sub_Object_Description</th>\n",
       "      <th>Location_Description</th>\n",
       "      <th>FTE</th>\n",
       "      <th>Function_Description</th>\n",
       "      <th>Facility_or_Department</th>\n",
       "      <th>Position_Extra</th>\n",
       "      <th>Total</th>\n",
       "      <th>Program_Description</th>\n",
       "      <th>Fund_Description</th>\n",
       "      <th>Text_1</th>\n",
       "    </tr>\n",
       "    <tr>\n",
       "      <th>no</th>\n",
       "      <th></th>\n",
       "      <th></th>\n",
       "      <th></th>\n",
       "      <th></th>\n",
       "      <th></th>\n",
       "      <th></th>\n",
       "      <th></th>\n",
       "      <th></th>\n",
       "      <th></th>\n",
       "      <th></th>\n",
       "      <th></th>\n",
       "      <th></th>\n",
       "      <th></th>\n",
       "      <th></th>\n",
       "      <th></th>\n",
       "      <th></th>\n",
       "      <th></th>\n",
       "      <th></th>\n",
       "      <th></th>\n",
       "      <th></th>\n",
       "      <th></th>\n",
       "    </tr>\n",
       "  </thead>\n",
       "  <tbody>\n",
       "    <tr>\n",
       "      <th>198</th>\n",
       "      <td>NO_LABEL</td>\n",
       "      <td>NO_LABEL</td>\n",
       "      <td>NO_LABEL</td>\n",
       "      <td>NO_LABEL</td>\n",
       "      <td>NO_LABEL</td>\n",
       "      <td>NO_LABEL</td>\n",
       "      <td>NO_LABEL</td>\n",
       "      <td>NO_LABEL</td>\n",
       "      <td>Non-Operating</td>\n",
       "      <td>Supplemental *</td>\n",
       "      <td>...</td>\n",
       "      <td>Non-Certificated Salaries And Wages</td>\n",
       "      <td>NaN</td>\n",
       "      <td>NaN</td>\n",
       "      <td>Care and Upkeep of Building Services</td>\n",
       "      <td>NaN</td>\n",
       "      <td>NaN</td>\n",
       "      <td>-8.290000e+09</td>\n",
       "      <td>NaN</td>\n",
       "      <td>Title I - Disadvantaged Children/Targeted Assi...</td>\n",
       "      <td>TITLE I CARRYOVER</td>\n",
       "    </tr>\n",
       "    <tr>\n",
       "      <th>209</th>\n",
       "      <td>Student Transportation</td>\n",
       "      <td>NO_LABEL</td>\n",
       "      <td>Shared Services</td>\n",
       "      <td>Non-School</td>\n",
       "      <td>NO_LABEL</td>\n",
       "      <td>NO_LABEL</td>\n",
       "      <td>Other Non-Compensation</td>\n",
       "      <td>NO_LABEL</td>\n",
       "      <td>PreK-12 Operating</td>\n",
       "      <td>REPAIR AND MAINTENANCE SERVICES</td>\n",
       "      <td>...</td>\n",
       "      <td>NaN</td>\n",
       "      <td>ADMIN. SERVICES</td>\n",
       "      <td>NaN</td>\n",
       "      <td>STUDENT TRANSPORT SERVICE</td>\n",
       "      <td>NaN</td>\n",
       "      <td>NaN</td>\n",
       "      <td>6.180000e+08</td>\n",
       "      <td>PUPIL TRANSPORTATION</td>\n",
       "      <td>General Fund</td>\n",
       "      <td>NaN</td>\n",
       "    </tr>\n",
       "    <tr>\n",
       "      <th>750</th>\n",
       "      <td>Teacher Compensation</td>\n",
       "      <td>Instruction</td>\n",
       "      <td>School Reported</td>\n",
       "      <td>School</td>\n",
       "      <td>Unspecified</td>\n",
       "      <td>Teacher</td>\n",
       "      <td>Base Salary/Compensation</td>\n",
       "      <td>Non PreK</td>\n",
       "      <td>PreK-12 Operating</td>\n",
       "      <td>Personal Services - Teachers</td>\n",
       "      <td>...</td>\n",
       "      <td>NaN</td>\n",
       "      <td>NaN</td>\n",
       "      <td>1.0</td>\n",
       "      <td>NaN</td>\n",
       "      <td>NaN</td>\n",
       "      <td>TEACHER</td>\n",
       "      <td>4.980000e+10</td>\n",
       "      <td>Instruction - Regular</td>\n",
       "      <td>General Purpose School</td>\n",
       "      <td>NaN</td>\n",
       "    </tr>\n",
       "    <tr>\n",
       "      <th>931</th>\n",
       "      <td>NO_LABEL</td>\n",
       "      <td>NO_LABEL</td>\n",
       "      <td>NO_LABEL</td>\n",
       "      <td>NO_LABEL</td>\n",
       "      <td>NO_LABEL</td>\n",
       "      <td>NO_LABEL</td>\n",
       "      <td>NO_LABEL</td>\n",
       "      <td>NO_LABEL</td>\n",
       "      <td>Non-Operating</td>\n",
       "      <td>General Supplies</td>\n",
       "      <td>...</td>\n",
       "      <td>General Supplies</td>\n",
       "      <td>NaN</td>\n",
       "      <td>NaN</td>\n",
       "      <td>Instruction</td>\n",
       "      <td>Instruction And Curriculum</td>\n",
       "      <td>NaN</td>\n",
       "      <td>-1.020000e+06</td>\n",
       "      <td>\"Title I, Part A Schoolwide Activities Related...</td>\n",
       "      <td>General Operating Fund</td>\n",
       "      <td>NaN</td>\n",
       "    </tr>\n",
       "    <tr>\n",
       "      <th>1524</th>\n",
       "      <td>NO_LABEL</td>\n",
       "      <td>NO_LABEL</td>\n",
       "      <td>NO_LABEL</td>\n",
       "      <td>NO_LABEL</td>\n",
       "      <td>NO_LABEL</td>\n",
       "      <td>NO_LABEL</td>\n",
       "      <td>NO_LABEL</td>\n",
       "      <td>NO_LABEL</td>\n",
       "      <td>Non-Operating</td>\n",
       "      <td>Supplies and Materials</td>\n",
       "      <td>...</td>\n",
       "      <td>Supplies And Materials</td>\n",
       "      <td>NaN</td>\n",
       "      <td>NaN</td>\n",
       "      <td>Other Community Services *</td>\n",
       "      <td>NaN</td>\n",
       "      <td>NaN</td>\n",
       "      <td>2.300000e+09</td>\n",
       "      <td>NaN</td>\n",
       "      <td>Title I - Disadvantaged Children/Targeted Assi...</td>\n",
       "      <td>TITLE I PI+HOMELESS</td>\n",
       "    </tr>\n",
       "  </tbody>\n",
       "</table>\n",
       "<p>5 rows × 25 columns</p>\n",
       "</div>"
      ],
      "text/plain": [
       "                    Function          Use          Sharing   Reporting  \\\n",
       "no                                                                       \n",
       "198                 NO_LABEL     NO_LABEL         NO_LABEL    NO_LABEL   \n",
       "209   Student Transportation     NO_LABEL  Shared Services  Non-School   \n",
       "750     Teacher Compensation  Instruction  School Reported      School   \n",
       "931                 NO_LABEL     NO_LABEL         NO_LABEL    NO_LABEL   \n",
       "1524                NO_LABEL     NO_LABEL         NO_LABEL    NO_LABEL   \n",
       "\n",
       "     Student_Type Position_Type               Object_Type     Pre_K  \\\n",
       "no                                                                    \n",
       "198      NO_LABEL      NO_LABEL                  NO_LABEL  NO_LABEL   \n",
       "209      NO_LABEL      NO_LABEL    Other Non-Compensation  NO_LABEL   \n",
       "750   Unspecified       Teacher  Base Salary/Compensation  Non PreK   \n",
       "931      NO_LABEL      NO_LABEL                  NO_LABEL  NO_LABEL   \n",
       "1524     NO_LABEL      NO_LABEL                  NO_LABEL  NO_LABEL   \n",
       "\n",
       "       Operating_Status               Object_Description         ...           \\\n",
       "no                                                               ...            \n",
       "198       Non-Operating                   Supplemental *         ...            \n",
       "209   PreK-12 Operating  REPAIR AND MAINTENANCE SERVICES         ...            \n",
       "750   PreK-12 Operating     Personal Services - Teachers         ...            \n",
       "931       Non-Operating                 General Supplies         ...            \n",
       "1524      Non-Operating           Supplies and Materials         ...            \n",
       "\n",
       "                   Sub_Object_Description Location_Description  FTE  \\\n",
       "no                                                                    \n",
       "198   Non-Certificated Salaries And Wages                  NaN  NaN   \n",
       "209                                   NaN      ADMIN. SERVICES  NaN   \n",
       "750                                   NaN                  NaN  1.0   \n",
       "931                      General Supplies                  NaN  NaN   \n",
       "1524               Supplies And Materials                  NaN  NaN   \n",
       "\n",
       "                      Function_Description      Facility_or_Department  \\\n",
       "no                                                                       \n",
       "198   Care and Upkeep of Building Services                         NaN   \n",
       "209              STUDENT TRANSPORT SERVICE                         NaN   \n",
       "750                                    NaN                         NaN   \n",
       "931                            Instruction  Instruction And Curriculum   \n",
       "1524            Other Community Services *                         NaN   \n",
       "\n",
       "     Position_Extra         Total  \\\n",
       "no                                  \n",
       "198             NaN -8.290000e+09   \n",
       "209             NaN  6.180000e+08   \n",
       "750         TEACHER  4.980000e+10   \n",
       "931             NaN -1.020000e+06   \n",
       "1524            NaN  2.300000e+09   \n",
       "\n",
       "                                    Program_Description  \\\n",
       "no                                                        \n",
       "198                                                 NaN   \n",
       "209                                PUPIL TRANSPORTATION   \n",
       "750                               Instruction - Regular   \n",
       "931   \"Title I, Part A Schoolwide Activities Related...   \n",
       "1524                                                NaN   \n",
       "\n",
       "                                       Fund_Description               Text_1  \n",
       "no                                                                            \n",
       "198   Title I - Disadvantaged Children/Targeted Assi...    TITLE I CARRYOVER  \n",
       "209                                        General Fund                  NaN  \n",
       "750                              General Purpose School                  NaN  \n",
       "931                              General Operating Fund                  NaN  \n",
       "1524  Title I - Disadvantaged Children/Targeted Assi...  TITLE I PI+HOMELESS  \n",
       "\n",
       "[5 rows x 25 columns]"
      ]
     },
     "execution_count": 4,
     "metadata": {},
     "output_type": "execute_result"
    }
   ],
   "source": [
    "df.head()"
   ]
  },
  {
   "cell_type": "code",
   "execution_count": 5,
   "metadata": {},
   "outputs": [
    {
     "data": {
      "text/plain": [
       "count    449.000000\n",
       "mean       0.493365\n",
       "std        0.452651\n",
       "min       -0.002369\n",
       "25%        0.004310\n",
       "50%        0.440000\n",
       "75%        1.000000\n",
       "max        1.000000\n",
       "Name: FTE, dtype: float64"
      ]
     },
     "execution_count": 5,
     "metadata": {},
     "output_type": "execute_result"
    }
   ],
   "source": [
    "df.FTE.describe()"
   ]
  },
  {
   "cell_type": "code",
   "execution_count": 6,
   "metadata": {},
   "outputs": [
    {
     "data": {
      "text/html": [
       "<div>\n",
       "<style scoped>\n",
       "    .dataframe tbody tr th:only-of-type {\n",
       "        vertical-align: middle;\n",
       "    }\n",
       "\n",
       "    .dataframe tbody tr th {\n",
       "        vertical-align: top;\n",
       "    }\n",
       "\n",
       "    .dataframe thead th {\n",
       "        text-align: right;\n",
       "    }\n",
       "</style>\n",
       "<table border=\"1\" class=\"dataframe\">\n",
       "  <thead>\n",
       "    <tr style=\"text-align: right;\">\n",
       "      <th></th>\n",
       "      <th>FTE</th>\n",
       "      <th>Total</th>\n",
       "    </tr>\n",
       "  </thead>\n",
       "  <tbody>\n",
       "    <tr>\n",
       "      <th>count</th>\n",
       "      <td>449.000000</td>\n",
       "      <td>1.542000e+03</td>\n",
       "    </tr>\n",
       "    <tr>\n",
       "      <th>mean</th>\n",
       "      <td>0.493365</td>\n",
       "      <td>1.447254e+10</td>\n",
       "    </tr>\n",
       "    <tr>\n",
       "      <th>std</th>\n",
       "      <td>0.452651</td>\n",
       "      <td>7.915691e+10</td>\n",
       "    </tr>\n",
       "    <tr>\n",
       "      <th>min</th>\n",
       "      <td>-0.002369</td>\n",
       "      <td>-1.040000e+12</td>\n",
       "    </tr>\n",
       "    <tr>\n",
       "      <th>25%</th>\n",
       "      <td>0.004310</td>\n",
       "      <td>1.110000e+08</td>\n",
       "    </tr>\n",
       "    <tr>\n",
       "      <th>50%</th>\n",
       "      <td>0.440000</td>\n",
       "      <td>7.060000e+08</td>\n",
       "    </tr>\n",
       "    <tr>\n",
       "      <th>75%</th>\n",
       "      <td>1.000000</td>\n",
       "      <td>5.345000e+09</td>\n",
       "    </tr>\n",
       "    <tr>\n",
       "      <th>max</th>\n",
       "      <td>1.000000</td>\n",
       "      <td>1.370000e+12</td>\n",
       "    </tr>\n",
       "  </tbody>\n",
       "</table>\n",
       "</div>"
      ],
      "text/plain": [
       "              FTE         Total\n",
       "count  449.000000  1.542000e+03\n",
       "mean     0.493365  1.447254e+10\n",
       "std      0.452651  7.915691e+10\n",
       "min     -0.002369 -1.040000e+12\n",
       "25%      0.004310  1.110000e+08\n",
       "50%      0.440000  7.060000e+08\n",
       "75%      1.000000  5.345000e+09\n",
       "max      1.000000  1.370000e+12"
      ]
     },
     "execution_count": 6,
     "metadata": {},
     "output_type": "execute_result"
    }
   ],
   "source": [
    "df.describe()"
   ]
  },
  {
   "cell_type": "code",
   "execution_count": 7,
   "metadata": {},
   "outputs": [],
   "source": [
    "# Import matplotlib.pyplot as plt\n",
    "import matplotlib.pyplot as plt"
   ]
  },
  {
   "cell_type": "code",
   "execution_count": 8,
   "metadata": {},
   "outputs": [
    {
     "data": {
      "image/png": "[encoded data removed]",
      "text/plain": [
       "<Figure size 432x288 with 1 Axes>"
      ]
     },
     "metadata": {},
     "output_type": "display_data"
    }
   ],
   "source": [
    "# Create the histogram\n",
    "plt.hist(df['FTE'].dropna())\n",
    "\n",
    "# Add title and labels\n",
    "plt.title('Distribution of %full-time \\n employee works')\n",
    "plt.xlabel('% of full-time')\n",
    "plt.ylabel('num employees')\n",
    "\n",
    "# Display the histogram\n",
    "plt.show()"
   ]
  },
  {
   "cell_type": "markdown",
   "metadata": {},
   "source": [
    "<div class=\"listview__content\"><div class=\"exercise--assignment exercise--typography\"><h1 class=\"exercise--title\">Exploring datatypes in pandas</h1><div class=\"\"><p><p>It's always good to know what datatypes you're working with, especially when the inefficient pandas type <code>object</code> may be involved. Towards that end, let's explore what we have.</p>\n",
    "<p>The data has been loaded into the workspace as <code>df</code>. Your job is to look at the DataFrame attribute <code>.dtypes</code> in the IPython Shell, and call its <code>.value_counts()</code> method in order to answer the question below.</p>\n",
    "<p>Make sure to call <code>df.dtypes.value_counts()</code>, and not <code>df.value_counts()</code>! Check out the difference in the Shell. <code>df.value_counts()</code> will return an error, because it is a <em>Series</em> method, not a <em>DataFrame</em> method. </p>\n",
    "<p>How many columns with dtype <code>object</code> are in the data?</p></div></div></div>"
   ]
  },
  {
   "cell_type": "markdown",
   "metadata": {},
   "source": [
    "<div class=\"listview__content\"><div class=\"exercise--assignment exercise--typography\"><h1 class=\"exercise--title\">Encode the labels as categorical variables</h1><div class=\"\"><p><p>Remember, your ultimate goal is to predict the probability that a certain label is attached to a budget line item. You just saw that many columns in your data are the inefficient <code>object</code> type. Does this include the labels you're trying to predict? Let's find out!</p>\n",
    "<p>There are 9 columns of labels in the dataset. Each of these columns is a category that has <a href=\"https://www.drivendata.org/competitions/4/box-plots-for-education/page/15/#labels_list\" target=\"_blank\" rel=\"noopener noreferrer\">many possible values it can take</a>. The 9 labels have been loaded into a list called <code>LABELS</code>. In the Shell, check out the type for these labels using <code>df[LABELS].dtypes</code>.</p>\n",
    "<p>You will notice that every label is encoded as an object datatype. Because <code>category</code> datatypes are <a href=\"https://www.continuum.io/content/pandas-categoricals\" target=\"_blank\" rel=\"noopener noreferrer\">much more efficient</a> your task is to convert the labels to category types using the <code>.astype()</code> method.</p>\n",
    "<p>Note: <code>.astype()</code> only works on a pandas Series. Since you are working with a pandas DataFrame, you'll need to use the <code>.apply()</code> method and provide a <code>lambda</code> function called <code>categorize_label</code> that applies <code>.astype()</code> to each column, <code>x</code>.</p></div></div></div>"
   ]
  },
  {
   "cell_type": "code",
   "execution_count": 9,
   "metadata": {},
   "outputs": [],
   "source": [
    "LABELS = ['Function',\n",
    " 'Use',\n",
    " 'Sharing',\n",
    " 'Reporting',\n",
    " 'Student_Type',\n",
    " 'Position_Type',\n",
    " 'Object_Type',\n",
    " 'Pre_K',\n",
    " 'Operating_Status']"
   ]
  },
  {
   "cell_type": "code",
   "execution_count": 10,
   "metadata": {},
   "outputs": [
    {
     "name": "stdout",
     "output_type": "stream",
     "text": [
      "Function            category\n",
      "Use                 category\n",
      "Sharing             category\n",
      "Reporting           category\n",
      "Student_Type        category\n",
      "Position_Type       category\n",
      "Object_Type         category\n",
      "Pre_K               category\n",
      "Operating_Status    category\n",
      "dtype: object\n"
     ]
    }
   ],
   "source": [
    "# Define the lambda function: categorize_label\n",
    "categorize_label = lambda x: x.astype('category')\n",
    "\n",
    "# Convert df[LABELS] to a categorical type\n",
    "df[LABELS] = df[LABELS].apply(categorize_label)\n",
    "\n",
    "# Print the converted dtypes\n",
    "print(df[LABELS].dtypes)"
   ]
  },
  {
   "cell_type": "markdown",
   "metadata": {},
   "source": [
    "<div class=\"listview__content\"><div class=\"exercise--assignment exercise--typography\"><h1 class=\"exercise--title\">Counting unique labels</h1><div class=\"\"><p><p>As Peter mentioned in the video, there are over 100 unique labels. In this exercise, you will explore this fact by counting and plotting the number of unique values for each category of label.</p>\n",
    "<p>The dataframe <code>df</code> and the <code>LABELS</code> list have been loaded into the workspace; the <code>LABELS</code> columns of <code>df</code> have been converted to category types.</p>\n",
    "<p>pandas, which has been pre-imported as <code>pd</code>, provides a <code>pd.Series.nunique</code> method for counting the number of unique values in a Series.</p></div></div></div>"
   ]
  },
  {
   "cell_type": "code",
   "execution_count": 11,
   "metadata": {},
   "outputs": [
    {
     "data": {
      "image/png": "[encoded data removed]",
      "text/plain": [
       "<Figure size 432x288 with 1 Axes>"
      ]
     },
     "metadata": {},
     "output_type": "display_data"
    }
   ],
   "source": [
    "# Import matplotlib.pyplot\n",
    "import matplotlib.pyplot as plt\n",
    "\n",
    "# Calculate number of unique values for each label: num_unique_labels\n",
    "num_unique_labels = df[LABELS].apply(pd.Series.nunique)\n",
    "\n",
    "# Plot number of unique values for each label\n",
    "num_unique_labels.plot(kind='bar')\n",
    "\n",
    "# Label the axes\n",
    "plt.xlabel('Labels')\n",
    "plt.ylabel('Number of unique values')\n",
    "\n",
    "# Display the plot\n",
    "plt.show()"
   ]
  },
  {
   "attachments": {
    "resim.png": {
     "image/png": "[encoded data removed]"
    }
   },
   "cell_type": "markdown",
   "metadata": {},
   "source": [
    "![resim.png](attachment:resim.png)"
   ]
  },
  {
   "attachments": {
    "resim.png": {
     "image/png": "[encoded data removed]"
    }
   },
   "cell_type": "markdown",
   "metadata": {},
   "source": [
    "![resim.png](attachment:resim.png)"
   ]
  },
  {
   "cell_type": "markdown",
   "metadata": {},
   "source": [
    "<div class=\"dc-u-p-24\"><h1 class=\"dc-h3\">Penalizing highly confident wrong answers</h1><div class=\"\"><p><p>As Peter explained in the video, log loss provides a steep penalty for predictions that are both wrong and confident, i.e., a high probability is assigned to the incorrect class.</p>\n",
    "<p>Suppose you have the following 3 examples:</p>\n",
    "<p><span class=\"MathJax_Preview\" style=\"color: inherit; display: none;\"></span><div class=\"MathJax_Display\" style=\"text-align: center;\"><span class=\"MathJax\" id=\"MathJax-Element-1-Frame\" tabindex=\"0\" style=\"text-align: center; position: relative;\" data-mathml=\"<math xmlns=&quot;http://www.w3.org/1998/Math/MathML&quot; display=&quot;block&quot;><mi>A</mi><mo>:</mo><mi>y</mi><mo>=</mo><mn>1</mn><mo>,</mo><mi>p</mi><mo>=</mo><mn>0.85</mn></math>\" role=\"presentation\"><nobr aria-hidden=\"true\"><span class=\"math\" id=\"MathJax-Span-1\" style=\"width: 9.351em; display: inline-block;\"><span style=\"display: inline-block; position: relative; width: 7.959em; height: 0px; font-size: 117%;\"><span style=\"position: absolute; clip: rect(1.474em, 1007.91em, 2.716em, -1000em); top: -2.35em; left: 0em;\"><span class=\"mrow\" id=\"MathJax-Span-2\"><span class=\"mi\" id=\"MathJax-Span-3\" style=\"font-family: MathJax_Math; font-style: italic;\">A</span><span class=\"mo\" id=\"MathJax-Span-4\" style=\"font-family: MathJax_Main; padding-left: 0.278em;\">:</span><span class=\"mi\" id=\"MathJax-Span-5\" style=\"font-family: MathJax_Math; font-style: italic; padding-left: 0.278em;\">y<span style=\"display: inline-block; overflow: hidden; height: 1px; width: 0.006em;\"></span></span><span class=\"mo\" id=\"MathJax-Span-6\" style=\"font-family: MathJax_Main; padding-left: 0.278em;\">=</span><span class=\"mn\" id=\"MathJax-Span-7\" style=\"font-family: MathJax_Main; padding-left: 0.278em;\">1</span><span class=\"mo\" id=\"MathJax-Span-8\" style=\"font-family: MathJax_Main;\">,</span><span class=\"mi\" id=\"MathJax-Span-9\" style=\"font-family: MathJax_Math; font-style: italic; padding-left: 0.167em;\">p</span><span class=\"mo\" id=\"MathJax-Span-10\" style=\"font-family: MathJax_Main; padding-left: 0.278em;\">=</span><span class=\"mn\" id=\"MathJax-Span-11\" style=\"font-family: MathJax_Main; padding-left: 0.278em;\">0.85</span></span><span style=\"display: inline-block; width: 0px; height: 2.35em;\"></span></span></span><span style=\"display: inline-block; overflow: hidden; vertical-align: -0.302em; border-left: 0px solid; width: 0px; height: 1.203em;\"></span></span></nobr><span class=\"MJX_Assistive_MathML MJX_Assistive_MathML_Block\" role=\"presentation\"><math xmlns=\"http://www.w3.org/1998/Math/MathML\" display=\"block\"><mi>A</mi><mo>:</mo><mi>y</mi><mo>=</mo><mn>1</mn><mo>,</mo><mi>p</mi><mo>=</mo><mn>0.85</mn></math></span></span></div><script type=\"math/tex; mode=display\" id=\"MathJax-Element-1\">A: y=1, p=0.85 </script></p>\n",
    "<p><span class=\"MathJax_Preview\" style=\"color: inherit; display: none;\"></span><div class=\"MathJax_Display\" style=\"text-align: center;\"><span class=\"MathJax\" id=\"MathJax-Element-2-Frame\" tabindex=\"0\" style=\"text-align: center; position: relative;\" data-mathml=\"<math xmlns=&quot;http://www.w3.org/1998/Math/MathML&quot; display=&quot;block&quot;><mi>B</mi><mo>:</mo><mi>y</mi><mo>=</mo><mn>0</mn><mo>,</mo><mi>p</mi><mo>=</mo><mn>0.99</mn></math>\" role=\"presentation\"><nobr aria-hidden=\"true\"><span class=\"math\" id=\"MathJax-Span-12\" style=\"width: 9.351em; display: inline-block;\"><span style=\"display: inline-block; position: relative; width: 7.959em; height: 0px; font-size: 117%;\"><span style=\"position: absolute; clip: rect(1.507em, 1007.92em, 2.716em, -1000em); top: -2.35em; left: 0em;\"><span class=\"mrow\" id=\"MathJax-Span-13\"><span class=\"mi\" id=\"MathJax-Span-14\" style=\"font-family: MathJax_Math; font-style: italic;\">B</span><span class=\"mo\" id=\"MathJax-Span-15\" style=\"font-family: MathJax_Main; padding-left: 0.278em;\">:</span><span class=\"mi\" id=\"MathJax-Span-16\" style=\"font-family: MathJax_Math; font-style: italic; padding-left: 0.278em;\">y<span style=\"display: inline-block; overflow: hidden; height: 1px; width: 0.006em;\"></span></span><span class=\"mo\" id=\"MathJax-Span-17\" style=\"font-family: MathJax_Main; padding-left: 0.278em;\">=</span><span class=\"mn\" id=\"MathJax-Span-18\" style=\"font-family: MathJax_Main; padding-left: 0.278em;\">0</span><span class=\"mo\" id=\"MathJax-Span-19\" style=\"font-family: MathJax_Main;\">,</span><span class=\"mi\" id=\"MathJax-Span-20\" style=\"font-family: MathJax_Math; font-style: italic; padding-left: 0.167em;\">p</span><span class=\"mo\" id=\"MathJax-Span-21\" style=\"font-family: MathJax_Main; padding-left: 0.278em;\">=</span><span class=\"mn\" id=\"MathJax-Span-22\" style=\"font-family: MathJax_Main; padding-left: 0.278em;\">0.99</span></span><span style=\"display: inline-block; width: 0px; height: 2.35em;\"></span></span></span><span style=\"display: inline-block; overflow: hidden; vertical-align: -0.302em; border-left: 0px solid; width: 0px; height: 1.164em;\"></span></span></nobr><span class=\"MJX_Assistive_MathML MJX_Assistive_MathML_Block\" role=\"presentation\"><math xmlns=\"http://www.w3.org/1998/Math/MathML\" display=\"block\"><mi>B</mi><mo>:</mo><mi>y</mi><mo>=</mo><mn>0</mn><mo>,</mo><mi>p</mi><mo>=</mo><mn>0.99</mn></math></span></span></div><script type=\"math/tex; mode=display\" id=\"MathJax-Element-2\">B: y=0, p=0.99 </script></p>\n",
    "<p><span class=\"MathJax_Preview\" style=\"color: inherit; display: none;\"></span><div class=\"MathJax_Display\" style=\"text-align: center;\"><span class=\"MathJax\" id=\"MathJax-Element-3-Frame\" tabindex=\"0\" style=\"text-align: center; position: relative;\" data-mathml=\"<math xmlns=&quot;http://www.w3.org/1998/Math/MathML&quot; display=&quot;block&quot;><mi>C</mi><mo>:</mo><mi>y</mi><mo>=</mo><mn>0</mn><mo>,</mo><mi>p</mi><mo>=</mo><mn>0.51</mn></math>\" role=\"presentation\"><nobr aria-hidden=\"true\"><span class=\"math\" id=\"MathJax-Span-23\" style=\"width: 9.351em; display: inline-block;\"><span style=\"display: inline-block; position: relative; width: 7.959em; height: 0px; font-size: 117%;\"><span style=\"position: absolute; clip: rect(1.485em, 1007.89em, 2.716em, -1000em); top: -2.35em; left: 0em;\"><span class=\"mrow\" id=\"MathJax-Span-24\"><span class=\"mi\" id=\"MathJax-Span-25\" style=\"font-family: MathJax_Math; font-style: italic;\">C<span style=\"display: inline-block; overflow: hidden; height: 1px; width: 0.045em;\"></span></span><span class=\"mo\" id=\"MathJax-Span-26\" style=\"font-family: MathJax_Main; padding-left: 0.278em;\">:</span><span class=\"mi\" id=\"MathJax-Span-27\" style=\"font-family: MathJax_Math; font-style: italic; padding-left: 0.278em;\">y<span style=\"display: inline-block; overflow: hidden; height: 1px; width: 0.006em;\"></span></span><span class=\"mo\" id=\"MathJax-Span-28\" style=\"font-family: MathJax_Main; padding-left: 0.278em;\">=</span><span class=\"mn\" id=\"MathJax-Span-29\" style=\"font-family: MathJax_Main; padding-left: 0.278em;\">0</span><span class=\"mo\" id=\"MathJax-Span-30\" style=\"font-family: MathJax_Main;\">,</span><span class=\"mi\" id=\"MathJax-Span-31\" style=\"font-family: MathJax_Math; font-style: italic; padding-left: 0.167em;\">p</span><span class=\"mo\" id=\"MathJax-Span-32\" style=\"font-family: MathJax_Main; padding-left: 0.278em;\">=</span><span class=\"mn\" id=\"MathJax-Span-33\" style=\"font-family: MathJax_Main; padding-left: 0.278em;\">0.51</span></span><span style=\"display: inline-block; width: 0px; height: 2.35em;\"></span></span></span><span style=\"display: inline-block; overflow: hidden; vertical-align: -0.302em; border-left: 0px solid; width: 0px; height: 1.19em;\"></span></span></nobr><span class=\"MJX_Assistive_MathML MJX_Assistive_MathML_Block\" role=\"presentation\"><math xmlns=\"http://www.w3.org/1998/Math/MathML\" display=\"block\"><mi>C</mi><mo>:</mo><mi>y</mi><mo>=</mo><mn>0</mn><mo>,</mo><mi>p</mi><mo>=</mo><mn>0.51</mn></math></span></span></div><script type=\"math/tex; mode=display\" id=\"MathJax-Element-3\">C: y=0, p=0.51 </script></p>\n",
    "<p>Select the ordering of the examples which corresponds to the lowest to highest log loss scores. <code>y</code> is an indicator of whether the example was classified correctly. You shouldn't need to crunch any numbers!</p></div></div>"
   ]
  },
  {
   "cell_type": "markdown",
   "metadata": {},
   "source": [
    "#### Lowest: A, Middle: C, Highest: B."
   ]
  },
  {
   "cell_type": "markdown",
   "metadata": {},
   "source": [
    "<div class=\"exercise--assignment exercise--typography\"><h1 class=\"exercise--title\">Computing log loss with NumPy</h1><div class=\"\"><p><p>To see how the log loss metric handles the trade-off between accuracy and confidence, we will use some sample data generated with NumPy and compute the log loss using the provided function <code>compute_log_loss()</code>, which Peter showed you in the video.</p>\n",
    "<p>5 one-dimensional numeric arrays simulating different types of predictions have been pre-loaded: <code>actual_labels</code>, <code>correct_confident</code>, <code>correct_not_confident</code>, <code>wrong_not_confident</code>, and <code>wrong_confident</code>.</p>\n",
    "<p>Your job is to compute the log loss for each sample set provided using the <code>compute_log_loss(predicted_values, actual_values)</code>. It takes the predicted values as the first argument and the actual values as the second argument.</p></div></div>"
   ]
  },
  {
   "cell_type": "code",
   "execution_count": 12,
   "metadata": {},
   "outputs": [],
   "source": [
    "import numpy as np\n",
    "def compute_log_loss(predicted, actual, eps=1e-14):\n",
    "    \"\"\" Computes the logarithmic loss between predicted and\n",
    "    actual when these are 1D arrays.\n",
    "    :param predicted: The predicted probabilities as floats between 0-1\n",
    "    :param actual: The actual binary labels. Either 0 or 1.\n",
    "    :param eps (optional): log(0) is inf, so we need to offset our\n",
    "    predicted values slightly by eps from 0 or 1.\n",
    "    \"\"\"\n",
    "    predicted = np.clip(predicted, eps, 1 - eps)\n",
    "    loss = -1 * np.mean(actual * np.log(predicted)\n",
    "    + (1 - actual)\n",
    "    * np.log(1 - predicted))\n",
    "    return loss"
   ]
  },
  {
   "cell_type": "code",
   "execution_count": 13,
   "metadata": {},
   "outputs": [],
   "source": [
    "actual_labels = np.array([1., 1., 1., 1., 1., 0., 0., 0., 0., 0.])\n",
    "correct_confident = np.array([0.95, 0.95, 0.95, 0.95, 0.95, 0.05, 0.05, 0.05, 0.05, 0.05])\n",
    "correct_not_confident = np.array([0.65, 0.65, 0.65, 0.65, 0.65, 0.35, 0.35, 0.35, 0.35, 0.35])\n",
    "wrong_not_confident = np.array([0.35, 0.35, 0.35, 0.35, 0.35, 0.65, 0.65, 0.65, 0.65, 0.65])\n",
    "wrong_confident = np.array([0.05, 0.05, 0.05, 0.05, 0.05, 0.95, 0.95, 0.95, 0.95, 0.95]) "
   ]
  },
  {
   "cell_type": "code",
   "execution_count": 14,
   "metadata": {},
   "outputs": [
    {
     "name": "stdout",
     "output_type": "stream",
     "text": [
      "Log loss, correct and confident: 0.05129329438755058\n",
      "Log loss, correct and not confident: 0.4307829160924542\n",
      "Log loss, wrong and not confident: 1.049822124498678\n",
      "Log loss, wrong and confident: 2.9957322735539904\n",
      "Log loss, actual labels: 9.99200722162646e-15\n"
     ]
    }
   ],
   "source": [
    "# Compute and print log loss for 1st case\n",
    "correct_confident = compute_log_loss(correct_confident, actual_labels)\n",
    "print(\"Log loss, correct and confident: {}\".format(correct_confident)) \n",
    "\n",
    "# Compute log loss for 2nd case\n",
    "correct_not_confident = compute_log_loss(correct_not_confident, actual_labels)\n",
    "print(\"Log loss, correct and not confident: {}\".format(correct_not_confident)) \n",
    "\n",
    "# Compute and print log loss for 3rd case\n",
    "wrong_not_confident = compute_log_loss(wrong_not_confident, actual_labels)\n",
    "print(\"Log loss, wrong and not confident: {}\".format(wrong_not_confident)) \n",
    "\n",
    "# Compute and print log loss for 4th case\n",
    "wrong_confident = compute_log_loss(wrong_confident,actual_labels)\n",
    "print(\"Log loss, wrong and confident: {}\".format(wrong_confident)) \n",
    "\n",
    "# Compute and print log loss for actual labels\n",
    "actual_labels = compute_log_loss(actual_labels, actual_labels)\n",
    "print(\"Log loss, actual labels: {}\".format(actual_labels)) "
   ]
  },
  {
   "cell_type": "markdown",
   "metadata": {},
   "source": [
    " Log loss penalizes highly confident wrong answers much more than any other type. This will be a good metric to use on your models. You rock!"
   ]
  },
  {
   "cell_type": "markdown",
   "metadata": {},
   "source": [
    "## <font color=red>02 - Creating a simple first model</font> "
   ]
  },
  {
   "cell_type": "code",
   "execution_count": 15,
   "metadata": {},
   "outputs": [],
   "source": [
    "from multilabel import *"
   ]
  },
  {
   "cell_type": "markdown",
   "metadata": {},
   "source": [
    "<div class=\"exercise--assignment exercise--typography\"><h1 class=\"exercise--title\">Setting up a train-test split in scikit-learn</h1><div class=\"\"><p><p>Alright, you've been patient and awesome. It's finally time to start training models! </p>\n",
    "<p>The first step is to split the data into a training set and a test set. Some labels don't occur very often, but we want to make sure that they appear in both the training and the test sets. We provide a function that will make sure at least <code>min_count</code> examples of each label appear in each split: <code>multilabel_train_test_split</code>.</p>\n",
    "<p>Feel free to check out the full code for <code>multilabel_train_test_split</code> <a href=\"https://github.com/drivendataorg/box-plots-sklearn/blob/master/src/data/multilabel.py\" target=\"_blank\" rel=\"noopener noreferrer\">here</a>.</p>\n",
    "<p>You'll start with a simple model that uses <strong>just the numeric columns</strong> of your DataFrame when calling <code>multilabel_train_test_split</code>. The data has been read into a DataFrame <code>df</code> and a list consisting of just the numeric columns is available as <code>NUMERIC_COLUMNS</code>.</p></div></div>"
   ]
  },
  {
   "cell_type": "code",
   "execution_count": 16,
   "metadata": {},
   "outputs": [],
   "source": [
    "NUMERIC_COLUMNS = ['FTE', 'Total']"
   ]
  },
  {
   "cell_type": "code",
   "execution_count": 17,
   "metadata": {},
   "outputs": [
    {
     "name": "stdout",
     "output_type": "stream",
     "text": [
      "X_train info:\n",
      "<class 'pandas.core.frame.DataFrame'>\n",
      "Index: 1035 entries, 198 to 305347\n",
      "Data columns (total 2 columns):\n",
      "FTE      1035 non-null float64\n",
      "Total    1035 non-null float64\n",
      "dtypes: float64(2)\n",
      "memory usage: 24.3+ KB\n",
      "None\n",
      "\n",
      "X_test info:\n",
      "<class 'pandas.core.frame.DataFrame'>\n",
      "Index: 525 entries, 209 to 101861\n",
      "Data columns (total 2 columns):\n",
      "FTE      525 non-null float64\n",
      "Total    525 non-null float64\n",
      "dtypes: float64(2)\n",
      "memory usage: 12.3+ KB\n",
      "None\n",
      "\n",
      "y_train info:\n",
      "<class 'pandas.core.frame.DataFrame'>\n",
      "Index: 1035 entries, 198 to 305347\n",
      "Columns: 105 entries, Function_Aides Compensation to Operating_Status_perating, Not PreK-12\n",
      "dtypes: uint8(105)\n",
      "memory usage: 114.2+ KB\n",
      "None\n",
      "\n",
      "y_test info:\n",
      "<class 'pandas.core.frame.DataFrame'>\n",
      "Index: 525 entries, 209 to 101861\n",
      "Columns: 105 entries, Function_Aides Compensation to Operating_Status_perating, Not PreK-12\n",
      "dtypes: uint8(105)\n",
      "memory usage: 57.9+ KB\n",
      "None\n"
     ]
    }
   ],
   "source": [
    "# Create the new DataFrame: numeric_data_only\n",
    "numeric_data_only = df[NUMERIC_COLUMNS].fillna(-1000)\n",
    "\n",
    "# Get labels and convert to dummy variables: label_dummies\n",
    "label_dummies = pd.get_dummies(df[LABELS])\n",
    "\n",
    "# Create training and test sets\n",
    "X_train, X_test, y_train, y_test = multilabel_train_test_split(numeric_data_only,\n",
    "                                                               label_dummies,\n",
    "                                                               size=0.2, \n",
    "                                                               seed=123)\n",
    "\n",
    "# Print the info\n",
    "print(\"X_train info:\")\n",
    "print(X_train.info())\n",
    "print(\"\\nX_test info:\")  \n",
    "print(X_test.info())\n",
    "print(\"\\ny_train info:\")  \n",
    "print(y_train.info())\n",
    "print(\"\\ny_test info:\")  \n",
    "print(y_test.info()) "
   ]
  },
  {
   "cell_type": "markdown",
   "metadata": {},
   "source": [
    "<div class=\"listview__content\"><div class=\"exercise--assignment exercise--typography\"><h1 class=\"exercise--title\">Training a model</h1><div class=\"\"><p><p>With split data in hand, you're only a few lines away from training a model.</p>\n",
    "<p>In this exercise, you will import the logistic regression and one versus rest classifiers in order to fit a multi-class logistic regression model to the <code>NUMERIC_COLUMNS</code> of your feature data.</p>\n",
    "<p>Then you'll test and print the accuracy with the <code>.score()</code> method to see the results of training. </p>\n",
    "<p><strong>Before you train!</strong> Remember, we're ultimately going to be using logloss to score our model, so don't worry too much about the accuracy here. Keep in mind that you're throwing away all of the text data in the dataset - that's by far most of the data! So don't get your hopes up for a killer performance just yet. We're just interested in getting things up and running at the moment.</p>\n",
    "<p>All data necessary to call <code>multilabel_train_test_split()</code> has been loaded into the workspace.</p></div></div></div>"
   ]
  },
  {
   "cell_type": "code",
   "execution_count": 18,
   "metadata": {},
   "outputs": [
    {
     "name": "stdout",
     "output_type": "stream",
     "text": [
      "Accuracy: 0.0\n"
     ]
    }
   ],
   "source": [
    "# Import classifiers\n",
    "from sklearn.linear_model import LogisticRegression\n",
    "from sklearn.multiclass import OneVsRestClassifier\n",
    "\n",
    "# Create the DataFrame: numeric_data_only\n",
    "numeric_data_only = df[NUMERIC_COLUMNS].fillna(-1000)\n",
    "\n",
    "# Get labels and convert to dummy variables: label_dummies\n",
    "label_dummies = pd.get_dummies(df[LABELS])\n",
    "\n",
    "# Create training and test sets\n",
    "X_train, X_test, y_train, y_test = multilabel_train_test_split(numeric_data_only,\n",
    "                                                               label_dummies,\n",
    "                                                               size=0.2, \n",
    "                                                               seed=123)\n",
    "\n",
    "# Instantiate the classifier: clf\n",
    "clf = OneVsRestClassifier(LogisticRegression())\n",
    "\n",
    "# Fit the classifier to the training data\n",
    "clf.fit(X_train, y_train)\n",
    "\n",
    "# Print the accuracy\n",
    "print(\"Accuracy: {}\".format(clf.score(X_test, y_test)))"
   ]
  },
  {
   "cell_type": "markdown",
   "metadata": {},
   "source": [
    "Ok! The good news is that your workflow didn't cause any errors. The bad news is that your model scored the lowest possible accuracy: 0.0! But hey, you just threw away ALL of the text data in the budget. Later, you won't. Before you add the text data, let's see how the model does when scored by log loss."
   ]
  },
  {
   "attachments": {
    "resim.png": {
     "image/png": "[encoded data removed]"
    }
   },
   "cell_type": "markdown",
   "metadata": {},
   "source": [
    "![resim.png](attachment:resim.png)"
   ]
  },
  {
   "cell_type": "markdown",
   "metadata": {},
   "source": [
    "<div class=\"listview__content\"><div class=\"exercise--assignment exercise--typography\"><h1 class=\"exercise--title\">Use your model to predict values on holdout data</h1><div class=\"\"><p><p>You're ready to make some predictions! Remember, the train-test-split you've carried out so far is for model development. The original competition provides an additional test set, for which you'll never actually <em>see</em> the correct labels. This is called the \"holdout data.\"</p>\n",
    "<p>The point of the holdout data is to provide a fair test for machine learning competitions. If the labels aren't known by anyone but DataCamp, DrivenData, or whoever is hosting the competition, you can be sure that no one submits a mere copy of labels to artificially pump up the performance on their model.</p>\n",
    "<p>Remember that the original goal is to predict the <strong>probability of each label</strong>. In this exercise you'll do just that by using the <code>.predict_proba()</code> method on your trained model.</p>\n",
    "<p>First, however, you'll need to load the holdout data, which is available in the workspace as the file <code>HoldoutData.csv</code>.</p></div></div></div>"
   ]
  },
  {
   "cell_type": "code",
   "execution_count": 20,
   "metadata": {},
   "outputs": [],
   "source": [
    "# Instantiate the classifier: clf\n",
    "clf = OneVsRestClassifier(LogisticRegression())\n",
    "\n",
    "# Fit it to the training data\n",
    "clf.fit(X_train, y_train)\n",
    "\n",
    "# Load the holdout data: holdout\n",
    "holdout = pd.read_csv('./data/HoldoutData.csv', index_col=0, sep=';')\n",
    "\n",
    "# Generate predictions: predictions\n",
    "predictions = clf.predict_proba(holdout[NUMERIC_COLUMNS].fillna(-1000))"
   ]
  },
  {
   "cell_type": "code",
   "execution_count": 21,
   "metadata": {
    "scrolled": true
   },
   "outputs": [
    {
     "data": {
      "text/html": [
       "<div>\n",
       "<style scoped>\n",
       "    .dataframe tbody tr th:only-of-type {\n",
       "        vertical-align: middle;\n",
       "    }\n",
       "\n",
       "    .dataframe tbody tr th {\n",
       "        vertical-align: top;\n",
       "    }\n",
       "\n",
       "    .dataframe thead th {\n",
       "        text-align: right;\n",
       "    }\n",
       "</style>\n",
       "<table border=\"1\" class=\"dataframe\">\n",
       "  <thead>\n",
       "    <tr style=\"text-align: right;\">\n",
       "      <th></th>\n",
       "      <th>Object_Description</th>\n",
       "      <th>Program_Description</th>\n",
       "      <th>SubFund_Description</th>\n",
       "      <th>Job_Title_Description</th>\n",
       "      <th>Facility_or_Department</th>\n",
       "      <th>Sub_Object_Description</th>\n",
       "      <th>Location_Description</th>\n",
       "      <th>FTE</th>\n",
       "      <th>Function_Description</th>\n",
       "      <th>Position_Extra</th>\n",
       "      <th>Text_4</th>\n",
       "      <th>Total</th>\n",
       "      <th>Text_2</th>\n",
       "      <th>Text_3</th>\n",
       "      <th>Fund_Description</th>\n",
       "      <th>Text_1</th>\n",
       "    </tr>\n",
       "  </thead>\n",
       "  <tbody>\n",
       "    <tr>\n",
       "      <th>237</th>\n",
       "      <td>Personal Services - Teachers</td>\n",
       "      <td>Instruction - Regular</td>\n",
       "      <td>NaN</td>\n",
       "      <td>NaN</td>\n",
       "      <td>NaN</td>\n",
       "      <td>NaN</td>\n",
       "      <td>NaN</td>\n",
       "      <td>0.0</td>\n",
       "      <td>NaN</td>\n",
       "      <td>TIME CARD CERTIFIEDAddl</td>\n",
       "      <td>Alternative Schools Instruction</td>\n",
       "      <td>1.750000e+08</td>\n",
       "      <td>NaN</td>\n",
       "      <td>NaN</td>\n",
       "      <td>General Purpose School</td>\n",
       "      <td>NaN</td>\n",
       "    </tr>\n",
       "    <tr>\n",
       "      <th>466</th>\n",
       "      <td>Extra Duty/Signing Bonus Pay</td>\n",
       "      <td>Basic Educational Services</td>\n",
       "      <td>NaN</td>\n",
       "      <td>NaN</td>\n",
       "      <td>NaN</td>\n",
       "      <td>General</td>\n",
       "      <td>School</td>\n",
       "      <td>NaN</td>\n",
       "      <td>Instruction</td>\n",
       "      <td>NaN</td>\n",
       "      <td>NaN</td>\n",
       "      <td>4.340000e+10</td>\n",
       "      <td>NaN</td>\n",
       "      <td>NaN</td>\n",
       "      <td>General Fund</td>\n",
       "      <td>NaN</td>\n",
       "    </tr>\n",
       "    <tr>\n",
       "      <th>784</th>\n",
       "      <td>OTHER PERSONAL SERVICES</td>\n",
       "      <td>NaN</td>\n",
       "      <td>NaN</td>\n",
       "      <td>SUB TEACHER ALL</td>\n",
       "      <td>NaN</td>\n",
       "      <td>NaN</td>\n",
       "      <td>STAFF DEV AND INSTR MEDIA</td>\n",
       "      <td>0.0</td>\n",
       "      <td>INST STAFF TRAINING SVCS</td>\n",
       "      <td>NaN</td>\n",
       "      <td>NaN</td>\n",
       "      <td>7.510000e+07</td>\n",
       "      <td>NaN</td>\n",
       "      <td>NaN</td>\n",
       "      <td>GENERAL FUND</td>\n",
       "      <td>TEACHER TRAINING</td>\n",
       "    </tr>\n",
       "    <tr>\n",
       "      <th>1786</th>\n",
       "      <td>TERMINAL LEAVE VACATION</td>\n",
       "      <td>NaN</td>\n",
       "      <td>NaN</td>\n",
       "      <td>INSPECTOR &amp; SERVICE TECHNICIAN</td>\n",
       "      <td>NaN</td>\n",
       "      <td>NaN</td>\n",
       "      <td>TRANSPORTATION</td>\n",
       "      <td>0.0</td>\n",
       "      <td>PUPIL TRANSPORTATION SERVICES</td>\n",
       "      <td>NaN</td>\n",
       "      <td>NaN</td>\n",
       "      <td>5.270000e+09</td>\n",
       "      <td>NaN</td>\n",
       "      <td>NaN</td>\n",
       "      <td>GENERAL FUND</td>\n",
       "      <td>TERMINAL LEAVE</td>\n",
       "    </tr>\n",
       "    <tr>\n",
       "      <th>2643</th>\n",
       "      <td>Extra Duty/Signing Bonus Pay</td>\n",
       "      <td>Undistributed</td>\n",
       "      <td>NaN</td>\n",
       "      <td>NaN</td>\n",
       "      <td>NaN</td>\n",
       "      <td>Principal &amp; Asst. Principal Support</td>\n",
       "      <td>Educator Quality</td>\n",
       "      <td>NaN</td>\n",
       "      <td>Curriculum &amp; Instructional Staff Development</td>\n",
       "      <td>NaN</td>\n",
       "      <td>NaN</td>\n",
       "      <td>4.480000e+10</td>\n",
       "      <td>NaN</td>\n",
       "      <td>NaN</td>\n",
       "      <td>General Fund</td>\n",
       "      <td>NaN</td>\n",
       "    </tr>\n",
       "  </tbody>\n",
       "</table>\n",
       "</div>"
      ],
      "text/plain": [
       "                Object_Description         Program_Description  \\\n",
       "237   Personal Services - Teachers       Instruction - Regular   \n",
       "466   Extra Duty/Signing Bonus Pay  Basic Educational Services   \n",
       "784        OTHER PERSONAL SERVICES                         NaN   \n",
       "1786       TERMINAL LEAVE VACATION                         NaN   \n",
       "2643  Extra Duty/Signing Bonus Pay               Undistributed   \n",
       "\n",
       "     SubFund_Description           Job_Title_Description  \\\n",
       "237                  NaN                             NaN   \n",
       "466                  NaN                             NaN   \n",
       "784                  NaN                 SUB TEACHER ALL   \n",
       "1786                 NaN  INSPECTOR & SERVICE TECHNICIAN   \n",
       "2643                 NaN                             NaN   \n",
       "\n",
       "     Facility_or_Department               Sub_Object_Description  \\\n",
       "237                     NaN                                  NaN   \n",
       "466                     NaN                              General   \n",
       "784                     NaN                                  NaN   \n",
       "1786                    NaN                                  NaN   \n",
       "2643                    NaN  Principal & Asst. Principal Support   \n",
       "\n",
       "           Location_Description  FTE  \\\n",
       "237                         NaN  0.0   \n",
       "466                      School  NaN   \n",
       "784   STAFF DEV AND INSTR MEDIA  0.0   \n",
       "1786             TRANSPORTATION  0.0   \n",
       "2643           Educator Quality  NaN   \n",
       "\n",
       "                              Function_Description           Position_Extra  \\\n",
       "237                                            NaN  TIME CARD CERTIFIEDAddl   \n",
       "466                                    Instruction                      NaN   \n",
       "784                       INST STAFF TRAINING SVCS                      NaN   \n",
       "1786                 PUPIL TRANSPORTATION SERVICES                      NaN   \n",
       "2643  Curriculum & Instructional Staff Development                      NaN   \n",
       "\n",
       "                               Text_4         Total Text_2 Text_3  \\\n",
       "237   Alternative Schools Instruction  1.750000e+08    NaN    NaN   \n",
       "466                               NaN  4.340000e+10    NaN    NaN   \n",
       "784                               NaN  7.510000e+07    NaN    NaN   \n",
       "1786                              NaN  5.270000e+09    NaN    NaN   \n",
       "2643                              NaN  4.480000e+10    NaN    NaN   \n",
       "\n",
       "            Fund_Description            Text_1  \n",
       "237   General Purpose School               NaN  \n",
       "466             General Fund               NaN  \n",
       "784             GENERAL FUND  TEACHER TRAINING  \n",
       "1786            GENERAL FUND    TERMINAL LEAVE  \n",
       "2643            General Fund               NaN  "
      ]
     },
     "execution_count": 21,
     "metadata": {},
     "output_type": "execute_result"
    }
   ],
   "source": [
    "holdout.head()"
   ]
  },
  {
   "cell_type": "markdown",
   "metadata": {},
   "source": [
    "<div class=\"exercise--assignment exercise--typography\"><h1 class=\"exercise--title\">Writing out your results to a csv for submission</h1><div class=\"\"><p><p>At last, you're ready to submit some predictions for scoring. In this exercise, you'll write your predictions to a <code>.csv</code> using the <code>.to_csv()</code> method on a pandas DataFrame. Then you'll evaluate your performance according to the LogLoss metric discussed earlier!</p>\n",
    "<p>You'll need to make sure your submission obeys the <a href=\"https://www.drivendata.org/competitions/4/page/15/#sub_values\" target=\"_blank\" rel=\"noopener noreferrer\">correct format</a>.</p>\n",
    "<p>To do this, you'll use your <code>predictions</code> values to create a new DataFrame, <code>prediction_df</code>. </p>\n",
    "<p><strong>Interpreting LogLoss &amp; Beating the Benchmark:</strong> </p>\n",
    "<p>When interpreting your log loss score, keep in mind that the score will change based on the number of samples tested. To get a sense of how this <em>very basic</em> model performs, compare your score to the <strong>DrivenData benchmark model performance: 2.0455</strong>, which merely submitted uniform probabilities for each class.</p>\n",
    "<p>Remember, the lower the log loss the better. Is your model's log loss lower than 2.0455?</p></div></div>"
   ]
  },
  {
   "cell_type": "code",
   "execution_count": 26,
   "metadata": {},
   "outputs": [],
   "source": [
    "# Generate predictions: predictions\n",
    "predictions = clf.predict_proba(holdout[NUMERIC_COLUMNS].fillna(-1000))\n",
    "\n",
    "# Format predictions in DataFrame: prediction_df\n",
    "prediction_df = pd.DataFrame(columns=pd.get_dummies(df[LABELS]).columns,\n",
    "                             index=holdout.index,\n",
    "                             data=predictions)\n",
    "\n",
    "\n",
    "# Save prediction_df to csv\n",
    "prediction_df.to_csv('predictions.csv')\n",
    "\n",
    "# Submit the predictions for scoring: score\n",
    "#score = score_submission(pred_path='predictions.csv')\n",
    "\n",
    "# Print score\n",
    "#print('Your model, trained with numeric data only, yields logloss score: {}'.format(score))"
   ]
  },
  {
   "cell_type": "markdown",
   "metadata": {},
   "source": [
    "<div class=\"dc-u-p-24\"><h1 class=\"dc-h3\">Tokenizing text</h1><div class=\"\"><p><p>As we talked about in the video, <a href=\"http://nlp.stanford.edu/IR-book/html/htmledition/tokenization-1.html\" target=\"_blank\" rel=\"noopener noreferrer\">tokenization</a> is the process of chopping up a character sequence into pieces called <em>tokens</em>. </p>\n",
    "<p>How do we determine what constitutes a token? Often, tokens are separated by whitespace. But we can specify other delimiters as well. For example, if we decided to tokenize on punctuation, then any punctuation mark would be treated like a whitespace. How we tokenize text in our DataFrame can affect the statistics we use in our model.</p>\n",
    "<p>A particular cell in our budget DataFrame may have the string content <code>Title I - Disadvantaged Children/Targeted Assistance</code>. The number of n-grams generated by this text data is sensitive to whether or not we tokenize on punctuation, as you'll show in the following exercise.</p>\n",
    "<p>How many tokens (1-grams) are in the string</p>\n",
    "<pre><code>Title I - Disadvantaged Children/Targeted Assistance\n",
    "</code></pre>\n",
    "<p>if we tokenize on punctuation?</p></div></div>\n",
    "\n",
    "**6**"
   ]
  },
  {
   "cell_type": "markdown",
   "metadata": {},
   "source": [
    "<div class=\"exercise--assignment exercise--typography\"><h1 class=\"exercise--title\">Testing your NLP credentials with n-grams</h1><div class=\"\"><p><p>You're well on your way to NLP superiority. Let's test your mastery of n-grams!</p>\n",
    "<p>In the workspace, we have the loaded a python list, <code>one_grams</code>, which contains all 1-grams of the string <code>petro-vend fuel and fluids</code>, tokenized on punctuation. Specifically,</p>\n",
    "<pre><code>one_grams = ['petro', 'vend', 'fuel', 'and', 'fluids']\n",
    "</code></pre>\n",
    "<p>In this exercise, your job is to determine the <strong>sum</strong> of the sizes of 1-grams, 2-grams and 3-grams generated by the string <code>petro-vend fuel and fluids</code>, tokenized on punctuation.</p>\n",
    "<p><em>Recall that the n-gram of a sequence consists of all ordered subsequences of length n.</em></p></div></div>\n",
    "\n",
    "**12**"
   ]
  },
  {
   "cell_type": "markdown",
   "metadata": {},
   "source": [
    "<div class=\"exercise--assignment exercise--typography\"><h1 class=\"exercise--title\">Creating a bag-of-words in scikit-learn</h1><div class=\"\"><p><p>In this exercise, you'll study the effects of tokenizing in different ways by comparing the bag-of-words representations resulting from different token patterns.</p>\n",
    "<p>You will focus on one feature only, the <code>Position_Extra</code> column, which describes any additional information not captured by the <code>Position_Type</code> label.</p>\n",
    "<p>For example, in the Shell you can check out the budget item in row 8960 of the data using <code>df.loc[8960]</code>. Looking at the output reveals that this <code>Object_Description</code> is overtime pay. For who? The Position Type is merely \"other\", but the Position Extra elaborates: \"BUS DRIVER\". Explore the column further to see more instances. It has a lot of NaN values.</p>\n",
    "<p>Your task is to turn the raw text in this column into a bag-of-words representation by creating tokens that contain <em>only</em> alphanumeric characters.</p>\n",
    "<p>For comparison purposes, the first 15 tokens of <code>vec_basic</code>, which splits <code>df.Position_Extra</code> into tokens when it encounters only <em>whitespace</em> characters, have been printed along with the length of the representation.</p></div></div>"
   ]
  },
  {
   "cell_type": "code",
   "execution_count": 32,
   "metadata": {},
   "outputs": [
    {
     "data": {
      "text/plain": [
       "Function                               Human Resources\n",
       "Use                                  Business Services\n",
       "Sharing                        Leadership & Management\n",
       "Reporting                                   Non-School\n",
       "Student_Type                                   Poverty\n",
       "Position_Type                             Non-Position\n",
       "Object_Type                        Contracted Services\n",
       "Pre_K                                         NO_LABEL\n",
       "Operating_Status                     PreK-12 Operating\n",
       "Object_Description        CONTRACTUAL SERVICES - OTHER\n",
       "Text_2                                       PERSONNEL\n",
       "SubFund_Description                 TITLE  CFDA 84.00A\n",
       "Job_Title_Description                              NaN\n",
       "Text_3                                             NaN\n",
       "Text_4                                             NaN\n",
       "Sub_Object_Description                             NaN\n",
       "Location_Description         OFFICE OF HUMAN RESOURCES\n",
       "FTE                                                NaN\n",
       "Function_Description                               NaN\n",
       "Facility_or_Department                             NaN\n",
       "Position_Extra            CONTRACTUAL SERVICES - OTHER\n",
       "Total                                         1.25e+12\n",
       "Program_Description          AGENCY MANAGEMENT PROGRAM\n",
       "Fund_Description                   INTRADISTRICT FUNDS\n",
       "Text_1                                             NaN\n",
       "Name: 443063, dtype: object"
      ]
     },
     "execution_count": 32,
     "metadata": {},
     "output_type": "execute_result"
    }
   ],
   "source": [
    "df.iloc[1524]"
   ]
  },
  {
   "cell_type": "code",
   "execution_count": 33,
   "metadata": {},
   "outputs": [
    {
     "name": "stdout",
     "output_type": "stream",
     "text": [
      "There are 110 tokens in Position_Extra if we split on non-alpha numeric\n",
      "['1st', '2nd', '3rd', 'a', 'ab', 'additional', 'adm', 'administrative', 'and', 'any', 'assessment', 'assistant', 'asst', 'athletic', 'avg']\n"
     ]
    }
   ],
   "source": [
    "# Import CountVectorizer\n",
    "from sklearn.feature_extraction.text import CountVectorizer\n",
    "\n",
    "# Create the token pattern: TOKENS_ALPHANUMERIC\n",
    "TOKENS_ALPHANUMERIC = '[A-Za-z0-9]+(?=\\\\s+)'\n",
    "\n",
    "# Fill missing values in df.Position_Extra\n",
    "df.Position_Extra.fillna('', inplace=True)\n",
    "\n",
    "# Instantiate the CountVectorizer: vec_alphanumeric\n",
    "vec_alphanumeric = CountVectorizer(token_pattern=TOKENS_ALPHANUMERIC)\n",
    "\n",
    "# Fit to the data\n",
    "vec_alphanumeric.fit(df.Position_Extra)\n",
    "\n",
    "# Print the number of tokens and first 15 tokens\n",
    "msg = \"There are {} tokens in Position_Extra if we split on non-alpha numeric\"\n",
    "print(msg.format(len(vec_alphanumeric.get_feature_names())))\n",
    "print(vec_alphanumeric.get_feature_names()[:15])"
   ]
  },
  {
   "cell_type": "markdown",
   "metadata": {},
   "source": [
    "Treating only alpha-numeric characters as tokens gives you a smaller number of more meaningful tokens. You've got bag-of-words in the bag!"
   ]
  },
  {
   "cell_type": "markdown",
   "metadata": {},
   "source": [
    "<div class=\"exercise--assignment exercise--typography\"><h1 class=\"exercise--title\">Combining text columns for tokenization</h1><div class=\"\"><p><p>In order to get a bag-of-words representation for all of the text data in our DataFrame, you must first convert the text data in each row of the DataFrame into a single string.</p>\n",
    "<p>In the previous exercise, this wasn't necessary because you only looked at one column of data, so each row was already just a single string. <code>CountVectorizer</code> expects each row to just be a single string, so in order to use all of the text columns, you'll need a method to turn a list of strings into a single string.</p>\n",
    "<p>In this exercise, you'll complete the function definition <code>combine_text_columns()</code>. When completed, this function will convert all training text data in your DataFrame to a single string per row that can be passed to the vectorizer object and made into a bag-of-words using the <code>.fit_transform()</code> method.</p>\n",
    "<p>Note that the function uses <code>NUMERIC_COLUMNS</code> and <code>LABELS</code> to determine which columns to drop. These lists have been loaded into the workspace.</p></div></div>"
   ]
  },
  {
   "cell_type": "code",
   "execution_count": 34,
   "metadata": {},
   "outputs": [],
   "source": [
    "# Define combine_text_columns()\n",
    "def combine_text_columns(data_frame, to_drop=NUMERIC_COLUMNS + LABELS):\n",
    "    \"\"\" converts all text in each row of data_frame to single vector \"\"\"\n",
    "    \n",
    "    # Drop non-text columns that are in the df\n",
    "    to_drop = set(to_drop) & set(data_frame.columns.tolist())\n",
    "    text_data = data_frame.drop(to_drop, axis=1)\n",
    "    \n",
    "    # Replace nans with blanks\n",
    "    text_data.fillna('', inplace=True)\n",
    "    \n",
    "    # Join all text items in a row that have a space in between\n",
    "    return text_data.apply(lambda x: \" \".join(x), axis=1)"
   ]
  },
  {
   "cell_type": "markdown",
   "metadata": {},
   "source": [
    "<div class=\"exercise--assignment exercise--typography\"><h1 class=\"exercise--title\">What's in a token?</h1><div class=\"\"><p><p>Now you will use <code>combine_text_columns</code> to convert all training text data in your DataFrame to a single vector that can be passed to the vectorizer object and made into a bag-of-words using the <code>.fit_transform()</code> method.</p>\n",
    "<p>You'll compare the effect of tokenizing using any non-whitespace characters as a token and using only alphanumeric characters as a token.</p></div></div>"
   ]
  },
  {
   "cell_type": "code",
   "execution_count": 37,
   "metadata": {},
   "outputs": [],
   "source": [
    "# Import the CountVectorizer\n",
    "from sklearn.feature_extraction.text import CountVectorizer\n",
    "\n",
    "# Create the basic token pattern\n",
    "TOKENS_BASIC = '\\\\S+(?=\\\\s+)'\n",
    "\n",
    "# Create the alphanumeric token pattern\n",
    "TOKENS_ALPHANUMERIC = '[A-Za-z0-9]+(?=\\\\s+)'\n",
    "\n",
    "# Instantiate basic CountVectorizer: vec_basic\n",
    "vec_basic = CountVectorizer(token_pattern=TOKENS_BASIC)\n",
    "\n",
    "# Instantiate alphanumeric CountVectorizer: vec_alphanumeric\n",
    "vec_alphanumeric = CountVectorizer(token_pattern=TOKENS_ALPHANUMERIC)"
   ]
  },
  {
   "cell_type": "code",
   "execution_count": 38,
   "metadata": {},
   "outputs": [],
   "source": [
    "# Create the text vector\n",
    "text_vector = combine_text_columns(df)"
   ]
  },
  {
   "cell_type": "code",
   "execution_count": 40,
   "metadata": {},
   "outputs": [
    {
     "data": {
      "text/plain": [
       "no\n",
       "198     Supplemental *  Operation and Maintenance of P...\n",
       "209     REPAIR AND MAINTENANCE SERVICES  PUPIL TRANSPO...\n",
       "750     Personal Services - Teachers   TCHER 5TH GRADE...\n",
       "931     General Supplies      General Supplies  Instru...\n",
       "1524    Supplies and Materials  Community Services    ...\n",
       "dtype: object"
      ]
     },
     "execution_count": 40,
     "metadata": {},
     "output_type": "execute_result"
    }
   ],
   "source": [
    "text_vector.head()"
   ]
  },
  {
   "cell_type": "code",
   "execution_count": 41,
   "metadata": {},
   "outputs": [
    {
     "name": "stdout",
     "output_type": "stream",
     "text": [
      "There are 1389 tokens in the dataset\n",
      "There are 1087 alpha-numeric tokens in the dataset\n"
     ]
    }
   ],
   "source": [
    "# Fit and transform vec_basic\n",
    "vec_basic.fit_transform(text_vector)\n",
    "\n",
    "# Print number of tokens of vec_basic\n",
    "print(\"There are {} tokens in the dataset\".format(len(vec_basic.get_feature_names())))\n",
    "\n",
    "# Fit and transform vec_alphanumeric\n",
    "vec_alphanumeric.fit_transform(text_vector)\n",
    "\n",
    "# Print number of tokens of vec_alphanumeric\n",
    "print(\"There are {} alpha-numeric tokens in the dataset\".format(len(vec_alphanumeric.get_feature_names())))"
   ]
  },
  {
   "cell_type": "markdown",
   "metadata": {},
   "source": [
    "Wow, you're on your way to complete Data Domination! Notice that tokenizing on alpha-numeric tokens reduced the number of tokens, just as in the last exercise. We'll keep this in mind when building a better model with the Pipeline object next. See you in the next chapter!"
   ]
  },
  {
   "cell_type": "markdown",
   "metadata": {},
   "source": [
    "## <font color=red>03. Improving your model</font> "
   ]
  },
  {
   "cell_type": "markdown",
   "metadata": {},
   "source": [
    "<div class=\"exercise--assignment exercise--typography\"><h1 class=\"exercise--title\">Instantiate pipeline</h1><div class=\"\"><p><p>In order to make your life easier as you start to work with all of the data in your original DataFrame, <code>df</code>, it's time to turn to one of scikit-learn's most useful objects: the <code>Pipeline</code>.</p>\n",
    "<p>For the next few exercises, you'll reacquaint yourself with pipelines and train a classifier on some synthetic (sample) data of multiple datatypes before using the same techniques on the main dataset.</p>\n",
    "<p>The sample data is stored in the DataFrame, <code>sample_df</code>, which has three kinds of feature data: numeric, text, and numeric with missing values. It also has a label column with two classes, <code>a</code> and <code>b</code>.</p>\n",
    "<p>In this exercise, your job is to instantiate a pipeline that trains using the <code>numeric</code> column of the sample data.</p></div></div>"
   ]
  },
  {
   "cell_type": "code",
   "execution_count": 48,
   "metadata": {},
   "outputs": [],
   "source": [
    "sample_df = pd.read_csv(\"./data/sample_df.csv\", index_col=0, sep=';')"
   ]
  },
  {
   "cell_type": "code",
   "execution_count": 49,
   "metadata": {},
   "outputs": [
    {
     "data": {
      "text/html": [
       "<div>\n",
       "<style scoped>\n",
       "    .dataframe tbody tr th:only-of-type {\n",
       "        vertical-align: middle;\n",
       "    }\n",
       "\n",
       "    .dataframe tbody tr th {\n",
       "        vertical-align: top;\n",
       "    }\n",
       "\n",
       "    .dataframe thead th {\n",
       "        text-align: right;\n",
       "    }\n",
       "</style>\n",
       "<table border=\"1\" class=\"dataframe\">\n",
       "  <thead>\n",
       "    <tr style=\"text-align: right;\">\n",
       "      <th></th>\n",
       "      <th>numeric</th>\n",
       "      <th>text</th>\n",
       "      <th>with_missing</th>\n",
       "      <th>label</th>\n",
       "    </tr>\n",
       "  </thead>\n",
       "  <tbody>\n",
       "    <tr>\n",
       "      <th>0</th>\n",
       "      <td>-10.856306</td>\n",
       "      <td>NaN</td>\n",
       "      <td>4.433240</td>\n",
       "      <td>b</td>\n",
       "    </tr>\n",
       "    <tr>\n",
       "      <th>1</th>\n",
       "      <td>9.973454</td>\n",
       "      <td>foo</td>\n",
       "      <td>4.310229</td>\n",
       "      <td>b</td>\n",
       "    </tr>\n",
       "    <tr>\n",
       "      <th>2</th>\n",
       "      <td>2.829785</td>\n",
       "      <td>foo bar</td>\n",
       "      <td>2.469828</td>\n",
       "      <td>a</td>\n",
       "    </tr>\n",
       "    <tr>\n",
       "      <th>3</th>\n",
       "      <td>-15.062947</td>\n",
       "      <td>NaN</td>\n",
       "      <td>2.852981</td>\n",
       "      <td>b</td>\n",
       "    </tr>\n",
       "    <tr>\n",
       "      <th>4</th>\n",
       "      <td>-5.786003</td>\n",
       "      <td>foo bar</td>\n",
       "      <td>1.826475</td>\n",
       "      <td>a</td>\n",
       "    </tr>\n",
       "  </tbody>\n",
       "</table>\n",
       "</div>"
      ],
      "text/plain": [
       "     numeric     text  with_missing label\n",
       "0 -10.856306      NaN      4.433240     b\n",
       "1   9.973454      foo      4.310229     b\n",
       "2   2.829785  foo bar      2.469828     a\n",
       "3 -15.062947      NaN      2.852981     b\n",
       "4  -5.786003  foo bar      1.826475     a"
      ]
     },
     "execution_count": 49,
     "metadata": {},
     "output_type": "execute_result"
    }
   ],
   "source": [
    "sample_df.head()"
   ]
  },
  {
   "cell_type": "code",
   "execution_count": 52,
   "metadata": {},
   "outputs": [
    {
     "data": {
      "text/html": [
       "<div>\n",
       "<style scoped>\n",
       "    .dataframe tbody tr th:only-of-type {\n",
       "        vertical-align: middle;\n",
       "    }\n",
       "\n",
       "    .dataframe tbody tr th {\n",
       "        vertical-align: top;\n",
       "    }\n",
       "\n",
       "    .dataframe thead th {\n",
       "        text-align: right;\n",
       "    }\n",
       "</style>\n",
       "<table border=\"1\" class=\"dataframe\">\n",
       "  <thead>\n",
       "    <tr style=\"text-align: right;\">\n",
       "      <th></th>\n",
       "      <th>a</th>\n",
       "      <th>b</th>\n",
       "    </tr>\n",
       "  </thead>\n",
       "  <tbody>\n",
       "    <tr>\n",
       "      <th>0</th>\n",
       "      <td>0</td>\n",
       "      <td>1</td>\n",
       "    </tr>\n",
       "    <tr>\n",
       "      <th>1</th>\n",
       "      <td>0</td>\n",
       "      <td>1</td>\n",
       "    </tr>\n",
       "    <tr>\n",
       "      <th>2</th>\n",
       "      <td>1</td>\n",
       "      <td>0</td>\n",
       "    </tr>\n",
       "    <tr>\n",
       "      <th>3</th>\n",
       "      <td>0</td>\n",
       "      <td>1</td>\n",
       "    </tr>\n",
       "    <tr>\n",
       "      <th>4</th>\n",
       "      <td>1</td>\n",
       "      <td>0</td>\n",
       "    </tr>\n",
       "  </tbody>\n",
       "</table>\n",
       "</div>"
      ],
      "text/plain": [
       "   a  b\n",
       "0  0  1\n",
       "1  0  1\n",
       "2  1  0\n",
       "3  0  1\n",
       "4  1  0"
      ]
     },
     "execution_count": 52,
     "metadata": {},
     "output_type": "execute_result"
    }
   ],
   "source": [
    "pd.get_dummies(sample_df['label']).head()"
   ]
  },
  {
   "cell_type": "code",
   "execution_count": 53,
   "metadata": {},
   "outputs": [],
   "source": [
    "# Import Pipeline\n",
    "from sklearn.pipeline import Pipeline\n",
    "\n",
    "# Import other necessary modules\n",
    "from sklearn.model_selection import train_test_split\n",
    "from sklearn.linear_model import LogisticRegression\n",
    "from sklearn.multiclass import OneVsRestClassifier\n",
    "\n",
    "# Split and select numeric data only, no nans \n",
    "X_train, X_test, y_train, y_test = train_test_split(sample_df[['numeric']],\n",
    "                                                    pd.get_dummies(sample_df['label']), \n",
    "                                                    random_state=22)"
   ]
  },
  {
   "cell_type": "code",
   "execution_count": 55,
   "metadata": {},
   "outputs": [
    {
     "name": "stdout",
     "output_type": "stream",
     "text": [
      "\n",
      "Accuracy on sample data - numeric, no nans:  0.62\n"
     ]
    }
   ],
   "source": [
    "# Instantiate Pipeline object: pl\n",
    "pl = Pipeline([\n",
    "        ('clf', OneVsRestClassifier(LogisticRegression()))\n",
    "    ])\n",
    "\n",
    "# Fit the pipeline to the training data\n",
    "pl.fit(X_train, y_train)\n",
    "\n",
    "# Compute and print accuracy\n",
    "accuracy = pl.score(X_test, y_test)\n",
    "print(\"\\nAccuracy on sample data - numeric, no nans: \", accuracy)"
   ]
  },
  {
   "cell_type": "markdown",
   "metadata": {},
   "source": [
    "<div class=\"exercise--assignment exercise--typography\"><h1 class=\"exercise--title\">Preprocessing numeric features</h1><div class=\"\"><p><p>What would have happened if you had included the with <code>'with_missing'</code> column in the last exercise? Without imputing missing values, the pipeline would <strong>not</strong> be happy (try it and see). So, in this exercise you'll improve your pipeline a bit by using the <code>Imputer()</code> imputation transformer from scikit-learn to fill in missing values in your sample data.</p>\n",
    "<p>By default, the <a href=\"http://scikit-learn.org/stable/modules/generated/sklearn.preprocessing.Imputer.html\" target=\"_blank\" rel=\"noopener noreferrer\">imputer transformer</a> replaces NaNs with the mean value of the column. That's a good enough imputation strategy for the sample data, so you won't need to pass anything extra to the imputer. </p>\n",
    "<p>After importing the transformer, you will edit the steps list used in the previous exercise by inserting a <code>(name, transform)</code> tuple. Recall that steps are processed sequentially, so make sure the new tuple encoding your <em>preprocessing</em> step is put in the right place.</p>\n",
    "<p>The <code>sample_df</code> is in the workspace, in case you'd like to take another look. Make sure to select <strong>both</strong> numeric columns- in the previous exercise we couldn't use <code>with_missing</code> because we had no preprocessing step!</p></div></div>"
   ]
  },
  {
   "cell_type": "code",
   "execution_count": 56,
   "metadata": {},
   "outputs": [
    {
     "name": "stdout",
     "output_type": "stream",
     "text": [
      "\n",
      "Accuracy on sample data - all numeric, incl nans:  0.636\n"
     ]
    }
   ],
   "source": [
    "# Import the Imputer object\n",
    "from sklearn.preprocessing import Imputer\n",
    "\n",
    "# Create training and test sets using only numeric data\n",
    "X_train, X_test, y_train, y_test = train_test_split(sample_df[['numeric', 'with_missing']],\n",
    "                                                    pd.get_dummies(sample_df['label']), \n",
    "                                                    random_state=456)\n",
    "\n",
    "# Insantiate Pipeline object: pl\n",
    "pl = Pipeline([\n",
    "        ('imp', Imputer()),\n",
    "        ('clf', OneVsRestClassifier(LogisticRegression()))\n",
    "    ])\n",
    "\n",
    "# Fit the pipeline to the training data\n",
    "pl.fit(X_train, y_train)\n",
    "\n",
    "# Compute and print accuracy\n",
    "accuracy = pl.score(X_test, y_test)\n",
    "print(\"\\nAccuracy on sample data - all numeric, incl nans: \", accuracy)"
   ]
  },
  {
   "cell_type": "markdown",
   "metadata": {},
   "source": [
    "_Text features and feature unions_"
   ]
  },
  {
   "cell_type": "markdown",
   "metadata": {},
   "source": [
    "<div class=\"listview__content\"><div class=\"exercise--assignment exercise--typography\"><h1 class=\"exercise--title\">Preprocessing text features</h1><div class=\"\"><p><p>Here, you'll perform a similar preprocessing pipeline step, only this time you'll use the <code>text</code> column from the sample data.</p>\n",
    "<p>To preprocess the text, you'll turn to <code>CountVectorizer()</code> to generate a bag-of-words representation of the data, as in Chapter 2. Using the <a href=\"http://scikit-learn.org/stable/modules/generated/sklearn.feature_extraction.text.CountVectorizer.html\" target=\"_blank\" rel=\"noopener noreferrer\">default</a> arguments, add a <code>(step, transform)</code> tuple to the steps list in your pipeline.</p>\n",
    "<p>Make sure you select only the text column for splitting your training and test sets.</p>\n",
    "<p>As usual, your <code>sample_df</code> is ready and waiting in the workspace.</p></div></div></div>"
   ]
  },
  {
   "cell_type": "code",
   "execution_count": 61,
   "metadata": {},
   "outputs": [],
   "source": [
    "sample_df.text = sample_df.text.fillna('')"
   ]
  },
  {
   "cell_type": "code",
   "execution_count": 62,
   "metadata": {},
   "outputs": [
    {
     "name": "stdout",
     "output_type": "stream",
     "text": [
      "\n",
      "Accuracy on sample data - just text data:  0.808\n"
     ]
    }
   ],
   "source": [
    "# Import the CountVectorizer\n",
    "from sklearn.feature_extraction.text import CountVectorizer\n",
    "\n",
    "# Split out only the text data\n",
    "X_train, X_test, y_train, y_test = train_test_split(sample_df['text'],\n",
    "                                                    pd.get_dummies(sample_df['label']), \n",
    "                                                    random_state=456)\n",
    "\n",
    "# Instantiate Pipeline object: pl\n",
    "pl = Pipeline([\n",
    "        ('vec', CountVectorizer()),\n",
    "        ('clf', OneVsRestClassifier(LogisticRegression()))\n",
    "    ])\n",
    "\n",
    "# Fit to the training data\n",
    "pl.fit(X_train, y_train)\n",
    "\n",
    "# Compute and print accuracy\n",
    "accuracy = pl.score(X_test, y_test)\n",
    "print(\"\\nAccuracy on sample data - just text data: \", accuracy)\n"
   ]
  },
  {
   "cell_type": "markdown",
   "metadata": {},
   "source": [
    "<div class=\"exercise--assignment exercise--typography\"><h1 class=\"exercise--title\">Multiple types of processing: FunctionTransformer</h1><div class=\"\"><p><p>The next two exercises will introduce new topics you'll need to make your pipeline truly excel. </p>\n",
    "<p>Any step in the pipeline <em>must</em> be an object that implements the <code>fit</code> and <code>transform</code> methods. The <a href=\"http://scikit-learn.org/stable/modules/generated/sklearn.preprocessing.FunctionTransformer.html\" target=\"_blank\" rel=\"noopener noreferrer\"><code>FunctionTransformer</code></a> creates an object with these methods out of any Python function that you pass to it. We'll use it to help select subsets of data in a way that plays nicely with pipelines.</p>\n",
    "<p>You are working with numeric data that needs imputation, and text data that needs to be converted into a bag-of-words. You'll create functions that separate the text from the numeric variables and see how the <code>.fit()</code> and <code>.transform()</code> methods work.</p></div></div>"
   ]
  },
  {
   "cell_type": "code",
   "execution_count": 65,
   "metadata": {},
   "outputs": [
    {
     "name": "stdout",
     "output_type": "stream",
     "text": [
      "Text Data\n",
      "0           \n",
      "1        foo\n",
      "2    foo bar\n",
      "3           \n",
      "4    foo bar\n",
      "Name: text, dtype: object\n",
      "\n",
      "Numeric Data\n",
      "     numeric  with_missing\n",
      "0 -10.856306      4.433240\n",
      "1   9.973454      4.310229\n",
      "2   2.829785      2.469828\n",
      "3 -15.062947      2.852981\n",
      "4  -5.786003      1.826475\n"
     ]
    }
   ],
   "source": [
    "# Import FunctionTransformer\n",
    "from sklearn.preprocessing import FunctionTransformer\n",
    "\n",
    "# Obtain the text data: get_text_data\n",
    "get_text_data = FunctionTransformer(lambda x: x['text'], validate=False)\n",
    "\n",
    "# Obtain the numeric data: get_numeric_data\n",
    "get_numeric_data = FunctionTransformer(lambda x: x[['numeric', 'with_missing']], validate=False)\n",
    "\n",
    "# Fit and transform the text data: just_text_data\n",
    "just_text_data = get_text_data.fit_transform(sample_df)\n",
    "\n",
    "# Fit and transform the numeric data: just_numeric_data\n",
    "just_numeric_data = get_numeric_data.fit_transform(sample_df)\n",
    "\n",
    "# Print head to check results\n",
    "print('Text Data')\n",
    "print(just_text_data.head())\n",
    "print('\\nNumeric Data')\n",
    "print(just_numeric_data.head())"
   ]
  },
  {
   "cell_type": "markdown",
   "metadata": {},
   "source": [
    "<div class=\"exercise--assignment exercise--typography\"><h1 class=\"exercise--title\">Multiple types of processing: FeatureUnion</h1><div class=\"\"><p><p>Now that you can separate text and numeric data in your pipeline, you're ready to perform separate steps on each by nesting pipelines and using <code>FeatureUnion()</code>.</p>\n",
    "<p>These tools will allow you to streamline all preprocessing steps for your model, even when multiple datatypes are involved.  Here, for example, you don't want to impute our text data, and you don't want to create a bag-of-words with our numeric data. Instead, you want to deal with these separately and then join the results together using <code>FeatureUnion()</code>.</p>\n",
    "<p>In the end, you'll still have only two high-level steps in your pipeline: preprocessing and model instantiation. The difference is that the first preprocessing step actually consists of a pipeline for numeric data and a pipeline for text data. The results of those pipelines are joined using <code>FeatureUnion()</code>.</p></div></div>"
   ]
  },
  {
   "cell_type": "code",
   "execution_count": 67,
   "metadata": {},
   "outputs": [
    {
     "name": "stdout",
     "output_type": "stream",
     "text": [
      "\n",
      "Accuracy on sample data - all data:  0.928\n"
     ]
    }
   ],
   "source": [
    "# Import FeatureUnion\n",
    "from sklearn.pipeline import FeatureUnion\n",
    "\n",
    "# Split using ALL data in sample_df\n",
    "X_train, X_test, y_train, y_test = train_test_split(sample_df[['numeric', 'with_missing', \n",
    "                                                               'text']],\n",
    "                                                    pd.get_dummies(sample_df['label']), \n",
    "                                                    random_state=22)\n",
    "\n",
    "# Create a FeatureUnion with nested pipeline: process_and_join_features\n",
    "process_and_join_features = FeatureUnion(\n",
    "            transformer_list = [\n",
    "                ('numeric_features', Pipeline([\n",
    "                    ('selector', get_numeric_data),\n",
    "                    ('imputer', Imputer())\n",
    "                ])),\n",
    "                ('text_features', Pipeline([\n",
    "                    ('selector', get_text_data),\n",
    "                    ('vectorizer', CountVectorizer())\n",
    "                ]))\n",
    "             ]\n",
    "        )\n",
    "\n",
    "# Instantiate nested pipeline: pl\n",
    "pl = Pipeline([\n",
    "        ('union', process_and_join_features),\n",
    "        ('clf', OneVsRestClassifier(LogisticRegression()))\n",
    "    ])\n",
    "\n",
    "\n",
    "# Fit pl to the training data\n",
    "pl.fit(X_train, y_train)\n",
    "\n",
    "# Compute and print accuracy\n",
    "accuracy = pl.score(X_test, y_test)\n",
    "print(\"\\nAccuracy on sample data - all data: \", accuracy)"
   ]
  },
  {
   "cell_type": "markdown",
   "metadata": {},
   "source": [
    "<div class=\"exercise--assignment exercise--typography\"><h1 class=\"exercise--title\">Using FunctionTransformer on the main dataset</h1><div class=\"\"><p><p>In this exercise you're going to use <code>FunctionTransformer</code> on the primary budget data, before instantiating a multiple-datatype pipeline in the next exercise.</p>\n",
    "<p>Recall from Chapter 2 that you used a custom function <code>combine_text_columns</code> to select and properly format <strong>text data</strong> for tokenization; it is loaded into the workspace and ready to be put to work in a function transformer!</p>\n",
    "<p>Concerning the <strong>numeric data</strong>, you can use <code>NUMERIC_COLUMNS</code>, preloaded as usual, to help design a subset-selecting lambda function.</p>\n",
    "<p>You're all finished with sample data. The original <code>df</code> is back in the workspace, ready to use.</p></div></div>"
   ]
  },
  {
   "cell_type": "code",
   "execution_count": 69,
   "metadata": {},
   "outputs": [],
   "source": [
    "# Import FunctionTransformer\n",
    "from sklearn.preprocessing import FunctionTransformer\n",
    "\n",
    "# Get the dummy encoding of the labels\n",
    "dummy_labels = pd.get_dummies(df[LABELS])\n",
    "\n",
    "# Get the columns that are features in the original df\n",
    "NON_LABELS = [c for c in df.columns if c not in LABELS]"
   ]
  },
  {
   "cell_type": "code",
   "execution_count": 72,
   "metadata": {},
   "outputs": [],
   "source": [
    "# Split into training and test sets\n",
    "X_train, X_test, y_train, y_test = multilabel_train_test_split(df[NON_LABELS],\n",
    "                                                               dummy_labels,\n",
    "                                                               0.2, \n",
    "                                                               seed=123)\n",
    "\n",
    "# Preprocess the text data: get_text_data\n",
    "get_text_data = FunctionTransformer(combine_text_columns, validate=False)\n",
    "\n",
    "# Preprocess the numeric data: get_numeric_data\n",
    "get_numeric_data = FunctionTransformer(lambda x: x[NUMERIC_COLUMNS], validate=False)"
   ]
  },
  {
   "cell_type": "markdown",
   "metadata": {},
   "source": [
    "<div class=\"exercise--assignment exercise--typography\"><h1 class=\"exercise--title\">Add a model to the pipeline</h1><div class=\"\"><p><p>You're about to take everything you've learned so far and implement it in a <code>Pipeline</code> that works with the real, <a href=\"https://www.drivendata.org/\" target=\"_blank\" rel=\"noopener noreferrer\">DrivenData</a> budget line item data you've been exploring.</p>\n",
    "<p><strong>Surprise!</strong> The structure of the pipeline is exactly the same as earlier in this chapter:</p>\n",
    "<ul>\n",
    "<li>the <strong>preprocessing step</strong> uses <code>FeatureUnion</code> to join the results of nested pipelines that each rely on <code>FunctionTransformer</code> to select multiple datatypes</li>\n",
    "<li>the <strong>model step</strong> stores the model object</li>\n",
    "</ul>\n",
    "<p>You can then call familiar methods like <code>.fit()</code> and <code>.score()</code> on the <code>Pipeline</code> object <code>pl</code>.</p></div></div>"
   ]
  },
  {
   "cell_type": "code",
   "execution_count": 78,
   "metadata": {
    "scrolled": false
   },
   "outputs": [
    {
     "name": "stdout",
     "output_type": "stream",
     "text": [
      "<class 'pandas.core.frame.DataFrame'>\n",
      "Index: 1035 entries, 198 to 305347\n",
      "Columns: 105 entries, Function_Aides Compensation to Operating_Status_perating, Not PreK-12\n",
      "dtypes: uint8(105)\n",
      "memory usage: 114.2+ KB\n"
     ]
    }
   ],
   "source": [
    "y_train.info()"
   ]
  },
  {
   "cell_type": "code",
   "execution_count": 81,
   "metadata": {},
   "outputs": [
    {
     "name": "stdout",
     "output_type": "stream",
     "text": [
      "\n",
      "Accuracy on budget dataset:  0.0\n"
     ]
    }
   ],
   "source": [
    "# Complete the pipeline: pl\n",
    "pl = Pipeline([\n",
    "        ('union', FeatureUnion(\n",
    "            transformer_list = [\n",
    "                ('numeric_features', Pipeline([\n",
    "                    ('selector', get_numeric_data),\n",
    "                    ('imputer', Imputer())\n",
    "                ])),\n",
    "                ('text_features', Pipeline([\n",
    "                    ('selector', get_text_data),\n",
    "                    ('vectorizer', CountVectorizer())\n",
    "                ]))\n",
    "             ]\n",
    "        )),\n",
    "        ('clf', OneVsRestClassifier(LogisticRegression()))\n",
    "    ])\n",
    "\n",
    "# Fit to the training data\n",
    "pl.fit(X_train, y_train)\n",
    "\n",
    "# Compute and print accuracy\n",
    "accuracy = pl.score(X_test, y_test)\n",
    "print(\"\\nAccuracy on budget dataset: \", accuracy)"
   ]
  },
  {
   "cell_type": "markdown",
   "metadata": {},
   "source": [
    "<div class=\"exercise--assignment exercise--typography\"><h1 class=\"exercise--title\">Try a different class of model</h1><div class=\"\"><p><p>Now you're cruising. One of the great strengths of pipelines is how easy they make the process of testing different models.</p>\n",
    "<p>Until now, you've been using the model step <code>('clf', OneVsRestClassifier(LogisticRegression()))</code> in your pipeline.</p>\n",
    "<p>But what if you want to try a different model? Do you need to build an entirely new pipeline? New nests? New FeatureUnions? Nope! You just have a simple one-line change, as you'll see in this exercise.</p>\n",
    "<p>In particular, you'll swap out the logistic-regression model and replace it with a <a href=\"https://en.wikipedia.org/wiki/Random_forest\" target=\"_blank\" rel=\"noopener noreferrer\">random forest</a> classifier, which uses the statistics of an ensemble of decision trees to generate predictions.</p></div></div>"
   ]
  },
  {
   "cell_type": "code",
   "execution_count": 80,
   "metadata": {},
   "outputs": [
    {
     "name": "stdout",
     "output_type": "stream",
     "text": [
      "\n",
      "Accuracy on budget dataset:  0.29333333333333333\n"
     ]
    }
   ],
   "source": [
    "# Import random forest classifer\n",
    "from sklearn.ensemble import RandomForestClassifier\n",
    "\n",
    "# Edit model step in pipeline\n",
    "pl = Pipeline([\n",
    "        ('union', FeatureUnion(\n",
    "            transformer_list = [\n",
    "                ('numeric_features', Pipeline([\n",
    "                    ('selector', get_numeric_data),\n",
    "                    ('imputer', Imputer())\n",
    "                ])),\n",
    "                ('text_features', Pipeline([\n",
    "                    ('selector', get_text_data),\n",
    "                    ('vectorizer', CountVectorizer())\n",
    "                ]))\n",
    "             ]\n",
    "        )),\n",
    "        ('clf', RandomForestClassifier())\n",
    "    ])\n",
    "\n",
    "# Fit to the training data\n",
    "pl.fit(X_train, y_train)\n",
    "\n",
    "# Compute and print accuracy\n",
    "accuracy = pl.score(X_test, y_test)\n",
    "print(\"\\nAccuracy on budget dataset: \", accuracy)"
   ]
  },
  {
   "cell_type": "markdown",
   "metadata": {},
   "source": [
    "Accuracy on budget dataset:  0.261538461538"
   ]
  },
  {
   "cell_type": "markdown",
   "metadata": {},
   "source": [
    "<div class=\"exercise--assignment exercise--typography\"><h1 class=\"exercise--title\">Can you adjust the model or parameters to improve accuracy?</h1><div class=\"\"><p><p>You just saw a substantial improvement in accuracy by swapping out the model. Pipelines are amazing!</p>\n",
    "<p>Can you make it better? Try changing the parameter <code>n_estimators</code> of <code>RandomForestClassifier()</code>, whose default value is <code>10</code>, to <code>15</code>.</p></div></div>"
   ]
  },
  {
   "cell_type": "code",
   "execution_count": 82,
   "metadata": {},
   "outputs": [
    {
     "name": "stdout",
     "output_type": "stream",
     "text": [
      "\n",
      "Accuracy on budget dataset:  0.30666666666666664\n"
     ]
    }
   ],
   "source": [
    "# Import RandomForestClassifier\n",
    "from sklearn.ensemble import RandomForestClassifier\n",
    "\n",
    "# Add model step to pipeline: pl\n",
    "pl = Pipeline([\n",
    "        ('union', FeatureUnion(\n",
    "            transformer_list = [\n",
    "                ('numeric_features', Pipeline([\n",
    "                    ('selector', get_numeric_data),\n",
    "                    ('imputer', Imputer())\n",
    "                ])),\n",
    "                ('text_features', Pipeline([\n",
    "                    ('selector', get_text_data),\n",
    "                    ('vectorizer', CountVectorizer())\n",
    "                ]))\n",
    "             ]\n",
    "        )),\n",
    "        ('clf', RandomForestClassifier(n_estimators=15))\n",
    "    ])\n",
    "\n",
    "# Fit to the training data\n",
    "pl.fit(X_train, y_train)\n",
    "\n",
    "# Compute and print accuracy\n",
    "accuracy = pl.score(X_test, y_test)\n",
    "print(\"\\nAccuracy on budget dataset: \", accuracy)"
   ]
  },
  {
   "cell_type": "markdown",
   "metadata": {},
   "source": [
    "## <font color=red>04 - Learning from the experts </font> "
   ]
  },
  {
   "cell_type": "markdown",
   "metadata": {},
   "source": [
    "<div class=\"exercise--assignment exercise--typography\"><h1 class=\"exercise--title\">How many tokens?</h1><div class=\"\"><p><p>Recall from previous chapters that how you tokenize text affects the n-gram statistics used in your model.</p>\n",
    "<p>Going forward, you'll use alpha-numeric sequences, and <em>only</em> alpha-numeric sequences, as tokens. Alpha-numeric tokens contain only letters a-z and numbers 0-9 (no other characters). In other words, you'll tokenize on punctuation to generate n-gram statistics.</p>\n",
    "<p>In this exercise, you'll make sure you remember how to tokenize on punctuation.</p>\n",
    "<p>Assuming we tokenize on punctuation, accepting only alpha-numeric sequences as tokens, how many tokens are in the following string from the main dataset?</p>\n",
    "<pre><code>'PLANNING,RES,DEV,&amp; EVAL      '\n",
    "</code></pre>\n",
    "<p>If you want, we've loaded this string into the workspace as <code>SAMPLE_STRING</code>, but you may not need it to answer the question.</p></div></div>"
   ]
  },
  {
   "cell_type": "markdown",
   "metadata": {},
   "source": [
    "#### 4, because , and & are not tokens"
   ]
  },
  {
   "cell_type": "markdown",
   "metadata": {},
   "source": [
    "<div class=\"exercise--assignment exercise--typography\"><h1 class=\"exercise--title\">Deciding what's a word</h1><div class=\"\"><p><p>Before you build up to the winning pipeline, it will be useful to look a little deeper into how the text features will be processed.</p>\n",
    "<p>In this exercise, you will use <code>CountVectorizer</code> on the training data <code>X_train</code> (preloaded into the workspace) to see the effect of tokenization on punctuation.</p>\n",
    "<p>Remember, since <code>CountVectorizer</code> expects a vector, you'll need to use the preloaded function, <code>combine_text_columns</code> before fitting to the training data.</p></div></div>"
   ]
  },
  {
   "cell_type": "code",
   "execution_count": 83,
   "metadata": {},
   "outputs": [
    {
     "name": "stdout",
     "output_type": "stream",
     "text": [
      "['00a', '12', '1st', '2nd', '4th', '5th', '70h', '8', 'a', 'ab']\n"
     ]
    }
   ],
   "source": [
    "# Import the CountVectorizer\n",
    "from sklearn.feature_extraction.text import CountVectorizer\n",
    "\n",
    "# Create the text vector\n",
    "text_vector = combine_text_columns(X_train)\n",
    "\n",
    "# Create the token pattern: TOKENS_ALPHANUMERIC\n",
    "TOKENS_ALPHANUMERIC = '[A-Za-z0-9]+(?=\\\\s+)'\n",
    "\n",
    "# Instantiate the CountVectorizer: text_features\n",
    "text_features = CountVectorizer(token_pattern=TOKENS_ALPHANUMERIC)\n",
    "\n",
    "# Fit text_features to the text vector\n",
    "text_features.fit(text_vector)\n",
    "\n",
    "# Print the first 10 tokens\n",
    "print(text_features.get_feature_names()[:10])"
   ]
  },
  {
   "cell_type": "markdown",
   "metadata": {},
   "source": [
    "<div class=\"exercise--assignment exercise--typography\"><h1 class=\"exercise--title\">N-gram range in scikit-learn</h1><div class=\"\"><p><p>In this exercise you'll insert a <code>CountVectorizer</code> instance into your pipeline for the main dataset, and compute multiple n-gram features to be used in the model.</p>\n",
    "<p>In order to look for ngram relationships at multiple scales, you will use the <code>ngram_range</code> parameter as Peter discussed in the video. </p>\n",
    "<p><strong>Special functions:</strong> You'll notice a couple of new steps provided in the pipeline in this and many of the remaining exercises. Specifically, the <code>dim_red</code> step following the <code>vectorizer</code> step , and the <code>scale</code> step preceeding the <code>clf</code> (classification) step.</p>\n",
    "<p>These have been added in order to account for the fact that you're using a reduced-size sample of the full dataset in this course. To make sure the models perform as the expert competition winner intended, we have to apply a <a href=\"https://en.wikipedia.org/wiki/Dimensionality_reduction\" target=\"_blank\" rel=\"noopener noreferrer\">dimensionality reduction</a> technique, which is what the <code>dim_red</code> step does, and we have to <a href=\"https://en.wikipedia.org/wiki/Feature_scaling\" target=\"_blank\" rel=\"noopener noreferrer\">scale the features</a> to lie between -1 and 1, which is what the <code>scale</code> step does.</p>\n",
    "<p>The <code>dim_red</code> step uses a scikit-learn function called <code>SelectKBest()</code>, applying something called the <a href=\"https://en.wikipedia.org/wiki/Chi-squared_test\" target=\"_blank\" rel=\"noopener noreferrer\">chi-squared test</a> to select the K \"best\" features. The <code>scale</code> step uses a scikit-learn function called <code>MaxAbsScaler()</code> in order to squash the relevant features into the interval -1 to 1.</p>\n",
    "<p>You won't need to do anything extra with these functions here, just complete the vectorizing pipeline steps below. However, notice how easy it was to add more processing steps to our pipeline!</p></div></div>"
   ]
  },
  {
   "cell_type": "code",
   "execution_count": 84,
   "metadata": {},
   "outputs": [],
   "source": [
    "# Import pipeline\n",
    "from sklearn.pipeline import Pipeline\n",
    "\n",
    "# Import classifiers\n",
    "from sklearn.linear_model import LogisticRegression\n",
    "from sklearn.multiclass import OneVsRestClassifier\n",
    "\n",
    "# Import CountVectorizer\n",
    "from sklearn.feature_extraction.text import CountVectorizer\n",
    "\n",
    "# Import other preprocessing modules\n",
    "from sklearn.preprocessing import Imputer\n",
    "from sklearn.feature_selection import chi2, SelectKBest\n",
    "\n",
    "# Select 300 best features\n",
    "chi_k = 300\n",
    "\n",
    "# Import functional utilities\n",
    "from sklearn.preprocessing import FunctionTransformer, MaxAbsScaler\n",
    "from sklearn.pipeline import FeatureUnion\n",
    "\n",
    "# Perform preprocessing\n",
    "get_text_data = FunctionTransformer(combine_text_columns, validate=False)\n",
    "get_numeric_data = FunctionTransformer(lambda x: x[NUMERIC_COLUMNS], validate=False)\n",
    "\n",
    "# Create the token pattern: TOKENS_ALPHANUMERIC\n",
    "TOKENS_ALPHANUMERIC = '[A-Za-z0-9]+(?=\\\\s+)'\n",
    "\n",
    "# Instantiate pipeline: pl\n",
    "pl = Pipeline([\n",
    "        ('union', FeatureUnion(\n",
    "            transformer_list = [\n",
    "                ('numeric_features', Pipeline([\n",
    "                    ('selector', get_numeric_data),\n",
    "                    ('imputer', Imputer())\n",
    "                ])),\n",
    "                ('text_features', Pipeline([\n",
    "                    ('selector', get_text_data),\n",
    "                    ('vectorizer', CountVectorizer(token_pattern=TOKENS_ALPHANUMERIC,\n",
    "                                                   ngram_range=(1,2))),\n",
    "                    ('dim_red', SelectKBest(chi2, chi_k))\n",
    "                ]))\n",
    "             ]\n",
    "        )),\n",
    "        ('scale', MaxAbsScaler()),\n",
    "        ('clf', OneVsRestClassifier(LogisticRegression()))\n",
    "    ])"
   ]
  },
  {
   "cell_type": "markdown",
   "metadata": {},
   "source": [
    "<div class=\"dc-u-p-24\"><h1 class=\"dc-h3\">Which models of the data include interaction terms?</h1><div class=\"\"><p><p>Recall from the video that interaction terms involve products of features.</p>\n",
    "<p>Suppose we have two features <code>x</code> and <code>y</code>, and we use models that process the features as follows:</p>\n",
    "<ol>\n",
    "<li>βx + βy + ββ</li>\n",
    "<li>βxy + βx + βy</li>\n",
    "<li>βx + βy + βx^2 + βy^2</li>\n",
    "</ol>\n",
    "<p>where β is a coefficient in your model (not a feature).</p>\n",
    "<p>Which expression(s) include interaction terms?</p></div></div>"
   ]
  },
  {
   "cell_type": "markdown",
   "metadata": {},
   "source": [
    "#### The second expression."
   ]
  },
  {
   "cell_type": "markdown",
   "metadata": {},
   "source": [
    "<div class=\"exercise--assignment exercise--typography\"><h1 class=\"exercise--title\">Implement interaction modeling in scikit-learn</h1><div class=\"\"><p><p>It's time to add interaction features to your model. The <code>PolynomialFeatures</code> object in scikit-learn does just that, but here you're going to use a custom interaction object, <code>SparseInteractions</code>. Interaction terms are a statistical tool that lets your model express what happens if two features appear together in the same row.</p>\n",
    "<p><code>SparseInteractions</code> does the same thing as <code>PolynomialFeatures</code>, but it uses sparse matrices to do so. You can get the code for <code>SparseInteractions</code> at <a href=\"https://github.com/drivendataorg/box-plots-sklearn/blob/master/src/features/SparseInteractions.py\" target=\"_blank\" rel=\"noopener noreferrer\">this GitHub Gist</a>.</p>\n",
    "<p><code>PolynomialFeatures</code> and <code>SparseInteractions</code> both take the argument <code>degree</code>, which tells them what polynomial degree of interactions to compute.</p>\n",
    "<p>You're going to consider interaction terms of <code>degree=2</code> in your pipeline. You will insert these steps <em>after</em> the preprocessing steps you've built out so far, but <em>before</em> the classifier steps.</p>\n",
    "<p>Pipelines with interaction terms take a while to train (since you're making n features into n-squared features!), so as long as you set it up right, we'll do the heavy lifting and tell you what your score is!</p></div></div>"
   ]
  },
  {
   "cell_type": "code",
   "execution_count": 88,
   "metadata": {},
   "outputs": [],
   "source": [
    "from SparseInteractions import SparseInteractions"
   ]
  },
  {
   "cell_type": "code",
   "execution_count": 89,
   "metadata": {},
   "outputs": [],
   "source": [
    "# Instantiate pipeline: pl\n",
    "pl = Pipeline([\n",
    "        ('union', FeatureUnion(\n",
    "            transformer_list = [\n",
    "                ('numeric_features', Pipeline([\n",
    "                    ('selector', get_numeric_data),\n",
    "                 http://localhost:8888/notebooks/03%20Datacamp/01_Courses%20ok/-19%20Machine%20Learning%20with%20the%20Experts%20School%20Budgets/19%20Machine%20Learning%20with%20the%20Experts%20School%20Budgets.ipynb#   ('imputer', Imputer())\n",
    "                ])),\n",
    "                ('text_features', Pipeline([\n",
    "                    ('selector', get_text_data),\n",
    "                    ('vectorizer', CountVectorizer(token_pattern=TOKENS_ALPHANUMERIC,\n",
    "                                                   ngram_range=(1, 2))),  \n",
    "                    ('dim_red', SelectKBest(chi2, chi_k))\n",
    "                ]))\n",
    "             ]\n",
    "        )),\n",
    "        ('int', SparseInteractions(degree=2)),\n",
    "        ('scale', MaxAbsScaler()),\n",
    "        ('clf', OneVsRestClassifier(LogisticRegression()))\n",
    "    ])"
   ]
  },
  {
   "cell_type": "markdown",
   "metadata": {},
   "source": [
    "<div class=\"exercise--assignment exercise--typography\"><h1 class=\"exercise--title\">Why is hashing a useful trick?</h1><div class=\"\"><p><p>In the video, Peter explained that a <a href=\"https://en.wikipedia.org/wiki/Feature_hashing#Feature_vectorization_using_the_hashing_trick\" target=\"_blank\" rel=\"noopener noreferrer\">hash</a> function takes an input, in your case a token, and outputs a hash value. For example, the input may  be a string and the hash value may be an integer.</p>\n",
    "<p>We've loaded a familiar python datatype, a dictionary called <code>hash_dict</code>, that makes this mapping concept a bit more explicit. In fact, <a href=\"http://stackoverflow.com/questions/114830/is-a-python-dictionary-an-example-of-a-hash-table\" target=\"_blank\" rel=\"noopener noreferrer\">python dictionaries ARE hash tables</a>!</p>\n",
    "<p>Print <code>hash_dict</code> in the IPython Shell to get a sense of how strings can be mapped to integers.</p>\n",
    "<p>By explicitly stating how many possible outputs the hashing function may have, we limit the size of the objects that need to be processed. With these limits known, computation can be made more efficient and we can get results faster, even on large datasets.</p>\n",
    "<p>Using the above information, answer the following:</p>\n",
    "<p>Why is hashing a useful trick?</p></div></div>"
   ]
  },
  {
   "cell_type": "markdown",
   "metadata": {},
   "source": [
    "##### Some problems are memory-bound and not easily parallelizable, and hashing enforces a fixed length computation instead of using a mutable datatype (like a dictionary)."
   ]
  },
  {
   "cell_type": "markdown",
   "metadata": {},
   "source": [
    "<div class=\"exercise--assignment exercise--typography\"><h1 class=\"exercise--title\">Implementing the hashing trick in scikit-learn</h1><div class=\"\"><p><p>In this exercise you will check out the scikit-learn implementation of <code>HashingVectorizer</code> before adding it to your pipeline later.</p>\n",
    "<p>As you saw in the video, <code>HashingVectorizer</code> acts just like <code>CountVectorizer</code> in that it can accept <code>token_pattern</code> and <code>ngram_range</code> parameters. The important difference is that it creates hash values from the text, so that we get all the computational advantages of hashing!</p></div></div>"
   ]
  },
  {
   "cell_type": "code",
   "execution_count": 85,
   "metadata": {},
   "outputs": [
    {
     "name": "stdout",
     "output_type": "stream",
     "text": [
      "          0\n",
      "0  0.164399\n",
      "1 -0.493197\n",
      "2 -0.328798\n",
      "3  0.164399\n",
      "4  0.164399\n"
     ]
    }
   ],
   "source": [
    "# Import HashingVectorizer\n",
    "from sklearn.feature_extraction.text import HashingVectorizer\n",
    "\n",
    "# Get text data: text_data\n",
    "text_data = combine_text_columns(X_train)\n",
    "\n",
    "# Create the token pattern: TOKENS_ALPHANUMERIC\n",
    "TOKENS_ALPHANUMERIC = '[A-Za-z0-9]+(?=\\\\s+)' \n",
    "\n",
    "# Instantiate the HashingVectorizer: hashing_vec\n",
    "hashing_vec = HashingVectorizer(token_pattern=TOKENS_ALPHANUMERIC)\n",
    "\n",
    "# Fit and transform the Hashing Vectorizer\n",
    "hashed_text = hashing_vec.fit_transform(text_data)\n",
    "\n",
    "# Create DataFrame and print the head\n",
    "hashed_df = pd.DataFrame(hashed_text.data)\n",
    "print(hashed_df.head())"
   ]
  },
  {
   "cell_type": "markdown",
   "metadata": {},
   "source": [
    "<div class=\"exercise--assignment exercise--typography\"><h1 class=\"exercise--title\">Build the winning model</h1><div class=\"\"><p><p>You have arrived! This is where all of your hard work pays off. It's time to build the model that won DrivenData's competition.</p>\n",
    "<p>You've constructed a robust, powerful pipeline capable of processing training <em>and</em> testing data. Now that you understand the data and know all of the tools you need, you can essentially solve the whole problem in a relatively small number of lines of code. Wow!</p>\n",
    "<p>All you need to do is add the <code>HashingVectorizer</code> step to the pipeline to replace the <code>CountVectorizer</code> step.</p>\n",
    "<p>The parameters <code>non_negative=True</code>, <code>norm=None</code>, and  <code>binary=False</code> make the <code>HashingVectorizer</code> perform similarly to the default settings on the <code>CountVectorizer</code> so you can just replace one with the other.</p></div></div>"
   ]
  },
  {
   "cell_type": "code",
   "execution_count": 90,
   "metadata": {},
   "outputs": [],
   "source": [
    "# Import the hashing vectorizer\n",
    "from sklearn.feature_extraction.text import HashingVectorizer\n",
    "\n",
    "# Instantiate the winning model pipeline: pl\n",
    "pl = Pipeline([\n",
    "        ('union', FeatureUnion(\n",
    "            transformer_list = [\n",
    "                ('numeric_features', Pipeline([\n",
    "                    ('selector', get_numeric_data),\n",
    "                    ('imputer', Imputer())\n",
    "                ])),\n",
    "                ('text_features', Pipeline([\n",
    "                    ('selector', get_text_data),\n",
    "                    ('vectorizer', HashingVectorizer(token_pattern=TOKENS_ALPHANUMERIC,\n",
    "                                                     non_negative=True, norm=None, binary=False,\n",
    "                                                     ngram_range=(1,2))),\n",
    "                    ('dim_red', SelectKBest(chi2, chi_k))\n",
    "                ]))\n",
    "             ]\n",
    "        )),\n",
    "        ('int', SparseInteractions(degree=2)),\n",
    "        ('scale', MaxAbsScaler()),\n",
    "        ('clf', OneVsRestClassifier(LogisticRegression()))\n",
    "    ])"
   ]
  },
  {
   "cell_type": "markdown",
   "metadata": {},
   "source": [
    "<div class=\"dc-u-p-24\"><h1 class=\"dc-h3\">What tactics got the winner the best score?</h1><div class=\"\"><p><p>Now you've implemented the winning model from start to finish. If you want to use this model locally, <a href=\"https://github.com/datacamp/course-resources-ml-with-experts-budgets/blob/master/notebooks/1.0-full-model.ipynb\" target=\"_blank\" rel=\"noopener noreferrer\">this Jupyter notebook</a> contains all the code you've worked so hard on. You can now take that code and build on it!</p>\n",
    "<p>Let's take a moment to reflect on why this model did so well. What tactics got the winner the best score?</p></div></div>"
   ]
  },
  {
   "cell_type": "markdown",
   "metadata": {},
   "source": [
    "##### The winner used skillful NLP, efficient computation, and simple but powerful stats tricks to master the budget data."
   ]
  },
  {
   "cell_type": "code",
   "execution_count": null,
   "metadata": {},
   "outputs": [],
   "source": []
  }
 ],
 "metadata": {
  "kernelspec": {
   "display_name": "Python 3",
   "language": "python",
   "name": "python3"
  },
  "language_info": {
   "codemirror_mode": {
    "name": "ipython",
    "version": 3
   },
   "file_extension": ".py",
   "mimetype": "text/x-python",
   "name": "python",
   "nbconvert_exporter": "python",
   "pygments_lexer": "ipython3",
   "version": "3.6.5"
  }
 },
 "nbformat": 4,
 "nbformat_minor": 2
}
