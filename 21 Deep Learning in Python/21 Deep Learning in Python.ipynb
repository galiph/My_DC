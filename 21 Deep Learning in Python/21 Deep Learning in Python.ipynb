{
 "cells": [
  {
   "cell_type": "markdown",
   "metadata": {},
   "source": [
    "# <font color=blue>Deep Learning in Python</font> \n",
    "\n",
    "Deep learning is the machine learning technique behind the most exciting capabilities in diverse areas like robotics, natural language processing, image recognition and artificial intelligence (including the famous AlphaGo). In this course, you'll gain hands-on, practical knowledge of how to use deep learning with Keras 2.0, the latest version of a cutting edge library for deep learning in Python."
   ]
  },
  {
   "cell_type": "markdown",
   "metadata": {},
   "source": [
    "## <font color=red>01 - Basics of deep learning and neural networks   </font> \n",
    "\n",
    " In this chapter, you'll become familiar with the fundamental concepts and terminology used in deep learning, and understand why deep learning techniques are so powerful today. You'll build simple neural networks yourself and generate predictions with them. "
   ]
  },
  {
   "cell_type": "markdown",
   "metadata": {},
   "source": [
    "<div class=\"dc-u-p-24\"><h1 class=\"dc-h3\">Comparing neural network models to classical regression models</h1><div class=\"\"><p><p>Which of the models in the diagrams has greater ability to account for interactions?</p>\n",
    "<p><img src=\"https://s3.amazonaws.com/assets.datacamp.com/production/course_3524/datasets/ch1ex2.png\" alt=\"Ch1Ex2\"></p></div></div>\n",
    "\n",
    "Model 2"
   ]
  },
  {
   "cell_type": "markdown",
   "metadata": {},
   "source": [
    "<div class=\"exercise--assignment exercise--typography\"><h1 class=\"exercise--title\">Coding the forward propagation algorithm</h1><div class=\"\"><p><p>In this exercise, you'll write code to do forward propagation (prediction) for your first neural network:</p>\n",
    "<p><img src=\"https://s3.amazonaws.com/assets.datacamp.com/production/course_3524/datasets/1_4.png\" alt=\"Ch1Ex4\"></p>\n",
    "<p>Each data point is a customer. The first input is how many accounts they have, and the second input is how many children they have. The model will predict how many transactions the user makes in the next year. You will use this data throughout the first 2 chapters of this course. </p>\n",
    "<p>The input data has been pre-loaded as <code>input_data</code>, and the weights are available in a dictionary called <code>weights</code>. The array of weights for the first node in the hidden layer are in <code>weights['node_0']</code>,\n",
    "and the array of weights for the second node in the hidden layer are in <code>weights['node_1']</code>.</p>\n",
    "<p>The weights feeding into the output node are available in <code>weights['output']</code>.</p>\n",
    "<p>NumPy will be pre-imported for you as <code>np</code> in all exercises.</p></div></div>"
   ]
  },
  {
   "cell_type": "markdown",
   "metadata": {},
   "source": [
    "<div class=\"exercise--instructions__content\"><ul>\n",
    "<li>Calculate the value in node 0 by multiplying <code>input_data</code> by its weights <code>weights['node_0']</code> and computing their sum. This is the 1st node in the hidden layer.</li>\n",
    "<li>Calculate the value in node 1 using <code>input_data</code> and <code>weights['node_1']</code>. This is the 2nd node in the hidden layer.</li>\n",
    "<li>Put the hidden layer values into an array. This has been done for you.</li>\n",
    "<li>Generate the prediction by multiplying <code>hidden_layer_outputs</code> by <code>weights['output']</code> and computing their sum. </li>\n",
    "</ul></div>"
   ]
  },
  {
   "cell_type": "code",
   "execution_count": 27,
   "metadata": {},
   "outputs": [],
   "source": [
    "import pandas as pd\n",
    "import numpy as np\n",
    "\n",
    "import warnings\n",
    "warnings.filterwarnings('ignore')"
   ]
  },
  {
   "cell_type": "code",
   "execution_count": 2,
   "metadata": {},
   "outputs": [],
   "source": [
    "input_data = np.array([3,5])\n",
    "weights = {'node_0': np.array([2, 4]), 'node_1': np.array([ 4, -5]), 'output': np.array([2, 7])}"
   ]
  },
  {
   "cell_type": "code",
   "execution_count": 3,
   "metadata": {},
   "outputs": [
    {
     "name": "stdout",
     "output_type": "stream",
     "text": [
      "-39\n"
     ]
    }
   ],
   "source": [
    "# Calculate node 0 value: node_0_value\n",
    "node_0_value = (input_data * weights['node_0']).sum()\n",
    "\n",
    "# Calculate node 1 value: node_1_value\n",
    "node_1_value = (input_data * weights['node_1']).sum()\n",
    "\n",
    "# Put node values into array: hidden_layer_outputs\n",
    "hidden_layer_outputs = np.array([node_0_value, node_1_value])\n",
    "\n",
    "# Calculate output: output\n",
    "output = (hidden_layer_outputs * weights['output']).sum()\n",
    "\n",
    "# Print output\n",
    "print(output)"
   ]
  },
  {
   "cell_type": "code",
   "execution_count": 4,
   "metadata": {},
   "outputs": [
    {
     "data": {
      "text/plain": [
       "{'node_0': array([2, 4]), 'node_1': array([ 4, -5]), 'output': array([2, 7])}"
      ]
     },
     "execution_count": 4,
     "metadata": {},
     "output_type": "execute_result"
    }
   ],
   "source": [
    "weights"
   ]
  },
  {
   "cell_type": "markdown",
   "metadata": {},
   "source": [
    "<div class=\"exercise--assignment exercise--typography\"><h1 class=\"exercise--title\">The Rectified Linear Activation Function</h1><div class=\"\"><p><p>As Dan explained to you in the video, an \"activation function\" is a function applied at each node. It converts the node's input into some output. </p>\n",
    "<p>The rectified linear activation function (called <em>ReLU</em>) has been shown to lead to very high-performance networks.\n",
    "This function takes a single number as an input, returning 0 if the input is negative, and the input if the input is positive.  </p>\n",
    "<p>Here are some examples:<br>\n",
    "<strong>relu(3) = 3</strong> <br>\n",
    "<strong>relu(-3) = 0</strong> <br></p></div></div>"
   ]
  },
  {
   "cell_type": "code",
   "execution_count": 5,
   "metadata": {},
   "outputs": [
    {
     "name": "stdout",
     "output_type": "stream",
     "text": [
      "52\n"
     ]
    }
   ],
   "source": [
    "def relu(input):\n",
    "    '''Define your relu activation function here'''\n",
    "    # Calculate the value for the output of the relu function: output\n",
    "    output = max(input, 0)\n",
    "    \n",
    "    # Return the value just calculated\n",
    "    return(output)\n",
    "\n",
    "# Calculate node 0 value: node_0_output\n",
    "node_0_input = (input_data * weights['node_0']).sum()\n",
    "node_0_output = relu(node_0_input)\n",
    "\n",
    "# Calculate node 1 value: node_1_output\n",
    "node_1_input = (input_data * weights['node_1']).sum()\n",
    "node_1_output = relu(node_1_input)\n",
    "\n",
    "# Put node values into array: hidden_layer_outputs\n",
    "hidden_layer_outputs = np.array([node_0_output, node_1_output])\n",
    "\n",
    "# Calculate model output (do not apply relu)\n",
    "model_output = (hidden_layer_outputs * weights['output']).sum()\n",
    "\n",
    "# Print model output\n",
    "print(model_output)"
   ]
  },
  {
   "cell_type": "markdown",
   "metadata": {},
   "source": [
    " You predicted 52 transactions. Without this activation function, you would have predicted a negative number! The real power of activation functions will come soon when you start tuning model weights."
   ]
  },
  {
   "cell_type": "markdown",
   "metadata": {},
   "source": [
    "<div class=\"exercise--assignment exercise--typography\"><h1 class=\"exercise--title\">Applying the network to many observations/rows of data</h1><div class=\"\"><p>You'll now define a function called <code>predict_with_network()</code> which will generate predictions for multiple data observations, which are pre-loaded as <code>input_data</code>. As before, <code>weights</code> are also pre-loaded. In addition, the <code>relu()</code> function you defined in the previous exercise has been pre-loaded.</p></div></div>"
   ]
  },
  {
   "cell_type": "markdown",
   "metadata": {},
   "source": [
    "<div class=\"exercise--instructions__content\"><ul>\n",
    "<li>Define a function called <code>predict_with_network()</code> that accepts two arguments - <code>input_data_row</code> and <code>weights</code> - and returns a prediction from the network as the output.</li>\n",
    "<li>Calculate the input and output values for each node, storing them as: <code>node_0_input</code>, <code>node_0_output</code>, <code>node_1_input</code>, and <code>node_1_output</code>.<ul>\n",
    "<li>To calculate the input value of a node, multiply the relevant arrays together and compute their sum. </li>\n",
    "<li>To calculate the output value of a node, apply the <code>relu()</code> function to the input value of the node.</li></ul></li>\n",
    "<li>Calculate the model output by calculating <code>input_to_final_layer</code> and <code>model_output</code> in the same ay you calculated the input and output values for the nodes.</li>\n",
    "<li>Use a <code>for</code> loop to iterate over <code>input_data</code>:<ul>\n",
    "<li>Use your <code>predict_with_network()</code> to generate predictions for each row of the <code>input_data</code> - <code>input_data_row</code>. Append each prediction to <code>results</code>.</li></ul></li>\n",
    "</ul></div>"
   ]
  },
  {
   "cell_type": "code",
   "execution_count": 6,
   "metadata": {},
   "outputs": [],
   "source": [
    "input_data = [np.array([3, 5]), np.array([ 1, -1]), np.array([0, 0]), np.array([8, 4])]"
   ]
  },
  {
   "cell_type": "code",
   "execution_count": 7,
   "metadata": {},
   "outputs": [
    {
     "name": "stdout",
     "output_type": "stream",
     "text": [
      "[52, 63, 0, 148]\n"
     ]
    }
   ],
   "source": [
    "# Define predict_with_network()\n",
    "def predict_with_network(input_data_row, weights):\n",
    "\n",
    "    # Calculate node 0 value\n",
    "    node_0_input = (input_data_row * weights['node_0']).sum()\n",
    "    node_0_output = relu(node_0_input)\n",
    "\n",
    "    # Calculate node 1 value\n",
    "    node_1_input = (input_data_row * weights['node_1']).sum()\n",
    "    node_1_output = relu(node_1_input)\n",
    "\n",
    "    # Put node values into array: hidden_layer_outputs\n",
    "    hidden_layer_outputs = np.array([node_0_output, node_1_output])\n",
    "    \n",
    "    # Calculate model output\n",
    "    input_to_final_layer = (hidden_layer_outputs * weights['output']).sum()\n",
    "    model_output = relu(input_to_final_layer)\n",
    "    \n",
    "    # Return model output\n",
    "    return(model_output)\n",
    "\n",
    "\n",
    "# Create empty list to store prediction results\n",
    "results = []\n",
    "for input_data_row in input_data:\n",
    "    # Append prediction to results\n",
    "    results.append(predict_with_network(input_data_row, weights))\n",
    "\n",
    "# Print results\n",
    "print(results)"
   ]
  },
  {
   "attachments": {},
   "cell_type": "markdown",
   "metadata": {},
   "source": [
    "<img src=\"./pics/01.png\" width=\"600\">\n",
    "<img src=\"./pics/02.png\" width=\"600\">\n",
    "<img src=\"./pics/03.png\" width=\"600\">\n"
   ]
  },
  {
   "cell_type": "markdown",
   "metadata": {},
   "source": [
    "<div class=\"dc-u-p-24\"><h1 class=\"dc-h3\">Forward propagation in a deeper network</h1><div class=\"\"><p><p>You now have a model with 2 hidden layers.  The values for an input data point are shown inside the input nodes. The weights are shown on the edges/lines. What prediction would this model make on this data point?</p>\n",
    "<p>Assume the activation function at each node is the <em>identity function</em>. That is, each node's output will be the same as its input. So the value of the bottom node in the first hidden layer is -1, and not 0, as it would be if the ReLU activation function was used.</p>\n",
    "<p><img src=\"https://s3.amazonaws.com/assets.datacamp.com/production/course_3524/datasets/ch1ex9.png\" alt=\"Ch1Ex9\"></p></div></div>\n",
    "\n",
    "0"
   ]
  },
  {
   "cell_type": "markdown",
   "metadata": {},
   "source": [
    "<div class=\"dc-u-p-24\"><h1 class=\"dc-h3\">Forward propagation in a deeper network</h1><div class=\"\"><p><p>You now have a model with 2 hidden layers.  The values for an input data point are shown inside the input nodes. The weights are shown on the edges/lines. What prediction would this model make on this data point?</p>\n",
    "<p>Assume the activation function at each node is the <em>identity function</em>. That is, each node's output will be the same as its input. So the value of the bottom node in the first hidden layer is -1, and not 0, as it would be if the ReLU activation function was used.</p>\n",
    "<p><img src=\"https://s3.amazonaws.com/assets.datacamp.com/production/course_3524/datasets/ch1ex9.png\" alt=\"Ch1Ex9\"></p></div></div>\n",
    "\n",
    "0"
   ]
  },
  {
   "cell_type": "markdown",
   "metadata": {},
   "source": [
    "<div class=\"exercise--assignment exercise--typography\"><h1 class=\"exercise--title\">Multi-layer neural networks</h1><div class=\"\"><p><p>In this exercise, you'll write code to do forward propagation for a neural network with 2 hidden layers. Each hidden layer has two nodes. The input data has been preloaded as <code>input_data</code>. The nodes in the first hidden layer are called <code>node_0_0</code> and <code>node_0_1</code>. Their weights are pre-loaded as <code>weights['node_0_0']</code> and <code>weights['node_0_1']</code> respectively.</p>\n",
    "<p>The nodes in the second hidden layer are called <code>node_1_0</code> and <code>node_1_1</code>. Their weights are pre-loaded as <code>weights['node_1_0']</code> and <code>weights['node_1_1']</code> respectively.</p>\n",
    "<p>We then create a model output from the hidden nodes using weights pre-loaded as <code>weights['output']</code>.</p>\n",
    "<p><img src=\"https://s3.amazonaws.com/assets.datacamp.com/production/course_3524/datasets/ch1ex10.png\" alt=\"Ch1Ex10\"></p></div></div>"
   ]
  },
  {
   "cell_type": "code",
   "execution_count": 8,
   "metadata": {},
   "outputs": [],
   "source": [
    "input_data = np.array([3,5])\n",
    "weights = {'node_0_0': np.array([2, 4]), 'node_0_1': np.array([ 4, -5]), 'node_1_0': np.array([-1, 2]),\n",
    "           'node_1_1': np.array([1, 2]), 'output': np.array([2, 7])}"
   ]
  },
  {
   "cell_type": "code",
   "execution_count": 9,
   "metadata": {},
   "outputs": [
    {
     "name": "stdout",
     "output_type": "stream",
     "text": [
      "182\n"
     ]
    }
   ],
   "source": [
    "def predict_with_network(input_data):\n",
    "    # Calculate node 0 in the first hidden layer\n",
    "    node_0_0_input = (input_data * weights['node_0_0']).sum()\n",
    "    node_0_0_output = relu(node_0_0_input)\n",
    "\n",
    "    # Calculate node 1 in the first hidden layer\n",
    "    node_0_1_input = (input_data * weights['node_0_1']).sum()\n",
    "    node_0_1_output = relu(node_0_1_input)\n",
    "\n",
    "    # Put node values into array: hidden_0_outputs\n",
    "    hidden_0_outputs = np.array([node_0_0_output, node_0_1_output])\n",
    "    \n",
    "    # Calculate node 0 in the second hidden layer\n",
    "    node_1_0_input = (hidden_0_outputs * weights['node_1_0']).sum()\n",
    "    node_1_0_output = relu(node_1_0_input)\n",
    "\n",
    "    # Calculate node 1 in the second hidden layer\n",
    "    node_1_1_input = (hidden_0_outputs * weights['node_1_1']).sum()\n",
    "    node_1_1_output = relu(node_1_1_input)\n",
    "\n",
    "    # Put node values into array: hidden_1_outputs\n",
    "    hidden_1_outputs = np.array([node_1_0_output, node_1_1_output])\n",
    "\n",
    "    # Calculate model output: model_output\n",
    "    model_output = (hidden_1_outputs * weights['output']).sum()\n",
    "    \n",
    "    # Return model_output\n",
    "    return(model_output)\n",
    "\n",
    "output = predict_with_network(input_data)\n",
    "print(output)"
   ]
  },
  {
   "cell_type": "markdown",
   "metadata": {},
   "source": [
    "<div class=\"dc-u-p-24\"><h1 class=\"dc-h3\">Representations are learned</h1><div class=\"\"><p><p>How are the weights that determine the features/interactions in Neural Networks created?</p></div></div>\n",
    "\n",
    "**The model training process sets them to optimize predictive accuracy.**"
   ]
  },
  {
   "cell_type": "markdown",
   "metadata": {},
   "source": [
    "<div class=\"dc-u-p-24\"><h1 class=\"dc-h3\">Levels of representation</h1><div class=\"\"><p><p>Which layers of a model capture more complex or \"higher level\" interactions?</p></div></div>\n",
    "\n",
    "**The last layers capture the most complex interactions.**"
   ]
  },
  {
   "cell_type": "markdown",
   "metadata": {},
   "source": [
    "## <font color=red>02 - Optimizing a neural network with backward propagation   </font> \n",
    "\n",
    " Here, you'll learn how to optimize the predictions generated by your neural networks. You'll do this using a method called backward propagation, which is one of the most important techniques in deep learning. Understanding how it works will give you a strong foundation to build from in the second half of the course. "
   ]
  },
  {
   "cell_type": "markdown",
   "metadata": {},
   "source": [
    "<img src=\"./pics/04.png\" width=\"600\">\n",
    "<img src=\"./pics/05.png\" width=\"600\">\n",
    "<img src=\"./pics/06.png\" width=\"600\">\n",
    "<img src=\"./pics/07.png\" width=\"600\">\n",
    "<img src=\"./pics/08.png\" width=\"600\">\n",
    "<img src=\"./pics/09.png\" width=\"600\">\n",
    "<img src=\"./pics/10.png\" width=\"600\">\n",
    "<img src=\"./pics/11.png\" width=\"600\">\n",
    "<img src=\"./pics/12.png\" width=\"600\">"
   ]
  },
  {
   "cell_type": "markdown",
   "metadata": {},
   "source": [
    "<div class=\"dc-u-p-24\"><h1 class=\"dc-h3\">Calculating model errors</h1><div class=\"\"><p><p>For the exercises in this chapter, you'll continue working with the network to predict transactions for a bank.</p>\n",
    "<p>What is the error (predicted - actual) for the following network when the input data is [3, 2] and the actual value of the target (what you are trying to predict) is 5? It may be helpful to get out a pen and piece of paper to calculate these values.</p>\n",
    "<p><img src=\"https://s3.amazonaws.com/assets.datacamp.com/production/course_3524/datasets/ch2_ex2_3.png\" alt=\"Ch2Ex2\"></p></div></div>\n",
    "\n",
    "11"
   ]
  },
  {
   "cell_type": "markdown",
   "metadata": {},
   "source": [
    "<div class=\"dc-u-p-24\"><h1 class=\"dc-h3\">Understanding how weights change model accuracy</h1><div class=\"\"><p><p>Imagine you have to make a prediction for a single data point. The actual value of the target is 7. The weight going from <code>node_0</code> to the output is 2, as shown below.  If you increased it slightly, changing it to 2.01, would the predictions become more accurate, less accurate, or stay the same?</p>\n",
    "<p><img src=\"https://s3.amazonaws.com/assets.datacamp.com/production/course_3524/datasets/ch2_ex2_3.png\" alt=\"Ch2Ex3\"></p></div></div>\n",
    "\n",
    "Less accurate."
   ]
  },
  {
   "cell_type": "markdown",
   "metadata": {},
   "source": [
    "<div class=\"exercise--assignment exercise--typography\"><h1 class=\"exercise--title\">Coding how weight changes affect accuracy</h1><div class=\"\"><p><p>Now you'll get to change weights in a real network and see how they affect model accuracy!</p>\n",
    "<p>Have a look at the following neural network:\n",
    "<img src=\"https://s3.amazonaws.com/assets.datacamp.com/production/course_3524/datasets/ch2ex4.png\" alt=\"Ch2Ex4\"></p>\n",
    "<p>Its weights have been pre-loaded as <code>weights_0</code>. Your task in this exercise is to update a <strong>single</strong> weight in <code>weights_0</code> to create <code>weights_1</code>, which gives a perfect prediction (in which the predicted value is equal to <code>target_actual</code>: 3). </p>\n",
    "<p>Use a pen and paper if necessary to experiment with different combinations. You'll use the <code>predict_with_network()</code> function, which takes an array of data as the first argument, and weights as the second argument.</p></div></div>"
   ]
  },
  {
   "cell_type": "code",
   "execution_count": 10,
   "metadata": {},
   "outputs": [],
   "source": [
    "# Define predict_with_network()\n",
    "def predict_with_network(input_data_row, weights):\n",
    "\n",
    "    # Calculate node 0 value\n",
    "    node_0_input = (input_data_row * weights['node_0']).sum()\n",
    "    node_0_output = relu(node_0_input)\n",
    "\n",
    "    # Calculate node 1 value\n",
    "    node_1_input = (input_data_row * weights['node_1']).sum()\n",
    "    node_1_output = relu(node_1_input)\n",
    "\n",
    "    # Put node values into array: hidden_layer_outputs\n",
    "    hidden_layer_outputs = np.array([node_0_output, node_1_output])\n",
    "    \n",
    "    # Calculate model output\n",
    "    input_to_final_layer = (hidden_layer_outputs * weights['output']).sum()\n",
    "    model_output = relu(input_to_final_layer)\n",
    "    \n",
    "    # Return model output\n",
    "    return(model_output)"
   ]
  },
  {
   "cell_type": "code",
   "execution_count": 11,
   "metadata": {},
   "outputs": [
    {
     "name": "stdout",
     "output_type": "stream",
     "text": [
      "6\n",
      "0\n"
     ]
    }
   ],
   "source": [
    "# The data point you will make a prediction for\n",
    "input_data = np.array([0, 3])\n",
    "\n",
    "# Sample weights\n",
    "weights_0 = {'node_0': [2, 1],\n",
    "             'node_1': [1, 2],\n",
    "             'output': [1, 1]\n",
    "            }\n",
    "\n",
    "# The actual target value, used to calculate the error\n",
    "target_actual = 3\n",
    "\n",
    "# Make prediction using original weights\n",
    "model_output_0 = predict_with_network(input_data, weights_0)\n",
    "\n",
    "# Calculate error: error_0\n",
    "error_0 = model_output_0 - target_actual\n",
    "\n",
    "# Create weights that cause the network to make perfect prediction (3): weights_1\n",
    "weights_1 = {'node_0': [2, 1],\n",
    "             'node_1': [1, 1],\n",
    "             'output': [1, 0]\n",
    "            }\n",
    "\n",
    "# Make prediction using new weights: model_output_1\n",
    "model_output_1 = predict_with_network(input_data, weights_1)\n",
    "\n",
    "# Calculate error: error_1\n",
    "error_1 = model_output_1 - target_actual\n",
    "\n",
    "# Print error_0 and error_1\n",
    "print(error_0)\n",
    "print(error_1)"
   ]
  },
  {
   "cell_type": "markdown",
   "metadata": {},
   "source": [
    "The network now generates a perfect prediction with an error of 0."
   ]
  },
  {
   "cell_type": "markdown",
   "metadata": {},
   "source": [
    "<div class=\"exercise--assignment exercise--typography\"><h1 class=\"exercise--title\">Scaling up to multiple data points</h1><div class=\"\"><p><p>You've seen how different weights will have different accuracies on a single prediction. But usually, you'll want to measure model accuracy on many points. You'll now write code to compare model accuracies for two different sets of weights, which have been stored as <code>weights_0</code> and <code>weights_1</code>.  </p>\n",
    "<p><code>input_data</code> is a list of arrays.  Each item in that list contains the data to make a single prediction.\n",
    "<code>target_actuals</code> is a list of numbers. Each item in that list is the actual value we are trying to predict.</p>\n",
    "<p>In this exercise, you'll use the <code>mean_squared_error()</code> function from <code>sklearn.metrics</code>. It takes the true values and the predicted values as arguments.</p>\n",
    "<p>You'll also use the preloaded <code>predict_with_network()</code> function, which takes an array of data as the first argument, and weights as the second argument.</p></div></div>"
   ]
  },
  {
   "cell_type": "code",
   "execution_count": 12,
   "metadata": {},
   "outputs": [],
   "source": [
    "input_data = [np.array([0, 3]), np.array([1, 2]), np.array([-1, -2]), np.array([4, 0])]"
   ]
  },
  {
   "cell_type": "code",
   "execution_count": 13,
   "metadata": {},
   "outputs": [],
   "source": [
    "weights_0 = {'node_0': np.array([2, 1]), 'node_1': np.array([1, 2]), 'output': np.array([1, 1])}\n",
    "weights_1 = {'node_0': np.array([2, 1]), 'node_1': np.array([1. , 1.5]), 'output': np.array([1. , 1.5])}\n",
    "target_actuals = np.array([1, 3, 5, 7])"
   ]
  },
  {
   "cell_type": "code",
   "execution_count": 14,
   "metadata": {},
   "outputs": [
    {
     "name": "stdout",
     "output_type": "stream",
     "text": [
      "Mean squared error with weights_0: 37.500000\n",
      "Mean squared error with weights_1: 49.890625\n"
     ]
    }
   ],
   "source": [
    "from sklearn.metrics import mean_squared_error\n",
    "\n",
    "# Create model_output_0 \n",
    "model_output_0 = []\n",
    "# Create model_output_1\n",
    "model_output_1 = []\n",
    "\n",
    "# Loop over input_data\n",
    "for row in input_data:\n",
    "    # Append prediction to model_output_0\n",
    "    model_output_0.append(predict_with_network(row, weights_0))\n",
    "    \n",
    "    # Append prediction to model_output_1\n",
    "    model_output_1.append(predict_with_network(row,weights_1))\n",
    "\n",
    "# Calculate the mean squared error for model_output_0: mse_0\n",
    "mse_0 = mean_squared_error(target_actuals, model_output_0)\n",
    "\n",
    "# Calculate the mean squared error for model_output_1: mse_1\n",
    "mse_1 = mean_squared_error(target_actuals, model_output_1)\n",
    "\n",
    "# Print mse_0 and mse_1\n",
    "print(\"Mean squared error with weights_0: %f\" %mse_0)\n",
    "print(\"Mean squared error with weights_1: %f\" %mse_1)\n"
   ]
  },
  {
   "cell_type": "markdown",
   "metadata": {},
   "source": [
    "<p class=\"\">Excellent work! It looks like <code>model_output_1</code> has a higher mean squared error.</p>"
   ]
  },
  {
   "attachments": {},
   "cell_type": "markdown",
   "metadata": {},
   "source": [
    "<img src=\"./pics/13.png\" width=\"600\">\n",
    "<img src=\"./pics/14.png\" width=\"600\">\n",
    "<img src=\"./pics/15.png\" width=\"600\">\n",
    "<img src=\"./pics/16.png\" width=\"600\">\n",
    "<img src=\"./pics/17.png\" width=\"600\">"
   ]
  },
  {
   "cell_type": "markdown",
   "metadata": {},
   "source": [
    "<div class=\"exercise--assignment exercise--typography\"><h1 class=\"exercise--title\">Calculating slopes</h1><div class=\"\"><p><p>You're now going to practice calculating slopes. When plotting the mean-squared error loss function against predictions, the slope is `2 * x * (y-xb)`, or `2 * input_data * error`. Note that <code>x</code> and <code>b</code> may have multiple numbers (<code>x</code> is a vector for each data point, and <code>b</code> is a vector).  In this case, the output will also be a vector, which is exactly what you want. </p>\n",
    "<p>You're ready to write the code to calculate this slope while using a single data point. You'll use pre-defined weights called <code>weights</code> as well as data for a single point called <code>input_data</code>.  The actual value of the target you want to predict is stored in <code>target</code>.</p></div></div>"
   ]
  },
  {
   "cell_type": "code",
   "execution_count": 15,
   "metadata": {},
   "outputs": [],
   "source": [
    "weights = np.array([0, 2, 1])\n",
    "input_data = np.array([1, 2, 3])\n",
    "target = 0"
   ]
  },
  {
   "cell_type": "code",
   "execution_count": 16,
   "metadata": {},
   "outputs": [
    {
     "name": "stdout",
     "output_type": "stream",
     "text": [
      "[-14 -28 -42]\n"
     ]
    }
   ],
   "source": [
    "# Calculate the predictions: preds\n",
    "preds = (weights * input_data).sum()\n",
    "\n",
    "# Calculate the error: error\n",
    "error = target - preds\n",
    "\n",
    "# Calculate the slope: slope\n",
    "slope = 2 * input_data * error\n",
    "\n",
    "# Print the slope\n",
    "print(slope)"
   ]
  },
  {
   "cell_type": "markdown",
   "metadata": {},
   "source": [
    "<div class=\"exercise--assignment exercise--typography\"><h1 class=\"exercise--title\">Improving model weights</h1><div class=\"\"><p><p>Hurray!  You've just calculated the slopes you need.  Now it's time to use those slopes to improve your model.  If you add the slopes to your weights, you will move in the right direction.  However, it's possible to move too far in that direction. So you will want to take a small step in that direction first, using a lower learning rate, and verify that the model is improving.</p>\n",
    "<p>The weights have been pre-loaded as <code>weights</code>, the actual value of the target as <code>target</code>, and the input data as <code>input_data</code>. The predictions from the initial weights are stored as <code>preds</code>.</p></div></div>"
   ]
  },
  {
   "cell_type": "code",
   "execution_count": 17,
   "metadata": {},
   "outputs": [
    {
     "name": "stdout",
     "output_type": "stream",
     "text": [
      "7\n",
      "5.04\n"
     ]
    }
   ],
   "source": [
    "# Set the learning rate: learning_rate\n",
    "learning_rate = 0.01\n",
    "\n",
    "# Calculate the predictions: preds\n",
    "preds = (weights * input_data).sum()\n",
    "\n",
    "# Calculate the error: error\n",
    "error = preds - target\n",
    "\n",
    "# Calculate the slope: slope\n",
    "slope = 2 * input_data * error\n",
    "\n",
    "# Update the weights: weights_updated\n",
    "weights_updated = weights - learning_rate * slope\n",
    "\n",
    "# Get updated predictions: preds_updated\n",
    "preds_updated = (weights_updated * input_data).sum()\n",
    "\n",
    "# Calculate updated error: error_updated\n",
    "error_updated = preds_updated - target\n",
    "\n",
    "# Print the original error\n",
    "print(error)\n",
    "\n",
    "# Print the updated error\n",
    "print(error_updated)"
   ]
  },
  {
   "cell_type": "markdown",
   "metadata": {},
   "source": [
    "<div class=\"exercise--assignment exercise--typography\"><h1 class=\"exercise--title\">Making multiple updates to weights</h1><div class=\"\"><p><p>You're now going to make multiple updates so you can dramatically improve your model weights, and see how the predictions improve with each update. </p>\n",
    "<p>To keep your code clean, there is a pre-loaded <code>get_slope()</code> function that takes <code>input_data</code>, <code>target</code>, and <code>weights</code> as arguments. There is also a <code>get_mse()</code> function that takes the same arguments.  The <code>input_data</code>, <code>target</code>, and <code>weights</code> have been pre-loaded. </p>\n",
    "<p>This network does not have any hidden layers, and it goes directly from the input (with 3 nodes) to an output node.  Note that <code>weights</code> is a single array.</p>\n",
    "<p>We have also pre-loaded <code>matplotlib.pyplot</code>, and the error history will be plotted after you have done your gradient descent steps.</p></div></div>"
   ]
  },
  {
   "cell_type": "code",
   "execution_count": 18,
   "metadata": {},
   "outputs": [],
   "source": [
    "import matplotlib.pyplot as plt\n",
    "weights = np.array([0,2,1])"
   ]
  },
  {
   "cell_type": "code",
   "execution_count": 19,
   "metadata": {},
   "outputs": [],
   "source": [
    "def get_slope(input_data, target, weights):\n",
    "    preds = (weights * input_data).sum()\n",
    "    error = preds - target\n",
    "    slope = 2 * input_data * error\n",
    "    return slope\n",
    "\n",
    "def get_mse(input_data, target, weights):\n",
    "    preds = (weights * input_data).sum()\n",
    "    error_updated = preds - target\n",
    "    return error_updated"
   ]
  },
  {
   "cell_type": "code",
   "execution_count": 20,
   "metadata": {
    "scrolled": false
   },
   "outputs": [
    {
     "data": {
      "image/png": "[encoded data removed]",
      "text/plain": [
       "<Figure size 432x288 with 1 Axes>"
      ]
     },
     "metadata": {},
     "output_type": "display_data"
    }
   ],
   "source": [
    "n_updates = 20\n",
    "mse_hist = []\n",
    "\n",
    "# Iterate over the number of updates\n",
    "for i in range(n_updates):\n",
    "    # Calculate the slope: slope\n",
    "    slope = get_slope(input_data, target, weights)\n",
    "\n",
    "    # Update the weights: weights\n",
    "    weights = weights - 0.01 * slope\n",
    "    \n",
    "    # Calculate mse with new weights: mse\n",
    "    mse = get_mse(input_data, target, weights)\n",
    "    # Append the mse to mse_hist\n",
    "    mse_hist.append(mse)\n",
    "\n",
    "# Plot the mse history\n",
    "plt.plot(mse_hist)\n",
    "plt.xlabel('Iterations')\n",
    "plt.ylabel('Mean Squared Error')\n",
    "plt.show()"
   ]
  },
  {
   "attachments": {},
   "cell_type": "markdown",
   "metadata": {},
   "source": [
    "<img src=\"./pics/18.png\" width=\"600\">\n",
    "<img src=\"./pics/19.png\" width=\"600\">\n",
    "<img src=\"./pics/20.png\" width=\"600\">\n",
    "<img src=\"./pics/21.png\" width=\"600\">"
   ]
  },
  {
   "cell_type": "markdown",
   "metadata": {},
   "source": [
    "### The relationship between forward and backward propagation\n",
    "\n",
    "If you have gone through 4 iterations of calculating slopes (using backward propagation) and then updated weights, how many times must you have done forward propagation?\n",
    "\n",
    "__4__"
   ]
  },
  {
   "cell_type": "markdown",
   "metadata": {},
   "source": [
    "### Thinking about backward propagation\n",
    "\n",
    "If your predictions were all exactly right, and your errors were all exactly 0, the slope of the loss function with respect to your predictions would also be 0. In that circumstance, which of the following statements would be correct?\n",
    "\n",
    "__The updates to all weights in the network would also be 0.__"
   ]
  },
  {
   "attachments": {},
   "cell_type": "markdown",
   "metadata": {},
   "source": [
    "<img src=\"./pics/22.png\" width=\"600\">\n",
    "<img src=\"./pics/23.png\" width=\"600\">"
   ]
  },
  {
   "cell_type": "markdown",
   "metadata": {},
   "source": [
    "<div class=\"dc-u-p-24\"><h1 class=\"dc-h3\">A round of backpropagation</h1><div class=\"\"><p><p>In the network shown below, we have done forward propagation, and node values calculated as part of forward propagation are shown in white. The weights are shown in black.  Layers after the question mark show the slopes calculated as part of back-prop, rather than the forward-prop values. Those slope values are shown in purple.  </p>\n",
    "<p>This network again uses the ReLU activation function, so the slope of the activation function is 1 for any node receiving a positive value as input. Assume the node being examined had a positive value (so the activation function's slope is 1).</p>\n",
    "<p><img src=\"https://s3.amazonaws.com/assets.datacamp.com/production/course_3524/datasets/ch2ex14_1.png\" alt=\"Ch2Ex14_1\"></p>\n",
    "<p>What is the slope needed to update the weight with the question mark?</p>\n",
    "<p><img src=\"https://s3.amazonaws.com/assets.datacamp.com/production/course_3524/datasets/ch2ex14_2.png\" alt=\"Ch2Ex14_2\"></p></div></div>\n",
    "\n",
    "__6__"
   ]
  },
  {
   "cell_type": "markdown",
   "metadata": {},
   "source": [
    "## <font color=red>03 - Building deep learning models with keras  </font> \n",
    "\n",
    " In this chapter, you'll use the keras library to build deep learning models for both regression as well as classification! You'll learn about the Specify-Compile-Fit workflow that you can use to make predictions and by the end of this chapter, you'll have all the tools necessary to build deep neural networks! "
   ]
  },
  {
   "attachments": {},
   "cell_type": "markdown",
   "metadata": {},
   "source": [
    "<img src=\"./pics/24.png\" width=\"600\">"
   ]
  },
  {
   "cell_type": "markdown",
   "metadata": {},
   "source": [
    "<div class=\"exercise--assignment exercise--typography\"><h1 class=\"exercise--title\">Understanding your data</h1><div class=\"\"><p><p>You will soon start building models in Keras to predict wages based on various professional and demographic factors. Before you start building a model, it's good to understand your data by performing some exploratory analysis.</p>\n",
    "<p>The data is pre-loaded into a pandas DataFrame called <code>df</code>.  Use the <code>.head()</code> and <code>.describe()</code> methods in the IPython Shell for a quick overview of the DataFrame.</p>\n",
    "<p>The target variable you'll be predicting is <code>wage_per_hour</code>. Some of the predictor variables are binary indicators, where a value of 1 represents <code>True</code>, and 0 represents <code>False</code>.</p>\n",
    "<p>Of the 9 predictor variables in the DataFrame, how many are binary indicators? The min and max values as shown by <code>.describe()</code> will be informative here.\n",
    "How many binary indicator predictors are there?</p></div></div>\n",
    "\n",
    "6"
   ]
  },
  {
   "cell_type": "code",
   "execution_count": 21,
   "metadata": {},
   "outputs": [],
   "source": [
    "df= pd.read_csv('./data/hourly_wages.csv')\n",
    "predictors = df.drop('wage_per_hour', axis=1).values\n",
    "target = df['wage_per_hour'].values"
   ]
  },
  {
   "cell_type": "code",
   "execution_count": 22,
   "metadata": {},
   "outputs": [
    {
     "name": "stdout",
     "output_type": "stream",
     "text": [
      "<class 'pandas.core.frame.DataFrame'>\n",
      "RangeIndex: 534 entries, 0 to 533\n",
      "Data columns (total 10 columns):\n",
      "wage_per_hour     534 non-null float64\n",
      "union             534 non-null int64\n",
      "education_yrs     534 non-null int64\n",
      "experience_yrs    534 non-null int64\n",
      "age               534 non-null int64\n",
      "female            534 non-null int64\n",
      "marr              534 non-null int64\n",
      "south             534 non-null int64\n",
      "manufacturing     534 non-null int64\n",
      "construction      534 non-null int64\n",
      "dtypes: float64(1), int64(9)\n",
      "memory usage: 41.8 KB\n"
     ]
    }
   ],
   "source": [
    "df.info()"
   ]
  },
  {
   "cell_type": "code",
   "execution_count": 23,
   "metadata": {
    "scrolled": true
   },
   "outputs": [
    {
     "data": {
      "text/html": [
       "<div>\n",
       "<style scoped>\n",
       "    .dataframe tbody tr th:only-of-type {\n",
       "        vertical-align: middle;\n",
       "    }\n",
       "\n",
       "    .dataframe tbody tr th {\n",
       "        vertical-align: top;\n",
       "    }\n",
       "\n",
       "    .dataframe thead th {\n",
       "        text-align: right;\n",
       "    }\n",
       "</style>\n",
       "<table border=\"1\" class=\"dataframe\">\n",
       "  <thead>\n",
       "    <tr style=\"text-align: right;\">\n",
       "      <th></th>\n",
       "      <th>wage_per_hour</th>\n",
       "      <th>union</th>\n",
       "      <th>education_yrs</th>\n",
       "      <th>experience_yrs</th>\n",
       "      <th>age</th>\n",
       "      <th>female</th>\n",
       "      <th>marr</th>\n",
       "      <th>south</th>\n",
       "      <th>manufacturing</th>\n",
       "      <th>construction</th>\n",
       "    </tr>\n",
       "  </thead>\n",
       "  <tbody>\n",
       "    <tr>\n",
       "      <th>0</th>\n",
       "      <td>5.10</td>\n",
       "      <td>0</td>\n",
       "      <td>8</td>\n",
       "      <td>21</td>\n",
       "      <td>35</td>\n",
       "      <td>1</td>\n",
       "      <td>1</td>\n",
       "      <td>0</td>\n",
       "      <td>1</td>\n",
       "      <td>0</td>\n",
       "    </tr>\n",
       "    <tr>\n",
       "      <th>1</th>\n",
       "      <td>4.95</td>\n",
       "      <td>0</td>\n",
       "      <td>9</td>\n",
       "      <td>42</td>\n",
       "      <td>57</td>\n",
       "      <td>1</td>\n",
       "      <td>1</td>\n",
       "      <td>0</td>\n",
       "      <td>1</td>\n",
       "      <td>0</td>\n",
       "    </tr>\n",
       "    <tr>\n",
       "      <th>2</th>\n",
       "      <td>6.67</td>\n",
       "      <td>0</td>\n",
       "      <td>12</td>\n",
       "      <td>1</td>\n",
       "      <td>19</td>\n",
       "      <td>0</td>\n",
       "      <td>0</td>\n",
       "      <td>0</td>\n",
       "      <td>1</td>\n",
       "      <td>0</td>\n",
       "    </tr>\n",
       "    <tr>\n",
       "      <th>3</th>\n",
       "      <td>4.00</td>\n",
       "      <td>0</td>\n",
       "      <td>12</td>\n",
       "      <td>4</td>\n",
       "      <td>22</td>\n",
       "      <td>0</td>\n",
       "      <td>0</td>\n",
       "      <td>0</td>\n",
       "      <td>0</td>\n",
       "      <td>0</td>\n",
       "    </tr>\n",
       "    <tr>\n",
       "      <th>4</th>\n",
       "      <td>7.50</td>\n",
       "      <td>0</td>\n",
       "      <td>12</td>\n",
       "      <td>17</td>\n",
       "      <td>35</td>\n",
       "      <td>0</td>\n",
       "      <td>1</td>\n",
       "      <td>0</td>\n",
       "      <td>0</td>\n",
       "      <td>0</td>\n",
       "    </tr>\n",
       "  </tbody>\n",
       "</table>\n",
       "</div>"
      ],
      "text/plain": [
       "   wage_per_hour  union  education_yrs  experience_yrs  age  female  marr  \\\n",
       "0           5.10      0              8              21   35       1     1   \n",
       "1           4.95      0              9              42   57       1     1   \n",
       "2           6.67      0             12               1   19       0     0   \n",
       "3           4.00      0             12               4   22       0     0   \n",
       "4           7.50      0             12              17   35       0     1   \n",
       "\n",
       "   south  manufacturing  construction  \n",
       "0      0              1             0  \n",
       "1      0              1             0  \n",
       "2      0              1             0  \n",
       "3      0              0             0  \n",
       "4      0              0             0  "
      ]
     },
     "execution_count": 23,
     "metadata": {},
     "output_type": "execute_result"
    }
   ],
   "source": [
    "df.head()"
   ]
  },
  {
   "cell_type": "code",
   "execution_count": 24,
   "metadata": {},
   "outputs": [
    {
     "data": {
      "text/html": [
       "<div>\n",
       "<style scoped>\n",
       "    .dataframe tbody tr th:only-of-type {\n",
       "        vertical-align: middle;\n",
       "    }\n",
       "\n",
       "    .dataframe tbody tr th {\n",
       "        vertical-align: top;\n",
       "    }\n",
       "\n",
       "    .dataframe thead th {\n",
       "        text-align: right;\n",
       "    }\n",
       "</style>\n",
       "<table border=\"1\" class=\"dataframe\">\n",
       "  <thead>\n",
       "    <tr style=\"text-align: right;\">\n",
       "      <th></th>\n",
       "      <th>wage_per_hour</th>\n",
       "      <th>union</th>\n",
       "      <th>education_yrs</th>\n",
       "      <th>experience_yrs</th>\n",
       "      <th>age</th>\n",
       "      <th>female</th>\n",
       "      <th>marr</th>\n",
       "      <th>south</th>\n",
       "      <th>manufacturing</th>\n",
       "      <th>construction</th>\n",
       "    </tr>\n",
       "  </thead>\n",
       "  <tbody>\n",
       "    <tr>\n",
       "      <th>count</th>\n",
       "      <td>534.000000</td>\n",
       "      <td>534.000000</td>\n",
       "      <td>534.000000</td>\n",
       "      <td>534.000000</td>\n",
       "      <td>534.000000</td>\n",
       "      <td>534.000000</td>\n",
       "      <td>534.000000</td>\n",
       "      <td>534.000000</td>\n",
       "      <td>534.000000</td>\n",
       "      <td>534.000000</td>\n",
       "    </tr>\n",
       "    <tr>\n",
       "      <th>mean</th>\n",
       "      <td>9.024064</td>\n",
       "      <td>0.179775</td>\n",
       "      <td>13.018727</td>\n",
       "      <td>17.822097</td>\n",
       "      <td>36.833333</td>\n",
       "      <td>0.458801</td>\n",
       "      <td>0.655431</td>\n",
       "      <td>0.292135</td>\n",
       "      <td>0.185393</td>\n",
       "      <td>0.044944</td>\n",
       "    </tr>\n",
       "    <tr>\n",
       "      <th>std</th>\n",
       "      <td>5.139097</td>\n",
       "      <td>0.384360</td>\n",
       "      <td>2.615373</td>\n",
       "      <td>12.379710</td>\n",
       "      <td>11.726573</td>\n",
       "      <td>0.498767</td>\n",
       "      <td>0.475673</td>\n",
       "      <td>0.455170</td>\n",
       "      <td>0.388981</td>\n",
       "      <td>0.207375</td>\n",
       "    </tr>\n",
       "    <tr>\n",
       "      <th>min</th>\n",
       "      <td>1.000000</td>\n",
       "      <td>0.000000</td>\n",
       "      <td>2.000000</td>\n",
       "      <td>0.000000</td>\n",
       "      <td>18.000000</td>\n",
       "      <td>0.000000</td>\n",
       "      <td>0.000000</td>\n",
       "      <td>0.000000</td>\n",
       "      <td>0.000000</td>\n",
       "      <td>0.000000</td>\n",
       "    </tr>\n",
       "    <tr>\n",
       "      <th>25%</th>\n",
       "      <td>5.250000</td>\n",
       "      <td>0.000000</td>\n",
       "      <td>12.000000</td>\n",
       "      <td>8.000000</td>\n",
       "      <td>28.000000</td>\n",
       "      <td>0.000000</td>\n",
       "      <td>0.000000</td>\n",
       "      <td>0.000000</td>\n",
       "      <td>0.000000</td>\n",
       "      <td>0.000000</td>\n",
       "    </tr>\n",
       "    <tr>\n",
       "      <th>50%</th>\n",
       "      <td>7.780000</td>\n",
       "      <td>0.000000</td>\n",
       "      <td>12.000000</td>\n",
       "      <td>15.000000</td>\n",
       "      <td>35.000000</td>\n",
       "      <td>0.000000</td>\n",
       "      <td>1.000000</td>\n",
       "      <td>0.000000</td>\n",
       "      <td>0.000000</td>\n",
       "      <td>0.000000</td>\n",
       "    </tr>\n",
       "    <tr>\n",
       "      <th>75%</th>\n",
       "      <td>11.250000</td>\n",
       "      <td>0.000000</td>\n",
       "      <td>15.000000</td>\n",
       "      <td>26.000000</td>\n",
       "      <td>44.000000</td>\n",
       "      <td>1.000000</td>\n",
       "      <td>1.000000</td>\n",
       "      <td>1.000000</td>\n",
       "      <td>0.000000</td>\n",
       "      <td>0.000000</td>\n",
       "    </tr>\n",
       "    <tr>\n",
       "      <th>max</th>\n",
       "      <td>44.500000</td>\n",
       "      <td>1.000000</td>\n",
       "      <td>18.000000</td>\n",
       "      <td>55.000000</td>\n",
       "      <td>64.000000</td>\n",
       "      <td>1.000000</td>\n",
       "      <td>1.000000</td>\n",
       "      <td>1.000000</td>\n",
       "      <td>1.000000</td>\n",
       "      <td>1.000000</td>\n",
       "    </tr>\n",
       "  </tbody>\n",
       "</table>\n",
       "</div>"
      ],
      "text/plain": [
       "       wage_per_hour       union  education_yrs  experience_yrs         age  \\\n",
       "count     534.000000  534.000000     534.000000      534.000000  534.000000   \n",
       "mean        9.024064    0.179775      13.018727       17.822097   36.833333   \n",
       "std         5.139097    0.384360       2.615373       12.379710   11.726573   \n",
       "min         1.000000    0.000000       2.000000        0.000000   18.000000   \n",
       "25%         5.250000    0.000000      12.000000        8.000000   28.000000   \n",
       "50%         7.780000    0.000000      12.000000       15.000000   35.000000   \n",
       "75%        11.250000    0.000000      15.000000       26.000000   44.000000   \n",
       "max        44.500000    1.000000      18.000000       55.000000   64.000000   \n",
       "\n",
       "           female        marr       south  manufacturing  construction  \n",
       "count  534.000000  534.000000  534.000000     534.000000    534.000000  \n",
       "mean     0.458801    0.655431    0.292135       0.185393      0.044944  \n",
       "std      0.498767    0.475673    0.455170       0.388981      0.207375  \n",
       "min      0.000000    0.000000    0.000000       0.000000      0.000000  \n",
       "25%      0.000000    0.000000    0.000000       0.000000      0.000000  \n",
       "50%      0.000000    1.000000    0.000000       0.000000      0.000000  \n",
       "75%      1.000000    1.000000    1.000000       0.000000      0.000000  \n",
       "max      1.000000    1.000000    1.000000       1.000000      1.000000  "
      ]
     },
     "execution_count": 24,
     "metadata": {},
     "output_type": "execute_result"
    }
   ],
   "source": [
    "df.describe()"
   ]
  },
  {
   "cell_type": "markdown",
   "metadata": {},
   "source": [
    "<div class=\"exercise--assignment exercise--typography\"><h1 class=\"exercise--title\">Specifying a model</h1><div class=\"\"><p><p>Now you'll get to work with your first model in Keras, and will immediately be able to run more complex neural network models on larger datasets compared to the first two chapters.</p>\n",
    "<p>To start, you'll take the skeleton of a neural network and add a hidden layer and an output layer. You'll then fit that model and see Keras do the optimization so your model continually gets better.</p>\n",
    "<p>As a start, you'll predict workers wages based on characteristics like their industry, education and level of experience.  You can find the dataset in a pandas dataframe called <code>df</code>.  For convenience, everything in <code>df</code> except for the target has been converted to a NumPy matrix called <code>predictors</code>. The target, <code>wage_per_hour</code>, is available as a NumPy matrix called <code>target</code>.</p>\n",
    "<p>For all exercises in this chapter, we've imported the <code>Sequential</code> model constructor, the <code>Dense</code> layer constructor, and pandas.</p></div></div>"
   ]
  },
  {
   "cell_type": "code",
   "execution_count": 28,
   "metadata": {},
   "outputs": [],
   "source": [
    "# Import necessary modules\n",
    "import keras\n",
    "from keras.layers import Dense\n",
    "from keras.models import Sequential\n",
    "\n",
    "# Save the number of columns in predictors: n_cols\n",
    "n_cols = predictors.shape[1]\n",
    "\n",
    "# Set up the model: model\n",
    "model = Sequential()\n",
    "\n",
    "# Add the first layer\n",
    "model.add(Dense(50, activation='relu', input_shape=(n_cols,)))\n",
    "\n",
    "# Add the second layer\n",
    "model.add(Dense(32, activation='relu'))\n",
    "\n",
    "# Add the output layer\n",
    "model.add(Dense(1))"
   ]
  },
  {
   "attachments": {},
   "cell_type": "markdown",
   "metadata": {},
   "source": [
    "<img src=\"./pics/25.png\" width=\"600\">"
   ]
  },
  {
   "attachments": {},
   "cell_type": "markdown",
   "metadata": {},
   "source": [
    "<img src=\"./pics/26.png\" width=\"600\">"
   ]
  },
  {
   "cell_type": "markdown",
   "metadata": {},
   "source": [
    "<div class=\"exercise--assignment exercise--typography\"><h1 class=\"exercise--title\">Compiling the model</h1><div class=\"\"><p><p>You're now going to compile the model you specified earlier. To compile the model, you need to specify the optimizer and loss function to use. In the video, Dan mentioned that the Adam optimizer is an excellent choice. You can read more about it as well as other keras optimizers <a href=\"https://keras.io/optimizers/#adam\" target=\"_blank\" rel=\"noopener noreferrer\">here</a>, and if you are really curious to learn more, you can read the <a href=\"https://arxiv.org/abs/1412.6980v8\" target=\"_blank\" rel=\"noopener noreferrer\">original paper</a> that introduced the Adam optimizer.</p>\n",
    "<p>In this exercise, you'll use the Adam optimizer and the mean squared error loss function. Go for it!</p></div></div>"
   ]
  },
  {
   "cell_type": "code",
   "execution_count": 29,
   "metadata": {},
   "outputs": [
    {
     "name": "stdout",
     "output_type": "stream",
     "text": [
      "Loss function: mean_squared_error\n"
     ]
    }
   ],
   "source": [
    "# Import necessary modules\n",
    "import keras\n",
    "from keras.layers import Dense\n",
    "from keras.models import Sequential\n",
    "\n",
    "# Specify the model\n",
    "n_cols = predictors.shape[1]\n",
    "model = Sequential()\n",
    "model.add(Dense(50, activation='relu', input_shape = (n_cols,)))\n",
    "model.add(Dense(32, activation='relu'))\n",
    "model.add(Dense(1))\n",
    "\n",
    "# Compile the model\n",
    "model.compile(optimizer='adam', loss='mean_squared_error')\n",
    "\n",
    "# Verify that model contains information from compiling\n",
    "print(\"Loss function: \" + model.loss)"
   ]
  },
  {
   "cell_type": "markdown",
   "metadata": {},
   "source": [
    "<div class=\"exercise--assignment exercise--typography\"><h1 class=\"exercise--title\">Fitting the model</h1><div class=\"\"><p><p>You're at the most fun part. You'll now fit the model. Recall that the data to be used as predictive features is loaded in a NumPy matrix called <code>predictors</code> and the data to be predicted is stored in a NumPy matrix called <code>target</code>. Your <code>model</code> is pre-written and it has been compiled with the code from the previous exercise.</p></div></div>"
   ]
  },
  {
   "cell_type": "code",
   "execution_count": 34,
   "metadata": {},
   "outputs": [
    {
     "name": "stdout",
     "output_type": "stream",
     "text": [
      "Epoch 1/10\n",
      "534/534 [==============================] - 1s 2ms/step - loss: 43.8490\n",
      "Epoch 2/10\n",
      "534/534 [==============================] - 0s 97us/step - loss: 29.4287\n",
      "Epoch 3/10\n",
      "534/534 [==============================] - 0s 88us/step - loss: 26.1476\n",
      "Epoch 4/10\n",
      "534/534 [==============================] - 0s 146us/step - loss: 24.4325\n",
      "Epoch 5/10\n",
      "534/534 [==============================] - 0s 92us/step - loss: 23.1868\n",
      "Epoch 6/10\n",
      "534/534 [==============================] - 0s 107us/step - loss: 22.4542\n",
      "Epoch 7/10\n",
      "534/534 [==============================] - 0s 90us/step - loss: 22.0103\n",
      "Epoch 8/10\n",
      "534/534 [==============================] - 0s 84us/step - loss: 21.6234\n",
      "Epoch 9/10\n",
      "534/534 [==============================] - 0s 77us/step - loss: 21.4946\n",
      "Epoch 10/10\n",
      "534/534 [==============================] - 0s 88us/step - loss: 21.2546\n"
     ]
    },
    {
     "data": {
      "text/plain": [
       "<keras.callbacks.History at 0x237999dd6d8>"
      ]
     },
     "execution_count": 34,
     "metadata": {},
     "output_type": "execute_result"
    }
   ],
   "source": [
    "# Import necessary modules\n",
    "import keras\n",
    "from keras.layers import Dense\n",
    "from keras.models import Sequential\n",
    "\n",
    "# Specify the model\n",
    "n_cols = predictors.shape[1]\n",
    "model = Sequential()\n",
    "model.add(Dense(50, activation='relu', input_shape = (n_cols,)))\n",
    "model.add(Dense(32, activation='relu'))\n",
    "model.add(Dense(1))\n",
    "\n",
    "# Compile the model\n",
    "model.compile(optimizer='adam', loss='mean_squared_error')\n",
    "\n",
    "# Fit the model\n",
    "model.fit(predictors, target, epochs=10)"
   ]
  },
  {
   "attachments": {},
   "cell_type": "markdown",
   "metadata": {},
   "source": [
    "<img src=\"./pics/27.png\" width=\"600\">"
   ]
  },
  {
   "cell_type": "markdown",
   "metadata": {},
   "source": [
    "<div class=\"exercise--assignment exercise--typography\"><h1 class=\"exercise--title\">Understanding your classification data</h1><div class=\"\"><p><p>Now you will start modeling with a new dataset for a classification problem. This data includes information about passengers on the Titanic.  You will use predictors such as <code>age</code>, <code>fare</code> and where each passenger embarked from to predict who will survive.  This data is from <a href=\"https://www.kaggle.com/c/titanic\" target=\"_blank\" rel=\"noopener noreferrer\">a tutorial on data science competitions</a>.  Look <a href=\"https://www.kaggle.com/c/titanic/data\" target=\"_blank\" rel=\"noopener noreferrer\">here</a> for descriptions of the features.</p>\n",
    "<p>The data is pre-loaded in a pandas DataFrame called <code>df</code>.</p>\n",
    "<p>It's smart to review the maximum and minimum values of each variable to ensure the data isn't misformatted or corrupted.  What was the maximum age of passengers on the Titanic? Use the <code>.describe()</code> method in the IPython Shell to answer this question.</p></div></div>"
   ]
  },
  {
   "cell_type": "code",
   "execution_count": 39,
   "metadata": {},
   "outputs": [],
   "source": [
    "df = pd.read_csv('./data/titanic_all_numeric.csv')\n",
    "#target= df.survived.values\n",
    "predictors = df.drop('survived', axis=1).values\n",
    "n_cols = 10"
   ]
  },
  {
   "cell_type": "code",
   "execution_count": 36,
   "metadata": {},
   "outputs": [
    {
     "data": {
      "text/plain": [
       "80.0"
      ]
     },
     "execution_count": 36,
     "metadata": {},
     "output_type": "execute_result"
    }
   ],
   "source": [
    "df.age.max()"
   ]
  },
  {
   "cell_type": "markdown",
   "metadata": {},
   "source": [
    "<div class=\"exercise--assignment exercise--typography\"><h1 class=\"exercise--title\">Last steps in classification models</h1><div class=\"\"><p><p>You'll now create a classification model using the titanic dataset, which has been pre-loaded into a DataFrame called <code>df</code>. You'll take information about the passengers and predict which ones survived. </p>\n",
    "<p>The predictive variables are stored in a NumPy array <code>predictors</code>. The target to predict is in <code>df.survived</code>, though you'll have to manipulate it for keras. The number of predictive features is stored in <code>n_cols</code>. </p>\n",
    "<p>Here, you'll use the <code>'sgd'</code> optimizer, which stands for <a href=\"https://en.wikipedia.org/wiki/Stochastic_gradient_descent\" target=\"_blank\" rel=\"noopener noreferrer\">Stochastic Gradient Descent</a>. You'll learn more about this in the next chapter!</p></div></div>"
   ]
  },
  {
   "cell_type": "code",
   "execution_count": 43,
   "metadata": {},
   "outputs": [
    {
     "name": "stdout",
     "output_type": "stream",
     "text": [
      "Epoch 1/10\n",
      "891/891 [==============================] - 1s 820us/step - loss: 3.4577 - acc: 0.5421\n",
      "Epoch 2/10\n",
      "891/891 [==============================] - 0s 93us/step - loss: 1.2121 - acc: 0.6341\n",
      "Epoch 3/10\n",
      "891/891 [==============================] - 0s 85us/step - loss: 0.6338 - acc: 0.6857\n",
      "Epoch 4/10\n",
      "891/891 [==============================] - 0s 91us/step - loss: 0.7338 - acc: 0.6386\n",
      "Epoch 5/10\n",
      "891/891 [==============================] - 0s 71us/step - loss: 0.6147 - acc: 0.6824\n",
      "Epoch 6/10\n",
      "891/891 [==============================] - 0s 56us/step - loss: 0.6011 - acc: 0.6801\n",
      "Epoch 7/10\n",
      "891/891 [==============================] - 0s 54us/step - loss: 0.5941 - acc: 0.6914\n",
      "Epoch 8/10\n",
      "891/891 [==============================] - 0s 56us/step - loss: 0.5932 - acc: 0.6936\n",
      "Epoch 9/10\n",
      "891/891 [==============================] - 0s 59us/step - loss: 0.5876 - acc: 0.6936\n",
      "Epoch 10/10\n",
      "891/891 [==============================] - 0s 65us/step - loss: 0.5747 - acc: 0.7003\n"
     ]
    },
    {
     "data": {
      "text/plain": [
       "<keras.callbacks.History at 0x2378efe5320>"
      ]
     },
     "execution_count": 43,
     "metadata": {},
     "output_type": "execute_result"
    }
   ],
   "source": [
    "# Import necessary modules\n",
    "import keras\n",
    "from keras.layers import Dense\n",
    "from keras.models import Sequential\n",
    "from keras.utils import to_categorical\n",
    "\n",
    "# Convert the target to categorical: target\n",
    "target = to_categorical(df.survived)\n",
    "\n",
    "# Set up the model\n",
    "model = Sequential()\n",
    "\n",
    "# Add the first layer\n",
    "model.add(Dense(32, activation='relu', input_shape = (n_cols,)))\n",
    "\n",
    "# Add the output layer\n",
    "model.add(Dense(2, activation='softmax'))\n",
    "\n",
    "# Compile the model\n",
    "model.compile(optimizer='sgd', loss='categorical_crossentropy', metrics=['accuracy'])\n",
    "\n",
    "# Fit the model\n",
    "model.fit(predictors, target,epochs=10)"
   ]
  },
  {
   "attachments": {},
   "cell_type": "markdown",
   "metadata": {},
   "source": [
    "<img src=\"./pics/28.png\" width=\"600\">"
   ]
  },
  {
   "cell_type": "markdown",
   "metadata": {},
   "source": [
    "<div class=\"exercise--assignment exercise--typography\"><h1 class=\"exercise--title\">Making predictions</h1><div class=\"\"><p><p>The trained network from your previous coding exercise is now stored as <code>model</code>. New data to make predictions is stored in a NumPy array as <code>pred_data</code>.  Use <code>model</code> to make predictions on your new data.</p>\n",
    "<p>In this exercise, your predictions will be probabilities, which is the most common way for data scientists to communicate their predictions to colleagues.</p></div></div>"
   ]
  },
  {
   "cell_type": "code",
   "execution_count": 50,
   "metadata": {},
   "outputs": [
    {
     "data": {
      "text/plain": [
       "array([[3, 22.0, 1, ..., 0, 0, 1],\n",
       "       [1, 38.0, 1, ..., 1, 0, 0],\n",
       "       [3, 26.0, 0, ..., 0, 0, 1],\n",
       "       ...,\n",
       "       [3, 29.69911764705882, 1, ..., 0, 0, 1],\n",
       "       [1, 26.0, 0, ..., 1, 0, 0],\n",
       "       [3, 32.0, 0, ..., 0, 1, 0]], dtype=object)"
      ]
     },
     "execution_count": 50,
     "metadata": {},
     "output_type": "execute_result"
    }
   ],
   "source": [
    "df = pd.read_csv('./data/titanic_all_numeric.csv')\n",
    "pred_data = df.values[:,1:]\n",
    "pred_data"
   ]
  },
  {
   "cell_type": "code",
   "execution_count": 58,
   "metadata": {
    "scrolled": true
   },
   "outputs": [
    {
     "name": "stdout",
     "output_type": "stream",
     "text": [
      "Epoch 1/10\n",
      "891/891 [==============================] - 1s 958us/step - loss: 5.0757 - acc: 0.5421\n",
      "Epoch 2/10\n",
      "891/891 [==============================] - 0s 95us/step - loss: 1.8086 - acc: 0.6195\n",
      "Epoch 3/10\n",
      "891/891 [==============================] - 0s 104us/step - loss: 1.3240 - acc: 0.6195\n",
      "Epoch 4/10\n",
      "891/891 [==============================] - 0s 84us/step - loss: 0.7047 - acc: 0.6577\n",
      "Epoch 5/10\n",
      "891/891 [==============================] - 0s 89us/step - loss: 0.6981 - acc: 0.6801\n",
      "Epoch 6/10\n",
      "891/891 [==============================] - 0s 94us/step - loss: 0.6234 - acc: 0.6869\n",
      "Epoch 7/10\n",
      "891/891 [==============================] - 0s 102us/step - loss: 0.6019 - acc: 0.6992\n",
      "Epoch 8/10\n",
      "891/891 [==============================] - 0s 105us/step - loss: 0.6212 - acc: 0.6813\n",
      "Epoch 9/10\n",
      "891/891 [==============================] - 0s 94us/step - loss: 0.5840 - acc: 0.6958\n",
      "Epoch 10/10\n",
      "891/891 [==============================] - 0s 86us/step - loss: 0.5951 - acc: 0.6936\n",
      "[0.23817974 0.84052384 0.24670978 0.70979786 0.14906234 0.22521394\n",
      " 0.54738253 0.5205967  0.3304577  0.6264693 ]\n"
     ]
    }
   ],
   "source": [
    "### # Specify, compile, and fit the model\n",
    "model = Sequential()\n",
    "model.add(Dense(32, activation='relu', input_shape = (n_cols,)))\n",
    "model.add(Dense(2, activation='softmax'))\n",
    "model.compile(optimizer='sgd', \n",
    "              loss='categorical_crossentropy', \n",
    "              metrics=['accuracy'])\n",
    "model.fit(predictors, target, epochs=10)\n",
    "\n",
    "# Calculate predictions: predictions\n",
    "predictions = model.predict(pred_data)\n",
    "\n",
    "# Calculate predicted probability of survival: predicted_prob_true\n",
    "predicted_prob_true = predictions[:,1]\n",
    "\n",
    "# print predicted_prob_true\n",
    "print(predicted_prob_true[:10])"
   ]
  },
  {
   "cell_type": "code",
   "execution_count": 54,
   "metadata": {},
   "outputs": [
    {
     "name": "stdout",
     "output_type": "stream",
     "text": [
      "_________________________________________________________________\n",
      "Layer (type)                 Output Shape              Param #   \n",
      "=================================================================\n",
      "dense_33 (Dense)             (None, 32)                352       \n",
      "_________________________________________________________________\n",
      "dense_34 (Dense)             (None, 2)                 66        \n",
      "=================================================================\n",
      "Total params: 418\n",
      "Trainable params: 418\n",
      "Non-trainable params: 0\n",
      "_________________________________________________________________\n"
     ]
    }
   ],
   "source": [
    "model.summary()"
   ]
  },
  {
   "cell_type": "code",
   "execution_count": 56,
   "metadata": {},
   "outputs": [],
   "source": [
    "model.save('model_file.h5')"
   ]
  },
  {
   "cell_type": "code",
   "execution_count": 59,
   "metadata": {},
   "outputs": [
    {
     "name": "stdout",
     "output_type": "stream",
     "text": [
      "[0.30240995 0.62521374 0.40978152 0.56577605 0.27522495 0.38322538\n",
      " 0.5663069  0.47605383 0.49379933 0.56451344]\n"
     ]
    }
   ],
   "source": [
    "from keras.models import load_model\n",
    "my_model = load_model('model_file.h5')\n",
    "predictions = my_model.predict(pred_data)\n",
    "\n",
    "# Calculate predicted probability of survival: predicted_prob_true\n",
    "predicted_prob_true = predictions[:,1]\n",
    "\n",
    "# print predicted_prob_true\n",
    "print(predicted_prob_true[:10])"
   ]
  },
  {
   "cell_type": "markdown",
   "metadata": {},
   "source": [
    "## <font color=red>04 - Fine-tuning keras models   </font> \n",
    "\n",
    " Here, you'll learn how to optimize your deep learning models in keras. You'll learn how to validate your models, understand the concept of model capacity, and experiment with wider and deeper networks. Enjoy! "
   ]
  },
  {
   "attachments": {},
   "cell_type": "markdown",
   "metadata": {},
   "source": [
    "<img src=\"./pics/29.png\" width=\"600\">"
   ]
  },
  {
   "cell_type": "markdown",
   "metadata": {},
   "source": [
    "### Diagnosing optimization problems\n",
    "\n",
    "Which of the following could prevent a model from showing an improved loss in its first few epochs?\n",
    "\n",
    "- Learning rate too low.__\n",
    "- Learning rate too high.\n",
    "- Poor choice of activation function.\n",
    "- *All of the above."
   ]
  },
  {
   "cell_type": "markdown",
   "metadata": {},
   "source": [
    "<div class=\"listview__content\"><div class=\"exercise--assignment exercise--typography\"><h1 class=\"exercise--title\">Changing optimization parameters</h1><div class=\"\"><p><p>It's time to get your hands dirty with optimization.  You'll now try optimizing a model at a very low learning rate, a very high learning rate, and a \"just right\" learning rate.  You'll want to look at the results after running this exercise, remembering that a low value for the loss function is good.</p>\n",
    "<p>For these exercises, we've pre-loaded the predictors and target values from your previous classification models (predicting who would survive on the Titanic).  You'll want the optimization to start from scratch every time you change the learning rate, to give a fair comparison of how each learning rate did in your results. So we have created a function <code>get_new_model()</code> that creates an unoptimized model to optimize.</p></div></div></div>"
   ]
  },
  {
   "cell_type": "code",
   "execution_count": 78,
   "metadata": {},
   "outputs": [],
   "source": [
    "def get_new_model():\n",
    "    model = Sequential()\n",
    "    model.add(Dense(32, activation='relu', input_shape = (10,)))\n",
    "    model.add(Dense(2, activation='softmax'))\n",
    "    return model"
   ]
  },
  {
   "cell_type": "code",
   "execution_count": 83,
   "metadata": {},
   "outputs": [
    {
     "name": "stdout",
     "output_type": "stream",
     "text": [
      "\n",
      "\n",
      "Testing model with learning rate: 0.000001\n",
      "\n",
      "Epoch 1/2\n",
      "891/891 [==============================] - 1s 1ms/step - loss: 1.5873\n",
      "Epoch 2/2\n",
      "891/891 [==============================] - 0s 70us/step - loss: 1.5863\n",
      "\n",
      "\n",
      "Testing model with learning rate: 0.010000\n",
      "\n",
      "Epoch 1/2\n",
      "891/891 [==============================] - 1s 1ms/step - loss: 2.8344\n",
      "Epoch 2/2\n",
      "891/891 [==============================] - 0s 70us/step - loss: 1.9257\n",
      "\n",
      "\n",
      "Testing model with learning rate: 1.000000\n",
      "\n",
      "Epoch 1/2\n",
      "891/891 [==============================] - 1s 1ms/step - loss: 6.1914\n",
      "Epoch 2/2\n",
      "891/891 [==============================] - 0s 99us/step - loss: 6.1867\n"
     ]
    }
   ],
   "source": [
    "# Import the SGD optimizer\n",
    "from keras.optimizers import SGD\n",
    "\n",
    "# Create list of learning rates: lr_to_test\n",
    "lr_to_test = [0.000001, 0.01, 1]\n",
    "\n",
    "# Loop over learning rates\n",
    "for lr in lr_to_test:\n",
    "    print('\\n\\nTesting model with learning rate: %f\\n'%lr )\n",
    "    \n",
    "    # Build new model to test, unaffected by previous models\n",
    "    model = get_new_model()\n",
    "    \n",
    "    # Create SGD optimizer with specified learning rate: my_optimizer\n",
    "    my_optimizer = SGD(lr=lr)\n",
    "    \n",
    "    # Compile the model\n",
    "    model.compile(optimizer=my_optimizer, loss='categorical_crossentropy')\n",
    "    \n",
    "    # Fit the model\n",
    "    model.fit(predictors,target, epochs=2)"
   ]
  },
  {
   "attachments": {},
   "cell_type": "markdown",
   "metadata": {},
   "source": [
    "<img src=\"./pics/30.png\" width=\"600\">"
   ]
  },
  {
   "cell_type": "markdown",
   "metadata": {},
   "source": [
    "<div class=\"exercise--assignment exercise--typography\"><h1 class=\"exercise--title\">Evaluating model accuracy on validation dataset</h1><div class=\"\"><p><p>Now it's your turn to monitor model accuracy with a validation data set. A model definition has been provided as <code>model</code>. Your job is to add the code to compile it and then fit it. You'll check the validation score in each epoch.</p></div></div>"
   ]
  },
  {
   "cell_type": "code",
   "execution_count": 86,
   "metadata": {},
   "outputs": [
    {
     "name": "stdout",
     "output_type": "stream",
     "text": [
      "Train on 623 samples, validate on 268 samples\n",
      "Epoch 1/10\n",
      "623/623 [==============================] - 2s 2ms/step - loss: 0.6814 - acc: 0.6180 - val_loss: 0.7586 - val_acc: 0.6530\n",
      "Epoch 2/10\n",
      "623/623 [==============================] - 0s 128us/step - loss: 0.6860 - acc: 0.6485 - val_loss: 0.6330 - val_acc: 0.7276\n",
      "Epoch 3/10\n",
      "623/623 [==============================] - 0s 148us/step - loss: 0.6584 - acc: 0.6469 - val_loss: 0.6367 - val_acc: 0.7015\n",
      "Epoch 4/10\n",
      "623/623 [==============================] - 0s 128us/step - loss: 0.5934 - acc: 0.7047 - val_loss: 0.6863 - val_acc: 0.6866\n",
      "Epoch 5/10\n",
      "623/623 [==============================] - 0s 156us/step - loss: 0.5878 - acc: 0.7030 - val_loss: 0.4955 - val_acc: 0.7500\n",
      "Epoch 6/10\n",
      "623/623 [==============================] - 0s 128us/step - loss: 0.5639 - acc: 0.7207 - val_loss: 0.5856 - val_acc: 0.6940\n",
      "Epoch 7/10\n",
      "623/623 [==============================] - 0s 128us/step - loss: 0.5793 - acc: 0.7207 - val_loss: 0.5188 - val_acc: 0.7313\n",
      "Epoch 8/10\n",
      "623/623 [==============================] - ETA: 0s - loss: 0.5325 - acc: 0.748 - 0s 143us/step - loss: 0.5269 - acc: 0.7528 - val_loss: 0.4615 - val_acc: 0.7537\n",
      "Epoch 9/10\n",
      "623/623 [==============================] - 0s 167us/step - loss: 0.5434 - acc: 0.7464 - val_loss: 0.4589 - val_acc: 0.7724\n",
      "Epoch 10/10\n",
      "623/623 [==============================] - 0s 144us/step - loss: 0.5416 - acc: 0.7464 - val_loss: 0.5492 - val_acc: 0.7127\n"
     ]
    }
   ],
   "source": [
    "# Save the number of columns in predictors: n_cols\n",
    "n_cols = predictors.shape[1]\n",
    "input_shape = (n_cols,)\n",
    "\n",
    "# Specify the model\n",
    "model = Sequential()\n",
    "model.add(Dense(100, activation='relu', input_shape = input_shape))\n",
    "model.add(Dense(100, activation='relu'))\n",
    "model.add(Dense(2, activation='softmax'))\n",
    "\n",
    "# Compile the model\n",
    "model.compile(optimizer='adam', loss='categorical_crossentropy', metrics=['accuracy'])\n",
    "\n",
    "# Fit the model\n",
    "hist = model.fit(predictors, target, validation_split=0.3, epochs = 10)"
   ]
  },
  {
   "cell_type": "markdown",
   "metadata": {},
   "source": [
    "<div class=\"exercise--assignment exercise--typography\"><h1 class=\"exercise--title\">Early stopping: Optimizing the optimization</h1><div class=\"\"><p><p>Now that you know how to monitor your model performance throughout optimization, you can use early stopping to stop optimization when it isn't helping any more.  Since the optimization stops automatically when it isn't helping, you can also set a high value for <code>epochs</code> in your call to <code>.fit()</code>, as Dan showed in the video.</p>\n",
    "<p>The model you'll optimize has been specified as <code>model</code>. As before, the data is pre-loaded as <code>predictors</code> and <code>target</code>.</p></div></div>"
   ]
  },
  {
   "cell_type": "code",
   "execution_count": 93,
   "metadata": {},
   "outputs": [
    {
     "name": "stdout",
     "output_type": "stream",
     "text": [
      "Train on 623 samples, validate on 268 samples\n",
      "Epoch 1/30\n",
      "623/623 [==============================] - 2s 3ms/step - loss: 1.6795 - acc: 0.5586 - val_loss: 0.7659 - val_acc: 0.7276\n",
      "Epoch 2/30\n",
      "623/623 [==============================] - 0s 175us/step - loss: 0.7871 - acc: 0.5923 - val_loss: 0.6024 - val_acc: 0.7351\n",
      "Epoch 3/30\n",
      "623/623 [==============================] - 0s 176us/step - loss: 0.6976 - acc: 0.6966 - val_loss: 0.7760 - val_acc: 0.6530\n",
      "Epoch 4/30\n",
      "623/623 [==============================] - 0s 146us/step - loss: 0.7358 - acc: 0.6388 - val_loss: 0.6316 - val_acc: 0.7351\n",
      "Epoch 5/30\n",
      "623/623 [==============================] - 0s 168us/step - loss: 0.6547 - acc: 0.6790 - val_loss: 0.5110 - val_acc: 0.7575\n",
      "Epoch 6/30\n",
      "623/623 [==============================] - 0s 168us/step - loss: 0.5738 - acc: 0.7111 - val_loss: 0.5033 - val_acc: 0.7500\n",
      "Epoch 7/30\n",
      "623/623 [==============================] - 0s 167us/step - loss: 0.5655 - acc: 0.7047 - val_loss: 0.4816 - val_acc: 0.7500\n",
      "Epoch 8/30\n",
      "623/623 [==============================] - 0s 172us/step - loss: 0.5911 - acc: 0.6838 - val_loss: 0.4803 - val_acc: 0.7612\n",
      "Epoch 9/30\n",
      "623/623 [==============================] - 0s 160us/step - loss: 0.5818 - acc: 0.7335 - val_loss: 0.4786 - val_acc: 0.7612\n",
      "Epoch 10/30\n",
      "623/623 [==============================] - 0s 184us/step - loss: 0.5525 - acc: 0.7159 - val_loss: 0.4874 - val_acc: 0.7575\n",
      "Epoch 11/30\n",
      "623/623 [==============================] - 0s 162us/step - loss: 0.5632 - acc: 0.7159 - val_loss: 0.4823 - val_acc: 0.7761\n",
      "Epoch 12/30\n",
      "623/623 [==============================] - 0s 167us/step - loss: 0.5421 - acc: 0.7319 - val_loss: 0.4645 - val_acc: 0.7463\n",
      "Epoch 13/30\n",
      "623/623 [==============================] - 0s 154us/step - loss: 0.5523 - acc: 0.7400 - val_loss: 0.4595 - val_acc: 0.7873\n",
      "Epoch 14/30\n",
      "623/623 [==============================] - 0s 170us/step - loss: 0.5819 - acc: 0.7223 - val_loss: 0.6204 - val_acc: 0.6791\n",
      "Epoch 15/30\n",
      "623/623 [==============================] - 0s 148us/step - loss: 0.5466 - acc: 0.7464 - val_loss: 0.5187 - val_acc: 0.8022\n",
      "Epoch 16/30\n",
      "623/623 [==============================] - 0s 143us/step - loss: 0.5588 - acc: 0.7255 - val_loss: 0.4464 - val_acc: 0.7873\n",
      "Epoch 17/30\n",
      "623/623 [==============================] - 0s 133us/step - loss: 0.5355 - acc: 0.7640 - val_loss: 0.5220 - val_acc: 0.7388\n",
      "Epoch 18/30\n",
      "623/623 [==============================] - 0s 167us/step - loss: 0.5185 - acc: 0.7705 - val_loss: 0.4849 - val_acc: 0.7351\n",
      "Epoch 19/30\n",
      "623/623 [==============================] - 0s 152us/step - loss: 0.5639 - acc: 0.7239 - val_loss: 0.4907 - val_acc: 0.8097\n",
      "Epoch 20/30\n",
      "623/623 [==============================] - 0s 160us/step - loss: 0.5346 - acc: 0.7464 - val_loss: 0.4681 - val_acc: 0.7836\n"
     ]
    },
    {
     "data": {
      "text/plain": [
       "<keras.callbacks.History at 0x237a9c29c88>"
      ]
     },
     "execution_count": 93,
     "metadata": {},
     "output_type": "execute_result"
    }
   ],
   "source": [
    "# Import EarlyStopping\n",
    "from keras.callbacks import EarlyStopping\n",
    "\n",
    "# Save the number of columns in predictors: n_cols\n",
    "n_cols = predictors.shape[1]\n",
    "input_shape = (n_cols,)\n",
    "\n",
    "# Specify the model\n",
    "model = Sequential()\n",
    "model.add(Dense(100, activation='relu', input_shape = input_shape))\n",
    "model.add(Dense(100, activation='relu'))\n",
    "model.add(Dense(2, activation='softmax'))\n",
    "\n",
    "# Compile the model\n",
    "model.compile(optimizer='adam', loss='categorical_crossentropy', metrics=['accuracy'])\n",
    "\n",
    "# Define early_stopping_monitor\n",
    "early_stopping_monitor = EarlyStopping(patience=4)\n",
    "\n",
    "# Fit the model\n",
    "model.fit(predictors, target, validation_split=0.3, epochs=30, callbacks=[early_stopping_monitor])"
   ]
  },
  {
   "cell_type": "markdown",
   "metadata": {},
   "source": [
    "<div class=\"exercise--assignment exercise--typography\"><h1 class=\"exercise--title\">Experimenting with wider networks</h1><div class=\"\"><p><p>Now you know everything you need to begin experimenting with different models!</p>\n",
    "<p>A model called <code>model_1</code> has been pre-loaded.  You can see a summary of this model printed in the IPython Shell.  This is a relatively small network, with only 10 units in each hidden layer. </p>\n",
    "<p>In this exercise you'll create a new model called <code>model_2</code> which is similar to <code>model_1</code>, except it has 100 units in each hidden layer.</p>\n",
    "<p>After you create <code>model_2</code>, both models will be fitted, and a graph showing both models loss score at each epoch will be shown.  We added the argument <code>verbose=False</code> in the fitting commands to print out fewer updates, since you will look at these graphically instead of as text.</p>\n",
    "<p>Because you are fitting two models, it will take a moment to see the outputs after you hit run, so be patient.</p></div></div>"
   ]
  },
  {
   "cell_type": "code",
   "execution_count": 101,
   "metadata": {},
   "outputs": [],
   "source": [
    "model_1 = Sequential()\n",
    "model_1.add(Dense(10, activation='relu', input_shape=input_shape))\n",
    "model_1.add(Dense(10, activation='relu'))\n",
    "model_1.add(Dense(2, activation='softmax'))\n",
    "model_1.compile(optimizer='adam', loss='categorical_crossentropy', metrics=['accuracy'])"
   ]
  },
  {
   "cell_type": "code",
   "execution_count": 102,
   "metadata": {},
   "outputs": [
    {
     "data": {
      "image/png": "[encoded data removed]",
      "text/plain": [
       "<Figure size 432x288 with 1 Axes>"
      ]
     },
     "metadata": {},
     "output_type": "display_data"
    }
   ],
   "source": [
    "# Define early_stopping_monitor\n",
    "early_stopping_monitor = EarlyStopping(patience=2)\n",
    "\n",
    "# Create the new model: model_2\n",
    "model_2 = Sequential()\n",
    "\n",
    "# Add the first and second layers\n",
    "model_2.add(Dense(100, activation='relu', input_shape=input_shape))\n",
    "model_2.add(Dense(100, activation='relu'))\n",
    "\n",
    "# Add the output layer\n",
    "model_2.add(Dense(2, activation='softmax'))\n",
    "\n",
    "# Compile model_2\n",
    "model_2.compile(optimizer='adam', loss='categorical_crossentropy', metrics=['accuracy'])\n",
    "\n",
    "# Fit model_1\n",
    "model_1_training = model_1.fit(predictors, target, epochs=15, validation_split=0.2, callbacks=[early_stopping_monitor], verbose=False)\n",
    "\n",
    "# Fit model_2\n",
    "model_2_training = model_2.fit(predictors, target, epochs=15, validation_split=0.2, callbacks=[early_stopping_monitor], verbose=False)\n",
    "\n",
    "# Create the plot\n",
    "plt.plot(model_1_training.history['val_loss'], 'r', model_2_training.history['val_loss'], 'b')\n",
    "plt.xlabel('Epochs')\n",
    "plt.ylabel('Validation score')\n",
    "plt.show()\n"
   ]
  },
  {
   "cell_type": "markdown",
   "metadata": {},
   "source": [
    "<div class=\"exercise--assignment exercise--typography\"><h1 class=\"exercise--title\">Adding layers to a network</h1><div class=\"\"><p><p>You've seen how to experiment with wider networks. In this exercise, you'll try a deeper network (more hidden layers).  </p>\n",
    "<p>Once again, you have a baseline model called <code>model_1</code> as a starting point. It has 1 hidden layer, with <code>50</code> units. You can see a summary of that model's structure printed out. You will create a similar network with 3 hidden layers (still keeping 50 units in each layer).</p>\n",
    "<p>This will again take a moment to fit both models, so you'll need to wait a few seconds to see the results after you run your code.</p></div></div>"
   ]
  },
  {
   "cell_type": "code",
   "execution_count": 106,
   "metadata": {},
   "outputs": [
    {
     "name": "stdout",
     "output_type": "stream",
     "text": [
      "_________________________________________________________________\n",
      "Layer (type)                 Output Shape              Param #   \n",
      "=================================================================\n",
      "dense_134 (Dense)            (None, 50)                550       \n",
      "_________________________________________________________________\n",
      "dense_135 (Dense)            (None, 2)                 102       \n",
      "=================================================================\n",
      "Total params: 652\n",
      "Trainable params: 652\n",
      "Non-trainable params: 0\n",
      "_________________________________________________________________\n"
     ]
    }
   ],
   "source": [
    "model_1 = Sequential()\n",
    "model_1.add(Dense(50, activation='relu', input_shape=input_shape))\n",
    "model_1.add(Dense(2, activation='softmax'))\n",
    "model_1.compile(optimizer='adam', loss='categorical_crossentropy', metrics=['accuracy'])\n",
    "model_1.summary()"
   ]
  },
  {
   "cell_type": "code",
   "execution_count": 107,
   "metadata": {},
   "outputs": [
    {
     "data": {
      "image/png": "[encoded data removed]",
      "text/plain": [
       "<Figure size 432x288 with 1 Axes>"
      ]
     },
     "metadata": {},
     "output_type": "display_data"
    }
   ],
   "source": [
    "# The input shape to use in the first hidden layer\n",
    "input_shape = (n_cols,)\n",
    "\n",
    "# Create the new model: model_2\n",
    "model_2 = Sequential()\n",
    "\n",
    "# Add the first, second, and third hidden layers\n",
    "model_2.add(Dense(50, activation='relu',input_shape=input_shape))\n",
    "model_2.add(Dense(50, activation='relu',))\n",
    "model_2.add(Dense(50, activation='relu'))\n",
    "\n",
    "# Add the output layer\n",
    "model_2.add(Dense(2, activation='softmax'))\n",
    "\n",
    "# Compile model_2\n",
    "model_2.compile(optimizer='adam', loss='categorical_crossentropy', metrics=['accuracy'])\n",
    "\n",
    "# Fit model 1\n",
    "model_1_training = model_1.fit(predictors, target, epochs=20, validation_split=0.4, \n",
    "                               callbacks=[early_stopping_monitor], verbose=False)\n",
    "\n",
    "# Fit model 2\n",
    "model_2_training = model_2.fit(predictors, target, epochs=20, validation_split=0.4, \n",
    "                               callbacks=[early_stopping_monitor], verbose=False)\n",
    "\n",
    "# Create the plot\n",
    "plt.plot(model_1_training.history['val_loss'], 'r', model_2_training.history['val_loss'], 'b')\n",
    "plt.xlabel('Epochs')\n",
    "plt.ylabel('Validation score')\n",
    "plt.show()"
   ]
  },
  {
   "attachments": {},
   "cell_type": "markdown",
   "metadata": {},
   "source": [
    "<img src=\"./pics/31.png\" width=\"600\">\n",
    "<img src=\"./pics/32.png\" width=\"600\">"
   ]
  },
  {
   "cell_type": "markdown",
   "metadata": {},
   "source": [
    "<div class=\"dc-u-p-24\"><h1 class=\"dc-h3\">Experimenting with model structures</h1><div class=\"\"><p><p>You've just run an experiment where you compared two networks that were identical except that the 2nd network had an extra hidden layer. You see that this 2nd network (the deeper network) had better performance. Given that, which of the following would be a good experiment to run next for even better performance?</p></div></div>\n",
    "\n",
    "- Try a new network with fewer layers than anything you have tried yet.\n",
    "- Use more units in each hidden layer. *\n",
    "- Use fewer units in each hidden layer."
   ]
  },
  {
   "cell_type": "markdown",
   "metadata": {},
   "source": [
    "<div class=\"exercise--assignment exercise--typography\"><h1 class=\"exercise--title\">Building your own digit recognition model</h1><div class=\"\"><p><p>You've reached the final exercise of the course - you now know everything you need to build an accurate model to recognize handwritten digits! </p>\n",
    "<p>We've already done the basic manipulation of the MNIST dataset shown in the video, so you have <code>X</code> and <code>y</code> loaded and ready to model with. <code>Sequential</code> and <code>Dense</code> from keras are also pre-imported.</p>\n",
    "<p>To add an extra challenge, we've loaded only 2500 images, rather than 60000 which you will see in some published results. Deep learning models perform better with more data, however, they also take longer to train, especially when they start becoming more complex. </p>\n",
    "<p>If you have a computer with a CUDA compatible GPU, you can take advantage of it to improve computation time. If you don't have a GPU, no problem! You can set up a deep learning environment in the cloud that can run your models on a GPU. Here is a <a href=\"https://www.datacamp.com/community/tutorials/deep-learning-jupyter-aws\" target=\"_blank\" rel=\"noopener noreferrer\">blog post</a> by Dan that explains how to do this - check it out after completing this exercise! It is a great next step as you continue your deep learning journey.</p>\n",
    "<p>Ready to take your deep learning to the next level? Check out <a href=\"https://www.datacamp.com/courses/advanced-deep-learning-with-keras-in-python\" target=\"_blank\" rel=\"noopener noreferrer\">Advanced Deep Learning with Keras in Python</a> to see how the Keras functional API lets you build domain knowledge to solve new types of problems. Once you know how to use the functional API, take a look at <a href=\"https://www.datacamp.com/courses/convolutional-neural-networks-for-image-processing\" target=\"_blank\" rel=\"noopener noreferrer\">\"Convolutional Neural Networks for Image Processing\"</a> to learn image-specific applications of Keras.</p></div></div>"
   ]
  },
  {
   "cell_type": "code",
   "execution_count": 120,
   "metadata": {},
   "outputs": [],
   "source": [
    "from sklearn import datasets\n",
    "digits = datasets.load_digits()\n",
    "X = digits.data\n",
    "y = np.eye(10)[digits.target]"
   ]
  },
  {
   "cell_type": "code",
   "execution_count": 123,
   "metadata": {},
   "outputs": [
    {
     "name": "stdout",
     "output_type": "stream",
     "text": [
      "Train on 1257 samples, validate on 540 samples\n",
      "Epoch 1/10\n",
      "1257/1257 [==============================] - 5s 4ms/step - loss: 3.2966 - acc: 0.3015 - val_loss: 1.2975 - val_acc: 0.5667\n",
      "Epoch 2/10\n",
      "1257/1257 [==============================] - 0s 208us/step - loss: 0.7849 - acc: 0.7558 - val_loss: 0.7544 - val_acc: 0.7704\n",
      "Epoch 3/10\n",
      "1257/1257 [==============================] - 0s 241us/step - loss: 0.4167 - acc: 0.8791 - val_loss: 0.5957 - val_acc: 0.8148\n",
      "Epoch 4/10\n",
      "1257/1257 [==============================] - 0s 274us/step - loss: 0.2619 - acc: 0.9204 - val_loss: 0.5019 - val_acc: 0.8444\n",
      "Epoch 5/10\n",
      "1257/1257 [==============================] - 0s 243us/step - loss: 0.1840 - acc: 0.9443 - val_loss: 0.4626 - val_acc: 0.8667\n",
      "Epoch 6/10\n",
      "1257/1257 [==============================] - 0s 297us/step - loss: 0.1369 - acc: 0.9602 - val_loss: 0.4224 - val_acc: 0.8796\n",
      "Epoch 7/10\n",
      "1257/1257 [==============================] - 0s 224us/step - loss: 0.1047 - acc: 0.9730 - val_loss: 0.4188 - val_acc: 0.8833\n",
      "Epoch 8/10\n",
      "1257/1257 [==============================] - 0s 252us/step - loss: 0.0809 - acc: 0.9785 - val_loss: 0.4094 - val_acc: 0.8852\n",
      "Epoch 9/10\n",
      "1257/1257 [==============================] - 0s 254us/step - loss: 0.0664 - acc: 0.9833 - val_loss: 0.3864 - val_acc: 0.8907\n",
      "Epoch 10/10\n",
      "1257/1257 [==============================] - 0s 210us/step - loss: 0.0525 - acc: 0.9897 - val_loss: 0.3701 - val_acc: 0.8926\n"
     ]
    },
    {
     "data": {
      "text/plain": [
       "<keras.callbacks.History at 0x237ab7c0b00>"
      ]
     },
     "execution_count": 123,
     "metadata": {},
     "output_type": "execute_result"
    }
   ],
   "source": [
    "# Create the model: model\n",
    "model = Sequential()\n",
    "\n",
    "# Add the first hidden layer\n",
    "model.add(Dense(50, activation='relu', input_shape=(64,)))\n",
    "\n",
    "# Add the second hidden layer\n",
    "model.add(Dense(50, activation='relu'))\n",
    "\n",
    "# Add the output layer\n",
    "model.add(Dense(10, activation='softmax'))\n",
    "\n",
    "# Compile the model\n",
    "model.compile(optimizer='adam',\n",
    "              loss='categorical_crossentropy',\n",
    "              metrics=['accuracy'])\n",
    "\n",
    "# Fit the model\n",
    "model.fit(X, y, validation_split=0.3, epochs=10)"
   ]
  }
 ],
 "metadata": {
  "kernelspec": {
   "display_name": "Python 3",
   "language": "python",
   "name": "python3"
  },
  "language_info": {
   "codemirror_mode": {
    "name": "ipython",
    "version": 3
   },
   "file_extension": ".py",
   "mimetype": "text/x-python",
   "name": "python",
   "nbconvert_exporter": "python",
   "pygments_lexer": "ipython3",
   "version": "3.6.5"
  }
 },
 "nbformat": 4,
 "nbformat_minor": 2
}
